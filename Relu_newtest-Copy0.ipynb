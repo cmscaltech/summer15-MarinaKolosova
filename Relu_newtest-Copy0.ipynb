{
 "metadata": {
  "name": "",
  "signature": "sha256:556c13c480b4a141c019683549d499ea583fc043744556bf44fc16471f132c7d"
 },
 "nbformat": 3,
 "nbformat_minor": 0,
 "worksheets": [
  {
   "cells": [
    {
     "cell_type": "code",
     "collapsed": false,
     "input": [
      "import math, string, random, itertools, copy\n",
      "import numpy as np\n",
      "from numpy import float32\n",
      "from math import sqrt\n",
      "import matplotlib.pyplot as plt\n",
      "from scipy.stats import poisson\n",
      "from copy        import deepcopy\n",
      "import time\n",
      "import theanets"
     ],
     "language": "python",
     "metadata": {},
     "outputs": [],
     "prompt_number": 3
    },
    {
     "cell_type": "code",
     "collapsed": false,
     "input": [
      "import h5py\n",
      "f=h5py.File(\"data/data.hdf5\")\n",
      "f.keys()\n",
      "f['data'].keys()\n",
      "\n",
      "global input_matrix\n",
      "global target_matrix\n",
      "global decorator_matrix\n",
      "\n",
      "# Load Data \n",
      "input_matrix     = f['data']['input'].value\n",
      "target_matrix    = f['data']['target'].value\n",
      "decorator_matrix = f['data']['deco'].value\n",
      "\n",
      "f.close()"
     ],
     "language": "python",
     "metadata": {},
     "outputs": [],
     "prompt_number": 4
    },
    {
     "cell_type": "code",
     "collapsed": false,
     "input": [
      "nInputs  = input_matrix.shape[1]\n",
      "nOutputs = target_matrix.shape[1]\n",
      "\n",
      "print \" Inputs=\", nInputs, \"       Outputs=\",nOutputs"
     ],
     "language": "python",
     "metadata": {},
     "outputs": [
      {
       "output_type": "stream",
       "stream": "stdout",
       "text": [
        " Inputs= 82        Outputs= 1\n"
       ]
      }
     ],
     "prompt_number": 5
    },
    {
     "cell_type": "code",
     "collapsed": false,
     "input": [
      "def allincluded(truncate, nHiddenLayers, nHiddenNeurons):\n",
      "    \n",
      "    IN_matrix     =input_matrix[0:truncate]\n",
      "    TAR_matrix    =target_matrix[0:truncate]  \n",
      "    \n",
      "    cut   =int(IN_matrix.shape[0]*0.8)\n",
      "    train =IN_matrix[:cut], TAR_matrix[:cut]    \n",
      "    valid =IN_matrix[cut:], TAR_matrix[cut:]\n",
      "\n",
      "    print \"Samples in Training Set=\", len(train[0])\n",
      "    print \"Samples in Validation Set=\", len(valid[0])\n",
      "    \n",
      "    # Build the NN\n",
      "    # -----------------------------------------------------------------------------------------------------------------------------------\n",
      "    # Topology: Feedforward\n",
      "    # Inputs = 82 (Jets 4-momenta (20 Jets maximum), METx, METy)\n",
      "    # Number of Hidden Layers = nHiddenLayers\n",
      "    # Activation function for Hidden Layers = RELU\n",
      "    # Outputs=1 (NN Trigger Bits= 0 or 1)\n",
      "    # Activation function for the Output Layer= RELU\n",
      "\n",
      "    exp=theanets.Experiment(theanets.feedforward.Regressor(layers=(nInputs,)+tuple([nHiddenNeurons for l in range(nHiddenLayers)])+ ( (nOutputs),)))  \n",
      "    # ------------------------------------------------------------------------------------------------------------------------------------\n",
      "    \n",
      "    fom          = 1.0\n",
      "    LearningRate = 0.0001\n",
      "    Epochs       = 0\n",
      "    batch_size   = 1000\n",
      "    \n",
      "    timing_start = time.mktime(time.gmtime())\n",
      "\n",
      "    for TrainError, ValError in exp.itertrain(train,valid, \n",
      "                                              learning_rate= LearningRate, \n",
      "                                              algo='rprop',\n",
      "                                              hidden_dropout=0.9, \n",
      "                                              iteration_size = 200,\n",
      "                                              batch_size=batch_size,\n",
      "                                              validate_every = 1,\n",
      "                                              patience=100, \n",
      "                                              min_improvement = 0.00001, \n",
      "                                              rms_halflife=0.99, \n",
      "                                              rms_regularizer=1e-09):\n",
      "        #print 'Epoch=', Epochs+1\n",
      "        if Epochs%1 == 0:\n",
      "            print 'Epoch=',Epochs+1, '     Training   Error =',TrainError['err'] , '           Validation Error =',ValError['err']\n",
      "        Epochs+=1\n",
      "        if Epochs == 20 :\n",
      "            break\n",
      "    \n",
      "    timing_end=time.mktime(time.gmtime())\n",
      "    \n",
      "    prediction = exp.network.predict(train[0])\n",
      "    goodness = np.asarray([[cut,(list(train[1][np.where(prediction>cut)]==1).count(True)+list(train[1][np.where(prediction<cut)]==0).count(True))/ float(train[0].shape[0])]  for cut in np.arange(0,1,0.05)])   \n",
      "    fom_train = max( goodness[:,1])    \n",
      "    \n",
      "    prediction = exp.network.predict(valid[0])\n",
      "    goodness   = np.asarray([[cut,(list(valid[1][np.where(prediction>cut)]==1).count(True)+list(valid[1][np.where(prediction<cut)]==0).count(True))/ float(valid[0].shape[0])]  for cut in np.arange(0,1,0.05)])\n",
      "    fom_valid  = max( goodness[:,1])     \n",
      "\n",
      "    MaxCut= goodness[np.where(goodness[:,1]==goodness[:,1].max())][0][0]\n",
      "\n",
      "    timing=timing_end-timing_start\n",
      "    \n",
      "    #exp.save('network-pickle.pkl.gz')\n",
      "    \n",
      "    return fom_valid, fom_train, MaxCut,timing"
     ],
     "language": "python",
     "metadata": {},
     "outputs": [],
     "prompt_number": 6
    },
    {
     "cell_type": "code",
     "collapsed": false,
     "input": [
      "mapAlgo=[]\n",
      "\n",
      "for iLayers in range(1,11):\n",
      "    for nHiddenNeurons in range(200, 1400, 200):\n",
      "        for truncate in range(10000, 100000, 10000):\n",
      "            fom_valid, fom_train, MaxCut, timing = allincluded(truncate, iLayers, nHiddenNeurons)\n",
      "            print  \"Samples=\",truncate,\" Hidden Neurons=\", nHiddenNeurons, \" Hid. Layers=\",iLayers, \"  FOM train=\",fom_train, \"FOM valid=\", fom_valid, \"  Time=\", timing, ' MaxCut=',MaxCut \n",
      "            mapAlgo.append((truncate, nHiddenNeurons, iLayers, fom_train, fom_valid, timing, MaxCut))"
     ],
     "language": "python",
     "metadata": {},
     "outputs": []
    },
    {
     "cell_type": "code",
     "collapsed": false,
     "input": [
      "print mapAlgo"
     ],
     "language": "python",
     "metadata": {},
     "outputs": [
      {
       "output_type": "stream",
       "stream": "stdout",
       "text": [
        "[(100000, 2, 200, 770.0, 0.88149999999999995, 0.89511249999999998, 0.5)]\n"
       ]
      }
     ],
     "prompt_number": 10
    }
   ],
   "metadata": {}
  }
 ]
}