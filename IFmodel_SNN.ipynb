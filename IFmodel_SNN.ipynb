{
 "metadata": {
  "name": "",
  "signature": "sha256:4d13675de9586e8c682ec0851d8ef0311bdd642591ee603b97f9eab29ee9e969"
 },
 "nbformat": 3,
 "nbformat_minor": 0,
 "worksheets": [
  {
   "cells": [
    {
     "cell_type": "code",
     "collapsed": false,
     "input": [
      "import h5py\n",
      "import theanets\n",
      "import time"
     ],
     "language": "python",
     "metadata": {},
     "outputs": [
      {
       "output_type": "stream",
       "stream": "stdout",
       "text": [
        "Couldn't import dot_parser, loading of dot files will not be possible.\n"
       ]
      }
     ],
     "prompt_number": 1
    },
    {
     "cell_type": "code",
     "collapsed": false,
     "input": [
      "from brian import *\n",
      "from brian.library.synapses import *\n",
      "from brian.clock import reinit_default_clock\n",
      "from brian.stdunits import kHz, Hz, ms\n",
      "from brian.network import Network\n",
      "from brian.monitor import StateMonitor, SpikeMonitor\n",
      "from brian.globalprefs import set_global_preferences\n",
      "from brian import clear\n",
      "\n",
      "import cPickle\n",
      "%matplotlib inline"
     ],
     "language": "python",
     "metadata": {},
     "outputs": [
      {
       "output_type": "stream",
       "stream": "stderr",
       "text": [
        "/usr/local/lib/python2.7/site-packages/brian-1.4.1-py2.7-linux-x86_64.egg/brian/utils/sparse_patch/__init__.py:39: UserWarning: Couldn't find matching sparse matrix patch for scipy version 0.15.1, but in most cases this shouldn't be a problem.\n",
        "  warnings.warn(\"Couldn't find matching sparse matrix patch for scipy version %s, but in most cases this shouldn't be a problem.\" % scipy.__version__)\n"
       ]
      }
     ],
     "prompt_number": 2
    },
    {
     "cell_type": "code",
     "collapsed": false,
     "input": [
      "f=h5py.File(\"data/data.hdf5\")\n",
      "f.keys()\n",
      "f['data'].keys()\n",
      "\n",
      "global input_matrix\n",
      "global target_matrix\n",
      "global decorator_matrix\n",
      "\n",
      "input_matrix     = f['data']['input'].value\n",
      "target_matrix    = f['data']['target'].value\n",
      "decorator_matrix = f['data']['deco'].value\n",
      "f.close()"
     ],
     "language": "python",
     "metadata": {},
     "outputs": [],
     "prompt_number": 3
    },
    {
     "cell_type": "code",
     "collapsed": false,
     "input": [
      "nInputs  = input_matrix.shape[1]\n",
      "nOutputs = target_matrix.shape[1]"
     ],
     "language": "python",
     "metadata": {},
     "outputs": [],
     "prompt_number": 4
    },
    {
     "cell_type": "code",
     "collapsed": false,
     "input": [
      "print \"Samples in input_matrix=\", len(input_matrix), \"       Inputs=\", nInputs, \"       Outputs=\",nOutputs"
     ],
     "language": "python",
     "metadata": {},
     "outputs": [
      {
       "output_type": "stream",
       "stream": "stdout",
       "text": [
        "Samples in input_matrix= 982638        Inputs= 82        Outputs= 1\n"
       ]
      }
     ],
     "prompt_number": 5
    },
    {
     "cell_type": "code",
     "collapsed": false,
     "input": [
      "truncate=10000          \n",
      "nHiddenNeurons=200\n",
      "iLayers=1\n",
      "\n",
      "# Create Training & Validation Set\n",
      "\n",
      "IN_matrix     = input_matrix[0:truncate,...]      \n",
      "TARGET_matrix = target_matrix[0:truncate,...]\n",
      "DEC_matrix    = decorator_matrix[0:truncate,...] \n",
      "    \n",
      "cut   =int(IN_matrix.shape[0]*0.8)\n",
      "train =IN_matrix[:cut], TARGET_matrix[:cut]    \n",
      "valid =IN_matrix[cut:], TARGET_matrix[cut:]"
     ],
     "language": "python",
     "metadata": {},
     "outputs": [],
     "prompt_number": 6
    },
    {
     "cell_type": "code",
     "collapsed": false,
     "input": [
      "for i, iSample in enumerate(train[0]):\n",
      "    minInput= min(iSample)\n",
      "    if(minInput < 0):\n",
      "        for j, jInput in enumerate(iSample):\n",
      "            if (jInput != 0.) :\n",
      "                train[0][i][j]=jInput - minInput\n",
      "    else:\n",
      "        print \"No negative values\"\n",
      "        print iSample"
     ],
     "language": "python",
     "metadata": {},
     "outputs": [],
     "prompt_number": 7
    },
    {
     "cell_type": "code",
     "collapsed": false,
     "input": [
      "# Build the NN\n",
      "# -----------------------------------------------------------------------------------------------------------------------------------\n",
      "# Topology: Feedforward\n",
      "# Inputs = 82 (Jets 4-momenta (20 Jets maximum), METx, METy)\n",
      "# Number of Hidden Layers = iLayers\n",
      "# Activation function for Hidden Layers = RELU\n",
      "# Outputs=1 (NN Trigger Bits= 0 or 1)\n",
      "# Activation function for the Output Layer= RELU \n",
      "\n",
      "experiment=theanets.feedforward.Regressor(layers=(nInputs,)+tuple([nHiddenNeurons for l in range(iLayers), 'relu'])+ ( (nOutputs, 'relu'),))    \n",
      "\n",
      "fom_train   = 1.0\n",
      "fom_valid   = 1.0\n",
      "LearningRate=0.001\n",
      "Epochs= 0\n",
      "    \n",
      "timing_start = time.mktime(time.gmtime())\n",
      "    \n",
      "for TrainError, ValError in experiment.itertrain(train,valid, learning_rate= LearningRate, algo='rprop',\n",
      "                                                 hidden_dropout=0.9, iteration_size = 400, batch_size=1000, \n",
      "                                                 validate_every = 1, patience=300, min_improvement = 0.000001, \n",
      "                                                 rms_halflife=0.99, rms_regularizer=1e-09):\n",
      "    print 'Epoch=', Epochs+1\n",
      "    if Epochs%1 == 0:\n",
      "        print 'Training   Error =',TrainError['err']\n",
      "        print 'Validation Error =',ValError['err']\n",
      "    \n",
      "    Epochs+=1\n",
      "    \n",
      "    if Epochs == 20 :\n",
      "        break\n",
      "\n",
      "experiment.save('network-pickle.pkl.gz')        \n",
      "prediction = experiment.predict(train[0])\n",
      "goodness = np.asarray([[cut,(list(train[1][np.where(prediction>cut)]==1).count(True)+list(train[1][np.where(prediction<cut)]==0).count(True))/ float(train[0].shape[0])]  for cut in np.arange(0,1,0.05)])   \n",
      "fom_train = max( goodness[:,1])    \n",
      "\n",
      "prediction = experiment.predict(valid[0])\n",
      "goodness   = np.asarray([[cut,(list(valid[1][np.where(prediction>cut)]==1).count(True)+list(valid[1][np.where(prediction<cut)]==0).count(True))/ float(valid[0].shape[0])]  for cut in np.arange(0,1,0.05)])\n",
      "fom_valid  = max( goodness[:,1])     \n",
      "\n",
      "MaxCut= goodness[np.where(goodness[:,1]==goodness[:,1].max())][0][0]\n",
      "timing_end=time.mktime(time.gmtime())\n",
      "timing=timing_end-timing_start\n",
      "    \n",
      "print 'Samples=', truncate,'    Hid. Layers=',iLayers, \"   Hid. Neurons=\", nHiddenNeurons, \"   F.O.M. train set=\",fom_train, \"   FOM valid. set=\", fom_valid, \" Time=\", timing, \" Max Cut=\", MaxCut          "
     ],
     "language": "python",
     "metadata": {},
     "outputs": [
      {
       "output_type": "stream",
       "stream": "stdout",
       "text": [
        "Epoch= 1\n",
        "Training   Error = 0.608125\n",
        "Validation Error = 0.6475\n",
        "Epoch="
       ]
      },
      {
       "output_type": "stream",
       "stream": "stdout",
       "text": [
        " 2\n",
        "Training   Error = 0.608125\n",
        "Validation Error = 0.6475\n",
        "Epoch="
       ]
      },
      {
       "output_type": "stream",
       "stream": "stdout",
       "text": [
        " 3\n",
        "Training   Error = 0.608125\n",
        "Validation Error = 0.6475\n",
        "Epoch="
       ]
      },
      {
       "output_type": "stream",
       "stream": "stdout",
       "text": [
        " 4\n",
        "Training   Error = 0.608125\n",
        "Validation Error = 0.6475\n",
        "Epoch="
       ]
      },
      {
       "output_type": "stream",
       "stream": "stdout",
       "text": [
        " 5\n",
        "Training   Error = 0.608125\n",
        "Validation Error = 0.6475\n",
        "Epoch="
       ]
      },
      {
       "output_type": "stream",
       "stream": "stdout",
       "text": [
        " 6\n",
        "Training   Error = 0.608125\n",
        "Validation Error = 0.6475\n",
        "Epoch="
       ]
      },
      {
       "output_type": "stream",
       "stream": "stdout",
       "text": [
        " 7\n",
        "Training   Error = 0.608125\n",
        "Validation Error = 0.6475\n",
        "Epoch="
       ]
      },
      {
       "output_type": "stream",
       "stream": "stdout",
       "text": [
        " 8\n",
        "Training   Error = 0.608125\n",
        "Validation Error = 0.6475\n",
        "Epoch="
       ]
      },
      {
       "output_type": "stream",
       "stream": "stdout",
       "text": [
        " 9\n",
        "Training   Error = 0.608125\n",
        "Validation Error = 0.6475\n",
        "Epoch="
       ]
      },
      {
       "output_type": "stream",
       "stream": "stdout",
       "text": [
        " 10\n",
        "Training   Error = 0.608125\n",
        "Validation Error = 0.6475\n",
        "Epoch="
       ]
      },
      {
       "output_type": "stream",
       "stream": "stdout",
       "text": [
        " 11\n",
        "Training   Error = 0.608125\n",
        "Validation Error = 0.6475\n",
        "Epoch="
       ]
      },
      {
       "output_type": "stream",
       "stream": "stdout",
       "text": [
        " 12\n",
        "Training   Error = 0.608125\n",
        "Validation Error = 0.6475\n",
        "Epoch="
       ]
      },
      {
       "output_type": "stream",
       "stream": "stdout",
       "text": [
        " 13\n",
        "Training   Error = 0.608125\n",
        "Validation Error = 0.6475\n",
        "Epoch="
       ]
      },
      {
       "output_type": "stream",
       "stream": "stdout",
       "text": [
        " 14\n",
        "Training   Error = 0.608125\n",
        "Validation Error = 0.6475\n",
        "Epoch="
       ]
      },
      {
       "output_type": "stream",
       "stream": "stdout",
       "text": [
        " 15\n",
        "Training   Error = 0.608125\n",
        "Validation Error = 0.6475\n",
        "Epoch="
       ]
      },
      {
       "output_type": "stream",
       "stream": "stdout",
       "text": [
        " 16\n",
        "Training   Error = 0.608125\n",
        "Validation Error = 0.6475\n",
        "Epoch="
       ]
      },
      {
       "output_type": "stream",
       "stream": "stdout",
       "text": [
        " 17\n",
        "Training   Error = 0.608125\n",
        "Validation Error = 0.6475\n",
        "Epoch="
       ]
      },
      {
       "output_type": "stream",
       "stream": "stdout",
       "text": [
        " 18\n",
        "Training   Error = 0.608125\n",
        "Validation Error = 0.6475\n",
        "Epoch="
       ]
      },
      {
       "output_type": "stream",
       "stream": "stdout",
       "text": [
        " 19\n",
        "Training   Error = 0.608125\n",
        "Validation Error = 0.6475\n",
        "Epoch="
       ]
      },
      {
       "output_type": "stream",
       "stream": "stdout",
       "text": [
        " 20\n",
        "Training   Error = 0.608125\n",
        "Validation Error = 0.6475\n",
        "Samples="
       ]
      },
      {
       "output_type": "stream",
       "stream": "stdout",
       "text": [
        " 10000     Hid. Layers= 1    Hid. Neurons= 200    F.O.M. train set= 0.391875    FOM valid. set= 0.3525  Time= 714.0  Max Cut= 0.05\n"
       ]
      }
     ],
     "prompt_number": 9
    },
    {
     "cell_type": "code",
     "collapsed": false,
     "input": [
      "# Get the weights from the RELU network\n",
      "\n",
      "Layers_Weights =[]                          #list of tuples: [(nNeurons, weights), ( tuple of the 3rd layer ), (  4th layer), .... ]\n",
      "\n",
      "for Layer in experiment.layers[1:]:\n",
      "    nNeurons  = Layer.size\n",
      "    Weights1  = experiment.find(Layer.name, 'w').get_value()\n",
      "    Layers_Weights.append((nNeurons, Weights1))                    # Layers_Weights -> only Hidden Layer(s) & Output Layer"
     ],
     "language": "python",
     "metadata": {},
     "outputs": [],
     "prompt_number": 10
    },
    {
     "cell_type": "code",
     "collapsed": false,
     "input": [
      "# Weight Normalization \n",
      "\n",
      "abs_max=0\n",
      "for layer_num, weights in enumerate(Layers_Weights):   \n",
      "    abs_max = max(abs_max, np.max(weights[1]))\n",
      "print abs_max\n",
      "for layer_num, weights in enumerate(Layers_Weights):   \n",
      "    for i, neuron in enumerate(weights[1]):\n",
      "        for j,iW in enumerate(neuron):\n",
      "            Layers_Weights[layer_num][1][i][j]=float(iW) / float(abs_max)"
     ],
     "language": "python",
     "metadata": {},
     "outputs": [
      {
       "output_type": "stream",
       "stream": "stdout",
       "text": [
        "0.216002098391\n"
       ]
      }
     ],
     "prompt_number": 15
    },
    {
     "cell_type": "code",
     "collapsed": false,
     "input": [
      "Layers_Weights"
     ],
     "language": "python",
     "metadata": {},
     "outputs": [
      {
       "metadata": {},
       "output_type": "pyout",
       "prompt_number": 16,
       "text": [
        "[(200, array([[-0.61124253, -0.11211361, -0.29189265, ..., -0.04495848,\n",
        "          -0.27029262, -0.00125981],\n",
        "         [ 0.10763899,  0.34859585,  0.28881983, ...,  0.29119762,\n",
        "           0.11324366,  0.06191263],\n",
        "         [ 0.05387105,  0.04691622,  0.09696584, ...,  0.06780238,\n",
        "          -0.55236002, -0.18383618],\n",
        "         ..., \n",
        "         [ 0.51594834,  0.07406034,  0.00818779, ..., -0.44522263,\n",
        "           0.19985191,  0.32558365],\n",
        "         [ 0.3898922 ,  0.04107397, -0.01853838, ..., -0.08709914,\n",
        "           0.19546446, -0.48875753],\n",
        "         [ 0.196172  , -0.70515071,  0.46037927, ..., -0.05751872,\n",
        "           0.46407216, -0.27099475]])),\n",
        " (200, array([[ 0.4490432 ,  0.00076344, -0.06909196, ...,  0.04658053,\n",
        "           0.09548475,  0.3488878 ],\n",
        "         [-0.01237605,  0.10370423,  0.03459832, ..., -0.14408688,\n",
        "          -0.29432049, -0.59756112],\n",
        "         [ 0.00903987,  0.39996699,  0.28027393, ..., -0.24245555,\n",
        "           0.27167159, -0.03330795],\n",
        "         ..., \n",
        "         [-0.05228876, -0.1928463 , -0.02492581, ...,  0.01840459,\n",
        "          -0.05271263,  0.14849015],\n",
        "         [-0.00533268, -0.2968384 ,  0.0863381 , ..., -0.10086918,\n",
        "           0.05315022,  0.06524019],\n",
        "         [-0.13239945, -0.33541047,  0.11852549, ...,  0.19550551,\n",
        "          -0.01495358, -0.01017114]])),\n",
        " (1, array([[ -4.67091060e-02],\n",
        "         [ -2.11436282e-01],\n",
        "         [ -8.98051473e-02],\n",
        "         [  1.33363274e-01],\n",
        "         [  1.18156878e-01],\n",
        "         [  5.81571691e-01],\n",
        "         [ -2.40408797e-01],\n",
        "         [ -1.08328288e-01],\n",
        "         [  4.17286407e-02],\n",
        "         [ -4.79150824e-01],\n",
        "         [  3.34622802e-02],\n",
        "         [  1.37221305e-01],\n",
        "         [ -2.35524851e-01],\n",
        "         [ -8.32666289e-02],\n",
        "         [ -1.37444198e-01],\n",
        "         [ -9.82366888e-02],\n",
        "         [  3.18187773e-01],\n",
        "         [  7.93401285e-02],\n",
        "         [ -3.49150584e-01],\n",
        "         [  1.44568657e-01],\n",
        "         [ -5.37692203e-02],\n",
        "         [ -2.68132823e-01],\n",
        "         [  1.66693282e-01],\n",
        "         [ -2.35722013e-01],\n",
        "         [  6.13279247e-04],\n",
        "         [  3.71610122e-01],\n",
        "         [  2.14344956e-01],\n",
        "         [  2.05358399e-01],\n",
        "         [  1.56212491e-02],\n",
        "         [ -5.98685908e-01],\n",
        "         [  3.36462861e-01],\n",
        "         [ -2.59001377e-01],\n",
        "         [  9.85149085e-03],\n",
        "         [  1.87479096e-01],\n",
        "         [  2.33392133e-01],\n",
        "         [ -7.78606273e-02],\n",
        "         [ -4.51565385e-01],\n",
        "         [  3.57194164e-01],\n",
        "         [ -6.66597910e-01],\n",
        "         [  6.67967474e-02],\n",
        "         [ -2.91196215e-01],\n",
        "         [ -5.20676857e-01],\n",
        "         [  5.56677766e-01],\n",
        "         [  1.37006833e-01],\n",
        "         [  1.55081810e-01],\n",
        "         [  6.52619483e-01],\n",
        "         [ -8.30475388e-02],\n",
        "         [ -2.44818474e-01],\n",
        "         [ -3.94640317e-01],\n",
        "         [ -9.81742044e-02],\n",
        "         [ -1.27985557e-01],\n",
        "         [  1.73887890e-01],\n",
        "         [ -6.57246769e-02],\n",
        "         [  3.65043494e-01],\n",
        "         [ -2.52568896e-01],\n",
        "         [  5.92092413e-02],\n",
        "         [  4.57663760e-02],\n",
        "         [ -4.59607539e-02],\n",
        "         [  8.18562047e-01],\n",
        "         [ -2.47697579e-01],\n",
        "         [ -6.84287454e-02],\n",
        "         [  1.60446935e-01],\n",
        "         [  6.57390200e-01],\n",
        "         [ -1.55843311e-01],\n",
        "         [  3.89505918e-01],\n",
        "         [  2.88515684e-01],\n",
        "         [ -1.83893802e-02],\n",
        "         [ -4.86006357e-01],\n",
        "         [ -1.65863823e-01],\n",
        "         [  1.95314012e-02],\n",
        "         [ -2.36919227e-02],\n",
        "         [ -3.38366941e-02],\n",
        "         [  2.26686125e-01],\n",
        "         [  6.47641909e-02],\n",
        "         [  2.44550596e-01],\n",
        "         [  6.20261179e-01],\n",
        "         [ -1.57647374e-01],\n",
        "         [ -3.90855784e-01],\n",
        "         [ -5.10065126e-02],\n",
        "         [  3.55686763e-01],\n",
        "         [  7.58708122e-02],\n",
        "         [ -1.32534748e-01],\n",
        "         [ -3.06113955e-01],\n",
        "         [  1.51069476e-01],\n",
        "         [ -4.96375070e-01],\n",
        "         [  3.01536051e-01],\n",
        "         [  5.68107217e-02],\n",
        "         [ -2.35004741e-01],\n",
        "         [  3.93892859e-01],\n",
        "         [  1.47902383e-01],\n",
        "         [  1.52064157e-01],\n",
        "         [ -2.12772162e-01],\n",
        "         [ -3.26277606e-01],\n",
        "         [ -4.15856569e-01],\n",
        "         [ -3.22125093e-01],\n",
        "         [  1.48766919e-01],\n",
        "         [  3.19622172e-01],\n",
        "         [ -3.67689094e-01],\n",
        "         [  1.36746009e-01],\n",
        "         [ -3.84653069e-01],\n",
        "         [  3.67611211e-01],\n",
        "         [ -8.57695239e-02],\n",
        "         [ -1.05554818e-01],\n",
        "         [  5.22890788e-01],\n",
        "         [  3.20530489e-01],\n",
        "         [ -9.00962215e-02],\n",
        "         [ -4.92085476e-01],\n",
        "         [  7.77864035e-01],\n",
        "         [  1.30960681e-01],\n",
        "         [ -2.52976638e-02],\n",
        "         [  3.28477089e-03],\n",
        "         [ -1.10614090e-01],\n",
        "         [  3.48695676e-01],\n",
        "         [  2.11930208e-01],\n",
        "         [ -2.44057004e-01],\n",
        "         [ -5.82891419e-01],\n",
        "         [  5.69741738e-01],\n",
        "         [ -8.71565383e-02],\n",
        "         [ -5.31368620e-01],\n",
        "         [  5.94831221e-01],\n",
        "         [  4.83170617e-01],\n",
        "         [ -1.28954312e-01],\n",
        "         [ -2.06269515e-01],\n",
        "         [ -1.55585932e-01],\n",
        "         [ -2.77142964e-02],\n",
        "         [  6.69809602e-02],\n",
        "         [  1.08614241e-01],\n",
        "         [ -6.38974942e-01],\n",
        "         [  1.82712934e-01],\n",
        "         [ -3.09251347e-01],\n",
        "         [ -7.33872124e-02],\n",
        "         [ -2.05581506e-01],\n",
        "         [ -2.28569007e-01],\n",
        "         [ -5.90734638e-02],\n",
        "         [ -3.08043440e-01],\n",
        "         [ -4.11367650e-01],\n",
        "         [  1.83805668e-01],\n",
        "         [ -5.60065033e-01],\n",
        "         [ -7.49263063e-01],\n",
        "         [ -2.09867118e-02],\n",
        "         [  9.16017446e-02],\n",
        "         [ -3.07025264e-01],\n",
        "         [  9.87351121e-02],\n",
        "         [  8.02840813e-02],\n",
        "         [  3.00300875e-01],\n",
        "         [ -5.00096221e-02],\n",
        "         [ -4.22207211e-01],\n",
        "         [ -2.90254193e-01],\n",
        "         [  5.44560378e-01],\n",
        "         [  1.93309528e-01],\n",
        "         [ -3.77023986e-02],\n",
        "         [  2.93928917e-01],\n",
        "         [  4.59751970e-01],\n",
        "         [ -3.17957218e-01],\n",
        "         [ -1.29559916e-01],\n",
        "         [  6.29472335e-01],\n",
        "         [  1.35499484e-02],\n",
        "         [ -4.24451716e-02],\n",
        "         [ -4.62447090e-01],\n",
        "         [  1.16306310e-01],\n",
        "         [ -3.51419106e-01],\n",
        "         [ -8.89550484e-02],\n",
        "         [ -1.12383546e-02],\n",
        "         [ -4.46657993e-01],\n",
        "         [  4.98730272e-01],\n",
        "         [  2.00027345e-01],\n",
        "         [  3.99344188e-01],\n",
        "         [  1.64747954e-01],\n",
        "         [ -8.83287145e-02],\n",
        "         [  4.30459816e-01],\n",
        "         [ -1.00003080e-01],\n",
        "         [  5.64468186e-02],\n",
        "         [  9.69488247e-02],\n",
        "         [ -1.12245670e-01],\n",
        "         [  3.73974599e-01],\n",
        "         [  2.17950359e-02],\n",
        "         [  2.06726168e-01],\n",
        "         [  4.97028680e-01],\n",
        "         [ -3.40888514e-01],\n",
        "         [  2.27423755e-01],\n",
        "         [ -5.23574003e-01],\n",
        "         [ -1.27208607e-01],\n",
        "         [ -2.32242898e-01],\n",
        "         [ -4.00220743e-02],\n",
        "         [ -1.96037297e-01],\n",
        "         [  2.38339805e-01],\n",
        "         [  8.50890723e-02],\n",
        "         [ -6.53846363e-01],\n",
        "         [  5.27697741e-01],\n",
        "         [  1.15615867e-01],\n",
        "         [ -4.53342866e-01],\n",
        "         [ -1.76774916e-01],\n",
        "         [  6.55668169e-01],\n",
        "         [  1.79199805e-01],\n",
        "         [ -5.02205948e-01],\n",
        "         [ -2.63984948e-01],\n",
        "         [ -1.88818552e-01],\n",
        "         [  3.10236665e-01],\n",
        "         [ -2.02242558e-01],\n",
        "         [ -1.63801688e-01]]))]"
       ]
      }
     ],
     "prompt_number": 16
    },
    {
     "cell_type": "code",
     "collapsed": false,
     "input": [
      "reinit_default_clock()\n",
      "clear(True)\n",
      "\n",
      "# Spiking Neural Network :\n",
      "\n",
      "# IF Model : http://www.briansimulator.org/docs/tutorial_1a_the_simplest_brian_program.html\n",
      "#          : http://icwww.epfl.ch/~gerstner/SPNM/node26.html\n",
      "\n",
      "# Membrane time constant:  tau_m = 5000 * ms\n",
      "# Reset potential       :  v = 0 * mV\n",
      "# Threshold potential   :  v = 1000 * mV\n",
      "# Equation              :  dv/dt =  -v/tau_m : volt \n",
      "\n",
      "tau_m = 5000 * ms \n",
      "v_r   = 0    * mV \n",
      "v_th  = 1000 * mV # threshold potential\n",
      "\n",
      "eqs = '''\n",
      "dv/dt = -v/tau_m : volt\n",
      "'''\n",
      "\n",
      "# Build populations\n",
      "pops=[]\n",
      "conns=[]\n",
      "\n",
      "pops.append(PoissonGroup(82))            # Input Layer\n",
      "\n",
      "for (layer_num, layer_size) in enumerate(Layers_Weights):\n",
      "    pops.append(NeuronGroup(layer_size[0], eqs, threshold=v_th ,reset=v_r))   # Hidden Layer(s) + Output\n",
      "for (layer_num, weights) in enumerate(Layers_Weights):\n",
      "    c = Connection(pops[layer_num], pops[layer_num+1], 'v', weight=weights[1]*1000*mV)   # , sparseness=0.1)\n",
      "    conns.append(c)"
     ],
     "language": "python",
     "metadata": {},
     "outputs": [],
     "prompt_number": 19
    },
    {
     "cell_type": "code",
     "collapsed": false,
     "input": [
      "pops[1].v =0\n",
      "pops[1].v"
     ],
     "language": "python",
     "metadata": {},
     "outputs": [
      {
       "metadata": {},
       "output_type": "pyout",
       "prompt_number": 17,
       "text": [
        "array([ 0.,  0.,  0.,  0.,  0.,  0.,  0.,  0.,  0.,  0.,  0.,  0.,  0.,\n",
        "        0.,  0.,  0.,  0.,  0.,  0.,  0.,  0.,  0.,  0.,  0.,  0.,  0.,\n",
        "        0.,  0.,  0.,  0.,  0.,  0.,  0.,  0.,  0.,  0.,  0.,  0.,  0.,\n",
        "        0.,  0.,  0.,  0.,  0.,  0.,  0.,  0.,  0.,  0.,  0.,  0.,  0.,\n",
        "        0.,  0.,  0.,  0.,  0.,  0.,  0.,  0.,  0.,  0.,  0.,  0.,  0.,\n",
        "        0.,  0.,  0.,  0.,  0.,  0.,  0.,  0.,  0.,  0.,  0.,  0.,  0.,\n",
        "        0.,  0.,  0.,  0.,  0.,  0.,  0.,  0.,  0.,  0.,  0.,  0.,  0.,\n",
        "        0.,  0.,  0.,  0.,  0.,  0.,  0.,  0.,  0.,  0.,  0.,  0.,  0.,\n",
        "        0.,  0.,  0.,  0.,  0.,  0.,  0.,  0.,  0.,  0.,  0.,  0.,  0.,\n",
        "        0.,  0.,  0.,  0.,  0.,  0.,  0.,  0.,  0.,  0.,  0.,  0.,  0.,\n",
        "        0.,  0.,  0.,  0.,  0.,  0.,  0.,  0.,  0.,  0.,  0.,  0.,  0.,\n",
        "        0.,  0.,  0.,  0.,  0.,  0.,  0.,  0.,  0.,  0.,  0.,  0.,  0.,\n",
        "        0.,  0.,  0.,  0.,  0.,  0.,  0.,  0.,  0.,  0.,  0.,  0.,  0.,\n",
        "        0.,  0.,  0.,  0.,  0.,  0.,  0.,  0.,  0.,  0.,  0.,  0.,  0.,\n",
        "        0.,  0.,  0.,  0.,  0.,  0.,  0.,  0.,  0.,  0.,  0.,  0.,  0.,\n",
        "        0.,  0.,  0.,  0.,  0.])"
       ]
      }
     ],
     "prompt_number": 17
    },
    {
     "cell_type": "code",
     "collapsed": false,
     "input": [
      "conns[0][0,0]"
     ],
     "language": "python",
     "metadata": {},
     "outputs": [
      {
       "metadata": {},
       "output_type": "pyout",
       "prompt_number": 20,
       "text": [
        "-0.61124252975883908"
       ]
      }
     ],
     "prompt_number": 20
    },
    {
     "cell_type": "code",
     "collapsed": false,
     "input": [
      "# Model-Based Normalization"
     ],
     "language": "python",
     "metadata": {},
     "outputs": [],
     "prompt_number": 21
    },
    {
     "cell_type": "code",
     "collapsed": false,
     "input": [
      "def emulate(index):\n",
      "    \n",
      "    pops[1].v =0\n",
      "    pops[-1].v =0\n",
      "    \n",
      "    in_value = train[0][index]\n",
      "    target = train[1][index]\n",
      "\n",
      "    pops[0].rate = in_value*Hz\n",
      "\n",
      "    Mv   = StateMonitor(pops[-1], 'v', record=True)\n",
      "    Cout = SpikeCounter(pops[-1])\n",
      "    Cmid = SpikeCounter(pops[1])\n",
      "    Cin  = SpikeCounter(pops[0])\n",
      "\n",
      "    Mout = SpikeMonitor(pops[-1])\n",
      "    Min  = SpikeMonitor(pops[0])\n",
      "\n",
      "    run(5.0*second)\n",
      "\n",
      "    print \" ------------- Sample: \",index, \" -------------\"\n",
      "    print \"Given Inputs:\",  \"                                                              Given Target:\", target\n",
      "    print in_value\n",
      "    \n",
      "    print \"\"\n",
      "    print \"Spiking\"\n",
      "    print \"Input Layer=\"         ,Cin.count\n",
      "    print \"First Hidden Layer=\"  ,Cmid.count\n",
      "    print \"Output Layer =\"       ,Cout.count\n",
      "\n",
      "    plot(Mv.times/ms, Mv[0]/mV)\n",
      "    plt.xlabel(\"Time (ms)\")\n",
      "    plt.ylabel(\"Voltage (mV)\")\n",
      "    show()\n",
      "    \n",
      "    #raster_plot(Mout)\n",
      "    #show()\n",
      "    #raster_plot(Min)\n",
      "    #show()"
     ],
     "language": "python",
     "metadata": {},
     "outputs": [],
     "prompt_number": 23
    },
    {
     "cell_type": "code",
     "collapsed": false,
     "input": [
      "emulate(0)"
     ],
     "language": "python",
     "metadata": {},
     "outputs": [
      {
       "output_type": "stream",
       "stream": "stdout",
       "text": [
        " ------------- Sample:  0  -------------\n",
        "Given Inputs:                                                               Given Target: [ 1.]\n",
        "[ 24.58831787  19.65563583   8.43451118   0.          44.62976074\n",
        "  17.05786324  10.60245705  15.5608387   24.94561768   9.12961006\n",
        "  16.55312538   1.63912582  20.98634338  13.27418232  15.01314354\n",
        "   1.92588997  14.48775482   7.33760929  12.72213554   9.95286942\n",
        "  21.27124405  10.21908855  14.10399818   5.63274002  19.39788437\n",
        "  13.76088428  11.65789604  17.25547791  19.94549942   7.63519335\n",
        "  10.24855328   3.35391521  15.45767021  12.79320335  11.1344862\n",
        "   6.60050726  12.94676399   8.82345963  10.15757847   8.77825165   0.           0.\n",
        "   0.           0.           0.           0.           0.           0.           0.\n",
        "   0.           0.           0.           0.           0.           0.           0.\n",
        "   0.           0.           0.           0.           0.           0.           0.\n",
        "   0.           0.           0.           0.           0.           0.           0.\n",
        "   0.           0.           0.           0.           0.           0.           0.\n",
        "   0.           0.           0.           1.66388607  15.67403603]\n",
        "\n",
        "Spiking\n",
        "Input Layer= [112  96  45   0 236  87  54  76 137  57  96   9 112  48  87   9  83  36\n",
        "  73  37  97  51  77  30 104  64  62  86  99  35  45  13  67  67  44  33\n",
        "  71  43  44  53   0   0   0   0   0   0   0   0   0   0   0   0   0   0\n",
        "   0   0   0   0   0   0   0   0   0   0   0   0   0   0   0   0   0   0\n",
        "   0   0   0   0   0   0   0   0  12  71]\n",
        "First Hidden Layer= [ 42 186   0 104  68 112 231   0   0   0   0 136  37 196  28 102  90 240\n",
        "  28   1  26  70  45  75  60   2  66   3  30  45   2  61   0   0  52   0\n",
        "  13  31 156 267 100   0  54  79  67  79   2   6  38   6   0   0  27   0\n",
        "   2   0 103   1 122  20  58  22   1  14   6   0   8 189  90   0   3   2\n",
        " 180 132 148   0  34  10  89   0   0   0   0  43 160   0   0   2 140  52\n",
        "  26 110 118 104 254   0 132 182   0  65 156   2  33  22   7 176 147  63\n",
        "   0   0   0   0  64  86   0 106 183   0   2  75 183  45   1   1   2 107\n",
        " 161 107   0 144  51   3  25  57   0   1   1   7  26   3 127   0   0 243\n",
        "   0  44  84 251   0   2  53 246  63   0   2  46  90   0   0   0   0   0\n",
        "  97  47 160   1 159   0   5 180  16   0  79  64   1   0   0   0   0   0\n",
        "  90 145  31 144   1   1   0  57   9   0  69  94   7   4  18 140   6  34\n",
        "   0   0]\n",
        "Output Layer = [187]\n"
       ]
      },
      {
       "metadata": {},
       "output_type": "display_data",
       "png": "[encoded data removed]",
       "text": [
        "<matplotlib.figure.Figure at 0x7f9b2bc67b10>"
       ]
      }
     ],
     "prompt_number": 24
    },
    {
     "cell_type": "code",
     "collapsed": false,
     "input": [
      "emulate(1)"
     ],
     "language": "python",
     "metadata": {},
     "outputs": [
      {
       "output_type": "stream",
       "stream": "stdout",
       "text": [
        " ------------- Sample:  1  -------------\n",
        "Given Inputs:                                                               Given Target: [ 1.]\n",
        "[ 12.44375038   0.           4.88530493   5.37530088  13.40995979\n",
        "   5.75565434  11.00985909   7.41203213  15.65540314   8.06346607\n",
        "  10.32575798   3.23020291  11.54006577   6.31976414   8.74517345\n",
        "   8.6141243   49.84789658   3.07823753   6.30702639   0.15473509\n",
        "  11.65298271   5.40565062   4.20395803  11.26561928   0.           0.           0.\n",
        "   0.           0.           0.           0.           0.           0.           0.\n",
        "   0.           0.           0.           0.           0.           0.           0.\n",
        "   0.           0.           0.           0.           0.           0.           0.\n",
        "   0.           0.           0.           0.           0.           0.           0.\n",
        "   0.           0.           0.           0.           0.           0.           0.\n",
        "   0.           0.           0.           0.           0.           0.           0.\n",
        "   0.           0.           0.           0.           0.           0.           0.\n",
        "   0.           0.           0.           0.           7.02579546\n",
        "   5.07218456]\n",
        "\n",
        "Spiking\n",
        "Input Layer= [ 62   0  29  29  60  29  47  33  81  47  47  15  68  35  47  37 290  12\n",
        "  38   0  51  26  21  54   0   0   0   0   0   0   0   0   0   0   0   0\n",
        "   0   0   0   0   0   0   0   0   0   0   0   0   0   0   0   0   0   0\n",
        "   0   0   0   0   0   0   0   0   0   0   0   0   0   0   0   0   0   0\n",
        "   0   0   0   0   0   0   0   0  33  37]\n",
        "First Hidden Layer= [  0 108   1 115   0  36 182   0   1   0  55 178   0 117   4  95 138  45\n",
        "   0  62   2  27  30  24  67   0  77   1   3  77   0  14 102   6  50   0\n",
        "  73   1  25  31   1   0   2 127 103 163   0   0  23   0   1  13   0  10\n",
        "   9   1  84   0  37   1  40   0  66  29   1   0  91  49   0   0  14   0\n",
        " 192 194  55   1  17   1 127   0  32   2   0   6  39  14 109   0   3   2\n",
        "   0   0   6  62 128  25  83  17   0  87  43   4 114   0 108  10  74   6\n",
        " 103   0   1  44   0   1   0   4  55   1 102   5  79 153   0   0   0  89\n",
        "  78   0   1   3   1  57   0  25   1   3   8  89   0  20  78   0   0 168\n",
        "   0 119  38 134   0   0  50 164  77   6 132 194  18   0   1   0  54   3\n",
        "  91  32 172  29  99  92  17   0   0   1 151   1   0   5   4   0   1   0\n",
        "   8   0  63 112 113   0   0  93   3   0  55  47   0   1  89 125   0  25\n",
        "   0  59]\n",
        "Output Layer = [161]\n"
       ]
      },
      {
       "metadata": {},
       "output_type": "display_data",
       "png": "[encoded data removed]",
       "text": [
        "<matplotlib.figure.Figure at 0x7f9ad80a0c90>"
       ]
      }
     ],
     "prompt_number": 25
    },
    {
     "cell_type": "code",
     "collapsed": false,
     "input": [],
     "language": "python",
     "metadata": {},
     "outputs": []
    }
   ],
   "metadata": {}
  }
 ]
}