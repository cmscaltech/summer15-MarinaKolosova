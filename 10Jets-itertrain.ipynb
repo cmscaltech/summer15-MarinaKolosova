{
 "metadata": {
  "name": "",
  "signature": "sha256:92642f183da7fdbfee6d3ac680a1919934e9feaa99229deaa7129957294205c7"
 },
 "nbformat": 3,
 "nbformat_minor": 0,
 "worksheets": [
  {
   "cells": [
    {
     "cell_type": "code",
     "collapsed": false,
     "input": [
      "import h5py\n",
      "import theanets\n",
      "import time"
     ],
     "language": "python",
     "metadata": {},
     "outputs": [
      {
       "output_type": "stream",
       "stream": "stdout",
       "text": [
        "Couldn't import dot_parser, loading of dot files will not be possible.\n"
       ]
      }
     ],
     "prompt_number": 1
    },
    {
     "cell_type": "code",
     "collapsed": false,
     "input": [
      "f=h5py.File(\"data/data_10Jets.hdf5\")\n",
      "f.keys()\n",
      "f['data_10Jets'].keys()\n",
      "\n",
      "global input_matrix\n",
      "global target_matrix\n",
      "global decorator_matrix\n",
      "\n",
      "input_matrix     = f['data_10Jets']['input'].value\n",
      "target_matrix    = f['data_10Jets']['target'].value\n",
      "decorator_matrix = f['data_10Jets']['deco'].value\n",
      "f.close()"
     ],
     "language": "python",
     "metadata": {},
     "outputs": [],
     "prompt_number": 2
    },
    {
     "cell_type": "code",
     "collapsed": false,
     "input": [
      "nInputs  = input_matrix.shape[1]\n",
      "nOutputs = target_matrix.shape[1]"
     ],
     "language": "python",
     "metadata": {},
     "outputs": [],
     "prompt_number": 3
    },
    {
     "cell_type": "code",
     "collapsed": false,
     "input": [
      "print \"Samples in input_matrix=\", len(input_matrix), \"       Inputs=\", nInputs, \"       Outputs=\",nOutputs"
     ],
     "language": "python",
     "metadata": {},
     "outputs": [
      {
       "output_type": "stream",
       "stream": "stdout",
       "text": [
        "Samples in input_matrix= 1000000        Inputs= 82        Outputs= 1\n"
       ]
      }
     ],
     "prompt_number": 4
    },
    {
     "cell_type": "code",
     "collapsed": false,
     "input": [
      "def allincluded(truncated, nHiddenLayers, nHiddenNeurons):\n",
      "\n",
      "    # Create Training & Validation Set\n",
      "    # ------------------------------------------------\n",
      "    IN_matrix     = input_matrix[0:truncate,...]      \n",
      "    TARGET_matrix = target_matrix[0:truncate,...]\n",
      "    DEC_matrix    = decorator_matrix[0:truncate,...] \n",
      "    \n",
      "    cut   =int(IN_matrix.shape[0]*0.8)\n",
      "    train =IN_matrix[:cut], TARGET_matrix[:cut]\n",
      "    valid =IN_matrix[cut:], TARGET_matrix[cut:]\n",
      "    \n",
      "    # Build the NN\n",
      "    # -----------------------------------------------------------------------------------------------------------------------------------\n",
      "    # Topology: Feedforward\n",
      "    # Inputs = 82 (Jets 4-momenta (20 Jets maximum), METx, METy)\n",
      "    # Number of Hidden Layers = nHiddenLayers\n",
      "    # Activation function for Hidden Layers = sigmoid\n",
      "    # Outputs=1 (NN Trigger Bits= 0 or 1)\n",
      "    # Activation function for the Output Layer= sigmoid \n",
      "    # Layerwise: pretrainer \n",
      "\n",
      "    exp=theanets.Experiment(theanets.feedforward.Regressor(layers=(nInputs,)+tuple([nHiddenNeurons for l in range(nHiddenLayers), 'sigmoid'])+ ( (nOutputs, 'sigmoid'),)),'layerwise')    \n",
      "    \n",
      "    # ------------------------------------------------------------------------------------------------------------------------------------\n",
      "    fom   = 1.0\n",
      "    LearningRate=0.001\n",
      "    Epochs= 0\n",
      "    \n",
      "    timing_start = time.mktime(time.gmtime())\n",
      "    \n",
      "    for TrainError, ValError in exp.itertrain(train,valid, learning_rate= LearningRate, algo='rmsprop', \n",
      "                                              hidden_dropout=0.9, iteration_size = 400, batch_size=1000, \n",
      "                                              validate_every = 1, patience=300, min_improvement = 0.0000001):\n",
      "        print 'Epoch=', Epochs+1\n",
      "        if Epochs%1 == 0 :\n",
      "            print 'Training   Error = \\t',TrainError['err']\n",
      "            print 'Validation Error = \\t',ValError['err']\n",
      "        Epochs+=1\n",
      "        if Epochs == 20 :\n",
      "            break   \n",
      "    timing_end=time.mktime(time.gmtime())\n",
      "    \n",
      "    prediction = exp.network.predict(train[0])\n",
      "    goodness = np.asarray([[cut,(list(TARGET_matrix[np.where(prediction>cut)]==1).count(True)+list(TARGET_matrix[np.where(prediction<cut)]==0).count(True))/ float(IN_matrix.shape[0])]  for cut in np.arange(0,1,0.05)])\n",
      "    \n",
      "    fom = max( goodness[:,1])    \n",
      "    timing=timing_end-timing_start\n",
      "    \n",
      "    return (fom, timing)"
     ],
     "language": "python",
     "metadata": {},
     "outputs": [],
     "prompt_number": 5
    },
    {
     "cell_type": "code",
     "collapsed": false,
     "input": [
      "# (Number of Samples, Hidden Layers, HiddenNeurons, Epochs, Trainings, Timing, FOM ) \n",
      "mapAlgo=[]"
     ],
     "language": "python",
     "metadata": {},
     "outputs": [],
     "prompt_number": 6
    },
    {
     "cell_type": "code",
     "collapsed": false,
     "input": [
      "print mapAlgo"
     ],
     "language": "python",
     "metadata": {},
     "outputs": [
      {
       "output_type": "stream",
       "stream": "stdout",
       "text": [
        "[]\n"
       ]
      }
     ],
     "prompt_number": 7
    },
    {
     "cell_type": "code",
     "collapsed": false,
     "input": [
      "iLayers=1\n",
      "nHiddenNeurons=100\n",
      "for nHiddenNeurons in range(100, 1000, 100):      \n",
      "    for truncate in range(10000,100000,10000):        \n",
      "        fom, timing = allincluded(truncate, iLayers, nHiddenNeurons)\n",
      "        mapAlgo.append((truncate, iLayers, nHiddenNeurons, timing, fom))\n",
      "        print 'Samples=',truncate,'    Hidden Layers=',iLayers, \"   Hidden Neurons=\", nHiddenNeurons, \"   F.O.M.=\",fom,\"   Time=\", timing "
     ],
     "language": "python",
     "metadata": {},
     "outputs": [
      {
       "output_type": "stream",
       "stream": "stdout",
       "text": [
        "Epoch= 1\n",
        "Training   Error = \t0.180088735811\n",
        "Validation Error = \t0.256882063351\n",
        "Epoch="
       ]
      },
      {
       "output_type": "stream",
       "stream": "stdout",
       "text": [
        " 2\n",
        "Training   Error = \t0.0864888812592\n",
        "Validation Error = \t0.129595640797\n",
        "Epoch="
       ]
      },
      {
       "output_type": "stream",
       "stream": "stdout",
       "text": [
        " 3\n",
        "Training   Error = \t0.0573566111395\n",
        "Validation Error = \t0.123911702588\n",
        "Epoch="
       ]
      },
      {
       "output_type": "stream",
       "stream": "stdout",
       "text": [
        " 4\n",
        "Training   Error = \t0.039279823193\n",
        "Validation Error = \t0.134726457469\n",
        "Epoch="
       ]
      },
      {
       "output_type": "stream",
       "stream": "stdout",
       "text": [
        " 5\n",
        "Training   Error = \t0.0272413401483\n",
        "Validation Error = \t0.141960560313\n",
        "Epoch="
       ]
      },
      {
       "output_type": "stream",
       "stream": "stdout",
       "text": [
        " 6\n",
        "Training   Error = \t0.0190634054769\n",
        "Validation Error = \t0.140466824203\n",
        "Epoch="
       ]
      },
      {
       "output_type": "stream",
       "stream": "stdout",
       "text": [
        " 7\n",
        "Training   Error = \t0.01477678223\n",
        "Validation Error = \t0.163844114259\n",
        "Epoch="
       ]
      },
      {
       "output_type": "stream",
       "stream": "stdout",
       "text": [
        " 8\n",
        "Training   Error = \t0.0115536848648\n",
        "Validation Error = \t0.151459984647\n",
        "Epoch="
       ]
      },
      {
       "output_type": "stream",
       "stream": "stdout",
       "text": [
        " 9\n",
        "Training   Error = \t0.00991826155803\n",
        "Validation Error = \t0.154855032925\n",
        "Epoch="
       ]
      },
      {
       "output_type": "stream",
       "stream": "stdout",
       "text": [
        " 10\n",
        "Training   Error = \t0.00858600311664\n",
        "Validation Error = \t0.159207485419\n",
        "Epoch="
       ]
      },
      {
       "output_type": "stream",
       "stream": "stdout",
       "text": [
        " 11\n",
        "Training   Error = \t0.00815712473903\n",
        "Validation Error = \t0.1617718951\n",
        "Epoch="
       ]
      },
      {
       "output_type": "stream",
       "stream": "stdout",
       "text": [
        " 12\n",
        "Training   Error = \t0.00729101692087\n",
        "Validation Error = \t0.163489027671\n",
        "Epoch="
       ]
      },
      {
       "output_type": "stream",
       "stream": "stdout",
       "text": [
        " 13\n",
        "Training   Error = \t0.0064827359658\n",
        "Validation Error = \t0.166097118038\n",
        "Epoch="
       ]
      },
      {
       "output_type": "stream",
       "stream": "stdout",
       "text": [
        " 14\n",
        "Training   Error = \t0.00682917738024\n",
        "Validation Error = \t0.167820238852\n",
        "Epoch="
       ]
      },
      {
       "output_type": "stream",
       "stream": "stdout",
       "text": [
        " 15\n",
        "Training   Error = \t0.00577810429615\n",
        "Validation Error = \t0.168629725098\n",
        "Epoch="
       ]
      },
      {
       "output_type": "stream",
       "stream": "stdout",
       "text": [
        " 16\n",
        "Training   Error = \t0.00578697178289\n",
        "Validation Error = \t0.170046397379\n",
        "Epoch="
       ]
      },
      {
       "output_type": "stream",
       "stream": "stdout",
       "text": [
        " 17\n",
        "Training   Error = \t0.00514708600495\n",
        "Validation Error = \t0.171022811118\n",
        "Epoch="
       ]
      },
      {
       "output_type": "stream",
       "stream": "stdout",
       "text": [
        " 18\n",
        "Training   Error = \t0.0056165476734\n",
        "Validation Error = \t0.171375551771\n",
        "Epoch="
       ]
      },
      {
       "output_type": "stream",
       "stream": "stdout",
       "text": [
        " 19\n",
        "Training   Error = \t0.00522238811387\n",
        "Validation Error = \t0.172365447649\n",
        "Epoch="
       ]
      },
      {
       "output_type": "stream",
       "stream": "stdout",
       "text": [
        " 20\n",
        "Training   Error = \t0.00512265540378\n",
        "Validation Error = \t0.173103923678\n",
        "Samples="
       ]
      },
      {
       "output_type": "stream",
       "stream": "stdout",
       "text": [
        " 10000     Hidden Layers= 1    Hidden Neurons= 100    F.O.M.= 0.7967    Time= 694.0\n",
        "Epoch="
       ]
      },
      {
       "output_type": "stream",
       "stream": "stdout",
       "text": [
        " 1\n",
        "Training   Error = \t0.188495275455\n",
        "Validation Error = \t0.25446586748\n",
        "Epoch="
       ]
      },
      {
       "output_type": "stream",
       "stream": "stdout",
       "text": [
        " 2\n",
        "Training   Error = \t0.102533990723\n",
        "Validation Error = \t0.130562307156\n",
        "Epoch="
       ]
      },
      {
       "output_type": "stream",
       "stream": "stdout",
       "text": [
        " 3\n",
        "Training   Error = \t0.0829679828956\n",
        "Validation Error = \t0.116360449755\n",
        "Epoch="
       ]
      },
      {
       "output_type": "stream",
       "stream": "stdout",
       "text": [
        " 4\n",
        "Training   Error = \t0.0710459542923\n",
        "Validation Error = \t0.114730733644\n",
        "Epoch="
       ]
      },
      {
       "output_type": "stream",
       "stream": "stdout",
       "text": [
        " 5\n",
        "Training   Error = \t0.0621570990257\n",
        "Validation Error = \t0.117757273037\n",
        "Epoch="
       ]
      },
      {
       "output_type": "stream",
       "stream": "stdout",
       "text": [
        " 6\n",
        "Training   Error = \t0.0548775042861\n",
        "Validation Error = \t0.117478609788\n",
        "Epoch="
       ]
      },
      {
       "output_type": "stream",
       "stream": "stdout",
       "text": [
        " 7\n",
        "Training   Error = \t0.0485048610421\n",
        "Validation Error = \t0.125774830579\n",
        "Epoch="
       ]
      },
      {
       "output_type": "stream",
       "stream": "stdout",
       "text": [
        " 8\n",
        "Training   Error = \t0.0432153088671\n",
        "Validation Error = \t0.124657575511\n",
        "Epoch="
       ]
      },
      {
       "output_type": "stream",
       "stream": "stdout",
       "text": [
        " 9\n",
        "Training   Error = \t0.0385414887876\n",
        "Validation Error = \t0.138271389609\n",
        "Epoch="
       ]
      },
      {
       "output_type": "stream",
       "stream": "stdout",
       "text": [
        " 10\n",
        "Training   Error = \t0.0347561572014\n",
        "Validation Error = \t0.131234709713\n",
        "Epoch="
       ]
      },
      {
       "output_type": "stream",
       "stream": "stdout",
       "text": [
        " 11\n",
        "Training   Error = \t0.0311873657882\n",
        "Validation Error = \t0.134719737444\n",
        "Epoch="
       ]
      },
      {
       "output_type": "stream",
       "stream": "stdout",
       "text": [
        " 12\n",
        "Training   Error = \t0.0284446106366\n",
        "Validation Error = \t0.139834069279\n",
        "Epoch="
       ]
      },
      {
       "output_type": "stream",
       "stream": "stdout",
       "text": [
        " 13\n",
        "Training   Error = \t0.025574525867\n",
        "Validation Error = \t0.143650650162\n",
        "Epoch="
       ]
      },
      {
       "output_type": "stream",
       "stream": "stdout",
       "text": [
        " 14\n",
        "Training   Error = \t0.0237665963308\n",
        "Validation Error = \t0.141931177832\n",
        "Epoch="
       ]
      },
      {
       "output_type": "stream",
       "stream": "stdout",
       "text": [
        " 15\n",
        "Training   Error = \t0.021883647806\n",
        "Validation Error = \t0.146282239382\n",
        "Epoch="
       ]
      },
      {
       "output_type": "stream",
       "stream": "stdout",
       "text": [
        " 16\n",
        "Training   Error = \t0.020473856192\n",
        "Validation Error = \t0.146603525096\n",
        "Epoch="
       ]
      },
      {
       "output_type": "stream",
       "stream": "stdout",
       "text": [
        " 17\n",
        "Training   Error = \t0.0192220204671\n",
        "Validation Error = \t0.148345019075\n",
        "Epoch="
       ]
      },
      {
       "output_type": "stream",
       "stream": "stdout",
       "text": [
        " 18\n",
        "Training   Error = \t0.0179799055924\n",
        "Validation Error = \t0.153999063638\n",
        "Epoch="
       ]
      },
      {
       "output_type": "stream",
       "stream": "stdout",
       "text": [
        " 19\n",
        "Training   Error = \t0.0169296146322\n",
        "Validation Error = \t0.152059735956\n",
        "Epoch="
       ]
      },
      {
       "output_type": "stream",
       "stream": "stdout",
       "text": [
        " 20\n",
        "Training   Error = \t0.0168247999858\n",
        "Validation Error = \t0.159044749745\n",
        "Samples="
       ]
      },
      {
       "output_type": "stream",
       "stream": "stdout",
       "text": [
        " 20000     Hidden Layers= 1    Hidden Neurons= 100    F.O.M.= 0.7917    Time= 615.0\n",
        "Epoch="
       ]
      },
      {
       "output_type": "stream",
       "stream": "stdout",
       "text": [
        " 1\n",
        "Training   Error = \t0.199263719369\n",
        "Validation Error = \t0.296397729066\n",
        "Epoch="
       ]
      },
      {
       "output_type": "stream",
       "stream": "stdout",
       "text": [
        " 2\n",
        "Training   Error = \t0.113689017451\n",
        "Validation Error = \t0.142200910058\n",
        "Epoch="
       ]
      },
      {
       "output_type": "stream",
       "stream": "stdout",
       "text": [
        " 3\n",
        "Training   Error = \t0.0946070464758\n",
        "Validation Error = \t0.113441960623\n",
        "Epoch="
       ]
      },
      {
       "output_type": "stream",
       "stream": "stdout",
       "text": [
        " 4\n",
        "Training   Error = \t0.0837958400507\n",
        "Validation Error = \t0.110921445262\n",
        "Epoch="
       ]
      },
      {
       "output_type": "stream",
       "stream": "stdout",
       "text": [
        " 5\n",
        "Training   Error = \t0.0765289483876\n",
        "Validation Error = \t0.123801151096\n",
        "Epoch="
       ]
      },
      {
       "output_type": "stream",
       "stream": "stdout",
       "text": [
        " 6\n",
        "Training   Error = \t0.0704975501045\n",
        "Validation Error = \t0.109588585409\n",
        "Epoch="
       ]
      },
      {
       "output_type": "stream",
       "stream": "stdout",
       "text": [
        " 7\n",
        "Training   Error = \t0.0661222247664\n",
        "Validation Error = \t0.111010121919\n",
        "Epoch="
       ]
      },
      {
       "output_type": "stream",
       "stream": "stdout",
       "text": [
        " 8\n",
        "Training   Error = \t0.0618316572273\n",
        "Validation Error = \t0.113358839205\n",
        "Epoch="
       ]
      },
      {
       "output_type": "stream",
       "stream": "stdout",
       "text": [
        " 9\n",
        "Training   Error = \t0.0584483176333\n",
        "Validation Error = \t0.114485388521\n",
        "Epoch="
       ]
      },
      {
       "output_type": "stream",
       "stream": "stdout",
       "text": [
        " 10\n",
        "Training   Error = \t0.0550542700682\n",
        "Validation Error = \t0.117875623193\n",
        "Epoch="
       ]
      },
      {
       "output_type": "stream",
       "stream": "stdout",
       "text": [
        " 11\n",
        "Training   Error = \t0.0521312611467\n",
        "Validation Error = \t0.124145019557\n",
        "Epoch="
       ]
      },
      {
       "output_type": "stream",
       "stream": "stdout",
       "text": [
        " 12\n",
        "Training   Error = \t0.049653984323\n",
        "Validation Error = \t0.124948544142\n",
        "Epoch="
       ]
      },
      {
       "output_type": "stream",
       "stream": "stdout",
       "text": [
        " 13\n",
        "Training   Error = \t0.0472781963833\n",
        "Validation Error = \t0.131593556307\n",
        "Epoch="
       ]
      },
      {
       "output_type": "stream",
       "stream": "stdout",
       "text": [
        " 14\n",
        "Training   Error = \t0.0451391844042\n",
        "Validation Error = \t0.133943597575\n",
        "Epoch="
       ]
      },
      {
       "output_type": "stream",
       "stream": "stdout",
       "text": [
        " 15\n",
        "Training   Error = \t0.0432077012305\n",
        "Validation Error = \t0.137902012144\n",
        "Epoch="
       ]
      },
      {
       "output_type": "stream",
       "stream": "stdout",
       "text": [
        " 16\n",
        "Training   Error = \t0.0412533527745\n",
        "Validation Error = \t0.133478290661\n",
        "Epoch="
       ]
      },
      {
       "output_type": "stream",
       "stream": "stdout",
       "text": [
        " 17\n",
        "Training   Error = \t0.039366719876\n",
        "Validation Error = \t0.140960223102\n",
        "Epoch="
       ]
      },
      {
       "output_type": "stream",
       "stream": "stdout",
       "text": [
        " 18\n",
        "Training   Error = \t0.0379782382605\n",
        "Validation Error = \t0.149571634931\n",
        "Epoch="
       ]
      },
      {
       "output_type": "stream",
       "stream": "stdout",
       "text": [
        " 19\n",
        "Training   Error = \t0.0364527160809\n",
        "Validation Error = \t0.139136684166\n",
        "Epoch="
       ]
      },
      {
       "output_type": "stream",
       "stream": "stdout",
       "text": [
        " 20\n",
        "Training   Error = \t0.0348166979947\n",
        "Validation Error = \t0.141786945036\n",
        "Samples="
       ]
      },
      {
       "output_type": "stream",
       "stream": "stdout",
       "text": [
        " 30000     Hidden Layers= 1    Hidden Neurons= 100    F.O.M.= 0.781066666667    Time= 524.0\n",
        "Epoch="
       ]
      },
      {
       "output_type": "stream",
       "stream": "stdout",
       "text": [
        " 1\n",
        "Training   Error = \t0.194600080597\n",
        "Validation Error = \t0.249748933147\n",
        "Epoch="
       ]
      },
      {
       "output_type": "stream",
       "stream": "stdout",
       "text": [
        " 2\n",
        "Training   Error = \t0.112248207595\n",
        "Validation Error = \t0.12836352046\n",
        "Epoch="
       ]
      },
      {
       "output_type": "stream",
       "stream": "stdout",
       "text": [
        " 3\n",
        "Training   Error = \t0.0977644172437\n",
        "Validation Error = \t0.111905274436\n",
        "Epoch="
       ]
      },
      {
       "output_type": "stream",
       "stream": "stdout",
       "text": [
        " 4\n",
        "Training   Error = \t0.0888375342665\n",
        "Validation Error = \t0.108112899635\n",
        "Epoch="
       ]
      },
      {
       "output_type": "stream",
       "stream": "stdout",
       "text": [
        " 5\n",
        "Training   Error = \t0.0824107164612\n",
        "Validation Error = \t0.116129364213\n",
        "Epoch="
       ]
      },
      {
       "output_type": "stream",
       "stream": "stdout",
       "text": [
        " 6\n",
        "Training   Error = \t0.0771736168853\n",
        "Validation Error = \t0.104591442722\n",
        "Epoch="
       ]
      },
      {
       "output_type": "stream",
       "stream": "stdout",
       "text": [
        " 7\n",
        "Training   Error = \t0.0725579801677\n",
        "Validation Error = \t0.10963095415\n",
        "Epoch="
       ]
      },
      {
       "output_type": "stream",
       "stream": "stdout",
       "text": [
        " 8\n",
        "Training   Error = \t0.0688432599706\n",
        "Validation Error = \t0.108430735516\n",
        "Epoch="
       ]
      },
      {
       "output_type": "stream",
       "stream": "stdout",
       "text": [
        " 9\n",
        "Training   Error = \t0.0657903558873\n",
        "Validation Error = \t0.115665747192\n",
        "Epoch="
       ]
      },
      {
       "output_type": "stream",
       "stream": "stdout",
       "text": [
        " 10\n",
        "Training   Error = \t0.0631532806642\n",
        "Validation Error = \t0.106618292808\n",
        "Epoch="
       ]
      },
      {
       "output_type": "stream",
       "stream": "stdout",
       "text": [
        " 11\n",
        "Training   Error = \t0.06054516002\n",
        "Validation Error = \t0.1100873316\n",
        "Epoch="
       ]
      },
      {
       "output_type": "stream",
       "stream": "stdout",
       "text": [
        " 12\n",
        "Training   Error = \t0.0586077771144\n",
        "Validation Error = \t0.117410351172\n",
        "Epoch="
       ]
      },
      {
       "output_type": "stream",
       "stream": "stdout",
       "text": [
        " 13\n",
        "Training   Error = \t0.056537763107\n",
        "Validation Error = \t0.117268341617\n",
        "Epoch="
       ]
      },
      {
       "output_type": "stream",
       "stream": "stdout",
       "text": [
        " 14\n",
        "Training   Error = \t0.0546624794314\n",
        "Validation Error = \t0.113774554546\n",
        "Epoch="
       ]
      },
      {
       "output_type": "stream",
       "stream": "stdout",
       "text": [
        " 15\n",
        "Training   Error = \t0.0528154483251\n",
        "Validation Error = \t0.112048986401\n",
        "Epoch="
       ]
      },
      {
       "output_type": "stream",
       "stream": "stdout",
       "text": [
        " 16\n",
        "Training   Error = \t0.0514385517895\n",
        "Validation Error = \t0.114589421218\n",
        "Epoch="
       ]
      },
      {
       "output_type": "stream",
       "stream": "stdout",
       "text": [
        " 17\n",
        "Training   Error = \t0.0494667049321\n",
        "Validation Error = \t0.118731531466\n",
        "Epoch="
       ]
      },
      {
       "output_type": "stream",
       "stream": "stdout",
       "text": [
        " 18\n",
        "Training   Error = \t0.0483407370208\n",
        "Validation Error = \t0.117557549355\n",
        "Epoch="
       ]
      },
      {
       "output_type": "stream",
       "stream": "stdout",
       "text": [
        " 19\n",
        "Training   Error = \t0.0466988231461\n",
        "Validation Error = \t0.119691900159\n",
        "Epoch="
       ]
      },
      {
       "output_type": "stream",
       "stream": "stdout",
       "text": [
        " 20\n",
        "Training   Error = \t0.0456250775692\n",
        "Validation Error = \t0.122428574463\n",
        "Samples="
       ]
      },
      {
       "output_type": "stream",
       "stream": "stdout",
       "text": [
        " 40000     Hidden Layers= 1    Hidden Neurons= 100    F.O.M.= 0.7691    Time= 662.0\n",
        "Epoch="
       ]
      },
      {
       "output_type": "stream",
       "stream": "stdout",
       "text": [
        " 1\n",
        "Training   Error = \t0.195451611795\n",
        "Validation Error = \t0.282056569721\n",
        "Epoch="
       ]
      },
      {
       "output_type": "stream",
       "stream": "stdout",
       "text": [
        " 2\n",
        "Training   Error = \t0.113289338792\n",
        "Validation Error = \t0.126908394928\n",
        "Epoch="
       ]
      },
      {
       "output_type": "stream",
       "stream": "stdout",
       "text": [
        " 3\n",
        "Training   Error = \t0.0998602317233\n",
        "Validation Error = \t0.118032352324\n",
        "Epoch="
       ]
      },
      {
       "output_type": "stream",
       "stream": "stdout",
       "text": [
        " 4\n",
        "Training   Error = \t0.0922830402391\n",
        "Validation Error = \t0.105121780683\n",
        "Epoch="
       ]
      },
      {
       "output_type": "stream",
       "stream": "stdout",
       "text": [
        " 5\n",
        "Training   Error = \t0.0866272174717\n",
        "Validation Error = \t0.101496983751\n",
        "Epoch="
       ]
      },
      {
       "output_type": "stream",
       "stream": "stdout",
       "text": [
        " 6\n",
        "Training   Error = \t0.0820183848322\n",
        "Validation Error = \t0.101704938477\n",
        "Epoch="
       ]
      },
      {
       "output_type": "stream",
       "stream": "stdout",
       "text": [
        " 7\n",
        "Training   Error = \t0.0780946162053\n",
        "Validation Error = \t0.100885352698\n",
        "Epoch="
       ]
      },
      {
       "output_type": "stream",
       "stream": "stdout",
       "text": [
        " 8\n",
        "Training   Error = \t0.0751419773279\n",
        "Validation Error = \t0.100592919402\n",
        "Epoch="
       ]
      },
      {
       "output_type": "stream",
       "stream": "stdout",
       "text": [
        " 9\n",
        "Training   Error = \t0.072589038692\n",
        "Validation Error = \t0.107409150444\n",
        "Epoch="
       ]
      },
      {
       "output_type": "stream",
       "stream": "stdout",
       "text": [
        " 10\n",
        "Training   Error = \t0.070183774558\n",
        "Validation Error = \t0.107520072475\n",
        "Epoch="
       ]
      },
      {
       "output_type": "stream",
       "stream": "stdout",
       "text": [
        " 11\n",
        "Training   Error = \t0.0681387645316\n",
        "Validation Error = \t0.108029243156\n",
        "Epoch="
       ]
      },
      {
       "output_type": "stream",
       "stream": "stdout",
       "text": [
        " 12\n",
        "Training   Error = \t0.0663049012958\n",
        "Validation Error = \t0.10459644301\n",
        "Epoch="
       ]
      },
      {
       "output_type": "stream",
       "stream": "stdout",
       "text": [
        " 13\n",
        "Training   Error = \t0.0645117189821\n",
        "Validation Error = \t0.106270635695\n",
        "Epoch="
       ]
      },
      {
       "output_type": "stream",
       "stream": "stdout",
       "text": [
        " 14\n",
        "Training   Error = \t0.0630667913346\n",
        "Validation Error = \t0.111176761359\n",
        "Epoch="
       ]
      },
      {
       "output_type": "stream",
       "stream": "stdout",
       "text": [
        " 15\n",
        "Training   Error = \t0.0617774048537\n",
        "Validation Error = \t0.11188213987\n",
        "Epoch="
       ]
      },
      {
       "output_type": "stream",
       "stream": "stdout",
       "text": [
        " 16\n",
        "Training   Error = \t0.0603739055482\n",
        "Validation Error = \t0.110038191053\n",
        "Epoch="
       ]
      },
      {
       "output_type": "stream",
       "stream": "stdout",
       "text": [
        " 17\n",
        "Training   Error = \t0.0592530913255\n",
        "Validation Error = \t0.115507531652\n",
        "Epoch="
       ]
      },
      {
       "output_type": "stream",
       "stream": "stdout",
       "text": [
        " 18\n",
        "Training   Error = \t0.0581045679371\n",
        "Validation Error = \t0.115842647746\n",
        "Epoch="
       ]
      },
      {
       "output_type": "stream",
       "stream": "stdout",
       "text": [
        " 19\n",
        "Training   Error = \t0.0570212594886\n",
        "Validation Error = \t0.111650802057\n",
        "Epoch="
       ]
      },
      {
       "output_type": "stream",
       "stream": "stdout",
       "text": [
        " 20\n",
        "Training   Error = \t0.0559834997971\n",
        "Validation Error = \t0.11327912041\n",
        "Samples="
       ]
      },
      {
       "output_type": "stream",
       "stream": "stdout",
       "text": [
        " 50000     Hidden Layers= 1    Hidden Neurons= 100    F.O.M.= 0.75558    Time= 352.0\n",
        "Epoch="
       ]
      },
      {
       "output_type": "stream",
       "stream": "stdout",
       "text": [
        " 1\n",
        "Training   Error = \t0.191620344873\n",
        "Validation Error = \t0.292202529044\n",
        "Epoch="
       ]
      },
      {
       "output_type": "stream",
       "stream": "stdout",
       "text": [
        " 2\n",
        "Training   Error = \t0.112011051115\n",
        "Validation Error = \t0.124125957653\n",
        "Epoch="
       ]
      },
      {
       "output_type": "stream",
       "stream": "stdout",
       "text": [
        " 3\n",
        "Training   Error = \t0.0991842603154\n",
        "Validation Error = \t0.110360682484\n",
        "Epoch="
       ]
      },
      {
       "output_type": "stream",
       "stream": "stdout",
       "text": [
        " 4\n",
        "Training   Error = \t0.0919625246032\n",
        "Validation Error = \t0.101794844339\n",
        "Epoch="
       ]
      },
      {
       "output_type": "stream",
       "stream": "stdout",
       "text": [
        " 5\n",
        "Training   Error = \t0.0868776861093\n",
        "Validation Error = \t0.110720347855\n",
        "Epoch="
       ]
      },
      {
       "output_type": "stream",
       "stream": "stdout",
       "text": [
        " 6\n",
        "Training   Error = \t0.0824037580925\n",
        "Validation Error = \t0.0982494730986\n",
        "Epoch="
       ]
      },
      {
       "output_type": "stream",
       "stream": "stdout",
       "text": [
        " 7\n",
        "Training   Error = \t0.0794623330419\n",
        "Validation Error = \t0.0969466979747\n",
        "Epoch="
       ]
      },
      {
       "output_type": "stream",
       "stream": "stdout",
       "text": [
        " 8\n",
        "Training   Error = \t0.0763732250391\n",
        "Validation Error = \t0.104816302138\n",
        "Epoch="
       ]
      },
      {
       "output_type": "stream",
       "stream": "stdout",
       "text": [
        " 9\n",
        "Training   Error = \t0.0737618249983\n",
        "Validation Error = \t0.0979206172564\n",
        "Epoch="
       ]
      },
      {
       "output_type": "stream",
       "stream": "stdout",
       "text": [
        " 10\n",
        "Training   Error = \t0.0718303637782\n",
        "Validation Error = \t0.0982380092576\n",
        "Epoch="
       ]
      },
      {
       "output_type": "stream",
       "stream": "stdout",
       "text": [
        " 11\n",
        "Training   Error = \t0.0698276195332\n",
        "Validation Error = \t0.100274304549\n",
        "Epoch="
       ]
      },
      {
       "output_type": "stream",
       "stream": "stdout",
       "text": [
        " 12\n",
        "Training   Error = \t0.0685758948066\n",
        "Validation Error = \t0.100944268885\n",
        "Epoch="
       ]
      },
      {
       "output_type": "stream",
       "stream": "stdout",
       "text": [
        " 13\n",
        "Training   Error = \t0.0668524988913\n",
        "Validation Error = \t0.101020916239\n",
        "Epoch="
       ]
      },
      {
       "output_type": "stream",
       "stream": "stdout",
       "text": [
        " 14\n",
        "Training   Error = \t0.0657349785472\n",
        "Validation Error = \t0.108382619709\n",
        "Epoch="
       ]
      },
      {
       "output_type": "stream",
       "stream": "stdout",
       "text": [
        " 15\n",
        "Training   Error = \t0.0644687758382\n",
        "Validation Error = \t0.108346851086\n",
        "Epoch="
       ]
      },
      {
       "output_type": "stream",
       "stream": "stdout",
       "text": [
        " 16\n",
        "Training   Error = \t0.0632104077691\n",
        "Validation Error = \t0.103931107585\n",
        "Epoch="
       ]
      },
      {
       "output_type": "stream",
       "stream": "stdout",
       "text": [
        " 17\n",
        "Training   Error = \t0.0624276767648\n",
        "Validation Error = \t0.1050727301\n",
        "Epoch="
       ]
      },
      {
       "output_type": "stream",
       "stream": "stdout",
       "text": [
        " 18\n",
        "Training   Error = \t0.061277682699\n",
        "Validation Error = \t0.117236195187\n",
        "Epoch="
       ]
      },
      {
       "output_type": "stream",
       "stream": "stdout",
       "text": [
        " 19\n",
        "Training   Error = \t0.0602601349929\n",
        "Validation Error = \t0.108236270552\n",
        "Epoch="
       ]
      },
      {
       "output_type": "stream",
       "stream": "stdout",
       "text": [
        " 20\n",
        "Training   Error = \t0.0595556499513\n",
        "Validation Error = \t0.108139848474\n",
        "Samples="
       ]
      },
      {
       "output_type": "stream",
       "stream": "stdout",
       "text": [
        " 60000     Hidden Layers= 1    Hidden Neurons= 100    F.O.M.= 0.751033333333    Time= 428.0\n",
        "Epoch="
       ]
      },
      {
       "output_type": "stream",
       "stream": "stdout",
       "text": [
        " 1\n",
        "Training   Error = \t0.199271152519\n",
        "Validation Error = \t0.367762357827\n",
        "Epoch="
       ]
      },
      {
       "output_type": "stream",
       "stream": "stdout",
       "text": [
        " 2\n",
        "Training   Error = \t0.116337822236\n",
        "Validation Error = \t0.134764227752\n",
        "Epoch="
       ]
      },
      {
       "output_type": "stream",
       "stream": "stdout",
       "text": [
        " 3\n",
        "Training   Error = \t0.101513356309\n",
        "Validation Error = \t0.11350538624\n",
        "Epoch="
       ]
      },
      {
       "output_type": "stream",
       "stream": "stdout",
       "text": [
        " 4\n",
        "Training   Error = \t0.094579533216\n",
        "Validation Error = \t0.105847234274\n",
        "Epoch="
       ]
      },
      {
       "output_type": "stream",
       "stream": "stdout",
       "text": [
        " 5\n",
        "Training   Error = \t0.0893704091038\n",
        "Validation Error = \t0.101223024965\n",
        "Epoch="
       ]
      },
      {
       "output_type": "stream",
       "stream": "stdout",
       "text": [
        " 6\n",
        "Training   Error = \t0.0860911176181\n",
        "Validation Error = \t0.0980538546064\n",
        "Epoch="
       ]
      },
      {
       "output_type": "stream",
       "stream": "stdout",
       "text": [
        " 7\n",
        "Training   Error = \t0.0832832116863\n",
        "Validation Error = \t0.102157355219\n",
        "Epoch="
       ]
      },
      {
       "output_type": "stream",
       "stream": "stdout",
       "text": [
        " 8\n",
        "Training   Error = \t0.0808425798949\n",
        "Validation Error = \t0.096867917001\n",
        "Epoch="
       ]
      },
      {
       "output_type": "stream",
       "stream": "stdout",
       "text": [
        " 9\n",
        "Training   Error = \t0.0791292494872\n",
        "Validation Error = \t0.0973076735082\n",
        "Epoch="
       ]
      },
      {
       "output_type": "stream",
       "stream": "stdout",
       "text": [
        " 10\n",
        "Training   Error = \t0.0773641312552\n",
        "Validation Error = \t0.102578206827\n",
        "Epoch="
       ]
      },
      {
       "output_type": "stream",
       "stream": "stdout",
       "text": [
        " 11\n",
        "Training   Error = \t0.0759213138625\n",
        "Validation Error = \t0.0978043137414\n",
        "Epoch="
       ]
      },
      {
       "output_type": "stream",
       "stream": "stdout",
       "text": [
        " 12\n",
        "Training   Error = \t0.074430826462\n",
        "Validation Error = \t0.105536887862\n",
        "Epoch="
       ]
      },
      {
       "output_type": "stream",
       "stream": "stdout",
       "text": [
        " 13\n",
        "Training   Error = \t0.0735836874661\n",
        "Validation Error = \t0.098159669948\n",
        "Epoch="
       ]
      },
      {
       "output_type": "stream",
       "stream": "stdout",
       "text": [
        " 14\n",
        "Training   Error = \t0.0725470344064\n",
        "Validation Error = \t0.100917699088\n",
        "Epoch="
       ]
      },
      {
       "output_type": "stream",
       "stream": "stdout",
       "text": [
        " 15\n",
        "Training   Error = \t0.0715219958634\n",
        "Validation Error = \t0.099436688546\n",
        "Epoch="
       ]
      },
      {
       "output_type": "stream",
       "stream": "stdout",
       "text": [
        " 16\n",
        "Training   Error = \t0.0706839820404\n",
        "Validation Error = \t0.109319959696\n",
        "Epoch="
       ]
      },
      {
       "output_type": "stream",
       "stream": "stdout",
       "text": [
        " 17\n",
        "Training   Error = \t0.0698338708402\n",
        "Validation Error = \t0.102937172225\n",
        "Epoch="
       ]
      },
      {
       "output_type": "stream",
       "stream": "stdout",
       "text": [
        " 18\n",
        "Training   Error = \t0.0689922601823\n",
        "Validation Error = \t0.107597128594\n",
        "Epoch="
       ]
      },
      {
       "output_type": "stream",
       "stream": "stdout",
       "text": [
        " 19\n",
        "Training   Error = \t0.0682419407563\n",
        "Validation Error = \t0.102811539711\n",
        "Epoch="
       ]
      },
      {
       "output_type": "stream",
       "stream": "stdout",
       "text": [
        " 20\n",
        "Training   Error = \t0.0675786599721\n",
        "Validation Error = \t0.104004337877\n",
        "Samples="
       ]
      },
      {
       "output_type": "stream",
       "stream": "stdout",
       "text": [
        " 70000     Hidden Layers= 1    Hidden Neurons= 100    F.O.M.= 0.737142857143    Time= 640.0\n",
        "Epoch="
       ]
      },
      {
       "output_type": "stream",
       "stream": "stdout",
       "text": [
        " 1\n",
        "Training   Error = \t0.195303836203\n",
        "Validation Error = \t0.298932380214\n",
        "Epoch="
       ]
      },
      {
       "output_type": "stream",
       "stream": "stdout",
       "text": [
        " 2\n",
        "Training   Error = \t0.114633208357\n",
        "Validation Error = \t0.126963210101\n",
        "Epoch="
       ]
      },
      {
       "output_type": "stream",
       "stream": "stdout",
       "text": [
        " 3\n",
        "Training   Error = \t0.102062745442\n",
        "Validation Error = \t0.112524690786\n",
        "Epoch="
       ]
      },
      {
       "output_type": "stream",
       "stream": "stdout",
       "text": [
        " 4\n",
        "Training   Error = \t0.0947787535159\n",
        "Validation Error = \t0.10455559707\n",
        "Epoch="
       ]
      },
      {
       "output_type": "stream",
       "stream": "stdout",
       "text": [
        " 5\n",
        "Training   Error = \t0.0902328688312\n",
        "Validation Error = \t0.102297329735\n",
        "Epoch="
       ]
      },
      {
       "output_type": "stream",
       "stream": "stdout",
       "text": [
        " 6\n",
        "Training   Error = \t0.0866615844895\n",
        "Validation Error = \t0.103215996274\n",
        "Epoch="
       ]
      },
      {
       "output_type": "stream",
       "stream": "stdout",
       "text": [
        " 7\n",
        "Training   Error = \t0.0833968144849\n",
        "Validation Error = \t0.109803483754\n",
        "Epoch="
       ]
      },
      {
       "output_type": "stream",
       "stream": "stdout",
       "text": [
        " 8\n",
        "Training   Error = \t0.0814874283385\n",
        "Validation Error = \t0.0960229089651\n",
        "Epoch="
       ]
      },
      {
       "output_type": "stream",
       "stream": "stdout",
       "text": [
        " 9\n",
        "Training   Error = \t0.0791337740331\n",
        "Validation Error = \t0.0975792079345\n",
        "Epoch="
       ]
      },
      {
       "output_type": "stream",
       "stream": "stdout",
       "text": [
        " 10\n",
        "Training   Error = \t0.077633388018\n",
        "Validation Error = \t0.104514288792\n",
        "Epoch="
       ]
      },
      {
       "output_type": "stream",
       "stream": "stdout",
       "text": [
        " 11\n",
        "Training   Error = \t0.0763315279675\n",
        "Validation Error = \t0.0982059190201\n",
        "Epoch="
       ]
      },
      {
       "output_type": "stream",
       "stream": "stdout",
       "text": [
        " 12\n",
        "Training   Error = \t0.0748269874123\n",
        "Validation Error = \t0.0981591827179\n",
        "Epoch="
       ]
      },
      {
       "output_type": "stream",
       "stream": "stdout",
       "text": [
        " 13\n",
        "Training   Error = \t0.0736509794864\n",
        "Validation Error = \t0.0970827581466\n",
        "Epoch="
       ]
      },
      {
       "output_type": "stream",
       "stream": "stdout",
       "text": [
        " 14\n",
        "Training   Error = \t0.0727173668261\n",
        "Validation Error = \t0.10804862675\n",
        "Epoch="
       ]
      },
      {
       "output_type": "stream",
       "stream": "stdout",
       "text": [
        " 15\n",
        "Training   Error = \t0.0716968606584\n",
        "Validation Error = \t0.102440257335\n",
        "Epoch="
       ]
      },
      {
       "output_type": "stream",
       "stream": "stdout",
       "text": [
        " 16\n",
        "Training   Error = \t0.0706590571213\n",
        "Validation Error = \t0.0993822220476\n",
        "Epoch="
       ]
      },
      {
       "output_type": "stream",
       "stream": "stdout",
       "text": [
        " 17\n",
        "Training   Error = \t0.0697707782159\n",
        "Validation Error = \t0.0997571476982\n",
        "Epoch="
       ]
      },
      {
       "output_type": "stream",
       "stream": "stdout",
       "text": [
        " 18\n",
        "Training   Error = \t0.0688480740633\n",
        "Validation Error = \t0.100360107518\n",
        "Epoch="
       ]
      },
      {
       "output_type": "stream",
       "stream": "stdout",
       "text": [
        " 19\n",
        "Training   Error = \t0.0682828379872\n",
        "Validation Error = \t0.100825404441\n",
        "Epoch="
       ]
      },
      {
       "output_type": "stream",
       "stream": "stdout",
       "text": [
        " 20\n",
        "Training   Error = \t0.0676776973041\n",
        "Validation Error = \t0.113931266292\n",
        "Samples="
       ]
      },
      {
       "output_type": "stream",
       "stream": "stdout",
       "text": [
        " 80000     Hidden Layers= 1    Hidden Neurons= 100    F.O.M.= 0.7387875    Time= 611.0\n",
        "Epoch="
       ]
      },
      {
       "output_type": "stream",
       "stream": "stdout",
       "text": [
        " 1\n",
        "Training   Error = \t0.194195528957\n",
        "Validation Error = \t0.271872028414\n",
        "Epoch="
       ]
      },
      {
       "output_type": "stream",
       "stream": "stdout",
       "text": [
        " 2\n",
        "Training   Error = \t0.114602372404\n",
        "Validation Error = \t0.134196428768\n",
        "Epoch="
       ]
      },
      {
       "output_type": "stream",
       "stream": "stdout",
       "text": [
        " 3\n",
        "Training   Error = \t0.101946888471\n",
        "Validation Error = \t0.107702876549\n",
        "Epoch="
       ]
      },
      {
       "output_type": "stream",
       "stream": "stdout",
       "text": [
        " 4\n",
        "Training   Error = \t0.0951222580535\n",
        "Validation Error = \t0.101689153392\n",
        "Epoch="
       ]
      },
      {
       "output_type": "stream",
       "stream": "stdout",
       "text": [
        " 5\n",
        "Training   Error = \t0.0908226826305\n",
        "Validation Error = \t0.0979682325792\n",
        "Epoch="
       ]
      },
      {
       "output_type": "stream",
       "stream": "stdout",
       "text": [
        " 6\n",
        "Training   Error = \t0.0871728833596\n",
        "Validation Error = \t0.107034033091\n",
        "Epoch="
       ]
      },
      {
       "output_type": "stream",
       "stream": "stdout",
       "text": [
        " 7\n",
        "Training   Error = \t0.0844174713657\n",
        "Validation Error = \t0.0952351780472\n",
        "Epoch="
       ]
      },
      {
       "output_type": "stream",
       "stream": "stdout",
       "text": [
        " 8\n",
        "Training   Error = \t0.0824555850564\n",
        "Validation Error = \t0.0947008000894\n",
        "Epoch="
       ]
      },
      {
       "output_type": "stream",
       "stream": "stdout",
       "text": [
        " 9\n",
        "Training   Error = \t0.0805875557283\n",
        "Validation Error = \t0.0961272939442\n",
        "Epoch="
       ]
      },
      {
       "output_type": "stream",
       "stream": "stdout",
       "text": [
        " 10\n",
        "Training   Error = \t0.0787691970634\n",
        "Validation Error = \t0.0959146024951\n",
        "Epoch="
       ]
      },
      {
       "output_type": "stream",
       "stream": "stdout",
       "text": [
        " 11\n",
        "Training   Error = \t0.0777692974858\n",
        "Validation Error = \t0.113130885501\n",
        "Epoch="
       ]
      },
      {
       "output_type": "stream",
       "stream": "stdout",
       "text": [
        " 12\n",
        "Training   Error = \t0.0765430874515\n",
        "Validation Error = \t0.0950452299364\n",
        "Epoch="
       ]
      },
      {
       "output_type": "stream",
       "stream": "stdout",
       "text": [
        " 13\n",
        "Training   Error = \t0.0751906158622\n",
        "Validation Error = \t0.0967709582707\n",
        "Epoch="
       ]
      },
      {
       "output_type": "stream",
       "stream": "stdout",
       "text": [
        " 14\n",
        "Training   Error = \t0.0740394699234\n",
        "Validation Error = \t0.103846468216\n",
        "Epoch="
       ]
      },
      {
       "output_type": "stream",
       "stream": "stdout",
       "text": [
        " 15\n",
        "Training   Error = \t0.0732815226707\n",
        "Validation Error = \t0.0975253085405\n",
        "Epoch="
       ]
      },
      {
       "output_type": "stream",
       "stream": "stdout",
       "text": [
        " 16\n",
        "Training   Error = \t0.0722258642886\n",
        "Validation Error = \t0.108024644548\n",
        "Epoch="
       ]
      },
      {
       "output_type": "stream",
       "stream": "stdout",
       "text": [
        " 17\n",
        "Training   Error = \t0.0714175251109\n",
        "Validation Error = \t0.105158305214\n",
        "Epoch="
       ]
      },
      {
       "output_type": "stream",
       "stream": "stdout",
       "text": [
        " 18\n",
        "Training   Error = \t0.0710066625683\n",
        "Validation Error = \t0.108689244715\n",
        "Epoch="
       ]
      },
      {
       "output_type": "stream",
       "stream": "stdout",
       "text": [
        " 19\n",
        "Training   Error = \t0.0703006843829\n",
        "Validation Error = \t0.098787272868\n",
        "Epoch="
       ]
      },
      {
       "output_type": "stream",
       "stream": "stdout",
       "text": [
        " 20\n",
        "Training   Error = \t0.0697505700178\n",
        "Validation Error = \t0.098640226632\n",
        "Samples="
       ]
      },
      {
       "output_type": "stream",
       "stream": "stdout",
       "text": [
        " 90000     Hidden Layers= 1    Hidden Neurons= 100    F.O.M.= 0.734455555556    Time= 389.0\n",
        "Epoch="
       ]
      },
      {
       "output_type": "stream",
       "stream": "stdout",
       "text": [
        " 1\n",
        "Training   Error = \t0.188876806913\n",
        "Validation Error = \t0.292463711829\n",
        "Epoch="
       ]
      },
      {
       "output_type": "stream",
       "stream": "stdout",
       "text": [
        " 2\n",
        "Training   Error = \t0.0864735249581\n",
        "Validation Error = \t0.133822659344\n",
        "Epoch="
       ]
      },
      {
       "output_type": "stream",
       "stream": "stdout",
       "text": [
        " 3\n",
        "Training   Error = \t0.0543238300019\n",
        "Validation Error = \t0.120071803875\n",
        "Epoch="
       ]
      },
      {
       "output_type": "stream",
       "stream": "stdout",
       "text": [
        " 4\n",
        "Training   Error = \t0.0335628719796\n",
        "Validation Error = \t0.126962911078\n",
        "Epoch="
       ]
      },
      {
       "output_type": "stream",
       "stream": "stdout",
       "text": [
        " 5\n",
        "Training   Error = \t0.0198222767648\n",
        "Validation Error = \t0.132376240612\n",
        "Epoch="
       ]
      },
      {
       "output_type": "stream",
       "stream": "stdout",
       "text": [
        " 6\n",
        "Training   Error = \t0.0133453692626\n",
        "Validation Error = \t0.158662563331\n",
        "Epoch="
       ]
      },
      {
       "output_type": "stream",
       "stream": "stdout",
       "text": [
        " 7\n",
        "Training   Error = \t0.00950235293921\n",
        "Validation Error = \t0.145168180298\n",
        "Epoch="
       ]
      },
      {
       "output_type": "stream",
       "stream": "stdout",
       "text": [
        " 8\n",
        "Training   Error = \t0.00788614797818\n",
        "Validation Error = \t0.148008802316\n",
        "Epoch="
       ]
      },
      {
       "output_type": "stream",
       "stream": "stdout",
       "text": [
        " 9\n",
        "Training   Error = \t0.00646561761229\n",
        "Validation Error = \t0.151665269795\n",
        "Epoch="
       ]
      },
      {
       "output_type": "stream",
       "stream": "stdout",
       "text": [
        " 10\n",
        "Training   Error = \t0.00493870258735\n",
        "Validation Error = \t0.153449046969\n",
        "Epoch="
       ]
      },
      {
       "output_type": "stream",
       "stream": "stdout",
       "text": [
        " 11\n",
        "Training   Error = \t0.00477135581339\n",
        "Validation Error = \t0.154216787662\n",
        "Epoch="
       ]
      },
      {
       "output_type": "stream",
       "stream": "stdout",
       "text": [
        " 12\n",
        "Training   Error = \t0.00395500010911\n",
        "Validation Error = \t0.155253585008\n",
        "Epoch="
       ]
      },
      {
       "output_type": "stream",
       "stream": "stdout",
       "text": [
        " 13\n",
        "Training   Error = \t0.00452813401835\n",
        "Validation Error = \t0.157371685746\n",
        "Epoch="
       ]
      },
      {
       "output_type": "stream",
       "stream": "stdout",
       "text": [
        " 14\n",
        "Training   Error = \t0.00365254541591\n",
        "Validation Error = \t0.160589133366\n",
        "Epoch="
       ]
      },
      {
       "output_type": "stream",
       "stream": "stdout",
       "text": [
        " 15\n",
        "Training   Error = \t0.00327235983432\n",
        "Validation Error = \t0.161481396547\n",
        "Epoch="
       ]
      },
      {
       "output_type": "stream",
       "stream": "stdout",
       "text": [
        " 16\n",
        "Training   Error = \t0.00332345655245\n",
        "Validation Error = \t0.161572194433\n",
        "Epoch="
       ]
      },
      {
       "output_type": "stream",
       "stream": "stdout",
       "text": [
        " 17\n",
        "Training   Error = \t0.00335987009658\n",
        "Validation Error = \t0.163370631262\n",
        "Epoch="
       ]
      },
      {
       "output_type": "stream",
       "stream": "stdout",
       "text": [
        " 18\n",
        "Training   Error = \t0.00236578886958\n",
        "Validation Error = \t0.163175698741\n",
        "Epoch="
       ]
      },
      {
       "output_type": "stream",
       "stream": "stdout",
       "text": [
        " 19\n",
        "Training   Error = \t0.00320324436507\n",
        "Validation Error = \t0.162990695935\n",
        "Epoch="
       ]
      },
      {
       "output_type": "stream",
       "stream": "stdout",
       "text": [
        " 20\n",
        "Training   Error = \t0.00151736654953\n",
        "Validation Error = \t0.164853114441\n",
        "Samples="
       ]
      },
      {
       "output_type": "stream",
       "stream": "stdout",
       "text": [
        " 10000     Hidden Layers= 1    Hidden Neurons= 200    F.O.M.= 0.7988    Time= 1251.0\n",
        "Epoch="
       ]
      },
      {
       "output_type": "stream",
       "stream": "stdout",
       "text": [
        " 1\n",
        "Training   Error = \t0.190452622302\n",
        "Validation Error = \t0.25948713403\n",
        "Epoch="
       ]
      },
      {
       "output_type": "stream",
       "stream": "stdout",
       "text": [
        " 2\n",
        "Training   Error = \t0.103539209882\n",
        "Validation Error = \t0.128322718232\n",
        "Epoch="
       ]
      },
      {
       "output_type": "stream",
       "stream": "stdout",
       "text": [
        " 3\n",
        "Training   Error = \t0.0823106527766\n",
        "Validation Error = \t0.128868725324\n",
        "Epoch="
       ]
      },
      {
       "output_type": "stream",
       "stream": "stdout",
       "text": [
        " 4\n",
        "Training   Error = \t0.06771880963\n",
        "Validation Error = \t0.114290859918\n",
        "Epoch="
       ]
      },
      {
       "output_type": "stream",
       "stream": "stdout",
       "text": [
        " 5\n",
        "Training   Error = \t0.0556102606257\n",
        "Validation Error = \t0.117884469827\n",
        "Epoch="
       ]
      },
      {
       "output_type": "stream",
       "stream": "stdout",
       "text": [
        " 6\n",
        "Training   Error = \t0.0459598374914\n",
        "Validation Error = \t0.116533270933\n",
        "Epoch="
       ]
      },
      {
       "output_type": "stream",
       "stream": "stdout",
       "text": [
        " 7\n",
        "Training   Error = \t0.0370830066174\n",
        "Validation Error = \t0.117175565766\n",
        "Epoch="
       ]
      },
      {
       "output_type": "stream",
       "stream": "stdout",
       "text": [
        " 8\n",
        "Training   Error = \t0.0307335200168\n",
        "Validation Error = \t0.122417519135\n",
        "Epoch="
       ]
      },
      {
       "output_type": "stream",
       "stream": "stdout",
       "text": [
        " 16\n",
        "Training   Error = \t0.0113626096442\n",
        "Validation Error = \t0.138311831376\n",
        "Epoch="
       ]
      },
      {
       "output_type": "stream",
       "stream": "stdout",
       "text": [
        " 17\n",
        "Training   Error = \t0.0101641967047\n",
        "Validation Error = \t0.140610537826\n",
        "Epoch="
       ]
      },
      {
       "output_type": "stream",
       "stream": "stdout",
       "text": [
        " 18\n",
        "Training   Error = \t0.0093345742535\n",
        "Validation Error = \t0.141234597724\n",
        "Epoch="
       ]
      },
      {
       "output_type": "stream",
       "stream": "stdout",
       "text": [
        " 19\n",
        "Training   Error = \t0.0095856800203\n",
        "Validation Error = \t0.141076486932\n",
        "Epoch="
       ]
      },
      {
       "output_type": "stream",
       "stream": "stdout",
       "text": [
        " 20\n",
        "Training   Error = \t0.00827200321275\n",
        "Validation Error = \t0.141212140003\n",
        "Samples="
       ]
      },
      {
       "output_type": "stream",
       "stream": "stdout",
       "text": [
        " 20000     Hidden Layers= 1    Hidden Neurons= 200    F.O.M.= 0.7958    Time= 1158.0\n",
        "Epoch="
       ]
      },
      {
       "output_type": "stream",
       "stream": "stdout",
       "text": [
        " 1\n",
        "Training   Error = \t0.192651684747\n",
        "Validation Error = \t0.250417136334\n",
        "Epoch="
       ]
      },
      {
       "output_type": "stream",
       "stream": "stdout",
       "text": [
        " 2\n",
        "Training   Error = \t0.107066283605\n",
        "Validation Error = \t0.125837232862\n",
        "Epoch="
       ]
      },
      {
       "output_type": "stream",
       "stream": "stdout",
       "text": [
        " 3\n",
        "Training   Error = \t0.0912824090642\n",
        "Validation Error = \t0.12570881321\n",
        "Epoch="
       ]
      },
      {
       "output_type": "stream",
       "stream": "stdout",
       "text": [
        " 4\n",
        "Training   Error = \t0.0800690946289\n",
        "Validation Error = \t0.110797041734\n",
        "Epoch="
       ]
      },
      {
       "output_type": "stream",
       "stream": "stdout",
       "text": [
        " 5\n",
        "Training   Error = \t0.0708231154912\n",
        "Validation Error = \t0.109096106878\n",
        "Epoch="
       ]
      },
      {
       "output_type": "stream",
       "stream": "stdout",
       "text": [
        " 6\n",
        "Training   Error = \t0.0631092762601\n",
        "Validation Error = \t0.121108766134\n",
        "Epoch="
       ]
      },
      {
       "output_type": "stream",
       "stream": "stdout",
       "text": [
        " 7\n",
        "Training   Error = \t0.0559832747494\n",
        "Validation Error = \t0.123795761932\n",
        "Epoch="
       ]
      },
      {
       "output_type": "stream",
       "stream": "stdout",
       "text": [
        " 8\n",
        "Training   Error = \t0.0497055105389\n",
        "Validation Error = \t0.115261945113\n",
        "Epoch="
       ]
      },
      {
       "output_type": "stream",
       "stream": "stdout",
       "text": [
        " 9\n",
        "Training   Error = \t0.045009276022\n",
        "Validation Error = \t0.111731297292\n",
        "Epoch="
       ]
      },
      {
       "output_type": "stream",
       "stream": "stdout",
       "text": [
        " 10\n",
        "Training   Error = \t0.0399612436948\n",
        "Validation Error = \t0.126213870434\n",
        "Epoch="
       ]
      },
      {
       "output_type": "stream",
       "stream": "stdout",
       "text": [
        " 11\n",
        "Training   Error = \t0.0353953477337\n",
        "Validation Error = \t0.119680783482\n",
        "Epoch="
       ]
      },
      {
       "output_type": "stream",
       "stream": "stdout",
       "text": [
        " 12\n",
        "Training   Error = \t0.032045883649\n",
        "Validation Error = \t0.135134278986\n",
        "Epoch="
       ]
      },
      {
       "output_type": "stream",
       "stream": "stdout",
       "text": [
        " 13\n",
        "Training   Error = \t0.0284494722249\n",
        "Validation Error = \t0.121978860157\n",
        "Epoch="
       ]
      },
      {
       "output_type": "stream",
       "stream": "stdout",
       "text": [
        " 14\n",
        "Training   Error = \t0.0262152466077\n",
        "Validation Error = \t0.125953569495\n",
        "Epoch="
       ]
      },
      {
       "output_type": "stream",
       "stream": "stdout",
       "text": [
        " 15\n",
        "Training   Error = \t0.0238050286133\n",
        "Validation Error = \t0.126132109671\n",
        "Epoch="
       ]
      },
      {
       "output_type": "stream",
       "stream": "stdout",
       "text": [
        " 16\n",
        "Training   Error = \t0.0221431050644\n",
        "Validation Error = \t0.128147395534\n",
        "Epoch="
       ]
      },
      {
       "output_type": "stream",
       "stream": "stdout",
       "text": [
        " 17\n",
        "Training   Error = \t0.0206465356024\n",
        "Validation Error = \t0.130656437756\n",
        "Epoch="
       ]
      },
      {
       "output_type": "stream",
       "stream": "stdout",
       "text": [
        " 18\n",
        "Training   Error = \t0.0193513633857\n",
        "Validation Error = \t0.132178063174\n",
        "Epoch="
       ]
      },
      {
       "output_type": "stream",
       "stream": "stdout",
       "text": [
        " 19\n",
        "Training   Error = \t0.0174511906384\n",
        "Validation Error = \t0.134593961004\n",
        "Epoch="
       ]
      },
      {
       "output_type": "stream",
       "stream": "stdout",
       "text": [
        " 20\n",
        "Training   Error = \t0.0169804338596\n",
        "Validation Error = \t0.133664298467\n",
        "Samples="
       ]
      },
      {
       "output_type": "stream",
       "stream": "stdout",
       "text": [
        " 30000     Hidden Layers= 1    Hidden Neurons= 200    F.O.M.= 0.793066666667    Time= 1262.0\n",
        "Epoch="
       ]
      },
      {
       "output_type": "stream",
       "stream": "stdout",
       "text": [
        " 1\n",
        "Training   Error = \t0.189612535177\n",
        "Validation Error = \t0.324183406956\n",
        "Epoch="
       ]
      },
      {
       "output_type": "stream",
       "stream": "stdout",
       "text": [
        " 2\n",
        "Training   Error = \t0.109453765906\n",
        "Validation Error = \t0.123062891684\n",
        "Epoch="
       ]
      },
      {
       "output_type": "stream",
       "stream": "stdout",
       "text": [
        " 3\n",
        "Training   Error = \t0.0955744280704\n",
        "Validation Error = \t0.110123034132\n",
        "Epoch="
       ]
      },
      {
       "output_type": "stream",
       "stream": "stdout",
       "text": [
        " 4\n",
        "Training   Error = \t0.0862613545908\n",
        "Validation Error = \t0.104958309269\n",
        "Epoch="
       ]
      },
      {
       "output_type": "stream",
       "stream": "stdout",
       "text": [
        " 5\n",
        "Training   Error = \t0.0787844052612\n",
        "Validation Error = \t0.106999722624\n",
        "Epoch="
       ]
      },
      {
       "output_type": "stream",
       "stream": "stdout",
       "text": [
        " 6\n",
        "Training   Error = \t0.0720145245149\n",
        "Validation Error = \t0.114172727214\n",
        "Epoch="
       ]
      },
      {
       "output_type": "stream",
       "stream": "stdout",
       "text": [
        " 7\n",
        "Training   Error = \t0.0662146110458\n",
        "Validation Error = \t0.107086197302\n",
        "Epoch="
       ]
      },
      {
       "output_type": "stream",
       "stream": "stdout",
       "text": [
        " 8\n",
        "Training   Error = \t0.0613830328327\n",
        "Validation Error = \t0.113499139378\n",
        "Epoch="
       ]
      },
      {
       "output_type": "stream",
       "stream": "stdout",
       "text": [
        " 9\n",
        "Training   Error = \t0.0566163037097\n",
        "Validation Error = \t0.108825711737\n",
        "Epoch="
       ]
      },
      {
       "output_type": "stream",
       "stream": "stdout",
       "text": [
        " 10\n",
        "Training   Error = \t0.0523836556211\n",
        "Validation Error = \t0.112949133984\n",
        "Epoch="
       ]
      },
      {
       "output_type": "stream",
       "stream": "stdout",
       "text": [
        " 11\n",
        "Training   Error = \t0.0484919581331\n",
        "Validation Error = \t0.125939497012\n",
        "Epoch="
       ]
      },
      {
       "output_type": "stream",
       "stream": "stdout",
       "text": [
        " 12\n",
        "Training   Error = \t0.0451748141768\n",
        "Validation Error = \t0.117112681742\n",
        "Epoch="
       ]
      },
      {
       "output_type": "stream",
       "stream": "stdout",
       "text": [
        " 13\n",
        "Training   Error = \t0.0421157567399\n",
        "Validation Error = \t0.119201157273\n",
        "Epoch="
       ]
      },
      {
       "output_type": "stream",
       "stream": "stdout",
       "text": [
        " 14\n",
        "Training   Error = \t0.0393416527057\n",
        "Validation Error = \t0.118635098512\n",
        "Epoch="
       ]
      },
      {
       "output_type": "stream",
       "stream": "stdout",
       "text": [
        " 15\n",
        "Training   Error = \t0.0365619109546\n",
        "Validation Error = \t0.131535112438\n",
        "Epoch="
       ]
      },
      {
       "output_type": "stream",
       "stream": "stdout",
       "text": [
        " 16\n",
        "Training   Error = \t0.0340498929097\n",
        "Validation Error = \t0.130144733514\n",
        "Epoch="
       ]
      },
      {
       "output_type": "stream",
       "stream": "stdout",
       "text": [
        " 17\n",
        "Training   Error = \t0.0320837026565\n",
        "Validation Error = \t0.147100486242\n",
        "Epoch="
       ]
      },
      {
       "output_type": "stream",
       "stream": "stdout",
       "text": [
        " 18\n",
        "Training   Error = \t0.0295870664561\n",
        "Validation Error = \t0.129850696952\n",
        "Epoch="
       ]
      },
      {
       "output_type": "stream",
       "stream": "stdout",
       "text": [
        " 19\n",
        "Training   Error = \t0.0281601067588\n",
        "Validation Error = \t0.131572109214\n",
        "Epoch="
       ]
      },
      {
       "output_type": "stream",
       "stream": "stdout",
       "text": [
        " 20\n",
        "Training   Error = \t0.0260333999683\n",
        "Validation Error = \t0.132402430928\n",
        "Samples="
       ]
      },
      {
       "output_type": "stream",
       "stream": "stdout",
       "text": [
        " 40000     Hidden Layers= 1    Hidden Neurons= 200    F.O.M.= 0.789425    Time= 1104.0\n",
        "Epoch="
       ]
      },
      {
       "output_type": "stream",
       "stream": "stdout",
       "text": [
        " 1\n",
        "Training   Error = \t0.191764811186\n",
        "Validation Error = \t0.268524664\n",
        "Epoch="
       ]
      },
      {
       "output_type": "stream",
       "stream": "stdout",
       "text": [
        " 2\n",
        "Training   Error = \t0.110447420264\n",
        "Validation Error = \t0.124328101436\n",
        "Epoch="
       ]
      },
      {
       "output_type": "stream",
       "stream": "stdout",
       "text": [
        " 3\n",
        "Training   Error = \t0.0968158083925\n",
        "Validation Error = \t0.105090393542\n",
        "Epoch="
       ]
      },
      {
       "output_type": "stream",
       "stream": "stdout",
       "text": [
        " 4\n",
        "Training   Error = \t0.0881798257454\n",
        "Validation Error = \t0.0999597867547\n",
        "Epoch="
       ]
      },
      {
       "output_type": "stream",
       "stream": "stdout",
       "text": [
        " 5\n",
        "Training   Error = \t0.081511096248\n",
        "Validation Error = \t0.102274845543\n",
        "Epoch="
       ]
      },
      {
       "output_type": "stream",
       "stream": "stdout",
       "text": [
        " 6\n",
        "Training   Error = \t0.0758049039618\n",
        "Validation Error = \t0.106207468621\n",
        "Epoch="
       ]
      },
      {
       "output_type": "stream",
       "stream": "stdout",
       "text": [
        " 7\n",
        "Training   Error = \t0.0711536960939\n",
        "Validation Error = \t0.100433795772\n",
        "Epoch="
       ]
      },
      {
       "output_type": "stream",
       "stream": "stdout",
       "text": [
        " 8\n",
        "Training   Error = \t0.0665115326283\n",
        "Validation Error = \t0.121911623111\n",
        "Epoch="
       ]
      },
      {
       "output_type": "stream",
       "stream": "stdout",
       "text": [
        " 9\n",
        "Training   Error = \t0.0626681013589\n",
        "Validation Error = \t0.111073813426\n",
        "Epoch="
       ]
      },
      {
       "output_type": "stream",
       "stream": "stdout",
       "text": [
        " 10\n",
        "Training   Error = \t0.0590764887285\n",
        "Validation Error = \t0.109722451796\n",
        "Epoch="
       ]
      },
      {
       "output_type": "stream",
       "stream": "stdout",
       "text": [
        " 11\n",
        "Training   Error = \t0.0560873183369\n",
        "Validation Error = \t0.107037306313\n",
        "Epoch="
       ]
      },
      {
       "output_type": "stream",
       "stream": "stdout",
       "text": [
        " 12\n",
        "Training   Error = \t0.0529815585499\n",
        "Validation Error = \t0.125782485791\n",
        "Epoch="
       ]
      },
      {
       "output_type": "stream",
       "stream": "stdout",
       "text": [
        " 13\n",
        "Training   Error = \t0.0501875477646\n",
        "Validation Error = \t0.106592130567\n",
        "Epoch="
       ]
      },
      {
       "output_type": "stream",
       "stream": "stdout",
       "text": [
        " 14\n",
        "Training   Error = \t0.0473614253876\n",
        "Validation Error = \t0.106812259001\n",
        "Epoch="
       ]
      },
      {
       "output_type": "stream",
       "stream": "stdout",
       "text": [
        " 15\n",
        "Training   Error = \t0.0449001868021\n",
        "Validation Error = \t0.118250951257\n",
        "Epoch="
       ]
      },
      {
       "output_type": "stream",
       "stream": "stdout",
       "text": [
        " 16\n",
        "Training   Error = \t0.0431813781788\n",
        "Validation Error = \t0.112494012343\n",
        "Epoch="
       ]
      },
      {
       "output_type": "stream",
       "stream": "stdout",
       "text": [
        " 17\n",
        "Training   Error = \t0.0409047616094\n",
        "Validation Error = \t0.11853802376\n",
        "Epoch="
       ]
      },
      {
       "output_type": "stream",
       "stream": "stdout",
       "text": [
        " 18\n",
        "Training   Error = \t0.0391616936989\n",
        "Validation Error = \t0.113416603268\n",
        "Epoch="
       ]
      },
      {
       "output_type": "stream",
       "stream": "stdout",
       "text": [
        " 19\n",
        "Training   Error = \t0.0372021958496\n",
        "Validation Error = \t0.115728734772\n",
        "Epoch="
       ]
      },
      {
       "output_type": "stream",
       "stream": "stdout",
       "text": [
        " 20\n",
        "Training   Error = \t0.0353139519244\n",
        "Validation Error = \t0.118124219442\n",
        "Samples="
       ]
      },
      {
       "output_type": "stream",
       "stream": "stdout",
       "text": [
        " 50000     Hidden Layers= 1    Hidden Neurons= 200    F.O.M.= 0.78152    Time= 957.0\n",
        "Epoch="
       ]
      },
      {
       "output_type": "stream",
       "stream": "stdout",
       "text": [
        " 1\n",
        "Training   Error = \t0.199128411253\n",
        "Validation Error = \t0.305300685995\n",
        "Epoch="
       ]
      },
      {
       "output_type": "stream",
       "stream": "stdout",
       "text": [
        " 2\n",
        "Training   Error = \t0.113148850807\n",
        "Validation Error = \t0.127821929763\n",
        "Epoch="
       ]
      },
      {
       "output_type": "stream",
       "stream": "stdout",
       "text": [
        " 3\n",
        "Training   Error = \t0.100037478932\n",
        "Validation Error = \t0.107034940184\n",
        "Epoch="
       ]
      },
      {
       "output_type": "stream",
       "stream": "stdout",
       "text": [
        " 4\n",
        "Training   Error = \t0.0924591337103\n",
        "Validation Error = \t0.118453887754\n",
        "Epoch="
       ]
      },
      {
       "output_type": "stream",
       "stream": "stdout",
       "text": [
        " 5\n",
        "Training   Error = \t0.0859744311631\n",
        "Validation Error = \t0.104722580557\n",
        "Epoch="
       ]
      },
      {
       "output_type": "stream",
       "stream": "stdout",
       "text": [
        " 6\n",
        "Training   Error = \t0.0812734696115\n",
        "Validation Error = \t0.0980988758664\n",
        "Epoch="
       ]
      },
      {
       "output_type": "stream",
       "stream": "stdout",
       "text": [
        " 7\n",
        "Training   Error = \t0.0767489773005\n",
        "Validation Error = \t0.104820114943\n",
        "Epoch="
       ]
      },
      {
       "output_type": "stream",
       "stream": "stdout",
       "text": [
        " 8\n",
        "Training   Error = \t0.0732960804309\n",
        "Validation Error = \t0.0974691732509\n",
        "Epoch="
       ]
      },
      {
       "output_type": "stream",
       "stream": "stdout",
       "text": [
        " 9\n",
        "Training   Error = \t0.06989024047\n",
        "Validation Error = \t0.0973476631468\n",
        "Epoch="
       ]
      },
      {
       "output_type": "stream",
       "stream": "stdout",
       "text": [
        " 10\n",
        "Training   Error = \t0.0667444712681\n",
        "Validation Error = \t0.10557521298\n",
        "Epoch="
       ]
      },
      {
       "output_type": "stream",
       "stream": "stdout",
       "text": [
        " 11\n",
        "Training   Error = \t0.0641206157905\n",
        "Validation Error = \t0.103233141141\n",
        "Epoch="
       ]
      },
      {
       "output_type": "stream",
       "stream": "stdout",
       "text": [
        " 12\n",
        "Training   Error = \t0.0615484639354\n",
        "Validation Error = \t0.0998390339\n",
        "Epoch="
       ]
      },
      {
       "output_type": "stream",
       "stream": "stdout",
       "text": [
        " 13\n",
        "Training   Error = \t0.0591237843891\n",
        "Validation Error = \t0.100916052868\n",
        "Epoch="
       ]
      },
      {
       "output_type": "stream",
       "stream": "stdout",
       "text": [
        " 14\n",
        "Training   Error = \t0.0568451614413\n",
        "Validation Error = \t0.104069888061\n",
        "Epoch="
       ]
      },
      {
       "output_type": "stream",
       "stream": "stdout",
       "text": [
        " 15\n",
        "Training   Error = \t0.0546661055859\n",
        "Validation Error = \t0.104497080419\n",
        "Epoch="
       ]
      },
      {
       "output_type": "stream",
       "stream": "stdout",
       "text": [
        " 16\n",
        "Training   Error = \t0.0529965464977\n",
        "Validation Error = \t0.104511600201\n",
        "Epoch="
       ]
      },
      {
       "output_type": "stream",
       "stream": "stdout",
       "text": [
        " 17\n",
        "Training   Error = \t0.0510480450272\n",
        "Validation Error = \t0.107288384407\n",
        "Epoch="
       ]
      },
      {
       "output_type": "stream",
       "stream": "stdout",
       "text": [
        " 18\n",
        "Training   Error = \t0.0493040150242\n",
        "Validation Error = \t0.107107266471\n",
        "Epoch="
       ]
      },
      {
       "output_type": "stream",
       "stream": "stdout",
       "text": [
        " 19\n",
        "Training   Error = \t0.0475671379354\n",
        "Validation Error = \t0.123084183985\n",
        "Epoch="
       ]
      },
      {
       "output_type": "stream",
       "stream": "stdout",
       "text": [
        " 20\n",
        "Training   Error = \t0.0459774452104\n",
        "Validation Error = \t0.111934614436\n",
        "Samples="
       ]
      },
      {
       "output_type": "stream",
       "stream": "stdout",
       "text": [
        " 60000     Hidden Layers= 1    Hidden Neurons= 200    F.O.M.= 0.77035    Time= 1403.0\n",
        "Epoch="
       ]
      },
      {
       "output_type": "stream",
       "stream": "stdout",
       "text": [
        " 1\n",
        "Training   Error = \t0.190036505644\n",
        "Validation Error = \t0.341060694021\n",
        "Epoch="
       ]
      },
      {
       "output_type": "stream",
       "stream": "stdout",
       "text": [
        " 2\n",
        "Training   Error = \t0.113724666282\n",
        "Validation Error = \t0.134099058749\n",
        "Epoch="
       ]
      },
      {
       "output_type": "stream",
       "stream": "stdout",
       "text": [
        " 3\n",
        "Training   Error = \t0.100727424207\n",
        "Validation Error = \t0.107983189975\n",
        "Epoch="
       ]
      },
      {
       "output_type": "stream",
       "stream": "stdout",
       "text": [
        " 4\n",
        "Training   Error = \t0.0930834143438\n",
        "Validation Error = \t0.111685647423\n",
        "Epoch="
       ]
      },
      {
       "output_type": "stream",
       "stream": "stdout",
       "text": [
        " 5\n",
        "Training   Error = \t0.0874687943033\n",
        "Validation Error = \t0.100811649008\n",
        "Epoch="
       ]
      },
      {
       "output_type": "stream",
       "stream": "stdout",
       "text": [
        " 6\n",
        "Training   Error = \t0.0827858433448\n",
        "Validation Error = \t0.104729496744\n",
        "Epoch="
       ]
      },
      {
       "output_type": "stream",
       "stream": "stdout",
       "text": [
        " 7\n",
        "Training   Error = \t0.0786201689431\n",
        "Validation Error = \t0.0969416577727\n",
        "Epoch="
       ]
      },
      {
       "output_type": "stream",
       "stream": "stdout",
       "text": [
        " 8\n",
        "Training   Error = \t0.0746304562921\n",
        "Validation Error = \t0.0958186397653\n",
        "Epoch="
       ]
      },
      {
       "output_type": "stream",
       "stream": "stdout",
       "text": [
        " 9\n",
        "Training   Error = \t0.0718170320612\n",
        "Validation Error = \t0.105744980368\n",
        "Epoch="
       ]
      },
      {
       "output_type": "stream",
       "stream": "stdout",
       "text": [
        " 10\n",
        "Training   Error = \t0.0683936205912\n",
        "Validation Error = \t0.0991402918209\n",
        "Epoch="
       ]
      },
      {
       "output_type": "stream",
       "stream": "stdout",
       "text": [
        " 11\n",
        "Training   Error = \t0.0666202769175\n",
        "Validation Error = \t0.0966436129265\n",
        "Epoch="
       ]
      },
      {
       "output_type": "stream",
       "stream": "stdout",
       "text": [
        " 12\n",
        "Training   Error = \t0.0636285595969\n",
        "Validation Error = \t0.0971448488173\n",
        "Epoch="
       ]
      },
      {
       "output_type": "stream",
       "stream": "stdout",
       "text": [
        " 13\n",
        "Training   Error = \t0.0614934055428\n",
        "Validation Error = \t0.096521507312\n",
        "Epoch="
       ]
      },
      {
       "output_type": "stream",
       "stream": "stdout",
       "text": [
        " 14\n",
        "Training   Error = \t0.0596263692909\n",
        "Validation Error = \t0.107711478313\n",
        "Epoch="
       ]
      },
      {
       "output_type": "stream",
       "stream": "stdout",
       "text": [
        " 15\n",
        "Training   Error = \t0.0574182749252\n",
        "Validation Error = \t0.0990286062043\n",
        "Epoch="
       ]
      },
      {
       "output_type": "stream",
       "stream": "stdout",
       "text": [
        " 16\n",
        "Training   Error = \t0.0554824211302\n",
        "Validation Error = \t0.101459504659\n",
        "Epoch="
       ]
      },
      {
       "output_type": "stream",
       "stream": "stdout",
       "text": [
        " 17\n",
        "Training   Error = \t0.0537529735594\n",
        "Validation Error = \t0.106197111615\n",
        "Epoch="
       ]
      },
      {
       "output_type": "stream",
       "stream": "stdout",
       "text": [
        " 18\n",
        "Training   Error = \t0.0521397563299\n",
        "Validation Error = \t0.103954656573\n",
        "Epoch="
       ]
      },
      {
       "output_type": "stream",
       "stream": "stdout",
       "text": [
        " 19\n",
        "Training   Error = \t0.0503169613666\n",
        "Validation Error = \t0.106105340494\n",
        "Epoch="
       ]
      },
      {
       "output_type": "stream",
       "stream": "stdout",
       "text": [
        " 20\n",
        "Training   Error = \t0.0487355080983\n",
        "Validation Error = \t0.114836971812\n",
        "Samples="
       ]
      },
      {
       "output_type": "stream",
       "stream": "stdout",
       "text": [
        " 70000     Hidden Layers= 1    Hidden Neurons= 200    F.O.M.= 0.766    Time= 979.0\n",
        "Epoch="
       ]
      },
      {
       "output_type": "stream",
       "stream": "stdout",
       "text": [
        " 1\n",
        "Training   Error = \t0.191995905614\n",
        "Validation Error = \t0.26217025278\n",
        "Epoch="
       ]
      },
      {
       "output_type": "stream",
       "stream": "stdout",
       "text": [
        " 2\n",
        "Training   Error = \t0.11132212928\n",
        "Validation Error = \t0.12731890732\n",
        "Epoch="
       ]
      },
      {
       "output_type": "stream",
       "stream": "stdout",
       "text": [
        " 3\n",
        "Training   Error = \t0.100242388498\n",
        "Validation Error = \t0.114927079233\n",
        "Epoch="
       ]
      },
      {
       "output_type": "stream",
       "stream": "stdout",
       "text": [
        " 4\n",
        "Training   Error = \t0.0931892469776\n",
        "Validation Error = \t0.100856749551\n",
        "Epoch="
       ]
      },
      {
       "output_type": "stream",
       "stream": "stdout",
       "text": [
        " 5\n",
        "Training   Error = \t0.0877999543388\n",
        "Validation Error = \t0.108564213283\n",
        "Epoch="
       ]
      },
      {
       "output_type": "stream",
       "stream": "stdout",
       "text": [
        " 6\n",
        "Training   Error = \t0.0833063263847\n",
        "Validation Error = \t0.0986311759924\n",
        "Epoch="
       ]
      },
      {
       "output_type": "stream",
       "stream": "stdout",
       "text": [
        " 7\n",
        "Training   Error = \t0.0792287370727\n",
        "Validation Error = \t0.0950504040601\n",
        "Epoch="
       ]
      },
      {
       "output_type": "stream",
       "stream": "stdout",
       "text": [
        " 8\n",
        "Training   Error = \t0.0763348358248\n",
        "Validation Error = \t0.103845359953\n",
        "Epoch="
       ]
      },
      {
       "output_type": "stream",
       "stream": "stdout",
       "text": [
        " 9\n",
        "Training   Error = \t0.07309884228\n",
        "Validation Error = \t0.0939446116682\n",
        "Epoch="
       ]
      },
      {
       "output_type": "stream",
       "stream": "stdout",
       "text": [
        " 10\n",
        "Training   Error = \t0.0706962244537\n",
        "Validation Error = \t0.094490279825\n",
        "Epoch="
       ]
      },
      {
       "output_type": "stream",
       "stream": "stdout",
       "text": [
        " 11\n",
        "Training   Error = \t0.0682473162899\n",
        "Validation Error = \t0.10702773358\n",
        "Epoch="
       ]
      },
      {
       "output_type": "stream",
       "stream": "stdout",
       "text": [
        " 12\n",
        "Training   Error = \t0.0662244447996\n",
        "Validation Error = \t0.101716578358\n",
        "Epoch="
       ]
      },
      {
       "output_type": "stream",
       "stream": "stdout",
       "text": [
        " 13\n",
        "Training   Error = \t0.0640956958699\n",
        "Validation Error = \t0.107056266123\n",
        "Epoch="
       ]
      },
      {
       "output_type": "stream",
       "stream": "stdout",
       "text": [
        " 14\n",
        "Training   Error = \t0.0623580360305\n",
        "Validation Error = \t0.10103569634\n",
        "Epoch="
       ]
      },
      {
       "output_type": "stream",
       "stream": "stdout",
       "text": [
        " 15\n",
        "Training   Error = \t0.0611980934653\n",
        "Validation Error = \t0.12326675924\n",
        "Epoch="
       ]
      },
      {
       "output_type": "stream",
       "stream": "stdout",
       "text": [
        " 16\n",
        "Training   Error = \t0.0590289045797\n",
        "Validation Error = \t0.11199350611\n",
        "Epoch="
       ]
      },
      {
       "output_type": "stream",
       "stream": "stdout",
       "text": [
        " 17\n",
        "Training   Error = \t0.0578784504847\n",
        "Validation Error = \t0.102536389501\n",
        "Epoch="
       ]
      },
      {
       "output_type": "stream",
       "stream": "stdout",
       "text": [
        " 18\n",
        "Training   Error = \t0.0564435596338\n",
        "Validation Error = \t0.102658233849\n",
        "Epoch="
       ]
      },
      {
       "output_type": "stream",
       "stream": "stdout",
       "text": [
        " 19\n",
        "Training   Error = \t0.0550500171228\n",
        "Validation Error = \t0.10965049983\n",
        "Epoch="
       ]
      },
      {
       "output_type": "stream",
       "stream": "stdout",
       "text": [
        " 20\n",
        "Training   Error = \t0.0537543870018\n",
        "Validation Error = \t0.109310658254\n",
        "Samples="
       ]
      },
      {
       "output_type": "stream",
       "stream": "stdout",
       "text": [
        " 80000     Hidden Layers= 1    Hidden Neurons= 200    F.O.M.= 0.759575    Time= 915.0\n",
        "Epoch="
       ]
      },
      {
       "output_type": "stream",
       "stream": "stdout",
       "text": [
        " 1\n",
        "Training   Error = \t0.19060491348\n",
        "Validation Error = \t0.300437071018\n",
        "Epoch="
       ]
      },
      {
       "output_type": "stream",
       "stream": "stdout",
       "text": [
        " 2\n",
        "Training   Error = \t0.112168925892\n",
        "Validation Error = \t0.119989370924\n",
        "Epoch="
       ]
      },
      {
       "output_type": "stream",
       "stream": "stdout",
       "text": [
        " 3\n",
        "Training   Error = \t0.10099258201\n",
        "Validation Error = \t0.104748903586\n",
        "Epoch="
       ]
      },
      {
       "output_type": "stream",
       "stream": "stdout",
       "text": [
        " 4\n",
        "Training   Error = \t0.0937511691937\n",
        "Validation Error = \t0.106658118155\n",
        "Epoch="
       ]
      },
      {
       "output_type": "stream",
       "stream": "stdout",
       "text": [
        " 5\n",
        "Training   Error = \t0.0885741868333\n",
        "Validation Error = \t0.109765491566\n",
        "Epoch="
       ]
      },
      {
       "output_type": "stream",
       "stream": "stdout",
       "text": [
        " 6\n",
        "Training   Error = \t0.0843255988914\n",
        "Validation Error = \t0.094703664\n",
        "Epoch="
       ]
      },
      {
       "output_type": "stream",
       "stream": "stdout",
       "text": [
        " 7\n",
        "Training   Error = \t0.0809540131693\n",
        "Validation Error = \t0.0984103964889\n",
        "Epoch="
       ]
      },
      {
       "output_type": "stream",
       "stream": "stdout",
       "text": [
        " 8\n",
        "Training   Error = \t0.0780169467352\n",
        "Validation Error = \t0.11027425228\n",
        "Epoch="
       ]
      },
      {
       "output_type": "stream",
       "stream": "stdout",
       "text": [
        " 9\n",
        "Training   Error = \t0.0753044625707\n",
        "Validation Error = \t0.0922088339258\n",
        "Epoch="
       ]
      },
      {
       "output_type": "stream",
       "stream": "stdout",
       "text": [
        " 10\n",
        "Training   Error = \t0.0727165423157\n",
        "Validation Error = \t0.0990280610828\n",
        "Epoch="
       ]
      },
      {
       "output_type": "stream",
       "stream": "stdout",
       "text": [
        " 11\n",
        "Training   Error = \t0.0709850133665\n",
        "Validation Error = \t0.0932848129185\n",
        "Epoch="
       ]
      },
      {
       "output_type": "stream",
       "stream": "stdout",
       "text": [
        " 12\n",
        "Training   Error = \t0.0687962551442\n",
        "Validation Error = \t0.0985676515739\n",
        "Epoch="
       ]
      },
      {
       "output_type": "stream",
       "stream": "stdout",
       "text": [
        " 13\n",
        "Training   Error = \t0.0670591809117\n",
        "Validation Error = \t0.103651493756\n",
        "Epoch="
       ]
      },
      {
       "output_type": "stream",
       "stream": "stdout",
       "text": [
        " 14\n",
        "Training   Error = \t0.0652723257824\n",
        "Validation Error = \t0.0941172790835\n",
        "Epoch="
       ]
      },
      {
       "output_type": "stream",
       "stream": "stdout",
       "text": [
        " 15\n",
        "Training   Error = \t0.0637951945962\n",
        "Validation Error = \t0.0954935146122\n",
        "Epoch="
       ]
      },
      {
       "output_type": "stream",
       "stream": "stdout",
       "text": [
        " 16\n",
        "Training   Error = \t0.0624226289645\n",
        "Validation Error = \t0.0987754210311\n",
        "Epoch="
       ]
      },
      {
       "output_type": "stream",
       "stream": "stdout",
       "text": [
        " 17\n",
        "Training   Error = \t0.0607272701305\n",
        "Validation Error = \t0.0971738706372\n",
        "Epoch="
       ]
      },
      {
       "output_type": "stream",
       "stream": "stdout",
       "text": [
        " 18\n",
        "Training   Error = \t0.0597494115201\n",
        "Validation Error = \t0.0993131513278\n",
        "Epoch="
       ]
      },
      {
       "output_type": "stream",
       "stream": "stdout",
       "text": [
        " 19\n",
        "Training   Error = \t0.0583121394713\n",
        "Validation Error = \t0.10713166723\n",
        "Epoch="
       ]
      },
      {
       "output_type": "stream",
       "stream": "stdout",
       "text": [
        " 20\n",
        "Training   Error = \t0.0570238958503\n",
        "Validation Error = \t0.0989960412463\n",
        "Samples="
       ]
      },
      {
       "output_type": "stream",
       "stream": "stdout",
       "text": [
        " 90000     Hidden Layers= 1    Hidden Neurons= 200    F.O.M.= 0.753666666667    Time= 1297.0\n",
        "Epoch="
       ]
      },
      {
       "output_type": "stream",
       "stream": "stdout",
       "text": [
        " 1\n",
        "Training   Error = \t0.18225025303\n",
        "Validation Error = \t0.347893222755\n",
        "Epoch="
       ]
      },
      {
       "output_type": "stream",
       "stream": "stdout",
       "text": [
        " 2\n",
        "Training   Error = \t0.0841947513991\n",
        "Validation Error = \t0.124849443545\n",
        "Epoch="
       ]
      },
      {
       "output_type": "stream",
       "stream": "stdout",
       "text": [
        " 3\n",
        "Training   Error = \t0.0529412423256\n",
        "Validation Error = \t0.119521386848\n",
        "Epoch="
       ]
      },
      {
       "output_type": "stream",
       "stream": "stdout",
       "text": [
        " 4\n",
        "Training   Error = \t0.0316590011329\n",
        "Validation Error = \t0.125493840843\n",
        "Epoch="
       ]
      },
      {
       "output_type": "stream",
       "stream": "stdout",
       "text": [
        " 5\n",
        "Training   Error = \t0.0187738252783\n",
        "Validation Error = \t0.141319435653\n",
        "Epoch="
       ]
      },
      {
       "output_type": "stream",
       "stream": "stdout",
       "text": [
        " 6\n",
        "Training   Error = \t0.012658812416\n",
        "Validation Error = \t0.13704020595\n",
        "Epoch="
       ]
      },
      {
       "output_type": "stream",
       "stream": "stdout",
       "text": [
        " 7\n",
        "Training   Error = \t0.00945240201145\n",
        "Validation Error = \t0.140823193031\n",
        "Epoch="
       ]
      },
      {
       "output_type": "stream",
       "stream": "stdout",
       "text": [
        " 8\n",
        "Training   Error = \t0.00793804245605\n",
        "Validation Error = \t0.144795792518\n",
        "Epoch="
       ]
      },
      {
       "output_type": "stream",
       "stream": "stdout",
       "text": [
        " 9\n",
        "Training   Error = \t0.00645700064061\n",
        "Validation Error = \t0.144888501802\n",
        "Epoch="
       ]
      },
      {
       "output_type": "stream",
       "stream": "stdout",
       "text": [
        " 10\n",
        "Training   Error = \t0.00579186111822\n",
        "Validation Error = \t0.145958856163\n",
        "Epoch="
       ]
      },
      {
       "output_type": "stream",
       "stream": "stdout",
       "text": [
        " 11\n",
        "Training   Error = \t0.00468049254945\n",
        "Validation Error = \t0.146100770277\n",
        "Epoch="
       ]
      },
      {
       "output_type": "stream",
       "stream": "stdout",
       "text": [
        " 12\n",
        "Training   Error = \t0.00474365416646\n",
        "Validation Error = \t0.148974497083\n",
        "Epoch="
       ]
      },
      {
       "output_type": "stream",
       "stream": "stdout",
       "text": [
        " 13\n",
        "Training   Error = \t0.00477903405023\n",
        "Validation Error = \t0.150343591883\n",
        "Epoch="
       ]
      },
      {
       "output_type": "stream",
       "stream": "stdout",
       "text": [
        " 14\n",
        "Training   Error = \t0.00422159570081\n",
        "Validation Error = \t0.15042105299\n",
        "Epoch="
       ]
      },
      {
       "output_type": "stream",
       "stream": "stdout",
       "text": [
        " 15\n",
        "Training   Error = \t0.00343811588217\n",
        "Validation Error = \t0.150000996076\n",
        "Epoch="
       ]
      },
      {
       "output_type": "stream",
       "stream": "stdout",
       "text": [
        " 16\n",
        "Training   Error = \t0.00315609598774\n",
        "Validation Error = \t0.151678412589\n",
        "Epoch="
       ]
      },
      {
       "output_type": "stream",
       "stream": "stdout",
       "text": [
        " 17\n",
        "Training   Error = \t0.00323606037385\n",
        "Validation Error = \t0.151753542896\n",
        "Epoch="
       ]
      },
      {
       "output_type": "stream",
       "stream": "stdout",
       "text": [
        " 18\n",
        "Training   Error = \t0.00225995340798\n",
        "Validation Error = \t0.152008391796\n",
        "Epoch="
       ]
      },
      {
       "output_type": "stream",
       "stream": "stdout",
       "text": [
        " 19\n",
        "Training   Error = \t0.00225744103345\n",
        "Validation Error = \t0.153063381816\n",
        "Epoch="
       ]
      },
      {
       "output_type": "stream",
       "stream": "stdout",
       "text": [
        " 20\n",
        "Training   Error = \t0.0022560123309\n",
        "Validation Error = \t0.153262098838\n",
        "Samples="
       ]
      },
      {
       "output_type": "stream",
       "stream": "stdout",
       "text": [
        " 10000     Hidden Layers= 1    Hidden Neurons= 300    F.O.M.= 0.7982    Time= 2310.0\n",
        "Epoch="
       ]
      },
      {
       "output_type": "stream",
       "stream": "stdout",
       "text": [
        " 1\n",
        "Training   Error = \t0.188809856056\n",
        "Validation Error = \t0.371913374562\n",
        "Epoch="
       ]
      },
      {
       "output_type": "stream",
       "stream": "stdout",
       "text": [
        " 2\n",
        "Training   Error = \t0.101013014818\n",
        "Validation Error = \t0.130446798025\n",
        "Epoch="
       ]
      },
      {
       "output_type": "stream",
       "stream": "stdout",
       "text": [
        " 3\n",
        "Training   Error = \t0.0814875743637\n",
        "Validation Error = \t0.111410973526\n",
        "Epoch="
       ]
      },
      {
       "output_type": "stream",
       "stream": "stdout",
       "text": [
        " 4\n",
        "Training   Error = \t0.0666433072467\n",
        "Validation Error = \t0.116803327848\n",
        "Epoch="
       ]
      },
      {
       "output_type": "stream",
       "stream": "stdout",
       "text": [
        " 5\n",
        "Training   Error = \t0.054148719822\n",
        "Validation Error = \t0.124979713513\n",
        "Epoch="
       ]
      },
      {
       "output_type": "stream",
       "stream": "stdout",
       "text": [
        " 6\n",
        "Training   Error = \t0.043035137484\n",
        "Validation Error = \t0.132996421409\n",
        "Epoch="
       ]
      },
      {
       "output_type": "stream",
       "stream": "stdout",
       "text": [
        " 7\n",
        "Training   Error = \t0.0338955801763\n",
        "Validation Error = \t0.125126152997\n",
        "Epoch="
       ]
      },
      {
       "output_type": "stream",
       "stream": "stdout",
       "text": [
        " 8\n",
        "Training   Error = \t0.0266185748294\n",
        "Validation Error = \t0.129021235417\n",
        "Epoch="
       ]
      },
      {
       "output_type": "stream",
       "stream": "stdout",
       "text": [
        " 9\n",
        "Training   Error = \t0.0207637984661\n",
        "Validation Error = \t0.153316824925\n",
        "Epoch="
       ]
      },
      {
       "output_type": "stream",
       "stream": "stdout",
       "text": [
        " 10\n",
        "Training   Error = \t0.0177064279701\n",
        "Validation Error = \t0.137127665657\n",
        "Epoch="
       ]
      },
      {
       "output_type": "stream",
       "stream": "stdout",
       "text": [
        " 11\n",
        "Training   Error = \t0.0140331395289\n",
        "Validation Error = \t0.137459471163\n",
        "Epoch="
       ]
      },
      {
       "output_type": "stream",
       "stream": "stdout",
       "text": [
        " 12\n",
        "Training   Error = \t0.0131327994719\n",
        "Validation Error = \t0.142063427324\n",
        "Epoch="
       ]
      },
      {
       "output_type": "stream",
       "stream": "stdout",
       "text": [
        " 13\n",
        "Training   Error = \t0.0107972556808\n",
        "Validation Error = \t0.14287018119\n",
        "Epoch="
       ]
      },
      {
       "output_type": "stream",
       "stream": "stdout",
       "text": [
        " 14\n",
        "Training   Error = \t0.0110820188676\n",
        "Validation Error = \t0.144797238368\n",
        "Epoch="
       ]
      },
      {
       "output_type": "stream",
       "stream": "stdout",
       "text": [
        " 15\n",
        "Training   Error = \t0.00897634913622\n",
        "Validation Error = \t0.145818766088\n",
        "Epoch="
       ]
      },
      {
       "output_type": "stream",
       "stream": "stdout",
       "text": [
        " 16\n",
        "Training   Error = \t0.008786763223\n",
        "Validation Error = \t0.146529564429\n",
        "Epoch="
       ]
      },
      {
       "output_type": "stream",
       "stream": "stdout",
       "text": [
        " 17\n",
        "Training   Error = \t0.00805186458045\n",
        "Validation Error = \t0.149513337165\n",
        "Epoch="
       ]
      },
      {
       "output_type": "stream",
       "stream": "stdout",
       "text": [
        " 18\n",
        "Training   Error = \t0.00787901468559\n",
        "Validation Error = \t0.149368262854\n",
        "Epoch="
       ]
      },
      {
       "output_type": "stream",
       "stream": "stdout",
       "text": [
        " 19\n",
        "Training   Error = \t0.00806848735234\n",
        "Validation Error = \t0.149518517442\n",
        "Epoch="
       ]
      },
      {
       "output_type": "stream",
       "stream": "stdout",
       "text": [
        " 20\n",
        "Training   Error = \t0.00819099503286\n",
        "Validation Error = \t0.149941206566\n",
        "Samples="
       ]
      },
      {
       "output_type": "stream",
       "stream": "stdout",
       "text": [
        " 20000     Hidden Layers= 1    Hidden Neurons= 300    F.O.M.= 0.79615    Time= 1729.0\n",
        "Epoch="
       ]
      },
      {
       "output_type": "stream",
       "stream": "stdout",
       "text": [
        " 1\n",
        "Training   Error = \t0.193336756073\n",
        "Validation Error = \t0.275376830201\n",
        "Epoch="
       ]
      },
      {
       "output_type": "stream",
       "stream": "stdout",
       "text": [
        " 2\n",
        "Training   Error = \t0.108168653098\n",
        "Validation Error = \t0.126858469016\n",
        "Epoch="
       ]
      },
      {
       "output_type": "stream",
       "stream": "stdout",
       "text": [
        " 3\n",
        "Training   Error = \t0.0919503956976\n",
        "Validation Error = \t0.10885453166\n",
        "Epoch="
       ]
      },
      {
       "output_type": "stream",
       "stream": "stdout",
       "text": [
        " 4\n",
        "Training   Error = \t0.0804402867262\n",
        "Validation Error = \t0.106573486234\n",
        "Epoch="
       ]
      },
      {
       "output_type": "stream",
       "stream": "stdout",
       "text": [
        " 5\n",
        "Training   Error = \t0.0706475515384\n",
        "Validation Error = \t0.110496369624\n",
        "Epoch="
       ]
      },
      {
       "output_type": "stream",
       "stream": "stdout",
       "text": [
        " 6\n",
        "Training   Error = \t0.061751065262\n",
        "Validation Error = \t0.127820071744\n",
        "Epoch="
       ]
      },
      {
       "output_type": "stream",
       "stream": "stdout",
       "text": [
        " 7\n",
        "Training   Error = \t0.0538361845751\n",
        "Validation Error = \t0.105769097728\n",
        "Epoch="
       ]
      },
      {
       "output_type": "stream",
       "stream": "stdout",
       "text": [
        " 8\n",
        "Training   Error = \t0.0463958764252\n",
        "Validation Error = \t0.125360327662\n",
        "Epoch="
       ]
      },
      {
       "output_type": "stream",
       "stream": "stdout",
       "text": [
        " 9\n",
        "Training   Error = \t0.0403690950731\n",
        "Validation Error = \t0.116962071408\n",
        "Epoch="
       ]
      },
      {
       "output_type": "stream",
       "stream": "stdout",
       "text": [
        " 10\n",
        "Training   Error = \t0.0346269928905\n",
        "Validation Error = \t0.116699649514\n",
        "Epoch="
       ]
      },
      {
       "output_type": "stream",
       "stream": "stdout",
       "text": [
        " 11\n",
        "Training   Error = \t0.0300741983939\n",
        "Validation Error = \t0.117199732581\n",
        "Epoch="
       ]
      },
      {
       "output_type": "stream",
       "stream": "stdout",
       "text": [
        " 12\n",
        "Training   Error = \t0.0256485588349\n",
        "Validation Error = \t0.122335062191\n",
        "Epoch="
       ]
      },
      {
       "output_type": "stream",
       "stream": "stdout",
       "text": [
        " 13\n",
        "Training   Error = \t0.0230009639561\n",
        "Validation Error = \t0.1254734425\n",
        "Epoch="
       ]
      },
      {
       "output_type": "stream",
       "stream": "stdout",
       "text": [
        " 14\n",
        "Training   Error = \t0.0197213782326\n",
        "Validation Error = \t0.125972886453\n",
        "Epoch="
       ]
      },
      {
       "output_type": "stream",
       "stream": "stdout",
       "text": [
        " 15\n",
        "Training   Error = \t0.0188129587997\n",
        "Validation Error = \t0.136966360133\n",
        "Epoch="
       ]
      },
      {
       "output_type": "stream",
       "stream": "stdout",
       "text": [
        " 16\n",
        "Training   Error = \t0.0163385017799\n",
        "Validation Error = \t0.131168663608\n",
        "Epoch="
       ]
      },
      {
       "output_type": "stream",
       "stream": "stdout",
       "text": [
        " 17\n",
        "Training   Error = \t0.0154670765466\n",
        "Validation Error = \t0.1332325832\n",
        "Epoch="
       ]
      },
      {
       "output_type": "stream",
       "stream": "stdout",
       "text": [
        " 18\n",
        "Training   Error = \t0.0140528591486\n",
        "Validation Error = \t0.13342061031\n",
        "Epoch="
       ]
      },
      {
       "output_type": "stream",
       "stream": "stdout",
       "text": [
        " 19\n",
        "Training   Error = \t0.0130432137797\n",
        "Validation Error = \t0.134021950772\n",
        "Epoch="
       ]
      },
      {
       "output_type": "stream",
       "stream": "stdout",
       "text": [
        " 20\n",
        "Training   Error = \t0.0126486853323\n",
        "Validation Error = \t0.135284664324\n",
        "Samples="
       ]
      },
      {
       "output_type": "stream",
       "stream": "stdout",
       "text": [
        " 30000     Hidden Layers= 1    Hidden Neurons= 300    F.O.M.= 0.795133333333    Time= 1725.0\n",
        "Epoch="
       ]
      },
      {
       "output_type": "stream",
       "stream": "stdout",
       "text": [
        " 1\n",
        "Training   Error = \t0.195742607643\n",
        "Validation Error = \t0.250296382948\n",
        "Epoch="
       ]
      },
      {
       "output_type": "stream",
       "stream": "stdout",
       "text": [
        " 2\n",
        "Training   Error = \t0.109319318872\n",
        "Validation Error = \t0.1288437969\n",
        "Epoch="
       ]
      },
      {
       "output_type": "stream",
       "stream": "stdout",
       "text": [
        " 3\n",
        "Training   Error = \t0.0953337005198\n",
        "Validation Error = \t0.106312543318\n",
        "Epoch="
       ]
      },
      {
       "output_type": "stream",
       "stream": "stdout",
       "text": [
        " 4\n",
        "Training   Error = \t0.0863617413252\n",
        "Validation Error = \t0.104529926849\n",
        "Epoch="
       ]
      },
      {
       "output_type": "stream",
       "stream": "stdout",
       "text": [
        " 5\n",
        "Training   Error = \t0.0783937706005\n",
        "Validation Error = \t0.109374653466\n",
        "Epoch="
       ]
      },
      {
       "output_type": "stream",
       "stream": "stdout",
       "text": [
        " 6\n",
        "Training   Error = \t0.0709807109486\n",
        "Validation Error = \t0.109728327724\n",
        "Epoch="
       ]
      },
      {
       "output_type": "stream",
       "stream": "stdout",
       "text": [
        " 7\n",
        "Training   Error = \t0.0645348333447\n",
        "Validation Error = \t0.101374864726\n",
        "Epoch="
       ]
      },
      {
       "output_type": "stream",
       "stream": "stdout",
       "text": [
        " 8\n",
        "Training   Error = \t0.0587612435849\n",
        "Validation Error = \t0.108260411533\n",
        "Epoch="
       ]
      },
      {
       "output_type": "stream",
       "stream": "stdout",
       "text": [
        " 9\n",
        "Training   Error = \t0.0528639261538\n",
        "Validation Error = \t0.10581215176\n",
        "Epoch="
       ]
      },
      {
       "output_type": "stream",
       "stream": "stdout",
       "text": [
        " 10\n",
        "Training   Error = \t0.0483407499242\n",
        "Validation Error = \t0.110554961978\n",
        "Epoch="
       ]
      },
      {
       "output_type": "stream",
       "stream": "stdout",
       "text": [
        " 11\n",
        "Training   Error = \t0.0440334525326\n",
        "Validation Error = \t0.114024464443\n",
        "Epoch="
       ]
      },
      {
       "output_type": "stream",
       "stream": "stdout",
       "text": [
        " 12\n",
        "Training   Error = \t0.0396863680051\n",
        "Validation Error = \t0.112821979208\n",
        "Epoch="
       ]
      },
      {
       "output_type": "stream",
       "stream": "stdout",
       "text": [
        " 13\n",
        "Training   Error = \t0.0362168544627\n",
        "Validation Error = \t0.122810176791\n",
        "Epoch="
       ]
      },
      {
       "output_type": "stream",
       "stream": "stdout",
       "text": [
        " 14\n",
        "Training   Error = \t0.0323902913489\n",
        "Validation Error = \t0.140360657529\n",
        "Epoch="
       ]
      },
      {
       "output_type": "stream",
       "stream": "stdout",
       "text": [
        " 15\n",
        "Training   Error = \t0.0297648471749\n",
        "Validation Error = \t0.121240252143\n",
        "Epoch="
       ]
      },
      {
       "output_type": "stream",
       "stream": "stdout",
       "text": [
        " 16\n",
        "Training   Error = \t0.0276834550937\n",
        "Validation Error = \t0.122599812947\n",
        "Epoch="
       ]
      },
      {
       "output_type": "stream",
       "stream": "stdout",
       "text": [
        " 17\n",
        "Training   Error = \t0.0247965289131\n",
        "Validation Error = \t0.136623394256\n",
        "Epoch="
       ]
      },
      {
       "output_type": "stream",
       "stream": "stdout",
       "text": [
        " 18\n",
        "Training   Error = \t0.0228652236328\n",
        "Validation Error = \t0.125488747454\n",
        "Epoch="
       ]
      },
      {
       "output_type": "stream",
       "stream": "stdout",
       "text": [
        " 19\n",
        "Training   Error = \t0.0206594867317\n",
        "Validation Error = \t0.148300654473\n",
        "Epoch="
       ]
      },
      {
       "output_type": "stream",
       "stream": "stdout",
       "text": [
        " 20\n",
        "Training   Error = \t0.0199243895668\n",
        "Validation Error = \t0.132184164564\n",
        "Samples="
       ]
      },
      {
       "output_type": "stream",
       "stream": "stdout",
       "text": [
        " 40000     Hidden Layers= 1    Hidden Neurons= 300    F.O.M.= 0.7928    Time= 1716.0\n",
        "Epoch="
       ]
      },
      {
       "output_type": "stream",
       "stream": "stdout",
       "text": [
        " 1\n",
        "Training   Error = \t0.194892775688\n",
        "Validation Error = \t0.380717844511\n",
        "Epoch="
       ]
      },
      {
       "output_type": "stream",
       "stream": "stdout",
       "text": [
        " 2\n",
        "Training   Error = \t0.112126115467\n",
        "Validation Error = \t0.125594088473\n",
        "Epoch="
       ]
      },
      {
       "output_type": "stream",
       "stream": "stdout",
       "text": [
        " 3\n",
        "Training   Error = \t0.0988377491862\n",
        "Validation Error = \t0.101549574327\n",
        "Epoch="
       ]
      },
      {
       "output_type": "stream",
       "stream": "stdout",
       "text": [
        " 4\n",
        "Training   Error = \t0.0899020611272\n",
        "Validation Error = \t0.104248521074\n",
        "Epoch="
       ]
      },
      {
       "output_type": "stream",
       "stream": "stdout",
       "text": [
        " 5\n",
        "Training   Error = \t0.0825619440901\n",
        "Validation Error = \t0.120035371369\n",
        "Epoch="
       ]
      },
      {
       "output_type": "stream",
       "stream": "stdout",
       "text": [
        " 6\n",
        "Training   Error = \t0.0763021107232\n",
        "Validation Error = \t0.102295803138\n",
        "Epoch="
       ]
      },
      {
       "output_type": "stream",
       "stream": "stdout",
       "text": [
        " 7\n",
        "Training   Error = \t0.0706327681429\n",
        "Validation Error = \t0.104837506409\n",
        "Epoch="
       ]
      },
      {
       "output_type": "stream",
       "stream": "stdout",
       "text": [
        " 8\n",
        "Training   Error = \t0.0660012886987\n",
        "Validation Error = \t0.12121848613\n",
        "Epoch="
       ]
      },
      {
       "output_type": "stream",
       "stream": "stdout",
       "text": [
        " 9\n",
        "Training   Error = \t0.0609794028777\n",
        "Validation Error = \t0.10308884452\n",
        "Epoch="
       ]
      },
      {
       "output_type": "stream",
       "stream": "stdout",
       "text": [
        " 10\n",
        "Training   Error = \t0.0571886210357\n",
        "Validation Error = \t0.108150751426\n",
        "Epoch="
       ]
      },
      {
       "output_type": "stream",
       "stream": "stdout",
       "text": [
        " 11\n",
        "Training   Error = \t0.052908056943\n",
        "Validation Error = \t0.115317171101\n",
        "Epoch="
       ]
      },
      {
       "output_type": "stream",
       "stream": "stdout",
       "text": [
        " 12\n",
        "Training   Error = \t0.049165615677\n",
        "Validation Error = \t0.106573603506\n",
        "Epoch="
       ]
      },
      {
       "output_type": "stream",
       "stream": "stdout",
       "text": [
        " 13\n",
        "Training   Error = \t0.0458869777486\n",
        "Validation Error = \t0.120109836626\n",
        "Epoch="
       ]
      },
      {
       "output_type": "stream",
       "stream": "stdout",
       "text": [
        " 14\n",
        "Training   Error = \t0.0425290195552\n",
        "Validation Error = \t0.107872000056\n",
        "Epoch="
       ]
      },
      {
       "output_type": "stream",
       "stream": "stdout",
       "text": [
        " 15\n",
        "Training   Error = \t0.0394975288054\n",
        "Validation Error = \t0.105238479175\n",
        "Epoch="
       ]
      },
      {
       "output_type": "stream",
       "stream": "stdout",
       "text": [
        " 16\n",
        "Training   Error = \t0.0375183620553\n",
        "Validation Error = \t0.119520268138\n",
        "Epoch="
       ]
      },
      {
       "output_type": "stream",
       "stream": "stdout",
       "text": [
        " 17\n",
        "Training   Error = \t0.0344676528919\n",
        "Validation Error = \t0.109454964322\n",
        "Epoch="
       ]
      },
      {
       "output_type": "stream",
       "stream": "stdout",
       "text": [
        " 18\n",
        "Training   Error = \t0.0321143542347\n",
        "Validation Error = \t0.129598160832\n",
        "Epoch="
       ]
      },
      {
       "output_type": "stream",
       "stream": "stdout",
       "text": [
        " 19\n",
        "Training   Error = \t0.0304005998989\n",
        "Validation Error = \t0.128945097176\n",
        "Epoch="
       ]
      },
      {
       "output_type": "stream",
       "stream": "stdout",
       "text": [
        " 20\n",
        "Training   Error = \t0.0285467198819\n",
        "Validation Error = \t0.115025306026\n",
        "Samples="
       ]
      },
      {
       "output_type": "stream",
       "stream": "stdout",
       "text": [
        " 50000     Hidden Layers= 1    Hidden Neurons= 300    F.O.M.= 0.7881    Time= 1731.0\n",
        "Epoch="
       ]
      },
      {
       "output_type": "stream",
       "stream": "stdout",
       "text": [
        " 1\n",
        "Training   Error = \t0.193076223709\n",
        "Validation Error = \t0.250349012721\n",
        "Epoch="
       ]
      },
      {
       "output_type": "stream",
       "stream": "stdout",
       "text": [
        " 2\n",
        "Training   Error = \t0.110635479049\n",
        "Validation Error = \t0.121522336726\n",
        "Epoch="
       ]
      },
      {
       "output_type": "stream",
       "stream": "stdout",
       "text": [
        " 3\n",
        "Training   Error = \t0.0989574225643\n",
        "Validation Error = \t0.106850041345\n",
        "Epoch="
       ]
      },
      {
       "output_type": "stream",
       "stream": "stdout",
       "text": [
        " 4\n",
        "Training   Error = \t0.0910113011092\n",
        "Validation Error = \t0.105627082557\n",
        "Epoch="
       ]
      },
      {
       "output_type": "stream",
       "stream": "stdout",
       "text": [
        " 5\n",
        "Training   Error = \t0.0844108680874\n",
        "Validation Error = \t0.0982569183634\n",
        "Epoch="
       ]
      },
      {
       "output_type": "stream",
       "stream": "stdout",
       "text": [
        " 6\n",
        "Training   Error = \t0.0786058618119\n",
        "Validation Error = \t0.0952004758729\n",
        "Epoch="
       ]
      },
      {
       "output_type": "stream",
       "stream": "stdout",
       "text": [
        " 7\n",
        "Training   Error = \t0.0736153010284\n",
        "Validation Error = \t0.101995449646\n",
        "Epoch="
       ]
      },
      {
       "output_type": "stream",
       "stream": "stdout",
       "text": [
        " 8\n",
        "Training   Error = \t0.0686047569681\n",
        "Validation Error = \t0.0969142268783\n",
        "Epoch="
       ]
      },
      {
       "output_type": "stream",
       "stream": "stdout",
       "text": [
        " 9\n",
        "Training   Error = \t0.0648824607128\n",
        "Validation Error = \t0.0968533552128\n",
        "Epoch="
       ]
      },
      {
       "output_type": "stream",
       "stream": "stdout",
       "text": [
        " 10\n",
        "Training   Error = \t0.0612091549313\n",
        "Validation Error = \t0.103671602932\n",
        "Epoch="
       ]
      },
      {
       "output_type": "stream",
       "stream": "stdout",
       "text": [
        " 11\n",
        "Training   Error = \t0.0574865832658\n",
        "Validation Error = \t0.0983746422888\n",
        "Epoch="
       ]
      },
      {
       "output_type": "stream",
       "stream": "stdout",
       "text": [
        " 12\n",
        "Training   Error = \t0.0542507536998\n",
        "Validation Error = \t0.105292345625\n",
        "Epoch="
       ]
      },
      {
       "output_type": "stream",
       "stream": "stdout",
       "text": [
        " 13\n",
        "Training   Error = \t0.0512037923988\n",
        "Validation Error = \t0.110969055861\n",
        "Epoch="
       ]
      },
      {
       "output_type": "stream",
       "stream": "stdout",
       "text": [
        " 14\n",
        "Training   Error = \t0.048351626078\n",
        "Validation Error = \t0.10891465207\n",
        "Epoch="
       ]
      },
      {
       "output_type": "stream",
       "stream": "stdout",
       "text": [
        " 15\n",
        "Training   Error = \t0.0457173663496\n",
        "Validation Error = \t0.108764441253\n",
        "Epoch="
       ]
      },
      {
       "output_type": "stream",
       "stream": "stdout",
       "text": [
        " 16\n",
        "Training   Error = \t0.042810277064\n",
        "Validation Error = \t0.106811917322\n",
        "Epoch="
       ]
      },
      {
       "output_type": "stream",
       "stream": "stdout",
       "text": [
        " 17\n",
        "Training   Error = \t0.0407170020369\n",
        "Validation Error = \t0.114921067422\n",
        "Epoch="
       ]
      },
      {
       "output_type": "stream",
       "stream": "stdout",
       "text": [
        " 18\n",
        "Training   Error = \t0.0384148128853\n",
        "Validation Error = \t0.109041603254\n",
        "Epoch="
       ]
      },
      {
       "output_type": "stream",
       "stream": "stdout",
       "text": [
        " 19\n",
        "Training   Error = \t0.036514900192\n",
        "Validation Error = \t0.110393464238\n",
        "Epoch="
       ]
      },
      {
       "output_type": "stream",
       "stream": "stdout",
       "text": [
        " 20\n",
        "Training   Error = \t0.0346555371047\n",
        "Validation Error = \t0.116412424229\n",
        "Samples="
       ]
      },
      {
       "output_type": "stream",
       "stream": "stdout",
       "text": [
        " 60000     Hidden Layers= 1    Hidden Neurons= 300    F.O.M.= 0.78095    Time= 1737.0\n",
        "Epoch="
       ]
      },
      {
       "output_type": "stream",
       "stream": "stdout",
       "text": [
        " 1\n",
        "Training   Error = \t0.18859382618\n",
        "Validation Error = \t0.249886715617\n",
        "Epoch="
       ]
      },
      {
       "output_type": "stream",
       "stream": "stdout",
       "text": [
        " 2\n",
        "Training   Error = \t0.110373751994\n",
        "Validation Error = \t0.121192340421\n",
        "Epoch="
       ]
      },
      {
       "output_type": "stream",
       "stream": "stdout",
       "text": [
        " 3\n",
        "Training   Error = \t0.0993311793819\n",
        "Validation Error = \t0.110420480683\n",
        "Epoch="
       ]
      },
      {
       "output_type": "stream",
       "stream": "stdout",
       "text": [
        " 4\n",
        "Training   Error = \t0.0920128864648\n",
        "Validation Error = \t0.0973752433729\n",
        "Epoch="
       ]
      },
      {
       "output_type": "stream",
       "stream": "stdout",
       "text": [
        " 5\n",
        "Training   Error = \t0.0863211817955\n",
        "Validation Error = \t0.10516018904\n",
        "Epoch="
       ]
      },
      {
       "output_type": "stream",
       "stream": "stdout",
       "text": [
        " 6\n",
        "Training   Error = \t0.0808413838766\n",
        "Validation Error = \t0.101450084327\n",
        "Epoch="
       ]
      },
      {
       "output_type": "stream",
       "stream": "stdout",
       "text": [
        " 7\n",
        "Training   Error = \t0.0760642417913\n",
        "Validation Error = \t0.0953267763258\n",
        "Epoch="
       ]
      },
      {
       "output_type": "stream",
       "stream": "stdout",
       "text": [
        " 8\n",
        "Training   Error = \t0.0721560890803\n",
        "Validation Error = \t0.0976785754257\n",
        "Epoch="
       ]
      },
      {
       "output_type": "stream",
       "stream": "stdout",
       "text": [
        " 9\n",
        "Training   Error = \t0.0691470009789\n",
        "Validation Error = \t0.0948655240777\n",
        "Epoch="
       ]
      },
      {
       "output_type": "stream",
       "stream": "stdout",
       "text": [
        " 10\n",
        "Training   Error = \t0.0653675696331\n",
        "Validation Error = \t0.094565026481\n",
        "Epoch="
       ]
      },
      {
       "output_type": "stream",
       "stream": "stdout",
       "text": [
        " 11\n",
        "Training   Error = \t0.062387433081\n",
        "Validation Error = \t0.0968393985387\n",
        "Epoch="
       ]
      },
      {
       "output_type": "stream",
       "stream": "stdout",
       "text": [
        " 12\n",
        "Training   Error = \t0.0594556847332\n",
        "Validation Error = \t0.0980229968773\n",
        "Epoch="
       ]
      },
      {
       "output_type": "stream",
       "stream": "stdout",
       "text": [
        " 13\n",
        "Training   Error = \t0.0564681100751\n",
        "Validation Error = \t0.100221430636\n",
        "Epoch="
       ]
      },
      {
       "output_type": "stream",
       "stream": "stdout",
       "text": [
        " 14\n",
        "Training   Error = \t0.0544089449089\n",
        "Validation Error = \t0.106315218839\n",
        "Epoch="
       ]
      },
      {
       "output_type": "stream",
       "stream": "stdout",
       "text": [
        " 15\n",
        "Training   Error = \t0.0518072796649\n",
        "Validation Error = \t0.10062067984\n",
        "Epoch="
       ]
      },
      {
       "output_type": "stream",
       "stream": "stdout",
       "text": [
        " 16\n",
        "Training   Error = \t0.0493989952853\n",
        "Validation Error = \t0.104307313205\n",
        "Epoch="
       ]
      },
      {
       "output_type": "stream",
       "stream": "stdout",
       "text": [
        " 17\n",
        "Training   Error = \t0.0469546960132\n",
        "Validation Error = \t0.117910676818\n",
        "Epoch="
       ]
      },
      {
       "output_type": "stream",
       "stream": "stdout",
       "text": [
        " 18\n",
        "Training   Error = \t0.0457051392269\n",
        "Validation Error = \t0.118278075373\n",
        "Epoch="
       ]
      },
      {
       "output_type": "stream",
       "stream": "stdout",
       "text": [
        " 19\n",
        "Training   Error = \t0.0432771330328\n",
        "Validation Error = \t0.108982838985\n",
        "Epoch="
       ]
      },
      {
       "output_type": "stream",
       "stream": "stdout",
       "text": [
        " 20\n",
        "Training   Error = \t0.0414443878847\n",
        "Validation Error = \t0.122492593245\n",
        "Samples="
       ]
      },
      {
       "output_type": "stream",
       "stream": "stdout",
       "text": [
        " 70000     Hidden Layers= 1    Hidden Neurons= 300    F.O.M.= 0.775157142857    Time= 1738.0\n",
        "Epoch="
       ]
      },
      {
       "output_type": "stream",
       "stream": "stdout",
       "text": [
        " 1\n",
        "Training   Error = \t0.195828334405\n",
        "Validation Error = \t0.412078460927\n",
        "Epoch="
       ]
      },
      {
       "output_type": "stream",
       "stream": "stdout",
       "text": [
        " 2\n",
        "Training   Error = \t0.112067807465\n",
        "Validation Error = \t0.12349281377\n",
        "Epoch="
       ]
      },
      {
       "output_type": "stream",
       "stream": "stdout",
       "text": [
        " 3\n",
        "Training   Error = \t0.100300442975\n",
        "Validation Error = \t0.112362699822\n",
        "Epoch="
       ]
      },
      {
       "output_type": "stream",
       "stream": "stdout",
       "text": [
        " 4\n",
        "Training   Error = \t0.0928517321184\n",
        "Validation Error = \t0.107635809761\n",
        "Epoch="
       ]
      },
      {
       "output_type": "stream",
       "stream": "stdout",
       "text": [
        " 5\n",
        "Training   Error = \t0.0867455835206\n",
        "Validation Error = \t0.0983899236644\n",
        "Epoch="
       ]
      },
      {
       "output_type": "stream",
       "stream": "stdout",
       "text": [
        " 6\n",
        "Training   Error = \t0.0818001475058\n",
        "Validation Error = \t0.106111812906\n",
        "Epoch="
       ]
      },
      {
       "output_type": "stream",
       "stream": "stdout",
       "text": [
        " 7\n",
        "Training   Error = \t0.0775496470008\n",
        "Validation Error = \t0.110445695864\n",
        "Epoch="
       ]
      },
      {
       "output_type": "stream",
       "stream": "stdout",
       "text": [
        " 8\n",
        "Training   Error = \t0.073806726412\n",
        "Validation Error = \t0.0920375373419\n",
        "Epoch="
       ]
      },
      {
       "output_type": "stream",
       "stream": "stdout",
       "text": [
        " 9\n",
        "Training   Error = \t0.0705372468729\n",
        "Validation Error = \t0.0929805225252\n",
        "Epoch="
       ]
      },
      {
       "output_type": "stream",
       "stream": "stdout",
       "text": [
        " 10\n",
        "Training   Error = \t0.0672587689241\n",
        "Validation Error = \t0.112490578264\n",
        "Epoch="
       ]
      },
      {
       "output_type": "stream",
       "stream": "stdout",
       "text": [
        " 11\n",
        "Training   Error = \t0.0649909552265\n",
        "Validation Error = \t0.101904996763\n",
        "Epoch="
       ]
      },
      {
       "output_type": "stream",
       "stream": "stdout",
       "text": [
        " 12\n",
        "Training   Error = \t0.0618626644215\n",
        "Validation Error = \t0.0995244315427\n",
        "Epoch="
       ]
      },
      {
       "output_type": "stream",
       "stream": "stdout",
       "text": [
        " 13\n",
        "Training   Error = \t0.0592785241958\n",
        "Validation Error = \t0.108023855883\n",
        "Epoch="
       ]
      },
      {
       "output_type": "stream",
       "stream": "stdout",
       "text": [
        " 14\n",
        "Training   Error = \t0.0571528775326\n",
        "Validation Error = \t0.102754653766\n",
        "Epoch="
       ]
      },
      {
       "output_type": "stream",
       "stream": "stdout",
       "text": [
        " 15\n",
        "Training   Error = \t0.054798072262\n",
        "Validation Error = \t0.0984286623134\n",
        "Epoch="
       ]
      },
      {
       "output_type": "stream",
       "stream": "stdout",
       "text": [
        " 16\n",
        "Training   Error = \t0.0525194774707\n",
        "Validation Error = \t0.11272967623\n",
        "Epoch="
       ]
      },
      {
       "output_type": "stream",
       "stream": "stdout",
       "text": [
        " 17\n",
        "Training   Error = \t0.0510145626417\n",
        "Validation Error = \t0.105994646089\n",
        "Epoch="
       ]
      },
      {
       "output_type": "stream",
       "stream": "stdout",
       "text": [
        " 18\n",
        "Training   Error = \t0.0482920916938\n",
        "Validation Error = \t0.104573190132\n",
        "Epoch="
       ]
      },
      {
       "output_type": "stream",
       "stream": "stdout",
       "text": [
        " 19\n",
        "Training   Error = \t0.0470863583661\n",
        "Validation Error = \t0.106777534228\n",
        "Epoch="
       ]
      },
      {
       "output_type": "stream",
       "stream": "stdout",
       "text": [
        " 20\n",
        "Training   Error = \t0.0456010424647\n",
        "Validation Error = \t0.11102747376\n",
        "Samples="
       ]
      },
      {
       "output_type": "stream",
       "stream": "stdout",
       "text": [
        " 80000     Hidden Layers= 1    Hidden Neurons= 300    F.O.M.= 0.7706875    Time= 1731.0\n",
        "Epoch="
       ]
      },
      {
       "output_type": "stream",
       "stream": "stdout",
       "text": [
        " 1\n",
        "Training   Error = \t0.196465123432\n",
        "Validation Error = \t0.34473387101\n",
        "Epoch="
       ]
      },
      {
       "output_type": "stream",
       "stream": "stdout",
       "text": [
        " 2\n",
        "Training   Error = \t0.113036766891\n",
        "Validation Error = \t0.119678826091\n",
        "Epoch="
       ]
      },
      {
       "output_type": "stream",
       "stream": "stdout",
       "text": [
        " 3\n",
        "Training   Error = \t0.10199626502\n",
        "Validation Error = \t0.110819312174\n",
        "Epoch="
       ]
      },
      {
       "output_type": "stream",
       "stream": "stdout",
       "text": [
        " 4\n",
        "Training   Error = \t0.0947938906952\n",
        "Validation Error = \t0.0987856636111\n",
        "Epoch="
       ]
      },
      {
       "output_type": "stream",
       "stream": "stdout",
       "text": [
        " 5\n",
        "Training   Error = \t0.0894376301285\n",
        "Validation Error = \t0.107465600646\n",
        "Epoch="
       ]
      },
      {
       "output_type": "stream",
       "stream": "stdout",
       "text": [
        " 6\n",
        "Training   Error = \t0.0849824616357\n",
        "Validation Error = \t0.105040782357\n",
        "Epoch="
       ]
      },
      {
       "output_type": "stream",
       "stream": "stdout",
       "text": [
        " 7\n",
        "Training   Error = \t0.0811756223593\n",
        "Validation Error = \t0.100842447041\n",
        "Epoch="
       ]
      },
      {
       "output_type": "stream",
       "stream": "stdout",
       "text": [
        " 8\n",
        "Training   Error = \t0.077605138792\n",
        "Validation Error = \t0.0920003110313\n",
        "Epoch="
       ]
      },
      {
       "output_type": "stream",
       "stream": "stdout",
       "text": [
        " 9\n",
        "Training   Error = \t0.0744736488626\n",
        "Validation Error = \t0.106289306199\n",
        "Epoch="
       ]
      },
      {
       "output_type": "stream",
       "stream": "stdout",
       "text": [
        " 10\n",
        "Training   Error = \t0.0717082161023\n",
        "Validation Error = \t0.0922849047471\n",
        "Epoch="
       ]
      },
      {
       "output_type": "stream",
       "stream": "stdout",
       "text": [
        " 11\n",
        "Training   Error = \t0.0694167671473\n",
        "Validation Error = \t0.0955731006887\n",
        "Epoch="
       ]
      },
      {
       "output_type": "stream",
       "stream": "stdout",
       "text": [
        " 12\n",
        "Training   Error = \t0.0667403101032\n",
        "Validation Error = \t0.0941142192224\n",
        "Epoch="
       ]
      },
      {
       "output_type": "stream",
       "stream": "stdout",
       "text": [
        " 13\n",
        "Training   Error = \t0.064740083309\n",
        "Validation Error = \t0.0961053749703\n",
        "Epoch="
       ]
      },
      {
       "output_type": "stream",
       "stream": "stdout",
       "text": [
        " 14\n",
        "Training   Error = \t0.0625022571882\n",
        "Validation Error = \t0.0961886093819\n",
        "Epoch="
       ]
      },
      {
       "output_type": "stream",
       "stream": "stdout",
       "text": [
        " 15\n",
        "Training   Error = \t0.0605797555211\n",
        "Validation Error = \t0.096355159895\n",
        "Epoch="
       ]
      },
      {
       "output_type": "stream",
       "stream": "stdout",
       "text": [
        " 16\n",
        "Training   Error = \t0.058419438164\n",
        "Validation Error = \t0.107263714971\n",
        "Epoch="
       ]
      },
      {
       "output_type": "stream",
       "stream": "stdout",
       "text": [
        " 17\n",
        "Training   Error = \t0.0568830854043\n",
        "Validation Error = \t0.0985793077061\n",
        "Epoch="
       ]
      },
      {
       "output_type": "stream",
       "stream": "stdout",
       "text": [
        " 18\n",
        "Training   Error = \t0.0551424083071\n",
        "Validation Error = \t0.102462162858\n",
        "Epoch="
       ]
      },
      {
       "output_type": "stream",
       "stream": "stdout",
       "text": [
        " 19\n",
        "Training   Error = \t0.0533715087802\n",
        "Validation Error = \t0.126555610338\n",
        "Epoch="
       ]
      },
      {
       "output_type": "stream",
       "stream": "stdout",
       "text": [
        " 20\n",
        "Training   Error = \t0.0518016919844\n",
        "Validation Error = \t0.109809719914\n",
        "Samples="
       ]
      },
      {
       "output_type": "stream",
       "stream": "stdout",
       "text": [
        " 90000     Hidden Layers= 1    Hidden Neurons= 300    F.O.M.= 0.762333333333    Time= 1731.0\n",
        "Epoch="
       ]
      },
      {
       "output_type": "stream",
       "stream": "stdout",
       "text": [
        " 1\n",
        "Training   Error = \t0.187459865915\n",
        "Validation Error = \t0.253170587123\n",
        "Epoch="
       ]
      },
      {
       "output_type": "stream",
       "stream": "stdout",
       "text": [
        " 2\n",
        "Training   Error = \t0.0866850476932\n",
        "Validation Error = \t0.124806103767\n",
        "Epoch="
       ]
      },
      {
       "output_type": "stream",
       "stream": "stdout",
       "text": [
        " 3\n",
        "Training   Error = \t0.0564203543054\n",
        "Validation Error = \t0.140722366789\n",
        "Epoch="
       ]
      },
      {
       "output_type": "stream",
       "stream": "stdout",
       "text": [
        " 4\n",
        "Training   Error = \t0.0342628388065\n",
        "Validation Error = \t0.132750358553\n",
        "Epoch="
       ]
      },
      {
       "output_type": "stream",
       "stream": "stdout",
       "text": [
        " 5\n",
        "Training   Error = \t0.0208782701638\n",
        "Validation Error = \t0.13445823442\n",
        "Epoch="
       ]
      },
      {
       "output_type": "stream",
       "stream": "stdout",
       "text": [
        " 6\n",
        "Training   Error = \t0.0135520618187\n",
        "Validation Error = \t0.140527707225\n",
        "Epoch="
       ]
      },
      {
       "output_type": "stream",
       "stream": "stdout",
       "text": [
        " 7\n",
        "Training   Error = \t0.0113592199796\n",
        "Validation Error = \t0.157063631356\n",
        "Epoch="
       ]
      },
      {
       "output_type": "stream",
       "stream": "stdout",
       "text": [
        " 8\n",
        "Training   Error = \t0.00821730884444\n",
        "Validation Error = \t0.150481508568\n",
        "Epoch="
       ]
      },
      {
       "output_type": "stream",
       "stream": "stdout",
       "text": [
        " 9\n",
        "Training   Error = \t0.00625381582132\n",
        "Validation Error = \t0.154002683839\n",
        "Epoch="
       ]
      },
      {
       "output_type": "stream",
       "stream": "stdout",
       "text": [
        " 10\n",
        "Training   Error = \t0.00631242144967\n",
        "Validation Error = \t0.156427654384\n",
        "Epoch="
       ]
      },
      {
       "output_type": "stream",
       "stream": "stdout",
       "text": [
        " 11\n",
        "Training   Error = \t0.00563995613972\n",
        "Validation Error = \t0.158000635705\n",
        "Epoch="
       ]
      },
      {
       "output_type": "stream",
       "stream": "stdout",
       "text": [
        " 12\n",
        "Training   Error = \t0.00534456253419\n",
        "Validation Error = \t0.158754369755\n",
        "Epoch="
       ]
      },
      {
       "output_type": "stream",
       "stream": "stdout",
       "text": [
        " 13\n",
        "Training   Error = \t0.00360211331292\n",
        "Validation Error = \t0.158606358843\n",
        "Epoch="
       ]
      },
      {
       "output_type": "stream",
       "stream": "stdout",
       "text": [
        " 14\n",
        "Training   Error = \t0.00486666714662\n",
        "Validation Error = \t0.160221862178\n",
        "Epoch="
       ]
      },
      {
       "output_type": "stream",
       "stream": "stdout",
       "text": [
        " 15\n",
        "Training   Error = \t0.00345935255127\n",
        "Validation Error = \t0.161409385527\n",
        "Epoch="
       ]
      },
      {
       "output_type": "stream",
       "stream": "stdout",
       "text": [
        " 16\n",
        "Training   Error = \t0.00251219326074\n",
        "Validation Error = \t0.16239850055\n",
        "Epoch="
       ]
      },
      {
       "output_type": "stream",
       "stream": "stdout",
       "text": [
        " 17\n",
        "Training   Error = \t0.00250856076257\n",
        "Validation Error = \t0.163436848297\n",
        "Epoch="
       ]
      },
      {
       "output_type": "stream",
       "stream": "stdout",
       "text": [
        " 18\n",
        "Training   Error = \t0.00250667942825\n",
        "Validation Error = \t0.1642060906\n",
        "Epoch="
       ]
      },
      {
       "output_type": "stream",
       "stream": "stdout",
       "text": [
        " 19\n",
        "Training   Error = \t0.00250550165328\n",
        "Validation Error = \t0.164560821746\n",
        "Epoch="
       ]
      },
      {
       "output_type": "stream",
       "stream": "stdout",
       "text": [
        " 20\n",
        "Training   Error = \t0.0025046824127\n",
        "Validation Error = \t0.164873577609\n",
        "Samples="
       ]
      },
      {
       "output_type": "stream",
       "stream": "stdout",
       "text": [
        " 10000     Hidden Layers= 1    Hidden Neurons= 400    F.O.M.= 0.798    Time= 2683.0\n",
        "Epoch="
       ]
      },
      {
       "output_type": "stream",
       "stream": "stdout",
       "text": [
        " 1\n",
        "Training   Error = \t0.19626598146\n",
        "Validation Error = \t0.348896261688\n",
        "Epoch="
       ]
      },
      {
       "output_type": "stream",
       "stream": "stdout",
       "text": [
        " 2\n",
        "Training   Error = \t0.105097509856\n",
        "Validation Error = \t0.126715816868\n",
        "Epoch="
       ]
      },
      {
       "output_type": "stream",
       "stream": "stdout",
       "text": [
        " 3\n",
        "Training   Error = \t0.0854647349666\n",
        "Validation Error = \t0.141530398895\n",
        "Epoch="
       ]
      },
      {
       "output_type": "stream",
       "stream": "stdout",
       "text": [
        " 4\n",
        "Training   Error = \t0.0700681154714\n",
        "Validation Error = \t0.123704432576\n",
        "Epoch="
       ]
      },
      {
       "output_type": "stream",
       "stream": "stdout",
       "text": [
        " 5\n",
        "Training   Error = \t0.0568843098218\n",
        "Validation Error = \t0.14491045749\n",
        "Epoch="
       ]
      },
      {
       "output_type": "stream",
       "stream": "stdout",
       "text": [
        " 6\n",
        "Training   Error = \t0.0452906813256\n",
        "Validation Error = \t0.127705831941\n",
        "Epoch="
       ]
      },
      {
       "output_type": "stream",
       "stream": "stdout",
       "text": [
        " 7\n",
        "Training   Error = \t0.0357115891842\n",
        "Validation Error = \t0.121780143819\n",
        "Epoch="
       ]
      },
      {
       "output_type": "stream",
       "stream": "stdout",
       "text": [
        " 8\n",
        "Training   Error = \t0.027233262701\n",
        "Validation Error = \t0.122714151597\n",
        "Epoch="
       ]
      },
      {
       "output_type": "stream",
       "stream": "stdout",
       "text": [
        " 9\n",
        "Training   Error = \t0.0221590217591\n",
        "Validation Error = \t0.127472995226\n",
        "Epoch="
       ]
      },
      {
       "output_type": "stream",
       "stream": "stdout",
       "text": [
        " 10\n",
        "Training   Error = \t0.0188225591066\n",
        "Validation Error = \t0.190715086559\n",
        "Epoch="
       ]
      },
      {
       "output_type": "stream",
       "stream": "stdout",
       "text": [
        " 11\n",
        "Training   Error = \t0.0148624587974\n",
        "Validation Error = \t0.143240763051\n",
        "Epoch="
       ]
      },
      {
       "output_type": "stream",
       "stream": "stdout",
       "text": [
        " 12\n",
        "Training   Error = \t0.0131771898083\n",
        "Validation Error = \t0.132622044784\n",
        "Epoch="
       ]
      },
      {
       "output_type": "stream",
       "stream": "stdout",
       "text": [
        " 13\n",
        "Training   Error = \t0.0124410992846\n",
        "Validation Error = \t0.133906204475\n",
        "Epoch="
       ]
      },
      {
       "output_type": "stream",
       "stream": "stdout",
       "text": [
        " 14\n",
        "Training   Error = \t0.0105930421627\n",
        "Validation Error = \t0.134776353516\n",
        "Epoch="
       ]
      },
      {
       "output_type": "stream",
       "stream": "stdout",
       "text": [
        " 15\n",
        "Training   Error = \t0.010203196734\n",
        "Validation Error = \t0.134983926929\n",
        "Epoch="
       ]
      },
      {
       "output_type": "stream",
       "stream": "stdout",
       "text": [
        " 16\n",
        "Training   Error = \t0.00962974131987\n",
        "Validation Error = \t0.15825014118\n",
        "Epoch="
       ]
      },
      {
       "output_type": "stream",
       "stream": "stdout",
       "text": [
        " 17\n",
        "Training   Error = \t0.00842421934834\n",
        "Validation Error = \t0.136957552363\n",
        "Epoch="
       ]
      },
      {
       "output_type": "stream",
       "stream": "stdout",
       "text": [
        " 18\n",
        "Training   Error = \t0.00849117021627\n",
        "Validation Error = \t0.137221151039\n",
        "Epoch="
       ]
      },
      {
       "output_type": "stream",
       "stream": "stdout",
       "text": [
        " 19\n",
        "Training   Error = \t0.00881276405342\n",
        "Validation Error = \t0.137340401293\n",
        "Epoch="
       ]
      },
      {
       "output_type": "stream",
       "stream": "stdout",
       "text": [
        " 20\n",
        "Training   Error = \t0.00742335575218\n",
        "Validation Error = \t0.138279717259\n",
        "Samples="
       ]
      },
      {
       "output_type": "stream",
       "stream": "stdout",
       "text": [
        " 20000     Hidden Layers= 1    Hidden Neurons= 400    F.O.M.= 0.7962    Time= 2674.0\n",
        "Epoch="
       ]
      },
      {
       "output_type": "stream",
       "stream": "stdout",
       "text": [
        " 1\n",
        "Training   Error = \t0.192188125343\n",
        "Validation Error = \t0.335996663335\n",
        "Epoch="
       ]
      },
      {
       "output_type": "stream",
       "stream": "stdout",
       "text": [
        " 2\n",
        "Training   Error = \t0.107438999443\n",
        "Validation Error = \t0.119454145422\n",
        "Epoch="
       ]
      },
      {
       "output_type": "stream",
       "stream": "stdout",
       "text": [
        " 3\n",
        "Training   Error = \t0.0916707126908\n",
        "Validation Error = \t0.108027937034\n",
        "Epoch="
       ]
      },
      {
       "output_type": "stream",
       "stream": "stdout",
       "text": [
        " 4\n",
        "Training   Error = \t0.0803344508912\n",
        "Validation Error = \t0.111585429416\n",
        "Epoch="
       ]
      },
      {
       "output_type": "stream",
       "stream": "stdout",
       "text": [
        " 5\n",
        "Training   Error = \t0.0703706981788\n",
        "Validation Error = \t0.102975627016\n",
        "Epoch="
       ]
      },
      {
       "output_type": "stream",
       "stream": "stdout",
       "text": [
        " 6\n",
        "Training   Error = \t0.0607628864098\n",
        "Validation Error = \t0.105262478426\n",
        "Epoch="
       ]
      },
      {
       "output_type": "stream",
       "stream": "stdout",
       "text": [
        " 7\n",
        "Training   Error = \t0.0519513835743\n",
        "Validation Error = \t0.10576357252\n",
        "Epoch="
       ]
      },
      {
       "output_type": "stream",
       "stream": "stdout",
       "text": [
        " 8\n",
        "Training   Error = \t0.0441898260715\n",
        "Validation Error = \t0.116806430889\n",
        "Epoch="
       ]
      },
      {
       "output_type": "stream",
       "stream": "stdout",
       "text": [
        " 9\n",
        "Training   Error = \t0.036696419112\n",
        "Validation Error = \t0.114008357101\n",
        "Epoch="
       ]
      },
      {
       "output_type": "stream",
       "stream": "stdout",
       "text": [
        " 10\n",
        "Training   Error = \t0.0312274944118\n",
        "Validation Error = \t0.147811396719\n",
        "Epoch="
       ]
      },
      {
       "output_type": "stream",
       "stream": "stdout",
       "text": [
        " 11\n",
        "Training   Error = \t0.0267945593604\n",
        "Validation Error = \t0.138433789672\n",
        "Epoch="
       ]
      },
      {
       "output_type": "stream",
       "stream": "stdout",
       "text": [
        " 12\n",
        "Training   Error = \t0.0226311055622\n",
        "Validation Error = \t0.125286497071\n",
        "Epoch="
       ]
      },
      {
       "output_type": "stream",
       "stream": "stdout",
       "text": [
        " 13\n",
        "Training   Error = \t0.0200794117996\n",
        "Validation Error = \t0.12494606363\n",
        "Epoch="
       ]
      },
      {
       "output_type": "stream",
       "stream": "stdout",
       "text": [
        " 14\n",
        "Training   Error = \t0.0175711743582\n",
        "Validation Error = \t0.126728721653\n",
        "Epoch="
       ]
      },
      {
       "output_type": "stream",
       "stream": "stdout",
       "text": [
        " 15\n",
        "Training   Error = \t0.0167718472231\n",
        "Validation Error = \t0.128585579908\n",
        "Epoch="
       ]
      },
      {
       "output_type": "stream",
       "stream": "stdout",
       "text": [
        " 16\n",
        "Training   Error = \t0.0140954307484\n",
        "Validation Error = \t0.129129933745\n",
        "Epoch="
       ]
      },
      {
       "output_type": "stream",
       "stream": "stdout",
       "text": [
        " 17\n",
        "Training   Error = \t0.0143913355914\n",
        "Validation Error = \t0.130790188307\n",
        "Epoch="
       ]
      },
      {
       "output_type": "stream",
       "stream": "stdout",
       "text": [
        " 18\n",
        "Training   Error = \t0.0117228566613\n",
        "Validation Error = \t0.131787999559\n",
        "Epoch="
       ]
      },
      {
       "output_type": "stream",
       "stream": "stdout",
       "text": [
        " 19\n",
        "Training   Error = \t0.0124712938144\n",
        "Validation Error = \t0.135080044225\n",
        "Epoch="
       ]
      },
      {
       "output_type": "stream",
       "stream": "stdout",
       "text": [
        " 20\n",
        "Training   Error = \t0.0114916369317\n",
        "Validation Error = \t0.134295578417\n",
        "Samples="
       ]
      },
      {
       "output_type": "stream",
       "stream": "stdout",
       "text": [
        " 30000     Hidden Layers= 1    Hidden Neurons= 400    F.O.M.= 0.7952    Time= 2641.0\n",
        "Epoch="
       ]
      },
      {
       "output_type": "stream",
       "stream": "stdout",
       "text": [
        " 1\n",
        "Training   Error = \t0.203843316254\n",
        "Validation Error = \t0.388037865552\n",
        "Epoch="
       ]
      },
      {
       "output_type": "stream",
       "stream": "stdout",
       "text": [
        " 2\n",
        "Training   Error = \t0.113290214178\n",
        "Validation Error = \t0.153171309126\n",
        "Epoch="
       ]
      },
      {
       "output_type": "stream",
       "stream": "stdout",
       "text": [
        " 3\n",
        "Training   Error = \t0.0985369800235\n",
        "Validation Error = \t0.151074987388\n",
        "Epoch="
       ]
      },
      {
       "output_type": "stream",
       "stream": "stdout",
       "text": [
        " 4\n",
        "Training   Error = \t0.0885083233091\n",
        "Validation Error = \t0.104552012834\n",
        "Epoch="
       ]
      },
      {
       "output_type": "stream",
       "stream": "stdout",
       "text": [
        " 5\n",
        "Training   Error = \t0.0798020973801\n",
        "Validation Error = \t0.103138778076\n",
        "Epoch="
       ]
      },
      {
       "output_type": "stream",
       "stream": "stdout",
       "text": [
        " 6\n",
        "Training   Error = \t0.0725575716847\n",
        "Validation Error = \t0.0993575068596\n",
        "Epoch="
       ]
      },
      {
       "output_type": "stream",
       "stream": "stdout",
       "text": [
        " 7\n",
        "Training   Error = \t0.0659362669499\n",
        "Validation Error = \t0.108709540006\n",
        "Epoch="
       ]
      },
      {
       "output_type": "stream",
       "stream": "stdout",
       "text": [
        " 8\n",
        "Training   Error = \t0.0594962738068\n",
        "Validation Error = \t0.112781023626\n",
        "Epoch="
       ]
      },
      {
       "output_type": "stream",
       "stream": "stdout",
       "text": [
        " 9\n",
        "Training   Error = \t0.0543818153912\n",
        "Validation Error = \t0.116979034674\n",
        "Epoch="
       ]
      },
      {
       "output_type": "stream",
       "stream": "stdout",
       "text": [
        " 10\n",
        "Training   Error = \t0.0489417171417\n",
        "Validation Error = \t0.108214063316\n",
        "Epoch="
       ]
      },
      {
       "output_type": "stream",
       "stream": "stdout",
       "text": [
        " 11\n",
        "Training   Error = \t0.044067100392\n",
        "Validation Error = \t0.108732852591\n",
        "Epoch="
       ]
      },
      {
       "output_type": "stream",
       "stream": "stdout",
       "text": [
        " 12\n",
        "Training   Error = \t0.0393380760933\n",
        "Validation Error = \t0.11629028028\n",
        "Epoch="
       ]
      },
      {
       "output_type": "stream",
       "stream": "stdout",
       "text": [
        " 13\n",
        "Training   Error = \t0.035200395356\n",
        "Validation Error = \t0.114372390454\n",
        "Epoch="
       ]
      },
      {
       "output_type": "stream",
       "stream": "stdout",
       "text": [
        " 14\n",
        "Training   Error = \t0.0322934142591\n",
        "Validation Error = \t0.151275229781\n",
        "Epoch="
       ]
      },
      {
       "output_type": "stream",
       "stream": "stdout",
       "text": [
        " 15\n",
        "Training   Error = \t0.0283951478153\n",
        "Validation Error = \t0.121984213497\n",
        "Epoch="
       ]
      },
      {
       "output_type": "stream",
       "stream": "stdout",
       "text": [
        " 16\n",
        "Training   Error = \t0.0264837528954\n",
        "Validation Error = \t0.119750873399\n",
        "Epoch="
       ]
      },
      {
       "output_type": "stream",
       "stream": "stdout",
       "text": [
        " 17\n",
        "Training   Error = \t0.0234442781529\n",
        "Validation Error = \t0.12281607002\n",
        "Epoch="
       ]
      },
      {
       "output_type": "stream",
       "stream": "stdout",
       "text": [
        " 18\n",
        "Training   Error = \t0.0215275818604\n",
        "Validation Error = \t0.123459981021\n",
        "Epoch="
       ]
      },
      {
       "output_type": "stream",
       "stream": "stdout",
       "text": [
        " 19\n",
        "Training   Error = \t0.0200353850898\n",
        "Validation Error = \t0.127037380385\n",
        "Epoch="
       ]
      },
      {
       "output_type": "stream",
       "stream": "stdout",
       "text": [
        " 20\n",
        "Training   Error = \t0.0195869662462\n",
        "Validation Error = \t0.195177830134\n",
        "Samples="
       ]
      },
      {
       "output_type": "stream",
       "stream": "stdout",
       "text": [
        " 40000     Hidden Layers= 1    Hidden Neurons= 400    F.O.M.= 0.79265    Time= 2608.0\n",
        "Epoch="
       ]
      },
      {
       "output_type": "stream",
       "stream": "stdout",
       "text": [
        " 1\n",
        "Training   Error = \t0.200408586936\n",
        "Validation Error = \t0.314516584613\n",
        "Epoch="
       ]
      },
      {
       "output_type": "stream",
       "stream": "stdout",
       "text": [
        " 2\n",
        "Training   Error = \t0.112391419514\n",
        "Validation Error = \t0.131035191801\n",
        "Epoch="
       ]
      },
      {
       "output_type": "stream",
       "stream": "stdout",
       "text": [
        " 3\n",
        "Training   Error = \t0.0991990618093\n",
        "Validation Error = \t0.104394984414\n",
        "Epoch="
       ]
      },
      {
       "output_type": "stream",
       "stream": "stdout",
       "text": [
        " 4\n",
        "Training   Error = \t0.0903641339854\n",
        "Validation Error = \t0.116974245309\n",
        "Epoch="
       ]
      },
      {
       "output_type": "stream",
       "stream": "stdout",
       "text": [
        " 5\n",
        "Training   Error = \t0.0827944438277\n",
        "Validation Error = \t0.121200282772\n",
        "Epoch="
       ]
      },
      {
       "output_type": "stream",
       "stream": "stdout",
       "text": [
        " 6\n",
        "Training   Error = \t0.0765236332399\n",
        "Validation Error = \t0.101936185229\n",
        "Epoch="
       ]
      },
      {
       "output_type": "stream",
       "stream": "stdout",
       "text": [
        " 7\n",
        "Training   Error = \t0.070335839715\n",
        "Validation Error = \t0.106026597188\n",
        "Epoch="
       ]
      },
      {
       "output_type": "stream",
       "stream": "stdout",
       "text": [
        " 8\n",
        "Training   Error = \t0.0650535191051\n",
        "Validation Error = \t0.0951393753735\n",
        "Epoch="
       ]
      },
      {
       "output_type": "stream",
       "stream": "stdout",
       "text": [
        " 9\n",
        "Training   Error = \t0.0598888938184\n",
        "Validation Error = \t0.106833171958\n",
        "Epoch="
       ]
      },
      {
       "output_type": "stream",
       "stream": "stdout",
       "text": [
        " 10\n",
        "Training   Error = \t0.055234478958\n",
        "Validation Error = \t0.104044627871\n",
        "Epoch="
       ]
      },
      {
       "output_type": "stream",
       "stream": "stdout",
       "text": [
        " 11\n",
        "Training   Error = \t0.0510694824181\n",
        "Validation Error = \t0.10841841418\n",
        "Epoch="
       ]
      },
      {
       "output_type": "stream",
       "stream": "stdout",
       "text": [
        " 12\n",
        "Training   Error = \t0.0472952437823\n",
        "Validation Error = \t0.10643725919\n",
        "Epoch="
       ]
      },
      {
       "output_type": "stream",
       "stream": "stdout",
       "text": [
        " 13\n",
        "Training   Error = \t0.0428278120763\n",
        "Validation Error = \t0.122678280384\n",
        "Epoch="
       ]
      },
      {
       "output_type": "stream",
       "stream": "stdout",
       "text": [
        " 14\n",
        "Training   Error = \t0.03990101041\n",
        "Validation Error = \t0.108318847715\n",
        "Epoch="
       ]
      },
      {
       "output_type": "stream",
       "stream": "stdout",
       "text": [
        " 15\n",
        "Training   Error = \t0.0363829892869\n",
        "Validation Error = \t0.110036698366\n",
        "Epoch="
       ]
      },
      {
       "output_type": "stream",
       "stream": "stdout",
       "text": [
        " 16\n",
        "Training   Error = \t0.0331664315026\n",
        "Validation Error = \t0.144926254562\n",
        "Epoch="
       ]
      },
      {
       "output_type": "stream",
       "stream": "stdout",
       "text": [
        " 17\n",
        "Training   Error = \t0.0309809565172\n",
        "Validation Error = \t0.117702693815\n",
        "Epoch="
       ]
      },
      {
       "output_type": "stream",
       "stream": "stdout",
       "text": [
        " 18\n",
        "Training   Error = \t0.0284903385918\n",
        "Validation Error = \t0.13213630131\n",
        "Epoch="
       ]
      },
      {
       "output_type": "stream",
       "stream": "stdout",
       "text": [
        " 19\n",
        "Training   Error = \t0.0262729629293\n",
        "Validation Error = \t0.119545954454\n",
        "Epoch="
       ]
      },
      {
       "output_type": "stream",
       "stream": "stdout",
       "text": [
        " 20\n",
        "Training   Error = \t0.0243207767655\n",
        "Validation Error = \t0.121533955343\n",
        "Samples="
       ]
      },
      {
       "output_type": "stream",
       "stream": "stdout",
       "text": [
        " 50000     Hidden Layers= 1    Hidden Neurons= 400    F.O.M.= 0.79138    Time= 2627.0\n",
        "Epoch="
       ]
      },
      {
       "output_type": "stream",
       "stream": "stdout",
       "text": [
        " 1\n",
        "Training   Error = \t0.192413224281\n",
        "Validation Error = \t0.25922227931\n",
        "Epoch="
       ]
      },
      {
       "output_type": "stream",
       "stream": "stdout",
       "text": [
        " 2\n",
        "Training   Error = \t0.110590226881\n",
        "Validation Error = \t0.11610182461\n",
        "Epoch="
       ]
      },
      {
       "output_type": "stream",
       "stream": "stdout",
       "text": [
        " 3\n",
        "Training   Error = \t0.099623624398\n",
        "Validation Error = \t0.105193059945\n",
        "Epoch="
       ]
      },
      {
       "output_type": "stream",
       "stream": "stdout",
       "text": [
        " 4\n",
        "Training   Error = \t0.091994456663\n",
        "Validation Error = \t0.102311066861\n",
        "Epoch="
       ]
      },
      {
       "output_type": "stream",
       "stream": "stdout",
       "text": [
        " 5\n",
        "Training   Error = \t0.0850501458694\n",
        "Validation Error = \t0.096310943843\n",
        "Epoch="
       ]
      },
      {
       "output_type": "stream",
       "stream": "stdout",
       "text": [
        " 6\n",
        "Training   Error = \t0.0794747019987\n",
        "Validation Error = \t0.108070866327\n",
        "Epoch="
       ]
      },
      {
       "output_type": "stream",
       "stream": "stdout",
       "text": [
        " 7\n",
        "Training   Error = \t0.0741154936285\n",
        "Validation Error = \t0.101171921144\n",
        "Epoch="
       ]
      },
      {
       "output_type": "stream",
       "stream": "stdout",
       "text": [
        " 8\n",
        "Training   Error = \t0.0691326812886\n",
        "Validation Error = \t0.100348724704\n",
        "Epoch="
       ]
      },
      {
       "output_type": "stream",
       "stream": "stdout",
       "text": [
        " 9\n",
        "Training   Error = \t0.0645775797425\n",
        "Validation Error = \t0.104243813954\n",
        "Epoch="
       ]
      },
      {
       "output_type": "stream",
       "stream": "stdout",
       "text": [
        " 10\n",
        "Training   Error = \t0.0603643837134\n",
        "Validation Error = \t0.106892429366\n",
        "Epoch="
       ]
      },
      {
       "output_type": "stream",
       "stream": "stdout",
       "text": [
        " 11\n",
        "Training   Error = \t0.0568246781541\n",
        "Validation Error = \t0.115988901337\n",
        "Epoch="
       ]
      },
      {
       "output_type": "stream",
       "stream": "stdout",
       "text": [
        " 12\n",
        "Training   Error = \t0.0532258509789\n",
        "Validation Error = \t0.0995997633625\n",
        "Epoch="
       ]
      },
      {
       "output_type": "stream",
       "stream": "stdout",
       "text": [
        " 13\n",
        "Training   Error = \t0.0496595946752\n",
        "Validation Error = \t0.101178541078\n",
        "Epoch="
       ]
      },
      {
       "output_type": "stream",
       "stream": "stdout",
       "text": [
        " 14\n",
        "Training   Error = \t0.0463364783268\n",
        "Validation Error = \t0.110918011278\n",
        "Epoch="
       ]
      },
      {
       "output_type": "stream",
       "stream": "stdout",
       "text": [
        " 15\n",
        "Training   Error = \t0.0431661965661\n",
        "Validation Error = \t0.10699761112\n",
        "Epoch="
       ]
      },
      {
       "output_type": "stream",
       "stream": "stdout",
       "text": [
        " 16\n",
        "Training   Error = \t0.0409656744658\n",
        "Validation Error = \t0.11580575916\n",
        "Epoch="
       ]
      },
      {
       "output_type": "stream",
       "stream": "stdout",
       "text": [
        " 17\n",
        "Training   Error = \t0.0382856407072\n",
        "Validation Error = \t0.108328346434\n",
        "Epoch="
       ]
      },
      {
       "output_type": "stream",
       "stream": "stdout",
       "text": [
        " 18\n",
        "Training   Error = \t0.0356018182362\n",
        "Validation Error = \t0.129522368769\n",
        "Epoch="
       ]
      },
      {
       "output_type": "stream",
       "stream": "stdout",
       "text": [
        " 19\n",
        "Training   Error = \t0.0333686460505\n",
        "Validation Error = \t0.121515546545\n",
        "Epoch="
       ]
      },
      {
       "output_type": "stream",
       "stream": "stdout",
       "text": [
        " 20\n",
        "Training   Error = \t0.0318074846545\n",
        "Validation Error = \t0.12849365676\n",
        "Samples="
       ]
      },
      {
       "output_type": "stream",
       "stream": "stdout",
       "text": [
        " 60000     Hidden Layers= 1    Hidden Neurons= 400    F.O.M.= 0.785666666667    Time= 2666.0\n",
        "Epoch="
       ]
      },
      {
       "output_type": "stream",
       "stream": "stdout",
       "text": [
        " 1\n",
        "Training   Error = \t0.198306524371\n",
        "Validation Error = \t0.275433965129\n",
        "Epoch="
       ]
      },
      {
       "output_type": "stream",
       "stream": "stdout",
       "text": [
        " 2\n",
        "Training   Error = \t0.112051124233\n",
        "Validation Error = \t0.117630699393\n",
        "Epoch="
       ]
      },
      {
       "output_type": "stream",
       "stream": "stdout",
       "text": [
        " 3\n",
        "Training   Error = \t0.100357085377\n",
        "Validation Error = \t0.106095413716\n",
        "Epoch="
       ]
      },
      {
       "output_type": "stream",
       "stream": "stdout",
       "text": [
        " 4\n",
        "Training   Error = \t0.0927583759597\n",
        "Validation Error = \t0.111052117288\n",
        "Epoch="
       ]
      },
      {
       "output_type": "stream",
       "stream": "stdout",
       "text": [
        " 5\n",
        "Training   Error = \t0.0862736259462\n",
        "Validation Error = \t0.101845156706\n",
        "Epoch="
       ]
      },
      {
       "output_type": "stream",
       "stream": "stdout",
       "text": [
        " 6\n",
        "Training   Error = \t0.0813711800042\n",
        "Validation Error = \t0.1077157229\n",
        "Epoch="
       ]
      },
      {
       "output_type": "stream",
       "stream": "stdout",
       "text": [
        " 7\n",
        "Training   Error = \t0.0765516328421\n",
        "Validation Error = \t0.0981684415671\n",
        "Epoch="
       ]
      },
      {
       "output_type": "stream",
       "stream": "stdout",
       "text": [
        " 8\n",
        "Training   Error = \t0.0724623262685\n",
        "Validation Error = \t0.0973232783648\n",
        "Epoch="
       ]
      },
      {
       "output_type": "stream",
       "stream": "stdout",
       "text": [
        " 9\n",
        "Training   Error = \t0.0679647492045\n",
        "Validation Error = \t0.0957642559456\n",
        "Epoch="
       ]
      },
      {
       "output_type": "stream",
       "stream": "stdout",
       "text": [
        " 10\n",
        "Training   Error = \t0.0648736833786\n",
        "Validation Error = \t0.102524017042\n",
        "Epoch="
       ]
      },
      {
       "output_type": "stream",
       "stream": "stdout",
       "text": [
        " 11\n",
        "Training   Error = \t0.0615576668905\n",
        "Validation Error = \t0.105271663047\n",
        "Epoch="
       ]
      },
      {
       "output_type": "stream",
       "stream": "stdout",
       "text": [
        " 12\n",
        "Training   Error = \t0.0583896856188\n",
        "Validation Error = \t0.109451831685\n",
        "Epoch="
       ]
      },
      {
       "output_type": "stream",
       "stream": "stdout",
       "text": [
        " 13\n",
        "Training   Error = \t0.0551418996779\n",
        "Validation Error = \t0.0986449108547\n",
        "Epoch="
       ]
      },
      {
       "output_type": "stream",
       "stream": "stdout",
       "text": [
        " 14\n",
        "Training   Error = \t0.0523053262691\n",
        "Validation Error = \t0.117289700225\n",
        "Epoch="
       ]
      },
      {
       "output_type": "stream",
       "stream": "stdout",
       "text": [
        " 15\n",
        "Training   Error = \t0.0494845594747\n",
        "Validation Error = \t0.105152791756\n",
        "Epoch="
       ]
      },
      {
       "output_type": "stream",
       "stream": "stdout",
       "text": [
        " 16\n",
        "Training   Error = \t0.0470063506664\n",
        "Validation Error = \t0.102366970901\n",
        "Epoch="
       ]
      },
      {
       "output_type": "stream",
       "stream": "stdout",
       "text": [
        " 17\n",
        "Training   Error = \t0.0440284660574\n",
        "Validation Error = \t0.114204618241\n",
        "Epoch="
       ]
      }
     ]
    },
    {
     "cell_type": "code",
     "collapsed": false,
     "input": [],
     "language": "python",
     "metadata": {},
     "outputs": []
    }
   ],
   "metadata": {}
  }
 ]
}