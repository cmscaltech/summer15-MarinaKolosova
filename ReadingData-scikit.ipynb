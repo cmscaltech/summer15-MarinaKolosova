{
 "metadata": {
  "name": "",
  "signature": "sha256:4141b63ff092e9144b130e0e0e4fb3d08e4a3a194753761f0b28d3f30d02526a"
 },
 "nbformat": 3,
 "nbformat_minor": 0,
 "worksheets": [
  {
   "cells": [
    {
     "cell_type": "code",
     "collapsed": false,
     "input": [
      "import h5py\n",
      "import time\n",
      "from sklearn import tree\n",
      "from sklearn.tree import DecisionTreeClassifier\n",
      "from matplotlib import pyplot"
     ],
     "language": "python",
     "metadata": {},
     "outputs": [
      {
       "output_type": "stream",
       "stream": "stdout",
       "text": [
        "Couldn't import dot_parser, loading of dot files will not be possible.\n"
       ]
      }
     ],
     "prompt_number": 1
    },
    {
     "cell_type": "code",
     "collapsed": false,
     "input": [
      "f=h5py.File(\"data/data.hdf5\")\n",
      "f.keys()\n",
      "f['data'].keys()\n",
      "input_matrix     = f['data']['input'].value\n",
      "target_matrix    = f['data']['target'].value\n",
      "decorator_matrix = f['data']['deco'].value\n",
      "f.close()"
     ],
     "language": "python",
     "metadata": {},
     "outputs": [],
     "prompt_number": 2
    },
    {
     "cell_type": "code",
     "collapsed": false,
     "input": [
      "nInputs = input_matrix.shape[1]\n",
      "nOutputs = target_matrix.shape[1]\n",
      "\n",
      "truncate=1000000\n",
      "\n",
      "input_matrix = input_matrix[0:truncate,...]\n",
      "target_matrix = target_matrix[0:truncate,...]\n",
      "decorator_matrix = decorator_matrix[0:truncate,...]\n",
      "\n",
      "cut   =int(input_matrix.shape[0]*0.8)\n",
      "train =input_matrix[:cut], target_matrix[:cut]\n",
      "valid =input_matrix[cut:], target_matrix[cut:]"
     ],
     "language": "python",
     "metadata": {},
     "outputs": [],
     "prompt_number": 4
    },
    {
     "cell_type": "code",
     "collapsed": false,
     "input": [
      "print \" Samples:                     \", truncate\n",
      "print \" Number of training samples:  \", len(train[0])\n",
      "print \" Number of validation samples:\", len(valid[0])"
     ],
     "language": "python",
     "metadata": {},
     "outputs": [
      {
       "output_type": "stream",
       "stream": "stdout",
       "text": [
        " Samples:                      1000000\n",
        " Number of training samples:   800000\n",
        " Number of validation samples: 200000\n"
       ]
      }
     ],
     "prompt_number": 5
    },
    {
     "cell_type": "code",
     "collapsed": false,
     "input": [
      "plt.hist(train[1])\n",
      "plt.title(\"Training Target\")\n",
      "plt.ylabel(\"Number of samples\")\n",
      "plt.xlabel(\"Target\")"
     ],
     "language": "python",
     "metadata": {},
     "outputs": [
      {
       "metadata": {},
       "output_type": "pyout",
       "prompt_number": 6,
       "text": [
        "<matplotlib.text.Text at 0x7f33681e3810>"
       ]
      },
      {
       "metadata": {},
       "output_type": "display_data",
       "png": "[encoded data removed]",
       "text": [
        "<matplotlib.figure.Figure at 0x7f33688b3550>"
       ]
      }
     ],
     "prompt_number": 6
    },
    {
     "cell_type": "code",
     "collapsed": false,
     "input": [
      "plt.hist(valid[1])\n",
      "plt.title(\"Validation Target\")\n",
      "plt.ylabel(\"Number of Samples\")\n",
      "plt.xlabel(\"Target\")"
     ],
     "language": "python",
     "metadata": {},
     "outputs": [
      {
       "metadata": {},
       "output_type": "pyout",
       "prompt_number": 7,
       "text": [
        "<matplotlib.text.Text at 0x7f3351973950>"
       ]
      },
      {
       "metadata": {},
       "output_type": "display_data",
       "png": "[encoded data removed]",
       "text": [
        "<matplotlib.figure.Figure at 0x7f33518be250>"
       ]
      }
     ],
     "prompt_number": 7
    },
    {
     "cell_type": "code",
     "collapsed": false,
     "input": [
      "clf = tree.DecisionTreeClassifier()\n",
      "clf = clf.fit(train[0],train[1])\n",
      "\n",
      "print clf"
     ],
     "language": "python",
     "metadata": {},
     "outputs": [
      {
       "output_type": "stream",
       "stream": "stdout",
       "text": [
        "DecisionTreeClassifier(class_weight=None, criterion='gini', max_depth=None,\n",
        "            max_features=None, max_leaf_nodes=None, min_samples_leaf=1,\n",
        "            min_samples_split=2, min_weight_fraction_leaf=0.0,\n",
        "            random_state=None, splitter='best')\n"
       ]
      }
     ],
     "prompt_number": 8
    },
    {
     "cell_type": "code",
     "collapsed": false,
     "input": [
      "prediction=clf.predict(train[0])\n",
      "\n",
      "pyplot.hist(train[1],label='target')\n",
      "pyplot.hist(prediction,label='prediction')\n",
      "pyplot.legend(loc='upper left')\n",
      "pyplot.xlabel('Trigger Bits')\n",
      "pyplot.ylabel('Number of Samples')"
     ],
     "language": "python",
     "metadata": {},
     "outputs": [
      {
       "metadata": {},
       "output_type": "pyout",
       "prompt_number": 9,
       "text": [
        "<matplotlib.text.Text at 0x7f33517eddd0>"
       ]
      },
      {
       "metadata": {},
       "output_type": "display_data",
       "png": "[encoded data removed]",
       "text": [
        "<matplotlib.figure.Figure at 0x7f335198d690>"
       ]
      }
     ],
     "prompt_number": 9
    },
    {
     "cell_type": "code",
     "collapsed": false,
     "input": [
      "agree=0\n",
      "disagree=0\n",
      "\n",
      "for i in range(len(train[1])):\n",
      "    if(train[1][i]==prediction[i]):\n",
      "        agree+=1\n",
      "    else:\n",
      "        disagree+=1\n",
      "print agree,disagree     \n",
      "\n",
      "fom=agree/float(len(train[1]))\n",
      "print fom"
     ],
     "language": "python",
     "metadata": {},
     "outputs": [
      {
       "output_type": "stream",
       "stream": "stdout",
       "text": [
        "800000 0\n",
        "1.0\n"
       ]
      }
     ],
     "prompt_number": 10
    },
    {
     "cell_type": "code",
     "collapsed": false,
     "input": [
      "prediction=clf.predict(valid[0])\n",
      "\n",
      "pyplot.hist(valid[1],label='target')\n",
      "pyplot.hist(prediction,label='prediction')\n",
      "pyplot.legend(loc='upper left')\n",
      "pyplot.xlabel('Trigger Bits')\n",
      "pyplot.ylabel('Number of Samples')"
     ],
     "language": "python",
     "metadata": {},
     "outputs": [
      {
       "metadata": {},
       "output_type": "pyout",
       "prompt_number": 11,
       "text": [
        "<matplotlib.text.Text at 0x7f3351791250>"
       ]
      },
      {
       "metadata": {},
       "output_type": "display_data",
       "png": "[encoded data removed]",
       "text": [
        "<matplotlib.figure.Figure at 0x7f335172eb90>"
       ]
      }
     ],
     "prompt_number": 11
    },
    {
     "cell_type": "code",
     "collapsed": false,
     "input": [
      "agree=0\n",
      "disagree=0\n",
      "\n",
      "for i in range(len(valid[1])):\n",
      "    if(valid[1][i]==prediction[i]):\n",
      "        agree+=1\n",
      "    else:\n",
      "        disagree+=1\n",
      "print \"Agree           =\",agree, \"   (\",agree/float(agree+disagree)*100.0,\"%  )\"\n",
      "print \"Disagree        =\",disagree, \"    (\", disagree/float(agree+disagree)*100.0,\"%  )\"     \n",
      "print \"Validation Data =\",agree+disagree\n",
      "\n",
      "fom=agree/float(len(valid[1]))\n",
      "print \"FOM=\",fom"
     ],
     "language": "python",
     "metadata": {},
     "outputs": [
      {
       "output_type": "stream",
       "stream": "stdout",
       "text": [
        "Agree           = 153428    ( 76.714 %  )\n",
        "Disagree        = 46572     ( 23.286 %  )\n",
        "Validation Data = 200000\n",
        "FOM= 0.76714\n"
       ]
      }
     ],
     "prompt_number": 12
    },
    {
     "cell_type": "code",
     "collapsed": false,
     "input": [
      "def NN_NumberOfSamples(truncate,input_matrix, target_matrix,decorator_matrix):\n",
      "    input_matrix = input_matrix[0:truncate,...]\n",
      "    target_matrix = target_matrix[0:truncate,...]\n",
      "    decorator_matrix = decorator_matrix[0:truncate,...]\n",
      "\n",
      "    cut   =int(input_matrix.shape[0]*0.8)\n",
      "    train =input_matrix[:cut], target_matrix[:cut]\n",
      "    valid =input_matrix[cut:], target_matrix[cut:]\n",
      "    \n",
      "    timing=0\n",
      "    fom=0\n",
      "    \n",
      "    print \" Samples:                     \", truncate\n",
      "    print \" Number of training samples:  \", len(train[0])\n",
      "    print \" Number of validation samples:\", len(valid[0])\n",
      "    \n",
      "    clf = tree.DecisionTreeClassifier()\n",
      "    timing_start = time.mktime(time.gmtime())\n",
      "    clf = clf.fit(train[0],train[1])\n",
      "    timing_end=time.mktime(time.gmtime())\n",
      "    \n",
      "    timing=timing_end-timing_start\n",
      "    \n",
      "    prediction=clf.predict(train[0])\n",
      "    \n",
      "    agree=0\n",
      "    disagree=0\n",
      "\n",
      "    for i in range(len(train[1])):\n",
      "        if(train[1][i]==prediction[i]):\n",
      "            agree+=1\n",
      "        else:\n",
      "            disagree+=1\n",
      "            \n",
      "    fom=agree/float(len(train[1]))\n",
      "    print \"Training FOM:\",fom\n",
      "    \n",
      "    prediction=clf.predict(valid[0])\n",
      "    \n",
      "    agree=0\n",
      "    disagree=0\n",
      "\n",
      "    for i in range(len(valid[1])):\n",
      "        if(valid[1][i]==prediction[i]):\n",
      "            agree+=1\n",
      "        else:\n",
      "            disagree+=1\n",
      "            \n",
      "    fom=agree/float(len(valid[1]))\n",
      "    print \"Validation FOM:\",fom\n",
      "    print \"Training Time=\",timing\n",
      "    return fom, timing"
     ],
     "language": "python",
     "metadata": {},
     "outputs": [],
     "prompt_number": 19
    },
    {
     "cell_type": "code",
     "collapsed": false,
     "input": [
      "Samples=100000\n",
      "mapAlgo=[]                  # list of tuples -> (Samples, validation FOM, time of training)\n",
      "for i in range(10):\n",
      "    fom, timing=NN_NumberOfSamples(Samples, input_matrix, target_matrix, decorator_matrix)\n",
      "    mapAlgo.append((Samples, fom, timing))\n",
      "    Samples+=100000\n",
      "print mapAlgo\n",
      "    "
     ],
     "language": "python",
     "metadata": {},
     "outputs": [
      {
       "output_type": "stream",
       "stream": "stdout",
       "text": [
        " Samples:                      100000\n",
        " Number of training samples:   80000\n",
        " Number of validation samples: 20000\n",
        "Training FOM:"
       ]
      },
      {
       "output_type": "stream",
       "stream": "stdout",
       "text": [
        " 1.0\n",
        "Validation FOM:"
       ]
      },
      {
       "output_type": "stream",
       "stream": "stdout",
       "text": [
        " 0.75015\n",
        "Training Time= 12.0\n",
        " Samples:                      200000\n",
        " Number of training samples:   160000\n",
        " Number of validation samples: 40000\n",
        "Training FOM:"
       ]
      },
      {
       "output_type": "stream",
       "stream": "stdout",
       "text": [
        " 1.0\n",
        "Validation FOM:"
       ]
      },
      {
       "output_type": "stream",
       "stream": "stdout",
       "text": [
        " 0.753125\n",
        "Training Time= 28.0\n",
        " Samples:                      300000\n",
        " Number of training samples:   240000\n",
        " Number of validation samples: 60000\n",
        "Training FOM:"
       ]
      },
      {
       "output_type": "stream",
       "stream": "stdout",
       "text": [
        " 1.0\n",
        "Validation FOM:"
       ]
      },
      {
       "output_type": "stream",
       "stream": "stdout",
       "text": [
        " 0.76\n",
        "Training Time= 38.0\n",
        " Samples:                      400000\n",
        " Number of training samples:   320000\n",
        " Number of validation samples: 80000\n",
        "Training FOM:"
       ]
      },
      {
       "output_type": "stream",
       "stream": "stdout",
       "text": [
        " 1.0\n",
        "Validation FOM:"
       ]
      },
      {
       "output_type": "stream",
       "stream": "stdout",
       "text": [
        " 0.7597125\n",
        "Training Time= 69.0\n",
        " Samples:                      500000\n",
        " Number of training samples:   400000\n",
        " Number of validation samples: 100000\n",
        "Training FOM:"
       ]
      },
      {
       "output_type": "stream",
       "stream": "stdout",
       "text": [
        " 1.0\n",
        "Validation FOM:"
       ]
      },
      {
       "output_type": "stream",
       "stream": "stdout",
       "text": [
        " 0.7628\n",
        "Training Time= 61.0\n",
        " Samples:                      600000\n",
        " Number of training samples:   480000\n",
        " Number of validation samples: 120000\n",
        "Training FOM:"
       ]
      },
      {
       "output_type": "stream",
       "stream": "stdout",
       "text": [
        " 1.0\n",
        "Validation FOM:"
       ]
      },
      {
       "output_type": "stream",
       "stream": "stdout",
       "text": [
        " 0.7645\n",
        "Training Time= 69.0\n",
        " Samples:                      700000\n",
        " Number of training samples:   560000\n",
        " Number of validation samples: 140000\n",
        "Training FOM:"
       ]
      },
      {
       "output_type": "stream",
       "stream": "stdout",
       "text": [
        " 1.0\n",
        "Validation FOM:"
       ]
      },
      {
       "output_type": "stream",
       "stream": "stdout",
       "text": [
        " 0.764214285714\n",
        "Training Time= 86.0\n",
        " Samples:                      800000\n",
        " Number of training samples:   640000\n",
        " Number of validation samples: 160000\n",
        "Training FOM:"
       ]
      },
      {
       "output_type": "stream",
       "stream": "stdout",
       "text": [
        " 1.0\n",
        "Validation FOM:"
       ]
      },
      {
       "output_type": "stream",
       "stream": "stdout",
       "text": [
        " 0.7640875\n",
        "Training Time= 108.0\n",
        " Samples:                      900000\n",
        " Number of training samples:   720000\n",
        " Number of validation samples: 180000\n",
        "Training FOM:"
       ]
      },
      {
       "output_type": "stream",
       "stream": "stdout",
       "text": [
        " 1.0\n",
        "Validation FOM:"
       ]
      },
      {
       "output_type": "stream",
       "stream": "stdout",
       "text": [
        " 0.765022222222\n",
        "Training Time= 124.0\n",
        " Samples:                      1000000\n",
        " Number of training samples:   800000\n",
        " Number of validation samples: 200000\n",
        "Training FOM:"
       ]
      },
      {
       "output_type": "stream",
       "stream": "stdout",
       "text": [
        " 1.0\n",
        "Validation FOM:"
       ]
      },
      {
       "output_type": "stream",
       "stream": "stdout",
       "text": [
        " 0.766495\n",
        "Training Time= 139.0\n",
        "[(100000, 0.75015, 12.0), (200000, 0.753125, 28.0), (300000, 0.76, 38.0), (400000, 0.7597125, 69.0), (500000, 0.7628, 61.0), (600000, 0.7645, 69.0), (700000, 0.7642142857142857, 86.0), (800000, 0.7640875, 108.0), (900000, 0.7650222222222223, 124.0), (1000000, 0.766495, 139.0)]\n"
       ]
      }
     ],
     "prompt_number": 20
    },
    {
     "cell_type": "code",
     "collapsed": false,
     "input": [
      "plt.scatter([x[0] for x in mapAlgo], [y[1] for y in mapAlgo])\n",
      "plt.title(\"FOM = f(number of Samples)\")\n",
      "plt.xlabel(\"Number of Samples\")\n",
      "plt.ylabel(\"FOM\")"
     ],
     "language": "python",
     "metadata": {},
     "outputs": [
      {
       "metadata": {},
       "output_type": "pyout",
       "prompt_number": 40,
       "text": [
        "<matplotlib.text.Text at 0x7f335140ae10>"
       ]
      },
      {
       "metadata": {},
       "output_type": "display_data",
       "png": "[encoded data removed]",
       "text": [
        "<matplotlib.figure.Figure at 0x7f3351892250>"
       ]
      }
     ],
     "prompt_number": 40
    },
    {
     "cell_type": "code",
     "collapsed": false,
     "input": [],
     "language": "python",
     "metadata": {},
     "outputs": []
    }
   ],
   "metadata": {}
  }
 ]
}