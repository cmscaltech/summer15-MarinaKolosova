{
 "metadata": {
  "name": "",
  "signature": "sha256:3e2aebcaa7ed2649c3b916c38c53a36f2a5aef14a3a0fb4d32be514710ab5df3"
 },
 "nbformat": 3,
 "nbformat_minor": 0,
 "worksheets": [
  {
   "cells": [
    {
     "cell_type": "code",
     "collapsed": false,
     "input": [
      "import h5py\n",
      "import theanets\n",
      "import time"
     ],
     "language": "python",
     "metadata": {},
     "outputs": [
      {
       "output_type": "stream",
       "stream": "stdout",
       "text": [
        "Couldn't import dot_parser, loading of dot files will not be possible.\n"
       ]
      }
     ],
     "prompt_number": 1
    },
    {
     "cell_type": "code",
     "collapsed": false,
     "input": [
      "f=h5py.File(\"data/data.hdf5\")\n",
      "f.keys()\n",
      "f['data'].keys()\n",
      "\n",
      "global input_matrix\n",
      "global target_matrix\n",
      "global decorator_matrix\n",
      "\n",
      "input_matrix     = f['data']['input'].value\n",
      "target_matrix    = f['data']['target'].value\n",
      "decorator_matrix = f['data']['deco'].value\n",
      "f.close()"
     ],
     "language": "python",
     "metadata": {},
     "outputs": [],
     "prompt_number": 9
    },
    {
     "cell_type": "code",
     "collapsed": false,
     "input": [
      "nInputs  = input_matrix.shape[1]\n",
      "nOutputs = target_matrix.shape[1]"
     ],
     "language": "python",
     "metadata": {},
     "outputs": [],
     "prompt_number": 3
    },
    {
     "cell_type": "code",
     "collapsed": false,
     "input": [
      "print \"Samples in input_matrix=\", len(input_matrix), \"       Inputs=\", nInputs, \"       Outputs=\",nOutputs"
     ],
     "language": "python",
     "metadata": {},
     "outputs": [
      {
       "output_type": "stream",
       "stream": "stdout",
       "text": [
        "Samples in input_matrix= 1000000        Inputs= 82        Outputs= 1\n"
       ]
      }
     ],
     "prompt_number": 4
    },
    {
     "cell_type": "code",
     "collapsed": false,
     "input": [
      "def allincluded(truncated, nHiddenLayers, nHiddenNeurons):\n",
      "\n",
      "    # Create Training & Validation Set\n",
      "    # ------------------------------------------------\n",
      "    IN_matrix     = input_matrix[0:truncate,...]      \n",
      "    TARGET_matrix = target_matrix[0:truncate,...]\n",
      "    DEC_matrix    = decorator_matrix[0:truncate,...] \n",
      "    \n",
      "    cut   =int(IN_matrix.shape[0]*0.8)\n",
      "    train =IN_matrix[:cut], TARGET_matrix[:cut]\n",
      "    valid =IN_matrix[cut:], TARGET_matrix[cut:]\n",
      "    \n",
      "    # Build the NN\n",
      "    # -----------------------------------------------------------------------------------------------------------------------------------\n",
      "    # Topology: Feedforward\n",
      "    # Inputs = 82 (Jets 4-momenta (20 Jets maximum), METx, METy)\n",
      "    # Number of Hidden Layers = nHiddenLayers\n",
      "    # Activation function for Hidden Layers = sigmoid\n",
      "    # Outputs=1 (NN Trigger Bits= 0 or 1)\n",
      "    # Activation function for the Output Layer= sigmoid \n",
      "    # Layerwise: pretrainer \n",
      "\n",
      "    exp=theanets.Experiment(theanets.feedforward.Regressor(layers=(nInputs,)+tuple([nHiddenNeurons for l in range(nHiddenLayers), 'sigmoid'])+ ( (nOutputs, 'sigmoid'),)),'layerwise')    \n",
      "    \n",
      "    # ------------------------------------------------------------------------------------------------------------------------------------\n",
      "    fom          = 1.0\n",
      "    timing_start = time.mktime(time.gmtime())\n",
      "    epochs=10\n",
      "    trainings=2\n",
      "\n",
      "    for i in range(0, epochs):       \n",
      "        for j in range(trainings):            \n",
      "            exp.train(train, valid, learning_rate=0.1/10**i, algo='rmsprop')        \n",
      "    \n",
      "    timing_end=time.mktime(time.gmtime())\n",
      "    \n",
      "    prediction = exp.network.predict(train[0])\n",
      "    goodness = np.asarray([[cut,(list(TARGET_matrix[np.where(prediction>cut)]==1).count(True)+list(TARGET_matrix[np.where(prediction<cut)]==0).count(True))/ float(IN_matrix.shape[0])]  for cut in np.arange(0,1,0.05)])\n",
      "    \n",
      "    fom = max( goodness[:,1])    \n",
      "    timing=timing_end-timing_start\n",
      "    \n",
      "    return (fom, timing)"
     ],
     "language": "python",
     "metadata": {},
     "outputs": [],
     "prompt_number": 16
    },
    {
     "cell_type": "code",
     "collapsed": false,
     "input": [
      "# (Number of Samples, Hidden Layers, HiddenNeurons, Epochs, Trainings, Timing, FOM ) \n",
      "mapAlgo=[]"
     ],
     "language": "python",
     "metadata": {},
     "outputs": [],
     "prompt_number": 17
    },
    {
     "cell_type": "code",
     "collapsed": false,
     "input": [
      "print mapAlgo"
     ],
     "language": "python",
     "metadata": {},
     "outputs": [
      {
       "output_type": "stream",
       "stream": "stdout",
       "text": [
        "[]\n"
       ]
      }
     ],
     "prompt_number": 18
    },
    {
     "cell_type": "code",
     "collapsed": false,
     "input": [
      "iLayers=1\n",
      "nHiddenNeurons=100\n",
      "\n",
      "for iLayers in range(1,11):\n",
      "    for nHiddenNeurons in range(100, 1000, 100):\n",
      "        for truncate in range(10000,100000,10000):        \n",
      "            fom, timing = allincluded(truncate, iLayers, nHiddenNeurons)\n",
      "            mapAlgo.append((truncate, iLayers, nHiddenNeurons, timing, fom))\n",
      "            print 'Samples=',truncate,'    Hidden Layers=',iLayers, \"   Hidden Neurons=\", nHiddenNeurons, \"   F.O.M.=\",fom,\"   Time=\", timing "
     ],
     "language": "python",
     "metadata": {},
     "outputs": [
      {
       "output_type": "stream",
       "stream": "stdout",
       "text": [
        "Samples= 10000     Hidden Layers= 1    Hidden Neurons= 100    F.O.M.= 0.7612    Time= 642.0\n",
        "Samples="
       ]
      },
      {
       "output_type": "stream",
       "stream": "stdout",
       "text": [
        " 20000     Hidden Layers= 1    Hidden Neurons= 100    F.O.M.= 0.7417    Time= 1207.0\n",
        "Samples="
       ]
      },
      {
       "output_type": "stream",
       "stream": "stdout",
       "text": [
        " 30000     Hidden Layers= 1    Hidden Neurons= 100    F.O.M.= 0.752166666667    Time= 2423.0\n",
        "Samples="
       ]
      },
      {
       "output_type": "stream",
       "stream": "stdout",
       "text": [
        " 40000     Hidden Layers= 1    Hidden Neurons= 100    F.O.M.= 0.74095    Time= 2529.0\n",
        "Samples="
       ]
      },
      {
       "output_type": "stream",
       "stream": "stdout",
       "text": [
        " 50000     Hidden Layers= 1    Hidden Neurons= 100    F.O.M.= 0.47916    Time= 3119.0\n",
        "Samples="
       ]
      },
      {
       "output_type": "stream",
       "stream": "stdout",
       "text": [
        " 60000     Hidden Layers= 1    Hidden Neurons= 100    F.O.M.= 0.73955    Time= 3477.0\n",
        "Samples="
       ]
      },
      {
       "output_type": "stream",
       "stream": "stdout",
       "text": [
        " 70000     Hidden Layers= 1    Hidden Neurons= 100    F.O.M.= 0.479942857143    Time= 4373.0\n",
        "Samples="
       ]
      },
      {
       "output_type": "stream",
       "stream": "stdout",
       "text": [
        " 80000     Hidden Layers= 1    Hidden Neurons= 100    F.O.M.= 0.7440125    Time= 4796.0\n",
        "Samples="
       ]
      },
      {
       "output_type": "stream",
       "stream": "stdout",
       "text": [
        " 90000     Hidden Layers= 1    Hidden Neurons= 100    F.O.M.= 0.479811111111    Time= 5926.0\n",
        "Samples="
       ]
      },
      {
       "output_type": "stream",
       "stream": "stdout",
       "text": [
        " 10000     Hidden Layers= 1    Hidden Neurons= 200    F.O.M.= 0.7894    Time= 1549.0\n",
        "Samples="
       ]
      },
      {
       "output_type": "stream",
       "stream": "stdout",
       "text": [
        " 20000     Hidden Layers= 1    Hidden Neurons= 200    F.O.M.= 0.75445    Time= 3116.0\n",
        "Samples="
       ]
      },
      {
       "output_type": "stream",
       "stream": "stdout",
       "text": [
        " 30000     Hidden Layers= 1    Hidden Neurons= 200    F.O.M.= 0.734666666667    Time= 6082.0\n",
        "Samples="
       ]
      },
      {
       "output_type": "stream",
       "stream": "stdout",
       "text": [
        " 40000     Hidden Layers= 1    Hidden Neurons= 200    F.O.M.= 0.73855    Time= 6611.0\n",
        "Samples="
       ]
      },
      {
       "output_type": "stream",
       "stream": "stdout",
       "text": [
        " 50000     Hidden Layers= 1    Hidden Neurons= 200    F.O.M.= 0.73038    Time= 10780.0\n",
        "Samples="
       ]
      },
      {
       "output_type": "stream",
       "stream": "stdout",
       "text": [
        " 70000     Hidden Layers= 1    Hidden Neurons= 200    F.O.M.= 0.7364    Time= 11427.0\n",
        "Samples="
       ]
      },
      {
       "output_type": "stream",
       "stream": "stdout",
       "text": [
        " 80000     Hidden Layers= 1    Hidden Neurons= 200    F.O.M.= 0.4796625    Time= 15961.0\n",
        "Samples="
       ]
      },
      {
       "output_type": "stream",
       "stream": "stdout",
       "text": [
        " 90000     Hidden Layers= 1    Hidden Neurons= 200    F.O.M.= 0.747866666667    Time= 23312.0\n",
        "Samples="
       ]
      },
      {
       "output_type": "stream",
       "stream": "stdout",
       "text": [
        " 10000     Hidden Layers= 1    Hidden Neurons= 300    F.O.M.= 0.7384    Time= 3596.0\n",
        "Samples="
       ]
      },
      {
       "output_type": "stream",
       "stream": "stdout",
       "text": [
        " 20000     Hidden Layers= 1    Hidden Neurons= 300    F.O.M.= 0.7558    Time= 7949.0\n",
        "Samples="
       ]
      },
      {
       "output_type": "stream",
       "stream": "stdout",
       "text": [
        " 30000     Hidden Layers= 1    Hidden Neurons= 300    F.O.M.= 0.778366666667    Time= 9369.0\n",
        "Samples="
       ]
      },
      {
       "output_type": "stream",
       "stream": "stdout",
       "text": [
        " 40000     Hidden Layers= 1    Hidden Neurons= 300    F.O.M.= 0.757775    Time= 12755.0\n",
        "Samples="
       ]
      }
     ]
    },
    {
     "cell_type": "code",
     "collapsed": false,
     "input": [],
     "language": "python",
     "metadata": {},
     "outputs": []
    }
   ],
   "metadata": {}
  }
 ]
}