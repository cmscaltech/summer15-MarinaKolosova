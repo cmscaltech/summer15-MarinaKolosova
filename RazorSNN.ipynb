{
 "metadata": {
  "name": "",
  "signature": "sha256:3158a95317f72776a7930b4726f500bac3056e9acf6960fffd30a7df879d5b11"
 },
 "nbformat": 3,
 "nbformat_minor": 0,
 "worksheets": [
  {
   "cells": [
    {
     "cell_type": "code",
     "collapsed": false,
     "input": [
      "import h5py\n",
      "import theanets\n",
      "import time"
     ],
     "language": "python",
     "metadata": {},
     "outputs": [
      {
       "output_type": "stream",
       "stream": "stdout",
       "text": [
        "Couldn't import dot_parser, loading of dot files will not be possible.\n"
       ]
      }
     ],
     "prompt_number": 1
    },
    {
     "cell_type": "code",
     "collapsed": false,
     "input": [
      "from brian import *\n",
      "from brian.library.synapses import *\n",
      "from brian.clock import reinit_default_clock\n",
      "from brian.stdunits import kHz, Hz, ms\n",
      "from brian.network import Network\n",
      "from brian.monitor import StateMonitor, SpikeMonitor\n",
      "from brian.globalprefs import set_global_preferences\n",
      "from brian import clear\n",
      "\n",
      "import cPickle\n",
      "%matplotlib inline"
     ],
     "language": "python",
     "metadata": {},
     "outputs": [
      {
       "output_type": "stream",
       "stream": "stderr",
       "text": [
        "/usr/local/lib/python2.7/site-packages/brian-1.4.1-py2.7-linux-x86_64.egg/brian/utils/sparse_patch/__init__.py:39: UserWarning: Couldn't find matching sparse matrix patch for scipy version 0.15.1, but in most cases this shouldn't be a problem.\n",
        "  warnings.warn(\"Couldn't find matching sparse matrix patch for scipy version %s, but in most cases this shouldn't be a problem.\" % scipy.__version__)\n"
       ]
      }
     ],
     "prompt_number": 2
    },
    {
     "cell_type": "code",
     "collapsed": false,
     "input": [
      "f=h5py.File(\"data/data.hdf5\")\n",
      "f.keys()\n",
      "f['data'].keys()\n",
      "\n",
      "global input_matrix\n",
      "global target_matrix\n",
      "global decorator_matrix\n",
      "\n",
      "input_matrix     = f['data']['input'].value\n",
      "target_matrix    = f['data']['target'].value\n",
      "decorator_matrix = f['data']['deco'].value\n",
      "f.close()"
     ],
     "language": "python",
     "metadata": {},
     "outputs": [],
     "prompt_number": 3
    },
    {
     "cell_type": "code",
     "collapsed": false,
     "input": [
      "nInputs  = input_matrix.shape[1]\n",
      "nOutputs = target_matrix.shape[1]"
     ],
     "language": "python",
     "metadata": {},
     "outputs": [],
     "prompt_number": 4
    },
    {
     "cell_type": "code",
     "collapsed": false,
     "input": [
      "truncate=100000\n",
      "\n",
      "# Create Training & Validation Set\n",
      "IN_matrix     = input_matrix[0:truncate,...]      \n",
      "TARGET_matrix = target_matrix[0:truncate,...]\n",
      "DEC_matrix    = decorator_matrix[0:truncate,...] \n",
      "    \n",
      "cut   =int(IN_matrix.shape[0]*0.8)\n",
      "train =IN_matrix[:cut], TARGET_matrix[:cut]    \n",
      "valid =IN_matrix[cut:], TARGET_matrix[cut:]\n",
      "\n",
      "for i, iSample in enumerate(train[0]):\n",
      "    minInput= min(iSample)\n",
      "    if(minInput < 0):\n",
      "        for j, jInput in enumerate(iSample):\n",
      "            if (jInput != 0.):\n",
      "                train[0][i][j]=jInput - minInput"
     ],
     "language": "python",
     "metadata": {},
     "outputs": [],
     "prompt_number": 5
    },
    {
     "cell_type": "code",
     "collapsed": false,
     "input": [
      "# Topology:\n",
      "nHiddenNeurons = 200\n",
      "iLayers        = 2"
     ],
     "language": "python",
     "metadata": {},
     "outputs": [],
     "prompt_number": 6
    },
    {
     "cell_type": "code",
     "collapsed": false,
     "input": [
      "experiment=theanets.feedforward.Regressor(layers=(nInputs,)+tuple([nHiddenNeurons for l in range(iLayers), 'relu'])+ ( (nOutputs, 'relu'),))  \n",
      "\n",
      "fom_train   = 1.0\n",
      "fom_valid   = 1.0\n",
      "\n",
      "Epochs       = 0\n",
      "maxEpochs    = 200\n",
      "\n",
      "# Tune parameters:\n",
      "Dropout        = 0.8\n",
      "momentum       = 0.5\n",
      "LearningRate   = 1e-3\n",
      "weight_l2      = 0.045\n",
      "hidden_l2      = 0.075\n",
      "iteration_size = 100\n",
      "batch_size     = 20\n",
      "\n",
      "\n",
      "timing_start = time.mktime(time.gmtime())\n",
      "    \n",
      "for TrainError, ValError in experiment.itertrain(train,\n",
      "                                                 valid, \n",
      "                                                 learning_rate  = LearningRate   ,\n",
      "                                                 algo           = 'rprop'        ,\n",
      "                                                 weight_l2      = weight_l2      ,\n",
      "                                                 hidden_l2      = hidden_l2      ,\n",
      "                                                 hidden_dropout = Dropout        ,\n",
      "                                                 iteration_size = iteration_size ,\n",
      "                                                 batch_size     = batch_size     ):\n",
      "    print 'Epoch=', Epochs+1\n",
      "    if Epochs%1 == 0:\n",
      "        print 'Training   Error =',TrainError['err']\n",
      "        print 'Validation Error =',ValError['err']\n",
      "    Epochs+=1\n",
      "    if Epochs == maxEpochs :\n",
      "        break\n",
      "\n",
      "timing_end=time.mktime(time.gmtime())\n",
      "timing=timing_end-timing_start\n",
      "\n",
      "# Prediction for Training Set\n",
      "prediction = experiment.predict(train[0])\n",
      "goodness   = np.asarray([[cut,(list(train[1][np.where(prediction>cut)]==1).count(True)+list(train[1][np.where(prediction<cut)]==0).count(True))/ float(train[0].shape[0])]  for cut in np.arange(0,1,0.05)])   \n",
      "fom_train  = max( goodness[:,1])    \n",
      "\n",
      "# Prediction for Validation Set\n",
      "prediction = experiment.predict(valid[0])\n",
      "goodness   = np.asarray([[cut,(list(valid[1][np.where(prediction>cut)]==1).count(True)+list(valid[1][np.where(prediction<cut)]==0).count(True))/ float(valid[0].shape[0])]  for cut in np.arange(0,1,0.05)])\n",
      "fom_valid  = max( goodness[:,1])     \n",
      "\n",
      "\n",
      "MaxCut= goodness[np.where(goodness[:,1]==goodness[:,1].max())][0][0]\n",
      "    \n",
      "print 'Samples=', truncate,'    Hid. Layers=',iLayers, \"   Hid. Neurons=\", nHiddenNeurons, \"   F.O.M. train set=\",fom_train, \"   FOM valid. set=\", fom_valid, \" Time=\", timing, \" Max Cut=\", MaxCut          "
     ],
     "language": "python",
     "metadata": {},
     "outputs": [
      {
       "output_type": "stream",
       "stream": "stdout",
       "text": [
        "Epoch= 1\n",
        "Training   Error = 0.297127066643\n",
        "Validation Error = 1.91656683394\n",
        "Epoch="
       ]
      },
      {
       "output_type": "stream",
       "stream": "stdout",
       "text": [
        " 2\n",
        "Training   Error = 0.25180272769\n",
        "Validation Error = 1.91656683394\n",
        "Epoch="
       ]
      },
      {
       "output_type": "stream",
       "stream": "stdout",
       "text": [
        " 3\n",
        "Training   Error = 0.248749803104\n",
        "Validation Error = 1.91656683394\n",
        "Epoch="
       ]
      },
      {
       "output_type": "stream",
       "stream": "stdout",
       "text": [
        " 4\n",
        "Training   Error = 0.245777879758\n",
        "Validation Error = 1.91656683394\n",
        "Epoch="
       ]
      },
      {
       "output_type": "stream",
       "stream": "stdout",
       "text": [
        " 5\n",
        "Training   Error = 0.242845360817\n",
        "Validation Error = 1.91656683394\n",
        "Epoch="
       ]
      },
      {
       "output_type": "stream",
       "stream": "stdout",
       "text": [
        " 6\n",
        "Training   Error = 0.243632831036\n",
        "Validation Error = 1.91656683394\n",
        "Epoch="
       ]
      },
      {
       "output_type": "stream",
       "stream": "stdout",
       "text": [
        " 7\n",
        "Training   Error = 0.2412820446\n",
        "Validation Error = 1.91656683394\n",
        "Epoch="
       ]
      },
      {
       "output_type": "stream",
       "stream": "stdout",
       "text": [
        " 8\n",
        "Training   Error = 0.242483363302\n",
        "Validation Error = 1.91656683394\n",
        "Epoch="
       ]
      },
      {
       "output_type": "stream",
       "stream": "stdout",
       "text": [
        " 9\n",
        "Training   Error = 0.240235326633\n",
        "Validation Error = 1.91656683394\n",
        "Epoch="
       ]
      },
      {
       "output_type": "stream",
       "stream": "stdout",
       "text": [
        " 10\n",
        "Training   Error = 0.233789409137\n",
        "Validation Error = 1.91656683394\n",
        "Epoch="
       ]
      },
      {
       "output_type": "stream",
       "stream": "stdout",
       "text": [
        " 11\n",
        "Training   Error = 0.236672754882\n",
        "Validation Error = 0.458443177413\n",
        "Epoch="
       ]
      },
      {
       "output_type": "stream",
       "stream": "stdout",
       "text": [
        " 12\n",
        "Training   Error = 0.232698058973\n",
        "Validation Error = 0.458443177413\n",
        "Epoch="
       ]
      },
      {
       "output_type": "stream",
       "stream": "stdout",
       "text": [
        " 13\n",
        "Training   Error = 0.229088183556\n",
        "Validation Error = 0.458443177413\n",
        "Epoch="
       ]
      },
      {
       "output_type": "stream",
       "stream": "stdout",
       "text": [
        " 14\n",
        "Training   Error = 0.222169450466\n",
        "Validation Error = 0.458443177413\n",
        "Epoch="
       ]
      },
      {
       "output_type": "stream",
       "stream": "stdout",
       "text": [
        " 15\n",
        "Training   Error = 0.221347383922\n",
        "Validation Error = 0.458443177413\n",
        "Epoch="
       ]
      },
      {
       "output_type": "stream",
       "stream": "stdout",
       "text": [
        " 16\n",
        "Training   Error = 0.226413961346\n",
        "Validation Error = 0.458443177413\n",
        "Epoch="
       ]
      },
      {
       "output_type": "stream",
       "stream": "stdout",
       "text": [
        " 17\n",
        "Training   Error = 0.215869415615\n",
        "Validation Error = 0.458443177413\n",
        "Epoch="
       ]
      },
      {
       "output_type": "stream",
       "stream": "stdout",
       "text": [
        " 18\n",
        "Training   Error = 0.208440441196\n",
        "Validation Error = 0.458443177413\n",
        "Epoch="
       ]
      },
      {
       "output_type": "stream",
       "stream": "stdout",
       "text": [
        " 19\n",
        "Training   Error = 0.204024689969\n",
        "Validation Error = 0.458443177413\n",
        "Epoch="
       ]
      },
      {
       "output_type": "stream",
       "stream": "stdout",
       "text": [
        " 20\n",
        "Training   Error = 0.208235871679\n",
        "Validation Error = 0.458443177413\n",
        "Epoch="
       ]
      },
      {
       "output_type": "stream",
       "stream": "stdout",
       "text": [
        " 21\n",
        "Training   Error = 0.199897529276\n",
        "Validation Error = 0.253529524738\n",
        "Epoch="
       ]
      },
      {
       "output_type": "stream",
       "stream": "stdout",
       "text": [
        " 22\n",
        "Training   Error = 0.195857925912\n",
        "Validation Error = 0.253529524738\n",
        "Epoch="
       ]
      },
      {
       "output_type": "stream",
       "stream": "stdout",
       "text": [
        " 23\n",
        "Training   Error = 0.194512551403\n",
        "Validation Error = 0.253529524738\n",
        "Epoch="
       ]
      },
      {
       "output_type": "stream",
       "stream": "stdout",
       "text": [
        " 24\n",
        "Training   Error = 0.189941876934\n",
        "Validation Error = 0.253529524738\n",
        "Epoch="
       ]
      },
      {
       "output_type": "stream",
       "stream": "stdout",
       "text": [
        " 25\n",
        "Training   Error = 0.185189904114\n",
        "Validation Error = 0.253529524738\n",
        "Epoch="
       ]
      },
      {
       "output_type": "stream",
       "stream": "stdout",
       "text": [
        " 26\n",
        "Training   Error = 0.180824683939\n",
        "Validation Error = 0.253529524738\n",
        "Epoch="
       ]
      },
      {
       "output_type": "stream",
       "stream": "stdout",
       "text": [
        " 27\n",
        "Training   Error = 0.186243205758\n",
        "Validation Error = 0.253529524738\n",
        "Epoch="
       ]
      },
      {
       "output_type": "stream",
       "stream": "stdout",
       "text": [
        " 28\n",
        "Training   Error = 0.177389849125\n",
        "Validation Error = 0.253529524738\n",
        "Epoch="
       ]
      },
      {
       "output_type": "stream",
       "stream": "stdout",
       "text": [
        " 29\n",
        "Training   Error = 0.181453359492\n",
        "Validation Error = 0.253529524738\n",
        "Epoch="
       ]
      },
      {
       "output_type": "stream",
       "stream": "stdout",
       "text": [
        " 30\n",
        "Training   Error = 0.176135952255\n",
        "Validation Error = 0.253529524738\n",
        "Epoch="
       ]
      },
      {
       "output_type": "stream",
       "stream": "stdout",
       "text": [
        " 31\n",
        "Training   Error = 0.172936262324\n",
        "Validation Error = 0.205993358488\n",
        "Epoch="
       ]
      },
      {
       "output_type": "stream",
       "stream": "stdout",
       "text": [
        " 32\n",
        "Training   Error = 0.176050995456\n",
        "Validation Error = 0.205993358488\n",
        "Epoch="
       ]
      },
      {
       "output_type": "stream",
       "stream": "stdout",
       "text": [
        " 33\n",
        "Training   Error = 0.172568350179\n",
        "Validation Error = 0.205993358488\n",
        "Epoch="
       ]
      },
      {
       "output_type": "stream",
       "stream": "stdout",
       "text": [
        " 34\n",
        "Training   Error = 0.162506997458\n",
        "Validation Error = 0.205993358488\n",
        "Epoch="
       ]
      },
      {
       "output_type": "stream",
       "stream": "stdout",
       "text": [
        " 35\n",
        "Training   Error = 0.169516462832\n",
        "Validation Error = 0.205993358488\n",
        "Epoch="
       ]
      },
      {
       "output_type": "stream",
       "stream": "stdout",
       "text": [
        " 36\n",
        "Training   Error = 0.16622906946\n",
        "Validation Error = 0.205993358488\n",
        "Epoch="
       ]
      },
      {
       "output_type": "stream",
       "stream": "stdout",
       "text": [
        " 37\n",
        "Training   Error = 0.166227450882\n",
        "Validation Error = 0.205993358488\n",
        "Epoch="
       ]
      },
      {
       "output_type": "stream",
       "stream": "stdout",
       "text": [
        " 38\n",
        "Training   Error = 0.166699894743\n",
        "Validation Error = 0.205993358488\n",
        "Epoch="
       ]
      },
      {
       "output_type": "stream",
       "stream": "stdout",
       "text": [
        " 39\n",
        "Training   Error = 0.163691186605\n",
        "Validation Error = 0.205993358488\n",
        "Epoch="
       ]
      },
      {
       "output_type": "stream",
       "stream": "stdout",
       "text": [
        " 40\n",
        "Training   Error = 0.162339102679\n",
        "Validation Error = 0.205993358488\n",
        "Epoch="
       ]
      },
      {
       "output_type": "stream",
       "stream": "stdout",
       "text": [
        " 41\n",
        "Training   Error = 0.165328714804\n",
        "Validation Error = 0.244090654854\n",
        "Epoch="
       ]
      },
      {
       "output_type": "stream",
       "stream": "stdout",
       "text": [
        " 42\n",
        "Training   Error = 0.161256486599\n",
        "Validation Error = 0.244090654854\n",
        "Epoch="
       ]
      },
      {
       "output_type": "stream",
       "stream": "stdout",
       "text": [
        " 43\n",
        "Training   Error = 0.163639652753\n",
        "Validation Error = 0.244090654854\n",
        "Epoch="
       ]
      },
      {
       "output_type": "stream",
       "stream": "stdout",
       "text": [
        " 44\n",
        "Training   Error = 0.157362472808\n",
        "Validation Error = 0.244090654854\n",
        "Epoch="
       ]
      },
      {
       "output_type": "stream",
       "stream": "stdout",
       "text": [
        " 45\n",
        "Training   Error = 0.161399984406\n",
        "Validation Error = 0.244090654854\n",
        "Epoch="
       ]
      },
      {
       "output_type": "stream",
       "stream": "stdout",
       "text": [
        " 46\n",
        "Training   Error = 0.168033485236\n",
        "Validation Error = 0.244090654854\n",
        "Epoch="
       ]
      },
      {
       "output_type": "stream",
       "stream": "stdout",
       "text": [
        " 47\n",
        "Training   Error = 0.158526339464\n",
        "Validation Error = 0.244090654854\n",
        "Epoch="
       ]
      },
      {
       "output_type": "stream",
       "stream": "stdout",
       "text": [
        " 48\n",
        "Training   Error = 0.156998958475\n",
        "Validation Error = 0.244090654854\n",
        "Epoch="
       ]
      },
      {
       "output_type": "stream",
       "stream": "stdout",
       "text": [
        " 49\n",
        "Training   Error = 0.156171952521\n",
        "Validation Error = 0.244090654854\n",
        "Epoch="
       ]
      },
      {
       "output_type": "stream",
       "stream": "stdout",
       "text": [
        " 50\n",
        "Training   Error = 0.151240458667\n",
        "Validation Error = 0.244090654854\n",
        "Epoch="
       ]
      },
      {
       "output_type": "stream",
       "stream": "stdout",
       "text": [
        " 51\n",
        "Training   Error = 0.154362160702\n",
        "Validation Error = 0.189828431557\n",
        "Epoch="
       ]
      },
      {
       "output_type": "stream",
       "stream": "stdout",
       "text": [
        " 52\n",
        "Training   Error = 0.151792683632\n",
        "Validation Error = 0.189828431557\n",
        "Epoch="
       ]
      },
      {
       "output_type": "stream",
       "stream": "stdout",
       "text": [
        " 53\n",
        "Training   Error = 0.154820937242\n",
        "Validation Error = 0.189828431557\n",
        "Epoch="
       ]
      },
      {
       "output_type": "stream",
       "stream": "stdout",
       "text": [
        " 54\n",
        "Training   Error = 0.156352997279\n",
        "Validation Error = 0.189828431557\n",
        "Epoch="
       ]
      },
      {
       "output_type": "stream",
       "stream": "stdout",
       "text": [
        " 55\n",
        "Training   Error = 0.155366328264\n",
        "Validation Error = 0.189828431557\n",
        "Epoch="
       ]
      },
      {
       "output_type": "stream",
       "stream": "stdout",
       "text": [
        " 56\n",
        "Training   Error = 0.154424117231\n",
        "Validation Error = 0.189828431557\n",
        "Epoch="
       ]
      },
      {
       "output_type": "stream",
       "stream": "stdout",
       "text": [
        " 57\n",
        "Training   Error = 0.148019254403\n",
        "Validation Error = 0.189828431557\n",
        "Epoch="
       ]
      },
      {
       "output_type": "stream",
       "stream": "stdout",
       "text": [
        " 58\n",
        "Training   Error = 0.156462489303\n",
        "Validation Error = 0.189828431557\n",
        "Epoch="
       ]
      },
      {
       "output_type": "stream",
       "stream": "stdout",
       "text": [
        " 59\n",
        "Training   Error = 0.1483692791\n",
        "Validation Error = 0.189828431557\n",
        "Epoch="
       ]
      },
      {
       "output_type": "stream",
       "stream": "stdout",
       "text": [
        " 60\n",
        "Training   Error = 0.149466048248\n",
        "Validation Error = 0.189828431557\n",
        "Epoch="
       ]
      },
      {
       "output_type": "stream",
       "stream": "stdout",
       "text": [
        " 61\n",
        "Training   Error = 0.153772182919\n",
        "Validation Error = 0.182849615409\n",
        "Epoch="
       ]
      },
      {
       "output_type": "stream",
       "stream": "stdout",
       "text": [
        " 62\n",
        "Training   Error = 0.155502286292\n",
        "Validation Error = 0.182849615409\n",
        "Epoch="
       ]
      },
      {
       "output_type": "stream",
       "stream": "stdout",
       "text": [
        " 63\n",
        "Training   Error = 0.155274720791\n",
        "Validation Error = 0.182849615409\n",
        "Epoch="
       ]
      },
      {
       "output_type": "stream",
       "stream": "stdout",
       "text": [
        " 64\n",
        "Training   Error = 0.149457005118\n",
        "Validation Error = 0.182849615409\n",
        "Epoch="
       ]
      },
      {
       "output_type": "stream",
       "stream": "stdout",
       "text": [
        " 65\n",
        "Training   Error = 0.145813005119\n",
        "Validation Error = 0.182849615409\n",
        "Epoch="
       ]
      },
      {
       "output_type": "stream",
       "stream": "stdout",
       "text": [
        " 66\n",
        "Training   Error = 0.150163655922\n",
        "Validation Error = 0.182849615409\n",
        "Epoch="
       ]
      },
      {
       "output_type": "stream",
       "stream": "stdout",
       "text": [
        " 67\n",
        "Training   Error = 0.151443082351\n",
        "Validation Error = 0.182849615409\n",
        "Epoch="
       ]
      },
      {
       "output_type": "stream",
       "stream": "stdout",
       "text": [
        " 68\n",
        "Training   Error = 0.150035041155\n",
        "Validation Error = 0.182849615409\n",
        "Epoch="
       ]
      },
      {
       "output_type": "stream",
       "stream": "stdout",
       "text": [
        " 69\n",
        "Training   Error = 0.152031424444\n",
        "Validation Error = 0.182849615409\n",
        "Epoch="
       ]
      },
      {
       "output_type": "stream",
       "stream": "stdout",
       "text": [
        " 70\n",
        "Training   Error = 0.147255950658\n",
        "Validation Error = 0.182849615409\n",
        "Epoch="
       ]
      },
      {
       "output_type": "stream",
       "stream": "stdout",
       "text": [
        " 71\n",
        "Training   Error = 0.155926519844\n",
        "Validation Error = 0.200610059862\n",
        "Epoch="
       ]
      },
      {
       "output_type": "stream",
       "stream": "stdout",
       "text": [
        " 72\n",
        "Training   Error = 0.152531686455\n",
        "Validation Error = 0.200610059862\n",
        "Epoch="
       ]
      },
      {
       "output_type": "stream",
       "stream": "stdout",
       "text": [
        " 73\n",
        "Training   Error = 0.151583107077\n",
        "Validation Error = 0.200610059862\n",
        "Epoch="
       ]
      },
      {
       "output_type": "stream",
       "stream": "stdout",
       "text": [
        " 74\n",
        "Training   Error = 0.147668137961\n",
        "Validation Error = 0.200610059862\n",
        "Epoch="
       ]
      },
      {
       "output_type": "stream",
       "stream": "stdout",
       "text": [
        " 75\n",
        "Training   Error = 0.148826545647\n",
        "Validation Error = 0.200610059862\n",
        "Epoch="
       ]
      },
      {
       "output_type": "stream",
       "stream": "stdout",
       "text": [
        " 76\n",
        "Training   Error = 0.149869537805\n",
        "Validation Error = 0.200610059862\n",
        "Epoch="
       ]
      },
      {
       "output_type": "stream",
       "stream": "stdout",
       "text": [
        " 77\n",
        "Training   Error = 0.146330829782\n",
        "Validation Error = 0.200610059862\n",
        "Epoch="
       ]
      },
      {
       "output_type": "stream",
       "stream": "stdout",
       "text": [
        " 78\n",
        "Training   Error = 0.148117777758\n",
        "Validation Error = 0.200610059862\n",
        "Epoch="
       ]
      },
      {
       "output_type": "stream",
       "stream": "stdout",
       "text": [
        " 79\n",
        "Training   Error = 0.143768762455\n",
        "Validation Error = 0.200610059862\n",
        "Epoch="
       ]
      },
      {
       "output_type": "stream",
       "stream": "stdout",
       "text": [
        " 80\n",
        "Training   Error = 0.143383675768\n",
        "Validation Error = 0.200610059862\n",
        "Epoch="
       ]
      },
      {
       "output_type": "stream",
       "stream": "stdout",
       "text": [
        " 81\n",
        "Training   Error = 0.149493359435\n",
        "Validation Error = 0.216761883511\n",
        "Epoch="
       ]
      },
      {
       "output_type": "stream",
       "stream": "stdout",
       "text": [
        " 82\n",
        "Training   Error = 0.149624380752\n",
        "Validation Error = 0.216761883511\n",
        "Epoch="
       ]
      },
      {
       "output_type": "stream",
       "stream": "stdout",
       "text": [
        " 83\n",
        "Training   Error = 0.142970025338\n",
        "Validation Error = 0.216761883511\n",
        "Epoch="
       ]
      },
      {
       "output_type": "stream",
       "stream": "stdout",
       "text": [
        " 84\n",
        "Training   Error = 0.149374073953\n",
        "Validation Error = 0.216761883511\n",
        "Epoch="
       ]
      },
      {
       "output_type": "stream",
       "stream": "stdout",
       "text": [
        " 85\n",
        "Training   Error = 0.154372346673\n",
        "Validation Error = 0.216761883511\n",
        "Epoch="
       ]
      },
      {
       "output_type": "stream",
       "stream": "stdout",
       "text": [
        " 86\n",
        "Training   Error = 0.146793371707\n",
        "Validation Error = 0.216761883511\n",
        "Epoch="
       ]
      },
      {
       "output_type": "stream",
       "stream": "stdout",
       "text": [
        " 87\n",
        "Training   Error = 0.146391831611\n",
        "Validation Error = 0.216761883511\n",
        "Epoch="
       ]
      },
      {
       "output_type": "stream",
       "stream": "stdout",
       "text": [
        " 88\n",
        "Training   Error = 0.144444898289\n",
        "Validation Error = 0.216761883511\n",
        "Epoch="
       ]
      },
      {
       "output_type": "stream",
       "stream": "stdout",
       "text": [
        " 89\n",
        "Training   Error = 0.143200495706\n",
        "Validation Error = 0.216761883511\n",
        "Epoch="
       ]
      },
      {
       "output_type": "stream",
       "stream": "stdout",
       "text": [
        " 90\n",
        "Training   Error = 0.141372703424\n",
        "Validation Error = 0.216761883511\n",
        "Epoch="
       ]
      },
      {
       "output_type": "stream",
       "stream": "stdout",
       "text": [
        " 91\n",
        "Training   Error = 0.151480385126\n",
        "Validation Error = 0.218560188259\n",
        "Epoch="
       ]
      },
      {
       "output_type": "stream",
       "stream": "stdout",
       "text": [
        " 92\n",
        "Training   Error = 0.139227205495\n",
        "Validation Error = 0.218560188259\n",
        "Epoch="
       ]
      },
      {
       "output_type": "stream",
       "stream": "stdout",
       "text": [
        " 93\n",
        "Training   Error = 0.154732226678\n",
        "Validation Error = 0.218560188259\n",
        "Epoch="
       ]
      },
      {
       "output_type": "stream",
       "stream": "stdout",
       "text": [
        " 94\n",
        "Training   Error = 0.149078824148\n",
        "Validation Error = 0.218560188259\n",
        "Epoch="
       ]
      },
      {
       "output_type": "stream",
       "stream": "stdout",
       "text": [
        " 95\n",
        "Training   Error = 0.142149213601\n",
        "Validation Error = 0.218560188259\n",
        "Epoch="
       ]
      },
      {
       "output_type": "stream",
       "stream": "stdout",
       "text": [
        " 96\n",
        "Training   Error = 0.147540579156\n",
        "Validation Error = 0.218560188259\n",
        "Epoch="
       ]
      },
      {
       "output_type": "stream",
       "stream": "stdout",
       "text": [
        " 97\n",
        "Training   Error = 0.147059986254\n",
        "Validation Error = 0.218560188259\n",
        "Epoch="
       ]
      },
      {
       "output_type": "stream",
       "stream": "stdout",
       "text": [
        " 98\n",
        "Training   Error = 0.142800786733\n",
        "Validation Error = 0.218560188259\n",
        "Epoch="
       ]
      },
      {
       "output_type": "stream",
       "stream": "stdout",
       "text": [
        " 99\n",
        "Training   Error = 0.147041448725\n",
        "Validation Error = 0.218560188259\n",
        "Epoch="
       ]
      },
      {
       "output_type": "stream",
       "stream": "stdout",
       "text": [
        " 100\n",
        "Training   Error = 0.139424938357\n",
        "Validation Error = 0.218560188259\n",
        "Epoch="
       ]
      },
      {
       "output_type": "stream",
       "stream": "stdout",
       "text": [
        " 101\n",
        "Training   Error = 0.144972360866\n",
        "Validation Error = 0.186119704748\n",
        "Epoch="
       ]
      },
      {
       "output_type": "stream",
       "stream": "stdout",
       "text": [
        " 102\n",
        "Training   Error = 0.142684952777\n",
        "Validation Error = 0.186119704748\n",
        "Epoch="
       ]
      },
      {
       "output_type": "stream",
       "stream": "stdout",
       "text": [
        " 103\n",
        "Training   Error = 0.148439632507\n",
        "Validation Error = 0.186119704748\n",
        "Epoch="
       ]
      },
      {
       "output_type": "stream",
       "stream": "stdout",
       "text": [
        " 104\n",
        "Training   Error = 0.143849821825\n",
        "Validation Error = 0.186119704748\n",
        "Epoch="
       ]
      },
      {
       "output_type": "stream",
       "stream": "stdout",
       "text": [
        " 105\n",
        "Training   Error = 0.139816627316\n",
        "Validation Error = 0.186119704748\n",
        "Epoch="
       ]
      },
      {
       "output_type": "stream",
       "stream": "stdout",
       "text": [
        " 106\n",
        "Training   Error = 0.148953968246\n",
        "Validation Error = 0.186119704748\n",
        "Epoch="
       ]
      },
      {
       "output_type": "stream",
       "stream": "stdout",
       "text": [
        " 107\n",
        "Training   Error = 0.140712614136\n",
        "Validation Error = 0.186119704748\n",
        "Epoch="
       ]
      },
      {
       "output_type": "stream",
       "stream": "stdout",
       "text": [
        " 108\n",
        "Training   Error = 0.150285816175\n",
        "Validation Error = 0.186119704748\n",
        "Epoch="
       ]
      },
      {
       "output_type": "stream",
       "stream": "stdout",
       "text": [
        " 109\n",
        "Training   Error = 0.14479174002\n",
        "Validation Error = 0.186119704748\n",
        "Epoch="
       ]
      },
      {
       "output_type": "stream",
       "stream": "stdout",
       "text": [
        " 110\n",
        "Training   Error = 0.148592521072\n",
        "Validation Error = 0.186119704748\n",
        "Epoch="
       ]
      },
      {
       "output_type": "stream",
       "stream": "stdout",
       "text": [
        " 111\n",
        "Training   Error = 0.144218065963\n",
        "Validation Error = 0.193975289529\n",
        "Epoch="
       ]
      },
      {
       "output_type": "stream",
       "stream": "stdout",
       "text": [
        " 112\n",
        "Training   Error = 0.144633713822\n",
        "Validation Error = 0.193975289529\n",
        "Epoch="
       ]
      },
      {
       "output_type": "stream",
       "stream": "stdout",
       "text": [
        " 113\n",
        "Training   Error = 0.142387913263\n",
        "Validation Error = 0.193975289529\n",
        "Epoch="
       ]
      },
      {
       "output_type": "stream",
       "stream": "stdout",
       "text": [
        " 114\n",
        "Training   Error = 0.139262259436\n",
        "Validation Error = 0.193975289529\n",
        "Epoch="
       ]
      },
      {
       "output_type": "stream",
       "stream": "stdout",
       "text": [
        " 115\n",
        "Training   Error = 0.14039945942\n",
        "Validation Error = 0.193975289529\n",
        "Epoch="
       ]
      },
      {
       "output_type": "stream",
       "stream": "stdout",
       "text": [
        " 116\n",
        "Training   Error = 0.14169399313\n",
        "Validation Error = 0.193975289529\n",
        "Epoch="
       ]
      },
      {
       "output_type": "stream",
       "stream": "stdout",
       "text": [
        " 117\n",
        "Training   Error = 0.145345028226\n",
        "Validation Error = 0.193975289529\n",
        "Epoch="
       ]
      },
      {
       "output_type": "stream",
       "stream": "stdout",
       "text": [
        " 118\n",
        "Training   Error = 0.144623662609\n",
        "Validation Error = 0.193975289529\n",
        "Epoch="
       ]
      },
      {
       "output_type": "stream",
       "stream": "stdout",
       "text": [
        " 119\n",
        "Training   Error = 0.141792175454\n",
        "Validation Error = 0.193975289529\n",
        "Epoch="
       ]
      },
      {
       "output_type": "stream",
       "stream": "stdout",
       "text": [
        " 120\n",
        "Training   Error = 0.143334258226\n",
        "Validation Error = 0.193975289529\n",
        "Samples="
       ]
      },
      {
       "output_type": "stream",
       "stream": "stdout",
       "text": [
        " 100000     Hid. Layers= 2    Hid. Neurons= 200    F.O.M. train set= 0.8021125    FOM valid. set= 0.7616  Time= 42.0  Max Cut= 0.65\n"
       ]
      }
     ],
     "prompt_number": 13
    },
    {
     "cell_type": "code",
     "collapsed": false,
     "input": [
      "mapAlgo    =[]   # Run once\n",
      "parameters =[]   "
     ],
     "language": "python",
     "metadata": {},
     "outputs": [],
     "prompt_number": 19
    },
    {
     "cell_type": "code",
     "collapsed": false,
     "input": [
      "parameters.append((maxEpochs,Dropout,momentum,LearningRate, weight_l2, hidden_l2, iteration_size, batch_size))\n",
      "mapAlgo.append((truncate, iLayers, nHiddenNeurons, fom_train, fom_valid, timing, MaxCut, parameters))\n",
      "parameters=[]"
     ],
     "language": "python",
     "metadata": {},
     "outputs": [],
     "prompt_number": 20
    },
    {
     "cell_type": "code",
     "collapsed": false,
     "input": [
      "maxFOM=0\n",
      "for i, i1 in enumerate(mapAlgo):\n",
      "    if(i1[4] > maxFOM):\n",
      "        maxFOM= i1[4]\n",
      "    print i1\n",
      "    print \"\""
     ],
     "language": "python",
     "metadata": {},
     "outputs": [
      {
       "output_type": "stream",
       "stream": "stdout",
       "text": [
        "(100000, 2, 200, 0.80211250000000001, 0.76160000000000005, 42.0, 0.65000000000000002, [(200, 0.8, 0.5, 0.001, 0.045, 0.075, 100, 20)])\n",
        "\n"
       ]
      }
     ],
     "prompt_number": 21
    },
    {
     "cell_type": "code",
     "collapsed": false,
     "input": [
      "# No run\n",
      "\n",
      "maxFOM=0\n",
      "for i, i1 in enumerate(mapAlgo):\n",
      "    if(i1[4] > maxFOM):\n",
      "        maxFOM= i1[4]\n",
      "    print i1\n",
      "    print \"\""
     ],
     "language": "python",
     "metadata": {},
     "outputs": [
      {
       "output_type": "stream",
       "stream": "stdout",
       "text": [
        "(100000, 2, 200, 0.83445000000000003, 0.70450000000000002, 1759.0, 0.25, [(200, 0.9, 0.9, 0.0001, 0.04, 0.075, 200, 2000)])\n",
        "\n"
       ]
      }
     ],
     "prompt_number": 11
    },
    {
     "cell_type": "code",
     "collapsed": false,
     "input": [
      "# ----------- Maximum FOM: ----------- \n",
      "# For 100000 samples\n",
      "# 2   Hidden Layers\n",
      "# 200 Hidden Neurons\n",
      "# FOM on validation data: 0.8569   ---> if the network don't fall into a local minima\n",
      "# Timing: 2466 seconds\n",
      "# Epochs    = 200\n",
      "# Dropout   = 0.9\n",
      "# Momentum  = 0.9\n",
      "# Learning Rate = 0.0001\n",
      "# weight_l2 = 0.04\n",
      "# hidden_l2 = 0.06\n",
      "# iteration size = 200\n",
      "# batch_size     = 1000"
     ],
     "language": "python",
     "metadata": {},
     "outputs": []
    },
    {
     "cell_type": "code",
     "collapsed": false,
     "input": [
      "print \"Maximum FOM on validation set is: \", maxFOM"
     ],
     "language": "python",
     "metadata": {},
     "outputs": []
    },
    {
     "cell_type": "code",
     "collapsed": false,
     "input": [
      "# Get the weights from the RELU network\n",
      "\n",
      "Layers_Weights =[]                          #list of tuples: [(nNeurons, weights), ( tuple of the 3rd layer ), (  4th layer), .... ]\n",
      "\n",
      "for Layer in experiment.layers[1:]:\n",
      "    nNeurons  = Layer.size\n",
      "    Weights1  = experiment.find(Layer.name, 'w').get_value()\n",
      "    Layers_Weights.append((nNeurons, Weights1))                    # Layers_Weights -> only Hidden Layer(s) & Output Layer"
     ],
     "language": "python",
     "metadata": {},
     "outputs": [],
     "prompt_number": 22
    },
    {
     "cell_type": "code",
     "collapsed": false,
     "input": [
      "print Layers_Weights[0]"
     ],
     "language": "python",
     "metadata": {},
     "outputs": [
      {
       "output_type": "stream",
       "stream": "stdout",
       "text": [
        "(200, array([[ -8.95335901e-02,   1.79315343e-03,  -9.60674236e-02, ...,\n",
        "         -6.34590936e-02,  -5.96928604e-03,  -5.01607362e-02],\n",
        "       [  2.33608421e-02,   5.49142960e-02,  -4.60592306e-02, ...,\n",
        "          3.61910921e-02,  -9.04349006e-03,  -7.97078907e-02],\n",
        "       [ -3.56243650e-02,   1.12052368e-02,  -3.08193933e-02, ...,\n",
        "          8.06438609e-02,  -6.22531048e-02,   1.66295749e-01],\n",
        "       ..., \n",
        "       [  9.99642911e-04,   2.66320865e-04,  -5.49098967e-04, ...,\n",
        "         -2.91576087e-04,  -7.08739011e-04,  -7.53521808e-06],\n",
        "       [  8.22793450e-03,   5.03668799e-02,  -2.18848176e-02, ...,\n",
        "         -3.14316059e-01,   1.54888132e-02,   8.52495814e-02],\n",
        "       [ -3.71761197e-02,  -2.60939826e-02,  -6.90166270e-02, ...,\n",
        "         -1.91819769e-01,  -3.49324532e-02,  -4.82180907e-01]]))\n"
       ]
      }
     ],
     "prompt_number": 23
    },
    {
     "cell_type": "code",
     "collapsed": false,
     "input": [],
     "language": "python",
     "metadata": {},
     "outputs": []
    },
    {
     "cell_type": "code",
     "collapsed": false,
     "input": [
      "# Weight Normalization ----> Skip this step\n",
      "\n",
      "abs_max=0\n",
      "for layer_num, weights in enumerate(Layers_Weights):   \n",
      "    abs_max = max(abs_max, np.max(weights[1]))\n",
      "print abs_max\n",
      "for layer_num, weights in enumerate(Layers_Weights):   \n",
      "    for i, neuron in enumerate(weights[1]):\n",
      "        for j,iW in enumerate(neuron):\n",
      "            Layers_Weights[layer_num][1][i][j]=float(iW) / float(abs_max)"
     ],
     "language": "python",
     "metadata": {},
     "outputs": [
      {
       "output_type": "stream",
       "stream": "stdout",
       "text": [
        "1.20987890474\n"
       ]
      }
     ],
     "prompt_number": 9
    },
    {
     "cell_type": "code",
     "collapsed": false,
     "input": [
      "reinit_default_clock()\n",
      "clear(True)\n",
      "\n",
      "tau_m = 5000 * ms \n",
      "v_r   = 0    * mV \n",
      "# v_th  =  * mV        # threshold potential    [-1,1] \n",
      "duration = 1000000 * ms\n",
      "\n",
      "eqs = '''\n",
      "dv/dt = -v/tau_m : volt\n",
      "'''\n",
      "\n",
      "# Build populations\n",
      "pops=[]\n",
      "conns=[]\n",
      "\n",
      "pops.append(PoissonGroup(82))            # Input Layer\n",
      "\n",
      "for (layer_num, layer_size) in enumerate(Layers_Weights):\n",
      "    pops.append(NeuronGroup(layer_size[0], eqs, threshold=v_th ,reset=v_r))   # Hidden Layer(s) + Output\n",
      "for (layer_num, weights) in enumerate(Layers_Weights):\n",
      "    c = Connection(pops[layer_num], pops[layer_num+1], 'v', weight=weights[1]*1000*mV)   # , sparseness=0.1)\n",
      "    conns.append(c)"
     ],
     "language": "python",
     "metadata": {},
     "outputs": [],
     "prompt_number": 13
    },
    {
     "cell_type": "code",
     "collapsed": false,
     "input": [
      "def emulate(index):\n",
      "    \n",
      "    reinit_default_clock()\n",
      "    \n",
      "    pops[1].v  =0\n",
      "    pops[-1].v =0\n",
      "    \n",
      "    in_value = train[0][index]\n",
      "    target   = train[1][index]\n",
      "\n",
      "    pops[0].rate = in_value*0.2*30*Hz\n",
      "\n",
      "    Mv   = StateMonitor(pops[-1], 'v', record=True)\n",
      "    Mvmid= StateMonitor(pops[1] , 'v', record=True)\n",
      "    \n",
      "    Cout = SpikeCounter(pops[-1])\n",
      "    Cmid = SpikeCounter(pops[1])\n",
      "    Cin  = SpikeCounter(pops[0])\n",
      "\n",
      "    Mout = SpikeMonitor(pops[-1])\n",
      "    Min  = SpikeMonitor(pops[0])\n",
      "\n",
      "    #run(5.0*second)\n",
      "\n",
      "    run(duration)\n",
      "    \n",
      "    print \" ------------- Sample: \",index, \" -------------\"\n",
      "    print \"Given Inputs:\",  \"                                                              Given Target:\", target\n",
      "    print in_value\n",
      "    \n",
      "    print \"\"\n",
      "    print \"Spiking\"\n",
      "    print \"\"\n",
      "    print \"Input Layer=\"         ,Cin.count\n",
      "    print \"First Hidden Layer=\"  ,Cmid.count\n",
      "    print \"Output Layer =\"       ,Cout.count\n",
      "\n",
      "    plot(Mvmid.times/ms, Mvmid[0]/mV)\n",
      "    plt.xlabel(\"Time (ms)\")\n",
      "    plt.ylabel(\"Voltage (mV) (Hidden Layer)\")\n",
      "    show()    \n",
      "    \n",
      "    plot(Mv.times/ms, Mv[0]/mV)\n",
      "    plt.xlabel(\"Time (ms)\")\n",
      "    plt.ylabel(\"Voltage (mV)   (Output Layer)\")\n",
      "    show()\n",
      "    \n",
      "    return Cout.count"
     ],
     "language": "python",
     "metadata": {},
     "outputs": [],
     "prompt_number": 14
    },
    {
     "cell_type": "code",
     "collapsed": false,
     "input": [
      "print emulate(0)"
     ],
     "language": "python",
     "metadata": {},
     "outputs": [
      {
       "ename": "NameError",
       "evalue": "name 'emulate' is not defined",
       "output_type": "pyerr",
       "traceback": [
        "\u001b[1;31m---------------------------------------------------------------------------\u001b[0m\n\u001b[1;31mNameError\u001b[0m                                 Traceback (most recent call last)",
        "\u001b[1;32m<ipython-input-2-5dd87a4d8d13>\u001b[0m in \u001b[0;36m<module>\u001b[1;34m()\u001b[0m\n\u001b[1;32m----> 1\u001b[1;33m \u001b[1;32mprint\u001b[0m \u001b[0memulate\u001b[0m\u001b[1;33m(\u001b[0m\u001b[1;36m0\u001b[0m\u001b[1;33m)\u001b[0m\u001b[1;33m\u001b[0m\u001b[0m\n\u001b[0m",
        "\u001b[1;31mNameError\u001b[0m: name 'emulate' is not defined"
       ]
      }
     ],
     "prompt_number": 2
    },
    {
     "cell_type": "code",
     "collapsed": false,
     "input": [
      "print \"a\""
     ],
     "language": "python",
     "metadata": {},
     "outputs": [
      {
       "output_type": "stream",
       "stream": "stdout",
       "text": [
        "a\n"
       ]
      }
     ],
     "prompt_number": 1
    },
    {
     "cell_type": "code",
     "collapsed": false,
     "input": [
      "emulate(1)"
     ],
     "language": "python",
     "metadata": {},
     "outputs": [
      {
       "output_type": "stream",
       "stream": "stdout",
       "text": [
        " ------------- Sample:  1  -------------\n",
        "Given Inputs:                                                               Given Target: [ 1.]\n",
        "[ 12.44375038   0.           4.88530493   5.37530088  13.40995979\n",
        "   5.75565434  11.00985909   7.41203213  15.65540314   8.06346607\n",
        "  10.32575798   3.23020291  11.54006577   6.31976414   8.74517345\n",
        "   8.6141243   49.84789658   3.07823753   6.30702639   0.15473509\n",
        "  11.65298271   5.40565062   4.20395803  11.26561928   0.           0.           0.\n",
        "   0.           0.           0.           0.           0.           0.           0.\n",
        "   0.           0.           0.           0.           0.           0.           0.\n",
        "   0.           0.           0.           0.           0.           0.           0.\n",
        "   0.           0.           0.           0.           0.           0.           0.\n",
        "   0.           0.           0.           0.           0.           0.           0.\n",
        "   0.           0.           0.           0.           0.           0.           0.\n",
        "   0.           0.           0.           0.           0.           0.           0.\n",
        "   0.           0.           0.           0.           7.02579546\n",
        "   5.07218456]\n",
        "\n",
        "Spiking\n",
        "Input Layer= [ 73   0  33  31  76  34  72  47 111  70  66  17  88  25  65  45 291  22\n",
        "  42   0  75  32  30  60   0   0   0   0   0   0   0   0   0   0   0   0\n",
        "   0   0   0   0   0   0   0   0   0   0   0   0   0   0   0   0   0   0\n",
        "   0   0   0   0   0   0   0   0   0   0   0   0   0   0   0   0   0   0\n",
        "   0   0   0   0   0   0   0   0  47  29]\n",
        "First Hidden Layer= [354   0   0 353   0 356   2 353   0   0   0   0   4 353   0   5   4   0\n",
        " 353   0 353 357 353   0   0   0 355 353 353   0   0   0 382   0 354   0\n",
        "   0   1 366   0 279   2 353   0 355 353   0   0   3 353   0   0   0   0\n",
        "   0   5 353   0 353 353 356 356 353  55 357 359   0   0 353   9 356 354\n",
        " 356   3   4 354   0 353 353   0 354   0 353 353 353   0   0 353   0   0\n",
        " 360   6   1   0   0   0   5   2 353 355 353   0 353   0 360 353 353 353\n",
        " 354 353 353   1   0   0   0   0   0 353 355   8   5 353   0   0 357   0\n",
        " 353 354 355 356   0 353 353 355   6 355   0   0   0   0 354   0   0   0\n",
        "   1   5   7 354   0   0 359   2 353 353   0   0 353 229 353   0 361   4\n",
        " 353 355   0 354 353 353 353 355 354   0   0   2   6   0 353   0 357   1\n",
        "   0 353 354   0   4 355 359 356 353 355   0   0   0   0  16   0 353   1\n",
        "   0 358]\n",
        "Output Layer = [0]\n"
       ]
      },
      {
       "metadata": {},
       "output_type": "display_data",
       "png": "[encoded data removed]",
       "text": [
        "<matplotlib.figure.Figure at 0x7fe6436fcb10>"
       ]
      },
      {
       "metadata": {},
       "output_type": "display_data",
       "png": "[encoded data removed]",
       "text": [
        "<matplotlib.figure.Figure at 0x7fe6436de350>"
       ]
      }
     ],
     "prompt_number": 36
    },
    {
     "cell_type": "code",
     "collapsed": false,
     "input": [
      "emulate(14)"
     ],
     "language": "python",
     "metadata": {},
     "outputs": [
      {
       "output_type": "stream",
       "stream": "stdout",
       "text": [
        " ------------- Sample:  14  -------------\n",
        "Given Inputs:                                                               Given Target: [ 0.]\n",
        "[ 19.54834366  18.47452164  13.93041706  14.0252409   22.57923889\n",
        "  17.47756386   9.290658     1.96634865  28.30947685  10.3167963\n",
        "  16.35523605  27.48944855  16.48061371   8.7950964   13.7025013\n",
        "   7.69271278  27.73896217  12.0696516   12.78225899   0.          16.9148674\n",
        "  10.88524532  12.10718536  11.01626301   0.           0.           0.           0.\n",
        "   0.           0.           0.           0.           0.           0.           0.\n",
        "   0.           0.           0.           0.           0.           0.           0.\n",
        "   0.           0.           0.           0.           0.           0.           0.\n",
        "   0.           0.           0.           0.           0.           0.           0.\n",
        "   0.           0.           0.           0.           0.           0.           0.\n",
        "   0.           0.           0.           0.           0.           0.           0.\n",
        "   0.           0.           0.           0.           0.           0.           0.\n",
        "   0.           0.           0.          14.31685543  10.57628155]\n",
        "\n",
        "Spiking\n",
        "\n",
        "Input Layer= [111 104  81  81 135 104  64  12 138  66  98 154  87  54  97  44 178  78\n",
        "  88   0 119  81  66  76   0   0   0   0   0   0   0   0   0   0   0   0\n",
        "   0   0   0   0   0   0   0   0   0   0   0   0   0   0   0   0   0   0\n",
        "   0   0   0   0   0   0   0   0   0   0   0   0   0   0   0   0   0   0\n",
        "   0   0   0   0   0   0   0   0  95  73]\n",
        "First Hidden Layer= [533   0   0 532   0 528   0 528   0   0   0   5   2 528   0  12   0   0\n",
        " 528   3 530 530 528   0   0   0 535 529 530   0   0   0 507   0 528   0\n",
        "   0   0 543   0 478   0 529   0 529 528   0   0   1 528   0   0   1   0\n",
        "   0   1 528   0 528 533 533 537 529  98 529 543   0   0 536   9 531 529\n",
        " 528   0   0 533   0 530 531   0 529   0 532 528 528   0   0 529   0   0\n",
        " 530   6   3   0   0   0   1   0 528 531 529   0 528   2 536 528 528 528\n",
        " 528 531 535   0   0   0   1   0   0 528 530  15   8 534   0   0 531   0\n",
        " 531 533 531 536   0 528 529 532   5 533   0   0   3   0 530   0   0   0\n",
        "   3   2   4 530   0   0 533   1 529 528   0   0 528 336 530   0 530   4\n",
        " 528 530   0 530 528 528 528 532 532   0   0   5   0   1 528   0 531   0\n",
        "   0 529 530   0   0 541 535 537 533 529   0   0   0   0  36   0 528   0\n",
        "   0 546]\n",
        "Output Layer = [0]\n"
       ]
      },
      {
       "metadata": {},
       "output_type": "display_data",
       "png": "[encoded data removed]",
       "text": [
        "<matplotlib.figure.Figure at 0x7fe6465af890>"
       ]
      },
      {
       "metadata": {},
       "output_type": "display_data",
       "png": "[encoded data removed]",
       "text": [
        "<matplotlib.figure.Figure at 0x7fe64683fa90>"
       ]
      }
     ],
     "prompt_number": 42
    },
    {
     "cell_type": "code",
     "collapsed": false,
     "input": [
      "SNN_Values    =[]\n",
      "Target_Values =[]\n",
      "\n",
      "timing_start = time.mktime(time.gmtime())\n",
      "\n",
      "for i in range(50):\n",
      "    SNN_Values.append(emulate(i))\n",
      "    Target_Values.append(train[1][i])\n",
      "\n",
      "timing_end   = time.mktime(time.gmtime())\n",
      "Time=timing_end - timing_start\n"
     ],
     "language": "python",
     "metadata": {},
     "outputs": [
      {
       "ename": "KeyboardInterrupt",
       "evalue": "",
       "output_type": "pyerr",
       "traceback": [
        "\u001b[1;31m---------------------------------------------------------------------------\u001b[0m\n\u001b[1;31mKeyboardInterrupt\u001b[0m                         Traceback (most recent call last)",
        "\u001b[1;32m<ipython-input-22-da9b384d6cb2>\u001b[0m in \u001b[0;36m<module>\u001b[1;34m()\u001b[0m\n\u001b[0;32m      5\u001b[0m \u001b[1;33m\u001b[0m\u001b[0m\n\u001b[0;32m      6\u001b[0m \u001b[1;32mfor\u001b[0m \u001b[0mi\u001b[0m \u001b[1;32min\u001b[0m \u001b[0mrange\u001b[0m\u001b[1;33m(\u001b[0m\u001b[1;36m50\u001b[0m\u001b[1;33m)\u001b[0m\u001b[1;33m:\u001b[0m\u001b[1;33m\u001b[0m\u001b[0m\n\u001b[1;32m----> 7\u001b[1;33m     \u001b[0mSNN_Values\u001b[0m\u001b[1;33m.\u001b[0m\u001b[0mappend\u001b[0m\u001b[1;33m(\u001b[0m\u001b[0memulate\u001b[0m\u001b[1;33m(\u001b[0m\u001b[0mi\u001b[0m\u001b[1;33m)\u001b[0m\u001b[1;33m)\u001b[0m\u001b[1;33m\u001b[0m\u001b[0m\n\u001b[0m\u001b[0;32m      8\u001b[0m     \u001b[0mTarget_Values\u001b[0m\u001b[1;33m.\u001b[0m\u001b[0mappend\u001b[0m\u001b[1;33m(\u001b[0m\u001b[0mtrain\u001b[0m\u001b[1;33m[\u001b[0m\u001b[1;36m1\u001b[0m\u001b[1;33m]\u001b[0m\u001b[1;33m[\u001b[0m\u001b[0mi\u001b[0m\u001b[1;33m]\u001b[0m\u001b[1;33m)\u001b[0m\u001b[1;33m\u001b[0m\u001b[0m\n\u001b[0;32m      9\u001b[0m \u001b[1;33m\u001b[0m\u001b[0m\n",
        "\u001b[1;32m<ipython-input-15-8d2f45aa8724>\u001b[0m in \u001b[0;36memulate\u001b[1;34m(index)\u001b[0m\n\u001b[0;32m      9\u001b[0m     \u001b[0mpops\u001b[0m\u001b[1;33m[\u001b[0m\u001b[1;36m0\u001b[0m\u001b[1;33m]\u001b[0m\u001b[1;33m.\u001b[0m\u001b[0mrate\u001b[0m \u001b[1;33m=\u001b[0m \u001b[0min_value\u001b[0m\u001b[1;33m*\u001b[0m\u001b[1;36m0.2\u001b[0m\u001b[1;33m*\u001b[0m\u001b[1;36m30\u001b[0m\u001b[1;33m*\u001b[0m\u001b[0mHz\u001b[0m\u001b[1;33m\u001b[0m\u001b[0m\n\u001b[0;32m     10\u001b[0m \u001b[1;33m\u001b[0m\u001b[0m\n\u001b[1;32m---> 11\u001b[1;33m     \u001b[0mMv\u001b[0m   \u001b[1;33m=\u001b[0m \u001b[0mStateMonitor\u001b[0m\u001b[1;33m(\u001b[0m\u001b[0mpops\u001b[0m\u001b[1;33m[\u001b[0m\u001b[1;33m-\u001b[0m\u001b[1;36m1\u001b[0m\u001b[1;33m]\u001b[0m\u001b[1;33m,\u001b[0m \u001b[1;34m'v'\u001b[0m\u001b[1;33m,\u001b[0m \u001b[0mrecord\u001b[0m\u001b[1;33m=\u001b[0m\u001b[0mTrue\u001b[0m\u001b[1;33m)\u001b[0m\u001b[1;33m\u001b[0m\u001b[0m\n\u001b[0m\u001b[0;32m     12\u001b[0m     \u001b[0mMvmid\u001b[0m\u001b[1;33m=\u001b[0m \u001b[0mStateMonitor\u001b[0m\u001b[1;33m(\u001b[0m\u001b[0mpops\u001b[0m\u001b[1;33m[\u001b[0m\u001b[1;36m1\u001b[0m\u001b[1;33m]\u001b[0m \u001b[1;33m,\u001b[0m \u001b[1;34m'v'\u001b[0m\u001b[1;33m,\u001b[0m \u001b[0mrecord\u001b[0m\u001b[1;33m=\u001b[0m\u001b[0mTrue\u001b[0m\u001b[1;33m)\u001b[0m\u001b[1;33m\u001b[0m\u001b[0m\n\u001b[0;32m     13\u001b[0m \u001b[1;33m\u001b[0m\u001b[0m\n",
        "\u001b[1;32m/usr/local/lib/python2.7/site-packages/brian-1.4.1-py2.7-linux-x86_64.egg/brian/monitor.pyc\u001b[0m in \u001b[0;36m__init__\u001b[1;34m(self, P, varname, clock, record, timestep, when)\u001b[0m\n\u001b[0;32m    797\u001b[0m            \u001b[1;32mis\u001b[0m \u001b[0man\u001b[0m \u001b[0minteger\u001b[0m \u001b[1;33m(\u001b[0m\u001b[0mmultiple\u001b[0m \u001b[0mof\u001b[0m \u001b[0mthe\u001b[0m \u001b[0mclock\u001b[0m \u001b[0mdt\u001b[0m\u001b[1;33m)\u001b[0m\u001b[1;33m\u001b[0m\u001b[0m\n\u001b[0;32m    798\u001b[0m         '''\n\u001b[1;32m--> 799\u001b[1;33m         \u001b[0mNetworkOperation\u001b[0m\u001b[1;33m.\u001b[0m\u001b[0m__init__\u001b[0m\u001b[1;33m(\u001b[0m\u001b[0mself\u001b[0m\u001b[1;33m,\u001b[0m \u001b[0mNone\u001b[0m\u001b[1;33m,\u001b[0m \u001b[0mclock\u001b[0m\u001b[1;33m=\u001b[0m\u001b[0mclock\u001b[0m\u001b[1;33m,\u001b[0m \u001b[0mwhen\u001b[0m\u001b[1;33m=\u001b[0m\u001b[0mwhen\u001b[0m\u001b[1;33m)\u001b[0m\u001b[1;33m\u001b[0m\u001b[0m\n\u001b[0m\u001b[0;32m    800\u001b[0m         \u001b[0mself\u001b[0m\u001b[1;33m.\u001b[0m\u001b[0mrecord\u001b[0m \u001b[1;33m=\u001b[0m \u001b[0mrecord\u001b[0m\u001b[1;33m\u001b[0m\u001b[0m\n\u001b[0;32m    801\u001b[0m         \u001b[0mself\u001b[0m\u001b[1;33m.\u001b[0m\u001b[0mclock\u001b[0m \u001b[1;33m=\u001b[0m \u001b[0mguess_clock\u001b[0m\u001b[1;33m(\u001b[0m\u001b[0mclock\u001b[0m\u001b[1;33m)\u001b[0m\u001b[1;33m\u001b[0m\u001b[0m\n",
        "\u001b[1;32m/usr/local/lib/python2.7/site-packages/brian-1.4.1-py2.7-linux-x86_64.egg/brian/network.pyc\u001b[0m in \u001b[0;36m__init__\u001b[1;34m(self, function, clock, when)\u001b[0m\n\u001b[0;32m    698\u001b[0m     \"\"\"\n\u001b[0;32m    699\u001b[0m     \u001b[1;32mdef\u001b[0m \u001b[0m__init__\u001b[0m\u001b[1;33m(\u001b[0m\u001b[0mself\u001b[0m\u001b[1;33m,\u001b[0m \u001b[0mfunction\u001b[0m\u001b[1;33m=\u001b[0m\u001b[0mNone\u001b[0m\u001b[1;33m,\u001b[0m \u001b[0mclock\u001b[0m\u001b[1;33m=\u001b[0m\u001b[0mNone\u001b[0m\u001b[1;33m,\u001b[0m \u001b[0mwhen\u001b[0m\u001b[1;33m=\u001b[0m\u001b[1;34m'end'\u001b[0m\u001b[1;33m)\u001b[0m\u001b[1;33m:\u001b[0m\u001b[1;33m\u001b[0m\u001b[0m\n\u001b[1;32m--> 700\u001b[1;33m         \u001b[0mself\u001b[0m\u001b[1;33m.\u001b[0m\u001b[0mclock\u001b[0m \u001b[1;33m=\u001b[0m \u001b[0mguess_clock\u001b[0m\u001b[1;33m(\u001b[0m\u001b[0mclock\u001b[0m\u001b[1;33m)\u001b[0m\u001b[1;33m\u001b[0m\u001b[0m\n\u001b[0m\u001b[0;32m    701\u001b[0m         \u001b[0mself\u001b[0m\u001b[1;33m.\u001b[0m\u001b[0mwhen\u001b[0m \u001b[1;33m=\u001b[0m \u001b[0mwhen\u001b[0m\u001b[1;33m\u001b[0m\u001b[0m\n\u001b[0;32m    702\u001b[0m         \u001b[0mself\u001b[0m\u001b[1;33m.\u001b[0m\u001b[0mfunction\u001b[0m \u001b[1;33m=\u001b[0m \u001b[0mfunction\u001b[0m\u001b[1;33m\u001b[0m\u001b[0m\n",
        "\u001b[1;32m/usr/local/lib/python2.7/site-packages/brian-1.4.1-py2.7-linux-x86_64.egg/brian/clock.pyc\u001b[0m in \u001b[0;36mguess_clock\u001b[1;34m(clock)\u001b[0m\n\u001b[0;32m    346\u001b[0m         \u001b[1;32mreturn\u001b[0m \u001b[0mclock\u001b[0m\u001b[1;33m\u001b[0m\u001b[0m\n\u001b[0;32m    347\u001b[0m     \u001b[1;31m# Get variables from the stack\u001b[0m\u001b[1;33m\u001b[0m\u001b[1;33m\u001b[0m\u001b[0m\n\u001b[1;32m--> 348\u001b[1;33m     \u001b[1;33m(\u001b[0m\u001b[0mclocks\u001b[0m\u001b[1;33m,\u001b[0m \u001b[0mclocknames\u001b[0m\u001b[1;33m)\u001b[0m \u001b[1;33m=\u001b[0m \u001b[0mmagic\u001b[0m\u001b[1;33m.\u001b[0m\u001b[0mfind_instances\u001b[0m\u001b[1;33m(\u001b[0m\u001b[0mClock\u001b[0m\u001b[1;33m)\u001b[0m\u001b[1;33m\u001b[0m\u001b[0m\n\u001b[0m\u001b[0;32m    349\u001b[0m     \u001b[1;32mif\u001b[0m \u001b[0mlen\u001b[0m\u001b[1;33m(\u001b[0m\u001b[0mclocks\u001b[0m\u001b[1;33m)\u001b[0m \u001b[1;33m>\u001b[0m \u001b[1;36m1\u001b[0m\u001b[1;33m:\u001b[0m \u001b[1;31m# several clocks: ambiguous\u001b[0m\u001b[1;33m\u001b[0m\u001b[0m\n\u001b[0;32m    350\u001b[0m         \u001b[1;31m# What type of error?\u001b[0m\u001b[1;33m\u001b[0m\u001b[1;33m\u001b[0m\u001b[0m\n",
        "\u001b[1;32m/usr/local/lib/python2.7/site-packages/brian-1.4.1-py2.7-linux-x86_64.egg/brian/magic.pyc\u001b[0m in \u001b[0;36mfind_instances\u001b[1;34m(instancetype, startlevel, all)\u001b[0m\n\u001b[0;32m    315\u001b[0m     \u001b[1;31m# Note that we start from startlevel+1 because startlevel means from the calling function's point of view\u001b[0m\u001b[1;33m\u001b[0m\u001b[1;33m\u001b[0m\u001b[0m\n\u001b[0;32m    316\u001b[0m     \u001b[1;32mfor\u001b[0m \u001b[0mlevel\u001b[0m \u001b[1;32min\u001b[0m \u001b[0mrange\u001b[0m\u001b[1;33m(\u001b[0m\u001b[0mstartlevel\u001b[0m \u001b[1;33m+\u001b[0m \u001b[1;36m1\u001b[0m\u001b[1;33m,\u001b[0m \u001b[0mlen\u001b[0m\u001b[1;33m(\u001b[0m\u001b[0mgetouterframes\u001b[0m\u001b[1;33m(\u001b[0m\u001b[0mcurrentframe\u001b[0m\u001b[1;33m(\u001b[0m\u001b[1;33m)\u001b[0m\u001b[1;33m)\u001b[0m\u001b[1;33m)\u001b[0m\u001b[1;33m)\u001b[0m\u001b[1;33m:\u001b[0m\u001b[1;33m\u001b[0m\u001b[0m\n\u001b[1;32m--> 317\u001b[1;33m         \u001b[0mobjs\u001b[0m\u001b[1;33m,\u001b[0m \u001b[0mnames\u001b[0m \u001b[1;33m=\u001b[0m \u001b[0mget_instances\u001b[0m\u001b[1;33m(\u001b[0m\u001b[0minstancetype\u001b[0m\u001b[1;33m,\u001b[0m \u001b[0mlevel\u001b[0m\u001b[1;33m,\u001b[0m \u001b[0mall\u001b[0m\u001b[1;33m=\u001b[0m\u001b[0mall\u001b[0m\u001b[1;33m)\u001b[0m\u001b[1;33m\u001b[0m\u001b[0m\n\u001b[0m\u001b[0;32m    318\u001b[0m         \u001b[1;32mif\u001b[0m \u001b[0mlen\u001b[0m\u001b[1;33m(\u001b[0m\u001b[0mobjs\u001b[0m\u001b[1;33m)\u001b[0m\u001b[1;33m:\u001b[0m\u001b[1;33m\u001b[0m\u001b[0m\n\u001b[0;32m    319\u001b[0m             \u001b[1;32mreturn\u001b[0m \u001b[1;33m(\u001b[0m\u001b[0mobjs\u001b[0m\u001b[1;33m,\u001b[0m \u001b[0mnames\u001b[0m\u001b[1;33m)\u001b[0m\u001b[1;33m\u001b[0m\u001b[0m\n",
        "\u001b[1;32m/usr/local/lib/python2.7/site-packages/brian-1.4.1-py2.7-linux-x86_64.egg/brian/magic.pyc\u001b[0m in \u001b[0;36mget_instances\u001b[1;34m(instancetype, level, all)\u001b[0m\n\u001b[0;32m    302\u001b[0m     \u001b[1;32mexcept\u001b[0m \u001b[0mAttributeError\u001b[0m\u001b[1;33m:\u001b[0m\u001b[1;33m\u001b[0m\u001b[0m\n\u001b[0;32m    303\u001b[0m         \u001b[1;32mraise\u001b[0m \u001b[0mInstanceTrackerError\u001b[0m\u001b[1;33m(\u001b[0m\u001b[1;34m'Cannot track instances of type '\u001b[0m\u001b[1;33m,\u001b[0m \u001b[0minstancetype\u001b[0m\u001b[1;33m)\u001b[0m\u001b[1;33m\u001b[0m\u001b[0m\n\u001b[1;32m--> 304\u001b[1;33m     \u001b[0mtarget_frame\u001b[0m \u001b[1;33m=\u001b[0m \u001b[0mid\u001b[0m\u001b[1;33m(\u001b[0m\u001b[0mgetouterframes\u001b[0m\u001b[1;33m(\u001b[0m\u001b[0mcurrentframe\u001b[0m\u001b[1;33m(\u001b[0m\u001b[1;33m)\u001b[0m\u001b[1;33m)\u001b[0m\u001b[1;33m[\u001b[0m\u001b[0mlevel\u001b[0m \u001b[1;33m+\u001b[0m \u001b[1;36m1\u001b[0m\u001b[1;33m]\u001b[0m\u001b[1;33m[\u001b[0m\u001b[1;36m0\u001b[0m\u001b[1;33m]\u001b[0m\u001b[1;33m)\u001b[0m\u001b[1;33m\u001b[0m\u001b[0m\n\u001b[0m\u001b[0;32m    305\u001b[0m     \u001b[1;32mif\u001b[0m \u001b[0mall\u001b[0m \u001b[1;32mor\u001b[0m \u001b[1;32mnot\u001b[0m \u001b[0mget_global_preference\u001b[0m\u001b[1;33m(\u001b[0m\u001b[1;34m'magic_useframes'\u001b[0m\u001b[1;33m)\u001b[0m\u001b[1;33m:\u001b[0m\u001b[1;33m\u001b[0m\u001b[0m\n\u001b[0;32m    306\u001b[0m         \u001b[0mtarget_frame\u001b[0m \u001b[1;33m=\u001b[0m \u001b[0mNone\u001b[0m\u001b[1;33m\u001b[0m\u001b[0m\n",
        "\u001b[1;32m/usr/local/lib/python2.7/inspect.pyc\u001b[0m in \u001b[0;36mgetouterframes\u001b[1;34m(frame, context)\u001b[0m\n\u001b[0;32m   1031\u001b[0m     \u001b[0mframelist\u001b[0m \u001b[1;33m=\u001b[0m \u001b[1;33m[\u001b[0m\u001b[1;33m]\u001b[0m\u001b[1;33m\u001b[0m\u001b[0m\n\u001b[0;32m   1032\u001b[0m     \u001b[1;32mwhile\u001b[0m \u001b[0mframe\u001b[0m\u001b[1;33m:\u001b[0m\u001b[1;33m\u001b[0m\u001b[0m\n\u001b[1;32m-> 1033\u001b[1;33m         \u001b[0mframelist\u001b[0m\u001b[1;33m.\u001b[0m\u001b[0mappend\u001b[0m\u001b[1;33m(\u001b[0m\u001b[1;33m(\u001b[0m\u001b[0mframe\u001b[0m\u001b[1;33m,\u001b[0m\u001b[1;33m)\u001b[0m \u001b[1;33m+\u001b[0m \u001b[0mgetframeinfo\u001b[0m\u001b[1;33m(\u001b[0m\u001b[0mframe\u001b[0m\u001b[1;33m,\u001b[0m \u001b[0mcontext\u001b[0m\u001b[1;33m)\u001b[0m\u001b[1;33m)\u001b[0m\u001b[1;33m\u001b[0m\u001b[0m\n\u001b[0m\u001b[0;32m   1034\u001b[0m         \u001b[0mframe\u001b[0m \u001b[1;33m=\u001b[0m \u001b[0mframe\u001b[0m\u001b[1;33m.\u001b[0m\u001b[0mf_back\u001b[0m\u001b[1;33m\u001b[0m\u001b[0m\n\u001b[0;32m   1035\u001b[0m     \u001b[1;32mreturn\u001b[0m \u001b[0mframelist\u001b[0m\u001b[1;33m\u001b[0m\u001b[0m\n",
        "\u001b[1;32m/usr/local/lib/python2.7/inspect.pyc\u001b[0m in \u001b[0;36mgetframeinfo\u001b[1;34m(frame, context)\u001b[0m\n\u001b[0;32m   1002\u001b[0m         \u001b[1;32mraise\u001b[0m \u001b[0mTypeError\u001b[0m\u001b[1;33m(\u001b[0m\u001b[1;34m'{!r} is not a frame or traceback object'\u001b[0m\u001b[1;33m.\u001b[0m\u001b[0mformat\u001b[0m\u001b[1;33m(\u001b[0m\u001b[0mframe\u001b[0m\u001b[1;33m)\u001b[0m\u001b[1;33m)\u001b[0m\u001b[1;33m\u001b[0m\u001b[0m\n\u001b[0;32m   1003\u001b[0m \u001b[1;33m\u001b[0m\u001b[0m\n\u001b[1;32m-> 1004\u001b[1;33m     \u001b[0mfilename\u001b[0m \u001b[1;33m=\u001b[0m \u001b[0mgetsourcefile\u001b[0m\u001b[1;33m(\u001b[0m\u001b[0mframe\u001b[0m\u001b[1;33m)\u001b[0m \u001b[1;32mor\u001b[0m \u001b[0mgetfile\u001b[0m\u001b[1;33m(\u001b[0m\u001b[0mframe\u001b[0m\u001b[1;33m)\u001b[0m\u001b[1;33m\u001b[0m\u001b[0m\n\u001b[0m\u001b[0;32m   1005\u001b[0m     \u001b[1;32mif\u001b[0m \u001b[0mcontext\u001b[0m \u001b[1;33m>\u001b[0m \u001b[1;36m0\u001b[0m\u001b[1;33m:\u001b[0m\u001b[1;33m\u001b[0m\u001b[0m\n\u001b[0;32m   1006\u001b[0m         \u001b[0mstart\u001b[0m \u001b[1;33m=\u001b[0m \u001b[0mlineno\u001b[0m \u001b[1;33m-\u001b[0m \u001b[1;36m1\u001b[0m \u001b[1;33m-\u001b[0m \u001b[0mcontext\u001b[0m\u001b[1;33m//\u001b[0m\u001b[1;36m2\u001b[0m\u001b[1;33m\u001b[0m\u001b[0m\n",
        "\u001b[1;32m/usr/local/lib/python2.7/inspect.pyc\u001b[0m in \u001b[0;36mgetsourcefile\u001b[1;34m(object)\u001b[0m\n\u001b[0;32m    452\u001b[0m         \u001b[1;32mreturn\u001b[0m \u001b[0mfilename\u001b[0m\u001b[1;33m\u001b[0m\u001b[0m\n\u001b[0;32m    453\u001b[0m     \u001b[1;31m# only return a non-existent filename if the module has a PEP 302 loader\u001b[0m\u001b[1;33m\u001b[0m\u001b[1;33m\u001b[0m\u001b[0m\n\u001b[1;32m--> 454\u001b[1;33m     \u001b[1;32mif\u001b[0m \u001b[0mhasattr\u001b[0m\u001b[1;33m(\u001b[0m\u001b[0mgetmodule\u001b[0m\u001b[1;33m(\u001b[0m\u001b[0mobject\u001b[0m\u001b[1;33m,\u001b[0m \u001b[0mfilename\u001b[0m\u001b[1;33m)\u001b[0m\u001b[1;33m,\u001b[0m \u001b[1;34m'__loader__'\u001b[0m\u001b[1;33m)\u001b[0m\u001b[1;33m:\u001b[0m\u001b[1;33m\u001b[0m\u001b[0m\n\u001b[0m\u001b[0;32m    455\u001b[0m         \u001b[1;32mreturn\u001b[0m \u001b[0mfilename\u001b[0m\u001b[1;33m\u001b[0m\u001b[0m\n\u001b[0;32m    456\u001b[0m     \u001b[1;31m# or it is in the linecache\u001b[0m\u001b[1;33m\u001b[0m\u001b[1;33m\u001b[0m\u001b[0m\n",
        "\u001b[1;32m/usr/local/lib/python2.7/inspect.pyc\u001b[0m in \u001b[0;36mgetmodule\u001b[1;34m(object, _filename)\u001b[0m\n\u001b[0;32m    489\u001b[0m     \u001b[1;31m# Copy sys.modules in order to cope with changes while iterating\u001b[0m\u001b[1;33m\u001b[0m\u001b[1;33m\u001b[0m\u001b[0m\n\u001b[0;32m    490\u001b[0m     \u001b[1;32mfor\u001b[0m \u001b[0mmodname\u001b[0m\u001b[1;33m,\u001b[0m \u001b[0mmodule\u001b[0m \u001b[1;32min\u001b[0m \u001b[0msys\u001b[0m\u001b[1;33m.\u001b[0m\u001b[0mmodules\u001b[0m\u001b[1;33m.\u001b[0m\u001b[0mitems\u001b[0m\u001b[1;33m(\u001b[0m\u001b[1;33m)\u001b[0m\u001b[1;33m:\u001b[0m\u001b[1;33m\u001b[0m\u001b[0m\n\u001b[1;32m--> 491\u001b[1;33m         \u001b[1;32mif\u001b[0m \u001b[0mismodule\u001b[0m\u001b[1;33m(\u001b[0m\u001b[0mmodule\u001b[0m\u001b[1;33m)\u001b[0m \u001b[1;32mand\u001b[0m \u001b[0mhasattr\u001b[0m\u001b[1;33m(\u001b[0m\u001b[0mmodule\u001b[0m\u001b[1;33m,\u001b[0m \u001b[1;34m'__file__'\u001b[0m\u001b[1;33m)\u001b[0m\u001b[1;33m:\u001b[0m\u001b[1;33m\u001b[0m\u001b[0m\n\u001b[0m\u001b[0;32m    492\u001b[0m             \u001b[0mf\u001b[0m \u001b[1;33m=\u001b[0m \u001b[0mmodule\u001b[0m\u001b[1;33m.\u001b[0m\u001b[0m__file__\u001b[0m\u001b[1;33m\u001b[0m\u001b[0m\n\u001b[0;32m    493\u001b[0m             \u001b[1;32mif\u001b[0m \u001b[0mf\u001b[0m \u001b[1;33m==\u001b[0m \u001b[0m_filesbymodname\u001b[0m\u001b[1;33m.\u001b[0m\u001b[0mget\u001b[0m\u001b[1;33m(\u001b[0m\u001b[0mmodname\u001b[0m\u001b[1;33m,\u001b[0m \u001b[0mNone\u001b[0m\u001b[1;33m)\u001b[0m\u001b[1;33m:\u001b[0m\u001b[1;33m\u001b[0m\u001b[0m\n",
        "\u001b[1;32m/usr/local/lib/python2.7/inspect.pyc\u001b[0m in \u001b[0;36mismodule\u001b[1;34m(object)\u001b[0m\n\u001b[0;32m     55\u001b[0m         \u001b[0m__doc__\u001b[0m         \u001b[0mdocumentation\u001b[0m \u001b[0mstring\u001b[0m\u001b[1;33m\u001b[0m\u001b[0m\n\u001b[0;32m     56\u001b[0m         __file__        filename (missing for built-in modules)\"\"\"\n\u001b[1;32m---> 57\u001b[1;33m     \u001b[1;32mreturn\u001b[0m \u001b[0misinstance\u001b[0m\u001b[1;33m(\u001b[0m\u001b[0mobject\u001b[0m\u001b[1;33m,\u001b[0m \u001b[0mtypes\u001b[0m\u001b[1;33m.\u001b[0m\u001b[0mModuleType\u001b[0m\u001b[1;33m)\u001b[0m\u001b[1;33m\u001b[0m\u001b[0m\n\u001b[0m\u001b[0;32m     58\u001b[0m \u001b[1;33m\u001b[0m\u001b[0m\n\u001b[0;32m     59\u001b[0m \u001b[1;32mdef\u001b[0m \u001b[0misclass\u001b[0m\u001b[1;33m(\u001b[0m\u001b[0mobject\u001b[0m\u001b[1;33m)\u001b[0m\u001b[1;33m:\u001b[0m\u001b[1;33m\u001b[0m\u001b[0m\n",
        "\u001b[1;31mKeyboardInterrupt\u001b[0m: "
       ]
      }
     ],
     "prompt_number": 22
    },
    {
     "cell_type": "code",
     "collapsed": false,
     "input": [
      "print \"Time for 50 events=\", Time"
     ],
     "language": "python",
     "metadata": {},
     "outputs": [
      {
       "output_type": "stream",
       "stream": "stdout",
       "text": [
        "Time for 50 events= 71.0\n"
       ]
      }
     ],
     "prompt_number": 19
    },
    {
     "cell_type": "code",
     "collapsed": false,
     "input": [
      "plt.scatter(SNN_Values, Target_Values)\n",
      "plt.xlabel(\"Spiking NN output\")\n",
      "plt.ylabel(\"TB Target\")"
     ],
     "language": "python",
     "metadata": {},
     "outputs": [
      {
       "metadata": {},
       "output_type": "pyout",
       "prompt_number": 21,
       "text": [
        "<matplotlib.text.Text at 0x7fbb8d3ad710>"
       ]
      },
      {
       "metadata": {},
       "output_type": "display_data",
       "png": "[encoded data removed]",
       "text": [
        "<matplotlib.figure.Figure at 0x7fbb947766d0>"
       ]
      }
     ],
     "prompt_number": 21
    },
    {
     "cell_type": "code",
     "collapsed": false,
     "input": [],
     "language": "python",
     "metadata": {},
     "outputs": []
    }
   ],
   "metadata": {}
  }
 ]
}