{
 "metadata": {
  "name": "",
  "signature": "sha256:83dec8403f476111d3711854c4970f6fb79aff2ae9293c4d06a3e4b848ef00b6"
 },
 "nbformat": 3,
 "nbformat_minor": 0,
 "worksheets": [
  {
   "cells": [
    {
     "cell_type": "code",
     "collapsed": false,
     "input": [
      "import h5py\n",
      "import theanets\n",
      "import time"
     ],
     "language": "python",
     "metadata": {},
     "outputs": [
      {
       "output_type": "stream",
       "stream": "stdout",
       "text": [
        "Couldn't import dot_parser, loading of dot files will not be possible.\n"
       ]
      }
     ],
     "prompt_number": 1
    },
    {
     "cell_type": "code",
     "collapsed": false,
     "input": [
      "f=h5py.File(\"data/data_5Jets.hdf5\")\n",
      "f.keys()\n",
      "f['data_5Jets'].keys()\n",
      "\n",
      "global input_matrix\n",
      "global target_matrix\n",
      "global decorator_matrix\n",
      "\n",
      "input_matrix     = f['data_5Jets']['input'].value\n",
      "target_matrix    = f['data_5Jets']['target'].value\n",
      "decorator_matrix = f['data_5Jets']['deco'].value\n",
      "f.close()"
     ],
     "language": "python",
     "metadata": {},
     "outputs": [],
     "prompt_number": 2
    },
    {
     "cell_type": "code",
     "collapsed": false,
     "input": [
      "nInputs  = input_matrix.shape[1]\n",
      "nOutputs = target_matrix.shape[1]"
     ],
     "language": "python",
     "metadata": {},
     "outputs": [],
     "prompt_number": 3
    },
    {
     "cell_type": "code",
     "collapsed": false,
     "input": [
      "print \"Samples in input_matrix=\", len(input_matrix), \"       Inputs=\", nInputs, \"       Outputs=\",nOutputs"
     ],
     "language": "python",
     "metadata": {},
     "outputs": [
      {
       "output_type": "stream",
       "stream": "stdout",
       "text": [
        "Samples in input_matrix= 1000000        Inputs= 82        Outputs= 1\n"
       ]
      }
     ],
     "prompt_number": 4
    },
    {
     "cell_type": "code",
     "collapsed": false,
     "input": [
      "def allincluded(truncated, nHiddenLayers, nHiddenNeurons):\n",
      "\n",
      "    # Create Training & Validation Set\n",
      "    # ------------------------------------------------\n",
      "    IN_matrix     = input_matrix[0:truncate,...]      \n",
      "    TARGET_matrix = target_matrix[0:truncate,...]\n",
      "    DEC_matrix    = decorator_matrix[0:truncate,...] \n",
      "    \n",
      "    cut   =int(IN_matrix.shape[0]*0.8)\n",
      "    train =IN_matrix[:cut], TARGET_matrix[:cut]\n",
      "    valid =IN_matrix[cut:], TARGET_matrix[cut:]\n",
      "    \n",
      "    # Build the NN\n",
      "    # -----------------------------------------------------------------------------------------------------------------------------------\n",
      "    # Topology: Feedforward\n",
      "    # Inputs = 82 (Jets 4-momenta (20 Jets maximum), METx, METy)\n",
      "    # Number of Hidden Layers = nHiddenLayers\n",
      "    # Activation function for Hidden Layers = sigmoid\n",
      "    # Outputs=1 (NN Trigger Bits= 0 or 1)\n",
      "    # Activation function for the Output Layer= sigmoid \n",
      "    # Layerwise: pretrainer \n",
      "\n",
      "    exp=theanets.Experiment(theanets.feedforward.Regressor(layers=(nInputs,)+tuple([nHiddenNeurons for l in range(nHiddenLayers), 'sigmoid'])+ ( (nOutputs, 'sigmoid'),)),'layerwise')    \n",
      "    \n",
      "    # ------------------------------------------------------------------------------------------------------------------------------------\n",
      "    fom_train   = 1.0\n",
      "    fom_valid   = 1.0\n",
      "    LearningRate=0.001\n",
      "    Epochs= 0\n",
      "    \n",
      "    timing_start = time.mktime(time.gmtime())\n",
      "    \n",
      "    for TrainError, ValError in exp.itertrain(train,valid, learning_rate= LearningRate, algo='rmsprop', \n",
      "                                              hidden_dropout=0.9, iteration_size = 400, batch_size=1000, \n",
      "                                              validate_every = 1, patience=300, min_improvement = 0.0000001):\n",
      "        print 'Epoch=', Epochs+1\n",
      "        if Epochs%1 == 0 :\n",
      "            print 'Training   Error = \\t',TrainError['err']\n",
      "            print 'Validation Error = \\t',ValError['err']\n",
      "        Epochs+=1\n",
      "        if Epochs == 20 :\n",
      "            break   \n",
      "    timing_end=time.mktime(time.gmtime())\n",
      "    \n",
      "    prediction = exp.network.predict(train[0])\n",
      "    goodness = np.asarray([[cut,(list(train[1][np.where(prediction>cut)]==1).count(True)+list(train[1][np.where(prediction<cut)]==0).count(True))/ float(train[0].shape[0])]  for cut in np.arange(0,1,0.05)])\n",
      "    fom_train = max( goodness[:,1])\n",
      "    \n",
      "    prediction = exp.network.predict(valid[0])\n",
      "    goodness = np.asarray([[cut,(list(valid[1][np.where(prediction>cut)]==1).count(True)+list(valid[1][np.where(prediction<cut)]==0).count(True))/ float(valid[0].shape[0])]  for cut in np.arange(0,1,0.05)])\n",
      "    fom_valid = max( goodness[:,1])\n",
      "    \n",
      "    \n",
      "    timing=timing_end-timing_start\n",
      "    \n",
      "    return (fom_train, fom_valid, timing)"
     ],
     "language": "python",
     "metadata": {},
     "outputs": [],
     "prompt_number": 9
    },
    {
     "cell_type": "code",
     "collapsed": false,
     "input": [
      "# (Number of Samples, Hidden Layers, HiddenNeurons, Epochs, Trainings, Timing, FOM ) \n",
      "mapAlgo=[]"
     ],
     "language": "python",
     "metadata": {},
     "outputs": [],
     "prompt_number": 11
    },
    {
     "cell_type": "code",
     "collapsed": false,
     "input": [
      "print mapAlgo"
     ],
     "language": "python",
     "metadata": {},
     "outputs": [
      {
       "output_type": "stream",
       "stream": "stdout",
       "text": [
        "[]\n"
       ]
      }
     ],
     "prompt_number": 12
    },
    {
     "cell_type": "code",
     "collapsed": false,
     "input": [
      "truncate=10000\n",
      "iLayers=1\n",
      "nHiddenNeurons=200\n",
      "#for iLayers in range(1,11):\n",
      "#    for nHiddenNeurons in range(100, 1000, 100):      \n",
      "            \n",
      "fom_train, fom_valid, timing = allincluded(truncate, iLayers, nHiddenNeurons)\n",
      "mapAlgo.append((truncate, iLayers, nHiddenNeurons, timing, fom_train, fom_valid))    \n",
      "print 'Samples=',truncate,'    Hidden Layers=',iLayers, \"   Hidden Neurons=\", nHiddenNeurons, \"   F.O.M. train set=\",fom_train, \"FOM valid. set=\", fom_valid,\"   Time=\", timing \n"
     ],
     "language": "python",
     "metadata": {},
     "outputs": [
      {
       "output_type": "stream",
       "stream": "stdout",
       "text": [
        "Epoch= 1\n",
        "Training   Error = \t0.174067731725\n",
        "Validation Error = \t0.337141453644\n",
        "Epoch="
       ]
      },
      {
       "output_type": "stream",
       "stream": "stdout",
       "text": [
        " 2\n",
        "Training   Error = \t0.0923127079829\n",
        "Validation Error = \t0.118868275493\n",
        "Epoch="
       ]
      },
      {
       "output_type": "stream",
       "stream": "stdout",
       "text": [
        " 3\n",
        "Training   Error = \t0.0728809439526\n",
        "Validation Error = \t0.0953339723379\n",
        "Epoch="
       ]
      },
      {
       "output_type": "stream",
       "stream": "stdout",
       "text": [
        " 4\n",
        "Training   Error = \t0.0588310671503\n",
        "Validation Error = \t0.0931218754679\n",
        "Epoch="
       ]
      },
      {
       "output_type": "stream",
       "stream": "stdout",
       "text": [
        " 5\n",
        "Training   Error = \t0.0468147314384\n",
        "Validation Error = \t0.106936111298\n",
        "Epoch="
       ]
      },
      {
       "output_type": "stream",
       "stream": "stdout",
       "text": [
        " 6\n",
        "Training   Error = \t0.0369935094682\n",
        "Validation Error = \t0.103135947061\n",
        "Epoch="
       ]
      },
      {
       "output_type": "stream",
       "stream": "stdout",
       "text": [
        " 7\n",
        "Training   Error = \t0.0288270327691\n",
        "Validation Error = \t0.10574667172\n",
        "Epoch="
       ]
      },
      {
       "output_type": "stream",
       "stream": "stdout",
       "text": [
        " 8\n",
        "Training   Error = \t0.0224160722792\n",
        "Validation Error = \t0.0972026338513\n",
        "Epoch="
       ]
      },
      {
       "output_type": "stream",
       "stream": "stdout",
       "text": [
        " 9\n",
        "Training   Error = \t0.0171588571266\n",
        "Validation Error = \t0.0993563622672\n",
        "Epoch="
       ]
      },
      {
       "output_type": "stream",
       "stream": "stdout",
       "text": [
        " 10\n",
        "Training   Error = \t0.0140323882307\n",
        "Validation Error = \t0.16849946351\n",
        "Epoch="
       ]
      },
      {
       "output_type": "stream",
       "stream": "stdout",
       "text": [
        " 11\n",
        "Training   Error = \t0.0116891217967\n",
        "Validation Error = \t0.105054119443\n",
        "Epoch="
       ]
      },
      {
       "output_type": "stream",
       "stream": "stdout",
       "text": [
        " 12\n",
        "Training   Error = \t0.0098050926256\n",
        "Validation Error = \t0.107977078359\n",
        "Epoch="
       ]
      },
      {
       "output_type": "stream",
       "stream": "stdout",
       "text": [
        " 13\n",
        "Training   Error = \t0.00804328971836\n",
        "Validation Error = \t0.111062829368\n",
        "Epoch="
       ]
      },
      {
       "output_type": "stream",
       "stream": "stdout",
       "text": [
        " 14\n",
        "Training   Error = \t0.00732574079809\n",
        "Validation Error = \t0.111800729541\n",
        "Epoch="
       ]
      },
      {
       "output_type": "stream",
       "stream": "stdout",
       "text": [
        " 15\n",
        "Training   Error = \t0.00705082498726\n",
        "Validation Error = \t0.247577896513\n",
        "Epoch="
       ]
      },
      {
       "output_type": "stream",
       "stream": "stdout",
       "text": [
        " 16\n",
        "Training   Error = \t0.00657257313665\n",
        "Validation Error = \t0.115057106367\n",
        "Epoch="
       ]
      },
      {
       "output_type": "stream",
       "stream": "stdout",
       "text": [
        " 17\n",
        "Training   Error = \t0.00555636997686\n",
        "Validation Error = \t0.130557245126\n",
        "Epoch="
       ]
      },
      {
       "output_type": "stream",
       "stream": "stdout",
       "text": [
        " 18\n",
        "Training   Error = \t0.00514341850852\n",
        "Validation Error = \t0.116814018599\n",
        "Epoch="
       ]
      },
      {
       "output_type": "stream",
       "stream": "stdout",
       "text": [
        " 19\n",
        "Training   Error = \t0.00510188682056\n",
        "Validation Error = \t0.117894383279\n",
        "Epoch="
       ]
      },
      {
       "output_type": "stream",
       "stream": "stdout",
       "text": [
        " 20\n",
        "Training   Error = \t0.00441169812318\n",
        "Validation Error = \t0.118615422668\n",
        "Samples="
       ]
      },
      {
       "output_type": "stream",
       "stream": "stdout",
       "text": [
        " 10000     Hidden Layers= 1    Hidden Neurons= 200    F.O.M. train set= 0.997125 FOM valid. set= 0.86    Time= 1516.0\n"
       ]
      }
     ],
     "prompt_number": 13
    },
    {
     "cell_type": "code",
     "collapsed": false,
     "input": [
      "print mapAlgo"
     ],
     "language": "python",
     "metadata": {},
     "outputs": []
    },
    {
     "cell_type": "code",
     "collapsed": false,
     "input": [],
     "language": "python",
     "metadata": {},
     "outputs": []
    }
   ],
   "metadata": {}
  }
 ]
}