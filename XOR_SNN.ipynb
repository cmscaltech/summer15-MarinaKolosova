{
 "metadata": {
  "name": "",
  "signature": "sha256:ae8ed66e6d23417537e3a1850569961efbfd42187b322f750c29d07ba69c298a"
 },
 "nbformat": 3,
 "nbformat_minor": 0,
 "worksheets": [
  {
   "cells": [
    {
     "cell_type": "code",
     "collapsed": false,
     "input": [
      "import theanets\n",
      "import time\n",
      "import random"
     ],
     "language": "python",
     "metadata": {},
     "outputs": [
      {
       "output_type": "stream",
       "stream": "stdout",
       "text": [
        "Couldn't import dot_parser, loading of dot files will not be possible.\n"
       ]
      }
     ],
     "prompt_number": 1
    },
    {
     "cell_type": "code",
     "collapsed": false,
     "input": [
      "from brian import *\n",
      "from brian.library.synapses import *\n",
      "from brian.clock import reinit_default_clock\n",
      "from brian.stdunits import kHz, Hz, ms\n",
      "from brian.network import Network\n",
      "from brian.monitor import StateMonitor, SpikeMonitor\n",
      "from brian.globalprefs import set_global_preferences\n",
      "from brian import clear\n",
      "\n",
      "import cPickle\n",
      "%matplotlib inline"
     ],
     "language": "python",
     "metadata": {},
     "outputs": [
      {
       "output_type": "stream",
       "stream": "stderr",
       "text": [
        "/usr/local/lib/python2.7/site-packages/brian-1.4.1-py2.7-linux-x86_64.egg/brian/utils/sparse_patch/__init__.py:39: UserWarning: Couldn't find matching sparse matrix patch for scipy version 0.15.1, but in most cases this shouldn't be a problem.\n",
        "  warnings.warn(\"Couldn't find matching sparse matrix patch for scipy version %s, but in most cases this shouldn't be a problem.\" % scipy.__version__)\n"
       ]
      }
     ],
     "prompt_number": 2
    },
    {
     "cell_type": "code",
     "collapsed": false,
     "input": [
      "X = np.array([[0, 0], [0, 1], [1, 0], [1, 1]], dtype='f')\n",
      "Y = np.array([[0], [1], [1], [0]], dtype='f')"
     ],
     "language": "python",
     "metadata": {},
     "outputs": [],
     "prompt_number": 3
    },
    {
     "cell_type": "code",
     "collapsed": false,
     "input": [
      "print \"Input=\"\n",
      "print X          "
     ],
     "language": "python",
     "metadata": {},
     "outputs": [
      {
       "output_type": "stream",
       "stream": "stdout",
       "text": [
        "Input=\n",
        "[[ 0.  0.]\n",
        " [ 0.  1.]\n",
        " [ 1.  0.]\n",
        " [ 1.  1.]]\n"
       ]
      }
     ],
     "prompt_number": 4
    },
    {
     "cell_type": "code",
     "collapsed": false,
     "input": [
      "print \"Target=\"\n",
      "print Y"
     ],
     "language": "python",
     "metadata": {},
     "outputs": [
      {
       "output_type": "stream",
       "stream": "stdout",
       "text": [
        "Target=\n",
        "[[ 0.]\n",
        " [ 1.]\n",
        " [ 1.]\n",
        " [ 0.]]\n"
       ]
      }
     ],
     "prompt_number": 5
    },
    {
     "cell_type": "code",
     "collapsed": false,
     "input": [
      "experiment1=theanets.feedforward.Regressor([2,(2, 'relu'), (1,'relu')]) \n",
      "\n",
      "# ----------\n",
      "#  for RELU\n",
      "# ----------\n",
      "#experiment1.find('hid1', 'b').set_value([0.00003,-0.00003])\n",
      "#experiment1.find('hid1', 'w').set_value([[0.7,-0.7],[-0.5,0.5]])\n",
      "#experiment1.find('out', 'b').set_value([0.001])\n",
      "#experiment1.find('out', 'w').set_value([[0.0001],[-0.0001]])\n",
      "\n",
      "experiment1.find('hid1', 'w').set_value([[1,-1],[-1,1]])\n",
      "experiment1.find('out', 'w').set_value([[1],[1]])\n",
      "\n",
      "LR             = 1e-4\n",
      "momentum       = 0.5\n",
      "hidden_dropout = 0.5\n",
      "\n",
      "Epoch=0\n",
      "\n",
      "for trn, val in experiment1.itertrain([X,Y],[X,Y],\n",
      "                                      algo            = 'rprop',\n",
      "                                      weight_l2       = 0.04,\n",
      "                                      hidden_dropout  = hidden_dropout,\n",
      "                                      learning_rate   = LR,\n",
      "                                      batch_size      = 4,\n",
      "                                      momentum        = momentum,\n",
      "                                      iteration_size  = 200):\n",
      "    if(Epoch == 2000):\n",
      "        break\n",
      "    print \"Epoch=\", Epoch+1, \" Training Error =\", trn['err'],  \"    Validation Error =\",val['err']\n",
      "    Epoch += 1\n",
      "\n",
      "print \"------------\"\n",
      "print \"Prediction=\"\n",
      "print experiment1.predict(X)"
     ],
     "language": "python",
     "metadata": {},
     "outputs": [
      {
       "output_type": "stream",
       "stream": "stdout",
       "text": [
        "Epoch= 1  Training Error = 0.0232875328324     Validation Error = 0.0443351924282\n",
        "Epoch="
       ]
      },
      {
       "output_type": "stream",
       "stream": "stdout",
       "text": [
        " 2  Training Error = 0.00414871003005     Validation Error = 0.0443351924282\n",
        "Epoch="
       ]
      },
      {
       "output_type": "stream",
       "stream": "stdout",
       "text": [
        " 3  Training Error = 0.0054292353871     Validation Error = 0.0443351924282\n",
        "Epoch="
       ]
      },
      {
       "output_type": "stream",
       "stream": "stdout",
       "text": [
        " 4  Training Error = 0.00543118171074     Validation Error = 0.0443351924282\n",
        "Epoch="
       ]
      },
      {
       "output_type": "stream",
       "stream": "stdout",
       "text": [
        " 5  Training Error = 0.00542883208482     Validation Error = 0.0443351924282\n",
        "Epoch="
       ]
      },
      {
       "output_type": "stream",
       "stream": "stdout",
       "text": [
        " 6  Training Error = 0.00542623848368     Validation Error = 0.0443351924282\n",
        "Epoch="
       ]
      },
      {
       "output_type": "stream",
       "stream": "stdout",
       "text": [
        " 7  Training Error = 0.00542814808276     Validation Error = 0.0443351924282\n",
        "Epoch="
       ]
      },
      {
       "output_type": "stream",
       "stream": "stdout",
       "text": [
        " 8  Training Error = 0.00542584994778     Validation Error = 0.0443351924282\n",
        "Epoch="
       ]
      },
      {
       "output_type": "stream",
       "stream": "stdout",
       "text": [
        " 9  Training Error = 0.00542332092174     Validation Error = 0.0443351924282\n",
        "Epoch="
       ]
      },
      {
       "output_type": "stream",
       "stream": "stdout",
       "text": [
        " 10  Training Error = 0.00542519427642     Validation Error = 0.0443351924282\n",
        "Epoch="
       ]
      },
      {
       "output_type": "stream",
       "stream": "stdout",
       "text": [
        " 11  Training Error = 0.00542294650092     Validation Error = 0.00530353386926\n",
        "Epoch="
       ]
      },
      {
       "output_type": "stream",
       "stream": "stdout",
       "text": [
        " 12  Training Error = 0.00542048034558     Validation Error = 0.00530353386926\n",
        "Epoch="
       ]
      },
      {
       "output_type": "stream",
       "stream": "stdout",
       "text": [
        " 13  Training Error = 0.00542231793624     Validation Error = 0.00530353386926\n",
        "Epoch="
       ]
      },
      {
       "output_type": "stream",
       "stream": "stdout",
       "text": [
        " 14  Training Error = 0.00542011941552     Validation Error = 0.00530353386926\n",
        "Epoch="
       ]
      },
      {
       "output_type": "stream",
       "stream": "stdout",
       "text": [
        " 15  Training Error = 0.00541771447694     Validation Error = 0.00530353386926\n",
        "Epoch="
       ]
      },
      {
       "output_type": "stream",
       "stream": "stdout",
       "text": [
        " 16  Training Error = 0.0054195167838     Validation Error = 0.00530353386926\n",
        "Epoch="
       ]
      },
      {
       "output_type": "stream",
       "stream": "stdout",
       "text": [
        " 17  Training Error = 0.00541736643923     Validation Error = 0.00530353386926\n",
        "Epoch="
       ]
      },
      {
       "output_type": "stream",
       "stream": "stdout",
       "text": [
        " 18  Training Error = 0.00541502111225     Validation Error = 0.00530353386926\n",
        "Epoch="
       ]
      },
      {
       "output_type": "stream",
       "stream": "stdout",
       "text": [
        " 19  Training Error = 0.00541678861499     Validation Error = 0.00530353386926\n",
        "Epoch="
       ]
      },
      {
       "output_type": "stream",
       "stream": "stdout",
       "text": [
        " 20  Training Error = 0.00547613898045     Validation Error = 0.00530353386926\n",
        "Epoch="
       ]
      },
      {
       "output_type": "stream",
       "stream": "stdout",
       "text": [
        " 21  Training Error = 0.00547762736117     Validation Error = 0.00548694594554\n",
        "Epoch="
       ]
      },
      {
       "output_type": "stream",
       "stream": "stdout",
       "text": [
        " 22  Training Error = 0.00547940630576     Validation Error = 0.00548694594554\n",
        "Epoch="
       ]
      },
      {
       "output_type": "stream",
       "stream": "stdout",
       "text": [
        " 23  Training Error = 0.00547726044046     Validation Error = 0.00548694594554\n",
        "Epoch="
       ]
      },
      {
       "output_type": "stream",
       "stream": "stdout",
       "text": [
        " 24  Training Error = 0.00547507567142     Validation Error = 0.00548694594554\n",
        "Epoch="
       ]
      },
      {
       "output_type": "stream",
       "stream": "stdout",
       "text": [
        " 25  Training Error = 0.00547681985742     Validation Error = 0.00548694594554\n",
        "Epoch="
       ]
      },
      {
       "output_type": "stream",
       "stream": "stdout",
       "text": [
        " 26  Training Error = 0.00547472083624     Validation Error = 0.00548694594554\n",
        "Epoch="
       ]
      },
      {
       "output_type": "stream",
       "stream": "stdout",
       "text": [
        " 27  Training Error = 0.00547259021686     Validation Error = 0.00548694594554\n",
        "Epoch="
       ]
      },
      {
       "output_type": "stream",
       "stream": "stdout",
       "text": [
        " 28  Training Error = 0.00547430013866     Validation Error = 0.00548694594554\n",
        "Epoch="
       ]
      },
      {
       "output_type": "stream",
       "stream": "stdout",
       "text": [
        " 29  Training Error = 0.005472246946     Validation Error = 0.00548694594554\n",
        "Epoch="
       ]
      },
      {
       "output_type": "stream",
       "stream": "stdout",
       "text": [
        " 30  Training Error = 0.00547016906966     Validation Error = 0.00548694594554\n",
        "Epoch="
       ]
      },
      {
       "output_type": "stream",
       "stream": "stdout",
       "text": [
        " 31  Training Error = 0.00547184521954     Validation Error = 0.00553052920375\n",
        "Epoch="
       ]
      },
      {
       "output_type": "stream",
       "stream": "stdout",
       "text": [
        " 32  Training Error = 0.00546983686335     Validation Error = 0.00553052920375\n",
        "Epoch="
       ]
      },
      {
       "output_type": "stream",
       "stream": "stdout",
       "text": [
        " 33  Training Error = 0.00546781036439     Validation Error = 0.00553052920375\n",
        "Epoch="
       ]
      },
      {
       "output_type": "stream",
       "stream": "stdout",
       "text": [
        " 34  Training Error = 0.00546945323218     Validation Error = 0.00553052920375\n",
        "Epoch="
       ]
      },
      {
       "output_type": "stream",
       "stream": "stdout",
       "text": [
        " 35  Training Error = 0.00546748874335     Validation Error = 0.00553052920375\n",
        "Epoch="
       ]
      },
      {
       "output_type": "stream",
       "stream": "stdout",
       "text": [
        " 36  Training Error = 0.00546539330804     Validation Error = 0.00553052920375\n",
        "Epoch="
       ]
      },
      {
       "output_type": "stream",
       "stream": "stdout",
       "text": [
        " 37  Training Error = 0.00542772947539     Validation Error = 0.00553052920375\n",
        "Epoch="
       ]
      },
      {
       "output_type": "stream",
       "stream": "stdout",
       "text": [
        " 38  Training Error = 0.00543413942232     Validation Error = 0.00553052920375\n",
        "Epoch="
       ]
      },
      {
       "output_type": "stream",
       "stream": "stdout",
       "text": [
        " 39  Training Error = 0.00543219804039     Validation Error = 0.00553052920375\n",
        "Epoch="
       ]
      },
      {
       "output_type": "stream",
       "stream": "stdout",
       "text": [
        " 40  Training Error = 0.00543274518385     Validation Error = 0.00553052920375\n",
        "Epoch="
       ]
      },
      {
       "output_type": "stream",
       "stream": "stdout",
       "text": [
        " 41  Training Error = 0.00543233895791     Validation Error = 0.00534507443493\n",
        "Epoch="
       ]
      },
      {
       "output_type": "stream",
       "stream": "stdout",
       "text": [
        " 42  Training Error = 0.00542867694566     Validation Error = 0.00534507443493\n",
        "Epoch="
       ]
      },
      {
       "output_type": "stream",
       "stream": "stdout",
       "text": [
        " 43  Training Error = 0.0054318639113     Validation Error = 0.00534507443493\n",
        "Epoch="
       ]
      },
      {
       "output_type": "stream",
       "stream": "stdout",
       "text": [
        " 44  Training Error = 0.00542738542509     Validation Error = 0.00534507443493\n",
        "Epoch="
       ]
      },
      {
       "output_type": "stream",
       "stream": "stdout",
       "text": [
        " 45  Training Error = 0.00542948572003     Validation Error = 0.00534507443493\n",
        "Epoch="
       ]
      },
      {
       "output_type": "stream",
       "stream": "stdout",
       "text": [
        " 46  Training Error = 0.00542727001616     Validation Error = 0.00534507443493\n",
        "Epoch="
       ]
      },
      {
       "output_type": "stream",
       "stream": "stdout",
       "text": [
        " 47  Training Error = 0.00542767145349     Validation Error = 0.00534507443493\n",
        "Epoch="
       ]
      },
      {
       "output_type": "stream",
       "stream": "stdout",
       "text": [
        " 48  Training Error = 0.00542585374819     Validation Error = 0.00534507443493\n",
        "Epoch="
       ]
      },
      {
       "output_type": "stream",
       "stream": "stdout",
       "text": [
        " 49  Training Error = 0.00542639668481     Validation Error = 0.00534507443493\n",
        "Epoch="
       ]
      },
      {
       "output_type": "stream",
       "stream": "stdout",
       "text": [
        " 50  Training Error = 0.00542600586127     Validation Error = 0.00534507443493\n",
        "Epoch="
       ]
      },
      {
       "output_type": "stream",
       "stream": "stdout",
       "text": [
        " 51  Training Error = 0.00542258859088     Validation Error = 0.00539523848026\n",
        "Epoch="
       ]
      },
      {
       "output_type": "stream",
       "stream": "stdout",
       "text": [
        " 52  Training Error = 0.00542558930488     Validation Error = 0.00539523848026\n",
        "Epoch="
       ]
      },
      {
       "output_type": "stream",
       "stream": "stdout",
       "text": [
        " 53  Training Error = 0.00542138159775     Validation Error = 0.00539523848026\n",
        "Epoch="
       ]
      },
      {
       "output_type": "stream",
       "stream": "stdout",
       "text": [
        " 54  Training Error = 0.00542338014706     Validation Error = 0.00539523848026\n",
        "Epoch="
       ]
      },
      {
       "output_type": "stream",
       "stream": "stdout",
       "text": [
        " 55  Training Error = 0.00542129730242     Validation Error = 0.00539523848026\n",
        "Epoch="
       ]
      },
      {
       "output_type": "stream",
       "stream": "stdout",
       "text": [
        " 56  Training Error = 0.00542168456024     Validation Error = 0.00539523848026\n",
        "Epoch="
       ]
      },
      {
       "output_type": "stream",
       "stream": "stdout",
       "text": [
        " 57  Training Error = 0.0054199822016     Validation Error = 0.00539523848026\n",
        "Epoch="
       ]
      },
      {
       "output_type": "stream",
       "stream": "stdout",
       "text": [
        " 58  Training Error = 0.0054205180787     Validation Error = 0.00539523848026\n",
        "Epoch="
       ]
      },
      {
       "output_type": "stream",
       "stream": "stdout",
       "text": [
        " 59  Training Error = 0.00542014263324     Validation Error = 0.00539523848026\n",
        "Epoch="
       ]
      },
      {
       "output_type": "stream",
       "stream": "stdout",
       "text": [
        " 60  Training Error = 0.00541695226052     Validation Error = 0.00539523848026\n",
        "Epoch="
       ]
      },
      {
       "output_type": "stream",
       "stream": "stdout",
       "text": [
        " 61  Training Error = 0.00541977771698     Validation Error = 0.0054742228153\n",
        "Epoch="
       ]
      },
      {
       "output_type": "stream",
       "stream": "stdout",
       "text": [
        " 62  Training Error = 0.00541582384775     Validation Error = 0.0054742228153\n",
        "Epoch="
       ]
      },
      {
       "output_type": "stream",
       "stream": "stdout",
       "text": [
        " 63  Training Error = 0.00541772426433     Validation Error = 0.0054742228153\n",
        "Epoch="
       ]
      },
      {
       "output_type": "stream",
       "stream": "stdout",
       "text": [
        " 64  Training Error = 0.00541576615648     Validation Error = 0.0054742228153\n",
        "Epoch="
       ]
      },
      {
       "output_type": "stream",
       "stream": "stdout",
       "text": [
        " 65  Training Error = 0.00541613891276     Validation Error = 0.0054742228153\n",
        "Epoch="
       ]
      },
      {
       "output_type": "stream",
       "stream": "stdout",
       "text": [
        " 66  Training Error = 0.0054145441835     Validation Error = 0.0054742228153\n",
        "Epoch="
       ]
      },
      {
       "output_type": "stream",
       "stream": "stdout",
       "text": [
        " 67  Training Error = 0.0054150706656     Validation Error = 0.0054742228153\n",
        "Epoch="
       ]
      },
      {
       "output_type": "stream",
       "stream": "stdout",
       "text": [
        " 68  Training Error = 0.00541471047618     Validation Error = 0.0054742228153\n",
        "Epoch="
       ]
      },
      {
       "output_type": "stream",
       "stream": "stdout",
       "text": [
        " 69  Training Error = 0.00541173060275     Validation Error = 0.0054742228153\n",
        "Epoch="
       ]
      },
      {
       "output_type": "stream",
       "stream": "stdout",
       "text": [
        " 70  Training Error = 0.00541439113881     Validation Error = 0.0054742228153\n",
        "Epoch="
       ]
      },
      {
       "output_type": "stream",
       "stream": "stdout",
       "text": [
        " 71  Training Error = 0.00541067528543     Validation Error = 0.00538188269928\n",
        "Epoch="
       ]
      },
      {
       "output_type": "stream",
       "stream": "stdout",
       "text": [
        " 72  Training Error = 0.00541248123367     Validation Error = 0.00538188269928\n",
        "Epoch="
       ]
      },
      {
       "output_type": "stream",
       "stream": "stdout",
       "text": [
        " 73  Training Error = 0.00541064025682     Validation Error = 0.00538188269928\n",
        "Epoch="
       ]
      },
      {
       "output_type": "stream",
       "stream": "stdout",
       "text": [
        " 74  Training Error = 0.00541099833796     Validation Error = 0.00538188269928\n",
        "Epoch="
       ]
      },
      {
       "output_type": "stream",
       "stream": "stdout",
       "text": [
        " 75  Training Error = 0.00540950408337     Validation Error = 0.00538188269928\n",
        "Epoch="
       ]
      },
      {
       "output_type": "stream",
       "stream": "stdout",
       "text": [
        " 76  Training Error = 0.00541001928226     Validation Error = 0.00538188269928\n",
        "Epoch="
       ]
      },
      {
       "output_type": "stream",
       "stream": "stdout",
       "text": [
        " 77  Training Error = 0.00540967414609     Validation Error = 0.00538188269928\n",
        "Epoch="
       ]
      },
      {
       "output_type": "stream",
       "stream": "stdout",
       "text": [
        " 78  Training Error = 0.00540688968912     Validation Error = 0.00538188269928\n",
        "Epoch="
       ]
      },
      {
       "output_type": "stream",
       "stream": "stdout",
       "text": [
        " 79  Training Error = 0.0054093950251     Validation Error = 0.00538188269928\n",
        "Epoch="
       ]
      },
      {
       "output_type": "stream",
       "stream": "stdout",
       "text": [
        " 80  Training Error = 0.00540590240448     Validation Error = 0.00538188269928\n",
        "Epoch="
       ]
      },
      {
       "output_type": "stream",
       "stream": "stdout",
       "text": [
        " 81  Training Error = 0.00540761756757     Validation Error = 0.00534205852143\n",
        "Epoch="
       ]
      },
      {
       "output_type": "stream",
       "stream": "stdout",
       "text": [
        " 82  Training Error = 0.00540588659759     Validation Error = 0.00534205852143\n",
        "Epoch="
       ]
      },
      {
       "output_type": "stream",
       "stream": "stdout",
       "text": [
        " 83  Training Error = 0.00540622995511     Validation Error = 0.00534205852143\n",
        "Epoch="
       ]
      },
      {
       "output_type": "stream",
       "stream": "stdout",
       "text": [
        " 84  Training Error = 0.00540482953748     Validation Error = 0.00534205852143\n",
        "Epoch="
       ]
      },
      {
       "output_type": "stream",
       "stream": "stdout",
       "text": [
        " 85  Training Error = 0.00540533195085     Validation Error = 0.00534205852143\n",
        "Epoch="
       ]
      },
      {
       "output_type": "stream",
       "stream": "stdout",
       "text": [
        " 86  Training Error = 0.00540500159907     Validation Error = 0.00534205852143\n",
        "Epoch="
       ]
      },
      {
       "output_type": "stream",
       "stream": "stdout",
       "text": [
        " 87  Training Error = 0.00540239867384     Validation Error = 0.00534205852143\n",
        "Epoch="
       ]
      },
      {
       "output_type": "stream",
       "stream": "stdout",
       "text": [
        " 88  Training Error = 0.00540475795084     Validation Error = 0.00534205852143\n",
        "Epoch="
       ]
      },
      {
       "output_type": "stream",
       "stream": "stdout",
       "text": [
        " 89  Training Error = 0.00540147474509     Validation Error = 0.00534205852143\n",
        "Epoch="
       ]
      },
      {
       "output_type": "stream",
       "stream": "stdout",
       "text": [
        " 90  Training Error = 0.00540310279759     Validation Error = 0.00534205852143\n",
        "Epoch="
       ]
      },
      {
       "output_type": "stream",
       "stream": "stdout",
       "text": [
        " 91  Training Error = 0.00540147515954     Validation Error = 0.00545301389809\n",
        "Epoch="
       ]
      },
      {
       "output_type": "stream",
       "stream": "stdout",
       "text": [
        " 92  Training Error = 0.00540180384983     Validation Error = 0.00545301389809\n",
        "Epoch="
       ]
      },
      {
       "output_type": "stream",
       "stream": "stdout",
       "text": [
        " 93  Training Error = 0.00540287606417     Validation Error = 0.00545301389809\n",
        "Epoch="
       ]
      },
      {
       "output_type": "stream",
       "stream": "stdout",
       "text": [
        " 94  Training Error = 0.00555693765271     Validation Error = 0.00545301389809\n",
        "Epoch="
       ]
      },
      {
       "output_type": "stream",
       "stream": "stdout",
       "text": [
        " 95  Training Error = 0.00557080689358     Validation Error = 0.00545301389809\n",
        "Epoch="
       ]
      },
      {
       "output_type": "stream",
       "stream": "stdout",
       "text": [
        " 96  Training Error = 0.00557596979377     Validation Error = 0.00545301389809\n",
        "Epoch="
       ]
      },
      {
       "output_type": "stream",
       "stream": "stdout",
       "text": [
        " 97  Training Error = 0.00559944263172     Validation Error = 0.00545301389809\n",
        "Epoch="
       ]
      },
      {
       "output_type": "stream",
       "stream": "stdout",
       "text": [
        " 98  Training Error = 0.00559944232293     Validation Error = 0.00545301389809\n",
        "Epoch="
       ]
      },
      {
       "output_type": "stream",
       "stream": "stdout",
       "text": [
        " 99  Training Error = 0.00559845657953     Validation Error = 0.00545301389809\n",
        "Epoch="
       ]
      },
      {
       "output_type": "stream",
       "stream": "stdout",
       "text": [
        " 100  Training Error = 0.00559811460954     Validation Error = 0.00545301389809\n",
        "Epoch="
       ]
      },
      {
       "output_type": "stream",
       "stream": "stdout",
       "text": [
        " 101  Training Error = 0.00559811633817     Validation Error = 0.00561877091759\n",
        "Epoch="
       ]
      },
      {
       "output_type": "stream",
       "stream": "stdout",
       "text": [
        " 102  Training Error = 0.00559715051317     Validation Error = 0.00561877091759\n",
        "Epoch="
       ]
      },
      {
       "output_type": "stream",
       "stream": "stdout",
       "text": [
        " 103  Training Error = 0.00559681833808     Validation Error = 0.00561877091759\n",
        "Epoch="
       ]
      },
      {
       "output_type": "stream",
       "stream": "stdout",
       "text": [
        " 104  Training Error = 0.00559682193737     Validation Error = 0.00561877091759\n",
        "Epoch="
       ]
      },
      {
       "output_type": "stream",
       "stream": "stdout",
       "text": [
        " 105  Training Error = 0.00559587555377     Validation Error = 0.00561877091759\n",
        "Epoch="
       ]
      },
      {
       "output_type": "stream",
       "stream": "stdout",
       "text": [
        " 106  Training Error = 0.00559555297469     Validation Error = 0.00561877091759\n",
        "Epoch="
       ]
      },
      {
       "output_type": "stream",
       "stream": "stdout",
       "text": [
        " 107  Training Error = 0.00559555828615     Validation Error = 0.00561877091759\n",
        "Epoch="
       ]
      },
      {
       "output_type": "stream",
       "stream": "stdout",
       "text": [
        " 108  Training Error = 0.00559463087964     Validation Error = 0.00561877091759\n",
        "Epoch="
       ]
      },
      {
       "output_type": "stream",
       "stream": "stdout",
       "text": [
        " 109  Training Error = 0.00559431770181     Validation Error = 0.00561877091759\n",
        "Epoch="
       ]
      },
      {
       "output_type": "stream",
       "stream": "stdout",
       "text": [
        " 110  Training Error = 0.00559432457486     Validation Error = 0.00561877091759\n",
        "Epoch="
       ]
      },
      {
       "output_type": "stream",
       "stream": "stdout",
       "text": [
        " 111  Training Error = 0.00559341569345     Validation Error = 0.00560785156715\n",
        "Epoch="
       ]
      },
      {
       "output_type": "stream",
       "stream": "stdout",
       "text": [
        " 112  Training Error = 0.00559311172615     Validation Error = 0.00560785156715\n",
        "Epoch="
       ]
      },
      {
       "output_type": "stream",
       "stream": "stdout",
       "text": [
        " 113  Training Error = 0.00559312001776     Validation Error = 0.00560785156715\n",
        "Epoch="
       ]
      },
      {
       "output_type": "stream",
       "stream": "stdout",
       "text": [
        " 114  Training Error = 0.00559222922138     Validation Error = 0.00560785156715\n",
        "Epoch="
       ]
      },
      {
       "output_type": "stream",
       "stream": "stdout",
       "text": [
        " 115  Training Error = 0.00559193427783     Validation Error = 0.00560785156715\n",
        "Epoch="
       ]
      },
      {
       "output_type": "stream",
       "stream": "stdout",
       "text": [
        " 116  Training Error = 0.00559194385222     Validation Error = 0.00560785156715\n",
        "Epoch="
       ]
      },
      {
       "output_type": "stream",
       "stream": "stdout",
       "text": [
        " 117  Training Error = 0.0055910707124     Validation Error = 0.00560785156715\n",
        "Epoch="
       ]
      },
      {
       "output_type": "stream",
       "stream": "stdout",
       "text": [
        " 118  Training Error = 0.00559078460971     Validation Error = 0.00560785156715\n",
        "Epoch="
       ]
      },
      {
       "output_type": "stream",
       "stream": "stdout",
       "text": [
        " 119  Training Error = 0.00559079533801     Validation Error = 0.00560785156715\n",
        "Epoch="
       ]
      },
      {
       "output_type": "stream",
       "stream": "stdout",
       "text": [
        " 120  Training Error = 0.00558993943751     Validation Error = 0.00560785156715\n",
        "Epoch="
       ]
      },
      {
       "output_type": "stream",
       "stream": "stdout",
       "text": [
        " 121  Training Error = 0.00558966199657     Validation Error = 0.00556612474184\n",
        "Epoch="
       ]
      },
      {
       "output_type": "stream",
       "stream": "stdout",
       "text": [
        " 122  Training Error = 0.0055896737565     Validation Error = 0.00556612474184\n",
        "Epoch="
       ]
      },
      {
       "output_type": "stream",
       "stream": "stdout",
       "text": [
        " 123  Training Error = 0.00558883468901     Validation Error = 0.00556612474184\n",
        "Epoch="
       ]
      },
      {
       "output_type": "stream",
       "stream": "stdout",
       "text": [
        " 124  Training Error = 0.00558856573441     Validation Error = 0.00556612474184\n",
        "Epoch="
       ]
      },
      {
       "output_type": "stream",
       "stream": "stdout",
       "text": [
        " 125  Training Error = 0.00558857841005     Validation Error = 0.00556612474184\n",
        "Epoch="
       ]
      },
      {
       "output_type": "stream",
       "stream": "stdout",
       "text": [
        " 126  Training Error = 0.00558775577984     Validation Error = 0.00556612474184\n",
        "Epoch="
       ]
      },
      {
       "output_type": "stream",
       "stream": "stdout",
       "text": [
        " 127  Training Error = 0.00558749513978     Validation Error = 0.00556612474184\n",
        "Epoch="
       ]
      },
      {
       "output_type": "stream",
       "stream": "stdout",
       "text": [
        " 128  Training Error = 0.00558750862125     Validation Error = 0.00556612474184\n",
        "Epoch="
       ]
      },
      {
       "output_type": "stream",
       "stream": "stdout",
       "text": [
        " 129  Training Error = 0.00558670204288     Validation Error = 0.00556612474184\n",
        "Epoch="
       ]
      },
      {
       "output_type": "stream",
       "stream": "stdout",
       "text": [
        " 130  Training Error = 0.00558644954913     Validation Error = 0.00556612474184\n",
        "Epoch="
       ]
      },
      {
       "output_type": "stream",
       "stream": "stdout",
       "text": [
        " 131  Training Error = 0.0055864637323     Validation Error = 0.00560576352714\n",
        "Epoch="
       ]
      },
      {
       "output_type": "stream",
       "stream": "stdout",
       "text": [
        " 132  Training Error = 0.00558567283032     Validation Error = 0.00560576352714\n",
        "Epoch="
       ]
      },
      {
       "output_type": "stream",
       "stream": "stdout",
       "text": [
        " 133  Training Error = 0.00558542831811     Validation Error = 0.00560576352714\n",
        "Epoch="
       ]
      },
      {
       "output_type": "stream",
       "stream": "stdout",
       "text": [
        " 134  Training Error = 0.00558544310439     Validation Error = 0.00560576352714\n",
        "Epoch="
       ]
      },
      {
       "output_type": "stream",
       "stream": "stdout",
       "text": [
        " 135  Training Error = 0.00558466751303     Validation Error = 0.00560576352714\n",
        "Epoch="
       ]
      },
      {
       "output_type": "stream",
       "stream": "stdout",
       "text": [
        " 136  Training Error = 0.00558443082099     Validation Error = 0.00560576352714\n",
        "Epoch="
       ]
      },
      {
       "output_type": "stream",
       "stream": "stdout",
       "text": [
        " 137  Training Error = 0.00558444611707     Validation Error = 0.00560576352714\n",
        "Epoch="
       ]
      },
      {
       "output_type": "stream",
       "stream": "stdout",
       "text": [
        " 138  Training Error = 0.00558368547998     Validation Error = 0.00560576352714\n",
        "Epoch="
       ]
      },
      {
       "output_type": "stream",
       "stream": "stdout",
       "text": [
        " 139  Training Error = 0.00558345645006     Validation Error = 0.00560576352714\n",
        "Epoch="
       ]
      },
      {
       "output_type": "stream",
       "stream": "stdout",
       "text": [
        " 140  Training Error = 0.00558347216768     Validation Error = 0.00560576352714\n",
        "Epoch="
       ]
      },
      {
       "output_type": "stream",
       "stream": "stdout",
       "text": [
        " 141  Training Error = 0.00558272613765     Validation Error = 0.00559354410865\n",
        "Epoch="
       ]
      },
      {
       "output_type": "stream",
       "stream": "stdout",
       "text": [
        " 142  Training Error = 0.00558250461505     Validation Error = 0.00559354410865\n",
        "Epoch="
       ]
      },
      {
       "output_type": "stream",
       "stream": "stdout",
       "text": [
        " 143  Training Error = 0.00558252067075     Validation Error = 0.00559354410865\n",
        "Epoch="
       ]
      },
      {
       "output_type": "stream",
       "stream": "stdout",
       "text": [
        " 144  Training Error = 0.00558178890944     Validation Error = 0.00559354410865\n",
        "Epoch="
       ]
      },
      {
       "output_type": "stream",
       "stream": "stdout",
       "text": [
        " 145  Training Error = 0.00558157474257     Validation Error = 0.00559354410865\n",
        "Epoch="
       ]
      },
      {
       "output_type": "stream",
       "stream": "stdout",
       "text": [
        " 146  Training Error = 0.00558159105749     Validation Error = 0.00559354410865\n",
        "Epoch="
       ]
      },
      {
       "output_type": "stream",
       "stream": "stdout",
       "text": [
        " 147  Training Error = 0.00558087323521     Validation Error = 0.00559354410865\n",
        "Epoch="
       ]
      },
      {
       "output_type": "stream",
       "stream": "stdout",
       "text": [
        " 148  Training Error = 0.00558066627556     Validation Error = 0.00559354410865\n",
        "Epoch="
       ]
      },
      {
       "output_type": "stream",
       "stream": "stdout",
       "text": [
        " 149  Training Error = 0.00558068277524     Validation Error = 0.00559354410865\n",
        "Epoch="
       ]
      },
      {
       "output_type": "stream",
       "stream": "stdout",
       "text": [
        " 150  Training Error = 0.00557997857065     Validation Error = 0.00559354410865\n",
        "Epoch="
       ]
      },
      {
       "output_type": "stream",
       "stream": "stdout",
       "text": [
        " 151  Training Error = 0.0055797786728     Validation Error = 0.00556089306593\n",
        "Epoch="
       ]
      },
      {
       "output_type": "stream",
       "stream": "stdout",
       "text": [
        " 152  Training Error = 0.00557979528697     Validation Error = 0.00556089306593\n",
        "Epoch="
       ]
      },
      {
       "output_type": "stream",
       "stream": "stdout",
       "text": [
        " 153  Training Error = 0.00557910438689     Validation Error = 0.00556089306593\n",
        "Epoch="
       ]
      },
      {
       "output_type": "stream",
       "stream": "stdout",
       "text": [
        " 154  Training Error = 0.00557891140836     Validation Error = 0.00556089306593\n",
        "Epoch="
       ]
      },
      {
       "output_type": "stream",
       "stream": "stdout",
       "text": [
        " 155  Training Error = 0.00557892807077     Validation Error = 0.00556089306593\n",
        "Epoch="
       ]
      },
      {
       "output_type": "stream",
       "stream": "stdout",
       "text": [
        " 156  Training Error = 0.00557825016993     Validation Error = 0.00556089306593\n",
        "Epoch="
       ]
      },
      {
       "output_type": "stream",
       "stream": "stdout",
       "text": [
        " 157  Training Error = 0.0055780639712     Validation Error = 0.00556089306593\n",
        "Epoch="
       ]
      },
      {
       "output_type": "stream",
       "stream": "stdout",
       "text": [
        " 158  Training Error = 0.0055780806194     Validation Error = 0.00556089306593\n",
        "Epoch="
       ]
      },
      {
       "output_type": "stream",
       "stream": "stdout",
       "text": [
        " 159  Training Error = 0.0055774154202     Validation Error = 0.00556089306593\n",
        "Epoch="
       ]
      },
      {
       "output_type": "stream",
       "stream": "stdout",
       "text": [
        " 160  Training Error = 0.00557723586459     Validation Error = 0.00556089306593\n",
        "Epoch="
       ]
      },
      {
       "output_type": "stream",
       "stream": "stdout",
       "text": [
        " 161  Training Error = 0.00557725243981     Validation Error = 0.00559516998809\n",
        "Epoch="
       ]
      },
      {
       "output_type": "stream",
       "stream": "stdout",
       "text": [
        " 162  Training Error = 0.00557659965212     Validation Error = 0.00559516998809\n",
        "Epoch="
       ]
      },
      {
       "output_type": "stream",
       "stream": "stdout",
       "text": [
        " 163  Training Error = 0.00557642660577     Validation Error = 0.00559516998809\n",
        "Epoch="
       ]
      },
      {
       "output_type": "stream",
       "stream": "stdout",
       "text": [
        " 164  Training Error = 0.00557644305269     Validation Error = 0.00559516998809\n",
        "Epoch="
       ]
      },
      {
       "output_type": "stream",
       "stream": "stdout",
       "text": [
        " 165  Training Error = 0.00557580239365     Validation Error = 0.00559516998809\n",
        "Epoch="
       ]
      },
      {
       "output_type": "stream",
       "stream": "stdout",
       "text": [
        " 166  Training Error = 0.00557563572542     Validation Error = 0.00559516998809\n",
        "Epoch="
       ]
      },
      {
       "output_type": "stream",
       "stream": "stdout",
       "text": [
        " 167  Training Error = 0.00557565199207     Validation Error = 0.00559516998809\n",
        "Epoch="
       ]
      },
      {
       "output_type": "stream",
       "stream": "stdout",
       "text": [
        " 168  Training Error = 0.00557502318586     Validation Error = 0.00559516998809\n",
        "Epoch="
       ]
      },
      {
       "output_type": "stream",
       "stream": "stdout",
       "text": [
        " 169  Training Error = 0.00557486276731     Validation Error = 0.00559516998809\n",
        "Epoch="
       ]
      },
      {
       "output_type": "stream",
       "stream": "stdout",
       "text": [
        " 170  Training Error = 0.00557487880488     Validation Error = 0.00559516998809\n",
        "Epoch="
       ]
      },
      {
       "output_type": "stream",
       "stream": "stdout",
       "text": [
        " 171  Training Error = 0.00557426158256     Validation Error = 0.00558204075032\n",
        "Epoch="
       ]
      },
      {
       "output_type": "stream",
       "stream": "stdout",
       "text": [
        " 172  Training Error = 0.00557410728787     Validation Error = 0.00558204075032\n",
        "Epoch="
       ]
      },
      {
       "output_type": "stream",
       "stream": "stdout",
       "text": [
        " 173  Training Error = 0.00557412305055     Validation Error = 0.00558204075032\n",
        "Epoch="
       ]
      },
      {
       "output_type": "stream",
       "stream": "stdout",
       "text": [
        " 174  Training Error = 0.00557351714984     Validation Error = 0.00558204075032\n",
        "Epoch="
       ]
      },
      {
       "output_type": "stream",
       "stream": "stdout",
       "text": [
        " 175  Training Error = 0.00557336885576     Validation Error = 0.00558204075032\n",
        "Epoch="
       ]
      },
      {
       "output_type": "stream",
       "stream": "stdout",
       "text": [
        " 176  Training Error = 0.00557338430065     Validation Error = 0.00558204075032\n",
        "Epoch="
       ]
      },
      {
       "output_type": "stream",
       "stream": "stdout",
       "text": [
        " 177  Training Error = 0.00557278946575     Validation Error = 0.00558204075032\n",
        "Epoch="
       ]
      },
      {
       "output_type": "stream",
       "stream": "stdout",
       "text": [
        " 178  Training Error = 0.00557264705155     Validation Error = 0.00558204075032\n",
        "Epoch="
       ]
      },
      {
       "output_type": "stream",
       "stream": "stdout",
       "text": [
        " 179  Training Error = 0.0055726621385     Validation Error = 0.00558204075032\n",
        "Epoch="
       ]
      },
      {
       "output_type": "stream",
       "stream": "stdout",
       "text": [
        " 180  Training Error = 0.00557207811991     Validation Error = 0.00558204075032\n",
        "Epoch="
       ]
      },
      {
       "output_type": "stream",
       "stream": "stdout",
       "text": [
        " 181  Training Error = 0.00557194146732     Validation Error = 0.0055571445421\n",
        "Epoch="
       ]
      },
      {
       "output_type": "stream",
       "stream": "stdout",
       "text": [
        " 182  Training Error = 0.00557195615878     Validation Error = 0.0055571445421\n",
        "Epoch="
       ]
      },
      {
       "output_type": "stream",
       "stream": "stdout",
       "text": [
        " 183  Training Error = 0.00557138271314     Validation Error = 0.0055571445421\n",
        "Epoch="
       ]
      },
      {
       "output_type": "stream",
       "stream": "stdout",
       "text": [
        " 184  Training Error = 0.00557125170632     Validation Error = 0.0055571445421\n",
        "Epoch="
       ]
      },
      {
       "output_type": "stream",
       "stream": "stdout",
       "text": [
        " 185  Training Error = 0.00557126596723     Validation Error = 0.0055571445421\n",
        "Epoch="
       ]
      },
      {
       "output_type": "stream",
       "stream": "stdout",
       "text": [
        " 186  Training Error = 0.00557070285715     Validation Error = 0.0055571445421\n",
        "Epoch="
       ]
      },
      {
       "output_type": "stream",
       "stream": "stdout",
       "text": [
        " 187  Training Error = 0.0055705773826     Validation Error = 0.0055571445421\n",
        "Epoch="
       ]
      },
      {
       "output_type": "stream",
       "stream": "stdout",
       "text": [
        " 188  Training Error = 0.0055705911803     Validation Error = 0.0055571445421\n",
        "Epoch="
       ]
      },
      {
       "output_type": "stream",
       "stream": "stdout",
       "text": [
        " 189  Training Error = 0.00557003817418     Validation Error = 0.0055571445421\n",
        "Epoch="
       ]
      },
      {
       "output_type": "stream",
       "stream": "stdout",
       "text": [
        " 190  Training Error = 0.00556991812073     Validation Error = 0.0055571445421\n",
        "Epoch="
       ]
      },
      {
       "output_type": "stream",
       "stream": "stdout",
       "text": [
        " 191  Training Error = 0.00556993142481     Validation Error = 0.0055865342978\n",
        "Epoch="
       ]
      },
      {
       "output_type": "stream",
       "stream": "stdout",
       "text": [
        " 192  Training Error = 0.00556938829669     Validation Error = 0.0055865342978\n",
        "Epoch="
       ]
      },
      {
       "output_type": "stream",
       "stream": "stdout",
       "text": [
        " 193  Training Error = 0.00556927355543     Validation Error = 0.0055865342978\n",
        "Epoch="
       ]
      },
      {
       "output_type": "stream",
       "stream": "stdout",
       "text": [
        " 194  Training Error = 0.00556928633763     Validation Error = 0.0055865342978\n",
        "Epoch="
       ]
      },
      {
       "output_type": "stream",
       "stream": "stdout",
       "text": [
        " 195  Training Error = 0.00556875286705     Validation Error = 0.0055865342978\n",
        "Epoch="
       ]
      },
      {
       "output_type": "stream",
       "stream": "stdout",
       "text": [
        " 196  Training Error = 0.00556864333127     Validation Error = 0.0055865342978\n",
        "Epoch="
       ]
      },
      {
       "output_type": "stream",
       "stream": "stdout",
       "text": [
        " 197  Training Error = 0.0055686555654     Validation Error = 0.0055865342978\n",
        "Epoch="
       ]
      },
      {
       "output_type": "stream",
       "stream": "stdout",
       "text": [
        " 198  Training Error = 0.00556813153723     Validation Error = 0.0055865342978\n",
        "Epoch="
       ]
      },
      {
       "output_type": "stream",
       "stream": "stdout",
       "text": [
        " 199  Training Error = 0.00556802710242     Validation Error = 0.0055865342978\n",
        "Epoch="
       ]
      },
      {
       "output_type": "stream",
       "stream": "stdout",
       "text": [
        " 200  Training Error = 0.00556803876422     Validation Error = 0.0055865342978\n",
        "Epoch="
       ]
      },
      {
       "output_type": "stream",
       "stream": "stdout",
       "text": [
        " 201  Training Error = 0.00556752396853     Validation Error = 0.00557276380393\n",
        "Epoch="
       ]
      },
      {
       "output_type": "stream",
       "stream": "stdout",
       "text": [
        " 202  Training Error = 0.0055674245323     Validation Error = 0.00557276380393\n",
        "Epoch="
       ]
      },
      {
       "output_type": "stream",
       "stream": "stdout",
       "text": [
        " 203  Training Error = 0.00556743559938     Validation Error = 0.00557276380393\n",
        "Epoch="
       ]
      },
      {
       "output_type": "stream",
       "stream": "stdout",
       "text": [
        " 204  Training Error = 0.0055669298313     Validation Error = 0.00557276380393\n",
        "Epoch="
       ]
      },
      {
       "output_type": "stream",
       "stream": "stdout",
       "text": [
        " 205  Training Error = 0.00556683529333     Validation Error = 0.00557276380393\n",
        "Epoch="
       ]
      },
      {
       "output_type": "stream",
       "stream": "stdout",
       "text": [
        " 206  Training Error = 0.00556684574507     Validation Error = 0.00557276380393\n",
        "Epoch="
       ]
      },
      {
       "output_type": "stream",
       "stream": "stdout",
       "text": [
        " 207  Training Error = 0.00556634880465     Validation Error = 0.00557276380393\n",
        "Epoch="
       ]
      },
      {
       "output_type": "stream",
       "stream": "stdout",
       "text": [
        " 208  Training Error = 0.00556625906666     Validation Error = 0.00557276380393\n",
        "Epoch="
       ]
      },
      {
       "output_type": "stream",
       "stream": "stdout",
       "text": [
        " 209  Training Error = 0.00556626888411     Validation Error = 0.00557276380393\n",
        "Epoch="
       ]
      },
      {
       "output_type": "stream",
       "stream": "stdout",
       "text": [
        " 210  Training Error = 0.00556578057619     Validation Error = 0.00557276380393\n",
        "Epoch="
       ]
      },
      {
       "output_type": "stream",
       "stream": "stdout",
       "text": [
        " 211  Training Error = 0.0055656955419     Validation Error = 0.00555443389688\n",
        "Epoch="
       ]
      },
      {
       "output_type": "stream",
       "stream": "stdout",
       "text": [
        " 212  Training Error = 0.00556570470772     Validation Error = 0.00555443389688\n",
        "Epoch="
       ]
      },
      {
       "output_type": "stream",
       "stream": "stdout",
       "text": [
        " 213  Training Error = 0.0055652248418     Validation Error = 0.00555443389688\n",
        "Epoch="
       ]
      },
      {
       "output_type": "stream",
       "stream": "stdout",
       "text": [
        " 214  Training Error = 0.00556514441688     Validation Error = 0.00555443389688\n",
        "Epoch="
       ]
      },
      {
       "output_type": "stream",
       "stream": "stdout",
       "text": [
        " 215  Training Error = 0.00556515291524     Validation Error = 0.00555443389688\n",
        "Epoch="
       ]
      },
      {
       "output_type": "stream",
       "stream": "stdout",
       "text": [
        " 216  Training Error = 0.00556468130536     Validation Error = 0.00555443389688\n",
        "Epoch="
       ]
      },
      {
       "output_type": "stream",
       "stream": "stdout",
       "text": [
        " 217  Training Error = 0.00556460539741     Validation Error = 0.00555443389688\n",
        "Epoch="
       ]
      },
      {
       "output_type": "stream",
       "stream": "stdout",
       "text": [
        " 218  Training Error = 0.0055646132139     Validation Error = 0.00555443389688\n",
        "Epoch="
       ]
      },
      {
       "output_type": "stream",
       "stream": "stdout",
       "text": [
        " 219  Training Error = 0.00556414967853     Validation Error = 0.00555443389688\n",
        "Epoch="
       ]
      },
      {
       "output_type": "stream",
       "stream": "stdout",
       "text": [
        " 220  Training Error = 0.005564078197     Validation Error = 0.00555443389688\n",
        "Epoch="
       ]
      },
      {
       "output_type": "stream",
       "stream": "stdout",
       "text": [
        " 221  Training Error = 0.00556408531862     Validation Error = 0.00557948918892\n",
        "Epoch="
       ]
      },
      {
       "output_type": "stream",
       "stream": "stdout",
       "text": [
        " 222  Training Error = 0.00556362968051     Validation Error = 0.00557948918892\n",
        "Epoch="
       ]
      },
      {
       "output_type": "stream",
       "stream": "stdout",
       "text": [
        " 223  Training Error = 0.00556356253671     Validation Error = 0.00557948918892\n",
        "Epoch="
       ]
      },
      {
       "output_type": "stream",
       "stream": "stdout",
       "text": [
        " 224  Training Error = 0.00556356895173     Validation Error = 0.00557948918892\n",
        "Epoch="
       ]
      },
      {
       "output_type": "stream",
       "stream": "stdout",
       "text": [
        " 225  Training Error = 0.00556312103784     Validation Error = 0.00557948918892\n",
        "Epoch="
       ]
      },
      {
       "output_type": "stream",
       "stream": "stdout",
       "text": [
        " 226  Training Error = 0.00556305814486     Validation Error = 0.00557948918892\n",
        "Epoch="
       ]
      },
      {
       "output_type": "stream",
       "stream": "stdout",
       "text": [
        " 227  Training Error = 0.00556306384278     Validation Error = 0.00557948918892\n",
        "Epoch="
       ]
      },
      {
       "output_type": "stream",
       "stream": "stdout",
       "text": [
        " 228  Training Error = 0.00556262348414     Validation Error = 0.00557948918892\n",
        "Epoch="
       ]
      },
      {
       "output_type": "stream",
       "stream": "stdout",
       "text": [
        " 229  Training Error = 0.00556256475684     Validation Error = 0.00557948918892\n",
        "Epoch="
       ]
      },
      {
       "output_type": "stream",
       "stream": "stdout",
       "text": [
        " 230  Training Error = 0.00556256972834     Validation Error = 0.00557948918892\n",
        "Epoch="
       ]
      },
      {
       "output_type": "stream",
       "stream": "stdout",
       "text": [
        " 231  Training Error = 0.00556213675997     Validation Error = 0.00556526316158\n",
        "Epoch="
       ]
      },
      {
       "output_type": "stream",
       "stream": "stdout",
       "text": [
        " 232  Training Error = 0.00556208211492     Validation Error = 0.00556526316158\n",
        "Epoch="
       ]
      },
      {
       "output_type": "stream",
       "stream": "stdout",
       "text": [
        " 233  Training Error = 0.00556208635178     Validation Error = 0.00556526316158\n",
        "Epoch="
       ]
      },
      {
       "output_type": "stream",
       "stream": "stdout",
       "text": [
        " 234  Training Error = 0.00556166061255     Validation Error = 0.00556526316158\n",
        "Epoch="
       ]
      },
      {
       "output_type": "stream",
       "stream": "stdout",
       "text": [
        " 235  Training Error = 0.00556160996802     Validation Error = 0.00556526316158\n",
        "Epoch="
       ]
      },
      {
       "output_type": "stream",
       "stream": "stdout",
       "text": [
        " 236  Training Error = 0.00556161346309     Validation Error = 0.00556526316158\n",
        "Epoch="
       ]
      },
      {
       "output_type": "stream",
       "stream": "stdout",
       "text": [
        " 237  Training Error = 0.00556119479564     Validation Error = 0.00556526316158\n",
        "Epoch="
       ]
      },
      {
       "output_type": "stream",
       "stream": "stdout",
       "text": [
        " 238  Training Error = 0.00556114807156     Validation Error = 0.00556526316158\n",
        "Epoch="
       ]
      },
      {
       "output_type": "stream",
       "stream": "stdout",
       "text": [
        " 239  Training Error = 0.00556115081865     Validation Error = 0.00556526316158\n",
        "Epoch="
       ]
      },
      {
       "output_type": "stream",
       "stream": "stdout",
       "text": [
        " 240  Training Error = 0.00556073906931     Validation Error = 0.00556526316158\n",
        "Epoch="
       ]
      },
      {
       "output_type": "stream",
       "stream": "stdout",
       "text": [
        " 241  Training Error = 0.00556069618721     Validation Error = 0.00555245478265\n",
        "Epoch="
       ]
      },
      {
       "output_type": "stream",
       "stream": "stdout",
       "text": [
        " 242  Training Error = 0.00554507598455     Validation Error = 0.00555245478265\n",
        "Epoch="
       ]
      },
      {
       "output_type": "stream",
       "stream": "stdout",
       "text": [
        " 243  Training Error = 0.00553729322198     Validation Error = 0.00555245478265\n",
        "Epoch="
       ]
      },
      {
       "output_type": "stream",
       "stream": "stdout",
       "text": [
        " 244  Training Error = 0.00553725460977     Validation Error = 0.00555245478265\n",
        "Epoch="
       ]
      },
      {
       "output_type": "stream",
       "stream": "stdout",
       "text": [
        " 245  Training Error = 0.0055372546593     Validation Error = 0.00555245478265\n",
        "Epoch="
       ]
      },
      {
       "output_type": "stream",
       "stream": "stdout",
       "text": [
        " 246  Training Error = 0.00553685663516     Validation Error = 0.00555245478265\n",
        "Epoch="
       ]
      },
      {
       "output_type": "stream",
       "stream": "stdout",
       "text": [
        " 247  Training Error = 0.00553682170318     Validation Error = 0.00555245478265\n",
        "Epoch="
       ]
      },
      {
       "output_type": "stream",
       "stream": "stdout",
       "text": [
        " 248  Training Error = 0.00553682101698     Validation Error = 0.00555245478265\n",
        "Epoch="
       ]
      },
      {
       "output_type": "stream",
       "stream": "stdout",
       "text": [
        " 249  Training Error = 0.00553642946637     Validation Error = 0.00555245478265\n",
        "Epoch="
       ]
      },
      {
       "output_type": "stream",
       "stream": "stdout",
       "text": [
        " 250  Training Error = 0.00553639814099     Validation Error = 0.00555245478265\n",
        "Epoch="
       ]
      },
      {
       "output_type": "stream",
       "stream": "stdout",
       "text": [
        " 251  Training Error = 0.00553639671579     Validation Error = 0.00555070048472\n",
        "Epoch="
       ]
      },
      {
       "output_type": "stream",
       "stream": "stdout",
       "text": [
        " 252  Training Error = 0.00553601149881     Validation Error = 0.00555070048472\n",
        "Epoch="
       ]
      },
      {
       "output_type": "stream",
       "stream": "stdout",
       "text": [
        " 253  Training Error = 0.00553598370787     Validation Error = 0.00555070048472\n",
        "Epoch="
       ]
      },
      {
       "output_type": "stream",
       "stream": "stdout",
       "text": [
        " 254  Training Error = 0.00553598154118     Validation Error = 0.00555070048472\n",
        "Epoch="
       ]
      },
      {
       "output_type": "stream",
       "stream": "stdout",
       "text": [
        " 255  Training Error = 0.00553560252116     Validation Error = 0.00555070048472\n",
        "Epoch="
       ]
      },
      {
       "output_type": "stream",
       "stream": "stdout",
       "text": [
        " 256  Training Error = 0.00553557819399     Validation Error = 0.00555070048472\n",
        "Epoch="
       ]
      },
      {
       "output_type": "stream",
       "stream": "stdout",
       "text": [
        " 257  Training Error = 0.00553557528402     Validation Error = 0.00555070048472\n",
        "Epoch="
       ]
      },
      {
       "output_type": "stream",
       "stream": "stdout",
       "text": [
        " 258  Training Error = 0.00554142506788     Validation Error = 0.00555070048472\n",
        "Epoch="
       ]
      },
      {
       "output_type": "stream",
       "stream": "stdout",
       "text": [
        " 259  Training Error = 0.00552721631155     Validation Error = 0.00555070048472\n",
        "Epoch="
       ]
      },
      {
       "output_type": "stream",
       "stream": "stdout",
       "text": [
        " 260  Training Error = 0.00551240897869     Validation Error = 0.00555070048472\n",
        "Epoch="
       ]
      },
      {
       "output_type": "stream",
       "stream": "stdout",
       "text": [
        " 261  Training Error = 0.00551179903357     Validation Error = 0.00548646382754\n",
        "Epoch="
       ]
      },
      {
       "output_type": "stream",
       "stream": "stdout",
       "text": [
        " 262  Training Error = 0.00551187143426     Validation Error = 0.00548646382754\n",
        "Epoch="
       ]
      },
      {
       "output_type": "stream",
       "stream": "stdout",
       "text": [
        " 263  Training Error = 0.00551195617737     Validation Error = 0.00548646382754\n",
        "Epoch="
       ]
      },
      {
       "output_type": "stream",
       "stream": "stdout",
       "text": [
        " 264  Training Error = 0.00551135811474     Validation Error = 0.00548646382754\n",
        "Epoch="
       ]
      },
      {
       "output_type": "stream",
       "stream": "stdout",
       "text": [
        " 265  Training Error = 0.00551142952717     Validation Error = 0.00548646382754\n",
        "Epoch="
       ]
      },
      {
       "output_type": "stream",
       "stream": "stdout",
       "text": [
        " 266  Training Error = 0.00551151290941     Validation Error = 0.00548646382754\n",
        "Epoch="
       ]
      },
      {
       "output_type": "stream",
       "stream": "stdout",
       "text": [
        " 267  Training Error = 0.00551092649038     Validation Error = 0.00548646382754\n",
        "Epoch="
       ]
      },
      {
       "output_type": "stream",
       "stream": "stdout",
       "text": [
        " 268  Training Error = 0.00551099692228     Validation Error = 0.00548646382754\n",
        "Epoch="
       ]
      },
      {
       "output_type": "stream",
       "stream": "stdout",
       "text": [
        " 269  Training Error = 0.00551107896381     Validation Error = 0.00548646382754\n",
        "Epoch="
       ]
      },
      {
       "output_type": "stream",
       "stream": "stdout",
       "text": [
        " 270  Training Error = 0.00551050395435     Validation Error = 0.00548646382754\n",
        "Epoch="
       ]
      },
      {
       "output_type": "stream",
       "stream": "stdout",
       "text": [
        " 271  Training Error = 0.00551057341377     Validation Error = 0.00549530140876\n",
        "Epoch="
       ]
      },
      {
       "output_type": "stream",
       "stream": "stdout",
       "text": [
        " 272  Training Error = 0.00551065413459     Validation Error = 0.00549530140876\n",
        "Epoch="
       ]
      },
      {
       "output_type": "stream",
       "stream": "stdout",
       "text": [
        " 273  Training Error = 0.00551009030544     Validation Error = 0.00549530140876\n",
        "Epoch="
       ]
      },
      {
       "output_type": "stream",
       "stream": "stdout",
       "text": [
        " 274  Training Error = 0.00551015880073     Validation Error = 0.00549530140876\n",
        "Epoch="
       ]
      },
      {
       "output_type": "stream",
       "stream": "stdout",
       "text": [
        " 275  Training Error = 0.00551023822072     Validation Error = 0.00549530140876\n",
        "Epoch="
       ]
      },
      {
       "output_type": "stream",
       "stream": "stdout",
       "text": [
        " 276  Training Error = 0.0055096853473     Validation Error = 0.00549530140876\n",
        "Epoch="
       ]
      },
      {
       "output_type": "stream",
       "stream": "stdout",
       "text": [
        " 277  Training Error = 0.00550975288704     Validation Error = 0.00549530140876\n",
        "Epoch="
       ]
      },
      {
       "output_type": "stream",
       "stream": "stdout",
       "text": [
        " 278  Training Error = 0.00550983102592     Validation Error = 0.00549530140876\n",
        "Epoch="
       ]
      },
      {
       "output_type": "stream",
       "stream": "stdout",
       "text": [
        " 279  Training Error = 0.00550715447367     Validation Error = 0.00549530140876\n",
        "Epoch="
       ]
      },
      {
       "output_type": "stream",
       "stream": "stdout",
       "text": [
        " 280  Training Error = 0.0054905712861     Validation Error = 0.00549530140876\n",
        "Epoch="
       ]
      },
      {
       "output_type": "stream",
       "stream": "stdout",
       "text": [
        " 281  Training Error = 0.00548808610913     Validation Error = 0.00548008663551\n",
        "Epoch="
       ]
      },
      {
       "output_type": "stream",
       "stream": "stdout",
       "text": [
        " 282  Training Error = 0.00548797902437     Validation Error = 0.00548008663551\n",
        "Epoch="
       ]
      },
      {
       "output_type": "stream",
       "stream": "stdout",
       "text": [
        " 283  Training Error = 0.00548771350342     Validation Error = 0.00548008663551\n",
        "Epoch="
       ]
      },
      {
       "output_type": "stream",
       "stream": "stdout",
       "text": [
        " 284  Training Error = 0.00548760016214     Validation Error = 0.00548008663551\n",
        "Epoch="
       ]
      },
      {
       "output_type": "stream",
       "stream": "stdout",
       "text": [
        " 285  Training Error = 0.00548749387392     Validation Error = 0.00548008663551\n",
        "Epoch="
       ]
      },
      {
       "output_type": "stream",
       "stream": "stdout",
       "text": [
        " 286  Training Error = 0.00548723593574     Validation Error = 0.00548008663551\n",
        "Epoch="
       ]
      },
      {
       "output_type": "stream",
       "stream": "stdout",
       "text": [
        " 287  Training Error = 0.00548712471234     Validation Error = 0.00548008663551\n",
        "Epoch="
       ]
      },
      {
       "output_type": "stream",
       "stream": "stdout",
       "text": [
        " 288  Training Error = 0.00548701919668     Validation Error = 0.00548008663551\n",
        "Epoch="
       ]
      },
      {
       "output_type": "stream",
       "stream": "stdout",
       "text": [
        " 289  Training Error = 0.00548676868702     Validation Error = 0.00548008663551\n",
        "Epoch="
       ]
      },
      {
       "output_type": "stream",
       "stream": "stdout",
       "text": [
        " 290  Training Error = 0.0054866595176     Validation Error = 0.00548008663551\n",
        "Epoch="
       ]
      },
      {
       "output_type": "stream",
       "stream": "stdout",
       "text": [
        " 291  Training Error = 0.00548655475128     Validation Error = 0.0055008737256\n",
        "Epoch="
       ]
      },
      {
       "output_type": "stream",
       "stream": "stdout",
       "text": [
        " 292  Training Error = 0.00548631151912     Validation Error = 0.0055008737256\n",
        "Epoch="
       ]
      },
      {
       "output_type": "stream",
       "stream": "stdout",
       "text": [
        " 293  Training Error = 0.00548620434188     Validation Error = 0.0055008737256\n",
        "Epoch="
       ]
      },
      {
       "output_type": "stream",
       "stream": "stdout",
       "text": [
        " 294  Training Error = 0.00548610030248     Validation Error = 0.0055008737256\n",
        "Epoch="
       ]
      },
      {
       "output_type": "stream",
       "stream": "stdout",
       "text": [
        " 295  Training Error = 0.00548586419992     Validation Error = 0.0055008737256\n",
        "Epoch="
       ]
      },
      {
       "output_type": "stream",
       "stream": "stdout",
       "text": [
        " 296  Training Error = 0.00548575895513     Validation Error = 0.0055008737256\n",
        "Epoch="
       ]
      },
      {
       "output_type": "stream",
       "stream": "stdout",
       "text": [
        " 297  Training Error = 0.00548826147478     Validation Error = 0.0055008737256\n",
        "Epoch="
       ]
      },
      {
       "output_type": "stream",
       "stream": "stdout",
       "text": [
        " 298  Training Error = 0.00547849909096     Validation Error = 0.0055008737256\n",
        "Epoch="
       ]
      },
      {
       "output_type": "stream",
       "stream": "stdout",
       "text": [
        " 299  Training Error = 0.00547735748321     Validation Error = 0.0055008737256\n",
        "Epoch="
       ]
      },
      {
       "output_type": "stream",
       "stream": "stdout",
       "text": [
        " 300  Training Error = 0.00547745074805     Validation Error = 0.0055008737256\n",
        "Epoch="
       ]
      },
      {
       "output_type": "stream",
       "stream": "stdout",
       "text": [
        " 301  Training Error = 0.00547721197855     Validation Error = 0.00548632095565\n",
        "Epoch="
       ]
      },
      {
       "output_type": "stream",
       "stream": "stdout",
       "text": [
        " 302  Training Error = 0.00547720263626     Validation Error = 0.00548632095565\n",
        "Epoch="
       ]
      },
      {
       "output_type": "stream",
       "stream": "stdout",
       "text": [
        " 303  Training Error = 0.00547654287376     Validation Error = 0.00548632095565\n",
        "Epoch="
       ]
      },
      {
       "output_type": "stream",
       "stream": "stdout",
       "text": [
        " 304  Training Error = 0.00547665312509     Validation Error = 0.00548632095565\n",
        "Epoch="
       ]
      },
      {
       "output_type": "stream",
       "stream": "stdout",
       "text": [
        " 305  Training Error = 0.00547684049879     Validation Error = 0.00548632095565\n",
        "Epoch="
       ]
      },
      {
       "output_type": "stream",
       "stream": "stdout",
       "text": [
        " 306  Training Error = 0.00547653283907     Validation Error = 0.00548632095565\n",
        "Epoch="
       ]
      },
      {
       "output_type": "stream",
       "stream": "stdout",
       "text": [
        " 307  Training Error = 0.00547598710691     Validation Error = 0.00548632095565\n",
        "Epoch="
       ]
      },
      {
       "output_type": "stream",
       "stream": "stdout",
       "text": [
        " 308  Training Error = 0.00547597427443     Validation Error = 0.00548632095565\n",
        "Epoch="
       ]
      },
      {
       "output_type": "stream",
       "stream": "stdout",
       "text": [
        " 309  Training Error = 0.00547606182786     Validation Error = 0.00548632095565\n",
        "Epoch="
       ]
      },
      {
       "output_type": "stream",
       "stream": "stdout",
       "text": [
        " 310  Training Error = 0.00547583741886     Validation Error = 0.00548632095565\n",
        "Epoch="
       ]
      },
      {
       "output_type": "stream",
       "stream": "stdout",
       "text": [
        " 311  Training Error = 0.00547583024684     Validation Error = 0.00549432595685\n",
        "Epoch="
       ]
      },
      {
       "output_type": "stream",
       "stream": "stdout",
       "text": [
        " 312  Training Error = 0.00547520970945     Validation Error = 0.00549432595685\n",
        "Epoch="
       ]
      },
      {
       "output_type": "stream",
       "stream": "stdout",
       "text": [
        " 313  Training Error = 0.00547531204038     Validation Error = 0.00549432595685\n",
        "Epoch="
       ]
      },
      {
       "output_type": "stream",
       "stream": "stdout",
       "text": [
        " 314  Training Error = 0.00547549280075     Validation Error = 0.00549432595685\n",
        "Epoch="
       ]
      },
      {
       "output_type": "stream",
       "stream": "stdout",
       "text": [
        " 315  Training Error = 0.00547520296957     Validation Error = 0.00549432595685\n",
        "Epoch="
       ]
      },
      {
       "output_type": "stream",
       "stream": "stdout",
       "text": [
        " 316  Training Error = 0.00547468947946     Validation Error = 0.00549432595685\n",
        "Epoch="
       ]
      },
      {
       "output_type": "stream",
       "stream": "stdout",
       "text": [
        " 317  Training Error = 0.00547468006252     Validation Error = 0.00549432595685\n",
        "Epoch="
       ]
      },
      {
       "output_type": "stream",
       "stream": "stdout",
       "text": [
        " 318  Training Error = 0.00547476219343     Validation Error = 0.00549432595685\n",
        "Epoch="
       ]
      },
      {
       "output_type": "stream",
       "stream": "stdout",
       "text": [
        " 319  Training Error = 0.00547455116314     Validation Error = 0.00549432595685\n",
        "Epoch="
       ]
      },
      {
       "output_type": "stream",
       "stream": "stdout",
       "text": [
        " 320  Training Error = 0.00547454602042     Validation Error = 0.00549432595685\n",
        "Epoch="
       ]
      },
      {
       "output_type": "stream",
       "stream": "stdout",
       "text": [
        " 321  Training Error = 0.00547396223911     Validation Error = 0.00545743124863\n",
        "Epoch="
       ]
      },
      {
       "output_type": "stream",
       "stream": "stdout",
       "text": [
        " 322  Training Error = 0.00547405720515     Validation Error = 0.00545743124863\n",
        "Epoch="
       ]
      },
      {
       "output_type": "stream",
       "stream": "stdout",
       "text": [
        " 323  Training Error = 0.0054742314298     Validation Error = 0.00545743124863\n",
        "Epoch="
       ]
      },
      {
       "output_type": "stream",
       "stream": "stdout",
       "text": [
        " 324  Training Error = 0.00547395830491     Validation Error = 0.00545743124863\n",
        "Epoch="
       ]
      },
      {
       "output_type": "stream",
       "stream": "stdout",
       "text": [
        " 325  Training Error = 0.00547347503317     Validation Error = 0.00545743124863\n",
        "Epoch="
       ]
      },
      {
       "output_type": "stream",
       "stream": "stdout",
       "text": [
        " 326  Training Error = 0.00547346870977     Validation Error = 0.00545743124863\n",
        "Epoch="
       ]
      },
      {
       "output_type": "stream",
       "stream": "stdout",
       "text": [
        " 327  Training Error = 0.00547354569521     Validation Error = 0.00545743124863\n",
        "Epoch="
       ]
      },
      {
       "output_type": "stream",
       "stream": "stdout",
       "text": [
        " 328  Training Error = 0.00547334713543     Validation Error = 0.00545743124863\n",
        "Epoch="
       ]
      },
      {
       "output_type": "stream",
       "stream": "stdout",
       "text": [
        " 329  Training Error = 0.00547334389092     Validation Error = 0.00545743124863\n",
        "Epoch="
       ]
      },
      {
       "output_type": "stream",
       "stream": "stdout",
       "text": [
        " 330  Training Error = 0.0054727945613     Validation Error = 0.00545743124863\n",
        "Epoch="
       ]
      },
      {
       "output_type": "stream",
       "stream": "stdout",
       "text": [
        " 331  Training Error = 0.00547288267497     Validation Error = 0.0054586048701\n",
        "Epoch="
       ]
      },
      {
       "output_type": "stream",
       "stream": "stdout",
       "text": [
        " 332  Training Error = 0.00547305047177     Validation Error = 0.0054586048701\n",
        "Epoch="
       ]
      },
      {
       "output_type": "stream",
       "stream": "stdout",
       "text": [
        " 333  Training Error = 0.00547279300578     Validation Error = 0.0054586048701\n",
        "Epoch="
       ]
      },
      {
       "output_type": "stream",
       "stream": "stdout",
       "text": [
        " 334  Training Error = 0.00547233806309     Validation Error = 0.0054586048701\n",
        "Epoch="
       ]
      },
      {
       "output_type": "stream",
       "stream": "stdout",
       "text": [
        " 335  Training Error = 0.00547233454391     Validation Error = 0.0054586048701\n",
        "Epoch="
       ]
      },
      {
       "output_type": "stream",
       "stream": "stdout",
       "text": [
        " 336  Training Error = 0.00547240664915     Validation Error = 0.0054586048701\n",
        "Epoch="
       ]
      },
      {
       "output_type": "stream",
       "stream": "stdout",
       "text": [
        " 337  Training Error = 0.0054722197192     Validation Error = 0.0054586048701\n",
        "Epoch="
       ]
      },
      {
       "output_type": "stream",
       "stream": "stdout",
       "text": [
        " 338  Training Error = 0.00547221825089     Validation Error = 0.0054586048701\n",
        "Epoch="
       ]
      },
      {
       "output_type": "stream",
       "stream": "stdout",
       "text": [
        " 339  Training Error = 0.00547170122132     Validation Error = 0.0054586048701\n",
        "Epoch="
       ]
      },
      {
       "output_type": "stream",
       "stream": "stdout",
       "text": [
        " 340  Training Error = 0.00547178295581     Validation Error = 0.0054586048701\n",
        "Epoch="
       ]
      },
      {
       "output_type": "stream",
       "stream": "stdout",
       "text": [
        " 341  Training Error = 0.00547194445722     Validation Error = 0.00549134005462\n",
        "Epoch="
       ]
      },
      {
       "output_type": "stream",
       "stream": "stdout",
       "text": [
        " 342  Training Error = 0.00547170167215     Validation Error = 0.00549134005462\n",
        "Epoch="
       ]
      },
      {
       "output_type": "stream",
       "stream": "stdout",
       "text": [
        " 343  Training Error = 0.00547127329385     Validation Error = 0.00549134005462\n",
        "Epoch="
       ]
      },
      {
       "output_type": "stream",
       "stream": "stdout",
       "text": [
        " 344  Training Error = 0.00547127231877     Validation Error = 0.00549134005462\n",
        "Epoch="
       ]
      },
      {
       "output_type": "stream",
       "stream": "stdout",
       "text": [
        " 345  Training Error = 0.00547133979753     Validation Error = 0.00549134005462\n",
        "Epoch="
       ]
      },
      {
       "output_type": "stream",
       "stream": "stdout",
       "text": [
        " 346  Training Error = 0.00547116371863     Validation Error = 0.00549134005462\n",
        "Epoch="
       ]
      },
      {
       "output_type": "stream",
       "stream": "stdout",
       "text": [
        " 347  Training Error = 0.00547116391293     Validation Error = 0.00549134005462\n",
        "Epoch="
       ]
      },
      {
       "output_type": "stream",
       "stream": "stdout",
       "text": [
        " 348  Training Error = 0.00547067717348     Validation Error = 0.00549134005462\n",
        "Epoch="
       ]
      },
      {
       "output_type": "stream",
       "stream": "stdout",
       "text": [
        " 349  Training Error = 0.00547075296604     Validation Error = 0.00549134005462\n",
        "Epoch="
       ]
      },
      {
       "output_type": "stream",
       "stream": "stdout",
       "text": [
        " 350  Training Error = 0.00547090832416     Validation Error = 0.00549134005462\n",
        "Epoch="
       ]
      },
      {
       "output_type": "stream",
       "stream": "stdout",
       "text": [
        " 351  Training Error = 0.00547067930644     Validation Error = 0.00549051950052\n",
        "Epoch="
       ]
      },
      {
       "output_type": "stream",
       "stream": "stdout",
       "text": [
        " 352  Training Error = 0.00547027584364     Validation Error = 0.00549051950052\n",
        "Epoch="
       ]
      },
      {
       "output_type": "stream",
       "stream": "stdout",
       "text": [
        " 353  Training Error = 0.00547027717865     Validation Error = 0.00549051950052\n",
        "Epoch="
       ]
      },
      {
       "output_type": "stream",
       "stream": "stdout",
       "text": [
        " 354  Training Error = 0.00547034027332     Validation Error = 0.00549051950052\n",
        "Epoch="
       ]
      },
      {
       "output_type": "stream",
       "stream": "stdout",
       "text": [
        " 355  Training Error = 0.00547017432351     Validation Error = 0.00549051950052\n",
        "Epoch="
       ]
      },
      {
       "output_type": "stream",
       "stream": "stdout",
       "text": [
        " 356  Training Error = 0.00547017607459     Validation Error = 0.00549051950052\n",
        "Epoch="
       ]
      },
      {
       "output_type": "stream",
       "stream": "stdout",
       "text": [
        " 357  Training Error = 0.00546971774695     Validation Error = 0.00549051950052\n",
        "Epoch="
       ]
      },
      {
       "output_type": "stream",
       "stream": "stdout",
       "text": [
        " 358  Training Error = 0.00546978800195     Validation Error = 0.00549051950052\n",
        "Epoch="
       ]
      },
      {
       "output_type": "stream",
       "stream": "stdout",
       "text": [
        " 359  Training Error = 0.00546993738428     Validation Error = 0.00549051950052\n",
        "Epoch="
       ]
      },
      {
       "output_type": "stream",
       "stream": "stdout",
       "text": [
        " 360  Training Error = 0.0054697212802     Validation Error = 0.00549051950052\n",
        "Epoch="
       ]
      },
      {
       "output_type": "stream",
       "stream": "stdout",
       "text": [
        " 361  Training Error = 0.00546934119154     Validation Error = 0.00545968050717\n",
        "Epoch="
       ]
      },
      {
       "output_type": "stream",
       "stream": "stdout",
       "text": [
        " 362  Training Error = 0.00546934462595     Validation Error = 0.00545968050717\n",
        "Epoch="
       ]
      },
      {
       "output_type": "stream",
       "stream": "stdout",
       "text": [
        " 363  Training Error = 0.00546940356787     Validation Error = 0.00545968050717\n",
        "Epoch="
       ]
      },
      {
       "output_type": "stream",
       "stream": "stdout",
       "text": [
        " 364  Training Error = 0.00546924707741     Validation Error = 0.00545968050717\n",
        "Epoch="
       ]
      },
      {
       "output_type": "stream",
       "stream": "stdout",
       "text": [
        " 365  Training Error = 0.00546925028663     Validation Error = 0.00545968050717\n",
        "Epoch="
       ]
      },
      {
       "output_type": "stream",
       "stream": "stdout",
       "text": [
        " 366  Training Error = 0.00546881861482     Validation Error = 0.00545968050717\n",
        "Epoch="
       ]
      },
      {
       "output_type": "stream",
       "stream": "stdout",
       "text": [
        " 367  Training Error = 0.00546888370645     Validation Error = 0.00545968050717\n",
        "Epoch="
       ]
      },
      {
       "output_type": "stream",
       "stream": "stdout",
       "text": [
        " 368  Training Error = 0.00546902729227     Validation Error = 0.00545968050717\n",
        "Epoch="
       ]
      },
      {
       "output_type": "stream",
       "stream": "stdout",
       "text": [
        " 369  Training Error = 0.0054688233037     Validation Error = 0.00545968050717\n",
        "Epoch="
       ]
      },
      {
       "output_type": "stream",
       "stream": "stdout",
       "text": [
        " 370  Training Error = 0.0054684651478     Validation Error = 0.00545968050717\n",
        "Epoch="
       ]
      },
      {
       "output_type": "stream",
       "stream": "stdout",
       "text": [
        " 371  Training Error = 0.00546847049182     Validation Error = 0.00545377677862\n",
        "Epoch="
       ]
      },
      {
       "output_type": "stream",
       "stream": "stdout",
       "text": [
        " 372  Training Error = 0.00546852550156     Validation Error = 0.00545377677862\n",
        "Epoch="
       ]
      },
      {
       "output_type": "stream",
       "stream": "stdout",
       "text": [
        " 373  Training Error = 0.00546837784876     Validation Error = 0.00545377677862\n",
        "Epoch="
       ]
      },
      {
       "output_type": "stream",
       "stream": "stdout",
       "text": [
        " 374  Training Error = 0.00546838242412     Validation Error = 0.00545377677862\n",
        "Epoch="
       ]
      },
      {
       "output_type": "stream",
       "stream": "stdout",
       "text": [
        " 375  Training Error = 0.00546797576587     Validation Error = 0.00545377677862\n",
        "Epoch="
       ]
      },
      {
       "output_type": "stream",
       "stream": "stdout",
       "text": [
        " 376  Training Error = 0.0054680360407     Validation Error = 0.00545377677862\n",
        "Epoch="
       ]
      },
      {
       "output_type": "stream",
       "stream": "stdout",
       "text": [
        " 377  Training Error = 0.00546817401794     Validation Error = 0.00545377677862\n",
        "Epoch="
       ]
      },
      {
       "output_type": "stream",
       "stream": "stdout",
       "text": [
        " 378  Training Error = 0.00547842091599     Validation Error = 0.00545377677862\n",
        "Epoch="
       ]
      },
      {
       "output_type": "stream",
       "stream": "stdout",
       "text": [
        " 379  Training Error = 0.00550063458879     Validation Error = 0.00545377677862\n",
        "Epoch="
       ]
      },
      {
       "output_type": "stream",
       "stream": "stdout",
       "text": [
        " 380  Training Error = 0.00550078773683     Validation Error = 0.00545377677862\n",
        "Epoch="
       ]
      },
      {
       "output_type": "stream",
       "stream": "stdout",
       "text": [
        " 381  Training Error = 0.00550068123597     Validation Error = 0.00551306517789\n",
        "Epoch="
       ]
      },
      {
       "output_type": "stream",
       "stream": "stdout",
       "text": [
        " 382  Training Error = 0.00550041316488     Validation Error = 0.00551306517789\n",
        "Epoch="
       ]
      },
      {
       "output_type": "stream",
       "stream": "stdout",
       "text": [
        " 383  Training Error = 0.00550056823341     Validation Error = 0.00551306517789\n",
        "Epoch="
       ]
      },
      {
       "output_type": "stream",
       "stream": "stdout",
       "text": [
        " 384  Training Error = 0.0055003112954     Validation Error = 0.00551306517789\n",
        "Epoch="
       ]
      },
      {
       "output_type": "stream",
       "stream": "stdout",
       "text": [
        " 385  Training Error = 0.00550022785298     Validation Error = 0.00551306517789\n",
        "Epoch="
       ]
      },
      {
       "output_type": "stream",
       "stream": "stdout",
       "text": [
        " 386  Training Error = 0.00549997047754     Validation Error = 0.00551306517789\n",
        "Epoch="
       ]
      },
      {
       "output_type": "stream",
       "stream": "stdout",
       "text": [
        " 387  Training Error = 0.005497908467     Validation Error = 0.00551306517789\n",
        "Epoch="
       ]
      },
      {
       "output_type": "stream",
       "stream": "stdout",
       "text": [
        " 388  Training Error = 0.00549776724242     Validation Error = 0.00551306517789\n",
        "Epoch="
       ]
      },
      {
       "output_type": "stream",
       "stream": "stdout",
       "text": [
        " 389  Training Error = 0.00549791883583     Validation Error = 0.00551306517789\n",
        "Epoch="
       ]
      },
      {
       "output_type": "stream",
       "stream": "stdout",
       "text": [
        " 390  Training Error = 0.00549781926666     Validation Error = 0.00551306517789\n",
        "Epoch="
       ]
      },
      {
       "output_type": "stream",
       "stream": "stdout",
       "text": [
        " 391  Training Error = 0.00549756614514     Validation Error = 0.00549373644486\n",
        "Epoch="
       ]
      },
      {
       "output_type": "stream",
       "stream": "stdout",
       "text": [
        " 392  Training Error = 0.005497713738     Validation Error = 0.00549373644486\n",
        "Epoch="
       ]
      },
      {
       "output_type": "stream",
       "stream": "stdout",
       "text": [
        " 393  Training Error = 0.0054974710637     Validation Error = 0.00549373644486\n",
        "Epoch="
       ]
      },
      {
       "output_type": "stream",
       "stream": "stdout",
       "text": [
        " 394  Training Error = 0.00549733906304     Validation Error = 0.00549373644486\n",
        "Epoch="
       ]
      },
      {
       "output_type": "stream",
       "stream": "stdout",
       "text": [
        " 395  Training Error = 0.00549738273187     Validation Error = 0.00549373644486\n",
        "Epoch="
       ]
      },
      {
       "output_type": "stream",
       "stream": "stdout",
       "text": [
        " 396  Training Error = 0.00549718195786     Validation Error = 0.00549373644486\n",
        "Epoch="
       ]
      },
      {
       "output_type": "stream",
       "stream": "stdout",
       "text": [
        " 397  Training Error = 0.00549704824792     Validation Error = 0.00549373644486\n",
        "Epoch="
       ]
      },
      {
       "output_type": "stream",
       "stream": "stdout",
       "text": [
        " 398  Training Error = 0.00549719288985     Validation Error = 0.00549373644486\n",
        "Epoch="
       ]
      },
      {
       "output_type": "stream",
       "stream": "stdout",
       "text": [
        " 399  Training Error = 0.00549709869497     Validation Error = 0.00549373644486\n",
        "Epoch="
       ]
      },
      {
       "output_type": "stream",
       "stream": "stdout",
       "text": [
        " 400  Training Error = 0.00549685960469     Validation Error = 0.00549373644486\n",
        "Epoch="
       ]
      },
      {
       "output_type": "stream",
       "stream": "stdout",
       "text": [
        " 401  Training Error = 0.00549700035342     Validation Error = 0.00550385092326\n",
        "Epoch="
       ]
      },
      {
       "output_type": "stream",
       "stream": "stdout",
       "text": [
        " 402  Training Error = 0.00549677136593     Validation Error = 0.00550385092326\n",
        "Epoch="
       ]
      },
      {
       "output_type": "stream",
       "stream": "stdout",
       "text": [
        " 403  Training Error = 0.00549664636615     Validation Error = 0.00550385092326\n",
        "Epoch="
       ]
      },
      {
       "output_type": "stream",
       "stream": "stdout",
       "text": [
        " 404  Training Error = 0.00549668954575     Validation Error = 0.00550385092326\n",
        "Epoch="
       ]
      },
      {
       "output_type": "stream",
       "stream": "stdout",
       "text": [
        " 405  Training Error = 0.00549649989357     Validation Error = 0.00550385092326\n",
        "Epoch="
       ]
      },
      {
       "output_type": "stream",
       "stream": "stdout",
       "text": [
        " 406  Training Error = 0.00549637324639     Validation Error = 0.00550385092326\n",
        "Epoch="
       ]
      },
      {
       "output_type": "stream",
       "stream": "stdout",
       "text": [
        " 407  Training Error = 0.00549651130911     Validation Error = 0.00550385092326\n",
        "Epoch="
       ]
      },
      {
       "output_type": "stream",
       "stream": "stdout",
       "text": [
        " 408  Training Error = 0.00549642214774     Validation Error = 0.00550385092326\n",
        "Epoch="
       ]
      },
      {
       "output_type": "stream",
       "stream": "stdout",
       "text": [
        " 409  Training Error = 0.00549619625732     Validation Error = 0.00550385092326\n",
        "Epoch="
       ]
      },
      {
       "output_type": "stream",
       "stream": "stdout",
       "text": [
        " 410  Training Error = 0.00549633053276     Validation Error = 0.00550385092326\n",
        "Epoch="
       ]
      },
      {
       "output_type": "stream",
       "stream": "stdout",
       "text": [
        " 411  Training Error = 0.00549611439089     Validation Error = 0.00550343853761\n",
        "Epoch="
       ]
      },
      {
       "output_type": "stream",
       "stream": "stdout",
       "text": [
        " 412  Training Error = 0.00549599598613     Validation Error = 0.00550343853761\n",
        "Epoch="
       ]
      },
      {
       "output_type": "stream",
       "stream": "stdout",
       "text": [
        " 413  Training Error = 0.00549603865242     Validation Error = 0.00550343853761\n",
        "Epoch="
       ]
      },
      {
       "output_type": "stream",
       "stream": "stdout",
       "text": [
        " 414  Training Error = 0.00549585944437     Validation Error = 0.00550343853761\n",
        "Epoch="
       ]
      },
      {
       "output_type": "stream",
       "stream": "stdout",
       "text": [
        " 415  Training Error = 0.00549573943601     Validation Error = 0.00550343853761\n",
        "Epoch="
       ]
      },
      {
       "output_type": "stream",
       "stream": "stdout",
       "text": [
        " 416  Training Error = 0.00549587127379     Validation Error = 0.00550343853761\n",
        "Epoch="
       ]
      },
      {
       "output_type": "stream",
       "stream": "stdout",
       "text": [
        " 417  Training Error = 0.00549578682814     Validation Error = 0.00550343853761\n",
        "Epoch="
       ]
      },
      {
       "output_type": "stream",
       "stream": "stdout",
       "text": [
        " 418  Training Error = 0.00549557335621     Validation Error = 0.00550343853761\n",
        "Epoch="
       ]
      },
      {
       "output_type": "stream",
       "stream": "stdout",
       "text": [
        " 419  Training Error = 0.00549570151076     Validation Error = 0.00550343853761\n",
        "Epoch="
       ]
      },
      {
       "output_type": "stream",
       "stream": "stdout",
       "text": [
        " 420  Training Error = 0.00549549742731     Validation Error = 0.00550343853761\n",
        "Epoch="
       ]
      },
      {
       "output_type": "stream",
       "stream": "stdout",
       "text": [
        " 421  Training Error = 0.00549538523513     Validation Error = 0.00548750500155\n",
        "Epoch="
       ]
      },
      {
       "output_type": "stream",
       "stream": "stdout",
       "text": [
        " 422  Training Error = 0.00549542737138     Validation Error = 0.00548750500155\n",
        "Epoch="
       ]
      },
      {
       "output_type": "stream",
       "stream": "stdout",
       "text": [
        " 423  Training Error = 0.00549525797262     Validation Error = 0.00548750500155\n",
        "Epoch="
       ]
      },
      {
       "output_type": "stream",
       "stream": "stdout",
       "text": [
        " 424  Training Error = 0.00549514420522     Validation Error = 0.00548750500155\n",
        "Epoch="
       ]
      },
      {
       "output_type": "stream",
       "stream": "stdout",
       "text": [
        " 425  Training Error = 0.00549527015498     Validation Error = 0.00548750500155\n",
        "Epoch="
       ]
      },
      {
       "output_type": "stream",
       "stream": "stdout",
       "text": [
        " 426  Training Error = 0.00549519012856     Validation Error = 0.00548750500155\n",
        "Epoch="
       ]
      },
      {
       "output_type": "stream",
       "stream": "stdout",
       "text": [
        " 427  Training Error = 0.0055013217463     Validation Error = 0.00548750500155\n",
        "Epoch="
       ]
      },
      {
       "output_type": "stream",
       "stream": "stdout",
       "text": [
        " 428  Training Error = 0.00551464704885     Validation Error = 0.00548750500155\n",
        "Epoch="
       ]
      },
      {
       "output_type": "stream",
       "stream": "stdout",
       "text": [
        " 429  Training Error = 0.00550797005647     Validation Error = 0.00548750500155\n",
        "Epoch="
       ]
      },
      {
       "output_type": "stream",
       "stream": "stdout",
       "text": [
        " 430  Training Error = 0.00550159894935     Validation Error = 0.00548750500155\n",
        "Epoch="
       ]
      },
      {
       "output_type": "stream",
       "stream": "stdout",
       "text": [
        " 431  Training Error = 0.00550144470677     Validation Error = 0.00548907864514\n",
        "Epoch="
       ]
      },
      {
       "output_type": "stream",
       "stream": "stdout",
       "text": [
        " 432  Training Error = 0.00550145519254     Validation Error = 0.00548907864514\n",
        "Epoch="
       ]
      },
      {
       "output_type": "stream",
       "stream": "stdout",
       "text": [
        " 433  Training Error = 0.00550096367745     Validation Error = 0.00548907864514\n",
        "Epoch="
       ]
      },
      {
       "output_type": "stream",
       "stream": "stdout",
       "text": [
        " 434  Training Error = 0.00550087822005     Validation Error = 0.00548907864514\n",
        "Epoch="
       ]
      },
      {
       "output_type": "stream",
       "stream": "stdout",
       "text": [
        " 435  Training Error = 0.00550090177563     Validation Error = 0.00548907864514\n",
        "Epoch="
       ]
      },
      {
       "output_type": "stream",
       "stream": "stdout",
       "text": [
        " 436  Training Error = 0.0055004505366     Validation Error = 0.00548907864514\n",
        "Epoch="
       ]
      },
      {
       "output_type": "stream",
       "stream": "stdout",
       "text": [
        " 437  Training Error = 0.0055003903025     Validation Error = 0.00548907864514\n",
        "Epoch="
       ]
      },
      {
       "output_type": "stream",
       "stream": "stdout",
       "text": [
        " 438  Training Error = 0.00550041944128     Validation Error = 0.00548907864514\n",
        "Epoch="
       ]
      },
      {
       "output_type": "stream",
       "stream": "stdout",
       "text": [
        " 439  Training Error = 0.00549998116525     Validation Error = 0.00548907864514\n",
        "Epoch="
       ]
      },
      {
       "output_type": "stream",
       "stream": "stdout",
       "text": [
        " 440  Training Error = 0.00549992178703     Validation Error = 0.00548907864514\n",
        "Epoch="
       ]
      },
      {
       "output_type": "stream",
       "stream": "stdout",
       "text": [
        " 441  Training Error = 0.00549994845574     Validation Error = 0.00553121069165\n",
        "Epoch="
       ]
      },
      {
       "output_type": "stream",
       "stream": "stdout",
       "text": [
        " 442  Training Error = 0.00549952286995     Validation Error = 0.00553121069165\n",
        "Epoch="
       ]
      },
      {
       "output_type": "stream",
       "stream": "stdout",
       "text": [
        " 443  Training Error = 0.00549946428981     Validation Error = 0.00553121069165\n",
        "Epoch="
       ]
      },
      {
       "output_type": "stream",
       "stream": "stdout",
       "text": [
        " 444  Training Error = 0.00549948852377     Validation Error = 0.00553121069165\n",
        "Epoch="
       ]
      },
      {
       "output_type": "stream",
       "stream": "stdout",
       "text": [
        " 445  Training Error = 0.00549907536153     Validation Error = 0.00553121069165\n",
        "Epoch="
       ]
      },
      {
       "output_type": "stream",
       "stream": "stdout",
       "text": [
        " 446  Training Error = 0.00549901752438     Validation Error = 0.00553121069165\n",
        "Epoch="
       ]
      },
      {
       "output_type": "stream",
       "stream": "stdout",
       "text": [
        " 447  Training Error = 0.00549903935877     Validation Error = 0.00553121069165\n",
        "Epoch="
       ]
      },
      {
       "output_type": "stream",
       "stream": "stdout",
       "text": [
        " 448  Training Error = 0.00549863835925     Validation Error = 0.00553121069165\n",
        "Epoch="
       ]
      },
      {
       "output_type": "stream",
       "stream": "stdout",
       "text": [
        " 449  Training Error = 0.00549858121265     Validation Error = 0.00553121069165\n",
        "Epoch="
       ]
      },
      {
       "output_type": "stream",
       "stream": "stdout",
       "text": [
        " 450  Training Error = 0.0055029204599     Validation Error = 0.00553121069165\n",
        "Epoch="
       ]
      },
      {
       "output_type": "stream",
       "stream": "stdout",
       "text": [
        " 451  Training Error = 0.00548627346068     Validation Error = 0.00547126138009\n",
        "Epoch="
       ]
      },
      {
       "output_type": "stream",
       "stream": "stdout",
       "text": [
        " 452  Training Error = 0.00549523452029     Validation Error = 0.00547126138009\n",
        "Epoch="
       ]
      },
      {
       "output_type": "stream",
       "stream": "stdout",
       "text": [
        " 453  Training Error = 0.00549582957812     Validation Error = 0.00547126138009\n",
        "Epoch="
       ]
      },
      {
       "output_type": "stream",
       "stream": "stdout",
       "text": [
        " 454  Training Error = 0.00549471601457     Validation Error = 0.00547126138009\n",
        "Epoch="
       ]
      },
      {
       "output_type": "stream",
       "stream": "stdout",
       "text": [
        " 455  Training Error = 0.00549492130763     Validation Error = 0.00547126138009\n",
        "Epoch="
       ]
      },
      {
       "output_type": "stream",
       "stream": "stdout",
       "text": [
        " 456  Training Error = 0.00549417012123     Validation Error = 0.00547126138009\n",
        "Epoch="
       ]
      },
      {
       "output_type": "stream",
       "stream": "stdout",
       "text": [
        " 457  Training Error = 0.00549431591295     Validation Error = 0.00547126138009\n",
        "Epoch="
       ]
      },
      {
       "output_type": "stream",
       "stream": "stdout",
       "text": [
        " 458  Training Error = 0.00549443632807     Validation Error = 0.00547126138009\n",
        "Epoch="
       ]
      },
      {
       "output_type": "stream",
       "stream": "stdout",
       "text": [
        " 459  Training Error = 0.00549341204474     Validation Error = 0.00547126138009\n",
        "Epoch="
       ]
      },
      {
       "output_type": "stream",
       "stream": "stdout",
       "text": [
        " 460  Training Error = 0.00549289270853     Validation Error = 0.00547126138009\n",
        "Epoch="
       ]
      },
      {
       "output_type": "stream",
       "stream": "stdout",
       "text": [
        " 461  Training Error = 0.00549347160929     Validation Error = 0.00546724195748\n",
        "Epoch="
       ]
      },
      {
       "output_type": "stream",
       "stream": "stdout",
       "text": [
        " 462  Training Error = 0.00549403616633     Validation Error = 0.00546724195748\n",
        "Epoch="
       ]
      },
      {
       "output_type": "stream",
       "stream": "stdout",
       "text": [
        " 463  Training Error = 0.00549298907231     Validation Error = 0.00546724195748\n",
        "Epoch="
       ]
      },
      {
       "output_type": "stream",
       "stream": "stdout",
       "text": [
        " 464  Training Error = 0.00549317773055     Validation Error = 0.00546724195748\n",
        "Epoch="
       ]
      },
      {
       "output_type": "stream",
       "stream": "stdout",
       "text": [
        " 465  Training Error = 0.00549247479805     Validation Error = 0.00546724195748\n",
        "Epoch="
       ]
      },
      {
       "output_type": "stream",
       "stream": "stdout",
       "text": [
        " 466  Training Error = 0.00549261667068     Validation Error = 0.00546724195748\n",
        "Epoch="
       ]
      },
      {
       "output_type": "stream",
       "stream": "stdout",
       "text": [
        " 467  Training Error = 0.00549273212569     Validation Error = 0.00546724195748\n",
        "Epoch="
       ]
      },
      {
       "output_type": "stream",
       "stream": "stdout",
       "text": [
        " 468  Training Error = 0.00549176856167     Validation Error = 0.00546724195748\n",
        "Epoch="
       ]
      },
      {
       "output_type": "stream",
       "stream": "stdout",
       "text": [
        " 469  Training Error = 0.00549127729848     Validation Error = 0.00546724195748\n",
        "Epoch="
       ]
      },
      {
       "output_type": "stream",
       "stream": "stdout",
       "text": [
        " 470  Training Error = 0.00549182498764     Validation Error = 0.00546724195748\n",
        "Epoch="
       ]
      },
      {
       "output_type": "stream",
       "stream": "stdout",
       "text": [
        " 471  Training Error = 0.00549236094141     Validation Error = 0.00556787099645\n",
        "Epoch="
       ]
      },
      {
       "output_type": "stream",
       "stream": "stdout",
       "text": [
        " 472  Training Error = 0.00549137979294     Validation Error = 0.00556787099645\n",
        "Epoch="
       ]
      },
      {
       "output_type": "stream",
       "stream": "stdout",
       "text": [
        " 473  Training Error = 0.00549155733725     Validation Error = 0.00556787099645\n",
        "Epoch="
       ]
      },
      {
       "output_type": "stream",
       "stream": "stdout",
       "text": [
        " 474  Training Error = 0.00549090436347     Validation Error = 0.00556787099645\n",
        "Epoch="
       ]
      },
      {
       "output_type": "stream",
       "stream": "stdout",
       "text": [
        " 475  Training Error = 0.00549104705097     Validation Error = 0.00556787099645\n",
        "Epoch="
       ]
      },
      {
       "output_type": "stream",
       "stream": "stdout",
       "text": [
        " 476  Training Error = 0.00549116240691     Validation Error = 0.00556787099645\n",
        "Epoch="
       ]
      },
      {
       "output_type": "stream",
       "stream": "stdout",
       "text": [
        " 477  Training Error = 0.00549026040717     Validation Error = 0.00556787099645\n",
        "Epoch="
       ]
      },
      {
       "output_type": "stream",
       "stream": "stdout",
       "text": [
        " 478  Training Error = 0.00548980029904     Validation Error = 0.00556787099645\n",
        "Epoch="
       ]
      },
      {
       "output_type": "stream",
       "stream": "stdout",
       "text": [
        " 479  Training Error = 0.00549032611348     Validation Error = 0.00556787099645\n",
        "Epoch="
       ]
      },
      {
       "output_type": "stream",
       "stream": "stdout",
       "text": [
        " 480  Training Error = 0.00549083598968     Validation Error = 0.00556787099645\n",
        "Epoch="
       ]
      },
      {
       "output_type": "stream",
       "stream": "stdout",
       "text": [
        " 481  Training Error = 0.00548991413308     Validation Error = 0.00550528382705\n",
        "Epoch="
       ]
      },
      {
       "output_type": "stream",
       "stream": "stdout",
       "text": [
        " 482  Training Error = 0.00549007633684     Validation Error = 0.00550528382705\n",
        "Epoch="
       ]
      },
      {
       "output_type": "stream",
       "stream": "stdout",
       "text": [
        " 483  Training Error = 0.00548946556469     Validation Error = 0.00550528382705\n",
        "Epoch="
       ]
      },
      {
       "output_type": "stream",
       "stream": "stdout",
       "text": [
        " 484  Training Error = 0.00548960422254     Validation Error = 0.00550528382705\n",
        "Epoch="
       ]
      },
      {
       "output_type": "stream",
       "stream": "stdout",
       "text": [
        " 485  Training Error = 0.00548971480541     Validation Error = 0.00550528382705\n",
        "Epoch="
       ]
      },
      {
       "output_type": "stream",
       "stream": "stdout",
       "text": [
        " 486  Training Error = 0.00548886599336     Validation Error = 0.00550528382705\n",
        "Epoch="
       ]
      },
      {
       "output_type": "stream",
       "stream": "stdout",
       "text": [
        " 487  Training Error = 0.00548843079012     Validation Error = 0.00550528382705\n",
        "Epoch="
       ]
      },
      {
       "output_type": "stream",
       "stream": "stdout",
       "text": [
        " 488  Training Error = 0.00548893128726     Validation Error = 0.00550528382705\n",
        "Epoch="
       ]
      },
      {
       "output_type": "stream",
       "stream": "stdout",
       "text": [
        " 489  Training Error = 0.00548941152012     Validation Error = 0.00550528382705\n",
        "Epoch="
       ]
      },
      {
       "output_type": "stream",
       "stream": "stdout",
       "text": [
        " 490  Training Error = 0.00548854422183     Validation Error = 0.00550528382705\n",
        "Epoch="
       ]
      },
      {
       "output_type": "stream",
       "stream": "stdout",
       "text": [
        " 491  Training Error = 0.00548869184557     Validation Error = 0.00549666232368\n",
        "Epoch="
       ]
      },
      {
       "output_type": "stream",
       "stream": "stdout",
       "text": [
        " 492  Training Error = 0.0054881206799     Validation Error = 0.00549666232368\n",
        "Epoch="
       ]
      },
      {
       "output_type": "stream",
       "stream": "stdout",
       "text": [
        " 493  Training Error = 0.00548825542255     Validation Error = 0.00549666232368\n",
        "Epoch="
       ]
      },
      {
       "output_type": "stream",
       "stream": "stdout",
       "text": [
        " 494  Training Error = 0.00548836146669     Validation Error = 0.00549666232368\n",
        "Epoch="
       ]
      },
      {
       "output_type": "stream",
       "stream": "stdout",
       "text": [
        " 495  Training Error = 0.00548756257501     Validation Error = 0.00549666232368\n",
        "Epoch="
       ]
      },
      {
       "output_type": "stream",
       "stream": "stdout",
       "text": [
        " 496  Training Error = 0.00548715094465     Validation Error = 0.00549666232368\n",
        "Epoch="
       ]
      },
      {
       "output_type": "stream",
       "stream": "stdout",
       "text": [
        " 497  Training Error = 0.00548762717525     Validation Error = 0.00549666232368\n",
        "Epoch="
       ]
      },
      {
       "output_type": "stream",
       "stream": "stdout",
       "text": [
        " 498  Training Error = 0.00548807941914     Validation Error = 0.00549666232368\n",
        "Epoch="
       ]
      },
      {
       "output_type": "stream",
       "stream": "stdout",
       "text": [
        " 499  Training Error = 0.00548726330777     Validation Error = 0.00549666232368\n",
        "Epoch="
       ]
      },
      {
       "output_type": "stream",
       "stream": "stdout",
       "text": [
        " 500  Training Error = 0.00548739708275     Validation Error = 0.00549666232368\n",
        "Epoch="
       ]
      },
      {
       "output_type": "stream",
       "stream": "stdout",
       "text": [
        " 501  Training Error = 0.00548686309511     Validation Error = 0.00548605157288\n",
        "Epoch="
       ]
      },
      {
       "output_type": "stream",
       "stream": "stdout",
       "text": [
        " 502  Training Error = 0.00548699404392     Validation Error = 0.00548605157288\n",
        "Epoch="
       ]
      },
      {
       "output_type": "stream",
       "stream": "stdout",
       "text": [
        " 503  Training Error = 0.00548709577495     Validation Error = 0.00548605157288\n",
        "Epoch="
       ]
      },
      {
       "output_type": "stream",
       "stream": "stdout",
       "text": [
        " 504  Training Error = 0.00548634374581     Validation Error = 0.00548605157288\n",
        "Epoch="
       ]
      },
      {
       "output_type": "stream",
       "stream": "stdout",
       "text": [
        " 505  Training Error = 0.00548595442048     Validation Error = 0.00548605157288\n",
        "Epoch="
       ]
      },
      {
       "output_type": "stream",
       "stream": "stdout",
       "text": [
        " 506  Training Error = 0.00548640742205     Validation Error = 0.00548605157288\n",
        "Epoch="
       ]
      },
      {
       "output_type": "stream",
       "stream": "stdout",
       "text": [
        " 507  Training Error = 0.00548683324313     Validation Error = 0.00548605157288\n",
        "Epoch="
       ]
      },
      {
       "output_type": "stream",
       "stream": "stdout",
       "text": [
        " 508  Training Error = 0.00548606516559     Validation Error = 0.00548605157288\n",
        "Epoch="
       ]
      },
      {
       "output_type": "stream",
       "stream": "stdout",
       "text": [
        " 509  Training Error = 0.00548618579381     Validation Error = 0.00548605157288\n",
        "Epoch="
       ]
      },
      {
       "output_type": "stream",
       "stream": "stdout",
       "text": [
        " 510  Training Error = 0.00548568671094     Validation Error = 0.00548605157288\n",
        "Epoch="
       ]
      },
      {
       "output_type": "stream",
       "stream": "stdout",
       "text": [
        " 511  Training Error = 0.00548581399227     Validation Error = 0.00547308106945\n",
        "Epoch="
       ]
      },
      {
       "output_type": "stream",
       "stream": "stdout",
       "text": [
        " 512  Training Error = 0.00548591162707     Validation Error = 0.00547308106945\n",
        "Epoch="
       ]
      },
      {
       "output_type": "stream",
       "stream": "stdout",
       "text": [
        " 513  Training Error = 0.00548520359774     Validation Error = 0.00547308106945\n",
        "Epoch="
       ]
      },
      {
       "output_type": "stream",
       "stream": "stdout",
       "text": [
        " 514  Training Error = 0.00548483537157     Validation Error = 0.00547308106945\n",
        "Epoch="
       ]
      },
      {
       "output_type": "stream",
       "stream": "stdout",
       "text": [
        " 515  Training Error = 0.00548526616369     Validation Error = 0.00547308106945\n",
        "Epoch="
       ]
      },
      {
       "output_type": "stream",
       "stream": "stdout",
       "text": [
        " 516  Training Error = 0.00548566704413     Validation Error = 0.00547308106945\n",
        "Epoch="
       ]
      },
      {
       "output_type": "stream",
       "stream": "stdout",
       "text": [
        " 517  Training Error = 0.0054849440504     Validation Error = 0.00547308106945\n",
        "Epoch="
       ]
      },
      {
       "output_type": "stream",
       "stream": "stdout",
       "text": [
        " 518  Training Error = 0.0054850522048     Validation Error = 0.00547308106945\n",
        "Epoch="
       ]
      },
      {
       "output_type": "stream",
       "stream": "stdout",
       "text": [
        " 519  Training Error = 0.00548458589806     Validation Error = 0.00547308106945\n",
        "Epoch="
       ]
      },
      {
       "output_type": "stream",
       "stream": "stdout",
       "text": [
        " 520  Training Error = 0.00548470964162     Validation Error = 0.00547308106945\n",
        "------------\n",
        "Prediction=\n",
        "[[ 0.07428801]\n",
        " [ 0.92191891]\n",
        " [ 0.93118942]\n",
        " [ 0.07428801]]"
       ]
      },
      {
       "output_type": "stream",
       "stream": "stdout",
       "text": [
        "\n"
       ]
      }
     ],
     "prompt_number": 31
    },
    {
     "cell_type": "code",
     "collapsed": false,
     "input": [
      "experiment1.find('hid1', 'w').set_value([[1,-1],[-1,1]])\n",
      "#experiment1.find('out', 'b').set_value([0.001])\n",
      "experiment1.find('out', 'w').set_value([[1],[1]])\n"
     ],
     "language": "python",
     "metadata": {},
     "outputs": [],
     "prompt_number": 33
    },
    {
     "cell_type": "code",
     "collapsed": false,
     "input": [
      "# Get the weights\n",
      "Layers_Weights =[]     #list of tuples: [(nNeurons, weights), ( tuple of the 3rd layer ), (  4th layer), .... ]\n",
      "\n",
      "for Layer in experiment1.layers[1:]:\n",
      "    nNeurons  = Layer.size\n",
      "    Weights1  = experiment1.find(Layer.name, 'w').get_value()\n",
      "    Layers_Weights.append((nNeurons, Weights1))   "
     ],
     "language": "python",
     "metadata": {},
     "outputs": [],
     "prompt_number": 32
    },
    {
     "cell_type": "code",
     "collapsed": false,
     "input": [
      "print \"Hidden Layer - Weights:\" \n",
      "print Layers_Weights[0][1][0], Layers_Weights[0][1][1]\n",
      "print \"\"\n",
      "print \"Output Layer - Weights:\"\n",
      "print Layers_Weights[1][1]"
     ],
     "language": "python",
     "metadata": {},
     "outputs": [
      {
       "output_type": "stream",
       "stream": "stdout",
       "text": [
        "Hidden Layer - Weights:\n",
        "[ 0.99211848 -0.93121296] [-0.99225797  0.93046104]\n",
        "\n",
        "Output Layer - Weights:\n",
        "[[ 0.86376788]\n",
        " [ 0.9110076 ]]\n"
       ]
      }
     ],
     "prompt_number": 33
    },
    {
     "cell_type": "code",
     "collapsed": false,
     "input": [
      "print 0.77745275/0.00232377"
     ],
     "language": "python",
     "metadata": {},
     "outputs": [
      {
       "output_type": "stream",
       "stream": "stdout",
       "text": [
        "334.565275393\n"
       ]
      }
     ],
     "prompt_number": 80
    },
    {
     "cell_type": "code",
     "collapsed": false,
     "input": [
      "print 430.3929553/1.28660573"
     ],
     "language": "python",
     "metadata": {},
     "outputs": [
      {
       "output_type": "stream",
       "stream": "stdout",
       "text": [
        "334.518139679\n"
       ]
      }
     ],
     "prompt_number": 81
    },
    {
     "cell_type": "code",
     "collapsed": false,
     "input": [
      "print 0.77745275*1.28"
     ],
     "language": "python",
     "metadata": {},
     "outputs": [
      {
       "output_type": "stream",
       "stream": "stdout",
       "text": [
        "0.99513952\n"
       ]
      }
     ],
     "prompt_number": 83
    },
    {
     "cell_type": "code",
     "collapsed": false,
     "input": [
      "# Skip this step\n",
      "\n",
      "\n",
      "\n",
      "\n",
      "# Weight Normalization\n",
      "\n",
      "abs_max=0\n",
      "for layer_num, weights in enumerate(Layers_Weights):   \n",
      "    abs_max = max(abs_max, np.max(weights[1]))\n",
      "print abs_max\n",
      "for layer_num, weights in enumerate(Layers_Weights):   \n",
      "    for i, neuron in enumerate(weights[1]):\n",
      "        for j,iW in enumerate(neuron):\n",
      "            Layers_Weights[layer_num][1][i][j]=float(iW) / float(abs_max)"
     ],
     "language": "python",
     "metadata": {},
     "outputs": [
      {
       "output_type": "stream",
       "stream": "stdout",
       "text": [
        "430.39295553\n"
       ]
      }
     ],
     "prompt_number": 62
    },
    {
     "cell_type": "code",
     "collapsed": false,
     "input": [
      "print \"Hidden Layer - Weights:\" \n",
      "print Layers_Weights[0][1]\n",
      "print \"\"\n",
      "print \"Output Layer - Weights:\"\n",
      "print Layers_Weights[1][1]\n",
      "\n",
      "#conns[0].W.alldata"
     ],
     "language": "python",
     "metadata": {},
     "outputs": [
      {
       "output_type": "stream",
       "stream": "stdout",
       "text": [
        "Hidden Layer - Weights:\n",
        "[[ 0.99211848 -0.93121296]\n",
        " [-0.99225797  0.93046104]]\n",
        "\n",
        "Output Layer - Weights:\n",
        "[[ 0.86376788]\n",
        " [ 0.9110076 ]]\n"
       ]
      }
     ],
     "prompt_number": 34
    },
    {
     "cell_type": "code",
     "collapsed": false,
     "input": [
      "# Spike-based Testing of Fully-Connected NN\n",
      "\n",
      "v_th     = 950 * mV\n",
      "v_r      = 0.0  * mV\n",
      "duration = 5000 * ms \n",
      "dt       = 1000 * ms\n",
      "tau_m    = dt\n",
      "\n",
      "eqs = '''\n",
      "dv/dt = -v/tau_m : volt\n",
      "'''\n",
      "\n",
      "reinit_default_clock()\n",
      "clear(True)\n",
      "\n",
      "# Build populations\n",
      "pops=[]\n",
      "conns=[]\n",
      "\n",
      "pops.append(PoissonGroup(2))                                                         # Input Layer\n",
      "\n",
      "#pops.append(SpikeGeneratorGroup(2, [] ))#spiketimes)\n",
      "\n",
      "for (layer_num, layer_size) in enumerate(Layers_Weights):\n",
      "    pops.append(NeuronGroup(layer_size[0], eqs, threshold=v_th ,reset=v_r))          # Hidden Layer(s) + Output\n",
      "for (layer_num, weights) in enumerate(Layers_Weights):\n",
      "    c = Connection(pops[layer_num], pops[layer_num+1], 'v', weight=weights[1]*1000*mV)\n",
      "    conns.append(c)"
     ],
     "language": "python",
     "metadata": {},
     "outputs": [],
     "prompt_number": 35
    },
    {
     "cell_type": "code",
     "collapsed": false,
     "input": [
      "def emulate(index):\n",
      "    #pops[0].v =0\n",
      "    reinit_default_clock()\n",
      "\n",
      "    pops[1].v =0\n",
      "    pops[-1].v =0\n",
      "    \n",
      "    in_value = X[index]\n",
      "    target   = Y[index]\n",
      "\n",
      "    pops[0].rate = in_value*0.2*30*Hz     # in the range [0,0.2]\n",
      "    \n",
      "    \n",
      "    #spiketimes = []\n",
      "    #for neuron,v in enumerate(in_value):\n",
      "    #    if v:\n",
      "    #        spiketimes.extend([(neuron,t*second) for t in np.arange(0,5,1/15.)])\n",
      "    #print spiketimes\n",
      "    #pops[0].spiketimes = spiketimes\n",
      "    \n",
      "    #Mvin   = StateMonitor(pops[0], 'v', record=True)\n",
      "    \n",
      "    Mvmid   = StateMonitor(pops[1], 'v', record=True)\n",
      "    Mvout   = StateMonitor(pops[-1], 'v', record=True)\n",
      "    Cout = SpikeCounter(pops[-1])\n",
      "    Cmid = SpikeCounter(pops[1])\n",
      "    Cin  = SpikeCounter(pops[0])\n",
      "\n",
      "    Mout = SpikeMonitor(pops[-1])\n",
      "    Min  = SpikeMonitor(pops[0])\n",
      "\n",
      "    run(duration)\n",
      "\n",
      "    print \" ------------- Sample: \",index, \" -------------\"\n",
      "    print \"Given Inputs:\",  \"                                  Given Target:\", target\n",
      "    print in_value\n",
      "    \n",
      "    print \"\"\n",
      "    print \"Spiking\"\n",
      "    print \"Input Layer       =\"  ,Cin.count\n",
      "    print \"First Hidden Layer=\"  ,Cmid.count\n",
      "    print \"Output Layer      =\"  ,Cout.count\n",
      "\n",
      "    \n",
      "    plot(Mvmid.times/ms, Mvmid[0]/mV)\n",
      "    plt.xlabel(\"Time (ms)\")\n",
      "    plt.ylabel(\"Voltage hidden[0] (mV)\")\n",
      "    show()\n",
      "    plot(Mvmid.times/ms, Mvmid[1]/mV)\n",
      "    plt.xlabel(\"Time (ms)\")\n",
      "    plt.ylabel(\"Voltage hidden[1] (mV)\")\n",
      "    show()\n",
      "    plot(Mvout.times/ms, Mvout[0]/mV)\n",
      "    plt.xlabel(\"Time (ms)\")\n",
      "    plt.ylabel(\"Voltage (mV)\")\n",
      "    show()\n",
      "    return Cout.count"
     ],
     "language": "python",
     "metadata": {},
     "outputs": [],
     "prompt_number": 36
    },
    {
     "cell_type": "code",
     "collapsed": false,
     "input": [
      "emulate(0)"
     ],
     "language": "python",
     "metadata": {},
     "outputs": [
      {
       "output_type": "stream",
       "stream": "stdout",
       "text": [
        " ------------- Sample:  0  -------------\n",
        "Given Inputs:                                   Given Target: [ 0.]\n",
        "[ 0.  0.]\n",
        "\n",
        "Spiking\n",
        "Input Layer       = [0 0]\n",
        "First Hidden Layer= [0 0]\n",
        "Output Layer      = [0]\n"
       ]
      },
      {
       "metadata": {},
       "output_type": "display_data",
       "png": "[encoded data removed]",
       "text": [
        "<matplotlib.figure.Figure at 0x7f0447252b90>"
       ]
      },
      {
       "metadata": {},
       "output_type": "display_data",
       "png": "[encoded data removed]",
       "text": [
        "<matplotlib.figure.Figure at 0x7f043ddbe910>"
       ]
      },
      {
       "metadata": {},
       "output_type": "display_data",
       "png": "[encoded data removed]",
       "text": [
        "<matplotlib.figure.Figure at 0x7f043da8d7d0>"
       ]
      },
      {
       "metadata": {},
       "output_type": "pyout",
       "prompt_number": 37,
       "text": [
        "array([0])"
       ]
      }
     ],
     "prompt_number": 37
    },
    {
     "cell_type": "code",
     "collapsed": false,
     "input": [
      "emulate(1)"
     ],
     "language": "python",
     "metadata": {},
     "outputs": [
      {
       "output_type": "stream",
       "stream": "stdout",
       "text": [
        " ------------- Sample:  1  -------------\n",
        "Given Inputs:                                   Given Target: [ 1.]\n",
        "[ 0.  1.]\n",
        "\n",
        "Spiking\n",
        "Input Layer       = [ 0 34]\n",
        "First Hidden Layer= [ 0 17]\n",
        "Output Layer      = [8]\n"
       ]
      },
      {
       "metadata": {},
       "output_type": "display_data",
       "png": "[encoded data removed]",
       "text": [
        "<matplotlib.figure.Figure at 0x7f0482b0fb10>"
       ]
      },
      {
       "metadata": {},
       "output_type": "display_data",
       "png": "[encoded data removed]",
       "text": [
        "<matplotlib.figure.Figure at 0x7f044795add0>"
       ]
      },
      {
       "metadata": {},
       "output_type": "display_data",
       "png": "[encoded data removed]",
       "text": [
        "<matplotlib.figure.Figure at 0x7f0449361a10>"
       ]
      },
      {
       "metadata": {},
       "output_type": "pyout",
       "prompt_number": 38,
       "text": [
        "array([8])"
       ]
      }
     ],
     "prompt_number": 38
    },
    {
     "cell_type": "code",
     "collapsed": false,
     "input": [
      "emulate(2)"
     ],
     "language": "python",
     "metadata": {},
     "outputs": [
      {
       "output_type": "stream",
       "stream": "stdout",
       "text": [
        " ------------- Sample:  2  -------------\n",
        "Given Inputs:                                   Given Target: [ 1.]\n",
        "[ 1.  0.]\n",
        "\n",
        "Spiking\n",
        "Input Layer       = [30  0]\n",
        "First Hidden Layer= [30  0]\n",
        "Output Layer      = [15]\n"
       ]
      },
      {
       "metadata": {},
       "output_type": "display_data",
       "png": "[encoded data removed]",
       "text": [
        "<matplotlib.figure.Figure at 0x7f04444c7350>"
       ]
      },
      {
       "metadata": {},
       "output_type": "display_data",
       "png": "[encoded data removed]",
       "text": [
        "<matplotlib.figure.Figure at 0x7f043daca990>"
       ]
      },
      {
       "metadata": {},
       "output_type": "display_data",
       "png": "[encoded data removed]",
       "text": [
        "<matplotlib.figure.Figure at 0x7f0447670950>"
       ]
      },
      {
       "metadata": {},
       "output_type": "pyout",
       "prompt_number": 39,
       "text": [
        "array([15])"
       ]
      }
     ],
     "prompt_number": 39
    },
    {
     "cell_type": "code",
     "collapsed": false,
     "input": [
      "emulate(3)"
     ],
     "language": "python",
     "metadata": {},
     "outputs": [
      {
       "output_type": "stream",
       "stream": "stdout",
       "text": [
        " ------------- Sample:  3  -------------\n",
        "Given Inputs:                                   Given Target: [ 0.]\n",
        "[ 1.  1.]\n",
        "\n",
        "Spiking\n",
        "Input Layer       = [26 29]\n",
        "First Hidden Layer= [7 5]\n",
        "Output Layer      = [6]\n"
       ]
      },
      {
       "metadata": {},
       "output_type": "display_data",
       "png": "[encoded data removed]",
       "text": [
        "<matplotlib.figure.Figure at 0x7f043de35610>"
       ]
      },
      {
       "metadata": {},
       "output_type": "display_data",
       "png": "[encoded data removed]",
       "text": [
        "<matplotlib.figure.Figure at 0x7f04471e2090>"
       ]
      },
      {
       "metadata": {},
       "output_type": "display_data",
       "png": "[encoded data removed]",
       "text": [
        "<matplotlib.figure.Figure at 0x7f044347c110>"
       ]
      },
      {
       "metadata": {},
       "output_type": "pyout",
       "prompt_number": 40,
       "text": [
        "array([6])"
       ]
      }
     ],
     "prompt_number": 40
    },
    {
     "cell_type": "code",
     "collapsed": false,
     "input": [
      "c=conns[-1]"
     ],
     "language": "python",
     "metadata": {},
     "outputs": [],
     "prompt_number": 76
    },
    {
     "cell_type": "code",
     "collapsed": false,
     "input": [
      "c.W.alldata"
     ],
     "language": "python",
     "metadata": {},
     "outputs": [
      {
       "metadata": {},
       "output_type": "pyout",
       "prompt_number": 78,
       "text": [
        "array([ 0.69012205,  1.27647509])"
       ]
      }
     ],
     "prompt_number": 78
    },
    {
     "cell_type": "code",
     "collapsed": false,
     "input": [
      "# poisson (6Hz) S[0]\n",
      "\n",
      "def emulate():\n",
      "    pass=[0,0,0,0]\n",
      "    for i in range(len(X)):\n",
      "        answer=emulate(i)[0]\n",
      "        pass[i] = answer>15\n",
      "    #compare to target\n",
      "    \n",
      "            \n",
      "        "
     ],
     "language": "python",
     "metadata": {},
     "outputs": []
    }
   ],
   "metadata": {}
  }
 ]
}