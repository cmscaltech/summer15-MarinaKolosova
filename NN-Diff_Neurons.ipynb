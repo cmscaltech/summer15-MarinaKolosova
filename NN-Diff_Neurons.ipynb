{
 "metadata": {
  "name": "",
  "signature": "sha256:f34fe2a4b1eba26d124ad8201990d2be534da4287af80112d21437abf9a48807"
 },
 "nbformat": 3,
 "nbformat_minor": 0,
 "worksheets": [
  {
   "cells": [
    {
     "cell_type": "code",
     "collapsed": false,
     "input": [
      "import h5py\n",
      "import theanets\n",
      "import time"
     ],
     "language": "python",
     "metadata": {},
     "outputs": [
      {
       "output_type": "stream",
       "stream": "stdout",
       "text": [
        "Couldn't import dot_parser, loading of dot files will not be possible.\n"
       ]
      }
     ],
     "prompt_number": 1
    },
    {
     "cell_type": "code",
     "collapsed": false,
     "input": [
      "f=h5py.File(\"data/data.hdf5\")\n",
      "f.keys()\n",
      "f['data'].keys()\n",
      "input_matrix     = f['data']['input'].value\n",
      "target_matrix    = f['data']['target'].value\n",
      "decorator_matrix = f['data']['deco'].value\n",
      "f.close()"
     ],
     "language": "python",
     "metadata": {},
     "outputs": [],
     "prompt_number": 2
    },
    {
     "cell_type": "code",
     "collapsed": false,
     "input": [
      "nInputs = input_matrix.shape[1]\n",
      "nOutputs = target_matrix.shape[1]\n",
      "\n",
      "truncate=10000\n",
      "\n",
      "nInputs = input_matrix.shape[1]\n",
      "nOutputs = target_matrix.shape[1]\n",
      "\n",
      "input_matrix = input_matrix[0:truncate,...]\n",
      "target_matrix = target_matrix[0:truncate,...]\n",
      "decorator_matrix = decorator_matrix[0:truncate,...]"
     ],
     "language": "python",
     "metadata": {},
     "outputs": [],
     "prompt_number": 3
    },
    {
     "cell_type": "code",
     "collapsed": false,
     "input": [
      "def allincluded( truncated, nHiddenLayers, epochs, trainings,HiddenNeurons):\n",
      "    timing_start = time.mktime(time.gmtime())\n",
      "    fom = 1.0\n",
      "    \n",
      "    exp=theanets.Experiment(theanets.feedforward.Regressor(layers=(nInputs,)+tuple([HiddenNeurons for l in range(nHiddenLayers)])+ ( (nOutputs, 'sigmoid'),)),'layerwise')    \n",
      "        \n",
      "    cut   =int(input_matrix.shape[0]*0.8)\n",
      "    train =input_matrix[:cut], target_matrix[:cut]\n",
      "    valid =input_matrix[cut:], target_matrix[cut:]\n",
      "    \n",
      "    for i in range(0, epochs):\n",
      "        for j in range(trainings):\n",
      "            exp.train(train, valid, learning_rate=0.1/10**i, batch_size=100)        \n",
      "    timing_end=time.mktime(time.gmtime())\n",
      "    \n",
      "    prediction = exp.network.predict(train[0])\n",
      "    goodness = np.asarray([[cut,(list(target_matrix[np.where(prediction>cut)]==1).count(True)+list(target_matrix[np.where(prediction<cut)]==0).count(True))/ float(input_matrix.shape[0])]  for cut in np.arange(0,1,0.05)])\n",
      "    fom = max( goodness[:,1])\n",
      "    \n",
      "    timing=timing_end-timing_start\n",
      "    return (fom, timing)"
     ],
     "language": "python",
     "metadata": {},
     "outputs": [],
     "prompt_number": 4
    },
    {
     "cell_type": "code",
     "collapsed": false,
     "input": [
      "# (Number of Samples, Hidden Layers, Epoch, Trainings, Timing, FOM, Hidden Neurons) \n",
      "mapAlgo=[]"
     ],
     "language": "python",
     "metadata": {},
     "outputs": [],
     "prompt_number": 5
    },
    {
     "cell_type": "code",
     "collapsed": false,
     "input": [
      "print mapAlgo"
     ],
     "language": "python",
     "metadata": {},
     "outputs": [
      {
       "output_type": "stream",
       "stream": "stdout",
       "text": [
        "[]\n"
       ]
      }
     ],
     "prompt_number": 6
    },
    {
     "cell_type": "code",
     "collapsed": false,
     "input": [
      "iLayers=1\n",
      "HiddenNeurons=100\n",
      "trainings=2\n",
      "epochs=10\n",
      "\n",
      "for nHN in range(10):\n",
      "    truncate=10000\n",
      "    for j in range (0, 5):\n",
      "        input_matrix     = input_matrix[0:truncate,...]\n",
      "        target_matrix    = target_matrix[0:truncate,...]\n",
      "        decorator_matrix = decorator_matrix[0:truncate,...]\n",
      "        \n",
      "        fom, timing = allincluded(truncate,iLayers,epochs,trainings,HiddenNeurons)\n",
      "        mapAlgo.append((truncate,iLayers,epochs,trainings,timing,fom,HiddenNeurons))\n",
      "        print 'Samples=',truncate,'Hidden Layers=',iLayers, 'epochs=', epochs, 'trainings=', trainings, \"fom=\",fom,\" time=\", timing, 'Hidden Neurons=',HiddenNeurons \n",
      "        truncate+=10000\n",
      "    HiddenNeurons+=100"
     ],
     "language": "python",
     "metadata": {},
     "outputs": []
    },
    {
     "cell_type": "code",
     "collapsed": false,
     "input": [
      "print mapAlgo"
     ],
     "language": "python",
     "metadata": {},
     "outputs": [
      {
       "output_type": "stream",
       "stream": "stdout",
       "text": [
        "[(10000, 1, 10, 2, 207.0, 0.76270000000000004, 100), (20000, 1, 10, 2, 276.0, 0.47420000000000001, 100), (30000, 1, 10, 2, 202.0, 0.77170000000000005, 100), (40000, 1, 10, 2, 204.0, 0.77590000000000003, 100), (50000, 1, 10, 2, 202.0, 0.79110000000000003, 100), (10000, 1, 10, 2, 356.0, 0.77359999999999995, 200), (20000, 1, 10, 2, 351.0, 0.78649999999999998, 200), (30000, 1, 10, 2, 355.0, 0.78690000000000004, 200), (40000, 1, 10, 2, 367.0, 0.78239999999999998, 200), (50000, 1, 10, 2, 360.0, 0.78559999999999997, 200), (10000, 1, 10, 2, 520.0, 0.79369999999999996, 300), (20000, 1, 10, 2, 518.0, 0.78939999999999999, 300), (30000, 1, 10, 2, 499.0, 0.78659999999999997, 300), (40000, 1, 10, 2, 518.0, 0.78800000000000003, 300), (50000, 1, 10, 2, 509.0, 0.78759999999999997, 300), (10000, 1, 10, 2, 797.0, 0.78129999999999999, 400), (20000, 1, 10, 2, 657.0, 0.78390000000000004, 400), (30000, 1, 10, 2, 671.0, 0.78400000000000003, 400), (40000, 1, 10, 2, 685.0, 0.78749999999999998, 400), (50000, 1, 10, 2, 706.0, 0.79730000000000001, 400), (10000, 1, 10, 2, 799.0, 0.77729999999999999, 500), (20000, 1, 10, 2, 960.0, 0.47420000000000001, 500), (30000, 1, 10, 2, 822.0, 0.77039999999999997, 500), (40000, 1, 10, 2, 870.0, 0.78590000000000004, 500), (50000, 1, 10, 2, 938.0, 0.47420000000000001, 500), (10000, 1, 10, 2, 947.0, 0.78739999999999999, 600), (20000, 1, 10, 2, 952.0, 0.76119999999999999, 600), (30000, 1, 10, 2, 929.0, 0.78510000000000002, 600), (40000, 1, 10, 2, 943.0, 0.7964, 600), (50000, 1, 10, 2, 994.0, 0.77100000000000002, 600), (10000, 1, 10, 2, 1183.0, 0.7893, 700), (20000, 1, 10, 2, 1199.0, 0.79379999999999995, 700), (30000, 1, 10, 2, 1175.0, 0.78969999999999996, 700), (40000, 1, 10, 2, 1170.0, 0.78979999999999995, 700), (50000, 1, 10, 2, 1211.0, 0.78920000000000001, 700), (10000, 1, 10, 2, 1414.0, 0.78280000000000005, 800), (20000, 1, 10, 2, 1366.0, 0.78700000000000003, 800), (30000, 1, 10, 2, 1296.0, 0.79120000000000001, 800), (40000, 1, 10, 2, 1350.0, 0.78569999999999995, 800), (50000, 1, 10, 2, 1348.0, 0.79690000000000005, 800), (10000, 1, 10, 2, 1519.0, 0.77229999999999999, 900), (20000, 1, 10, 2, 1637.0, 0.78890000000000005, 900), (30000, 1, 10, 2, 1465.0, 0.77859999999999996, 900), (40000, 1, 10, 2, 1470.0, 0.79010000000000002, 900), (50000, 1, 10, 2, 1520.0, 0.78910000000000002, 900), (10000, 1, 10, 2, 1669.0, 0.79479999999999995, 1000), (20000, 1, 10, 2, 1650.0, 0.78979999999999995, 1000), (30000, 1, 10, 2, 1653.0, 0.7792, 1000), (40000, 1, 10, 2, 1654.0, 0.79420000000000002, 1000), (50000, 1, 10, 2, 1649.0, 0.78910000000000002, 1000)]\n"
       ]
      }
     ],
     "prompt_number": 8
    },
    {
     "cell_type": "code",
     "collapsed": false,
     "input": [
      "plt.scatter([x[0] for x in mapAlgo], [y[5] for y in mapAlgo])\n",
      "plt.xlabel('Number of Samples')\n",
      "plt.ylabel('FOM')"
     ],
     "language": "python",
     "metadata": {},
     "outputs": [
      {
       "metadata": {},
       "output_type": "pyout",
       "prompt_number": 9,
       "text": [
        "<matplotlib.text.Text at 0x7fd799f604d0>"
       ]
      },
      {
       "metadata": {},
       "output_type": "display_data",
       "png": "[encoded data removed]",
       "text": [
        "<matplotlib.figure.Figure at 0x7fd7b772fc50>"
       ]
      }
     ],
     "prompt_number": 9
    },
    {
     "cell_type": "code",
     "collapsed": false,
     "input": [
      "iLayers=2\n",
      "HiddenNeurons=100\n",
      "trainings=2\n",
      "epochs=10\n",
      "\n",
      "for nHN in range(10):\n",
      "    truncate=10000\n",
      "    for j in range (0, 5):\n",
      "        input_matrix     = input_matrix[0:truncate,...]\n",
      "        target_matrix    = target_matrix[0:truncate,...]\n",
      "        decorator_matrix = decorator_matrix[0:truncate,...]\n",
      "        \n",
      "        fom, timing = allincluded(truncate,iLayers,epochs,trainings,HiddenNeurons)\n",
      "        mapAlgo.append((truncate,iLayers,epochs,trainings,timing,fom,HiddenNeurons))\n",
      "        print 'Samples=',truncate,'Hidden Layers=',iLayers, 'epochs=', epochs, 'trainings=', trainings, \"fom=\",fom,\" time=\", timing, 'Hidden Neurons=',HiddenNeurons \n",
      "        truncate+=10000\n",
      "    HiddenNeurons+=100"
     ],
     "language": "python",
     "metadata": {},
     "outputs": [
      {
       "output_type": "stream",
       "stream": "stdout",
       "text": [
        "Samples= 10000 Hidden Layers= 2 epochs= 10 trainings= 2 fom= 0.7577  time= 428.0 Hidden Neurons= 100\n",
        "Samples="
       ]
      },
      {
       "output_type": "stream",
       "stream": "stdout",
       "text": [
        " 20000 Hidden Layers= 2 epochs= 10 trainings= 2 fom= 0.7643  time= 493.0 Hidden Neurons= 100\n",
        "Samples="
       ]
      },
      {
       "output_type": "stream",
       "stream": "stdout",
       "text": [
        " 30000 Hidden Layers= 2 epochs= 10 trainings= 2 fom= 0.7627  time= 416.0 Hidden Neurons= 100\n",
        "Samples="
       ]
      },
      {
       "output_type": "stream",
       "stream": "stdout",
       "text": [
        " 40000 Hidden Layers= 2 epochs= 10 trainings= 2 fom= 0.7801  time= 432.0 Hidden Neurons= 100\n",
        "Samples="
       ]
      },
      {
       "output_type": "stream",
       "stream": "stdout",
       "text": [
        " 50000 Hidden Layers= 2 epochs= 10 trainings= 2 fom= 0.7609  time= 415.0 Hidden Neurons= 100\n",
        "Samples="
       ]
      },
      {
       "output_type": "stream",
       "stream": "stdout",
       "text": [
        " 10000 Hidden Layers= 2 epochs= 10 trainings= 2 fom= 0.7624  time= 1067.0 Hidden Neurons= 200\n",
        "Samples="
       ]
      },
      {
       "output_type": "stream",
       "stream": "stdout",
       "text": [
        " 20000 Hidden Layers= 2 epochs= 10 trainings= 2 fom= 0.7874  time= 1040.0 Hidden Neurons= 200\n",
        "Samples="
       ]
      },
      {
       "output_type": "stream",
       "stream": "stdout",
       "text": [
        " 30000 Hidden Layers= 2 epochs= 10 trainings= 2 fom= 0.7665  time= 1089.0 Hidden Neurons= 200\n",
        "Samples="
       ]
      },
      {
       "output_type": "stream",
       "stream": "stdout",
       "text": [
        " 40000 Hidden Layers= 2 epochs= 10 trainings= 2 fom= 0.7908  time= 1102.0 Hidden Neurons= 200\n",
        "Samples="
       ]
      },
      {
       "output_type": "stream",
       "stream": "stdout",
       "text": [
        " 10000 Hidden Layers= 2 epochs= 10 trainings= 2 fom= 0.7822  time= 2404.0 Hidden Neurons= 300\n",
        "Samples="
       ]
      },
      {
       "output_type": "stream",
       "stream": "stdout",
       "text": [
        " 20000 Hidden Layers= 2 epochs= 10 trainings= 2 fom= 0.7937  time= 2161.0 Hidden Neurons= 300\n",
        "Samples="
       ]
      },
      {
       "output_type": "stream",
       "stream": "stdout",
       "text": [
        " 30000 Hidden Layers= 2 epochs= 10 trainings= 2 fom= 0.4742  time= 3719.0 Hidden Neurons= 300\n",
        "Samples="
       ]
      },
      {
       "output_type": "stream",
       "stream": "stdout",
       "text": [
        " 40000 Hidden Layers= 2 epochs= 10 trainings= 2 fom= 0.7762  time= 3112.0 Hidden Neurons= 300\n",
        "Samples="
       ]
      },
      {
       "output_type": "stream",
       "stream": "stdout",
       "text": [
        " 50000 Hidden Layers= 2 epochs= 10 trainings= 2 fom= 0.7853  time= 2682.0 Hidden Neurons= 300\n",
        "Samples="
       ]
      },
      {
       "output_type": "stream",
       "stream": "stdout",
       "text": [
        " 10000 Hidden Layers= 2 epochs= 10 trainings= 2 fom= 0.7913  time= 4240.0 Hidden Neurons= 400\n",
        "Samples="
       ]
      },
      {
       "output_type": "stream",
       "stream": "stdout",
       "text": [
        " 20000 Hidden Layers= 2 epochs= 10 trainings= 2 fom= 0.4742  time= 5809.0 Hidden Neurons= 400\n",
        "Samples="
       ]
      },
      {
       "output_type": "stream",
       "stream": "stdout",
       "text": [
        " 30000 Hidden Layers= 2 epochs= 10 trainings= 2 fom= 0.7648  time= 5311.0 Hidden Neurons= 400\n",
        "Samples="
       ]
      },
      {
       "output_type": "stream",
       "stream": "stdout",
       "text": [
        " 40000 Hidden Layers= 2 epochs= 10 trainings= 2 fom= 0.7737  time= 3234.0 Hidden Neurons= 400\n",
        "Samples="
       ]
      },
      {
       "output_type": "stream",
       "stream": "stdout",
       "text": [
        " 50000 Hidden Layers= 2 epochs= 10 trainings= 2 fom= 0.7617  time= 3270.0 Hidden Neurons= 400\n",
        "Samples="
       ]
      },
      {
       "output_type": "stream",
       "stream": "stdout",
       "text": [
        " 10000 Hidden Layers= 2 epochs= 10 trainings= 2 fom= 0.7506  time= 5355.0 Hidden Neurons= 500\n",
        "Samples="
       ]
      },
      {
       "output_type": "stream",
       "stream": "stdout",
       "text": [
        " 20000 Hidden Layers= 2 epochs= 10 trainings= 2 fom= 0.7558  time= 5075.0 Hidden Neurons= 500\n",
        "Samples="
       ]
      },
      {
       "output_type": "stream",
       "stream": "stdout",
       "text": [
        " 30000 Hidden Layers= 2 epochs= 10 trainings= 2 fom= 0.7492  time= 4942.0 Hidden Neurons= 500\n",
        "Samples="
       ]
      },
      {
       "output_type": "stream",
       "stream": "stdout",
       "text": [
        " 40000 Hidden Layers= 2 epochs= 10 trainings= 2 fom= 0.4742  time= 6603.0 Hidden Neurons= 500\n",
        "Samples="
       ]
      },
      {
       "output_type": "stream",
       "stream": "stdout",
       "text": [
        " 50000 Hidden Layers= 2 epochs= 10 trainings= 2 fom= 0.7707  time= 4964.0 Hidden Neurons= 500\n",
        "Samples="
       ]
      },
      {
       "output_type": "stream",
       "stream": "stdout",
       "text": [
        " 10000 Hidden Layers= 2 epochs= 10 trainings= 2 fom= 0.7501  time= 7689.0 Hidden Neurons= 600\n",
        "Samples="
       ]
      },
      {
       "output_type": "stream",
       "stream": "stdout",
       "text": [
        " 20000 Hidden Layers= 2 epochs= 10 trainings= 2 fom= 0.7499  time= 6580.0 Hidden Neurons= 600\n",
        "Samples="
       ]
      },
      {
       "output_type": "stream",
       "stream": "stdout",
       "text": [
        " 30000 Hidden Layers= 2 epochs= 10 trainings= 2 fom= 0.7496  time= 6790.0 Hidden Neurons= 600\n",
        "Samples="
       ]
      },
      {
       "output_type": "stream",
       "stream": "stdout",
       "text": [
        " 40000 Hidden Layers= 2 epochs= 10 trainings= 2 fom= 0.7698  time= 6902.0 Hidden Neurons= 600\n",
        "Samples="
       ]
      },
      {
       "output_type": "stream",
       "stream": "stdout",
       "text": [
        " 50000 Hidden Layers= 2 epochs= 10 trainings= 2 fom= 0.7697  time= 8197.0 Hidden Neurons= 600\n",
        "Samples="
       ]
      },
      {
       "output_type": "stream",
       "stream": "stdout",
       "text": [
        " 10000 Hidden Layers= 2 epochs= 10 trainings= 2 fom= 0.7508  time= 13959.0 Hidden Neurons= 700\n",
        "Samples="
       ]
      },
      {
       "output_type": "stream",
       "stream": "stdout",
       "text": [
        " 20000 Hidden Layers= 2 epochs= 10 trainings= 2 fom= 0.7678  time= 9742.0 Hidden Neurons= 700\n",
        "Samples="
       ]
      },
      {
       "output_type": "stream",
       "stream": "stdout",
       "text": [
        " 30000 Hidden Layers= 2 epochs= 10 trainings= 2 fom= 0.7658  time= 9502.0 Hidden Neurons= 700\n",
        "Samples="
       ]
      },
      {
       "output_type": "stream",
       "stream": "stdout",
       "text": [
        " 40000 Hidden Layers= 2 epochs= 10 trainings= 2 fom= 0.4742  time= 12456.0 Hidden Neurons= 700\n",
        "Samples="
       ]
      },
      {
       "output_type": "stream",
       "stream": "stdout",
       "text": [
        " 50000 Hidden Layers= 2 epochs= 10 trainings= 2 fom= 0.4742  time= 10954.0 Hidden Neurons= 700\n",
        "Samples="
       ]
      },
      {
       "output_type": "stream",
       "stream": "stdout",
       "text": [
        " 10000 Hidden Layers= 2 epochs= 10 trainings= 2 fom= 0.748  time= 11305.0 Hidden Neurons= 800\n",
        "Traceback (most recent call last):\n"
       ]
      },
      {
       "output_type": "stream",
       "stream": "stdout",
       "text": [
        "  File \"/usr/local/lib/python2.7/site-packages/IPython/core/ultratb.py\", line 776, in structured_traceback\n",
        "    records = _fixed_getinnerframes(etb, context, tb_offset)\n",
        "  File \"/usr/local/lib/python2.7/site-packages/IPython/core/ultratb.py\", line 230, in wrapped\n",
        "    return f(*args, **kwargs)\n",
        "  File \"/usr/local/lib/python2.7/site-packages/IPython/core/ultratb.py\", line 259, in _fixed_getinnerframes\n",
        "    records  = fix_frame_records_filenames(inspect.getinnerframes(etb, context))\n",
        "  File \"/usr/local/lib/python2.7/inspect.py\", line 1044, in getinnerframes\n",
        "    framelist.append((tb.tb_frame,) + getframeinfo(tb, context))\n",
        "  File \"/usr/local/lib/python2.7/inspect.py\", line 1004, in getframeinfo\n",
        "    filename = getsourcefile(frame) or getfile(frame)\n",
        "  File \"/usr/local/lib/python2.7/inspect.py\", line 454, in getsourcefile\n",
        "    if hasattr(getmodule(object, filename), '__loader__'):\n",
        "  File \"/usr/local/lib/python2.7/inspect.py\", line 500, in getmodule\n",
        "    os.path.realpath(f)] = module.__name__\n",
        "  File \"/usr/local/lib/python2.7/posixpath.py\", line 383, in realpath\n",
        "    return abspath(path)\n"
       ]
      },
      {
       "output_type": "stream",
       "stream": "stderr",
       "text": [
        "ERROR: Internal Python error in the inspect module.\n",
        "Below is the traceback from this internal error.\n",
        "\n"
       ]
      },
      {
       "output_type": "stream",
       "stream": "stdout",
       "text": [
        "  File \"/usr/local/lib/python2.7/posixpath.py\", line 373, in abspath\n",
        "    return normpath(path)\n",
        "  File \"/usr/local/lib/python2.7/posixpath.py\", line 346, in normpath\n",
        "    path.startswith('//') and not path.startswith('///')):\n",
        "KeyboardInterrupt\n"
       ]
      },
      {
       "output_type": "stream",
       "stream": "stderr",
       "text": [
        "\n",
        "Unfortunately, your original traceback can not be constructed.\n",
        "\n"
       ]
      },
      {
       "ename": "KeyboardInterrupt",
       "evalue": "",
       "output_type": "pyerr",
       "traceback": ""
      }
     ]
    },
    {
     "cell_type": "code",
     "collapsed": false,
     "input": [
      "print mapAlgo"
     ],
     "language": "python",
     "metadata": {},
     "outputs": []
    },
    {
     "cell_type": "code",
     "collapsed": false,
     "input": [],
     "language": "python",
     "metadata": {},
     "outputs": []
    }
   ],
   "metadata": {}
  }
 ]
}