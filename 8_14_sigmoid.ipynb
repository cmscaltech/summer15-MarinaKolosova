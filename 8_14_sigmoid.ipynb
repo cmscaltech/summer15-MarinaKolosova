{
 "metadata": {
  "name": "",
  "signature": "sha256:4783e6aa9936cbb2bfa8023e12c3ab51c56869d9d51e8325db10944c3df02eed"
 },
 "nbformat": 3,
 "nbformat_minor": 0,
 "worksheets": [
  {
   "cells": [
    {
     "cell_type": "code",
     "collapsed": false,
     "input": [
      "import h5py\n",
      "import theanets\n",
      "import time"
     ],
     "language": "python",
     "metadata": {},
     "outputs": [
      {
       "output_type": "stream",
       "stream": "stdout",
       "text": [
        "Couldn't import dot_parser, loading of dot files will not be possible.\n"
       ]
      }
     ],
     "prompt_number": 1
    },
    {
     "cell_type": "code",
     "collapsed": false,
     "input": [
      "f=h5py.File(\"data/data.hdf5\")\n",
      "f.keys()\n",
      "f['data'].keys()\n",
      "\n",
      "global input_matrix\n",
      "global target_matrix\n",
      "global decorator_matrix\n",
      "\n",
      "input_matrix     = f['data']['input'].value\n",
      "target_matrix    = f['data']['target'].value\n",
      "decorator_matrix = f['data']['deco'].value\n",
      "f.close()"
     ],
     "language": "python",
     "metadata": {},
     "outputs": [],
     "prompt_number": 2
    },
    {
     "cell_type": "code",
     "collapsed": false,
     "input": [
      "nInputs  = input_matrix.shape[1]\n",
      "nOutputs = target_matrix.shape[1]"
     ],
     "language": "python",
     "metadata": {},
     "outputs": [],
     "prompt_number": 3
    },
    {
     "cell_type": "code",
     "collapsed": false,
     "input": [
      "print \"Samples in input_matrix=\", len(input_matrix), \"       Inputs=\", nInputs, \"       Outputs=\",nOutputs"
     ],
     "language": "python",
     "metadata": {},
     "outputs": [
      {
       "output_type": "stream",
       "stream": "stdout",
       "text": [
        "Samples in input_matrix= 982867        Inputs= 82        Outputs= 1\n"
       ]
      }
     ],
     "prompt_number": 4
    },
    {
     "cell_type": "code",
     "collapsed": false,
     "input": [
      "nHiddenLayers=4\n",
      "nHiddenNeurons=800\n",
      "\n",
      "exp=theanets.feedforward.Regressor(layers=(nInputs,)+tuple([nHiddenNeurons for l in range(nHiddenLayers), 'sigmoid'])+ ( (nOutputs, 'sigmoid'),))   \n",
      "    \n",
      "exp.find('hid1', 'w').get_value()\n",
      "\n",
      "p=exp.find('hid1','w')\n"
     ],
     "language": "python",
     "metadata": {},
     "outputs": [],
     "prompt_number": 5
    },
    {
     "cell_type": "code",
     "collapsed": false,
     "input": [
      "def allincluded(truncated, nHiddenLayers, nHiddenNeurons):\n",
      "\n",
      "    # Create Training & Validation Set\n",
      "    # ------------------------------------------------\n",
      "    IN_matrix     = input_matrix[0:truncate,...]      \n",
      "    TARGET_matrix = target_matrix[0:truncate,...]\n",
      "    DEC_matrix    = decorator_matrix[0:truncate,...] \n",
      "    \n",
      "    cut   =int(IN_matrix.shape[0]*0.8)\n",
      "    train =IN_matrix[:cut], TARGET_matrix[:cut]\n",
      "    valid =IN_matrix[cut:], TARGET_matrix[cut:]\n",
      "    \n",
      "    # Build the NN\n",
      "    # -----------------------------------------------------------------------------------------------------------------------------------\n",
      "    # Topology: Feedforward\n",
      "    # Inputs = 82 (Jets 4-momenta (20 Jets maximum), METx, METy)\n",
      "    # Number of Hidden Layers = nHiddenLayers\n",
      "    # Activation function for Hidden Layers = sigmoid\n",
      "    # Outputs=1 (NN Trigger Bits= 0 or 1)\n",
      "    # Activation function for the Output Layer= sigmoid \n",
      "    # Layerwise: pretrainer \n",
      "\n",
      "    exp=theanets.feedforward.Regressor(layers=(nInputs,)+tuple([nHiddenNeurons for l in range(nHiddenLayers), 'sigmoid'])+ ( (nOutputs, 'sigmoid'),))   \n",
      "    \n",
      "    # ------------------------------------------------------------------------------------------------------------------------------------\n",
      "    fom_valid=0\n",
      "    fom_train=0\n",
      "    \n",
      "    Epochs       = 0\n",
      "    MaxEpochs    = 0\n",
      "    LearningRate = 0.01\n",
      "    \n",
      "    Training_Error  =[]\n",
      "    Validation_Error=[]\n",
      "    \n",
      "    print \"Start training\"\n",
      "    timing_start = time.mktime(time.gmtime())\n",
      "    \n",
      "    for TrainError, ValError in exp.itertrain(train,\n",
      "                                              valid,\n",
      "                                              learning_rate = LearningRate,\n",
      "                                              algo='rmsprop',\n",
      "                                              weight_l2=0.004,\n",
      "                                              hidden_l2=0.0075,\n",
      "                                              hidden_dropout = 0.9,\n",
      "                                              iteration_size = 20,\n",
      "                                              batch_size     = 2000, \n",
      "                                              validate_every = 1,\n",
      "                                              patience       = 300,\n",
      "                                              min_improvement= 0.0000001):\n",
      "        \n",
      "        if Epochs%1 == 0 :\n",
      "            print \"Epoch=\",Epochs+1, '  Training Error =',TrainError['err'], '     Validation Error =',ValError['err']\n",
      "            Training_Error.append(TrainError['err'])\n",
      "            Validation_Error.append(ValError['err'])\n",
      "        Epochs+=1\n",
      "        if Epochs == 2000 :\n",
      "            break   \n",
      "    \n",
      "    timing_end=time.mktime(time.gmtime())\n",
      "        \n",
      "    #exp.save('network-pickle.pkl.gz')        \n",
      "    \n",
      "    prediction = exp.predict(train[0])\n",
      "    goodness = np.asarray([[cut,(list(train[1][np.where(prediction>cut)]==1).count(True)+list(train[1][np.where(prediction<cut)]==0).count(True))/ float(train[0].shape[0])]  for cut in np.arange(0,1,0.05)])   \n",
      "    fom_train = max( goodness[:,1])    \n",
      "\n",
      "    prediction = exp.predict(valid[0])\n",
      "    goodness   = np.asarray([[cut,(list(valid[1][np.where(prediction>cut)]==1).count(True)+list(valid[1][np.where(prediction<cut)]==0).count(True))/ float(valid[0].shape[0])]  for cut in np.arange(0,1,0.05)])\n",
      "    fom_valid  = max( goodness[:,1])     \n",
      "\n",
      "    MaxCut= goodness[np.where(goodness[:,1]==goodness[:,1].max())][0][0]\n",
      "    \n",
      "    timing=timing_end-timing_start\n",
      "    \n",
      "    return fom_train, fom_valid, timing, MaxCut,Training_Error, Validation_Error \n",
      "    "
     ],
     "language": "python",
     "metadata": {},
     "outputs": [],
     "prompt_number": 9
    },
    {
     "cell_type": "code",
     "collapsed": false,
     "input": [
      "# (Number of Samples, Hidden Layers, HiddenNeurons, Epochs, Trainings, Timing, FOM ) \n",
      "mapAlgo=[]"
     ],
     "language": "python",
     "metadata": {},
     "outputs": [],
     "prompt_number": 10
    },
    {
     "cell_type": "code",
     "collapsed": false,
     "input": [
      "truncate       = 800000\n",
      "iLayers        = 4\n",
      "nHiddenNeurons = 800\n",
      "\n",
      "Training_Error   = []\n",
      "Validation_Error = []\n",
      "\n",
      "fom_train, fom_valid, timing, MaxCut, Training_Error, Validation_Error = allincluded(truncate, iLayers, nHiddenNeurons)\n",
      "mapAlgo.append((truncate, iLayers, nHiddenNeurons, fom_train, fom_valid, timing, MaxCut))\n",
      "\n",
      "print 'Samples=', truncate,'    Hid. Layers=',iLayers, \"   Hid. Neurons=\", nHiddenNeurons, \"   FOM train set=\",fom_train, \"   FOM valid. set=\", fom_valid, \" Time=\", timing, \" Max Cut=\", MaxCut          "
     ],
     "language": "python",
     "metadata": {},
     "outputs": [
      {
       "output_type": "stream",
       "stream": "stdout",
       "text": [
        "Start training\n",
        "Epoch="
       ]
      },
      {
       "output_type": "stream",
       "stream": "stdout",
       "text": [
        " 1   Training Error = 0.594489254631      Validation Error = 0.306846685846\n",
        "Epoch="
       ]
      },
      {
       "output_type": "stream",
       "stream": "stdout",
       "text": [
        " 2   Training Error = 0.610774999982      Validation Error = 0.608874999991\n",
        "Epoch="
       ]
      },
      {
       "output_type": "stream",
       "stream": "stdout",
       "text": [
        " 3   Training Error = 0.61079999988      Validation Error = 0.605024999966\n",
        "Epoch="
       ]
      },
      {
       "output_type": "stream",
       "stream": "stdout",
       "text": [
        " 4   Training Error = 0.610099998804      Validation Error = 0.610224999655\n",
        "Epoch="
       ]
      },
      {
       "output_type": "stream",
       "stream": "stdout",
       "text": [
        " 5   Training Error = 0.610799994999      Validation Error = 0.610849997266\n",
        "Epoch="
       ]
      },
      {
       "output_type": "stream",
       "stream": "stdout",
       "text": [
        " 6   Training Error = 0.608099989728      Validation Error = 0.607549992363\n",
        "Epoch="
       ]
      },
      {
       "output_type": "stream",
       "stream": "stdout",
       "text": [
        " 7   Training Error = 0.602199984256      Validation Error = 0.605449986978\n",
        "Epoch="
       ]
      },
      {
       "output_type": "stream",
       "stream": "stdout",
       "text": [
        " 8   Training Error = 0.608124976478      Validation Error = 0.609699980586\n",
        "Epoch="
       ]
      },
      {
       "output_type": "stream",
       "stream": "stdout",
       "text": [
        " 9   Training Error = 0.608749965271      Validation Error = 0.60544997188\n",
        "Epoch="
       ]
      },
      {
       "output_type": "stream",
       "stream": "stdout",
       "text": [
        " 10   Training Error = 0.610949945266      Validation Error = 0.605749957401\n",
        "Epoch="
       ]
      },
      {
       "output_type": "stream",
       "stream": "stdout",
       "text": [
        " 11   Training Error = 0.612524907311      Validation Error = 0.612224930488\n",
        "Epoch="
       ]
      },
      {
       "output_type": "stream",
       "stream": "stdout",
       "text": [
        " 12   Training Error = 0.60857483272      Validation Error = 0.610124877331\n",
        "Epoch="
       ]
      },
      {
       "output_type": "stream",
       "stream": "stdout",
       "text": [
        " 13   Training Error = 0.6043496633      Validation Error = 0.611099765893\n",
        "Epoch="
       ]
      },
      {
       "output_type": "stream",
       "stream": "stdout",
       "text": [
        " 14   Training Error = 0.608099225745      Validation Error = 0.608424508496\n",
        "Epoch="
       ]
      },
      {
       "output_type": "stream",
       "stream": "stdout",
       "text": [
        " 15   Training Error = 0.610572545258      Validation Error = 0.609323759614\n",
        "Epoch="
       ]
      },
      {
       "output_type": "stream",
       "stream": "stdout",
       "text": [
        " 16   Training Error = 0.59498180769      Validation Error = 0.604694769813\n",
        "Epoch="
       ]
      },
      {
       "output_type": "stream",
       "stream": "stdout",
       "text": [
        " 17   Training Error = 0.607922210211      Validation Error = 0.60452312084\n",
        "Epoch="
       ]
      },
      {
       "output_type": "stream",
       "stream": "stdout",
       "text": [
        " 18   Training Error = 0.607744170948      Validation Error = 0.611120958059\n",
        "Epoch="
       ]
      },
      {
       "output_type": "stream",
       "stream": "stdout",
       "text": [
        " 19   Training Error = 0.611310371997      Validation Error = 0.608141471272\n",
        "Epoch="
       ]
      },
      {
       "output_type": "stream",
       "stream": "stdout",
       "text": [
        " 20   Training Error = 0.582394923209      Validation Error = 0.609722947772\n",
        "Epoch="
       ]
      },
      {
       "output_type": "stream",
       "stream": "stdout",
       "text": [
        " 21   Training Error = 0.255550880656      Validation Error = 0.493044905541\n",
        "Epoch="
       ]
      },
      {
       "output_type": "stream",
       "stream": "stdout",
       "text": [
        " 22   Training Error = 0.236657097904      Validation Error = 0.23841842984\n",
        "Epoch="
       ]
      },
      {
       "output_type": "stream",
       "stream": "stdout",
       "text": [
        " 23   Training Error = 0.236744758054      Validation Error = 0.236098472272\n",
        "Epoch="
       ]
      },
      {
       "output_type": "stream",
       "stream": "stdout",
       "text": [
        " 24   Training Error = 0.235870838696      Validation Error = 0.234021658863\n",
        "Epoch="
       ]
      },
      {
       "output_type": "stream",
       "stream": "stdout",
       "text": [
        " 25   Training Error = 0.234535518949      Validation Error = 0.240906527198\n",
        "Epoch="
       ]
      },
      {
       "output_type": "stream",
       "stream": "stdout",
       "text": [
        " 26   Training Error = 0.232993908296      Validation Error = 0.220019668579\n",
        "Epoch="
       ]
      },
      {
       "output_type": "stream",
       "stream": "stdout",
       "text": [
        " 27   Training Error = 0.199126421653      Validation Error = 0.201516174839\n",
        "Epoch="
       ]
      },
      {
       "output_type": "stream",
       "stream": "stdout",
       "text": [
        " 28   Training Error = 0.177524477052      Validation Error = 0.222254668384\n",
        "Epoch="
       ]
      },
      {
       "output_type": "stream",
       "stream": "stdout",
       "text": [
        " 29   Training Error = 0.159874884691      Validation Error = 0.187480330614\n",
        "Epoch="
       ]
      },
      {
       "output_type": "stream",
       "stream": "stdout",
       "text": [
        " 30   Training Error = 0.153616883858      Validation Error = 0.161903412384\n",
        "Epoch="
       ]
      },
      {
       "output_type": "stream",
       "stream": "stdout",
       "text": [
        " 31   Training Error = 0.151476054596      Validation Error = 0.152437700766\n",
        "Epoch="
       ]
      },
      {
       "output_type": "stream",
       "stream": "stdout",
       "text": [
        " 32   Training Error = 0.142817450682      Validation Error = 0.143875566415\n",
        "Epoch="
       ]
      },
      {
       "output_type": "stream",
       "stream": "stdout",
       "text": [
        " 33   Training Error = 0.145944682973      Validation Error = 0.151924831531\n",
        "Epoch="
       ]
      },
      {
       "output_type": "stream",
       "stream": "stdout",
       "text": [
        " 34   Training Error = 0.138619821011      Validation Error = 0.161675077284\n",
        "Epoch="
       ]
      },
      {
       "output_type": "stream",
       "stream": "stdout",
       "text": [
        " 35   Training Error = 0.135699262      Validation Error = 0.143739398518\n",
        "Epoch="
       ]
      },
      {
       "output_type": "stream",
       "stream": "stdout",
       "text": [
        " 36   Training Error = 0.134721621749      Validation Error = 0.143628255202\n",
        "Epoch="
       ]
      },
      {
       "output_type": "stream",
       "stream": "stdout",
       "text": [
        " 37   Training Error = 0.130811889669      Validation Error = 0.152294203233\n",
        "Epoch="
       ]
      },
      {
       "output_type": "stream",
       "stream": "stdout",
       "text": [
        " 38   Training Error = 0.125113649462      Validation Error = 0.128406703122\n",
        "Epoch="
       ]
      },
      {
       "output_type": "stream",
       "stream": "stdout",
       "text": [
        " 39   Training Error = 0.126905228982      Validation Error = 0.124948927631\n",
        "Epoch="
       ]
      },
      {
       "output_type": "stream",
       "stream": "stdout",
       "text": [
        " 40   Training Error = 0.123640154445      Validation Error = 0.11267192254\n",
        "Epoch="
       ]
      },
      {
       "output_type": "stream",
       "stream": "stdout",
       "text": [
        " 41   Training Error = 0.115962058284      Validation Error = 0.114552518693\n",
        "Epoch="
       ]
      },
      {
       "output_type": "stream",
       "stream": "stdout",
       "text": [
        " 42   Training Error = 0.119861747032      Validation Error = 0.125130203809\n",
        "Epoch="
       ]
      },
      {
       "output_type": "stream",
       "stream": "stdout",
       "text": [
        " 43   Training Error = 0.116824923751      Validation Error = 0.105200554244\n",
        "Epoch="
       ]
      },
      {
       "output_type": "stream",
       "stream": "stdout",
       "text": [
        " 44   Training Error = 0.115713277945      Validation Error = 0.120237747778\n",
        "Epoch="
       ]
      },
      {
       "output_type": "stream",
       "stream": "stdout",
       "text": [
        " 45   Training Error = 0.113283203015      Validation Error = 0.103209891835\n",
        "Epoch="
       ]
      },
      {
       "output_type": "stream",
       "stream": "stdout",
       "text": [
        " 46   Training Error = 0.11173998295      Validation Error = 0.103360325854\n",
        "Epoch="
       ]
      },
      {
       "output_type": "stream",
       "stream": "stdout",
       "text": [
        " 47   Training Error = 0.103803025335      Validation Error = 0.108382638334\n",
        "Epoch="
       ]
      },
      {
       "output_type": "stream",
       "stream": "stdout",
       "text": [
        " 48   Training Error = 0.11483503345      Validation Error = 0.0971793578398\n",
        "Epoch="
       ]
      },
      {
       "output_type": "stream",
       "stream": "stdout",
       "text": [
        " 49   Training Error = 0.109082513641      Validation Error = 0.113073054101\n",
        "Epoch="
       ]
      },
      {
       "output_type": "stream",
       "stream": "stdout",
       "text": [
        " 50   Training Error = 0.10907633295      Validation Error = 0.0959348357795\n",
        "Epoch="
       ]
      },
      {
       "output_type": "stream",
       "stream": "stdout",
       "text": [
        " 51   Training Error = 0.106334936025      Validation Error = 0.0996768909463\n",
        "Epoch="
       ]
      },
      {
       "output_type": "stream",
       "stream": "stdout",
       "text": [
        " 52   Training Error = 0.109370405606      Validation Error = 0.098275885346\n",
        "Epoch="
       ]
      },
      {
       "output_type": "stream",
       "stream": "stdout",
       "text": [
        " 53   Training Error = 0.105216132418      Validation Error = 0.097828928753\n",
        "Epoch="
       ]
      },
      {
       "output_type": "stream",
       "stream": "stdout",
       "text": [
        " 54   Training Error = 0.106822893864      Validation Error = 0.108329161832\n",
        "Epoch="
       ]
      },
      {
       "output_type": "stream",
       "stream": "stdout",
       "text": [
        " 55   Training Error = 0.102588120545      Validation Error = 0.0976962849022\n",
        "Epoch="
       ]
      },
      {
       "output_type": "stream",
       "stream": "stdout",
       "text": [
        " 56   Training Error = 0.102709014957      Validation Error = 0.0910605515845\n",
        "Epoch="
       ]
      },
      {
       "output_type": "stream",
       "stream": "stdout",
       "text": [
        " 57   Training Error = 0.103250932209      Validation Error = 0.108545652478\n",
        "Epoch="
       ]
      },
      {
       "output_type": "stream",
       "stream": "stdout",
       "text": [
        " 58   Training Error = 0.101512766999      Validation Error = 0.100261725663\n",
        "Epoch="
       ]
      },
      {
       "output_type": "stream",
       "stream": "stdout",
       "text": [
        " 59   Training Error = 0.10761003973      Validation Error = 0.09668943738\n",
        "Epoch="
       ]
      },
      {
       "output_type": "stream",
       "stream": "stdout",
       "text": [
        " 60   Training Error = 0.100269756381      Validation Error = 0.10110106556\n",
        "Epoch="
       ]
      },
      {
       "output_type": "stream",
       "stream": "stdout",
       "text": [
        " 61   Training Error = 0.0979980011444      Validation Error = 0.0989735902384\n",
        "Epoch="
       ]
      },
      {
       "output_type": "stream",
       "stream": "stdout",
       "text": [
        " 62   Training Error = 0.100989230966      Validation Error = 0.103210299558\n",
        "Epoch="
       ]
      },
      {
       "output_type": "stream",
       "stream": "stdout",
       "text": [
        " 63   Training Error = 0.0959444834063      Validation Error = 0.0982300241124\n",
        "Epoch="
       ]
      },
      {
       "output_type": "stream",
       "stream": "stdout",
       "text": [
        " 64   Training Error = 0.103566321312      Validation Error = 0.0913204289444\n",
        "Epoch="
       ]
      },
      {
       "output_type": "stream",
       "stream": "stdout",
       "text": [
        " 65   Training Error = 0.0960063745555      Validation Error = 0.0896703423494\n",
        "Epoch="
       ]
      },
      {
       "output_type": "stream",
       "stream": "stdout",
       "text": [
        " 66   Training Error = 0.0981764205542      Validation Error = 0.104575005021\n",
        "Epoch="
       ]
      },
      {
       "output_type": "stream",
       "stream": "stdout",
       "text": [
        " 67   Training Error = 0.0913556801646      Validation Error = 0.0872497423677\n",
        "Epoch="
       ]
      },
      {
       "output_type": "stream",
       "stream": "stdout",
       "text": [
        " 68   Training Error = 0.097935163722      Validation Error = 0.0903684943005\n",
        "Epoch="
       ]
      },
      {
       "output_type": "stream",
       "stream": "stdout",
       "text": [
        " 69   Training Error = 0.0923000556069      Validation Error = 0.10060159838\n",
        "Epoch="
       ]
      },
      {
       "output_type": "stream",
       "stream": "stdout",
       "text": [
        " 70   Training Error = 0.0969467761046      Validation Error = 0.104744258967\n",
        "Epoch="
       ]
      },
      {
       "output_type": "stream",
       "stream": "stdout",
       "text": [
        " 71   Training Error = 0.0958658130769      Validation Error = 0.097758087508\n",
        "Epoch="
       ]
      },
      {
       "output_type": "stream",
       "stream": "stdout",
       "text": [
        " 72   Training Error = 0.0964124895069      Validation Error = 0.0888228046456\n",
        "Epoch="
       ]
      },
      {
       "output_type": "stream",
       "stream": "stdout",
       "text": [
        " 73   Training Error = 0.0945486016518      Validation Error = 0.0902152228793\n",
        "Epoch="
       ]
      },
      {
       "output_type": "stream",
       "stream": "stdout",
       "text": [
        " 74   Training Error = 0.0965870786155      Validation Error = 0.112297711373\n",
        "Epoch="
       ]
      },
      {
       "output_type": "stream",
       "stream": "stdout",
       "text": [
        " 75   Training Error = 0.0915309246568      Validation Error = 0.0925083606966\n",
        "Epoch="
       ]
      },
      {
       "output_type": "stream",
       "stream": "stdout",
       "text": [
        " 76   Training Error = 0.0948140085378      Validation Error = 0.0900531644778\n",
        "Epoch="
       ]
      },
      {
       "output_type": "stream",
       "stream": "stdout",
       "text": [
        " 77   Training Error = 0.0899756600957      Validation Error = 0.0948601090594\n",
        "Epoch="
       ]
      },
      {
       "output_type": "stream",
       "stream": "stdout",
       "text": [
        " 78   Training Error = 0.0927384720897      Validation Error = 0.0785135462504\n",
        "Epoch="
       ]
      },
      {
       "output_type": "stream",
       "stream": "stdout",
       "text": [
        " 79   Training Error = 0.0911504229934      Validation Error = 0.102251062758\n",
        "Epoch="
       ]
      },
      {
       "output_type": "stream",
       "stream": "stdout",
       "text": [
        " 80   Training Error = 0.0904247875951      Validation Error = 0.0804887132649\n",
        "Epoch="
       ]
      },
      {
       "output_type": "stream",
       "stream": "stdout",
       "text": [
        " 81   Training Error = 0.0900603170345      Validation Error = 0.0850090206127\n",
        "Epoch="
       ]
      },
      {
       "output_type": "stream",
       "stream": "stdout",
       "text": [
        " 82   Training Error = 0.0916694050645      Validation Error = 0.0931525320536\n",
        "Epoch="
       ]
      },
      {
       "output_type": "stream",
       "stream": "stdout",
       "text": [
        " 83   Training Error = 0.0875024324546      Validation Error = 0.0836593794314\n",
        "Epoch="
       ]
      },
      {
       "output_type": "stream",
       "stream": "stdout",
       "text": [
        " 84   Training Error = 0.0855637506183      Validation Error = 0.0769184912063\n",
        "Epoch="
       ]
      },
      {
       "output_type": "stream",
       "stream": "stdout",
       "text": [
        " 85   Training Error = 0.0895079658683      Validation Error = 0.0833324924508\n",
        "Epoch="
       ]
      },
      {
       "output_type": "stream",
       "stream": "stdout",
       "text": [
        " 86   Training Error = 0.0891615631036      Validation Error = 0.10913198119\n",
        "Epoch="
       ]
      },
      {
       "output_type": "stream",
       "stream": "stdout",
       "text": [
        " 87   Training Error = 0.0894568209647      Validation Error = 0.116720669902\n",
        "Epoch="
       ]
      },
      {
       "output_type": "stream",
       "stream": "stdout",
       "text": [
        " 88   Training Error = 0.0874722092021      Validation Error = 0.0911439951505\n",
        "Epoch="
       ]
      },
      {
       "output_type": "stream",
       "stream": "stdout",
       "text": [
        " 89   Training Error = 0.0858314498699      Validation Error = 0.0876861903362\n",
        "Epoch="
       ]
      },
      {
       "output_type": "stream",
       "stream": "stdout",
       "text": [
        " 90   Training Error = 0.087129253333      Validation Error = 0.0824740126517\n",
        "Epoch="
       ]
      },
      {
       "output_type": "stream",
       "stream": "stdout",
       "text": [
        " 91   Training Error = 0.0862955801417      Validation Error = 0.0936382572311\n",
        "Epoch="
       ]
      },
      {
       "output_type": "stream",
       "stream": "stdout",
       "text": [
        " 92   Training Error = 0.0867355812844      Validation Error = 0.0878582839074\n",
        "Epoch="
       ]
      },
      {
       "output_type": "stream",
       "stream": "stdout",
       "text": [
        " 93   Training Error = 0.0858677014735      Validation Error = 0.0841703957744\n",
        "Epoch="
       ]
      },
      {
       "output_type": "stream",
       "stream": "stdout",
       "text": [
        " 94   Training Error = 0.082011957398      Validation Error = 0.0869989843431\n",
        "Epoch="
       ]
      },
      {
       "output_type": "stream",
       "stream": "stdout",
       "text": [
        " 95   Training Error = 0.0874725470727      Validation Error = 0.0945377404943\n",
        "Epoch="
       ]
      },
      {
       "output_type": "stream",
       "stream": "stdout",
       "text": [
        " 96   Training Error = 0.085199430482      Validation Error = 0.106543441059\n",
        "Epoch="
       ]
      },
      {
       "output_type": "stream",
       "stream": "stdout",
       "text": [
        " 97   Training Error = 0.0881853627549      Validation Error = 0.0822077560253\n",
        "Epoch="
       ]
      },
      {
       "output_type": "stream",
       "stream": "stdout",
       "text": [
        " 98   Training Error = 0.0816803331051      Validation Error = 0.0861758558828\n",
        "Epoch="
       ]
      },
      {
       "output_type": "stream",
       "stream": "stdout",
       "text": [
        " 99   Training Error = 0.0826063364035      Validation Error = 0.0763881576044\n",
        "Epoch="
       ]
      },
      {
       "output_type": "stream",
       "stream": "stdout",
       "text": [
        " 100   Training Error = 0.0839328929695      Validation Error = 0.091609702461\n",
        "Epoch="
       ]
      },
      {
       "output_type": "stream",
       "stream": "stdout",
       "text": [
        " 101   Training Error = 0.0825358005033      Validation Error = 0.0843767782227\n",
        "Epoch="
       ]
      },
      {
       "output_type": "stream",
       "stream": "stdout",
       "text": [
        " 102   Training Error = 0.0846172027894      Validation Error = 0.0831466620617\n",
        "Epoch="
       ]
      },
      {
       "output_type": "stream",
       "stream": "stdout",
       "text": [
        " 103   Training Error = 0.0820006222798      Validation Error = 0.0846092783662\n",
        "Epoch="
       ]
      },
      {
       "output_type": "stream",
       "stream": "stdout",
       "text": [
        " 104   Training Error = 0.0835166528404      Validation Error = 0.0850698011593\n",
        "Epoch="
       ]
      },
      {
       "output_type": "stream",
       "stream": "stdout",
       "text": [
        " 105   Training Error = 0.0851076432855      Validation Error = 0.0757322858576\n",
        "Epoch="
       ]
      },
      {
       "output_type": "stream",
       "stream": "stdout",
       "text": [
        " 106   Training Error = 0.0828395945215      Validation Error = 0.0772000499057\n",
        "Epoch="
       ]
      },
      {
       "output_type": "stream",
       "stream": "stdout",
       "text": [
        " 107   Training Error = 0.0827191978916      Validation Error = 0.0883603993926\n",
        "Epoch="
       ]
      },
      {
       "output_type": "stream",
       "stream": "stdout",
       "text": [
        " 108   Training Error = 0.0820865177466      Validation Error = 0.0840355372776\n",
        "Epoch="
       ]
      },
      {
       "output_type": "stream",
       "stream": "stdout",
       "text": [
        " 109   Training Error = 0.0827184563178      Validation Error = 0.093593110692\n",
        "Epoch="
       ]
      },
      {
       "output_type": "stream",
       "stream": "stdout",
       "text": [
        " 110   Training Error = 0.082894164765      Validation Error = 0.0857193512308\n",
        "Epoch="
       ]
      },
      {
       "output_type": "stream",
       "stream": "stdout",
       "text": [
        " 111   Training Error = 0.0821628985435      Validation Error = 0.0797928543788\n",
        "Epoch="
       ]
      },
      {
       "output_type": "stream",
       "stream": "stdout",
       "text": [
        " 112   Training Error = 0.0839322422822      Validation Error = 0.0801246906304\n",
        "Epoch="
       ]
      },
      {
       "output_type": "stream",
       "stream": "stdout",
       "text": [
        " 113   Training Error = 0.0791502926049      Validation Error = 0.0774166580638\n",
        "Epoch="
       ]
      },
      {
       "output_type": "stream",
       "stream": "stdout",
       "text": [
        " 114   Training Error = 0.0813018151975      Validation Error = 0.0840003035803\n",
        "Epoch="
       ]
      },
      {
       "output_type": "stream",
       "stream": "stdout",
       "text": [
        " 115   Training Error = 0.0758390597397      Validation Error = 0.0906110719911\n",
        "Epoch="
       ]
      },
      {
       "output_type": "stream",
       "stream": "stdout",
       "text": [
        " 116   Training Error = 0.0811030428756      Validation Error = 0.0908241709702\n",
        "Epoch="
       ]
      },
      {
       "output_type": "stream",
       "stream": "stdout",
       "text": [
        " 117   Training Error = 0.079906547783      Validation Error = 0.0967754807787\n",
        "Epoch="
       ]
      },
      {
       "output_type": "stream",
       "stream": "stdout",
       "text": [
        " 118   Training Error = 0.0807429136724      Validation Error = 0.0829396469214\n",
        "Epoch="
       ]
      },
      {
       "output_type": "stream",
       "stream": "stdout",
       "text": [
        " 119   Training Error = 0.0791859428629      Validation Error = 0.0804583834467\n",
        "Epoch="
       ]
      },
      {
       "output_type": "stream",
       "stream": "stdout",
       "text": [
        " 120   Training Error = 0.082429735345      Validation Error = 0.0880678711142\n",
        "Epoch="
       ]
      },
      {
       "output_type": "stream",
       "stream": "stdout",
       "text": [
        " 121   Training Error = 0.0801121885383      Validation Error = 0.0779321083797\n",
        "Epoch="
       ]
      },
      {
       "output_type": "stream",
       "stream": "stdout",
       "text": [
        " 122   Training Error = 0.0804443937569      Validation Error = 0.0773817630681\n",
        "Epoch="
       ]
      },
      {
       "output_type": "stream",
       "stream": "stdout",
       "text": [
        " 123   Training Error = 0.0785457636685      Validation Error = 0.0736883863298\n",
        "Epoch="
       ]
      },
      {
       "output_type": "stream",
       "stream": "stdout",
       "text": [
        " 124   Training Error = 0.0826400158249      Validation Error = 0.0841832155497\n",
        "Epoch="
       ]
      },
      {
       "output_type": "stream",
       "stream": "stdout",
       "text": [
        " 125   Training Error = 0.0775823751514      Validation Error = 0.0889092790776\n",
        "Epoch="
       ]
      },
      {
       "output_type": "stream",
       "stream": "stdout",
       "text": [
        " 126   Training Error = 0.0797307641778      Validation Error = 0.0994764113534\n",
        "Epoch="
       ]
      },
      {
       "output_type": "stream",
       "stream": "stdout",
       "text": [
        " 127   Training Error = 0.0776803744487      Validation Error = 0.0806592188319\n",
        "Epoch="
       ]
      },
      {
       "output_type": "stream",
       "stream": "stdout",
       "text": [
        " 128   Training Error = 0.0824219199864      Validation Error = 0.0931570717945\n",
        "Epoch="
       ]
      },
      {
       "output_type": "stream",
       "stream": "stdout",
       "text": [
        " 129   Training Error = 0.0797727204441      Validation Error = 0.0764463951706\n",
        "Epoch="
       ]
      },
      {
       "output_type": "stream",
       "stream": "stdout",
       "text": [
        " 130   Training Error = 0.0768037107391      Validation Error = 0.0916259469024\n",
        "Epoch="
       ]
      },
      {
       "output_type": "stream",
       "stream": "stdout",
       "text": [
        " 131   Training Error = 0.080641914969      Validation Error = 0.0789419342978\n",
        "Epoch="
       ]
      },
      {
       "output_type": "stream",
       "stream": "stdout",
       "text": [
        " 132   Training Error = 0.0759899964825      Validation Error = 0.0770618884825\n",
        "Epoch="
       ]
      },
      {
       "output_type": "stream",
       "stream": "stdout",
       "text": [
        " 133   Training Error = 0.0776286509779      Validation Error = 0.0801861596554\n",
        "Epoch="
       ]
      },
      {
       "output_type": "stream",
       "stream": "stdout",
       "text": [
        " 134   Training Error = 0.0775643105899      Validation Error = 0.0800002619207\n",
        "Epoch="
       ]
      },
      {
       "output_type": "stream",
       "stream": "stdout",
       "text": [
        " 135   Training Error = 0.0800794418046      Validation Error = 0.0784527547764\n",
        "Epoch="
       ]
      },
      {
       "output_type": "stream",
       "stream": "stdout",
       "text": [
        " 136   Training Error = 0.0750802239579      Validation Error = 0.0805085876478\n",
        "Epoch="
       ]
      },
      {
       "output_type": "stream",
       "stream": "stdout",
       "text": [
        " 137   Training Error = 0.0763418730486      Validation Error = 0.0820064012911\n",
        "Epoch="
       ]
      },
      {
       "output_type": "stream",
       "stream": "stdout",
       "text": [
        " 138   Training Error = 0.0792157927585      Validation Error = 0.0721173054319\n",
        "Epoch="
       ]
      },
      {
       "output_type": "stream",
       "stream": "stdout",
       "text": [
        " 139   Training Error = 0.0774863098737      Validation Error = 0.0768822836042\n",
        "Epoch="
       ]
      },
      {
       "output_type": "stream",
       "stream": "stdout",
       "text": [
        " 140   Training Error = 0.0786309247691      Validation Error = 0.0804143381143\n",
        "Epoch="
       ]
      },
      {
       "output_type": "stream",
       "stream": "stdout",
       "text": [
        " 141   Training Error = 0.0757945733694      Validation Error = 0.082469050203\n",
        "Epoch="
       ]
      },
      {
       "output_type": "stream",
       "stream": "stdout",
       "text": [
        " 142   Training Error = 0.0768284024452      Validation Error = 0.0868513728303\n",
        "Epoch="
       ]
      },
      {
       "output_type": "stream",
       "stream": "stdout",
       "text": [
        " 143   Training Error = 0.0768614611682      Validation Error = 0.07825598952\n",
        "Epoch="
       ]
      },
      {
       "output_type": "stream",
       "stream": "stdout",
       "text": [
        " 144   Training Error = 0.0787129236214      Validation Error = 0.0898527723173\n",
        "Epoch="
       ]
      },
      {
       "output_type": "stream",
       "stream": "stdout",
       "text": [
        " 145   Training Error = 0.071137282502      Validation Error = 0.0907620040733\n",
        "Epoch="
       ]
      },
      {
       "output_type": "stream",
       "stream": "stdout",
       "text": [
        " 146   Training Error = 0.0807468611085      Validation Error = 0.071340002138\n",
        "Epoch="
       ]
      },
      {
       "output_type": "stream",
       "stream": "stdout",
       "text": [
        " 147   Training Error = 0.0746255198184      Validation Error = 0.0768327266451\n",
        "Epoch="
       ]
      },
      {
       "output_type": "stream",
       "stream": "stdout",
       "text": [
        " 148   Training Error = 0.0767229983488      Validation Error = 0.0777507976121\n",
        "Epoch="
       ]
      },
      {
       "output_type": "stream",
       "stream": "stdout",
       "text": [
        " 149   Training Error = 0.0772848740717      Validation Error = 0.0761970724551\n",
        "Epoch="
       ]
      },
      {
       "output_type": "stream",
       "stream": "stdout",
       "text": [
        " 150   Training Error = 0.07667366014      Validation Error = 0.0708841894414\n",
        "Epoch="
       ]
      },
      {
       "output_type": "stream",
       "stream": "stdout",
       "text": [
        " 151   Training Error = 0.0752372775073      Validation Error = 0.0744303954862\n",
        "Epoch="
       ]
      },
      {
       "output_type": "stream",
       "stream": "stdout",
       "text": [
        " 152   Training Error = 0.0766261705413      Validation Error = 0.0765292876433\n",
        "Epoch="
       ]
      },
      {
       "output_type": "stream",
       "stream": "stdout",
       "text": [
        " 153   Training Error = 0.0765522926271      Validation Error = 0.0804735678803\n",
        "Epoch="
       ]
      },
      {
       "output_type": "stream",
       "stream": "stdout",
       "text": [
        " 154   Training Error = 0.0742869203113      Validation Error = 0.0705742322835\n",
        "Epoch="
       ]
      },
      {
       "output_type": "stream",
       "stream": "stdout",
       "text": [
        " 155   Training Error = 0.0771468638523      Validation Error = 0.0804787579164\n",
        "Epoch="
       ]
      },
      {
       "output_type": "stream",
       "stream": "stdout",
       "text": [
        " 156   Training Error = 0.0767930077376      Validation Error = 0.100004352549\n",
        "Epoch="
       ]
      },
      {
       "output_type": "stream",
       "stream": "stdout",
       "text": [
        " 157   Training Error = 0.0770114072696      Validation Error = 0.0702027523192\n",
        "Epoch="
       ]
      },
      {
       "output_type": "stream",
       "stream": "stdout",
       "text": [
        " 158   Training Error = 0.0720451511581      Validation Error = 0.0827878621591\n",
        "Epoch="
       ]
      }
     ]
    },
    {
     "cell_type": "code",
     "collapsed": false,
     "input": [],
     "language": "python",
     "metadata": {},
     "outputs": []
    }
   ],
   "metadata": {}
  }
 ]
}