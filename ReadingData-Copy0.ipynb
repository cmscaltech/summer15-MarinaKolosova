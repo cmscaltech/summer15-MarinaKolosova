{
 "metadata": {
  "name": "",
  "signature": "sha256:0799b03767df65bddbca5d8577ea8bbe2f8e19a301f2d218e48e103f8d5ee8a0"
 },
 "nbformat": 3,
 "nbformat_minor": 0,
 "worksheets": [
  {
   "cells": [
    {
     "cell_type": "code",
     "collapsed": false,
     "input": [
      "import h5py\n",
      "import theanets\n",
      "import time"
     ],
     "language": "python",
     "metadata": {},
     "outputs": [
      {
       "output_type": "stream",
       "stream": "stdout",
       "text": [
        "Couldn't import dot_parser, loading of dot files will not be possible.\n"
       ]
      }
     ],
     "prompt_number": 5
    },
    {
     "cell_type": "code",
     "collapsed": false,
     "input": [
      "f=h5py.File(\"data/data.hdf5\")\n",
      "f.keys()\n",
      "f['data'].keys()\n",
      "input_matrix     = f['data']['input'].value\n",
      "target_matrix    = f['data']['target'].value\n",
      "decorator_matrix = f['data']['deco'].value\n",
      "f.close()"
     ],
     "language": "python",
     "metadata": {},
     "outputs": [],
     "prompt_number": 6
    },
    {
     "cell_type": "code",
     "collapsed": false,
     "input": [
      "nInputs = input_matrix.shape[1]\n",
      "nOutputs = target_matrix.shape[1]\n",
      "\n",
      "truncate=100000\n",
      "\n",
      "nInputs = input_matrix.shape[1]\n",
      "nOutputs = target_matrix.shape[1]\n",
      "\n",
      "input_matrix = input_matrix[0:truncate,...]\n",
      "target_matrix = target_matrix[0:truncate,...]\n",
      "decorator_matrix = decorator_matrix[0:truncate,...]"
     ],
     "language": "python",
     "metadata": {},
     "outputs": [],
     "prompt_number": 7
    },
    {
     "cell_type": "code",
     "collapsed": false,
     "input": [
      "def allincluded( truncated, nHiddenLayers, epochs, trainings):\n",
      "    timing_start = time.mktime(time.gmtime())\n",
      "    fom = 1.0\n",
      "    \n",
      "    exp=theanets.Experiment(theanets.feedforward.Regressor(layers=(nInputs,)+tuple([nInputs for l in range(nHiddenLayers)])+ ( (nOutputs, 'sigmoid'),)),'layerwise')    \n",
      "        \n",
      "    cut   =int(input_matrix.shape[0]*0.8)\n",
      "    train =input_matrix[:cut], target_matrix[:cut]\n",
      "    valid =input_matrix[cut:], target_matrix[cut:]\n",
      "    \n",
      "    for i in range(0, epochs):\n",
      "        print 'Learning rate=', 0.1/10**i\n",
      "        print 'Epoch',i+1,'of',epochs\n",
      "        for j in range(trainings):\n",
      "            Start=time.mktime(time.gmtime())\n",
      "            print 'Iteration No.',j+1,'of',trainings\n",
      "            print exp.train(train, valid, learning_rate=0.1/10**i, batch_size=100)        \n",
      "            End=time.mktime(time.gmtime())\n",
      "            print 'Time=', End-Start\n",
      "        print ''\n",
      "    timing_end=time.mktime(time.gmtime())\n",
      "    \n",
      "    prediction = exp.network.predict(train[0])\n",
      "    goodness = np.asarray([[cut,(list(target_matrix[np.where(prediction>cut)]==1).count(True)+list(target_matrix[np.where(prediction<cut)]==0).count(True))/ float(input_matrix.shape[0])]  for cut in np.arange(0,1,0.05)])\n",
      "    fom = max( goodness[:,1])\n",
      "    print fom\n",
      "    \n",
      "    timing=timing_end-timing_start\n",
      "    return (fom, timing)"
     ],
     "language": "python",
     "metadata": {},
     "outputs": [],
     "prompt_number": 8
    },
    {
     "cell_type": "code",
     "collapsed": false,
     "input": [
      "# (Number of Samples, Hidden Layers, Epoch, Trainings, Timing, FOM) \n",
      "mapAlgo=[]"
     ],
     "language": "python",
     "metadata": {},
     "outputs": [],
     "prompt_number": 9
    },
    {
     "cell_type": "code",
     "collapsed": false,
     "input": [
      "truncate=100000\n",
      "for iLayers in range(1,10):\n",
      "    epochs=8\n",
      "    trainings=2\n",
      "    input_matrix = input_matrix[0:truncate,...]\n",
      "    target_matrix = target_matrix[0:truncate,...]\n",
      "    decorator_matrix = decorator_matrix[0:truncate,...]\n",
      "    fom, timing = allincluded(truncate,iLayers,epochs,trainings)\n",
      "    mapAlgo.append((truncate,iLayers,epochs,trainings,timing,fom))\n",
      "    print 'Samples=',truncate,'Hidden Layers=',iLayers, 'epochs=', epochs, 'trainings=', trainings, \"fom=\",fom,\" time=\", timing \n",
      "    "
     ],
     "language": "python",
     "metadata": {},
     "outputs": [
      {
       "output_type": "stream",
       "stream": "stdout",
       "text": [
        "Learning rate= 0.1\n",
        "Epoch 1 of 8\n",
        "Iteration No. 1 of 2\n",
        "(OrderedDict([('loss', 0.59887499981813752), ('err', 0.59887499981813752)]), OrderedDict([('loss', 0.60364999980650869), ('err', 0.60364999980650869)]))"
       ]
      },
      {
       "output_type": "stream",
       "stream": "stdout",
       "text": [
        "\n",
        "Time= 87.0\n",
        "Iteration No. 2 of 2\n",
        "(OrderedDict([('loss', 0.59887499971610281), ('err', 0.59887499971610281)]), OrderedDict([('loss', 0.60364999974692746), ('err', 0.60364999974692746)]))"
       ]
      },
      {
       "output_type": "stream",
       "stream": "stdout",
       "text": [
        "\n",
        "Time= 77.0\n",
        "\n",
        "Learning rate= 0.01\n",
        "Epoch 2 of 8\n",
        "Iteration No. 1 of 2\n",
        "(OrderedDict([('loss', 0.071315579515466382), ('err', 0.071315579515466382)]), OrderedDict([('loss', 0.10344061979653237), ('err', 0.10344061979653237)]))"
       ]
      },
      {
       "output_type": "stream",
       "stream": "stdout",
       "text": [
        "\n",
        "Time= 129.0\n",
        "Iteration No. 2 of 2\n",
        "(OrderedDict([('loss', 0.070564431058100632), ('err', 0.070564431058100632)]), OrderedDict([('loss', 0.10539164606955705), ('err', 0.10539164606955705)]))"
       ]
      },
      {
       "output_type": "stream",
       "stream": "stdout",
       "text": [
        "\n",
        "Time= 72.0\n",
        "\n",
        "Learning rate= 0.001\n",
        "Epoch 3 of 8\n",
        "Iteration No. 1 of 2\n",
        "(OrderedDict([('loss', 0.059146272480811897), ('err', 0.059146272480811897)]), OrderedDict([('loss', 0.10281920230214638), ('err', 0.10281920230214638)]))"
       ]
      },
      {
       "output_type": "stream",
       "stream": "stdout",
       "text": [
        "\n",
        "Time= 82.0\n",
        "Iteration No. 2 of 2\n",
        "(OrderedDict([('loss', 0.059105964709287459), ('err', 0.059105964709287459)]), OrderedDict([('loss', 0.10261574561024273), ('err', 0.10261574561024273)]))"
       ]
      },
      {
       "output_type": "stream",
       "stream": "stdout",
       "text": [
        "\n",
        "Time= 72.0\n",
        "\n",
        "Learning rate= 0.0001\n",
        "Epoch 4 of 8\n",
        "Iteration No. 1 of 2\n",
        "(OrderedDict([('loss', 0.061125181647865817), ('err', 0.061125181647865817)]), OrderedDict([('loss', 0.099677546680077625), ('err', 0.099677546680077625)]))"
       ]
      },
      {
       "output_type": "stream",
       "stream": "stdout",
       "text": [
        "\n",
        "Time= 72.0\n",
        "Iteration No. 2 of 2\n",
        "(OrderedDict([('loss', 0.0611135798796512), ('err', 0.0611135798796512)]), OrderedDict([('loss', 0.099737393690718476), ('err', 0.099737393690718476)]))"
       ]
      },
      {
       "output_type": "stream",
       "stream": "stdout",
       "text": [
        "\n",
        "Time= 72.0\n",
        "\n",
        "Learning rate= 1e-05\n",
        "Epoch 5 of 8\n",
        "Iteration No. 1 of 2\n",
        "(OrderedDict([('loss', 0.062059104544695973), ('err', 0.062059104544695973)]), OrderedDict([('loss', 0.098895927594394306), ('err', 0.098895927594394306)]))"
       ]
      },
      {
       "output_type": "stream",
       "stream": "stdout",
       "text": [
        "\n",
        "Time= 74.0\n",
        "Iteration No. 2 of 2\n",
        "(OrderedDict([('loss', 0.062059728349133689), ('err', 0.062059728349133689)]), OrderedDict([('loss', 0.098897724369837958), ('err', 0.098897724369837958)]))"
       ]
      },
      {
       "output_type": "stream",
       "stream": "stdout",
       "text": [
        "\n",
        "Time= 73.0\n",
        "\n",
        "Learning rate= 1e-06\n",
        "Epoch 6 of 8\n",
        "Iteration No. 1 of 2\n",
        "(OrderedDict([('loss', 0.062257045218370451), ('err', 0.062257045218370451)]), OrderedDict([('loss', 0.098759920399707365), ('err', 0.098759920399707365)]))"
       ]
      },
      {
       "output_type": "stream",
       "stream": "stdout",
       "text": [
        "\n",
        "Time= 120.0\n",
        "Iteration No. 2 of 2\n",
        "(OrderedDict([('loss', 0.062257221990214974), ('err', 0.062257221990214974)]), OrderedDict([('loss', 0.098760229781934009), ('err', 0.098760229781934009)]))"
       ]
      },
      {
       "output_type": "stream",
       "stream": "stdout",
       "text": [
        "\n",
        "Time= 72.0\n",
        "\n",
        "Learning rate= 1e-07\n",
        "Epoch 7 of 8\n",
        "Iteration No. 1 of 2\n",
        "(OrderedDict([('loss', 0.062325585464145405), ('err', 0.062325585464145405)]), OrderedDict([('loss', 0.098750530983808454), ('err', 0.098750530983808454)]))"
       ]
      },
      {
       "output_type": "stream",
       "stream": "stdout",
       "text": [
        "\n",
        "Time= 130.0\n",
        "Iteration No. 2 of 2\n",
        "(OrderedDict([('loss', 0.062325616728424897), ('err', 0.062325616728424897)]), OrderedDict([('loss', 0.098750508088216102), ('err', 0.098750508088216102)]))"
       ]
      },
      {
       "output_type": "stream",
       "stream": "stdout",
       "text": [
        "\n",
        "Time= 71.0\n",
        "\n",
        "Learning rate= 1e-08\n",
        "Epoch 8 of 8\n",
        "Iteration No. 1 of 2\n",
        "(OrderedDict([('loss', 0.062335965027727813), ('err', 0.062335965027727813)]), OrderedDict([('loss', 0.098750188415929613), ('err', 0.098750188415929613)]))"
       ]
      },
      {
       "output_type": "stream",
       "stream": "stdout",
       "text": [
        "\n",
        "Time= 73.0\n",
        "Iteration No. 2 of 2\n",
        "(OrderedDict([('loss', 0.062335760464030804), ('err', 0.062335760464030804)]), OrderedDict([('loss', 0.098750189794678672), ('err', 0.098750189794678672)]))"
       ]
      },
      {
       "output_type": "stream",
       "stream": "stdout",
       "text": [
        "\n",
        "Time= 87.0\n",
        "\n",
        "0.73588"
       ]
      },
      {
       "output_type": "stream",
       "stream": "stdout",
       "text": [
        "\n",
        "Samples= 100000 Hidden Layers= 1 epochs= 8 trainings= 2 fom= 0.73588  time= 1363.0\n",
        "Learning rate= 0.1\n",
        "Epoch 1 of 8\n",
        "Iteration No. 1 of 2\n",
        "(OrderedDict([('loss', 0.40112500000000018), ('err', 0.40112500000000018)]), OrderedDict([('loss', 0.39634999999999992), ('err', 0.39634999999999992)]))"
       ]
      },
      {
       "output_type": "stream",
       "stream": "stdout",
       "text": [
        "\n",
        "Time= 295.0\n",
        "Iteration No. 2 of 2\n",
        "(OrderedDict([('loss', 0.59887499974787795), ('err', 0.59887499974787795)]), OrderedDict([('loss', 0.60364999976598621), ('err', 0.60364999976598621)]))"
       ]
      },
      {
       "output_type": "stream",
       "stream": "stdout",
       "text": [
        "\n",
        "Time= 141.0\n",
        "\n",
        "Learning rate= 0.01\n",
        "Epoch 2 of 8\n",
        "Iteration No. 1 of 2\n",
        "(OrderedDict([('loss', 0.057298574453869093), ('err', 0.057298574453869093)]), OrderedDict([('loss', 0.10675820097093719), ('err', 0.10675820097093719)]))"
       ]
      },
      {
       "output_type": "stream",
       "stream": "stdout",
       "text": [
        "\n",
        "Time= 172.0\n",
        "Iteration No. 2 of 2\n",
        "(OrderedDict([('loss', 0.058316143915730229), ('err', 0.058316143915730229)]), OrderedDict([('loss', 0.10466533018727155), ('err', 0.10466533018727155)]))"
       ]
      },
      {
       "output_type": "stream",
       "stream": "stdout",
       "text": [
        "\n",
        "Time= 146.0\n",
        "\n",
        "Learning rate= 0.001\n",
        "Epoch 3 of 8\n",
        "Iteration No. 1 of 2\n",
        "(OrderedDict([('loss', 0.048715651237458336), ('err', 0.048715651237458336)]), OrderedDict([('loss', 0.099390217551850152), ('err', 0.099390217551850152)]))"
       ]
      },
      {
       "output_type": "stream",
       "stream": "stdout",
       "text": [
        "\n",
        "Time= 180.0\n",
        "Iteration No. 2 of 2\n",
        "(OrderedDict([('loss', 0.048856980255733019), ('err', 0.048856980255733019)]), OrderedDict([('loss', 0.098613440581199557), ('err', 0.098613440581199557)]))"
       ]
      },
      {
       "output_type": "stream",
       "stream": "stdout",
       "text": [
        "\n",
        "Time= 145.0\n",
        "\n",
        "Learning rate= 0.0001\n",
        "Epoch 4 of 8\n",
        "Iteration No. 1 of 2\n",
        "(OrderedDict([('loss', 0.058288140589830298), ('err', 0.058288140589830298)]), OrderedDict([('loss', 0.092442536922746218), ('err', 0.092442536922746218)]))"
       ]
      },
      {
       "output_type": "stream",
       "stream": "stdout",
       "text": [
        "\n",
        "Time= 143.0\n",
        "Iteration No. 2 of 2\n",
        "(OrderedDict([('loss', 0.058273455387141182), ('err', 0.058273455387141182)]), OrderedDict([('loss', 0.092506029479063834), ('err', 0.092506029479063834)]))"
       ]
      },
      {
       "output_type": "stream",
       "stream": "stdout",
       "text": [
        "\n",
        "Time= 143.0\n",
        "\n",
        "Learning rate= 1e-05\n",
        "Epoch 5 of 8\n",
        "Iteration No. 1 of 2\n",
        "(OrderedDict([('loss', 0.06056178019416443), ('err', 0.06056178019416443)]), OrderedDict([('loss', 0.091232067617031745), ('err', 0.091232067617031745)]))"
       ]
      },
      {
       "output_type": "stream",
       "stream": "stdout",
       "text": [
        "\n",
        "Time= 142.0\n",
        "Iteration No. 2 of 2\n",
        "(OrderedDict([('loss', 0.060560596987191469), ('err', 0.060560596987191469)]), OrderedDict([('loss', 0.091237884567993602), ('err', 0.091237884567993602)]))"
       ]
      },
      {
       "output_type": "stream",
       "stream": "stdout",
       "text": [
        "\n",
        "Time= 147.0\n",
        "\n",
        "Learning rate= 1e-06\n",
        "Epoch 6 of 8\n",
        "Iteration No. 1 of 2\n",
        "(OrderedDict([('loss', 0.061050564720833263), ('err', 0.061050564720833263)]), OrderedDict([('loss', 0.09087767199034609), ('err', 0.09087767199034609)]))"
       ]
      },
      {
       "output_type": "stream",
       "stream": "stdout",
       "text": [
        "\n",
        "Time= 170.0\n",
        "Iteration No. 2 of 2\n",
        "(OrderedDict([('loss', 0.061050284974916685), ('err', 0.061050284974916685)]), OrderedDict([('loss', 0.090875243965511401), ('err', 0.090875243965511401)]))"
       ]
      },
      {
       "output_type": "stream",
       "stream": "stdout",
       "text": [
        "\n",
        "Time= 146.0\n",
        "\n",
        "Learning rate= 1e-07\n",
        "Epoch 7 of 8\n",
        "Iteration No. 1 of 2\n",
        "(OrderedDict([('loss', 0.06125736678726551), ('err', 0.06125736678726551)]), OrderedDict([('loss', 0.090799677464185255), ('err', 0.090799677464185255)]))"
       ]
      },
      {
       "output_type": "stream",
       "stream": "stdout",
       "text": [
        "\n",
        "Time= 142.0\n",
        "Iteration No. 2 of 2\n",
        "(OrderedDict([('loss', 0.061257315594485842), ('err', 0.061257315594485842)]), OrderedDict([('loss', 0.090799856257371095), ('err', 0.090799856257371095)]))"
       ]
      },
      {
       "output_type": "stream",
       "stream": "stdout",
       "text": [
        "\n",
        "Time= 144.0\n",
        "\n",
        "Learning rate= 1e-08\n",
        "Epoch 8 of 8\n",
        "Iteration No. 1 of 2\n",
        "(OrderedDict([('loss', 0.061312728559014401), ('err', 0.061312728559014401)]), OrderedDict([('loss', 0.090785776466809465), ('err', 0.090785776466809465)]))"
       ]
      },
      {
       "output_type": "stream",
       "stream": "stdout",
       "text": [
        "\n",
        "Time= 144.0\n",
        "Iteration No. 2 of 2\n",
        "(OrderedDict([('loss', 0.06131273000312485), ('err', 0.06131273000312485)]), OrderedDict([('loss', 0.090785775807487465), ('err', 0.090785775807487465)]))"
       ]
      },
      {
       "output_type": "stream",
       "stream": "stdout",
       "text": [
        "\n",
        "Time= 145.0\n",
        "\n",
        "0.7361"
       ]
      },
      {
       "output_type": "stream",
       "stream": "stdout",
       "text": [
        "\n",
        "Samples= 100000 Hidden Layers= 2 epochs= 8 trainings= 2 fom= 0.7361  time= 2545.0\n",
        "Learning rate= 0.1\n",
        "Epoch 1 of 8\n",
        "Iteration No. 1 of 2\n",
        "(OrderedDict([('loss', 0.40112499999999995), ('err', 0.40112499999999995)]), OrderedDict([('loss', 0.39634999999999998), ('err', 0.39634999999999998)]))"
       ]
      },
      {
       "output_type": "stream",
       "stream": "stdout",
       "text": [
        "\n",
        "Time= 454.0\n",
        "Iteration No. 2 of 2\n",
        "(OrderedDict([('loss', 0.40112499999999995), ('err', 0.40112499999999995)]), OrderedDict([('loss', 0.39634999999999992), ('err', 0.39634999999999992)]))"
       ]
      },
      {
       "output_type": "stream",
       "stream": "stdout",
       "text": [
        "\n",
        "Time= 478.0\n",
        "\n",
        "Learning rate= 0.01\n",
        "Epoch 2 of 8\n",
        "Iteration No. 1 of 2\n",
        "(OrderedDict([('loss', 0.05239331242655431), ('err', 0.05239331242655431)]), OrderedDict([('loss', 0.10842358833210594), ('err', 0.10842358833210594)]))"
       ]
      },
      {
       "output_type": "stream",
       "stream": "stdout",
       "text": [
        "\n",
        "Time= 338.0\n",
        "Iteration No. 2 of 2\n",
        "(OrderedDict([('loss', 0.053039787420657944), ('err', 0.053039787420657944)]), OrderedDict([('loss', 0.10607289643121445), ('err', 0.10607289643121445)]))"
       ]
      },
      {
       "output_type": "stream",
       "stream": "stdout",
       "text": [
        "\n",
        "Time= 212.0\n",
        "\n",
        "Learning rate= 0.001\n",
        "Epoch 3 of 8\n",
        "Iteration No. 1 of 2\n",
        "(OrderedDict([('loss', 0.034150411829578925), ('err', 0.034150411829578925)]), OrderedDict([('loss', 0.11512222248801635), ('err', 0.11512222248801635)]))"
       ]
      },
      {
       "output_type": "stream",
       "stream": "stdout",
       "text": [
        "\n",
        "Time= 213.0\n",
        "Iteration No. 2 of 2\n",
        "(OrderedDict([('loss', 0.033732055532092999), ('err', 0.033732055532092999)]), OrderedDict([('loss', 0.11550086117318577), ('err', 0.11550086117318577)]))"
       ]
      },
      {
       "output_type": "stream",
       "stream": "stdout",
       "text": [
        "\n",
        "Time= 209.0\n",
        "\n",
        "Learning rate= 0.0001\n",
        "Epoch 4 of 8\n",
        "Iteration No. 1 of 2\n",
        "(OrderedDict([('loss', 0.0490141197015522), ('err', 0.0490141197015522)]), OrderedDict([('loss', 0.099027374484380051), ('err', 0.099027374484380051)]))"
       ]
      },
      {
       "output_type": "stream",
       "stream": "stdout",
       "text": [
        "\n",
        "Time= 243.0\n",
        "Iteration No. 2 of 2\n",
        "(OrderedDict([('loss', 0.049000499773067245), ('err', 0.049000499773067245)]), OrderedDict([('loss', 0.098970361563505194), ('err', 0.098970361563505194)]))"
       ]
      },
      {
       "output_type": "stream",
       "stream": "stdout",
       "text": [
        "\n",
        "Time= 207.0\n",
        "\n",
        "Learning rate= 1e-05\n",
        "Epoch 5 of 8\n",
        "Iteration No. 1 of 2\n",
        "(OrderedDict([('loss', 0.055656107544122771), ('err', 0.055656107544122771)]), OrderedDict([('loss', 0.095854412848978873), ('err', 0.095854412848978873)]))"
       ]
      },
      {
       "output_type": "stream",
       "stream": "stdout",
       "text": [
        "\n",
        "Time= 210.0\n",
        "Iteration No. 2 of 2\n",
        "(OrderedDict([('loss', 0.055655944397577845), ('err', 0.055655944397577845)]), OrderedDict([('loss', 0.095854893635747118), ('err', 0.095854893635747118)]))"
       ]
      },
      {
       "output_type": "stream",
       "stream": "stdout",
       "text": [
        "\n",
        "Time= 208.0\n",
        "\n",
        "Learning rate= 1e-06\n",
        "Epoch 6 of 8\n",
        "Iteration No. 1 of 2\n",
        "(OrderedDict([('loss', 0.057162211237825507), ('err', 0.057162211237825507)]), OrderedDict([('loss', 0.09543381934862058), ('err', 0.09543381934862058)]))"
       ]
      },
      {
       "output_type": "stream",
       "stream": "stdout",
       "text": [
        "\n",
        "Time= 208.0\n",
        "Iteration No. 2 of 2\n",
        "(OrderedDict([('loss', 0.05716205738088051), ('err', 0.05716205738088051)]), OrderedDict([('loss', 0.095433259368317799), ('err', 0.095433259368317799)]))"
       ]
      },
      {
       "output_type": "stream",
       "stream": "stdout",
       "text": [
        "\n",
        "Time= 210.0\n",
        "\n",
        "Learning rate= 1e-07\n",
        "Epoch 7 of 8\n",
        "Iteration No. 1 of 2\n",
        "(OrderedDict([('loss', 0.057346564736014356), ('err', 0.057346564736014356)]), OrderedDict([('loss', 0.095377417883853358), ('err', 0.095377417883853358)]))"
       ]
      },
      {
       "output_type": "stream",
       "stream": "stdout",
       "text": [
        "\n",
        "Time= 212.0\n",
        "Iteration No. 2 of 2\n",
        "(OrderedDict([('loss', 0.057346527796156462), ('err', 0.057346527796156462)]), OrderedDict([('loss', 0.095377640358097246), ('err', 0.095377640358097246)]))"
       ]
      },
      {
       "output_type": "stream",
       "stream": "stdout",
       "text": [
        "\n",
        "Time= 211.0\n",
        "\n",
        "Learning rate= 1e-08\n",
        "Epoch 8 of 8\n",
        "Iteration No. 1 of 2\n",
        "(OrderedDict([('loss', 0.057365552727391932), ('err', 0.057365552727391932)]), OrderedDict([('loss', 0.095371338392471097), ('err', 0.095371338392471097)]))"
       ]
      },
      {
       "output_type": "stream",
       "stream": "stdout",
       "text": [
        "\n",
        "Time= 211.0\n",
        "Iteration No. 2 of 2\n",
        "(OrderedDict([('loss', 0.057365548722547871), ('err', 0.057365548722547871)]), OrderedDict([('loss', 0.095371319258388973), ('err', 0.095371319258388973)]))"
       ]
      },
      {
       "output_type": "stream",
       "stream": "stdout",
       "text": [
        "\n",
        "Time= 215.0\n",
        "\n",
        "0.7394"
       ]
      },
      {
       "output_type": "stream",
       "stream": "stdout",
       "text": [
        "\n",
        "Samples= 100000 Hidden Layers= 3 epochs= 8 trainings= 2 fom= 0.7394  time= 4039.0\n",
        "Learning rate= 0.1\n",
        "Epoch 1 of 8\n",
        "Iteration No. 1 of 2\n",
        "(OrderedDict([('loss', 0.40112499999999962), ('err', 0.40112499999999962)]), OrderedDict([('loss', 0.39634999999999998), ('err', 0.39634999999999998)]))"
       ]
      },
      {
       "output_type": "stream",
       "stream": "stdout",
       "text": [
        "\n",
        "Time= 621.0\n",
        "Iteration No. 2 of 2\n",
        "(OrderedDict([('loss', 0.40112499999999957), ('err', 0.40112499999999957)]), OrderedDict([('loss', 0.39634999999999998), ('err', 0.39634999999999998)]))"
       ]
      },
      {
       "output_type": "stream",
       "stream": "stdout",
       "text": [
        "\n",
        "Time= 626.0\n",
        "\n",
        "Learning rate= 0.01\n",
        "Epoch 2 of 8\n",
        "Iteration No. 1 of 2\n",
        "(OrderedDict([('loss', 0.052307360040540096), ('err', 0.052307360040540096)]), OrderedDict([('loss', 0.10816790444710966), ('err', 0.10816790444710966)]))"
       ]
      },
      {
       "output_type": "stream",
       "stream": "stdout",
       "text": [
        "\n",
        "Time= 469.0\n",
        "Iteration No. 2 of 2\n",
        "(OrderedDict([('loss', 0.053173982642215699), ('err', 0.053173982642215699)]), OrderedDict([('loss', 0.10814058174597375), ('err', 0.10814058174597375)]))"
       ]
      },
      {
       "output_type": "stream",
       "stream": "stdout",
       "text": [
        "\n",
        "Time= 281.0\n",
        "\n",
        "Learning rate= 0.001\n",
        "Epoch 3 of 8\n",
        "Iteration No. 1 of 2\n",
        "(OrderedDict([('loss', 0.035304836053014446), ('err', 0.035304836053014446)]), OrderedDict([('loss', 0.11574256076337297), ('err', 0.11574256076337297)]))"
       ]
      },
      {
       "output_type": "stream",
       "stream": "stdout",
       "text": [
        "\n",
        "Time= 284.0\n",
        "Iteration No. 2 of 2\n",
        "(OrderedDict([('loss', 0.035930003077003142), ('err', 0.035930003077003142)]), OrderedDict([('loss', 0.11583330612737808), ('err', 0.11583330612737808)]))"
       ]
      },
      {
       "output_type": "stream",
       "stream": "stdout",
       "text": [
        "\n",
        "Time= 282.0\n",
        "\n",
        "Learning rate= 0.0001\n",
        "Epoch 4 of 8\n",
        "Iteration No. 1 of 2\n",
        "(OrderedDict([('loss', 0.050349599280554963), ('err', 0.050349599280554963)]), OrderedDict([('loss', 0.10195804213563667), ('err', 0.10195804213563667)]))"
       ]
      },
      {
       "output_type": "stream",
       "stream": "stdout",
       "text": [
        "\n",
        "Time= 279.0\n",
        "Iteration No. 2 of 2\n",
        "(OrderedDict([('loss', 0.050353278355917547), ('err', 0.050353278355917547)]), OrderedDict([('loss', 0.10212074191258079), ('err', 0.10212074191258079)]))"
       ]
      },
      {
       "output_type": "stream",
       "stream": "stdout",
       "text": [
        "\n",
        "Time= 287.0\n",
        "\n",
        "Learning rate= 1e-05\n",
        "Epoch 5 of 8\n",
        "Iteration No. 1 of 2\n",
        "(OrderedDict([('loss', 0.060762025499632333), ('err', 0.060762025499632333)]), OrderedDict([('loss', 0.098723526080232382), ('err', 0.098723526080232382)]))"
       ]
      },
      {
       "output_type": "stream",
       "stream": "stdout",
       "text": [
        "\n",
        "Time= 286.0\n",
        "Iteration No. 2 of 2\n",
        "(OrderedDict([('loss', 0.060757718700000393), ('err', 0.060757718700000393)]), OrderedDict([('loss', 0.09871423884786136), ('err', 0.09871423884786136)]))"
       ]
      },
      {
       "output_type": "stream",
       "stream": "stdout",
       "text": [
        "\n",
        "Time= 276.0\n",
        "\n",
        "Learning rate= 1e-06\n",
        "Epoch 6 of 8\n",
        "Iteration No. 1 of 2\n",
        "(OrderedDict([('loss', 0.066234879995092297), ('err', 0.066234879995092297)]), OrderedDict([('loss', 0.097684145018091723), ('err', 0.097684145018091723)]))"
       ]
      },
      {
       "output_type": "stream",
       "stream": "stdout",
       "text": [
        "\n",
        "Time= 283.0\n",
        "Iteration No. 2 of 2\n",
        "(OrderedDict([('loss', 0.066235032441506636), ('err', 0.066235032441506636)]), OrderedDict([('loss', 0.0976851216927688), ('err', 0.0976851216927688)]))"
       ]
      },
      {
       "output_type": "stream",
       "stream": "stdout",
       "text": [
        "\n",
        "Time= 290.0\n",
        "\n",
        "Learning rate= 1e-07\n",
        "Epoch 7 of 8\n",
        "Iteration No. 1 of 2\n",
        "(OrderedDict([('loss', 0.067948288663244955), ('err', 0.067948288663244955)]), OrderedDict([('loss', 0.097494822870233283), ('err', 0.097494822870233283)]))"
       ]
      },
      {
       "output_type": "stream",
       "stream": "stdout",
       "text": [
        "\n",
        "Time= 272.0\n",
        "Iteration No. 2 of 2\n",
        "(OrderedDict([('loss', 0.067948233311887027), ('err', 0.067948233311887027)]), OrderedDict([('loss', 0.097494885632580519), ('err', 0.097494885632580519)]))"
       ]
      },
      {
       "output_type": "stream",
       "stream": "stdout",
       "text": [
        "\n",
        "Time= 277.0\n",
        "\n",
        "Learning rate= 1e-08\n",
        "Epoch 8 of 8\n",
        "Iteration No. 1 of 2\n",
        "(OrderedDict([('loss', 0.068182063546776042), ('err', 0.068182063546776042)]), OrderedDict([('loss', 0.0974844705093693), ('err', 0.0974844705093693)]))"
       ]
      },
      {
       "output_type": "stream",
       "stream": "stdout",
       "text": [
        "\n",
        "Time= 274.0\n",
        "Iteration No. 2 of 2\n",
        "(OrderedDict([('loss', 0.068182072195296844), ('err', 0.068182072195296844)]), OrderedDict([('loss', 0.097484470158055045), ('err', 0.097484470158055045)]))"
       ]
      },
      {
       "output_type": "stream",
       "stream": "stdout",
       "text": [
        "\n",
        "Time= 272.0\n",
        "\n",
        "0.7269"
       ]
      },
      {
       "output_type": "stream",
       "stream": "stdout",
       "text": [
        "\n",
        "Samples= 100000 Hidden Layers= 4 epochs= 8 trainings= 2 fom= 0.7269  time= 5359.0\n",
        "Learning rate= 0.1\n",
        "Epoch 1 of 8\n",
        "Iteration No. 1 of 2\n",
        "(OrderedDict([('loss', 0.5988749996637055), ('err', 0.5988749996637055)]), OrderedDict([('loss', 0.6036499996939283), ('err', 0.6036499996939283)]))"
       ]
      },
      {
       "output_type": "stream",
       "stream": "stdout",
       "text": [
        "\n",
        "Time= 353.0\n",
        "Iteration No. 2 of 2\n",
        "(OrderedDict([('loss', 0.59887499966011282), ('err', 0.59887499966011282)]), OrderedDict([('loss', 0.60364999969097255), ('err', 0.60364999969097255)]))"
       ]
      },
      {
       "output_type": "stream",
       "stream": "stdout",
       "text": [
        "\n",
        "Time= 356.0\n",
        "\n",
        "Learning rate= 0.01\n",
        "Epoch 2 of 8\n",
        "Iteration No. 1 of 2\n",
        "(OrderedDict([('loss', 0.059830516668325319), ('err', 0.059830516668325319)]), OrderedDict([('loss', 0.1041298146956838), ('err', 0.1041298146956838)]))"
       ]
      },
      {
       "output_type": "stream",
       "stream": "stdout",
       "text": [
        "\n",
        "Time= 631.0\n",
        "Iteration No. 2 of 2\n",
        "(OrderedDict([('loss', 0.057389296122683071), ('err', 0.057389296122683071)]), OrderedDict([('loss', 0.1046614520967009), ('err', 0.1046614520967009)]))"
       ]
      },
      {
       "output_type": "stream",
       "stream": "stdout",
       "text": [
        "\n",
        "Time= 399.0\n",
        "\n",
        "Learning rate= 0.001\n",
        "Epoch 3 of 8\n",
        "Iteration No. 1 of 2\n",
        "(OrderedDict([('loss', 0.044287044598353378), ('err', 0.044287044598353378)]), OrderedDict([('loss', 0.11042417539407681), ('err', 0.11042417539407681)]))"
       ]
      },
      {
       "output_type": "stream",
       "stream": "stdout",
       "text": [
        "\n",
        "Time= 347.0\n",
        "Iteration No. 2 of 2\n",
        "(OrderedDict([('loss', 0.043671872400899939), ('err', 0.043671872400899939)]), OrderedDict([('loss', 0.11072949939829259), ('err', 0.11072949939829259)]))"
       ]
      },
      {
       "output_type": "stream",
       "stream": "stdout",
       "text": [
        "\n",
        "Time= 349.0\n",
        "\n",
        "Learning rate= 0.0001\n",
        "Epoch 4 of 8\n",
        "Iteration No. 1 of 2\n",
        "(OrderedDict([('loss', 0.056933125308674767), ('err', 0.056933125308674767)]), OrderedDict([('loss', 0.099092335230354531), ('err', 0.099092335230354531)]))"
       ]
      },
      {
       "output_type": "stream",
       "stream": "stdout",
       "text": [
        "\n",
        "Time= 406.0\n",
        "Iteration No. 2 of 2\n",
        "(OrderedDict([('loss', 0.056885640066470282), ('err', 0.056885640066470282)]), OrderedDict([('loss', 0.099091805787518597), ('err', 0.099091805787518597)]))"
       ]
      },
      {
       "output_type": "stream",
       "stream": "stdout",
       "text": [
        "\n",
        "Time= 348.0\n",
        "\n",
        "Learning rate= 1e-05\n",
        "Epoch 5 of 8\n",
        "Iteration No. 1 of 2\n",
        "(OrderedDict([('loss', 0.06376761908167676), ('err', 0.06376761908167676)]), OrderedDict([('loss', 0.096951634908625128), ('err', 0.096951634908625128)]))"
       ]
      },
      {
       "output_type": "stream",
       "stream": "stdout",
       "text": [
        "\n",
        "Time= 347.0\n",
        "Iteration No. 2 of 2\n",
        "(OrderedDict([('loss', 0.063765567650277286), ('err', 0.063765567650277286)]), OrderedDict([('loss', 0.096954632347983696), ('err', 0.096954632347983696)]))"
       ]
      },
      {
       "output_type": "stream",
       "stream": "stdout",
       "text": [
        "\n",
        "Time= 347.0\n",
        "\n",
        "Learning rate= 1e-06\n",
        "Epoch 6 of 8\n",
        "Iteration No. 1 of 2\n",
        "(OrderedDict([('loss', 0.065164140034421558), ('err', 0.065164140034421558)]), OrderedDict([('loss', 0.096662650658443122), ('err', 0.096662650658443122)]))"
       ]
      },
      {
       "output_type": "stream",
       "stream": "stdout",
       "text": [
        "\n",
        "Time= 354.0\n",
        "Iteration No. 2 of 2\n",
        "(OrderedDict([('loss', 0.065164414462216463), ('err', 0.065164414462216463)]), OrderedDict([('loss', 0.096662289430996293), ('err', 0.096662289430996293)]))"
       ]
      },
      {
       "output_type": "stream",
       "stream": "stdout",
       "text": [
        "\n",
        "Time= 349.0\n",
        "\n",
        "Learning rate= 1e-07\n",
        "Epoch 7 of 8\n",
        "Iteration No. 1 of 2\n",
        "(OrderedDict([('loss', 0.065340529150816659), ('err', 0.065340529150816659)]), OrderedDict([('loss', 0.096565567997858676), ('err', 0.096565567997858676)]))"
       ]
      },
      {
       "output_type": "stream",
       "stream": "stdout",
       "text": [
        "\n",
        "Time= 349.0\n",
        "Iteration No. 2 of 2\n",
        "(OrderedDict([('loss', 0.065340504206209571), ('err', 0.065340504206209571)]), OrderedDict([('loss', 0.096565585374471075), ('err', 0.096565585374471075)]))"
       ]
      },
      {
       "output_type": "stream",
       "stream": "stdout",
       "text": [
        "\n",
        "Time= 342.0\n",
        "\n",
        "Learning rate= 1e-08\n",
        "Epoch 8 of 8\n",
        "Iteration No. 1 of 2\n",
        "(OrderedDict([('loss', 0.0653616314025076), ('err', 0.0653616314025076)]), OrderedDict([('loss', 0.09655028695809563), ('err', 0.09655028695809563)]))"
       ]
      },
      {
       "output_type": "stream",
       "stream": "stdout",
       "text": [
        "\n",
        "Time= 347.0\n",
        "Iteration No. 2 of 2\n",
        "(OrderedDict([('loss', 0.065361637477005352), ('err', 0.065361637477005352)]), OrderedDict([('loss', 0.096550285576323239), ('err', 0.096550285576323239)]))"
       ]
      },
      {
       "output_type": "stream",
       "stream": "stdout",
       "text": [
        "\n",
        "Time= 343.0\n",
        "\n",
        "0.72935"
       ]
      },
      {
       "output_type": "stream",
       "stream": "stdout",
       "text": [
        "\n",
        "Samples= 100000 Hidden Layers= 5 epochs= 8 trainings= 2 fom= 0.72935  time= 5967.0\n",
        "Learning rate= 0.1\n",
        "Epoch 1 of 8\n",
        "Iteration No. 1 of 2\n",
        "(OrderedDict([('loss', 0.40112499999999934), ('err', 0.40112499999999934)]), OrderedDict([('loss', 0.39635000000000015), ('err', 0.39635000000000015)]))"
       ]
      },
      {
       "output_type": "stream",
       "stream": "stdout",
       "text": [
        "\n",
        "Time= 923.0\n",
        "Iteration No. 2 of 2\n",
        "(OrderedDict([('loss', 0.4011249999999994), ('err', 0.4011249999999994)]), OrderedDict([('loss', 0.39634999999999992), ('err', 0.39634999999999992)]))"
       ]
      },
      {
       "output_type": "stream",
       "stream": "stdout",
       "text": [
        "\n",
        "Time= 923.0\n",
        "\n",
        "Learning rate= 0.01\n",
        "Epoch 2 of 8\n",
        "Iteration No. 1 of 2\n",
        "(OrderedDict([('loss', 0.24031167663814862), ('err', 0.24031167663814862)]), OrderedDict([('loss', 0.23947252621516055), ('err', 0.23947252621516055)]))"
       ]
      },
      {
       "output_type": "stream",
       "stream": "stdout",
       "text": [
        "\n",
        "Time= 760.0\n",
        "Iteration No. 2 of 2\n",
        "(OrderedDict([('loss', 0.24033074971943524), ('err', 0.24033074971943524)]), OrderedDict([('loss', 0.23939851659179887), ('err', 0.23939851659179887)]))"
       ]
      },
      {
       "output_type": "stream",
       "stream": "stdout",
       "text": [
        "\n",
        "Time= 423.0\n",
        "\n",
        "Learning rate= 0.001\n",
        "Epoch 3 of 8\n",
        "Iteration No. 1 of 2\n",
        "(OrderedDict([('loss', 0.2402363581069836), ('err', 0.2402363581069836)]), OrderedDict([('loss', 0.23927670519871697), ('err', 0.23927670519871697)]))"
       ]
      },
      {
       "output_type": "stream",
       "stream": "stdout",
       "text": [
        "\n",
        "Time= 428.0\n",
        "Iteration No. 2 of 2\n",
        "(OrderedDict([('loss', 0.24023541832689943), ('err', 0.24023541832689943)]), OrderedDict([('loss', 0.23927253994262776), ('err', 0.23927253994262776)]))"
       ]
      },
      {
       "output_type": "stream",
       "stream": "stdout",
       "text": [
        "\n",
        "Time= 416.0\n",
        "\n",
        "Learning rate= 0.0001\n",
        "Epoch 4 of 8\n",
        "Iteration No. 1 of 2\n",
        "(OrderedDict([('loss', 0.24022660566949328), ('err', 0.24022660566949328)]), OrderedDict([('loss', 0.23927759574277091), ('err', 0.23927759574277091)]))"
       ]
      },
      {
       "output_type": "stream",
       "stream": "stdout",
       "text": [
        "\n",
        "Time= 419.0\n",
        "Iteration No. 2 of 2\n",
        "(OrderedDict([('loss', 0.24022590778150218), ('err', 0.24022590778150218)]), OrderedDict([('loss', 0.23928038404281718), ('err', 0.23928038404281718)]))"
       ]
      },
      {
       "output_type": "stream",
       "stream": "stdout",
       "text": [
        "\n",
        "Time= 415.0\n",
        "\n",
        "Learning rate= 1e-05\n",
        "Epoch 5 of 8\n",
        "Iteration No. 1 of 2\n",
        "(OrderedDict([('loss', 0.24022399901475955), ('err', 0.24022399901475955)]), OrderedDict([('loss', 0.23927766995065802), ('err', 0.23927766995065802)]))"
       ]
      },
      {
       "output_type": "stream",
       "stream": "stdout",
       "text": [
        "\n",
        "Time= 417.0\n",
        "Iteration No. 2 of 2\n",
        "(OrderedDict([('loss', 0.24022397981920357), ('err', 0.24022397981920357)]), OrderedDict([('loss', 0.23927788726074431), ('err', 0.23927788726074431)]))"
       ]
      },
      {
       "output_type": "stream",
       "stream": "stdout",
       "text": [
        "\n",
        "Time= 414.0\n",
        "\n",
        "Learning rate= 1e-06\n",
        "Epoch 6 of 8\n",
        "Iteration No. 1 of 2\n",
        "(OrderedDict([('loss', 0.24023276020354037), ('err', 0.24023276020354037)]), OrderedDict([('loss', 0.23925905340851941), ('err', 0.23925905340851941)]))"
       ]
      },
      {
       "output_type": "stream",
       "stream": "stdout",
       "text": [
        "\n",
        "Time= 479.0\n",
        "Iteration No. 2 of 2\n",
        "(OrderedDict([('loss', 0.24023266276896935), ('err', 0.24023266276896935)]), OrderedDict([('loss', 0.2392591068142445), ('err', 0.2392591068142445)]))"
       ]
      },
      {
       "output_type": "stream",
       "stream": "stdout",
       "text": [
        "\n",
        "Time= 424.0\n",
        "\n",
        "Learning rate= 1e-07\n",
        "Epoch 7 of 8\n",
        "Iteration No. 1 of 2\n",
        "(OrderedDict([('loss', 0.24024422223185254), ('err', 0.24024422223185254)]), OrderedDict([('loss', 0.23925672259974029), ('err', 0.23925672259974029)]))"
       ]
      },
      {
       "output_type": "stream",
       "stream": "stdout",
       "text": [
        "\n",
        "Time= 421.0\n",
        "Iteration No. 2 of 2\n",
        "(OrderedDict([('loss', 0.24024421859375791), ('err', 0.24024421859375791)]), OrderedDict([('loss', 0.23925672265829387), ('err', 0.23925672265829387)]))"
       ]
      },
      {
       "output_type": "stream",
       "stream": "stdout",
       "text": [
        "\n",
        "Time= 419.0\n",
        "\n",
        "Learning rate= 1e-08\n",
        "Epoch 8 of 8\n",
        "Iteration No. 1 of 2\n",
        "(OrderedDict([('loss', 0.24024599286416279), ('err', 0.24024599286416279)]), OrderedDict([('loss', 0.23925667894260871), ('err', 0.23925667894260871)]))"
       ]
      },
      {
       "output_type": "stream",
       "stream": "stdout",
       "text": [
        "\n",
        "Time= 417.0\n",
        "Iteration No. 2 of 2\n",
        "(OrderedDict([('loss', 0.2402459939943784), ('err', 0.2402459939943784)]), OrderedDict([('loss', 0.23925667892200309), ('err', 0.23925667892200309)]))"
       ]
      },
      {
       "output_type": "stream",
       "stream": "stdout",
       "text": [
        "\n",
        "Time= 419.0\n",
        "\n",
        "0.4791"
       ]
      },
      {
       "output_type": "stream",
       "stream": "stdout",
       "text": [
        "\n",
        "Samples= 100000 Hidden Layers= 6 epochs= 8 trainings= 2 fom= 0.4791  time= 8117.0\n",
        "Learning rate= 0.1\n",
        "Epoch 1 of 8\n",
        "Iteration No. 1 of 2\n",
        "(OrderedDict([('loss', 0.4011249999999999), ('err', 0.4011249999999999)]), OrderedDict([('loss', 0.39635000000000004), ('err', 0.39635000000000004)]))"
       ]
      },
      {
       "output_type": "stream",
       "stream": "stdout",
       "text": [
        "\n",
        "Time= 1558.0\n",
        "Iteration No. 2 of 2\n",
        "(OrderedDict([('loss', 0.40112499999999957), ('err', 0.40112499999999957)]), OrderedDict([('loss', 0.39635000000000015), ('err', 0.39635000000000015)]))"
       ]
      },
      {
       "output_type": "stream",
       "stream": "stdout",
       "text": [
        "\n",
        "Time= 539.0\n",
        "\n",
        "Learning rate= 0.01\n",
        "Epoch 2 of 8\n",
        "Iteration No. 1 of 2\n",
        "(OrderedDict([('loss', 0.40112499999999968), ('err', 0.40112499999999968)]), OrderedDict([('loss', 0.39634999999999981), ('err', 0.39634999999999981)]))"
       ]
      },
      {
       "output_type": "stream",
       "stream": "stdout",
       "text": [
        "\n",
        "Time= 702.0\n",
        "Iteration No. 2 of 2\n",
        "(OrderedDict([('loss', 0.40112500000000006), ('err', 0.40112500000000006)]), OrderedDict([('loss', 0.39635000000000015), ('err', 0.39635000000000015)]))"
       ]
      },
      {
       "output_type": "stream",
       "stream": "stdout",
       "text": [
        "\n",
        "Time= 1006.0\n",
        "\n",
        "Learning rate= 0.001\n",
        "Epoch 3 of 8\n",
        "Iteration No. 1 of 2\n",
        "(OrderedDict([('loss', 0.40112499999999945), ('err', 0.40112499999999945)]), OrderedDict([('loss', 0.39634999999999992), ('err', 0.39634999999999992)]))"
       ]
      },
      {
       "output_type": "stream",
       "stream": "stdout",
       "text": [
        "\n",
        "Time= 784.0\n",
        "Iteration No. 2 of 2\n",
        "(OrderedDict([('loss', 0.40112500000000006), ('err', 0.40112500000000006)]), OrderedDict([('loss', 0.39635000000000015), ('err', 0.39635000000000015)]))"
       ]
      },
      {
       "output_type": "stream",
       "stream": "stdout",
       "text": [
        "\n",
        "Time= 1088.0\n",
        "\n",
        "Learning rate= 0.0001\n",
        "Epoch 4 of 8\n",
        "Iteration No. 1 of 2\n",
        "(OrderedDict([('loss', 0.40112500000000034), ('err', 0.40112500000000034)]), OrderedDict([('loss', 0.39635000000000004), ('err', 0.39635000000000004)]))"
       ]
      },
      {
       "output_type": "stream",
       "stream": "stdout",
       "text": [
        "\n",
        "Time= 933.0\n",
        "Iteration No. 2 of 2\n",
        "(OrderedDict([('loss', 0.40112500000000034), ('err', 0.40112500000000034)]), OrderedDict([('loss', 0.39634999999999998), ('err', 0.39634999999999998)]))"
       ]
      },
      {
       "output_type": "stream",
       "stream": "stdout",
       "text": [
        "\n",
        "Time= 549.0\n",
        "\n",
        "Learning rate= 1e-05\n",
        "Epoch 5 of 8\n",
        "Iteration No. 1 of 2\n",
        "(OrderedDict([('loss', 0.40112499999999984), ('err', 0.40112499999999984)]), OrderedDict([('loss', 0.39635000000000026), ('err', 0.39635000000000026)]))"
       ]
      },
      {
       "output_type": "stream",
       "stream": "stdout",
       "text": [
        "\n",
        "Time= 637.0\n",
        "Iteration No. 2 of 2\n",
        "(OrderedDict([('loss', 0.40112499999999945), ('err', 0.40112499999999945)]), OrderedDict([('loss', 0.39635000000000004), ('err', 0.39635000000000004)]))"
       ]
      },
      {
       "output_type": "stream",
       "stream": "stdout",
       "text": [
        "\n",
        "Time= 745.0\n",
        "\n",
        "Learning rate= 1e-06\n",
        "Epoch 6 of 8\n",
        "Iteration No. 1 of 2\n",
        "(OrderedDict([('loss', 0.40112499999999968), ('err', 0.40112499999999968)]), OrderedDict([('loss', 0.3963500000000002), ('err', 0.3963500000000002)]))"
       ]
      },
      {
       "output_type": "stream",
       "stream": "stdout",
       "text": [
        "\n",
        "Time= 473.0\n",
        "Iteration No. 2 of 2\n",
        "(OrderedDict([('loss', 0.40112499999999973), ('err', 0.40112499999999973)]), OrderedDict([('loss', 0.3963500000000002), ('err', 0.3963500000000002)]))"
       ]
      },
      {
       "output_type": "stream",
       "stream": "stdout",
       "text": [
        "\n",
        "Time= 713.0\n",
        "\n",
        "Learning rate= 1e-07\n",
        "Epoch 7 of 8\n",
        "Iteration No. 1 of 2\n",
        "(OrderedDict([('loss', 0.40112499999999945), ('err', 0.40112499999999945)]), OrderedDict([('loss', 0.39634999999999998), ('err', 0.39634999999999998)]))"
       ]
      },
      {
       "output_type": "stream",
       "stream": "stdout",
       "text": [
        "\n",
        "Time= 715.0\n",
        "Iteration No. 2 of 2\n",
        "(OrderedDict([('loss', 0.40112499999999968), ('err', 0.40112499999999968)]), OrderedDict([('loss', 0.39635000000000015), ('err', 0.39635000000000015)]))"
       ]
      },
      {
       "output_type": "stream",
       "stream": "stdout",
       "text": [
        "\n",
        "Time= 563.0\n",
        "\n",
        "Learning rate= 1e-08\n",
        "Epoch 8 of 8\n",
        "Iteration No. 1 of 2\n",
        "(OrderedDict([('loss', 0.4011249999999999), ('err', 0.4011249999999999)]), OrderedDict([('loss', 0.39635000000000015), ('err', 0.39635000000000015)]))"
       ]
      },
      {
       "output_type": "stream",
       "stream": "stdout",
       "text": [
        "\n",
        "Time= 789.0\n",
        "Iteration No. 2 of 2\n",
        "(OrderedDict([('loss', 0.40112499999999995), ('err', 0.40112499999999995)]), OrderedDict([('loss', 0.39634999999999992), ('err', 0.39634999999999992)]))"
       ]
      },
      {
       "output_type": "stream",
       "stream": "stdout",
       "text": [
        "\n",
        "Time= 701.0\n",
        "\n",
        "0.4791"
       ]
      },
      {
       "output_type": "stream",
       "stream": "stdout",
       "text": [
        "\n",
        "Samples= 100000 Hidden Layers= 7 epochs= 8 trainings= 2 fom= 0.4791  time= 12495.0\n",
        "Learning rate= 0.1\n",
        "Epoch 1 of 8\n",
        "Iteration No. 1 of 2\n",
        "(OrderedDict([('loss', 0.47899127909318756), ('err', 0.47899127909318756)]), OrderedDict([('loss', 0.38933145280956838), ('err', 0.38933145280956838)]))"
       ]
      },
      {
       "output_type": "stream",
       "stream": "stdout",
       "text": [
        "\n",
        "Time= 562.0\n",
        "Iteration No. 2 of 2\n",
        "(OrderedDict([('loss', 0.24088253665142542), ('err', 0.24088253665142542)]), OrderedDict([('loss', 0.24154882089993124), ('err', 0.24154882089993124)]))"
       ]
      },
      {
       "output_type": "stream",
       "stream": "stdout",
       "text": [
        "\n",
        "Time= 1272.0\n",
        "\n",
        "Learning rate= 0.01\n",
        "Epoch 2 of 8\n",
        "Iteration No. 1 of 2\n",
        "(OrderedDict([('loss', 0.24047750252802266), ('err', 0.24047750252802266)]), OrderedDict([('loss', 0.23937688948825986), ('err', 0.23937688948825986)]))"
       ]
      },
      {
       "output_type": "stream",
       "stream": "stdout",
       "text": [
        "\n",
        "Time= 555.0\n",
        "Iteration No. 2 of 2\n",
        "(OrderedDict([('loss', 0.2404589655805687), ('err', 0.2404589655805687)]), OrderedDict([('loss', 0.23949615855434839), ('err', 0.23949615855434839)]))"
       ]
      },
      {
       "output_type": "stream",
       "stream": "stdout",
       "text": [
        "\n",
        "Time= 1190.0\n",
        "\n",
        "Learning rate= 0.001\n",
        "Epoch 3 of 8\n",
        "Iteration No. 1 of 2\n",
        "(OrderedDict([('loss', 0.24024737135542079), ('err', 0.24024737135542079)]), OrderedDict([('loss', 0.23932531561868611), ('err', 0.23932531561868611)]))"
       ]
      },
      {
       "output_type": "stream",
       "stream": "stdout",
       "text": [
        "\n",
        "Time= 910.0\n",
        "Iteration No. 2 of 2\n",
        "(OrderedDict([('loss', 0.24025892043726502), ('err', 0.24025892043726502)]), OrderedDict([('loss', 0.23929424242536435), ('err', 0.23929424242536435)]))"
       ]
      },
      {
       "output_type": "stream",
       "stream": "stdout",
       "text": [
        "\n",
        "Time= 553.0\n",
        "\n",
        "Learning rate= 0.0001\n",
        "Epoch 4 of 8\n",
        "Iteration No. 1 of 2\n",
        "(OrderedDict([('loss', 0.24022743103181834), ('err', 0.24022743103181834)]), OrderedDict([('loss', 0.23928329025164261), ('err', 0.23928329025164261)]))"
       ]
      },
      {
       "output_type": "stream",
       "stream": "stdout",
       "text": [
        "\n",
        "Time= 552.0\n",
        "Iteration No. 2 of 2\n",
        "(OrderedDict([('loss', 0.24022696598449111), ('err', 0.24022696598449111)]), OrderedDict([('loss', 0.23927015867793527), ('err', 0.23927015867793527)]))"
       ]
      },
      {
       "output_type": "stream",
       "stream": "stdout",
       "text": [
        "\n",
        "Time= 548.0\n",
        "\n",
        "Learning rate= 1e-05\n",
        "Epoch 5 of 8\n",
        "Iteration No. 1 of 2\n",
        "(OrderedDict([('loss', 0.24022422077909758), ('err', 0.24022422077909758)]), OrderedDict([('loss', 0.23927823780889373), ('err', 0.23927823780889373)]))"
       ]
      },
      {
       "output_type": "stream",
       "stream": "stdout",
       "text": [
        "\n",
        "Time= 550.0\n",
        "Iteration No. 2 of 2\n",
        "(OrderedDict([('loss', 0.24022418056731984), ('err', 0.24022418056731984)]), OrderedDict([('loss', 0.23927956552455776), ('err', 0.23927956552455776)]))"
       ]
      },
      {
       "output_type": "stream",
       "stream": "stdout",
       "text": [
        "\n",
        "Time= 554.0\n",
        "\n",
        "Learning rate= 1e-06\n",
        "Epoch 6 of 8\n",
        "Iteration No. 1 of 2\n",
        "(OrderedDict([('loss', 0.24022781864070131), ('err', 0.24022781864070131)]), OrderedDict([('loss', 0.23926273778496654), ('err', 0.23926273778496654)]))"
       ]
      },
      {
       "output_type": "stream",
       "stream": "stdout",
       "text": [
        "\n",
        "Time= 554.0\n",
        "Iteration No. 2 of 2\n",
        "(OrderedDict([('loss', 0.24022778674667136), ('err', 0.24022778674667136)]), OrderedDict([('loss', 0.23926267273770946), ('err', 0.23926267273770946)]))"
       ]
      },
      {
       "output_type": "stream",
       "stream": "stdout",
       "text": [
        "\n",
        "Time= 556.0\n",
        "\n",
        "Learning rate= 1e-07\n",
        "Epoch 7 of 8\n",
        "Iteration No. 1 of 2\n",
        "(OrderedDict([('loss', 0.24024263697968851), ('err', 0.24024263697968851)]), OrderedDict([('loss', 0.23925680916990402), ('err', 0.23925680916990402)]))"
       ]
      },
      {
       "output_type": "stream",
       "stream": "stdout",
       "text": [
        "\n",
        "Time= 829.0\n",
        "Iteration No. 2 of 2\n",
        "(OrderedDict([('loss', 0.24024263315375488), ('err', 0.24024263315375488)]), OrderedDict([('loss', 0.23925681019831174), ('err', 0.23925681019831174)]))"
       ]
      },
      {
       "output_type": "stream",
       "stream": "stdout",
       "text": [
        "\n",
        "Time= 553.0\n",
        "\n",
        "Learning rate= 1e-08\n",
        "Epoch 8 of 8\n",
        "Iteration No. 1 of 2\n",
        "(OrderedDict([('loss', 0.24024604168847274), ('err', 0.24024604168847274)]), OrderedDict([('loss', 0.23925667952751645), ('err', 0.23925667952751645)]))"
       ]
      },
      {
       "output_type": "stream",
       "stream": "stdout",
       "text": [
        "\n",
        "Time= 559.0\n",
        "Iteration No. 2 of 2\n",
        "(OrderedDict([('loss', 0.24024604271817754), ('err', 0.24024604271817754)]), OrderedDict([('loss', 0.23925667952079979), ('err', 0.23925667952079979)]))"
       ]
      },
      {
       "output_type": "stream",
       "stream": "stdout",
       "text": [
        "\n",
        "Time= 551.0\n",
        "\n",
        "0.4791"
       ]
      },
      {
       "output_type": "stream",
       "stream": "stdout",
       "text": [
        "\n",
        "Samples= 100000 Hidden Layers= 8 epochs= 8 trainings= 2 fom= 0.4791  time= 10848.0\n",
        "Learning rate= 0.1\n",
        "Epoch 1 of 8\n",
        "Iteration No. 1 of 2\n",
        "(OrderedDict([('loss', 0.4011249999999994), ('err', 0.4011249999999994)]), OrderedDict([('loss', 0.39635000000000026), ('err', 0.39635000000000026)]))"
       ]
      },
      {
       "output_type": "stream",
       "stream": "stdout",
       "text": [
        "\n",
        "Time= 1398.0\n",
        "Iteration No. 2 of 2\n",
        "(OrderedDict([('loss', 0.40112499999999984), ('err', 0.40112499999999984)]), OrderedDict([('loss', 0.39634999999999981), ('err', 0.39634999999999981)]))"
       ]
      },
      {
       "output_type": "stream",
       "stream": "stdout",
       "text": [
        "\n",
        "Time= 1396.0\n",
        "\n",
        "Learning rate= 0.01\n",
        "Epoch 2 of 8\n",
        "Iteration No. 1 of 2\n",
        "(OrderedDict([('loss', 0.24041328369882081), ('err', 0.24041328369882081)]), OrderedDict([('loss', 0.23928089606493383), ('err', 0.23928089606493383)]))"
       ]
      },
      {
       "output_type": "stream",
       "stream": "stdout",
       "text": [
        "\n",
        "Time= 1949.0\n",
        "Iteration No. 2 of 2\n",
        "(OrderedDict([('loss', 0.24044127615119165), ('err', 0.24044127615119165)]), OrderedDict([('loss', 0.23929564057605063), ('err', 0.23929564057605063)]))"
       ]
      },
      {
       "output_type": "stream",
       "stream": "stdout",
       "text": [
        "\n",
        "Time= 612.0\n",
        "\n",
        "Learning rate= 0.001\n",
        "Epoch 3 of 8\n",
        "Iteration No. 1 of 2\n",
        "(OrderedDict([('loss', 0.24024789128156057), ('err', 0.24024789128156057)]), OrderedDict([('loss', 0.23926048539545217), ('err', 0.23926048539545217)]))"
       ]
      },
      {
       "output_type": "stream",
       "stream": "stdout",
       "text": [
        "\n",
        "Time= 616.0\n",
        "Iteration No. 2 of 2\n",
        "(OrderedDict([('loss', 0.24025069478406449), ('err', 0.24025069478406449)]), OrderedDict([('loss', 0.23927706093389786), ('err', 0.23927706093389786)]))"
       ]
      },
      {
       "output_type": "stream",
       "stream": "stdout",
       "text": [
        "\n",
        "Time= 1224.0\n",
        "\n",
        "Learning rate= 0.0001\n",
        "Epoch 4 of 8\n",
        "Iteration No. 1 of 2\n",
        "(OrderedDict([('loss', 0.24022706106722816), ('err', 0.24022706106722816)]), OrderedDict([('loss', 0.23927226441482477), ('err', 0.23927226441482477)]))"
       ]
      },
      {
       "output_type": "stream",
       "stream": "stdout",
       "text": [
        "\n",
        "Time= 622.0\n",
        "Iteration No. 2 of 2\n",
        "(OrderedDict([('loss', 0.24022740685031185), ('err', 0.24022740685031185)]), OrderedDict([('loss', 0.2392781869688316), ('err', 0.2392781869688316)]))"
       ]
      },
      {
       "output_type": "stream",
       "stream": "stdout",
       "text": [
        "\n",
        "Time= 620.0\n",
        "\n",
        "Learning rate= 1e-05\n",
        "Epoch 5 of 8\n",
        "Iteration No. 1 of 2\n",
        "(OrderedDict([('loss', 0.24022417364899026), ('err', 0.24022417364899026)]), OrderedDict([('loss', 0.2392778432922546), ('err', 0.2392778432922546)]))"
       ]
      },
      {
       "output_type": "stream",
       "stream": "stdout",
       "text": [
        "\n",
        "Time= 617.0\n",
        "Iteration No. 2 of 2\n",
        "(OrderedDict([('loss', 0.24022409012418419), ('err', 0.24022409012418419)]), OrderedDict([('loss', 0.23927808746085463), ('err', 0.23927808746085463)]))"
       ]
      },
      {
       "output_type": "stream",
       "stream": "stdout",
       "text": [
        "\n",
        "Time= 624.0\n",
        "\n",
        "Learning rate= 1e-06\n",
        "Epoch 6 of 8\n",
        "Iteration No. 1 of 2\n",
        "(OrderedDict([('loss', 0.24022828060626378), ('err', 0.24022828060626378)]), OrderedDict([('loss', 0.23926243434056166), ('err', 0.23926243434056166)]))"
       ]
      },
      {
       "output_type": "stream",
       "stream": "stdout",
       "text": [
        "\n",
        "Time= 620.0\n",
        "Iteration No. 2 of 2\n",
        "(OrderedDict([('loss', 0.2402282439945754), ('err', 0.2402282439945754)]), OrderedDict([('loss', 0.23926244606177063), ('err', 0.23926244606177063)]))"
       ]
      },
      {
       "output_type": "stream",
       "stream": "stdout",
       "text": [
        "\n",
        "Time= 615.0\n",
        "\n",
        "Learning rate= 1e-07\n",
        "Epoch 7 of 8\n",
        "Iteration No. 1 of 2\n",
        "(OrderedDict([('loss', 0.24023935871996915), ('err', 0.24023935871996915)]), OrderedDict([('loss', 0.23925728273864283), ('err', 0.23925728273864283)]))"
       ]
      },
      {
       "output_type": "stream",
       "stream": "stdout",
       "text": [
        "\n",
        "Time= 610.0\n",
        "Iteration No. 2 of 2\n",
        "(OrderedDict([('loss', 0.24023936905079629), ('err', 0.24023936905079629)]), OrderedDict([('loss', 0.23925728108898542), ('err', 0.23925728108898542)]))"
       ]
      },
      {
       "output_type": "stream",
       "stream": "stdout",
       "text": [
        "\n",
        "Time= 620.0\n",
        "\n",
        "Learning rate= 1e-08\n",
        "Epoch 8 of 8\n",
        "Iteration No. 1 of 2\n",
        "(OrderedDict([('loss', 0.24024143648105312), ('err', 0.24024143648105312)]), OrderedDict([('loss', 0.23925699435696834), ('err', 0.23925699435696834)]))"
       ]
      },
      {
       "output_type": "stream",
       "stream": "stdout",
       "text": [
        "\n",
        "Time= 619.0\n",
        "Iteration No. 2 of 2\n",
        "(OrderedDict([('loss', 0.24024143339178919), ('err', 0.24024143339178919)]), OrderedDict([('loss', 0.2392569949104778), ('err', 0.2392569949104778)]))"
       ]
      },
      {
       "output_type": "stream",
       "stream": "stdout",
       "text": [
        "\n",
        "Time= 614.0\n",
        "\n",
        "0.4791"
       ]
      },
      {
       "output_type": "stream",
       "stream": "stdout",
       "text": [
        "\n",
        "Samples= 100000 Hidden Layers= 9 epochs= 8 trainings= 2 fom= 0.4791  time= 13376.0\n"
       ]
      }
     ],
     "prompt_number": 10
    },
    {
     "cell_type": "code",
     "collapsed": false,
     "input": [
      "print mapAlgo"
     ],
     "language": "python",
     "metadata": {},
     "outputs": [
      {
       "output_type": "stream",
       "stream": "stdout",
       "text": [
        "[(100000, 1, 8, 2, 1363.0, 0.73587999999999998), (100000, 2, 8, 2, 2545.0, 0.73609999999999998), (100000, 3, 8, 2, 4039.0, 0.73939999999999995), (100000, 4, 8, 2, 5359.0, 0.72689999999999999), (100000, 5, 8, 2, 5967.0, 0.72935000000000005), (100000, 6, 8, 2, 8117.0, 0.47910000000000003), (100000, 7, 8, 2, 12495.0, 0.47910000000000003), (100000, 8, 8, 2, 10848.0, 0.47910000000000003), (100000, 9, 8, 2, 13376.0, 0.47910000000000003)]\n"
       ]
      }
     ],
     "prompt_number": 11
    },
    {
     "cell_type": "code",
     "collapsed": false,
     "input": [
      "truncate=200000\n",
      "for j in range (0, 9):\n",
      "    for iLayers in range(1,10):\n",
      "        epochs=8\n",
      "        trainings=2\n",
      "        input_matrix = input_matrix[0:truncate,...]\n",
      "        target_matrix = target_matrix[0:truncate,...]\n",
      "        decorator_matrix = decorator_matrix[0:truncate,...]\n",
      "        fom, timing = allincluded(truncate,iLayers,epochs,trainings)\n",
      "        mapAlgo.append((truncate,iLayers,epochs,trainings,timing,fom))\n",
      "        print 'Samples=',truncate,'Hidden Layers=',iLayers, 'epochs=', epochs, 'trainings=', trainings, \"fom=\",fom,\" time=\", timing \n",
      "    truncate+=100000"
     ],
     "language": "python",
     "metadata": {},
     "outputs": [
      {
       "output_type": "stream",
       "stream": "stdout",
       "text": [
        "Learning rate= 0.1\n",
        "Epoch 1 of 8\n",
        "Iteration No. 1 of 2\n",
        "(OrderedDict([('loss', 0.40112499955130249), ('err', 0.40112499955130249)]), OrderedDict([('loss', 0.39634999959875217), ('err', 0.39634999959875217)]))"
       ]
      },
      {
       "output_type": "stream",
       "stream": "stdout",
       "text": [
        "\n",
        "Time= 96.0\n",
        "Iteration No. 2 of 2\n",
        "(OrderedDict([('loss', 0.4011249991141812), ('err', 0.4011249991141812)]), OrderedDict([('loss', 0.39634999926392162), ('err', 0.39634999926392162)]))"
       ]
      },
      {
       "output_type": "stream",
       "stream": "stdout",
       "text": [
        "\n",
        "Time= 124.0\n",
        "\n",
        "Learning rate= 0.01\n",
        "Epoch 2 of 8\n",
        "Iteration No. 1 of 2\n",
        "(OrderedDict([('loss', 0.074031776929915749), ('err', 0.074031776929915749)]), OrderedDict([('loss', 0.10314933724361051), ('err', 0.10314933724361051)]))"
       ]
      },
      {
       "output_type": "stream",
       "stream": "stdout",
       "text": [
        "\n",
        "Time= 86.0\n",
        "Iteration No. 2 of 2\n",
        "(OrderedDict([('loss', 0.073819718545268906), ('err', 0.073819718545268906)]), OrderedDict([('loss', 0.10626477624874749), ('err', 0.10626477624874749)]))"
       ]
      },
      {
       "output_type": "stream",
       "stream": "stdout",
       "text": [
        "\n",
        "Time= 73.0\n",
        "\n",
        "Learning rate= 0.001\n",
        "Epoch 3 of 8\n",
        "Iteration No. 1 of 2\n",
        "(OrderedDict([('loss', 0.060796579180789213), ('err', 0.060796579180789213)]), OrderedDict([('loss', 0.10076617425634109), ('err', 0.10076617425634109)]))"
       ]
      },
      {
       "output_type": "stream",
       "stream": "stdout",
       "text": [
        "\n",
        "Time= 85.0\n",
        "Iteration No. 2 of 2\n",
        "(OrderedDict([('loss', 0.060769401884244914), ('err', 0.060769401884244914)]), OrderedDict([('loss', 0.10100757760549917), ('err', 0.10100757760549917)]))"
       ]
      },
      {
       "output_type": "stream",
       "stream": "stdout",
       "text": [
        "\n",
        "Time= 75.0\n",
        "\n",
        "Learning rate= 0.0001\n",
        "Epoch 4 of 8\n",
        "Iteration No. 1 of 2\n",
        "(OrderedDict([('loss', 0.064307736546443769), ('err', 0.064307736546443769)]), OrderedDict([('loss', 0.09741383084216404), ('err', 0.09741383084216404)]))"
       ]
      },
      {
       "output_type": "stream",
       "stream": "stdout",
       "text": [
        "\n",
        "Time= 74.0\n",
        "Iteration No. 2 of 2\n",
        "(OrderedDict([('loss', 0.064312096661358065), ('err', 0.064312096661358065)]), OrderedDict([('loss', 0.097408294667351611), ('err', 0.097408294667351611)]))"
       ]
      },
      {
       "output_type": "stream",
       "stream": "stdout",
       "text": [
        "\n",
        "Time= 74.0\n",
        "\n",
        "Learning rate= 1e-05\n",
        "Epoch 5 of 8\n",
        "Iteration No. 1 of 2\n",
        "(OrderedDict([('loss', 0.065936620814664795), ('err', 0.065936620814664795)]), OrderedDict([('loss', 0.096569949854649229), ('err', 0.096569949854649229)]))"
       ]
      },
      {
       "output_type": "stream",
       "stream": "stdout",
       "text": [
        "\n",
        "Time= 84.0\n",
        "Iteration No. 2 of 2\n",
        "(OrderedDict([('loss', 0.065937344210607846), ('err', 0.065937344210607846)]), OrderedDict([('loss', 0.096575818456966708), ('err', 0.096575818456966708)]))"
       ]
      },
      {
       "output_type": "stream",
       "stream": "stdout",
       "text": [
        "\n",
        "Time= 74.0\n",
        "\n",
        "Learning rate= 1e-06\n",
        "Epoch 6 of 8\n",
        "Iteration No. 1 of 2\n",
        "(OrderedDict([('loss', 0.066238143831643892), ('err', 0.066238143831643892)]), OrderedDict([('loss', 0.096500354067694527), ('err', 0.096500354067694527)]))"
       ]
      },
      {
       "output_type": "stream",
       "stream": "stdout",
       "text": [
        "\n",
        "Time= 72.0\n",
        "Iteration No. 2 of 2\n",
        "(OrderedDict([('loss', 0.066238371426603229), ('err', 0.066238371426603229)]), OrderedDict([('loss', 0.096501137640913018), ('err', 0.096501137640913018)]))"
       ]
      },
      {
       "output_type": "stream",
       "stream": "stdout",
       "text": [
        "\n",
        "Time= 75.0\n",
        "\n",
        "Learning rate= 1e-07\n",
        "Epoch 7 of 8\n",
        "Iteration No. 1 of 2\n",
        "(OrderedDict([('loss', 0.066309653016097439), ('err', 0.066309653016097439)]), OrderedDict([('loss', 0.096490737499679485), ('err', 0.096490737499679485)]))"
       ]
      },
      {
       "output_type": "stream",
       "stream": "stdout",
       "text": [
        "\n",
        "Time= 74.0\n",
        "Iteration No. 2 of 2\n",
        "(OrderedDict([('loss', 0.066309656580865961), ('err', 0.066309656580865961)]), OrderedDict([('loss', 0.096490685413125929), ('err', 0.096490685413125929)]))"
       ]
      },
      {
       "output_type": "stream",
       "stream": "stdout",
       "text": [
        "\n",
        "Time= 73.0\n",
        "\n",
        "Learning rate= 1e-08\n",
        "Epoch 8 of 8\n",
        "Iteration No. 1 of 2\n",
        "(OrderedDict([('loss', 0.06631879383927157), ('err', 0.06631879383927157)]), OrderedDict([('loss', 0.096487884263606938), ('err', 0.096487884263606938)]))"
       ]
      },
      {
       "output_type": "stream",
       "stream": "stdout",
       "text": [
        "\n",
        "Time= 72.0\n",
        "Iteration No. 2 of 2\n",
        "(OrderedDict([('loss', 0.066318794764210931), ('err', 0.066318794764210931)]), OrderedDict([('loss', 0.096487877827203541), ('err', 0.096487877827203541)]))"
       ]
      },
      {
       "output_type": "stream",
       "stream": "stdout",
       "text": [
        "\n",
        "Time= 72.0\n",
        "\n",
        "0.73112"
       ]
      },
      {
       "output_type": "stream",
       "stream": "stdout",
       "text": [
        "\n",
        "Samples= 200000 Hidden Layers= 1 epochs= 8 trainings= 2 fom= 0.73112  time= 1283.0\n",
        "Learning rate= 0.1\n",
        "Epoch 1 of 8\n",
        "Iteration No. 1 of 2\n",
        "(OrderedDict([('loss', 0.40112500000000006), ('err', 0.40112500000000006)]), OrderedDict([('loss', 0.39635000000000015), ('err', 0.39635000000000015)]))"
       ]
      },
      {
       "output_type": "stream",
       "stream": "stdout",
       "text": [
        "\n",
        "Time= 468.0\n",
        "Iteration No. 2 of 2\n",
        "(OrderedDict([('loss', 0.40112499999999995), ('err', 0.40112499999999995)]), OrderedDict([('loss', 0.39635000000000026), ('err', 0.39635000000000026)]))"
       ]
      },
      {
       "output_type": "stream",
       "stream": "stdout",
       "text": [
        "\n",
        "Time= 182.0\n",
        "\n",
        "Learning rate= 0.01\n",
        "Epoch 2 of 8\n",
        "Iteration No. 1 of 2\n",
        "(OrderedDict([('loss', 0.40112500000000012), ('err', 0.40112500000000012)]), OrderedDict([('loss', 0.39635000000000015), ('err', 0.39635000000000015)]))"
       ]
      },
      {
       "output_type": "stream",
       "stream": "stdout",
       "text": [
        "\n",
        "Time= 226.0\n",
        "Iteration No. 2 of 2\n",
        "(OrderedDict([('loss', 0.40112500000000023), ('err', 0.40112500000000023)]), OrderedDict([('loss', 0.39634999999999992), ('err', 0.39634999999999992)]))"
       ]
      },
      {
       "output_type": "stream",
       "stream": "stdout",
       "text": [
        "\n",
        "Time= 180.0\n",
        "\n",
        "Learning rate= 0.001\n",
        "Epoch 3 of 8\n",
        "Iteration No. 1 of 2\n",
        "(OrderedDict([('loss', 0.4011249999999999), ('err', 0.4011249999999999)]), OrderedDict([('loss', 0.39635000000000015), ('err', 0.39635000000000015)]))"
       ]
      },
      {
       "output_type": "stream",
       "stream": "stdout",
       "text": [
        "\n",
        "Time= 134.0\n",
        "Iteration No. 2 of 2\n",
        "(OrderedDict([('loss', 0.40112500000000018), ('err', 0.40112500000000018)]), OrderedDict([('loss', 0.39635000000000026), ('err', 0.39635000000000026)]))"
       ]
      },
      {
       "output_type": "stream",
       "stream": "stdout",
       "text": [
        "\n",
        "Time= 158.0\n",
        "\n",
        "Learning rate= 0.0001\n",
        "Epoch 4 of 8\n",
        "Iteration No. 1 of 2\n",
        "(OrderedDict([('loss', 0.4011249999999999), ('err', 0.4011249999999999)]), OrderedDict([('loss', 0.39634999999999981), ('err', 0.39634999999999981)]))"
       ]
      },
      {
       "output_type": "stream",
       "stream": "stdout",
       "text": [
        "\n",
        "Time= 157.0\n",
        "Iteration No. 2 of 2\n",
        "(OrderedDict([('loss', 0.4011249999999999), ('err', 0.4011249999999999)]), OrderedDict([('loss', 0.39634999999999998), ('err', 0.39634999999999998)]))"
       ]
      },
      {
       "output_type": "stream",
       "stream": "stdout",
       "text": [
        "\n",
        "Time= 200.0\n",
        "\n",
        "Learning rate= 1e-05\n",
        "Epoch 5 of 8\n",
        "Iteration No. 1 of 2\n",
        "(OrderedDict([('loss', 0.40112500000000006), ('err', 0.40112500000000006)]), OrderedDict([('loss', 0.39634999999999992), ('err', 0.39634999999999992)]))"
       ]
      },
      {
       "output_type": "stream",
       "stream": "stdout",
       "text": [
        "\n",
        "Time= 178.0\n",
        "Iteration No. 2 of 2\n",
        "(OrderedDict([('loss', 0.40112500000000012), ('err', 0.40112500000000012)]), OrderedDict([('loss', 0.39634999999999992), ('err', 0.39634999999999992)]))"
       ]
      },
      {
       "output_type": "stream",
       "stream": "stdout",
       "text": [
        "\n",
        "Time= 293.0\n",
        "\n",
        "Learning rate= 1e-06\n",
        "Epoch 6 of 8\n",
        "Iteration No. 1 of 2\n",
        "(OrderedDict([('loss', 0.40112500000000006), ('err', 0.40112500000000006)]), OrderedDict([('loss', 0.3963499999999997), ('err', 0.3963499999999997)]))"
       ]
      },
      {
       "output_type": "stream",
       "stream": "stdout",
       "text": [
        "\n",
        "Time= 134.0\n",
        "Iteration No. 2 of 2\n",
        "(OrderedDict([('loss', 0.40112499999999995), ('err', 0.40112499999999995)]), OrderedDict([('loss', 0.39635000000000031), ('err', 0.39635000000000031)]))"
       ]
      },
      {
       "output_type": "stream",
       "stream": "stdout",
       "text": [
        "\n",
        "Time= 177.0\n",
        "\n",
        "Learning rate= 1e-07\n",
        "Epoch 7 of 8\n",
        "Iteration No. 1 of 2\n",
        "(OrderedDict([('loss', 0.40112500000000006), ('err', 0.40112500000000006)]), OrderedDict([('loss', 0.3963500000000002), ('err', 0.3963500000000002)]))"
       ]
      },
      {
       "output_type": "stream",
       "stream": "stdout",
       "text": [
        "\n",
        "Time= 288.0\n",
        "Iteration No. 2 of 2\n",
        "(OrderedDict([('loss', 0.4011249999999994), ('err', 0.4011249999999994)]), OrderedDict([('loss', 0.39635000000000015), ('err', 0.39635000000000015)]))"
       ]
      },
      {
       "output_type": "stream",
       "stream": "stdout",
       "text": [
        "\n",
        "Time= 200.0\n",
        "\n",
        "Learning rate= 1e-08\n",
        "Epoch 8 of 8\n",
        "Iteration No. 1 of 2\n",
        "(OrderedDict([('loss', 0.40112500000000006), ('err', 0.40112500000000006)]), OrderedDict([('loss', 0.39635000000000004), ('err', 0.39635000000000004)]))"
       ]
      },
      {
       "output_type": "stream",
       "stream": "stdout",
       "text": [
        "\n",
        "Time= 180.0\n",
        "Iteration No. 2 of 2\n",
        "(OrderedDict([('loss', 0.40112500000000006), ('err', 0.40112500000000006)]), OrderedDict([('loss', 0.39634999999999981), ('err', 0.39634999999999981)]))"
       ]
      },
      {
       "output_type": "stream",
       "stream": "stdout",
       "text": [
        "\n",
        "Time= 249.0\n",
        "\n",
        "0.4791"
       ]
      },
      {
       "output_type": "stream",
       "stream": "stdout",
       "text": [
        "\n",
        "Samples= 200000 Hidden Layers= 2 epochs= 8 trainings= 2 fom= 0.4791  time= 3405.0\n",
        "Learning rate= 0.1\n",
        "Epoch 1 of 8\n",
        "Iteration No. 1 of 2\n",
        "(OrderedDict([('loss', 0.40112499999999962), ('err', 0.40112499999999962)]), OrderedDict([('loss', 0.39635000000000004), ('err', 0.39635000000000004)]))"
       ]
      },
      {
       "output_type": "stream",
       "stream": "stdout",
       "text": [
        "\n",
        "Time= 451.0\n",
        "Iteration No. 2 of 2\n",
        "(OrderedDict([('loss', 0.40112499999999984), ('err', 0.40112499999999984)]), OrderedDict([('loss', 0.39635000000000015), ('err', 0.39635000000000015)]))"
       ]
      },
      {
       "output_type": "stream",
       "stream": "stdout",
       "text": [
        "\n",
        "Time= 448.0\n",
        "\n",
        "Learning rate= 0.01\n",
        "Epoch 2 of 8\n",
        "Iteration No. 1 of 2\n",
        "(OrderedDict([('loss', 0.052777550513924319), ('err', 0.052777550513924319)]), OrderedDict([('loss', 0.10534229491096234), ('err', 0.10534229491096234)]))"
       ]
      },
      {
       "output_type": "stream",
       "stream": "stdout",
       "text": [
        "\n",
        "Time= 313.0\n",
        "Iteration No. 2 of 2\n",
        "(OrderedDict([('loss', 0.054051327293412346), ('err', 0.054051327293412346)]), OrderedDict([('loss', 0.10544459385192852), ('err', 0.10544459385192852)]))"
       ]
      },
      {
       "output_type": "stream",
       "stream": "stdout",
       "text": [
        "\n",
        "Time= 210.0\n",
        "\n",
        "Learning rate= 0.001\n",
        "Epoch 3 of 8\n",
        "Iteration No. 1 of 2\n",
        "(OrderedDict([('loss', 0.035577867718391908), ('err', 0.035577867718391908)]), OrderedDict([('loss', 0.11413175047825122), ('err', 0.11413175047825122)]))"
       ]
      },
      {
       "output_type": "stream",
       "stream": "stdout",
       "text": [
        "\n",
        "Time= 212.0\n",
        "Iteration No. 2 of 2\n",
        "(OrderedDict([('loss', 0.035907200410780549), ('err', 0.035907200410780549)]), OrderedDict([('loss', 0.11344267737915517), ('err', 0.11344267737915517)]))"
       ]
      },
      {
       "output_type": "stream",
       "stream": "stdout",
       "text": [
        "\n",
        "Time= 204.0\n",
        "\n",
        "Learning rate= 0.0001\n",
        "Epoch 4 of 8\n",
        "Iteration No. 1 of 2\n",
        "(OrderedDict([('loss', 0.051556065214025011), ('err', 0.051556065214025011)]), OrderedDict([('loss', 0.097351415934719757), ('err', 0.097351415934719757)]))"
       ]
      },
      {
       "output_type": "stream",
       "stream": "stdout",
       "text": [
        "\n",
        "Time= 203.0\n",
        "Iteration No. 2 of 2\n",
        "(OrderedDict([('loss', 0.051571301460712392), ('err', 0.051571301460712392)]), OrderedDict([('loss', 0.097364086282710219), ('err', 0.097364086282710219)]))"
       ]
      },
      {
       "output_type": "stream",
       "stream": "stdout",
       "text": [
        "\n",
        "Time= 205.0\n",
        "\n",
        "Learning rate= 1e-05\n",
        "Epoch 5 of 8\n",
        "Iteration No. 1 of 2\n",
        "(OrderedDict([('loss', 0.059626620473472017), ('err', 0.059626620473472017)]), OrderedDict([('loss', 0.095170889410716608), ('err', 0.095170889410716608)]))"
       ]
      },
      {
       "output_type": "stream",
       "stream": "stdout",
       "text": [
        "\n",
        "Time= 311.0\n",
        "Iteration No. 2 of 2\n",
        "(OrderedDict([('loss', 0.059629663788834719), ('err', 0.059629663788834719)]), OrderedDict([('loss', 0.095180345792342566), ('err', 0.095180345792342566)]))"
       ]
      },
      {
       "output_type": "stream",
       "stream": "stdout",
       "text": [
        "\n",
        "Time= 207.0\n",
        "\n",
        "Learning rate= 1e-06\n",
        "Epoch 6 of 8\n",
        "Iteration No. 1 of 2\n",
        "(OrderedDict([('loss', 0.062690606039563099), ('err', 0.062690606039563099)]), OrderedDict([('loss', 0.094836522106193366), ('err', 0.094836522106193366)]))"
       ]
      },
      {
       "output_type": "stream",
       "stream": "stdout",
       "text": [
        "\n",
        "Time= 207.0\n",
        "Iteration No. 2 of 2\n",
        "(OrderedDict([('loss', 0.062691109126064737), ('err', 0.062691109126064737)]), OrderedDict([('loss', 0.094837425831476252), ('err', 0.094837425831476252)]))"
       ]
      },
      {
       "output_type": "stream",
       "stream": "stdout",
       "text": [
        "\n",
        "Time= 209.0\n",
        "\n",
        "Learning rate= 1e-07\n",
        "Epoch 7 of 8\n",
        "Iteration No. 1 of 2\n",
        "(OrderedDict([('loss', 0.063170336816359432), ('err', 0.063170336816359432)]), OrderedDict([('loss', 0.094818888565373419), ('err', 0.094818888565373419)]))"
       ]
      },
      {
       "output_type": "stream",
       "stream": "stdout",
       "text": [
        "\n",
        "Time= 210.0\n",
        "Iteration No. 2 of 2\n",
        "(OrderedDict([('loss', 0.063170342284015496), ('err', 0.063170342284015496)]), OrderedDict([('loss', 0.094818912145117604), ('err', 0.094818912145117604)]))"
       ]
      },
      {
       "output_type": "stream",
       "stream": "stdout",
       "text": [
        "\n",
        "Time= 204.0\n",
        "\n",
        "Learning rate= 1e-08\n",
        "Epoch 8 of 8\n",
        "Iteration No. 1 of 2\n",
        "(OrderedDict([('loss', 0.063221771703795532), ('err', 0.063221771703795532)]), OrderedDict([('loss', 0.094817533530210024), ('err', 0.094817533530210024)]))"
       ]
      },
      {
       "output_type": "stream",
       "stream": "stdout",
       "text": [
        "\n",
        "Time= 206.0\n",
        "Iteration No. 2 of 2\n",
        "(OrderedDict([('loss', 0.063221766815454675), ('err', 0.063221766815454675)]), OrderedDict([('loss', 0.094817563066350793), ('err', 0.094817563066350793)]))"
       ]
      },
      {
       "output_type": "stream",
       "stream": "stdout",
       "text": [
        "\n",
        "Time= 210.0\n",
        "\n",
        "0.73225"
       ]
      },
      {
       "output_type": "stream",
       "stream": "stdout",
       "text": [
        "\n",
        "Samples= 200000 Hidden Layers= 3 epochs= 8 trainings= 2 fom= 0.73225  time= 4010.0\n",
        "Learning rate= 0.1\n",
        "Epoch 1 of 8\n",
        "Iteration No. 1 of 2\n",
        "(OrderedDict([('loss', 0.40112499999999962), ('err', 0.40112499999999962)]), OrderedDict([('loss', 0.3963500000000002), ('err', 0.3963500000000002)]))"
       ]
      },
      {
       "output_type": "stream",
       "stream": "stdout",
       "text": [
        "\n",
        "Time= 605.0\n",
        "Iteration No. 2 of 2\n",
        "(OrderedDict([('loss', 0.40112499999999973), ('err', 0.40112499999999973)]), OrderedDict([('loss', 0.39634999999999998), ('err', 0.39634999999999998)]))"
       ]
      },
      {
       "output_type": "stream",
       "stream": "stdout",
       "text": [
        "\n",
        "Time= 593.0\n",
        "\n",
        "Learning rate= 0.01\n",
        "Epoch 2 of 8\n",
        "Iteration No. 1 of 2\n",
        "(OrderedDict([('loss', 0.055689000374650431), ('err', 0.055689000374650431)]), OrderedDict([('loss', 0.10590618677206244), ('err', 0.10590618677206244)]))"
       ]
      },
      {
       "output_type": "stream",
       "stream": "stdout",
       "text": [
        "\n",
        "Time= 369.0\n",
        "Iteration No. 2 of 2\n",
        "(OrderedDict([('loss', 0.055803263353240443), ('err', 0.055803263353240443)]), OrderedDict([('loss', 0.10359481786344317), ('err', 0.10359481786344317)]))"
       ]
      },
      {
       "output_type": "stream",
       "stream": "stdout",
       "text": [
        "\n",
        "Time= 280.0\n",
        "\n",
        "Learning rate= 0.001\n",
        "Epoch 3 of 8\n",
        "Iteration No. 1 of 2\n",
        "(OrderedDict([('loss', 0.041552292349844387), ('err', 0.041552292349844387)]), OrderedDict([('loss', 0.10760384268441398), ('err', 0.10760384268441398)]))"
       ]
      },
      {
       "output_type": "stream",
       "stream": "stdout",
       "text": [
        "\n",
        "Time= 322.0\n",
        "Iteration No. 2 of 2\n",
        "(OrderedDict([('loss', 0.041753638515820549), ('err', 0.041753638515820549)]), OrderedDict([('loss', 0.10769382161114281), ('err', 0.10769382161114281)]))"
       ]
      },
      {
       "output_type": "stream",
       "stream": "stdout",
       "text": [
        "\n",
        "Time= 279.0\n",
        "\n",
        "Learning rate= 0.0001\n",
        "Epoch 4 of 8\n",
        "Iteration No. 1 of 2\n",
        "(OrderedDict([('loss', 0.05099833766576365), ('err', 0.05099833766576365)]), OrderedDict([('loss', 0.099197286577050542), ('err', 0.099197286577050542)]))"
       ]
      },
      {
       "output_type": "stream",
       "stream": "stdout",
       "text": [
        "\n",
        "Time= 282.0\n",
        "Iteration No. 2 of 2\n",
        "(OrderedDict([('loss', 0.050972582778927439), ('err', 0.050972582778927439)]), OrderedDict([('loss', 0.099184678348987948), ('err', 0.099184678348987948)]))"
       ]
      },
      {
       "output_type": "stream",
       "stream": "stdout",
       "text": [
        "\n",
        "Time= 278.0\n",
        "\n",
        "Learning rate= 1e-05\n",
        "Epoch 5 of 8\n",
        "Iteration No. 1 of 2\n",
        "(OrderedDict([('loss', 0.054449487939858258), ('err', 0.054449487939858258)]), OrderedDict([('loss', 0.095842339839869797), ('err', 0.095842339839869797)]))"
       ]
      },
      {
       "output_type": "stream",
       "stream": "stdout",
       "text": [
        "\n",
        "Time= 273.0\n",
        "Iteration No. 2 of 2\n",
        "(OrderedDict([('loss', 0.054450600313340924), ('err', 0.054450600313340924)]), OrderedDict([('loss', 0.095848997959495821), ('err', 0.095848997959495821)]))"
       ]
      },
      {
       "output_type": "stream",
       "stream": "stdout",
       "text": [
        "\n",
        "Time= 278.0\n",
        "\n",
        "Learning rate= 1e-06\n",
        "Epoch 6 of 8\n",
        "Iteration No. 1 of 2\n",
        "(OrderedDict([('loss', 0.055174506075904885), ('err', 0.055174506075904885)]), OrderedDict([('loss', 0.09494300129076097), ('err', 0.09494300129076097)]))"
       ]
      },
      {
       "output_type": "stream",
       "stream": "stdout",
       "text": [
        "\n",
        "Time= 274.0\n",
        "Iteration No. 2 of 2\n",
        "(OrderedDict([('loss', 0.055175289507504229), ('err', 0.055175289507504229)]), OrderedDict([('loss', 0.094943249752357683), ('err', 0.094943249752357683)]))"
       ]
      },
      {
       "output_type": "stream",
       "stream": "stdout",
       "text": [
        "\n",
        "Time= 278.0\n",
        "\n",
        "Learning rate= 1e-07\n",
        "Epoch 7 of 8\n",
        "Iteration No. 1 of 2\n",
        "(OrderedDict([('loss', 0.055496023194632704), ('err', 0.055496023194632704)]), OrderedDict([('loss', 0.094795105387694423), ('err', 0.094795105387694423)]))"
       ]
      },
      {
       "output_type": "stream",
       "stream": "stdout",
       "text": [
        "\n",
        "Time= 278.0\n",
        "Iteration No. 2 of 2\n",
        "(OrderedDict([('loss', 0.055495972090444462), ('err', 0.055495972090444462)]), OrderedDict([('loss', 0.094795355034309955), ('err', 0.094795355034309955)]))"
       ]
      },
      {
       "output_type": "stream",
       "stream": "stdout",
       "text": [
        "\n",
        "Time= 271.0\n",
        "\n",
        "Learning rate= 1e-08\n",
        "Epoch 8 of 8\n",
        "Iteration No. 1 of 2\n",
        "(OrderedDict([('loss', 0.055575358495495608), ('err', 0.055575358495495608)]), OrderedDict([('loss', 0.09477742202601544), ('err', 0.09477742202601544)]))"
       ]
      },
      {
       "output_type": "stream",
       "stream": "stdout",
       "text": [
        "\n",
        "Time= 272.0\n",
        "Iteration No. 2 of 2\n",
        "(OrderedDict([('loss', 0.055575361015381651), ('err', 0.055575361015381651)]), OrderedDict([('loss', 0.09477742382077943), ('err', 0.09477742382077943)]))"
       ]
      },
      {
       "output_type": "stream",
       "stream": "stdout",
       "text": [
        "\n",
        "Time= 273.0\n",
        "\n",
        "0.74364"
       ]
      },
      {
       "output_type": "stream",
       "stream": "stdout",
       "text": [
        "\n",
        "Samples= 200000 Hidden Layers= 4 epochs= 8 trainings= 2 fom= 0.74364  time= 5205.0\n",
        "Learning rate= 0.1\n",
        "Epoch 1 of 8\n",
        "Iteration No. 1 of 2\n",
        "(OrderedDict([('loss', 0.40112499999999968), ('err', 0.40112499999999968)]), OrderedDict([('loss', 0.3963500000000002), ('err', 0.3963500000000002)]))"
       ]
      },
      {
       "output_type": "stream",
       "stream": "stdout",
       "text": [
        "\n",
        "Time= 766.0\n",
        "Iteration No. 2 of 2\n",
        "(OrderedDict([('loss', 0.40112499999999995), ('err', 0.40112499999999995)]), OrderedDict([('loss', 0.39634999999999998), ('err', 0.39634999999999998)]))"
       ]
      },
      {
       "output_type": "stream",
       "stream": "stdout",
       "text": [
        "\n",
        "Time= 761.0\n",
        "\n",
        "Learning rate= 0.01\n",
        "Epoch 2 of 8\n",
        "Iteration No. 1 of 2\n",
        "(OrderedDict([('loss', 0.053999992539949117), ('err', 0.053999992539949117)]), OrderedDict([('loss', 0.10674704399366482), ('err', 0.10674704399366482)]))"
       ]
      },
      {
       "output_type": "stream",
       "stream": "stdout",
       "text": [
        "\n",
        "Time= 690.0\n",
        "Iteration No. 2 of 2\n",
        "(OrderedDict([('loss', 0.055057330343072863), ('err', 0.055057330343072863)]), OrderedDict([('loss', 0.10522100716422443), ('err', 0.10522100716422443)]))"
       ]
      },
      {
       "output_type": "stream",
       "stream": "stdout",
       "text": [
        "\n",
        "Time= 345.0\n",
        "\n",
        "Learning rate= 0.001\n",
        "Epoch 3 of 8\n",
        "Iteration No. 1 of 2\n",
        "(OrderedDict([('loss', 0.03928290133699916), ('err', 0.03928290133699916)]), OrderedDict([('loss', 0.11315636977988143), ('err', 0.11315636977988143)]))"
       ]
      },
      {
       "output_type": "stream",
       "stream": "stdout",
       "text": [
        "\n",
        "Time= 348.0\n",
        "Iteration No. 2 of 2\n",
        "(OrderedDict([('loss', 0.039530160376978908), ('err', 0.039530160376978908)]), OrderedDict([('loss', 0.11438078155947577), ('err', 0.11438078155947577)]))"
       ]
      },
      {
       "output_type": "stream",
       "stream": "stdout",
       "text": [
        "\n",
        "Time= 341.0\n",
        "\n",
        "Learning rate= 0.0001\n",
        "Epoch 4 of 8\n",
        "Iteration No. 1 of 2\n",
        "(OrderedDict([('loss', 0.052749749349835756), ('err', 0.052749749349835756)]), OrderedDict([('loss', 0.10073929070632548), ('err', 0.10073929070632548)]))"
       ]
      },
      {
       "output_type": "stream",
       "stream": "stdout",
       "text": [
        "\n",
        "Time= 399.0\n",
        "Iteration No. 2 of 2\n",
        "(OrderedDict([('loss', 0.052722596531988811), ('err', 0.052722596531988811)]), OrderedDict([('loss', 0.10072717601033146), ('err', 0.10072717601033146)]))"
       ]
      },
      {
       "output_type": "stream",
       "stream": "stdout",
       "text": [
        "\n",
        "Time= 349.0\n",
        "\n",
        "Learning rate= 1e-05\n",
        "Epoch 5 of 8\n",
        "Iteration No. 1 of 2\n",
        "(OrderedDict([('loss', 0.060511020273980545), ('err', 0.060511020273980545)]), OrderedDict([('loss', 0.097847726047350814), ('err', 0.097847726047350814)]))"
       ]
      },
      {
       "output_type": "stream",
       "stream": "stdout",
       "text": [
        "\n",
        "Time= 341.0\n",
        "Iteration No. 2 of 2\n",
        "(OrderedDict([('loss', 0.060513069732448778), ('err', 0.060513069732448778)]), OrderedDict([('loss', 0.097841679684315327), ('err', 0.097841679684315327)]))"
       ]
      },
      {
       "output_type": "stream",
       "stream": "stdout",
       "text": [
        "\n",
        "Time= 345.0\n",
        "\n",
        "Learning rate= 1e-06\n",
        "Epoch 6 of 8\n",
        "Iteration No. 1 of 2\n",
        "(OrderedDict([('loss', 0.062096888379367617), ('err', 0.062096888379367617)]), OrderedDict([('loss', 0.097279385850073938), ('err', 0.097279385850073938)]))"
       ]
      },
      {
       "output_type": "stream",
       "stream": "stdout",
       "text": [
        "\n",
        "Time= 344.0\n",
        "Iteration No. 2 of 2\n",
        "(OrderedDict([('loss', 0.062096920821602612), ('err', 0.062096920821602612)]), OrderedDict([('loss', 0.097279323629007916), ('err', 0.097279323629007916)]))"
       ]
      },
      {
       "output_type": "stream",
       "stream": "stdout",
       "text": [
        "\n",
        "Time= 343.0\n",
        "\n",
        "Learning rate= 1e-07\n",
        "Epoch 7 of 8\n",
        "Iteration No. 1 of 2\n",
        "(OrderedDict([('loss', 0.06230055926713194), ('err', 0.06230055926713194)]), OrderedDict([('loss', 0.097202799254646394), ('err', 0.097202799254646394)]))"
       ]
      },
      {
       "output_type": "stream",
       "stream": "stdout",
       "text": [
        "\n",
        "Time= 345.0\n",
        "Iteration No. 2 of 2\n",
        "(OrderedDict([('loss', 0.062300613441395217), ('err', 0.062300613441395217)]), OrderedDict([('loss', 0.097202889064956), ('err', 0.097202889064956)]))"
       ]
      },
      {
       "output_type": "stream",
       "stream": "stdout",
       "text": [
        "\n",
        "Time= 346.0\n",
        "\n",
        "Learning rate= 1e-08\n",
        "Epoch 8 of 8\n",
        "Iteration No. 1 of 2\n",
        "(OrderedDict([('loss', 0.062321716550921197), ('err', 0.062321716550921197)]), OrderedDict([('loss', 0.097194805128800729), ('err', 0.097194805128800729)]))"
       ]
      },
      {
       "output_type": "stream",
       "stream": "stdout",
       "text": [
        "\n",
        "Time= 340.0\n",
        "Iteration No. 2 of 2\n",
        "(OrderedDict([('loss', 0.062321718639797845), ('err', 0.062321718639797845)]), OrderedDict([('loss', 0.097194803710704644), ('err', 0.097194803710704644)]))"
       ]
      },
      {
       "output_type": "stream",
       "stream": "stdout",
       "text": [
        "\n",
        "Time= 343.0\n",
        "\n",
        "0.733"
       ]
      },
      {
       "output_type": "stream",
       "stream": "stdout",
       "text": [
        "\n",
        "Samples= 200000 Hidden Layers= 5 epochs= 8 trainings= 2 fom= 0.733  time= 6746.0\n",
        "Learning rate= 0.1\n",
        "Epoch 1 of 8\n",
        "Iteration No. 1 of 2\n",
        "(OrderedDict([('loss', 0.59887499961919599), ('err', 0.59887499961919599)]), OrderedDict([('loss', 0.6036499996584419), ('err', 0.6036499996584419)]))"
       ]
      },
      {
       "output_type": "stream",
       "stream": "stdout",
       "text": [
        "\n",
        "Time= 421.0\n",
        "Iteration No. 2 of 2\n",
        "(OrderedDict([('loss', 0.5988749999998908), ('err', 0.5988749999998908)]), OrderedDict([('loss', 0.60364998971598371), ('err', 0.60364998971598371)]))"
       ]
      },
      {
       "output_type": "stream",
       "stream": "stdout",
       "text": [
        "\n",
        "Time= 406.0\n",
        "\n",
        "Learning rate= 0.01\n",
        "Epoch 2 of 8\n",
        "Iteration No. 1 of 2\n",
        "(OrderedDict([('loss', 0.2403462521563853), ('err', 0.2403462521563853)]), OrderedDict([('loss', 0.23939681414922304), ('err', 0.23939681414922304)]))"
       ]
      },
      {
       "output_type": "stream",
       "stream": "stdout",
       "text": [
        "\n",
        "Time= 485.0\n",
        "Iteration No. 2 of 2\n",
        "(OrderedDict([('loss', 0.24035776480175694), ('err', 0.24035776480175694)]), OrderedDict([('loss', 0.23935153566671002), ('err', 0.23935153566671002)]))"
       ]
      },
      {
       "output_type": "stream",
       "stream": "stdout",
       "text": [
        "\n",
        "Time= 758.0\n",
        "\n",
        "Learning rate= 0.001\n",
        "Epoch 3 of 8\n",
        "Iteration No. 1 of 2\n",
        "(OrderedDict([('loss', 0.24024251835291602), ('err', 0.24024251835291602)]), OrderedDict([('loss', 0.23926559529507377), ('err', 0.23926559529507377)]))"
       ]
      },
      {
       "output_type": "stream",
       "stream": "stdout",
       "text": [
        "\n",
        "Time= 412.0\n",
        "Iteration No. 2 of 2\n",
        "(OrderedDict([('loss', 0.24023312308488579), ('err', 0.24023312308488579)]), OrderedDict([('loss', 0.2393083161839322), ('err', 0.2393083161839322)]))"
       ]
      },
      {
       "output_type": "stream",
       "stream": "stdout",
       "text": [
        "\n",
        "Time= 409.0\n",
        "\n",
        "Learning rate= 0.0001\n",
        "Epoch 4 of 8\n",
        "Iteration No. 1 of 2\n",
        "(OrderedDict([('loss', 0.2402256424132268), ('err', 0.2402256424132268)]), OrderedDict([('loss', 0.23927789908498592), ('err', 0.23927789908498592)]))"
       ]
      },
      {
       "output_type": "stream",
       "stream": "stdout",
       "text": [
        "\n",
        "Time= 409.0\n",
        "Iteration No. 2 of 2\n",
        "(OrderedDict([('loss', 0.24022614141832987), ('err', 0.24022614141832987)]), OrderedDict([('loss', 0.2392800821500482), ('err', 0.2392800821500482)]))"
       ]
      },
      {
       "output_type": "stream",
       "stream": "stdout",
       "text": [
        "\n",
        "Time= 415.0\n",
        "\n",
        "Learning rate= 1e-05\n",
        "Epoch 5 of 8\n",
        "Iteration No. 1 of 2\n",
        "(OrderedDict([('loss', 0.24022398458859048), ('err', 0.24022398458859048)]), OrderedDict([('loss', 0.23927728377761359), ('err', 0.23927728377761359)]))"
       ]
      },
      {
       "output_type": "stream",
       "stream": "stdout",
       "text": [
        "\n",
        "Time= 418.0\n",
        "Iteration No. 2 of 2\n",
        "(OrderedDict([('loss', 0.24022397309659024), ('err', 0.24022397309659024)]), OrderedDict([('loss', 0.23927811192758902), ('err', 0.23927811192758902)]))"
       ]
      },
      {
       "output_type": "stream",
       "stream": "stdout",
       "text": [
        "\n",
        "Time= 417.0\n",
        "\n",
        "Learning rate= 1e-06\n",
        "Epoch 6 of 8\n",
        "Iteration No. 1 of 2\n",
        "(OrderedDict([('loss', 0.24023049792114931), ('err', 0.24023049792114931)]), OrderedDict([('loss', 0.23926059800568525), ('err', 0.23926059800568525)]))"
       ]
      },
      {
       "output_type": "stream",
       "stream": "stdout",
       "text": [
        "\n",
        "Time= 415.0\n",
        "Iteration No. 2 of 2\n",
        "(OrderedDict([('loss', 0.24023037865327246), ('err', 0.24023037865327246)]), OrderedDict([('loss', 0.23926069009266557), ('err', 0.23926069009266557)]))"
       ]
      },
      {
       "output_type": "stream",
       "stream": "stdout",
       "text": [
        "\n",
        "Time= 415.0\n",
        "\n",
        "Learning rate= 1e-07\n",
        "Epoch 7 of 8\n",
        "Iteration No. 1 of 2\n",
        "(OrderedDict([('loss', 0.24023908880178788), ('err', 0.24023908880178788)]), OrderedDict([('loss', 0.23925735184496894), ('err', 0.23925735184496894)]))"
       ]
      },
      {
       "output_type": "stream",
       "stream": "stdout",
       "text": [
        "\n",
        "Time= 416.0\n",
        "Iteration No. 2 of 2\n",
        "(OrderedDict([('loss', 0.240239075129696), ('err', 0.240239075129696)]), OrderedDict([('loss', 0.23925735452200278), ('err', 0.23925735452200278)]))"
       ]
      },
      {
       "output_type": "stream",
       "stream": "stdout",
       "text": [
        "\n",
        "Time= 412.0\n",
        "\n",
        "Learning rate= 1e-08\n",
        "Epoch 8 of 8\n",
        "Iteration No. 1 of 2\n",
        "(OrderedDict([('loss', 0.24024040048449607), ('err', 0.24024040048449607)]), OrderedDict([('loss', 0.23925714250332819), ('err', 0.23925714250332819)]))"
       ]
      },
      {
       "output_type": "stream",
       "stream": "stdout",
       "text": [
        "\n",
        "Time= 416.0\n",
        "Iteration No. 2 of 2\n",
        "(OrderedDict([('loss', 0.24024040075299805), ('err', 0.24024040075299805)]), OrderedDict([('loss', 0.23925714247830793), ('err', 0.23925714247830793)]))"
       ]
      },
      {
       "output_type": "stream",
       "stream": "stdout",
       "text": [
        "\n",
        "Time= 411.0\n",
        "\n",
        "0.4791"
       ]
      },
      {
       "output_type": "stream",
       "stream": "stdout",
       "text": [
        "\n",
        "Samples= 200000 Hidden Layers= 6 epochs= 8 trainings= 2 fom= 0.4791  time= 7035.0\n",
        "Learning rate= 0.1\n",
        "Epoch 1 of 8\n",
        "Iteration No. 1 of 2\n",
        "(OrderedDict([('loss', 0.40112499999999973), ('err', 0.40112499999999973)]), OrderedDict([('loss', 0.39635000000000026), ('err', 0.39635000000000026)]))"
       ]
      },
      {
       "output_type": "stream",
       "stream": "stdout",
       "text": [
        "\n",
        "Time= 1071.0\n",
        "Iteration No. 2 of 2\n",
        "(OrderedDict([('loss', 0.40112499999999968), ('err', 0.40112499999999968)]), OrderedDict([('loss', 0.39634999999999992), ('err', 0.39634999999999992)]))"
       ]
      },
      {
       "output_type": "stream",
       "stream": "stdout",
       "text": [
        "\n",
        "Time= 1069.0\n",
        "\n",
        "Learning rate= 0.01\n",
        "Epoch 2 of 8\n",
        "Iteration No. 1 of 2\n",
        "(OrderedDict([('loss', 0.24060772414292639), ('err', 0.24060772414292639)]), OrderedDict([('loss', 0.24018693556147469), ('err', 0.24018693556147469)]))"
       ]
      },
      {
       "output_type": "stream",
       "stream": "stdout",
       "text": [
        "\n",
        "Time= 806.0\n",
        "Iteration No. 2 of 2\n",
        "(OrderedDict([('loss', 0.24059877476397021), ('err', 0.24059877476397021)]), OrderedDict([('loss', 0.24065538892343993), ('err', 0.24065538892343993)]))"
       ]
      },
      {
       "output_type": "stream",
       "stream": "stdout",
       "text": [
        "\n",
        "Time= 875.0\n",
        "\n",
        "Learning rate= 0.001\n",
        "Epoch 3 of 8\n",
        "Iteration No. 1 of 2\n",
        "(OrderedDict([('loss', 0.24028097117756861), ('err', 0.24028097117756861)]), OrderedDict([('loss', 0.23935837270468896), ('err', 0.23935837270468896)]))"
       ]
      },
      {
       "output_type": "stream",
       "stream": "stdout",
       "text": [
        "\n",
        "Time= 479.0\n",
        "Iteration No. 2 of 2\n",
        "(OrderedDict([('loss', 0.24026364238405715), ('err', 0.24026364238405715)]), OrderedDict([('loss', 0.23925686764901383), ('err', 0.23925686764901383)]))"
       ]
      },
      {
       "output_type": "stream",
       "stream": "stdout",
       "text": [
        "\n",
        "Time= 486.0\n",
        "\n",
        "Learning rate= 0.0001\n",
        "Epoch 4 of 8\n",
        "Iteration No. 1 of 2\n",
        "(OrderedDict([('loss', 0.24023148274451425), ('err', 0.24023148274451425)]), OrderedDict([('loss', 0.23928079959491214), ('err', 0.23928079959491214)]))"
       ]
      },
      {
       "output_type": "stream",
       "stream": "stdout",
       "text": [
        "\n",
        "Time= 486.0\n",
        "Iteration No. 2 of 2\n",
        "(OrderedDict([('loss', 0.2402302072429055), ('err', 0.2402302072429055)]), OrderedDict([('loss', 0.23928004885352036), ('err', 0.23928004885352036)]))"
       ]
      },
      {
       "output_type": "stream",
       "stream": "stdout",
       "text": [
        "\n",
        "Time= 481.0\n",
        "\n",
        "Learning rate= 1e-05\n",
        "Epoch 5 of 8\n",
        "Iteration No. 1 of 2\n",
        "(OrderedDict([('loss', 0.24022437927921039), ('err', 0.24022437927921039)]), OrderedDict([('loss', 0.23927876995481559), ('err', 0.23927876995481559)]))"
       ]
      },
      {
       "output_type": "stream",
       "stream": "stdout",
       "text": [
        "\n",
        "Time= 481.0\n",
        "Iteration No. 2 of 2\n",
        "(OrderedDict([('loss', 0.24022447996955268), ('err', 0.24022447996955268)]), OrderedDict([('loss', 0.23927780623259193), ('err', 0.23927780623259193)]))"
       ]
      },
      {
       "output_type": "stream",
       "stream": "stdout",
       "text": [
        "\n",
        "Time= 476.0\n",
        "\n",
        "Learning rate= 1e-06\n",
        "Epoch 6 of 8\n",
        "Iteration No. 1 of 2\n",
        "(OrderedDict([('loss', 0.24022516806648309), ('err', 0.24022516806648309)]), OrderedDict([('loss', 0.23926794249268782), ('err', 0.23926794249268782)]))"
       ]
      },
      {
       "output_type": "stream",
       "stream": "stdout",
       "text": [
        "\n",
        "Time= 478.0\n",
        "Iteration No. 2 of 2\n",
        "(OrderedDict([('loss', 0.24022529748746271), ('err', 0.24022529748746271)]), OrderedDict([('loss', 0.23926760901488275), ('err', 0.23926760901488275)]))"
       ]
      },
      {
       "output_type": "stream",
       "stream": "stdout",
       "text": [
        "\n",
        "Time= 484.0\n",
        "\n",
        "Learning rate= 1e-07\n",
        "Epoch 7 of 8\n",
        "Iteration No. 1 of 2\n",
        "(OrderedDict([('loss', 0.24023932202562862), ('err', 0.24023932202562862)]), OrderedDict([('loss', 0.23925722543561428), ('err', 0.23925722543561428)]))"
       ]
      },
      {
       "output_type": "stream",
       "stream": "stdout",
       "text": [
        "\n",
        "Time= 491.0\n",
        "Iteration No. 2 of 2\n",
        "(OrderedDict([('loss', 0.24023927922382382), ('err', 0.24023927922382382)]), OrderedDict([('loss', 0.23925723496910659), ('err', 0.23925723496910659)]))"
       ]
      },
      {
       "output_type": "stream",
       "stream": "stdout",
       "text": [
        "\n",
        "Time= 481.0\n",
        "\n",
        "Learning rate= 1e-08\n",
        "Epoch 8 of 8\n",
        "Iteration No. 1 of 2\n",
        "(OrderedDict([('loss', 0.24024368153000325), ('err', 0.24024368153000325)]), OrderedDict([('loss', 0.23925676681725708), ('err', 0.23925676681725708)]))"
       ]
      },
      {
       "output_type": "stream",
       "stream": "stdout",
       "text": [
        "\n",
        "Time= 484.0\n",
        "Iteration No. 2 of 2\n",
        "(OrderedDict([('loss', 0.24024368425577627), ('err', 0.24024368425577627)]), OrderedDict([('loss', 0.23925676662510387), ('err', 0.23925676662510387)]))"
       ]
      },
      {
       "output_type": "stream",
       "stream": "stdout",
       "text": [
        "\n",
        "Time= 476.0\n",
        "\n",
        "0.4791"
       ]
      },
      {
       "output_type": "stream",
       "stream": "stdout",
       "text": [
        "\n",
        "Samples= 200000 Hidden Layers= 7 epochs= 8 trainings= 2 fom= 0.4791  time= 9604.0\n",
        "Learning rate= 0.1\n",
        "Epoch 1 of 8\n",
        "Iteration No. 1 of 2\n",
        "(OrderedDict([('loss', 0.40112499999999934), ('err', 0.40112499999999934)]), OrderedDict([('loss', 0.39634999999999998), ('err', 0.39634999999999998)]))"
       ]
      },
      {
       "output_type": "stream",
       "stream": "stdout",
       "text": [
        "\n",
        "Time= 1226.0\n",
        "Iteration No. 2 of 2\n",
        "(OrderedDict([('loss', 0.40112499999999995), ('err', 0.40112499999999995)]), OrderedDict([('loss', 0.39635000000000026), ('err', 0.39635000000000026)]))"
       ]
      },
      {
       "output_type": "stream",
       "stream": "stdout",
       "text": [
        "\n",
        "Time= 1234.0\n",
        "\n",
        "Learning rate= 0.01\n",
        "Epoch 2 of 8\n",
        "Iteration No. 1 of 2\n",
        "(OrderedDict([('loss', 0.24046686574831611), ('err', 0.24046686574831611)]), OrderedDict([('loss', 0.23938267735533114), ('err', 0.23938267735533114)]))"
       ]
      },
      {
       "output_type": "stream",
       "stream": "stdout",
       "text": [
        "\n",
        "Time= 1175.0\n",
        "Iteration No. 2 of 2\n",
        "(OrderedDict([('loss', 0.24044213906994433), ('err', 0.24044213906994433)]), OrderedDict([('loss', 0.24037706025814956), ('err', 0.24037706025814956)]))"
       ]
      },
      {
       "output_type": "stream",
       "stream": "stdout",
       "text": [
        "\n",
        "Time= 551.0\n",
        "\n",
        "Learning rate= 0.001\n",
        "Epoch 3 of 8\n",
        "Iteration No. 1 of 2\n",
        "(OrderedDict([('loss', 0.24023990940247572), ('err', 0.24023990940247572)]), OrderedDict([('loss', 0.23926926409884897), ('err', 0.23926926409884897)]))"
       ]
      },
      {
       "output_type": "stream",
       "stream": "stdout",
       "text": [
        "\n",
        "Time= 728.0\n",
        "Iteration No. 2 of 2\n",
        "(OrderedDict([('loss', 0.24026313550703876), ('err', 0.24026313550703876)]), OrderedDict([('loss', 0.23928772783811869), ('err', 0.23928772783811869)]))"
       ]
      },
      {
       "output_type": "stream",
       "stream": "stdout",
       "text": [
        "\n",
        "Time= 551.0\n",
        "\n",
        "Learning rate= 0.0001\n",
        "Epoch 4 of 8\n",
        "Iteration No. 1 of 2\n",
        "(OrderedDict([('loss', 0.24022851022190131), ('err', 0.24022851022190131)]), OrderedDict([('loss', 0.23927596634205131), ('err', 0.23927596634205131)]))"
       ]
      },
      {
       "output_type": "stream",
       "stream": "stdout",
       "text": [
        "\n",
        "Time= 555.0\n",
        "Iteration No. 2 of 2\n",
        "(OrderedDict([('loss', 0.24022695982560829), ('err', 0.24022695982560829)]), OrderedDict([('loss', 0.23927041382205691), ('err', 0.23927041382205691)]))"
       ]
      },
      {
       "output_type": "stream",
       "stream": "stdout",
       "text": [
        "\n",
        "Time= 550.0\n",
        "\n",
        "Learning rate= 1e-05\n",
        "Epoch 5 of 8\n",
        "Iteration No. 1 of 2\n",
        "(OrderedDict([('loss', 0.24022440076434839), ('err', 0.24022440076434839)]), OrderedDict([('loss', 0.23927816962848819), ('err', 0.23927816962848819)]))"
       ]
      },
      {
       "output_type": "stream",
       "stream": "stdout",
       "text": [
        "\n",
        "Time= 549.0\n",
        "Iteration No. 2 of 2\n",
        "(OrderedDict([('loss', 0.24022435009903872), ('err', 0.24022435009903872)]), OrderedDict([('loss', 0.23927830399123551), ('err', 0.23927830399123551)]))"
       ]
      },
      {
       "output_type": "stream",
       "stream": "stdout",
       "text": [
        "\n",
        "Time= 553.0\n",
        "\n",
        "Learning rate= 1e-06\n",
        "Epoch 6 of 8\n",
        "Iteration No. 1 of 2\n",
        "(OrderedDict([('loss', 0.24022608229178147), ('err', 0.24022608229178147)]), OrderedDict([('loss', 0.23926543823431093), ('err', 0.23926543823431093)]))"
       ]
      },
      {
       "output_type": "stream",
       "stream": "stdout",
       "text": [
        "\n",
        "Time= 541.0\n",
        "Iteration No. 2 of 2\n",
        "(OrderedDict([('loss', 0.24022619068347914), ('err', 0.24022619068347914)]), OrderedDict([('loss', 0.23926528168386674), ('err', 0.23926528168386674)]))"
       ]
      },
      {
       "output_type": "stream",
       "stream": "stdout",
       "text": [
        "\n",
        "Time= 553.0\n",
        "\n",
        "Learning rate= 1e-07\n",
        "Epoch 7 of 8\n",
        "Iteration No. 1 of 2\n",
        "(OrderedDict([('loss', 0.24024155471256833), ('err', 0.24024155471256833)]), OrderedDict([('loss', 0.23925690062754282), ('err', 0.23925690062754282)]))"
       ]
      },
      {
       "output_type": "stream",
       "stream": "stdout",
       "text": [
        "\n",
        "Time= 556.0\n",
        "Iteration No. 2 of 2\n",
        "(OrderedDict([('loss', 0.24024159704403772), ('err', 0.24024159704403772)]), OrderedDict([('loss', 0.23925690117649182), ('err', 0.23925690117649182)]))"
       ]
      },
      {
       "output_type": "stream",
       "stream": "stdout",
       "text": [
        "\n",
        "Time= 554.0\n",
        "\n",
        "Learning rate= 1e-08\n",
        "Epoch 8 of 8\n",
        "Iteration No. 1 of 2\n",
        "(OrderedDict([('loss', 0.24024570237124832), ('err', 0.24024570237124832)]), OrderedDict([('loss', 0.23925668379983925), ('err', 0.23925668379983925)]))"
       ]
      },
      {
       "output_type": "stream",
       "stream": "stdout",
       "text": [
        "\n",
        "Time= 551.0\n",
        "Iteration No. 2 of 2\n",
        "(OrderedDict([('loss', 0.24024570835258788), ('err', 0.24024570835258788)]), OrderedDict([('loss', 0.23925668371318728), ('err', 0.23925668371318728)]))"
       ]
      },
      {
       "output_type": "stream",
       "stream": "stdout",
       "text": [
        "\n",
        "Time= 557.0\n",
        "\n",
        "0.4791"
       ]
      },
      {
       "output_type": "stream",
       "stream": "stdout",
       "text": [
        "\n",
        "Samples= 200000 Hidden Layers= 8 epochs= 8 trainings= 2 fom= 0.4791  time= 10984.0\n",
        "Learning rate= 0.1\n",
        "Epoch 1 of 8\n",
        "Iteration No. 1 of 2\n",
        "(OrderedDict([('loss', 0.40112499999999929), ('err', 0.40112499999999929)]), OrderedDict([('loss', 0.39635000000000004), ('err', 0.39635000000000004)]))"
       ]
      },
      {
       "output_type": "stream",
       "stream": "stdout",
       "text": [
        "\n",
        "Time= 1402.0\n",
        "Iteration No. 2 of 2\n",
        "(OrderedDict([('loss', 0.59887499899288943), ('err', 0.59887499899288943)]), OrderedDict([('loss', 0.60364999922701912), ('err', 0.60364999922701912)]))"
       ]
      },
      {
       "output_type": "stream",
       "stream": "stdout",
       "text": [
        "\n",
        "Time= 654.0\n",
        "\n",
        "Learning rate= 0.01\n",
        "Epoch 2 of 8\n",
        "Iteration No. 1 of 2\n",
        "(OrderedDict([('loss', 0.24030708644332097), ('err', 0.24030708644332097)]), OrderedDict([('loss', 0.23929789690085715), ('err', 0.23929789690085715)]))"
       ]
      },
      {
       "output_type": "stream",
       "stream": "stdout",
       "text": [
        "\n",
        "Time= 1401.0\n",
        "Iteration No. 2 of 2\n",
        "(OrderedDict([('loss', 0.24029583277149563), ('err', 0.24029583277149563)]), OrderedDict([('loss', 0.23957205304539778), ('err', 0.23957205304539778)]))"
       ]
      },
      {
       "output_type": "stream",
       "stream": "stdout",
       "text": [
        "\n",
        "Time= 659.0\n",
        "\n",
        "Learning rate= 0.001\n",
        "Epoch 3 of 8\n",
        "Iteration No. 1 of 2\n",
        "(OrderedDict([('loss', 0.24022776455301489), ('err', 0.24022776455301489)]), OrderedDict([('loss', 0.23928524313854371), ('err', 0.23928524313854371)]))"
       ]
      },
      {
       "output_type": "stream",
       "stream": "stdout",
       "text": [
        "\n",
        "Time= 638.0\n",
        "Iteration No. 2 of 2\n",
        "(OrderedDict([('loss', 0.24023464716740137), ('err', 0.24023464716740137)]), OrderedDict([('loss', 0.23926576107849359), ('err', 0.23926576107849359)]))"
       ]
      },
      {
       "output_type": "stream",
       "stream": "stdout",
       "text": [
        "\n",
        "Time= 621.0\n",
        "\n",
        "Learning rate= 0.0001\n",
        "Epoch 4 of 8\n",
        "Iteration No. 1 of 2\n",
        "(OrderedDict([('loss', 0.24022489740051844), ('err', 0.24022489740051844)]), OrderedDict([('loss', 0.2392791692148214), ('err', 0.2392791692148214)]))"
       ]
      },
      {
       "output_type": "stream",
       "stream": "stdout",
       "text": [
        "\n",
        "Time= 613.0\n",
        "Iteration No. 2 of 2\n",
        "(OrderedDict([('loss', 0.24022508254294356), ('err', 0.24022508254294356)]), OrderedDict([('loss', 0.23927816511208114), ('err', 0.23927816511208114)]))"
       ]
      },
      {
       "output_type": "stream",
       "stream": "stdout",
       "text": [
        "\n",
        "Time= 620.0\n",
        "\n",
        "Learning rate= 1e-05\n",
        "Epoch 5 of 8\n",
        "Iteration No. 1 of 2\n",
        "(OrderedDict([('loss', 0.24022413548254723), ('err', 0.24022413548254723)]), OrderedDict([('loss', 0.23927310763804546), ('err', 0.23927310763804546)]))"
       ]
      },
      {
       "output_type": "stream",
       "stream": "stdout",
       "text": [
        "\n",
        "Time= 624.0\n",
        "Iteration No. 2 of 2\n",
        "(OrderedDict([('loss', 0.24022413416005481), ('err', 0.24022413416005481)]), OrderedDict([('loss', 0.23927341187771287), ('err', 0.23927341187771287)]))"
       ]
      },
      {
       "output_type": "stream",
       "stream": "stdout",
       "text": [
        "\n",
        "Time= 624.0\n",
        "\n",
        "Learning rate= 1e-06\n",
        "Epoch 6 of 8\n",
        "Iteration No. 1 of 2\n",
        "(OrderedDict([('loss', 0.24023659394982866), ('err', 0.24023659394982866)]), OrderedDict([('loss', 0.23925778758668262), ('err', 0.23925778758668262)]))"
       ]
      },
      {
       "output_type": "stream",
       "stream": "stdout",
       "text": [
        "\n",
        "Time= 617.0\n",
        "Iteration No. 2 of 2\n",
        "(OrderedDict([('loss', 0.24023660132853766), ('err', 0.24023660132853766)]), OrderedDict([('loss', 0.23925778635573305), ('err', 0.23925778635573305)]))"
       ]
      },
      {
       "output_type": "stream",
       "stream": "stdout",
       "text": [
        "\n",
        "Time= 612.0\n",
        "\n",
        "Learning rate= 1e-07\n",
        "Epoch 7 of 8\n",
        "Iteration No. 1 of 2\n",
        "(OrderedDict([('loss', 0.24024318347296855), ('err', 0.24024318347296855)]), OrderedDict([('loss', 0.23925679904785482), ('err', 0.23925679904785482)]))"
       ]
      },
      {
       "output_type": "stream",
       "stream": "stdout",
       "text": [
        "\n",
        "Time= 620.0\n",
        "Iteration No. 2 of 2\n",
        "(OrderedDict([('loss', 0.24024318173306963), ('err', 0.24024318173306963)]), OrderedDict([('loss', 0.23925679943143674), ('err', 0.23925679943143674)]))"
       ]
      },
      {
       "output_type": "stream",
       "stream": "stdout",
       "text": [
        "\n",
        "Time= 624.0\n",
        "\n",
        "Learning rate= 1e-08\n",
        "Epoch 8 of 8\n",
        "Iteration No. 1 of 2\n",
        "(OrderedDict([('loss', 0.24024400919073069), ('err', 0.24024400919073069)]), OrderedDict([('loss', 0.23925675072438957), ('err', 0.23925675072438957)]))"
       ]
      },
      {
       "output_type": "stream",
       "stream": "stdout",
       "text": [
        "\n",
        "Time= 611.0\n",
        "Iteration No. 2 of 2\n",
        "(OrderedDict([('loss', 0.24024400830836878), ('err', 0.24024400830836878)]), OrderedDict([('loss', 0.23925675078198316), ('err', 0.23925675078198316)]))"
       ]
      },
      {
       "output_type": "stream",
       "stream": "stdout",
       "text": [
        "\n",
        "Time= 621.0\n",
        "\n",
        "0.4791"
       ]
      },
      {
       "output_type": "stream",
       "stream": "stdout",
       "text": [
        "\n",
        "Samples= 200000 Hidden Layers= 9 epochs= 8 trainings= 2 fom= 0.4791  time= 11561.0\n",
        "Learning rate= 0.1\n",
        "Epoch 1 of 8\n",
        "Iteration No. 1 of 2\n",
        "(OrderedDict([('loss', 0.4011249999999989), ('err', 0.4011249999999989)]), OrderedDict([('loss', 0.39634999999999998), ('err', 0.39634999999999998)]))"
       ]
      },
      {
       "output_type": "stream",
       "stream": "stdout",
       "text": [
        "\n",
        "Time= 125.0\n",
        "Iteration No. 2 of 2\n",
        "(OrderedDict([('loss', 0.40112499998403811), ('err', 0.40112499998403811)]), OrderedDict([('loss', 0.39634999999030035), ('err', 0.39634999999030035)]))"
       ]
      },
      {
       "output_type": "stream",
       "stream": "stdout",
       "text": [
        "\n",
        "Time= 82.0\n",
        "\n",
        "Learning rate= 0.01\n",
        "Epoch 2 of 8\n",
        "Iteration No. 1 of 2\n",
        "(OrderedDict([('loss', 0.074661522160040017), ('err', 0.074661522160040017)]), OrderedDict([('loss', 0.10382377978462863), ('err', 0.10382377978462863)]))"
       ]
      },
      {
       "output_type": "stream",
       "stream": "stdout",
       "text": [
        "\n",
        "Time= 98.0\n",
        "Iteration No. 2 of 2\n",
        "(OrderedDict([('loss', 0.072533193165882734), ('err', 0.072533193165882734)]), OrderedDict([('loss', 0.10486960993863578), ('err', 0.10486960993863578)]))"
       ]
      },
      {
       "output_type": "stream",
       "stream": "stdout",
       "text": [
        "\n",
        "Time= 96.0\n",
        "\n",
        "Learning rate= 0.001\n",
        "Epoch 3 of 8\n",
        "Iteration No. 1 of 2\n",
        "(OrderedDict([('loss', 0.060028124833113532), ('err', 0.060028124833113532)]), OrderedDict([('loss', 0.10465881077414851), ('err', 0.10465881077414851)]))"
       ]
      },
      {
       "output_type": "stream",
       "stream": "stdout",
       "text": [
        "\n",
        "Time= 85.0\n",
        "Iteration No. 2 of 2\n",
        "(OrderedDict([('loss', 0.059930681738204816), ('err', 0.059930681738204816)]), OrderedDict([('loss', 0.10468383093427928), ('err', 0.10468383093427928)]))"
       ]
      },
      {
       "output_type": "stream",
       "stream": "stdout",
       "text": [
        "\n",
        "Time= 74.0\n",
        "\n",
        "Learning rate= 0.0001\n",
        "Epoch 4 of 8\n",
        "Iteration No. 1 of 2\n",
        "(OrderedDict([('loss', 0.061977743353167254), ('err', 0.061977743353167254)]), OrderedDict([('loss', 0.10015233814006351), ('err', 0.10015233814006351)]))"
       ]
      },
      {
       "output_type": "stream",
       "stream": "stdout",
       "text": [
        "\n",
        "Time= 72.0\n",
        "Iteration No. 2 of 2\n",
        "(OrderedDict([('loss', 0.061986411056196358), ('err', 0.061986411056196358)]), OrderedDict([('loss', 0.10009774776919686), ('err', 0.10009774776919686)]))"
       ]
      },
      {
       "output_type": "stream",
       "stream": "stdout",
       "text": [
        "\n",
        "Time= 73.0\n",
        "\n",
        "Learning rate= 1e-05\n",
        "Epoch 5 of 8\n",
        "Iteration No. 1 of 2\n",
        "(OrderedDict([('loss', 0.063057224843760501), ('err', 0.063057224843760501)]), OrderedDict([('loss', 0.099520389578043489), ('err', 0.099520389578043489)]))"
       ]
      },
      {
       "output_type": "stream",
       "stream": "stdout",
       "text": [
        "\n",
        "Time= 72.0\n",
        "Iteration No. 2 of 2\n",
        "(OrderedDict([('loss', 0.063057995788402307), ('err', 0.063057995788402307)]), OrderedDict([('loss', 0.09951497512020735), ('err', 0.09951497512020735)]))"
       ]
      },
      {
       "output_type": "stream",
       "stream": "stdout",
       "text": [
        "\n",
        "Time= 73.0\n",
        "\n",
        "Learning rate= 1e-06\n",
        "Epoch 6 of 8\n",
        "Iteration No. 1 of 2\n",
        "(OrderedDict([('loss', 0.063356730757119339), ('err', 0.063356730757119339)]), OrderedDict([('loss', 0.099392504097231632), ('err', 0.099392504097231632)]))"
       ]
      },
      {
       "output_type": "stream",
       "stream": "stdout",
       "text": [
        "\n",
        "Time= 73.0\n",
        "Iteration No. 2 of 2\n",
        "(OrderedDict([('loss', 0.063356552338549574), ('err', 0.063356552338549574)]), OrderedDict([('loss', 0.099392654253530305), ('err', 0.099392654253530305)]))"
       ]
      },
      {
       "output_type": "stream",
       "stream": "stdout",
       "text": [
        "\n",
        "Time= 73.0\n",
        "\n",
        "Learning rate= 1e-07\n",
        "Epoch 7 of 8\n",
        "Iteration No. 1 of 2\n",
        "(OrderedDict([('loss', 0.063487896301038349), ('err', 0.063487896301038349)]), OrderedDict([('loss', 0.099284201924867657), ('err', 0.099284201924867657)]))"
       ]
      },
      {
       "output_type": "stream",
       "stream": "stdout",
       "text": [
        "\n",
        "Time= 72.0\n",
        "Iteration No. 2 of 2\n",
        "(OrderedDict([('loss', 0.063487868797704211), ('err', 0.063487868797704211)]), OrderedDict([('loss', 0.099284253108883613), ('err', 0.099284253108883613)]))"
       ]
      },
      {
       "output_type": "stream",
       "stream": "stdout",
       "text": [
        "\n",
        "Time= 73.0\n",
        "\n",
        "Learning rate= 1e-08\n",
        "Epoch 8 of 8\n",
        "Iteration No. 1 of 2\n",
        "(OrderedDict([('loss', 0.063517423199826256), ('err', 0.063517423199826256)]), OrderedDict([('loss', 0.099258100799716753), ('err', 0.099258100799716753)]))"
       ]
      },
      {
       "output_type": "stream",
       "stream": "stdout",
       "text": [
        "\n",
        "Time= 73.0\n",
        "Iteration No. 2 of 2\n",
        "(OrderedDict([('loss', 0.063517432735392496), ('err', 0.063517432735392496)]), OrderedDict([('loss', 0.09925809335704841), ('err', 0.09925809335704841)]))"
       ]
      },
      {
       "output_type": "stream",
       "stream": "stdout",
       "text": [
        "\n",
        "Time= 73.0\n",
        "\n",
        "0.73497"
       ]
      },
      {
       "output_type": "stream",
       "stream": "stdout",
       "text": [
        "\n",
        "Samples= 300000 Hidden Layers= 1 epochs= 8 trainings= 2 fom= 0.73497  time= 1287.0\n",
        "Learning rate= 0.1\n",
        "Epoch 1 of 8\n",
        "Iteration No. 1 of 2\n",
        "(OrderedDict([('loss', 0.40112499999999968), ('err', 0.40112499999999968)]), OrderedDict([('loss', 0.39635000000000026), ('err', 0.39635000000000026)]))"
       ]
      },
      {
       "output_type": "stream",
       "stream": "stdout",
       "text": [
        "\n",
        "Time= 292.0\n",
        "Iteration No. 2 of 2\n",
        "(OrderedDict([('loss', 0.40112500000000006), ('err', 0.40112500000000006)]), OrderedDict([('loss', 0.39634999999999992), ('err', 0.39634999999999992)]))"
       ]
      },
      {
       "output_type": "stream",
       "stream": "stdout",
       "text": [
        "\n",
        "Time= 290.0\n",
        "\n",
        "Learning rate= 0.01\n",
        "Epoch 2 of 8\n",
        "Iteration No. 1 of 2\n",
        "(OrderedDict([('loss', 0.055476578904592948), ('err', 0.055476578904592948)]), OrderedDict([('loss', 0.10832348774908475), ('err', 0.10832348774908475)]))"
       ]
      },
      {
       "output_type": "stream",
       "stream": "stdout",
       "text": [
        "\n",
        "Time= 189.0\n",
        "Iteration No. 2 of 2\n",
        "(OrderedDict([('loss', 0.054845680323654653), ('err', 0.054845680323654653)]), OrderedDict([('loss', 0.1068626599429921), ('err', 0.1068626599429921)]))"
       ]
      },
      {
       "output_type": "stream",
       "stream": "stdout",
       "text": [
        "\n",
        "Time= 142.0\n",
        "\n",
        "Learning rate= 0.001\n",
        "Epoch 3 of 8\n",
        "Iteration No. 1 of 2\n",
        "(OrderedDict([('loss', 0.041852270577767088), ('err', 0.041852270577767088)]), OrderedDict([('loss', 0.10589803712758705), ('err', 0.10589803712758705)]))"
       ]
      },
      {
       "output_type": "stream",
       "stream": "stdout",
       "text": [
        "\n",
        "Time= 161.0\n",
        "Iteration No. 2 of 2\n",
        "(OrderedDict([('loss', 0.042016869401771212), ('err', 0.042016869401771212)]), OrderedDict([('loss', 0.10550858213472054), ('err', 0.10550858213472054)]))"
       ]
      },
      {
       "output_type": "stream",
       "stream": "stdout",
       "text": [
        "\n",
        "Time= 142.0\n",
        "\n",
        "Learning rate= 0.0001\n",
        "Epoch 4 of 8\n",
        "Iteration No. 1 of 2\n",
        "(OrderedDict([('loss', 0.051437719313029422), ('err', 0.051437719313029422)]), OrderedDict([('loss', 0.097155791235136735), ('err', 0.097155791235136735)]))"
       ]
      },
      {
       "output_type": "stream",
       "stream": "stdout",
       "text": [
        "\n",
        "Time= 142.0\n",
        "Iteration No. 2 of 2\n",
        "(OrderedDict([('loss', 0.051435129681551561), ('err', 0.051435129681551561)]), OrderedDict([('loss', 0.097054593447251813), ('err', 0.097054593447251813)]))"
       ]
      },
      {
       "output_type": "stream",
       "stream": "stdout",
       "text": [
        "\n",
        "Time= 142.0\n",
        "\n",
        "Learning rate= 1e-05\n",
        "Epoch 5 of 8\n",
        "Iteration No. 1 of 2\n",
        "(OrderedDict([('loss', 0.05375004463174049), ('err', 0.05375004463174049)]), OrderedDict([('loss', 0.095132454298096469), ('err', 0.095132454298096469)]))"
       ]
      },
      {
       "output_type": "stream",
       "stream": "stdout",
       "text": [
        "\n",
        "Time= 165.0\n",
        "Iteration No. 2 of 2\n",
        "(OrderedDict([('loss', 0.053751220274837003), ('err', 0.053751220274837003)]), OrderedDict([('loss', 0.095134787385176778), ('err', 0.095134787385176778)]))"
       ]
      },
      {
       "output_type": "stream",
       "stream": "stdout",
       "text": [
        "\n",
        "Time= 141.0\n",
        "\n",
        "Learning rate= 1e-06\n",
        "Epoch 6 of 8\n",
        "Iteration No. 1 of 2\n",
        "(OrderedDict([('loss', 0.054156263796851539), ('err', 0.054156263796851539)]), OrderedDict([('loss', 0.094795763342247166), ('err', 0.094795763342247166)]))"
       ]
      },
      {
       "output_type": "stream",
       "stream": "stdout",
       "text": [
        "\n",
        "Time= 140.0\n",
        "Iteration No. 2 of 2\n",
        "(OrderedDict([('loss', 0.054156088461820122), ('err', 0.054156088461820122)]), OrderedDict([('loss', 0.094796030169267645), ('err', 0.094796030169267645)]))"
       ]
      },
      {
       "output_type": "stream",
       "stream": "stdout",
       "text": [
        "\n",
        "Time= 138.0\n",
        "\n",
        "Learning rate= 1e-07\n",
        "Epoch 7 of 8\n",
        "Iteration No. 1 of 2\n",
        "(OrderedDict([('loss', 0.05424494086431092), ('err', 0.05424494086431092)]), OrderedDict([('loss', 0.094769324654426598), ('err', 0.094769324654426598)]))"
       ]
      },
      {
       "output_type": "stream",
       "stream": "stdout",
       "text": [
        "\n",
        "Time= 140.0\n",
        "Iteration No. 2 of 2\n",
        "(OrderedDict([('loss', 0.054244940338501184), ('err', 0.054244940338501184)]), OrderedDict([('loss', 0.094769420490128306), ('err', 0.094769420490128306)]))"
       ]
      },
      {
       "output_type": "stream",
       "stream": "stdout",
       "text": [
        "\n",
        "Time= 143.0\n",
        "\n",
        "Learning rate= 1e-08\n",
        "Epoch 8 of 8\n",
        "Iteration No. 1 of 2\n",
        "(OrderedDict([('loss', 0.054256081723229758), ('err', 0.054256081723229758)]), OrderedDict([('loss', 0.094767553607400787), ('err', 0.094767553607400787)]))"
       ]
      },
      {
       "output_type": "stream",
       "stream": "stdout",
       "text": [
        "\n",
        "Time= 140.0\n",
        "Iteration No. 2 of 2\n",
        "(OrderedDict([('loss', 0.054256075891295087), ('err', 0.054256075891295087)]), OrderedDict([('loss', 0.094767537451445782), ('err', 0.094767537451445782)]))"
       ]
      },
      {
       "output_type": "stream",
       "stream": "stdout",
       "text": [
        "\n",
        "Time= 141.0\n",
        "\n",
        "0.7445"
       ]
      },
      {
       "output_type": "stream",
       "stream": "stdout",
       "text": [
        "\n",
        "Samples= 300000 Hidden Layers= 2 epochs= 8 trainings= 2 fom= 0.7445  time= 2648.0\n",
        "Learning rate= 0.1\n",
        "Epoch 1 of 8\n",
        "Iteration No. 1 of 2\n",
        "(OrderedDict([('loss', 0.40112499999999973), ('err', 0.40112499999999973)]), OrderedDict([('loss', 0.39635000000000015), ('err', 0.39635000000000015)]))"
       ]
      },
      {
       "output_type": "stream",
       "stream": "stdout",
       "text": [
        "\n",
        "Time= 614.0\n",
        "Iteration No. 2 of 2\n",
        "(OrderedDict([('loss', 0.40112499999999968), ('err', 0.40112499999999968)]), OrderedDict([('loss', 0.39635000000000026), ('err', 0.39635000000000026)]))"
       ]
      },
      {
       "output_type": "stream",
       "stream": "stdout",
       "text": [
        "\n",
        "Time= 332.0\n",
        "\n",
        "Learning rate= 0.01\n",
        "Epoch 2 of 8\n",
        "Iteration No. 1 of 2\n",
        "(OrderedDict([('loss', 0.4011249999999994), ('err', 0.4011249999999994)]), OrderedDict([('loss', 0.39634999999999992), ('err', 0.39634999999999992)]))"
       ]
      },
      {
       "output_type": "stream",
       "stream": "stdout",
       "text": [
        "\n",
        "Time= 200.0\n",
        "Iteration No. 2 of 2\n",
        "(OrderedDict([('loss', 0.40112499999999973), ('err', 0.40112499999999973)]), OrderedDict([('loss', 0.39635000000000004), ('err', 0.39635000000000004)]))"
       ]
      },
      {
       "output_type": "stream",
       "stream": "stdout",
       "text": [
        "\n",
        "Time= 233.0\n",
        "\n",
        "Learning rate= 0.001\n",
        "Epoch 3 of 8\n",
        "Iteration No. 1 of 2\n",
        "(OrderedDict([('loss', 0.40112500000000018), ('err', 0.40112500000000018)]), OrderedDict([('loss', 0.39635000000000015), ('err', 0.39635000000000015)]))"
       ]
      },
      {
       "output_type": "stream",
       "stream": "stdout",
       "text": [
        "\n",
        "Time= 297.0\n",
        "Iteration No. 2 of 2\n",
        "(OrderedDict([('loss', 0.40112500000000056), ('err', 0.40112500000000056)]), OrderedDict([('loss', 0.39635000000000015), ('err', 0.39635000000000015)]))"
       ]
      },
      {
       "output_type": "stream",
       "stream": "stdout",
       "text": [
        "\n",
        "Time= 234.0\n",
        "\n",
        "Learning rate= 0.0001\n",
        "Epoch 4 of 8\n",
        "Iteration No. 1 of 2\n",
        "(OrderedDict([('loss', 0.40112499999999995), ('err', 0.40112499999999995)]), OrderedDict([('loss', 0.39634999999999976), ('err', 0.39634999999999976)]))"
       ]
      },
      {
       "output_type": "stream",
       "stream": "stdout",
       "text": [
        "\n",
        "Time= 365.0\n",
        "Iteration No. 2 of 2\n",
        "(OrderedDict([('loss', 0.40112499999999934), ('err', 0.40112499999999934)]), OrderedDict([('loss', 0.3963500000000002), ('err', 0.3963500000000002)]))"
       ]
      },
      {
       "output_type": "stream",
       "stream": "stdout",
       "text": [
        "\n",
        "Time= 202.0\n",
        "\n",
        "Learning rate= 1e-05\n",
        "Epoch 5 of 8\n",
        "Iteration No. 1 of 2\n",
        "(OrderedDict([('loss', 0.40112499999999984), ('err', 0.40112499999999984)]), OrderedDict([('loss', 0.39635000000000031), ('err', 0.39635000000000031)]))"
       ]
      },
      {
       "output_type": "stream",
       "stream": "stdout",
       "text": [
        "\n",
        "Time= 397.0\n",
        "Iteration No. 2 of 2\n",
        "(OrderedDict([('loss', 0.40112500000000045), ('err', 0.40112500000000045)]), OrderedDict([('loss', 0.39635000000000004), ('err', 0.39635000000000004)]))"
       ]
      },
      {
       "output_type": "stream",
       "stream": "stdout",
       "text": [
        "\n",
        "Time= 366.0\n",
        "\n",
        "Learning rate= 1e-06\n",
        "Epoch 6 of 8\n",
        "Iteration No. 1 of 2\n",
        "(OrderedDict([('loss', 0.40112499999999934), ('err', 0.40112499999999934)]), OrderedDict([('loss', 0.39635000000000015), ('err', 0.39635000000000015)]))"
       ]
      },
      {
       "output_type": "stream",
       "stream": "stdout",
       "text": [
        "\n",
        "Time= 299.0\n",
        "Iteration No. 2 of 2\n",
        "(OrderedDict([('loss', 0.40112500000000018), ('err', 0.40112500000000018)]), OrderedDict([('loss', 0.39634999999999998), ('err', 0.39634999999999998)]))"
       ]
      },
      {
       "output_type": "stream",
       "stream": "stdout",
       "text": [
        "\n",
        "Time= 403.0\n",
        "\n",
        "Learning rate= 1e-07\n",
        "Epoch 7 of 8\n",
        "Iteration No. 1 of 2\n",
        "(OrderedDict([('loss', 0.40112499999999995), ('err', 0.40112499999999995)]), OrderedDict([('loss', 0.39634999999999981), ('err', 0.39634999999999981)]))"
       ]
      },
      {
       "output_type": "stream",
       "stream": "stdout",
       "text": [
        "\n",
        "Time= 304.0\n",
        "Iteration No. 2 of 2\n",
        "(OrderedDict([('loss', 0.40112499999999968), ('err', 0.40112499999999968)]), OrderedDict([('loss', 0.39634999999999992), ('err', 0.39634999999999992)]))"
       ]
      },
      {
       "output_type": "stream",
       "stream": "stdout",
       "text": [
        "\n",
        "Time= 203.0\n",
        "\n",
        "Learning rate= 1e-08\n",
        "Epoch 8 of 8\n",
        "Iteration No. 1 of 2\n",
        "(OrderedDict([('loss', 0.4011249999999999), ('err', 0.4011249999999999)]), OrderedDict([('loss', 0.39634999999999976), ('err', 0.39634999999999976)]))"
       ]
      },
      {
       "output_type": "stream",
       "stream": "stdout",
       "text": [
        "\n",
        "Time= 470.0\n",
        "Iteration No. 2 of 2\n",
        "(OrderedDict([('loss', 0.4011250000000004), ('err', 0.4011250000000004)]), OrderedDict([('loss', 0.39634999999999981), ('err', 0.39634999999999981)]))"
       ]
      },
      {
       "output_type": "stream",
       "stream": "stdout",
       "text": [
        "\n",
        "Time= 299.0\n",
        "\n",
        "0.4791"
       ]
      },
      {
       "output_type": "stream",
       "stream": "stdout",
       "text": [
        "\n",
        "Samples= 300000 Hidden Layers= 3 epochs= 8 trainings= 2 fom= 0.4791  time= 5218.0\n",
        "Learning rate= 0.1\n",
        "Epoch 1 of 8\n",
        "Iteration No. 1 of 2\n",
        "(OrderedDict([('loss', 0.40112500000000018), ('err', 0.40112500000000018)]), OrderedDict([('loss', 0.39635000000000004), ('err', 0.39635000000000004)]))"
       ]
      },
      {
       "output_type": "stream",
       "stream": "stdout",
       "text": [
        "\n",
        "Time= 606.0\n",
        "Iteration No. 2 of 2\n",
        "(OrderedDict([('loss', 0.4011249999999999), ('err', 0.4011249999999999)]), OrderedDict([('loss', 0.39634999999999998), ('err', 0.39634999999999998)]))"
       ]
      },
      {
       "output_type": "stream",
       "stream": "stdout",
       "text": [
        "\n",
        "Time= 610.0\n",
        "\n",
        "Learning rate= 0.01\n",
        "Epoch 2 of 8\n",
        "Iteration No. 1 of 2\n",
        "(OrderedDict([('loss', 0.056691578101822307), ('err', 0.056691578101822307)]), OrderedDict([('loss', 0.10948447541778339), ('err', 0.10948447541778339)]))"
       ]
      },
      {
       "output_type": "stream",
       "stream": "stdout",
       "text": [
        "\n",
        "Time= 369.0\n",
        "Iteration No. 2 of 2\n",
        "(OrderedDict([('loss', 0.057471176851097469), ('err', 0.057471176851097469)]), OrderedDict([('loss', 0.10306426247919336), ('err', 0.10306426247919336)]))"
       ]
      },
      {
       "output_type": "stream",
       "stream": "stdout",
       "text": [
        "\n",
        "Time= 277.0\n",
        "\n",
        "Learning rate= 0.001\n",
        "Epoch 3 of 8\n",
        "Iteration No. 1 of 2\n",
        "(OrderedDict([('loss', 0.043484799487802685), ('err', 0.043484799487802685)]), OrderedDict([('loss', 0.10843205518014697), ('err', 0.10843205518014697)]))"
       ]
      },
      {
       "output_type": "stream",
       "stream": "stdout",
       "text": [
        "\n",
        "Time= 322.0\n",
        "Iteration No. 2 of 2\n",
        "(OrderedDict([('loss', 0.043916534389649306), ('err', 0.043916534389649306)]), OrderedDict([('loss', 0.10905272450009117), ('err', 0.10905272450009117)]))"
       ]
      },
      {
       "output_type": "stream",
       "stream": "stdout",
       "text": [
        "\n",
        "Time= 277.0\n",
        "\n",
        "Learning rate= 0.0001\n",
        "Epoch 4 of 8\n",
        "Iteration No. 1 of 2\n",
        "(OrderedDict([('loss', 0.054397571494447801), ('err', 0.054397571494447801)]), OrderedDict([('loss', 0.10099867198900235), ('err', 0.10099867198900235)]))"
       ]
      },
      {
       "output_type": "stream",
       "stream": "stdout",
       "text": [
        "\n",
        "Time= 274.0\n",
        "Iteration No. 2 of 2\n",
        "(OrderedDict([('loss', 0.054360783379004581), ('err', 0.054360783379004581)]), OrderedDict([('loss', 0.10104691123667463), ('err', 0.10104691123667463)]))"
       ]
      },
      {
       "output_type": "stream",
       "stream": "stdout",
       "text": [
        "\n",
        "Time= 275.0\n",
        "\n",
        "Learning rate= 1e-05\n",
        "Epoch 5 of 8\n",
        "Iteration No. 1 of 2\n",
        "(OrderedDict([('loss', 0.058081801693517746), ('err', 0.058081801693517746)]), OrderedDict([('loss', 0.097876448639097322), ('err', 0.097876448639097322)]))"
       ]
      },
      {
       "output_type": "stream",
       "stream": "stdout",
       "text": [
        "\n",
        "Time= 275.0\n",
        "Iteration No. 2 of 2\n",
        "(OrderedDict([('loss', 0.058080791451504535), ('err', 0.058080791451504535)]), OrderedDict([('loss', 0.09787824080232152), ('err', 0.09787824080232152)]))"
       ]
      },
      {
       "output_type": "stream",
       "stream": "stdout",
       "text": [
        "\n",
        "Time= 274.0\n",
        "\n",
        "Learning rate= 1e-06\n",
        "Epoch 6 of 8\n",
        "Iteration No. 1 of 2\n",
        "(OrderedDict([('loss', 0.058814874921383133), ('err', 0.058814874921383133)]), OrderedDict([('loss', 0.097049775163705887), ('err', 0.097049775163705887)]))"
       ]
      },
      {
       "output_type": "stream",
       "stream": "stdout",
       "text": [
        "\n",
        "Time= 278.0\n",
        "Iteration No. 2 of 2\n",
        "(OrderedDict([('loss', 0.058814202546906842), ('err', 0.058814202546906842)]), OrderedDict([('loss', 0.097050357405233406), ('err', 0.097050357405233406)]))"
       ]
      },
      {
       "output_type": "stream",
       "stream": "stdout",
       "text": [
        "\n",
        "Time= 278.0\n",
        "\n",
        "Learning rate= 1e-07\n",
        "Epoch 7 of 8\n",
        "Iteration No. 1 of 2\n",
        "(OrderedDict([('loss', 0.059175530725281922), ('err', 0.059175530725281922)]), OrderedDict([('loss', 0.096815027387789881), ('err', 0.096815027387789881)]))"
       ]
      },
      {
       "output_type": "stream",
       "stream": "stdout",
       "text": [
        "\n",
        "Time= 276.0\n",
        "Iteration No. 2 of 2\n",
        "(OrderedDict([('loss', 0.059175455823145748), ('err', 0.059175455823145748)]), OrderedDict([('loss', 0.096815133233603495), ('err', 0.096815133233603495)]))"
       ]
      },
      {
       "output_type": "stream",
       "stream": "stdout",
       "text": [
        "\n",
        "Time= 277.0\n",
        "\n",
        "Learning rate= 1e-08\n",
        "Epoch 8 of 8\n",
        "Iteration No. 1 of 2\n",
        "(OrderedDict([('loss', 0.059243168284370561), ('err', 0.059243168284370561)]), OrderedDict([('loss', 0.096781578518911199), ('err', 0.096781578518911199)]))"
       ]
      },
      {
       "output_type": "stream",
       "stream": "stdout",
       "text": [
        "\n",
        "Time= 274.0\n",
        "Iteration No. 2 of 2\n",
        "(OrderedDict([('loss', 0.059243179327417364), ('err', 0.059243179327417364)]), OrderedDict([('loss', 0.096781574773260284), ('err', 0.096781574773260284)]))"
       ]
      },
      {
       "output_type": "stream",
       "stream": "stdout",
       "text": [
        "\n",
        "Time= 276.0\n",
        "\n",
        "0.73901"
       ]
      },
      {
       "output_type": "stream",
       "stream": "stdout",
       "text": [
        "\n",
        "Samples= 300000 Hidden Layers= 4 epochs= 8 trainings= 2 fom= 0.73901  time= 5218.0\n",
        "Learning rate= 0.1\n",
        "Epoch 1 of 8\n",
        "Iteration No. 1 of 2\n",
        "(OrderedDict([('loss', 0.40112500000000018), ('err', 0.40112500000000018)]), OrderedDict([('loss', 0.39634999999999981), ('err', 0.39634999999999981)]))"
       ]
      },
      {
       "output_type": "stream",
       "stream": "stdout",
       "text": [
        "\n",
        "Time= 746.0\n",
        "Iteration No. 2 of 2\n",
        "(OrderedDict([('loss', 0.40112499999999984), ('err', 0.40112499999999984)]), OrderedDict([('loss', 0.39635000000000004), ('err', 0.39635000000000004)]))"
       ]
      },
      {
       "output_type": "stream",
       "stream": "stdout",
       "text": [
        "\n",
        "Time= 758.0\n",
        "\n",
        "Learning rate= 0.01\n",
        "Epoch 2 of 8\n",
        "Iteration No. 1 of 2\n",
        "(OrderedDict([('loss', 0.06070962242291178), ('err', 0.06070962242291178)]), OrderedDict([('loss', 0.10423756287322844), ('err', 0.10423756287322844)]))"
       ]
      },
      {
       "output_type": "stream",
       "stream": "stdout",
       "text": [
        "\n",
        "Time= 629.0\n",
        "Iteration No. 2 of 2\n",
        "(OrderedDict([('loss', 0.062156603751908977), ('err', 0.062156603751908977)]), OrderedDict([('loss', 0.10463634514806501), ('err', 0.10463634514806501)]))"
       ]
      },
      {
       "output_type": "stream",
       "stream": "stdout",
       "text": [
        "\n",
        "Time= 345.0\n",
        "\n",
        "Learning rate= 0.001\n",
        "Epoch 3 of 8\n",
        "Iteration No. 1 of 2\n",
        "(OrderedDict([('loss', 0.04766271111997266), ('err', 0.04766271111997266)]), OrderedDict([('loss', 0.10689984372455955), ('err', 0.10689984372455955)]))"
       ]
      },
      {
       "output_type": "stream",
       "stream": "stdout",
       "text": [
        "\n",
        "Time= 343.0\n",
        "Iteration No. 2 of 2\n",
        "(OrderedDict([('loss', 0.046663150786012644), ('err', 0.046663150786012644)]), OrderedDict([('loss', 0.10613500439810038), ('err', 0.10613500439810038)]))"
       ]
      },
      {
       "output_type": "stream",
       "stream": "stdout",
       "text": [
        "\n",
        "Time= 343.0\n",
        "\n",
        "Learning rate= 0.0001\n",
        "Epoch 4 of 8\n",
        "Iteration No. 1 of 2\n",
        "(OrderedDict([('loss', 0.05799590487842704), ('err', 0.05799590487842704)]), OrderedDict([('loss', 0.098490005844927939), ('err', 0.098490005844927939)]))"
       ]
      },
      {
       "output_type": "stream",
       "stream": "stdout",
       "text": [
        "\n",
        "Time= 456.0\n",
        "Iteration No. 2 of 2\n",
        "(OrderedDict([('loss', 0.057992167434772542), ('err', 0.057992167434772542)]), OrderedDict([('loss', 0.098798079030033639), ('err', 0.098798079030033639)]))"
       ]
      },
      {
       "output_type": "stream",
       "stream": "stdout",
       "text": [
        "\n",
        "Time= 345.0\n",
        "\n",
        "Learning rate= 1e-05\n",
        "Epoch 5 of 8\n",
        "Iteration No. 1 of 2\n",
        "(OrderedDict([('loss', 0.06353530694008383), ('err', 0.06353530694008383)]), OrderedDict([('loss', 0.096876089692769105), ('err', 0.096876089692769105)]))"
       ]
      },
      {
       "output_type": "stream",
       "stream": "stdout",
       "text": [
        "\n",
        "Time= 339.0\n",
        "Iteration No. 2 of 2\n",
        "(OrderedDict([('loss', 0.063534950297029741), ('err', 0.063534950297029741)]), OrderedDict([('loss', 0.096888285526391532), ('err', 0.096888285526391532)]))"
       ]
      },
      {
       "output_type": "stream",
       "stream": "stdout",
       "text": [
        "\n",
        "Time= 346.0\n",
        "\n",
        "Learning rate= 1e-06\n",
        "Epoch 6 of 8\n",
        "Iteration No. 1 of 2\n",
        "(OrderedDict([('loss', 0.064484446361446193), ('err', 0.064484446361446193)]), OrderedDict([('loss', 0.096648097390765159), ('err', 0.096648097390765159)]))"
       ]
      },
      {
       "output_type": "stream",
       "stream": "stdout",
       "text": [
        "\n",
        "Time= 346.0\n",
        "Iteration No. 2 of 2\n",
        "(OrderedDict([('loss', 0.064484479943659898), ('err', 0.064484479943659898)]), OrderedDict([('loss', 0.096649908110571073), ('err', 0.096649908110571073)]))"
       ]
      },
      {
       "output_type": "stream",
       "stream": "stdout",
       "text": [
        "\n",
        "Time= 345.0\n",
        "\n",
        "Learning rate= 1e-07\n",
        "Epoch 7 of 8\n",
        "Iteration No. 1 of 2\n",
        "(OrderedDict([('loss', 0.064596686084865504), ('err', 0.064596686084865504)]), OrderedDict([('loss', 0.096588866270569104), ('err', 0.096588866270569104)]))"
       ]
      },
      {
       "output_type": "stream",
       "stream": "stdout",
       "text": [
        "\n",
        "Time= 341.0\n",
        "Iteration No. 2 of 2\n",
        "(OrderedDict([('loss', 0.064596686831741842), ('err', 0.064596686831741842)]), OrderedDict([('loss', 0.096588889652397508), ('err', 0.096588889652397508)]))"
       ]
      },
      {
       "output_type": "stream",
       "stream": "stdout",
       "text": [
        "\n",
        "Time= 339.0\n",
        "\n",
        "Learning rate= 1e-08\n",
        "Epoch 8 of 8\n",
        "Iteration No. 1 of 2\n",
        "(OrderedDict([('loss', 0.064609619153619263), ('err', 0.064609619153619263)]), OrderedDict([('loss', 0.096582623805052226), ('err', 0.096582623805052226)]))"
       ]
      },
      {
       "output_type": "stream",
       "stream": "stdout",
       "text": [
        "\n",
        "Time= 337.0\n",
        "Iteration No. 2 of 2\n",
        "(OrderedDict([('loss', 0.064609620385238362), ('err', 0.064609620385238362)]), OrderedDict([('loss', 0.096582617512535995), ('err', 0.096582617512535995)]))"
       ]
      },
      {
       "output_type": "stream",
       "stream": "stdout",
       "text": [
        "\n",
        "Time= 343.0\n",
        "\n",
        "0.73174"
       ]
      },
      {
       "output_type": "stream",
       "stream": "stdout",
       "text": [
        "\n",
        "Samples= 300000 Hidden Layers= 5 epochs= 8 trainings= 2 fom= 0.73174  time= 6701.0\n",
        "Learning rate= 0.1\n",
        "Epoch 1 of 8\n",
        "Iteration No. 1 of 2\n",
        "(OrderedDict([('loss', 0.40112499999999957), ('err', 0.40112499999999957)]), OrderedDict([('loss', 0.39635000000000004), ('err', 0.39635000000000004)]))"
       ]
      },
      {
       "output_type": "stream",
       "stream": "stdout",
       "text": [
        "\n",
        "Time= 918.0\n",
        "Iteration No. 2 of 2\n",
        "(OrderedDict([('loss', 0.40112499999999984), ('err', 0.40112499999999984)]), OrderedDict([('loss', 0.39634999999999998), ('err', 0.39634999999999998)]))"
       ]
      },
      {
       "output_type": "stream",
       "stream": "stdout",
       "text": [
        "\n",
        "Time= 917.0\n",
        "\n",
        "Learning rate= 0.01\n",
        "Epoch 2 of 8\n",
        "Iteration No. 1 of 2\n",
        "(OrderedDict([('loss', 0.24065303798161594), ('err', 0.24065303798161594)]), OrderedDict([('loss', 0.2396226015715438), ('err', 0.2396226015715438)]))"
       ]
      },
      {
       "output_type": "stream",
       "stream": "stdout",
       "text": [
        "\n",
        "Time= 673.0\n",
        "Iteration No. 2 of 2\n",
        "(OrderedDict([('loss', 0.24059091831994867), ('err', 0.24059091831994867)]), OrderedDict([('loss', 0.24008594699911409), ('err', 0.24008594699911409)]))"
       ]
      },
      {
       "output_type": "stream",
       "stream": "stdout",
       "text": [
        "\n",
        "Time= 406.0\n",
        "\n",
        "Learning rate= 0.001\n",
        "Epoch 3 of 8\n",
        "Iteration No. 1 of 2\n",
        "(OrderedDict([('loss', 0.2402729580890853), ('err', 0.2402729580890853)]), OrderedDict([('loss', 0.2393184896953498), ('err', 0.2393184896953498)]))"
       ]
      },
      {
       "output_type": "stream",
       "stream": "stdout",
       "text": [
        "\n",
        "Time= 751.0\n",
        "Iteration No. 2 of 2\n",
        "(OrderedDict([('loss', 0.24025402884529976), ('err', 0.24025402884529976)]), OrderedDict([('loss', 0.23925996601734287), ('err', 0.23925996601734287)]))"
       ]
      },
      {
       "output_type": "stream",
       "stream": "stdout",
       "text": [
        "\n",
        "Time= 742.0\n",
        "\n",
        "Learning rate= 0.0001\n",
        "Epoch 4 of 8\n",
        "Iteration No. 1 of 2\n",
        "(OrderedDict([('loss', 0.24022310865234861), ('err', 0.24022310865234861)]), OrderedDict([('loss', 0.23928239991283162), ('err', 0.23928239991283162)]))"
       ]
      },
      {
       "output_type": "stream",
       "stream": "stdout",
       "text": [
        "\n",
        "Time= 411.0\n",
        "Iteration No. 2 of 2\n",
        "(OrderedDict([('loss', 0.24022739042841881), ('err', 0.24022739042841881)]), OrderedDict([('loss', 0.23927177256360588), ('err', 0.23927177256360588)]))"
       ]
      },
      {
       "output_type": "stream",
       "stream": "stdout",
       "text": [
        "\n",
        "Time= 415.0\n",
        "\n",
        "Learning rate= 1e-05\n",
        "Epoch 5 of 8\n",
        "Iteration No. 1 of 2\n",
        "(OrderedDict([('loss', 0.24022458648312511), ('err', 0.24022458648312511)]), OrderedDict([('loss', 0.2392791690202066), ('err', 0.2392791690202066)]))"
       ]
      },
      {
       "output_type": "stream",
       "stream": "stdout",
       "text": [
        "\n",
        "Time= 420.0\n",
        "Iteration No. 2 of 2\n",
        "(OrderedDict([('loss', 0.24022454386358885), ('err', 0.24022454386358885)]), OrderedDict([('loss', 0.23927723501611733), ('err', 0.23927723501611733)]))"
       ]
      },
      {
       "output_type": "stream",
       "stream": "stdout",
       "text": [
        "\n",
        "Time= 419.0\n",
        "\n",
        "Learning rate= 1e-06\n",
        "Epoch 6 of 8\n",
        "Iteration No. 1 of 2\n",
        "(OrderedDict([('loss', 0.24022482966725661), ('err', 0.24022482966725661)]), OrderedDict([('loss', 0.23926911423159777), ('err', 0.23926911423159777)]))"
       ]
      },
      {
       "output_type": "stream",
       "stream": "stdout",
       "text": [
        "\n",
        "Time= 430.0\n",
        "Iteration No. 2 of 2\n",
        "(OrderedDict([('loss', 0.2402248612841944), ('err', 0.2402248612841944)]), OrderedDict([('loss', 0.2392689969336643), ('err', 0.2392689969336643)]))"
       ]
      },
      {
       "output_type": "stream",
       "stream": "stdout",
       "text": [
        "\n",
        "Time= 425.0\n",
        "\n",
        "Learning rate= 1e-07\n",
        "Epoch 7 of 8\n",
        "Iteration No. 1 of 2\n",
        "(OrderedDict([('loss', 0.24024012151111276), ('err', 0.24024012151111276)]), OrderedDict([('loss', 0.23925706709851963), ('err', 0.23925706709851963)]))"
       ]
      },
      {
       "output_type": "stream",
       "stream": "stdout",
       "text": [
        "\n",
        "Time= 426.0\n",
        "Iteration No. 2 of 2\n",
        "(OrderedDict([('loss', 0.24024006406549156), ('err', 0.24024006406549156)]), OrderedDict([('loss', 0.23925707158630755), ('err', 0.23925707158630755)]))"
       ]
      },
      {
       "output_type": "stream",
       "stream": "stdout",
       "text": [
        "\n",
        "Time= 424.0\n",
        "\n",
        "Learning rate= 1e-08\n",
        "Epoch 8 of 8\n",
        "Iteration No. 1 of 2\n",
        "(OrderedDict([('loss', 0.24024560047121393), ('err', 0.24024560047121393)]), OrderedDict([('loss', 0.23925668324197324), ('err', 0.23925668324197324)]))"
       ]
      },
      {
       "output_type": "stream",
       "stream": "stdout",
       "text": [
        "\n",
        "Time= 414.0\n",
        "Iteration No. 2 of 2\n",
        "(OrderedDict([('loss', 0.24024560890120461), ('err', 0.24024560890120461)]), OrderedDict([('loss', 0.23925668309717896), ('err', 0.23925668309717896)]))"
       ]
      },
      {
       "output_type": "stream",
       "stream": "stdout",
       "text": [
        "\n",
        "Time= 423.0\n",
        "\n",
        "0.4791"
       ]
      },
      {
       "output_type": "stream",
       "stream": "stdout",
       "text": [
        "\n",
        "Time= 1333.0\n",
        "\n",
        "Learning rate= 0.01\n",
        "Epoch 2 of 8\n",
        "Iteration No. 1 of 2\n",
        "(OrderedDict([('loss', 0.24056414530952286), ('err', 0.24056414530952286)]), OrderedDict([('loss', 0.2393999568602122), ('err', 0.2393999568602122)]))"
       ]
      },
      {
       "output_type": "stream",
       "stream": "stdout",
       "text": [
        "\n",
        "Time= 649.0\n",
        "Iteration No. 2 of 2\n",
        "(OrderedDict([('loss', 0.24042150108368876), ('err', 0.24042150108368876)]), OrderedDict([('loss', 0.2392774819203079), ('err', 0.2392774819203079)]))"
       ]
      },
      {
       "output_type": "stream",
       "stream": "stdout",
       "text": [
        "\n",
        "Time= 1385.0\n",
        "\n",
        "Learning rate= 0.001\n",
        "Epoch 3 of 8\n",
        "Iteration No. 1 of 2\n",
        "(OrderedDict([('loss', 0.24025858278518331), ('err', 0.24025858278518331)]), OrderedDict([('loss', 0.23926177249846664), ('err', 0.23926177249846664)]))"
       ]
      },
      {
       "output_type": "stream",
       "stream": "stdout",
       "text": [
        "\n",
        "Time= 781.0\n",
        "Iteration No. 2 of 2\n",
        "(OrderedDict([('loss', 0.24025389996494589), ('err', 0.24025389996494589)]), OrderedDict([('loss', 0.23927707130794654), ('err', 0.23927707130794654)]))"
       ]
      },
      {
       "output_type": "stream",
       "stream": "stdout",
       "text": [
        "\n",
        "Time= 503.0\n",
        "\n",
        "Learning rate= 0.0001\n",
        "Epoch 4 of 8\n",
        "Iteration No. 1 of 2\n",
        "(OrderedDict([('loss', 0.24022884696098001), ('err', 0.24022884696098001)]), OrderedDict([('loss', 0.2392786164681269), ('err', 0.2392786164681269)]))"
       ]
      },
      {
       "output_type": "stream",
       "stream": "stdout",
       "text": [
        "\n",
        "Time= 511.0\n",
        "Iteration No. 2 of 2\n",
        "(OrderedDict([('loss', 0.24022932691492196), ('err', 0.24022932691492196)]), OrderedDict([('loss', 0.23928737770223621), ('err', 0.23928737770223621)]))"
       ]
      },
      {
       "output_type": "stream",
       "stream": "stdout",
       "text": [
        "\n",
        "Time= 595.0\n",
        "\n",
        "Learning rate= 1e-05\n",
        "Epoch 5 of 8\n",
        "Iteration No. 1 of 2\n",
        "(OrderedDict([('loss', 0.2402243417195612), ('err', 0.2402243417195612)]), OrderedDict([('loss', 0.23927857865316429), ('err', 0.23927857865316429)]))"
       ]
      },
      {
       "output_type": "stream",
       "stream": "stdout",
       "text": [
        "\n",
        "Time= 635.0\n",
        "Iteration No. 2 of 2\n",
        "(OrderedDict([('loss', 0.24022442483164905), ('err', 0.24022442483164905)]), OrderedDict([('loss', 0.23927750386020352), ('err', 0.23927750386020352)]))"
       ]
      },
      {
       "output_type": "stream",
       "stream": "stdout",
       "text": [
        "\n",
        "Time= 506.0\n",
        "\n",
        "Learning rate= 1e-06\n",
        "Epoch 6 of 8\n",
        "Iteration No. 1 of 2\n",
        "(OrderedDict([('loss', 0.24022584303804481), ('err', 0.24022584303804481)]), OrderedDict([('loss', 0.23926609101196827), ('err', 0.23926609101196827)]))"
       ]
      },
      {
       "output_type": "stream",
       "stream": "stdout",
       "text": [
        "\n",
        "Time= 620.0\n",
        "Iteration No. 2 of 2\n",
        "(OrderedDict([('loss', 0.24022582992857003), ('err', 0.24022582992857003)]), OrderedDict([('loss', 0.23926612037995473), ('err', 0.23926612037995473)]))"
       ]
      },
      {
       "output_type": "stream",
       "stream": "stdout",
       "text": [
        "\n",
        "Time= 617.0\n",
        "\n",
        "Learning rate= 1e-07\n",
        "Epoch 7 of 8\n",
        "Iteration No. 1 of 2\n",
        "(OrderedDict([('loss', 0.24023896647269591), ('err', 0.24023896647269591)]), OrderedDict([('loss', 0.23925731539937445), ('err', 0.23925731539937445)]))"
       ]
      }
     ]
    },
    {
     "cell_type": "code",
     "collapsed": false,
     "input": [],
     "language": "python",
     "metadata": {},
     "outputs": []
    }
   ],
   "metadata": {}
  }
 ]
}