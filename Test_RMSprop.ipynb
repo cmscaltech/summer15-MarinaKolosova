{
 "metadata": {
  "name": "",
  "signature": "sha256:c37345fa6e44faa5e104fcf81681731b64a10445995dee12a2532c977e0a5478"
 },
 "nbformat": 3,
 "nbformat_minor": 0,
 "worksheets": [
  {
   "cells": [
    {
     "cell_type": "code",
     "collapsed": false,
     "input": [
      "import h5py\n",
      "import theanets\n",
      "import time"
     ],
     "language": "python",
     "metadata": {},
     "outputs": [
      {
       "output_type": "stream",
       "stream": "stdout",
       "text": [
        "Couldn't import dot_parser, loading of dot files will not be possible.\n"
       ]
      }
     ],
     "prompt_number": 2
    },
    {
     "cell_type": "code",
     "collapsed": false,
     "input": [
      "f=h5py.File(\"data/data.hdf5\")\n",
      "f.keys()\n",
      "f['data'].keys()\n",
      "\n",
      "global input_matrix\n",
      "global target_matrix\n",
      "global decorator_matrix\n",
      "\n",
      "input_matrix     = f['data']['input'].value\n",
      "target_matrix    = f['data']['target'].value\n",
      "decorator_matrix = f['data']['deco'].value\n",
      "f.close()\n",
      "\n",
      "nInputs  = input_matrix.shape[1]\n",
      "nOutputs = target_matrix.shape[1]"
     ],
     "language": "python",
     "metadata": {},
     "outputs": [],
     "prompt_number": 3
    },
    {
     "cell_type": "code",
     "collapsed": false,
     "input": [
      "def TuneRMSprop(RMS_half, RMS_reg,truncate, nHiddenLayers, nHiddenNeurons):\n",
      "    \n",
      "    # Create Training & Validation Set\n",
      "    # ------------------------------------------------\n",
      "    IN_matrix     = input_matrix[0:truncate,...]      \n",
      "    TARGET_matrix = target_matrix[0:truncate,...]\n",
      "    DEC_matrix    = decorator_matrix[0:truncate,...] \n",
      "    \n",
      "    cut   =int(IN_matrix.shape[0]*0.8)\n",
      "    train =IN_matrix[:cut], TARGET_matrix[:cut]\n",
      "    valid =IN_matrix[cut:], TARGET_matrix[cut:]\n",
      "    \n",
      "    # Build the NN\n",
      "    # -----------------------------------------------------------------------------------------------------------------------------------\n",
      "    # Topology: Feedforward\n",
      "    # Inputs = 82 (Jets 4-momenta (20 Jets maximum), METx, METy)\n",
      "    # Number of Hidden Layers = nHiddenLayers\n",
      "    # Activation function for Hidden Layers = sigmoid\n",
      "    # Outputs=1 (NN Trigger Bits= 0 or 1)\n",
      "    # Activation function for the Output Layer= sigmoid \n",
      "    # Layerwise: pretrainer \n",
      "\n",
      "    exp=theanets.Experiment(theanets.feedforward.Regressor(layers=(nInputs,)+tuple([nHiddenNeurons for l in range(nHiddenLayers), 'sigmoid'])+ ( (nOutputs, 'sigmoid'),)),'layerwise')    \n",
      "    \n",
      "    # ------------------------------------------------------------------------------------------------------------------------------------\n",
      "    fom   = 1.0\n",
      "    LearningRate=0.001\n",
      "    Epochs= 0\n",
      "    \n",
      "    timing_start = time.mktime(time.gmtime())\n",
      "    \n",
      "    for TrainError, ValError in exp.itertrain(train,valid, learning_rate= LearningRate, algo='rmsprop', \n",
      "                                              hidden_dropout=0.9, iteration_size = 400, batch_size=1000, \n",
      "                                              validate_every = 1, patience=300, min_improvement = 0.0000001,\n",
      "                                              rms_halflife=RMS_half, rms_regularizer=RMS_reg):\n",
      "        \n",
      "        #if Epochs%1 == 0 :\n",
      "        #    print 'Training   Error = \\t',TrainError['err']\n",
      "        #    print 'Validation Error = \\t',ValError['err']\n",
      "        Epochs+=1\n",
      "        if Epochs == 20 :\n",
      "            break   \n",
      "    timing_end=time.mktime(time.gmtime())\n",
      "    \n",
      "    prediction = exp.network.predict(train[0])\n",
      "    goodness = np.asarray([[cut,(list(TARGET_matrix[np.where(prediction>cut)]==1).count(True)+list(TARGET_matrix[np.where(prediction<cut)]==0).count(True))/ float(IN_matrix.shape[0])]  for cut in np.arange(0,1,0.05)])\n",
      "    \n",
      "    fom = max( goodness[:,1])    \n",
      "    timing=timing_end-timing_start\n",
      "    \n",
      "    return (fom, timing)"
     ],
     "language": "python",
     "metadata": {},
     "outputs": [],
     "prompt_number": 3
    },
    {
     "cell_type": "code",
     "collapsed": false,
     "input": [
      "TuneRMS=[]\n",
      "truncate=100000\n",
      "iLayers=1\n",
      "nHiddenNeurons=100\n",
      "\n",
      "for i in range(3,10):\n",
      "    RMS_reg=1.0/10.0**(i)\n",
      "    for RMS_half in np.arange(0.7,1.0,0.01):\n",
      "        fom,timing= TuneRMSprop(RMS_half, RMS_reg, truncate, iLayers, nHiddenNeurons)\n",
      "        print i, \"RMS_regularizer=\", RMS_reg, \"RMS_halflife=\", RMS_half, \"FOM=\",fom, \"Timing=\",timing\n",
      "        TuneRMS.append((fom,timing))\n",
      "        #print \"-------------------------------------\""
     ],
     "language": "python",
     "metadata": {},
     "outputs": [
      {
       "output_type": "stream",
       "stream": "stdout",
       "text": [
        "3 RMS_regularizer= 0.001 RMS_halflife= 0.7 FOM= 0.48796 Timing= 702.0\n",
        "3"
       ]
      },
      {
       "output_type": "stream",
       "stream": "stdout",
       "text": [
        " RMS_regularizer= 0.001 RMS_halflife= 0.71 FOM= 0.4871 Timing= 642.0\n",
        "3"
       ]
      },
      {
       "output_type": "stream",
       "stream": "stdout",
       "text": [
        " RMS_regularizer= 0.001 RMS_halflife= 0.72 FOM= 0.48748 Timing= 669.0\n",
        "3"
       ]
      },
      {
       "output_type": "stream",
       "stream": "stdout",
       "text": [
        " RMS_regularizer= 0.001 RMS_halflife= 0.73 FOM= 0.4856 Timing= 543.0\n",
        "3"
       ]
      },
      {
       "output_type": "stream",
       "stream": "stdout",
       "text": [
        " RMS_regularizer= 0.001 RMS_halflife= 0.74 FOM= 0.48919 Timing= 620.0\n",
        "3"
       ]
      },
      {
       "output_type": "stream",
       "stream": "stdout",
       "text": [
        " RMS_regularizer= 0.001 RMS_halflife= 0.75 FOM= 0.48814 Timing= 535.0\n",
        "3"
       ]
      },
      {
       "output_type": "stream",
       "stream": "stdout",
       "text": [
        " RMS_regularizer= 0.001 RMS_halflife= 0.76 FOM= 0.48759 Timing= 700.0\n",
        "3"
       ]
      },
      {
       "output_type": "stream",
       "stream": "stdout",
       "text": [
        " RMS_regularizer= 0.001 RMS_halflife= 0.77 FOM= 0.48707 Timing= 533.0\n",
        "3"
       ]
      },
      {
       "output_type": "stream",
       "stream": "stdout",
       "text": [
        " RMS_regularizer= 0.001 RMS_halflife= 0.78 FOM= 0.48622 Timing= 701.0\n",
        "3"
       ]
      },
      {
       "output_type": "stream",
       "stream": "stdout",
       "text": [
        " RMS_regularizer= 0.001 RMS_halflife= 0.79 FOM= 0.48783 Timing= 741.0\n",
        "3"
       ]
      },
      {
       "output_type": "stream",
       "stream": "stdout",
       "text": [
        " RMS_regularizer= 0.001 RMS_halflife= 0.8 FOM= 0.48792 Timing= 744.0\n",
        "3"
       ]
      },
      {
       "output_type": "stream",
       "stream": "stdout",
       "text": [
        " RMS_regularizer= 0.001 RMS_halflife= 0.81 FOM= 0.48708 Timing= 717.0\n",
        "3"
       ]
      },
      {
       "output_type": "stream",
       "stream": "stdout",
       "text": [
        " RMS_regularizer= 0.001 RMS_halflife= 0.82 FOM= 0.48968 Timing= 711.0\n",
        "3"
       ]
      },
      {
       "output_type": "stream",
       "stream": "stdout",
       "text": [
        " RMS_regularizer= 0.001 RMS_halflife= 0.83 FOM= 0.49017 Timing= 654.0\n",
        "3"
       ]
      },
      {
       "output_type": "stream",
       "stream": "stdout",
       "text": [
        " RMS_regularizer= 0.001 RMS_halflife= 0.84 FOM= 0.48695 Timing= 640.0\n",
        "3"
       ]
      },
      {
       "output_type": "stream",
       "stream": "stdout",
       "text": [
        " RMS_regularizer= 0.001 RMS_halflife= 0.85 FOM= 0.48924 Timing= 549.0\n",
        "3"
       ]
      },
      {
       "output_type": "stream",
       "stream": "stdout",
       "text": [
        " RMS_regularizer= 0.001 RMS_halflife= 0.86 FOM= 0.48971 Timing= 680.0\n",
        "3"
       ]
      },
      {
       "output_type": "stream",
       "stream": "stdout",
       "text": [
        " RMS_regularizer= 0.001 RMS_halflife= 0.87 FOM= 0.48714 Timing= 629.0\n",
        "3"
       ]
      },
      {
       "output_type": "stream",
       "stream": "stdout",
       "text": [
        " RMS_regularizer= 0.001 RMS_halflife= 0.88 FOM= 0.48013 Timing= 645.0\n",
        "3"
       ]
      },
      {
       "output_type": "stream",
       "stream": "stdout",
       "text": [
        " RMS_regularizer= 0.001 RMS_halflife= 0.89 FOM= 0.48615 Timing= 464.0\n",
        "3"
       ]
      },
      {
       "output_type": "stream",
       "stream": "stdout",
       "text": [
        " RMS_regularizer= 0.001 RMS_halflife= 0.9 FOM= 0.48718 Timing= 710.0\n",
        "3"
       ]
      },
      {
       "output_type": "stream",
       "stream": "stdout",
       "text": [
        " RMS_regularizer= 0.001 RMS_halflife= 0.92 FOM= 0.48697 Timing= 618.0\n",
        "3"
       ]
      },
      {
       "output_type": "stream",
       "stream": "stdout",
       "text": [
        " RMS_regularizer= 0.001 RMS_halflife= 0.93 FOM= 0.48798 Timing= 621.0\n",
        "3"
       ]
      },
      {
       "output_type": "stream",
       "stream": "stdout",
       "text": [
        " RMS_regularizer= 0.001 RMS_halflife= 0.94 FOM= 0.49346 Timing= 583.0\n",
        "3"
       ]
      },
      {
       "output_type": "stream",
       "stream": "stdout",
       "text": [
        " RMS_regularizer= 0.001 RMS_halflife= 0.95 FOM= 0.48902 Timing= 597.0\n",
        "3"
       ]
      },
      {
       "output_type": "stream",
       "stream": "stdout",
       "text": [
        " RMS_regularizer= 0.001 RMS_halflife= 0.96 FOM= 0.48737 Timing= 478.0\n",
        "3"
       ]
      },
      {
       "output_type": "stream",
       "stream": "stdout",
       "text": [
        " RMS_regularizer= 0.001 RMS_halflife= 0.97 FOM= 0.48982 Timing= 439.0\n",
        "3"
       ]
      },
      {
       "output_type": "stream",
       "stream": "stdout",
       "text": [
        " RMS_regularizer= 0.001 RMS_halflife= 0.98 FOM= 0.4855 Timing= 365.0\n",
        "3"
       ]
      },
      {
       "output_type": "stream",
       "stream": "stdout",
       "text": [
        " RMS_regularizer= 0.001 RMS_halflife= 0.99 FOM= 0.48811 Timing= 435.0\n",
        "3"
       ]
      },
      {
       "output_type": "stream",
       "stream": "stdout",
       "text": [
        " RMS_regularizer= 0.001 RMS_halflife= 1.0 FOM= 0.48969 Timing= 387.0\n",
        "4"
       ]
      },
      {
       "output_type": "stream",
       "stream": "stdout",
       "text": [
        " RMS_regularizer= 0.0001 RMS_halflife= 0.7 FOM= 0.68716 Timing= 400.0\n",
        "4"
       ]
      },
      {
       "output_type": "stream",
       "stream": "stdout",
       "text": [
        " RMS_regularizer= 0.0001 RMS_halflife= 0.71 FOM= 0.68628 Timing= 381.0\n",
        "4"
       ]
      },
      {
       "output_type": "stream",
       "stream": "stdout",
       "text": [
        " RMS_regularizer= 0.0001 RMS_halflife= 0.72 FOM= 0.69012 Timing= 436.0\n",
        "4"
       ]
      },
      {
       "output_type": "stream",
       "stream": "stdout",
       "text": [
        " RMS_regularizer= 0.0001 RMS_halflife= 0.73 FOM= 0.6846 Timing= 508.0\n",
        "4"
       ]
      },
      {
       "output_type": "stream",
       "stream": "stdout",
       "text": [
        " RMS_regularizer= 1e-05 RMS_halflife= 0.74 FOM= 0.72216 Timing= 591.0\n",
        "5"
       ]
      },
      {
       "output_type": "stream",
       "stream": "stdout",
       "text": [
        " RMS_regularizer= 1e-05 RMS_halflife= 0.75 FOM= 0.72318 Timing= 700.0\n",
        "5"
       ]
      },
      {
       "output_type": "stream",
       "stream": "stdout",
       "text": [
        " RMS_regularizer= 1e-05 RMS_halflife= 0.76 FOM= 0.72329 Timing= 727.0\n",
        "5"
       ]
      },
      {
       "output_type": "stream",
       "stream": "stdout",
       "text": [
        " RMS_regularizer= 1e-05 RMS_halflife= 0.77 FOM= 0.72247 Timing= 596.0\n",
        "5"
       ]
      },
      {
       "output_type": "stream",
       "stream": "stdout",
       "text": [
        " RMS_regularizer= 1e-05 RMS_halflife= 0.78 FOM= 0.72478 Timing= 580.0\n",
        "5"
       ]
      },
      {
       "output_type": "stream",
       "stream": "stdout",
       "text": [
        " RMS_regularizer= 1e-05 RMS_halflife= 0.79 FOM= 0.72344 Timing= 438.0\n",
        "5"
       ]
      },
      {
       "output_type": "stream",
       "stream": "stdout",
       "text": [
        " RMS_regularizer= 1e-05 RMS_halflife= 0.8 FOM= 0.72218 Timing= 359.0\n",
        "5"
       ]
      },
      {
       "output_type": "stream",
       "stream": "stdout",
       "text": [
        " RMS_regularizer= 1e-05 RMS_halflife= 0.81 FOM= 0.7244 Timing= 412.0\n",
        "5"
       ]
      },
      {
       "output_type": "stream",
       "stream": "stdout",
       "text": [
        " RMS_regularizer= 1e-05 RMS_halflife= 0.82 FOM= 0.72292 Timing= 388.0\n",
        "5"
       ]
      },
      {
       "output_type": "stream",
       "stream": "stdout",
       "text": [
        " RMS_regularizer= 1e-05 RMS_halflife= 0.83 FOM= 0.72219 Timing= 383.0\n",
        "5"
       ]
      },
      {
       "output_type": "stream",
       "stream": "stdout",
       "text": [
        " RMS_regularizer= 1e-05 RMS_halflife= 0.84 FOM= 0.72186 Timing= 582.0\n",
        "5"
       ]
      },
      {
       "output_type": "stream",
       "stream": "stdout",
       "text": [
        " RMS_regularizer= 1e-05 RMS_halflife= 0.85 FOM= 0.7232 Timing= 426.0\n",
        "5"
       ]
      },
      {
       "output_type": "stream",
       "stream": "stdout",
       "text": [
        " RMS_regularizer= 1e-05 RMS_halflife= 0.86 FOM= 0.72546 Timing= 382.0\n",
        "5"
       ]
      },
      {
       "output_type": "stream",
       "stream": "stdout",
       "text": [
        " RMS_regularizer= 1e-05 RMS_halflife= 0.87 FOM= 0.72363 Timing= 395.0\n",
        "5"
       ]
      },
      {
       "output_type": "stream",
       "stream": "stdout",
       "text": [
        " RMS_regularizer= 1e-05 RMS_halflife= 0.88 FOM= 0.72027 Timing= 562.0\n",
        "5"
       ]
      },
      {
       "output_type": "stream",
       "stream": "stdout",
       "text": [
        " RMS_regularizer= 1e-05 RMS_halflife= 0.89 FOM= 0.72324 Timing= 503.0\n",
        "5"
       ]
      },
      {
       "output_type": "stream",
       "stream": "stdout",
       "text": [
        " RMS_regularizer= 1e-05 RMS_halflife= 0.9 FOM= 0.72487 Timing= 585.0\n",
        "5"
       ]
      },
      {
       "output_type": "stream",
       "stream": "stdout",
       "text": [
        " RMS_regularizer= 1e-05 RMS_halflife= 0.91 FOM= 0.72403 Timing= 468.0\n",
        "5"
       ]
      },
      {
       "output_type": "stream",
       "stream": "stdout",
       "text": [
        " RMS_regularizer= 1e-05 RMS_halflife= 0.92 FOM= 0.72261 Timing= 366.0\n",
        "5"
       ]
      },
      {
       "output_type": "stream",
       "stream": "stdout",
       "text": [
        " RMS_regularizer= 1e-05 RMS_halflife= 0.93 FOM= 0.72193 Timing= 369.0\n",
        "5"
       ]
      },
      {
       "output_type": "stream",
       "stream": "stdout",
       "text": [
        " RMS_regularizer= 1e-05 RMS_halflife= 0.94 FOM= 0.72184 Timing= 376.0\n",
        "5"
       ]
      },
      {
       "output_type": "stream",
       "stream": "stdout",
       "text": [
        " RMS_regularizer= 1e-05 RMS_halflife= 0.95 FOM= 0.72074 Timing= 373.0\n",
        "5"
       ]
      },
      {
       "output_type": "stream",
       "stream": "stdout",
       "text": [
        " RMS_regularizer= 1e-05 RMS_halflife= 0.96 FOM= 0.72257 Timing= 372.0\n",
        "5"
       ]
      },
      {
       "output_type": "stream",
       "stream": "stdout",
       "text": [
        " RMS_regularizer= 1e-05 RMS_halflife= 0.97 FOM= 0.72554 Timing= 365.0\n",
        "5"
       ]
      },
      {
       "output_type": "stream",
       "stream": "stdout",
       "text": [
        " RMS_regularizer= 1e-05 RMS_halflife= 0.98 FOM= 0.7241 Timing= 372.0\n",
        "5"
       ]
      },
      {
       "output_type": "stream",
       "stream": "stdout",
       "text": [
        " RMS_regularizer= 1e-05 RMS_halflife= 0.99 FOM= 0.7223 Timing= 368.0\n",
        "5"
       ]
      },
      {
       "output_type": "stream",
       "stream": "stdout",
       "text": [
        " RMS_regularizer= 1e-05 RMS_halflife= 1.0 FOM= 0.72378 Timing= 374.0\n",
        "6"
       ]
      },
      {
       "output_type": "stream",
       "stream": "stdout",
       "text": [
        " RMS_regularizer= 1e-06 RMS_halflife= 0.7 FOM= 0.73614 Timing= 369.0\n",
        "6"
       ]
      },
      {
       "output_type": "stream",
       "stream": "stdout",
       "text": [
        " RMS_regularizer= 1e-06 RMS_halflife= 0.71 FOM= 0.73357 Timing= 371.0\n",
        "6"
       ]
      },
      {
       "output_type": "stream",
       "stream": "stdout",
       "text": [
        " RMS_regularizer= 1e-06 RMS_halflife= 0.72 FOM= 0.73739 Timing= 371.0\n",
        "6"
       ]
      },
      {
       "output_type": "stream",
       "stream": "stdout",
       "text": [
        " RMS_regularizer= 1e-06 RMS_halflife= 0.73 FOM= 0.7352 Timing= 370.0\n",
        "6"
       ]
      },
      {
       "output_type": "stream",
       "stream": "stdout",
       "text": [
        " RMS_regularizer= 1e-06 RMS_halflife= 0.74 FOM= 0.73527 Timing= 369.0\n",
        "6"
       ]
      },
      {
       "output_type": "stream",
       "stream": "stdout",
       "text": [
        " RMS_regularizer= 1e-06 RMS_halflife= 0.75 FOM= 0.73442 Timing= 369.0\n",
        "6"
       ]
      },
      {
       "output_type": "stream",
       "stream": "stdout",
       "text": [
        " RMS_regularizer= 1e-06 RMS_halflife= 0.76 FOM= 0.73497 Timing= 373.0\n",
        "6"
       ]
      },
      {
       "output_type": "stream",
       "stream": "stdout",
       "text": [
        " RMS_regularizer= 1e-06 RMS_halflife= 0.77 FOM= 0.73485 Timing= 385.0\n",
        "6"
       ]
      },
      {
       "output_type": "stream",
       "stream": "stdout",
       "text": [
        " RMS_regularizer= 1e-06 RMS_halflife= 0.78 FOM= 0.73644 Timing= 391.0\n",
        "6"
       ]
      },
      {
       "output_type": "stream",
       "stream": "stdout",
       "text": [
        " RMS_regularizer= 1e-06 RMS_halflife= 0.79 FOM= 0.73789 Timing= 384.0\n",
        "6"
       ]
      },
      {
       "output_type": "stream",
       "stream": "stdout",
       "text": [
        " RMS_regularizer= 1e-06 RMS_halflife= 0.8 FOM= 0.73622 Timing= 378.0\n",
        "6"
       ]
      },
      {
       "output_type": "stream",
       "stream": "stdout",
       "text": [
        " RMS_regularizer= 1e-06 RMS_halflife= 0.81 FOM= 0.73539 Timing= 377.0\n",
        "6"
       ]
      },
      {
       "output_type": "stream",
       "stream": "stdout",
       "text": [
        " RMS_regularizer= 1e-06 RMS_halflife= 0.82 FOM= 0.73839 Timing= 387.0\n",
        "6"
       ]
      },
      {
       "output_type": "stream",
       "stream": "stdout",
       "text": [
        " RMS_regularizer= 1e-06 RMS_halflife= 0.83 FOM= 0.7362 Timing= 386.0\n",
        "6"
       ]
      },
      {
       "output_type": "stream",
       "stream": "stdout",
       "text": [
        " RMS_regularizer= 1e-06 RMS_halflife= 0.84 FOM= 0.73759 Timing= 383.0\n",
        "6"
       ]
      },
      {
       "output_type": "stream",
       "stream": "stdout",
       "text": [
        " RMS_regularizer= 1e-06 RMS_halflife= 0.85 FOM= 0.73655 Timing= 391.0\n",
        "6"
       ]
      },
      {
       "output_type": "stream",
       "stream": "stdout",
       "text": [
        " RMS_regularizer= 1e-06 RMS_halflife= 0.86 FOM= 0.73184 Timing= 389.0\n",
        "6"
       ]
      },
      {
       "output_type": "stream",
       "stream": "stdout",
       "text": [
        " RMS_regularizer= 1e-06 RMS_halflife= 0.87 FOM= 0.73562 Timing= 385.0\n",
        "6"
       ]
      },
      {
       "output_type": "stream",
       "stream": "stdout",
       "text": [
        " RMS_regularizer= 1e-06 RMS_halflife= 0.88 FOM= 0.73596 Timing= 382.0\n",
        "6"
       ]
      },
      {
       "output_type": "stream",
       "stream": "stdout",
       "text": [
        " RMS_regularizer= 1e-06 RMS_halflife= 0.89 FOM= 0.73543 Timing= 387.0\n",
        "6"
       ]
      },
      {
       "output_type": "stream",
       "stream": "stdout",
       "text": [
        " RMS_regularizer= 1e-06 RMS_halflife= 0.9 FOM= 0.73671 Timing= 386.0\n",
        "6"
       ]
      },
      {
       "output_type": "stream",
       "stream": "stdout",
       "text": [
        " RMS_regularizer= 1e-06 RMS_halflife= 0.91 FOM= 0.73725 Timing= 387.0\n",
        "6"
       ]
      },
      {
       "output_type": "stream",
       "stream": "stdout",
       "text": [
        " RMS_regularizer= 1e-06 RMS_halflife= 0.92 FOM= 0.73579 Timing= 382.0\n",
        "6"
       ]
      },
      {
       "output_type": "stream",
       "stream": "stdout",
       "text": [
        " RMS_regularizer= 1e-06 RMS_halflife= 0.93 FOM= 0.73584 Timing= 386.0\n",
        "6"
       ]
      },
      {
       "output_type": "stream",
       "stream": "stdout",
       "text": [
        " RMS_regularizer= 1e-06 RMS_halflife= 0.94 FOM= 0.73735 Timing= 379.0\n",
        "6"
       ]
      },
      {
       "output_type": "stream",
       "stream": "stdout",
       "text": [
        " RMS_regularizer= 1e-06 RMS_halflife= 0.95 FOM= 0.73511 Timing= 383.0\n",
        "6"
       ]
      },
      {
       "output_type": "stream",
       "stream": "stdout",
       "text": [
        " RMS_regularizer= 1e-06 RMS_halflife= 0.96 FOM= 0.73515 Timing= 383.0\n",
        "6"
       ]
      },
      {
       "output_type": "stream",
       "stream": "stdout",
       "text": [
        " RMS_regularizer= 1e-06 RMS_halflife= 0.97 FOM= 0.73547 Timing= 379.0\n",
        "6"
       ]
      },
      {
       "output_type": "stream",
       "stream": "stdout",
       "text": [
        " RMS_regularizer= 1e-06 RMS_halflife= 0.98 FOM= 0.73462 Timing= 385.0\n",
        "6"
       ]
      },
      {
       "output_type": "stream",
       "stream": "stdout",
       "text": [
        " RMS_regularizer= 1e-06 RMS_halflife= 0.99 FOM= 0.73663 Timing= 384.0\n",
        "6"
       ]
      },
      {
       "output_type": "stream",
       "stream": "stdout",
       "text": [
        " RMS_regularizer= 1e-06 RMS_halflife= 1.0 FOM= 0.73614 Timing= 380.0\n",
        "7"
       ]
      },
      {
       "output_type": "stream",
       "stream": "stdout",
       "text": [
        " RMS_regularizer= 1e-07 RMS_halflife= 0.7 FOM= 0.74242 Timing= 375.0\n",
        "7"
       ]
      },
      {
       "output_type": "stream",
       "stream": "stdout",
       "text": [
        " RMS_regularizer= 1e-07 RMS_halflife= 0.71 FOM= 0.74071 Timing= 377.0\n",
        "7"
       ]
      },
      {
       "output_type": "stream",
       "stream": "stdout",
       "text": [
        " RMS_regularizer= 1e-07 RMS_halflife= 0.72 FOM= 0.74215 Timing= 378.0\n",
        "7"
       ]
      },
      {
       "output_type": "stream",
       "stream": "stdout",
       "text": [
        " RMS_regularizer= 1e-07 RMS_halflife= 0.73 FOM= 0.74335 Timing= 374.0\n",
        "7"
       ]
      },
      {
       "output_type": "stream",
       "stream": "stdout",
       "text": [
        " RMS_regularizer= 1e-07 RMS_halflife= 0.74 FOM= 0.74271 Timing= 386.0\n",
        "7"
       ]
      },
      {
       "output_type": "stream",
       "stream": "stdout",
       "text": [
        " RMS_regularizer= 1e-07 RMS_halflife= 0.75 FOM= 0.74132 Timing= 382.0\n",
        "7"
       ]
      },
      {
       "output_type": "stream",
       "stream": "stdout",
       "text": [
        " RMS_regularizer= 1e-07 RMS_halflife= 0.76 FOM= 0.74236 Timing= 380.0\n",
        "7"
       ]
      },
      {
       "output_type": "stream",
       "stream": "stdout",
       "text": [
        " RMS_regularizer= 1e-07 RMS_halflife= 0.77 FOM= 0.74297 Timing= 381.0\n",
        "7"
       ]
      },
      {
       "output_type": "stream",
       "stream": "stdout",
       "text": [
        " RMS_regularizer= 1e-07 RMS_halflife= 0.78 FOM= 0.74046 Timing= 382.0\n",
        "7"
       ]
      },
      {
       "output_type": "stream",
       "stream": "stdout",
       "text": [
        " RMS_regularizer= 1e-07 RMS_halflife= 0.79 FOM= 0.74275 Timing= 383.0\n",
        "7"
       ]
      },
      {
       "output_type": "stream",
       "stream": "stdout",
       "text": [
        " RMS_regularizer= 1e-07 RMS_halflife= 0.8 FOM= 0.74352 Timing= 381.0\n",
        "7"
       ]
      },
      {
       "output_type": "stream",
       "stream": "stdout",
       "text": [
        " RMS_regularizer= 1e-07 RMS_halflife= 0.81 FOM= 0.74439 Timing= 384.0\n",
        "7"
       ]
      },
      {
       "output_type": "stream",
       "stream": "stdout",
       "text": [
        " RMS_regularizer= 1e-07 RMS_halflife= 0.82 FOM= 0.74285 Timing= 381.0\n",
        "7"
       ]
      },
      {
       "output_type": "stream",
       "stream": "stdout",
       "text": [
        " RMS_regularizer= 1e-07 RMS_halflife= 0.83 FOM= 0.74204 Timing= 383.0\n",
        "7"
       ]
      },
      {
       "output_type": "stream",
       "stream": "stdout",
       "text": [
        " RMS_regularizer= 1e-07 RMS_halflife= 0.84 FOM= 0.74333 Timing= 377.0\n",
        "7"
       ]
      },
      {
       "output_type": "stream",
       "stream": "stdout",
       "text": [
        " RMS_regularizer= 1e-07 RMS_halflife= 0.85 FOM= 0.74447 Timing= 383.0\n",
        "7"
       ]
      },
      {
       "output_type": "stream",
       "stream": "stdout",
       "text": [
        " RMS_regularizer= 1e-07 RMS_halflife= 0.86 FOM= 0.74242 Timing= 384.0\n",
        "7"
       ]
      },
      {
       "output_type": "stream",
       "stream": "stdout",
       "text": [
        " RMS_regularizer= 1e-07 RMS_halflife= 0.87 FOM= 0.74232 Timing= 391.0\n",
        "7"
       ]
      },
      {
       "output_type": "stream",
       "stream": "stdout",
       "text": [
        " RMS_regularizer= 1e-07 RMS_halflife= 0.88 FOM= 0.74432 Timing= 382.0\n",
        "7"
       ]
      },
      {
       "output_type": "stream",
       "stream": "stdout",
       "text": [
        " RMS_regularizer= 1e-07 RMS_halflife= 0.89 FOM= 0.74207 Timing= 381.0\n",
        "7"
       ]
      },
      {
       "output_type": "stream",
       "stream": "stdout",
       "text": [
        " RMS_regularizer= 1e-07 RMS_halflife= 0.9 FOM= 0.74226 Timing= 382.0\n",
        "7"
       ]
      },
      {
       "output_type": "stream",
       "stream": "stdout",
       "text": [
        " RMS_regularizer= 1e-07 RMS_halflife= 0.91 FOM= 0.7448 Timing= 389.0\n",
        "7"
       ]
      },
      {
       "output_type": "stream",
       "stream": "stdout",
       "text": [
        " RMS_regularizer= 1e-07 RMS_halflife= 0.92 FOM= 0.74198 Timing= 385.0\n",
        "7"
       ]
      },
      {
       "output_type": "stream",
       "stream": "stdout",
       "text": [
        " RMS_regularizer= 1e-07 RMS_halflife= 0.93 FOM= 0.74322 Timing= 376.0\n",
        "7"
       ]
      },
      {
       "output_type": "stream",
       "stream": "stdout",
       "text": [
        " RMS_regularizer= 1e-07 RMS_halflife= 0.94 FOM= 0.74245 Timing= 376.0\n",
        "7"
       ]
      },
      {
       "output_type": "stream",
       "stream": "stdout",
       "text": [
        " RMS_regularizer= 1e-07 RMS_halflife= 0.95 FOM= 0.74396 Timing= 382.0\n",
        "7"
       ]
      },
      {
       "output_type": "stream",
       "stream": "stdout",
       "text": [
        " RMS_regularizer= 1e-07 RMS_halflife= 0.96 FOM= 0.74521 Timing= 381.0\n",
        "7"
       ]
      },
      {
       "output_type": "stream",
       "stream": "stdout",
       "text": [
        " RMS_regularizer= 1e-07 RMS_halflife= 0.97 FOM= 0.74441 Timing= 382.0\n",
        "7"
       ]
      },
      {
       "output_type": "stream",
       "stream": "stdout",
       "text": [
        " RMS_regularizer= 1e-07 RMS_halflife= 0.98 FOM= 0.74208 Timing= 383.0\n",
        "7"
       ]
      },
      {
       "output_type": "stream",
       "stream": "stdout",
       "text": [
        " RMS_regularizer= 1e-07 RMS_halflife= 0.99 FOM= 0.74225 Timing= 377.0\n",
        "7"
       ]
      },
      {
       "output_type": "stream",
       "stream": "stdout",
       "text": [
        " RMS_regularizer= 1e-07 RMS_halflife= 1.0 FOM= 0.74191 Timing= 381.0\n",
        "8"
       ]
      },
      {
       "output_type": "stream",
       "stream": "stdout",
       "text": [
        " RMS_regularizer= 1e-08 RMS_halflife= 0.7 FOM= 0.74103 Timing= 382.0\n",
        "8"
       ]
      },
      {
       "output_type": "stream",
       "stream": "stdout",
       "text": [
        " RMS_regularizer= 1e-08 RMS_halflife= 0.71 FOM= 0.7456 Timing= 381.0\n",
        "8"
       ]
      },
      {
       "output_type": "stream",
       "stream": "stdout",
       "text": [
        " RMS_regularizer= 1e-08 RMS_halflife= 0.72 FOM= 0.74763 Timing= 383.0\n",
        "8"
       ]
      },
      {
       "output_type": "stream",
       "stream": "stdout",
       "text": [
        " RMS_regularizer= 1e-08 RMS_halflife= 0.73 FOM= 0.74617 Timing= 380.0\n",
        "8"
       ]
      },
      {
       "output_type": "stream",
       "stream": "stdout",
       "text": [
        " RMS_regularizer= 1e-08 RMS_halflife= 0.74 FOM= 0.74664 Timing= 371.0\n",
        "8"
       ]
      },
      {
       "output_type": "stream",
       "stream": "stdout",
       "text": [
        " RMS_regularizer= 1e-08 RMS_halflife= 0.75 FOM= 0.74631 Timing= 371.0\n",
        "8"
       ]
      },
      {
       "output_type": "stream",
       "stream": "stdout",
       "text": [
        " RMS_regularizer= 1e-08 RMS_halflife= 0.76 FOM= 0.74655 Timing= 369.0\n",
        "8"
       ]
      },
      {
       "output_type": "stream",
       "stream": "stdout",
       "text": [
        " RMS_regularizer= 1e-08 RMS_halflife= 0.77 FOM= 0.74494 Timing= 367.0\n",
        "8"
       ]
      },
      {
       "output_type": "stream",
       "stream": "stdout",
       "text": [
        " RMS_regularizer= 1e-08 RMS_halflife= 0.78 FOM= 0.74627 Timing= 362.0\n",
        "8"
       ]
      },
      {
       "output_type": "stream",
       "stream": "stdout",
       "text": [
        " RMS_regularizer= 1e-08 RMS_halflife= 0.79 FOM= 0.74426 Timing= 368.0\n",
        "8"
       ]
      },
      {
       "output_type": "stream",
       "stream": "stdout",
       "text": [
        " RMS_regularizer= 1e-08 RMS_halflife= 0.8 FOM= 0.74692 Timing= 366.0\n",
        "8"
       ]
      },
      {
       "output_type": "stream",
       "stream": "stdout",
       "text": [
        " RMS_regularizer= 1e-08 RMS_halflife= 0.81 FOM= 0.74713 Timing= 369.0\n",
        "8"
       ]
      },
      {
       "output_type": "stream",
       "stream": "stdout",
       "text": [
        " RMS_regularizer= 1e-08 RMS_halflife= 0.82 FOM= 0.74434 Timing= 381.0\n",
        "8"
       ]
      },
      {
       "output_type": "stream",
       "stream": "stdout",
       "text": [
        " RMS_regularizer= 1e-08 RMS_halflife= 0.83 FOM= 0.74398 Timing= 381.0\n",
        "8"
       ]
      },
      {
       "output_type": "stream",
       "stream": "stdout",
       "text": [
        " RMS_regularizer= 1e-08 RMS_halflife= 0.84 FOM= 0.74491 Timing= 383.0\n",
        "8"
       ]
      },
      {
       "output_type": "stream",
       "stream": "stdout",
       "text": [
        " RMS_regularizer= 1e-08 RMS_halflife= 0.85 FOM= 0.74672 Timing= 381.0\n",
        "8"
       ]
      },
      {
       "output_type": "stream",
       "stream": "stdout",
       "text": [
        " RMS_regularizer= 1e-08 RMS_halflife= 0.86 FOM= 0.74421 Timing= 382.0\n",
        "8"
       ]
      },
      {
       "output_type": "stream",
       "stream": "stdout",
       "text": [
        " RMS_regularizer= 1e-08 RMS_halflife= 0.87 FOM= 0.7457 Timing= 380.0\n",
        "8"
       ]
      },
      {
       "output_type": "stream",
       "stream": "stdout",
       "text": [
        " RMS_regularizer= 1e-08 RMS_halflife= 0.88 FOM= 0.74531 Timing= 383.0\n",
        "8"
       ]
      },
      {
       "output_type": "stream",
       "stream": "stdout",
       "text": [
        " RMS_regularizer= 1e-08 RMS_halflife= 0.89 FOM= 0.74452 Timing= 380.0\n",
        "8"
       ]
      },
      {
       "output_type": "stream",
       "stream": "stdout",
       "text": [
        " RMS_regularizer= 1e-08 RMS_halflife= 0.9 FOM= 0.74596 Timing= 383.0\n",
        "8"
       ]
      },
      {
       "output_type": "stream",
       "stream": "stdout",
       "text": [
        " RMS_regularizer= 1e-08 RMS_halflife= 0.91 FOM= 0.74487 Timing= 384.0\n",
        "8"
       ]
      },
      {
       "output_type": "stream",
       "stream": "stdout",
       "text": [
        " RMS_regularizer= 1e-08 RMS_halflife= 0.92 FOM= 0.74512 Timing= 381.0\n",
        "8"
       ]
      },
      {
       "output_type": "stream",
       "stream": "stdout",
       "text": [
        " RMS_regularizer= 1e-08 RMS_halflife= 0.93 FOM= 0.74542 Timing= 380.0\n",
        "8"
       ]
      },
      {
       "output_type": "stream",
       "stream": "stdout",
       "text": [
        " RMS_regularizer= 1e-08 RMS_halflife= 0.94 FOM= 0.74458 Timing= 383.0\n",
        "8"
       ]
      },
      {
       "output_type": "stream",
       "stream": "stdout",
       "text": [
        " RMS_regularizer= 1e-08 RMS_halflife= 0.95 FOM= 0.74475 Timing= 385.0\n",
        "8"
       ]
      },
      {
       "output_type": "stream",
       "stream": "stdout",
       "text": [
        " RMS_regularizer= 1e-08 RMS_halflife= 0.96 FOM= 0.74589 Timing= 617.0\n",
        "8"
       ]
      },
      {
       "output_type": "stream",
       "stream": "stdout",
       "text": [
        " RMS_regularizer= 1e-08 RMS_halflife= 0.97 FOM= 0.74416 Timing= 365.0\n",
        "8"
       ]
      },
      {
       "output_type": "stream",
       "stream": "stdout",
       "text": [
        " RMS_regularizer= 1e-08 RMS_halflife= 0.98 FOM= 0.74483 Timing= 516.0\n",
        "8"
       ]
      },
      {
       "output_type": "stream",
       "stream": "stdout",
       "text": [
        " RMS_regularizer= 1e-08 RMS_halflife= 0.99 FOM= 0.74611 Timing= 415.0\n",
        "8"
       ]
      },
      {
       "output_type": "stream",
       "stream": "stdout",
       "text": [
        " RMS_regularizer= 1e-08 RMS_halflife= 1.0 FOM= 0.74556 Timing= 487.0\n",
        "9"
       ]
      },
      {
       "output_type": "stream",
       "stream": "stdout",
       "text": [
        " RMS_regularizer= 1e-09 RMS_halflife= 0.7 FOM= 0.74796 Timing= 403.0\n",
        "9"
       ]
      },
      {
       "output_type": "stream",
       "stream": "stdout",
       "text": [
        " RMS_regularizer= 1e-09 RMS_halflife= 0.73 FOM= 0.74712 Timing= 384.0\n",
        "9"
       ]
      },
      {
       "output_type": "stream",
       "stream": "stdout",
       "text": [
        " RMS_regularizer= 1e-09 RMS_halflife= 0.74 FOM= 0.74762 Timing= 528.0\n",
        "9"
       ]
      },
      {
       "output_type": "stream",
       "stream": "stdout",
       "text": [
        " RMS_regularizer= 1e-09 RMS_halflife= 0.75 FOM= 0.7452 Timing= 385.0\n",
        "9"
       ]
      },
      {
       "output_type": "stream",
       "stream": "stdout",
       "text": [
        " RMS_regularizer= 1e-09 RMS_halflife= 0.76 FOM= 0.74617 Timing= 526.0\n",
        "9"
       ]
      },
      {
       "output_type": "stream",
       "stream": "stdout",
       "text": [
        " RMS_regularizer= 1e-09 RMS_halflife= 0.77 FOM= 0.74381 Timing= 565.0\n",
        "9"
       ]
      },
      {
       "output_type": "stream",
       "stream": "stdout",
       "text": [
        " RMS_regularizer= 1e-09 RMS_halflife= 0.78 FOM= 0.7469 Timing= 618.0\n",
        "9"
       ]
      },
      {
       "output_type": "stream",
       "stream": "stdout",
       "text": [
        " RMS_regularizer= 1e-09 RMS_halflife= 0.79 FOM= 0.74595 Timing= 714.0\n",
        "9"
       ]
      },
      {
       "output_type": "stream",
       "stream": "stdout",
       "text": [
        " RMS_regularizer= 1e-09 RMS_halflife= 0.8 FOM= 0.7471 Timing= 753.0\n",
        "9"
       ]
      },
      {
       "output_type": "stream",
       "stream": "stdout",
       "text": [
        " RMS_regularizer= 1e-09 RMS_halflife= 0.81 FOM= 0.74611 Timing= 723.0\n",
        "9"
       ]
      },
      {
       "output_type": "stream",
       "stream": "stdout",
       "text": [
        " RMS_regularizer= 1e-09 RMS_halflife= 0.82 FOM= 0.7469 Timing= 761.0\n",
        "9"
       ]
      },
      {
       "output_type": "stream",
       "stream": "stdout",
       "text": [
        " RMS_regularizer= 1e-09 RMS_halflife= 0.83 FOM= 0.74688 Timing= 721.0\n",
        "9"
       ]
      },
      {
       "output_type": "stream",
       "stream": "stdout",
       "text": [
        " RMS_regularizer= 1e-09 RMS_halflife= 0.84 FOM= 0.7465 Timing= 716.0\n",
        "9"
       ]
      },
      {
       "output_type": "stream",
       "stream": "stdout",
       "text": [
        " RMS_regularizer= 1e-09 RMS_halflife= 0.85 FOM= 0.74581 Timing= 788.0\n",
        "9"
       ]
      },
      {
       "output_type": "stream",
       "stream": "stdout",
       "text": [
        " RMS_regularizer= 1e-09 RMS_halflife= 0.86 FOM= 0.74629 Timing= 789.0\n",
        "9"
       ]
      },
      {
       "output_type": "stream",
       "stream": "stdout",
       "text": [
        " RMS_regularizer= 1e-09 RMS_halflife= 0.87 FOM= 0.74652 Timing= 921.0\n",
        "9"
       ]
      },
      {
       "output_type": "stream",
       "stream": "stdout",
       "text": [
        " RMS_regularizer= 1e-09 RMS_halflife= 0.88 FOM= 0.74629 Timing= 795.0\n",
        "9"
       ]
      },
      {
       "output_type": "stream",
       "stream": "stdout",
       "text": [
        " RMS_regularizer= 1e-09 RMS_halflife= 0.89 FOM= 0.74626 Timing= 746.0\n",
        "9"
       ]
      },
      {
       "output_type": "stream",
       "stream": "stdout",
       "text": [
        " RMS_regularizer= 1e-09 RMS_halflife= 0.9 FOM= 0.74661 Timing= 639.0\n",
        "9"
       ]
      },
      {
       "output_type": "stream",
       "stream": "stdout",
       "text": [
        " RMS_regularizer= 1e-09 RMS_halflife= 0.91 FOM= 0.74297 Timing= 706.0\n",
        "9"
       ]
      },
      {
       "output_type": "stream",
       "stream": "stdout",
       "text": [
        " RMS_regularizer= 1e-09 RMS_halflife= 0.92 FOM= 0.74716 Timing= 438.0\n",
        "9"
       ]
      },
      {
       "output_type": "stream",
       "stream": "stdout",
       "text": [
        " RMS_regularizer= 1e-09 RMS_halflife= 0.93 FOM= 0.74642 Timing= 559.0\n",
        "9"
       ]
      },
      {
       "output_type": "stream",
       "stream": "stdout",
       "text": [
        " RMS_regularizer= 1e-09 RMS_halflife= 0.94 FOM= 0.74652 Timing= 656.0\n",
        "9"
       ]
      },
      {
       "output_type": "stream",
       "stream": "stdout",
       "text": [
        " RMS_regularizer= 1e-09 RMS_halflife= 0.95 FOM= 0.74502 Timing= 789.0\n",
        "9"
       ]
      },
      {
       "output_type": "stream",
       "stream": "stdout",
       "text": [
        " RMS_regularizer= 1e-09 RMS_halflife= 0.96 FOM= 0.74709 Timing= 746.0\n",
        "9"
       ]
      },
      {
       "output_type": "stream",
       "stream": "stdout",
       "text": [
        " RMS_regularizer= 1e-09 RMS_halflife= 0.97 FOM= 0.74749 Timing= 633.0\n",
        "9"
       ]
      },
      {
       "output_type": "stream",
       "stream": "stdout",
       "text": [
        " RMS_regularizer= 1e-09 RMS_halflife= 0.98 FOM= 0.74594 Timing= 588.0\n",
        "9"
       ]
      },
      {
       "output_type": "stream",
       "stream": "stdout",
       "text": [
        " RMS_regularizer= 1e-09 RMS_halflife= 0.99 FOM= 0.74857 Timing= 652.0\n",
        "9"
       ]
      },
      {
       "output_type": "stream",
       "stream": "stdout",
       "text": [
        " RMS_regularizer= 1e-09 RMS_halflife= 1.0 FOM= 0.74653 Timing= 577.0\n"
       ]
      }
     ]
    },
    {
     "cell_type": "code",
     "collapsed": false,
     "input": [
      "# Results without tuning RMSprop parameters:\n",
      "\n",
      "def Res_RMSprop(truncate, nHiddenLayers, nHiddenNeurons):\n",
      "    \n",
      "    # Create Training & Validation Set\n",
      "    # ------------------------------------------------\n",
      "    IN_matrix     = input_matrix[0:truncate,...]      \n",
      "    TARGET_matrix = target_matrix[0:truncate,...]\n",
      "    DEC_matrix    = decorator_matrix[0:truncate,...] \n",
      "    \n",
      "    cut   =int(IN_matrix.shape[0]*0.8)\n",
      "    train =IN_matrix[:cut], TARGET_matrix[:cut]\n",
      "    valid =IN_matrix[cut:], TARGET_matrix[cut:]\n",
      "    \n",
      "    # Build the NN\n",
      "    # -----------------------------------------------------------------------------------------------------------------------------------\n",
      "    # Topology: Feedforward\n",
      "    # Inputs = 82 (Jets 4-momenta (20 Jets maximum), METx, METy)\n",
      "    # Number of Hidden Layers = nHiddenLayers\n",
      "    # Activation function for Hidden Layers = sigmoid\n",
      "    # Outputs=1 (NN Trigger Bits= 0 or 1)\n",
      "    # Activation function for the Output Layer= sigmoid \n",
      "    # Layerwise: pretrainer \n",
      "\n",
      "    exp=theanets.Experiment(theanets.feedforward.Regressor(layers=(nInputs,)+tuple([nHiddenNeurons for l in range(nHiddenLayers), 'sigmoid'])+ ( (nOutputs, 'sigmoid'),)),'layerwise')    \n",
      "    \n",
      "    # ------------------------------------------------------------------------------------------------------------------------------------\n",
      "    fom   = 1.0\n",
      "    LearningRate=0.001\n",
      "    Epochs= 0\n",
      "    \n",
      "    timing_start = time.mktime(time.gmtime())\n",
      "    \n",
      "    for TrainError, ValError in exp.itertrain(train,valid, learning_rate= LearningRate, algo='rmsprop', \n",
      "                                              hidden_dropout=0.9, iteration_size = 400, batch_size=1000, \n",
      "                                              validate_every = 1, patience=300, min_improvement = 0.0000001):\n",
      "        \n",
      "        #if Epochs%1 == 0 :\n",
      "        #    print 'Training   Error = \\t',TrainError['err']\n",
      "        #    print 'Validation Error = \\t',ValError['err']\n",
      "        Epochs+=1\n",
      "        if Epochs == 20 :\n",
      "            break   \n",
      "    timing_end=time.mktime(time.gmtime())\n",
      "    \n",
      "    prediction = exp.network.predict(train[0])\n",
      "    goodness = np.asarray([[cut,(list(TARGET_matrix[np.where(prediction>cut)]==1).count(True)+list(TARGET_matrix[np.where(prediction<cut)]==0).count(True))/ float(IN_matrix.shape[0])]  for cut in np.arange(0,1,0.05)])\n",
      "    \n",
      "    fom = max( goodness[:,1])    \n",
      "    timing=timing_end-timing_start\n",
      "    \n",
      "    return (fom, timing)"
     ],
     "language": "python",
     "metadata": {},
     "outputs": [],
     "prompt_number": 4
    },
    {
     "cell_type": "code",
     "collapsed": false,
     "input": [
      "truncate=100000\n",
      "iLayers=1\n",
      "nHiddenNeurons=100\n",
      "\n",
      "fom,timing= Res_RMSprop(truncate, iLayers, nHiddenNeurons)\n",
      "print \"FOM=\",fom, \"Timing=\",timing"
     ],
     "language": "python",
     "metadata": {},
     "outputs": [
      {
       "output_type": "stream",
       "stream": "stdout",
       "text": [
        "FOM= 0.74547 Timing= 367.0\n"
       ]
      }
     ],
     "prompt_number": 6
    },
    {
     "cell_type": "code",
     "collapsed": false,
     "input": [],
     "language": "python",
     "metadata": {},
     "outputs": []
    }
   ],
   "metadata": {}
  }
 ]
}