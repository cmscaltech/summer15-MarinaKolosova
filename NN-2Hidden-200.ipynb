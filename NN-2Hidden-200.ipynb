{
 "metadata": {
  "name": "",
  "signature": "sha256:38e684eee70fbf87afaa244d1f6042e470ca00d7628f9c4f3eafeb2be837d74f"
 },
 "nbformat": 3,
 "nbformat_minor": 0,
 "worksheets": [
  {
   "cells": [
    {
     "cell_type": "code",
     "collapsed": false,
     "input": [
      "import h5py\n",
      "import theanets\n",
      "import time"
     ],
     "language": "python",
     "metadata": {},
     "outputs": [
      {
       "output_type": "stream",
       "stream": "stdout",
       "text": [
        "Couldn't import dot_parser, loading of dot files will not be possible.\n"
       ]
      }
     ],
     "prompt_number": 1
    },
    {
     "cell_type": "code",
     "collapsed": false,
     "input": [
      "f=h5py.File(\"data/data.hdf5\")\n",
      "f.keys()\n",
      "f['data'].keys()\n",
      "input_matrix     = f['data']['input'].value\n",
      "target_matrix    = f['data']['target'].value\n",
      "decorator_matrix = f['data']['deco'].value\n",
      "f.close()"
     ],
     "language": "python",
     "metadata": {},
     "outputs": [],
     "prompt_number": 2
    },
    {
     "cell_type": "code",
     "collapsed": false,
     "input": [
      "nInputs = input_matrix.shape[1]\n",
      "nOutputs = target_matrix.shape[1]\n",
      "\n",
      "truncate=10000\n",
      "\n",
      "nInputs = input_matrix.shape[1]\n",
      "nOutputs = target_matrix.shape[1]\n",
      "\n",
      "input_matrix = input_matrix[0:truncate,...]\n",
      "target_matrix = target_matrix[0:truncate,...]\n",
      "decorator_matrix = decorator_matrix[0:truncate,...]"
     ],
     "language": "python",
     "metadata": {},
     "outputs": [],
     "prompt_number": 3
    },
    {
     "cell_type": "code",
     "collapsed": false,
     "input": [
      "def allincluded( truncated, nHiddenLayers, epochs, trainings):\n",
      "    timing_start = time.mktime(time.gmtime())\n",
      "    fom = 1.0\n",
      "    \n",
      "    HiddenNeurons=200\n",
      "    \n",
      "    exp=theanets.Experiment(theanets.feedforward.Regressor(layers=(nInputs,)+tuple([HiddenNeurons for l in range(nHiddenLayers)])+ ( (nOutputs, 'sigmoid'),)),'layerwise')    \n",
      "        \n",
      "    cut   =int(input_matrix.shape[0]*0.8)\n",
      "    train =input_matrix[:cut], target_matrix[:cut]\n",
      "    valid =input_matrix[cut:], target_matrix[cut:]\n",
      "    \n",
      "    for i in range(0, epochs):\n",
      "        for j in range(trainings):\n",
      "            Start=time.mktime(time.gmtime())\n",
      "            exp.train(train, valid, learning_rate=0.1/10**i, batch_size=100)        \n",
      "            End=time.mktime(time.gmtime())\n",
      "\n",
      "    timing_end=time.mktime(time.gmtime())\n",
      "    \n",
      "    prediction = exp.network.predict(train[0])\n",
      "    goodness = np.asarray([[cut,(list(target_matrix[np.where(prediction>cut)]==1).count(True)+list(target_matrix[np.where(prediction<cut)]==0).count(True))/ float(input_matrix.shape[0])]  for cut in np.arange(0,1,0.05)])\n",
      "    fom = max( goodness[:,1])\n",
      "    \n",
      "    timing=timing_end-timing_start\n",
      "    return (fom, timing)"
     ],
     "language": "python",
     "metadata": {},
     "outputs": [],
     "prompt_number": 4
    },
    {
     "cell_type": "code",
     "collapsed": false,
     "input": [
      "# (Number of Samples, Hidden Layers, Epoch, Trainings, Timing, FOM) \n",
      "mapAlgo=[]"
     ],
     "language": "python",
     "metadata": {},
     "outputs": [],
     "prompt_number": 5
    },
    {
     "cell_type": "code",
     "collapsed": false,
     "input": [
      "print mapAlgo"
     ],
     "language": "python",
     "metadata": {},
     "outputs": [
      {
       "output_type": "stream",
       "stream": "stdout",
       "text": [
        "[]\n"
       ]
      }
     ],
     "prompt_number": 6
    },
    {
     "cell_type": "code",
     "collapsed": false,
     "input": [
      "iLayers=2\n",
      "truncate=10000\n",
      "for j in range (0, 10):\n",
      "    input_matrix     = input_matrix[0:truncate,...]\n",
      "    target_matrix    = target_matrix[0:truncate,...]\n",
      "    decorator_matrix = decorator_matrix[0:truncate,...]\n",
      "    trainings=2\n",
      "    epochs=10\n",
      "    fom, timing = allincluded(truncate,iLayers,epochs,trainings)\n",
      "    mapAlgo.append((truncate,iLayers,epochs,trainings,timing,fom))\n",
      "    print 'Samples=',truncate,'Hidden Layers=',iLayers, 'epochs=', epochs, 'trainings=', trainings, \"fom=\",fom,\" time=\", timing \n",
      "    truncate+=10000"
     ],
     "language": "python",
     "metadata": {},
     "outputs": [
      {
       "output_type": "stream",
       "stream": "stdout",
       "text": [
        "Samples= 10000 Hidden Layers= 2 epochs= 10 trainings= 2 fom= 0.76  time= 1024.0\n",
        "Samples="
       ]
      },
      {
       "output_type": "stream",
       "stream": "stdout",
       "text": [
        " 20000 Hidden Layers= 2 epochs= 10 trainings= 2 fom= 0.7672  time= 1246.0\n",
        "Samples="
       ]
      },
      {
       "output_type": "stream",
       "stream": "stdout",
       "text": [
        " 30000 Hidden Layers= 2 epochs= 10 trainings= 2 fom= 0.7654  time= 1067.0\n",
        "Samples="
       ]
      },
      {
       "output_type": "stream",
       "stream": "stdout",
       "text": [
        " 40000 Hidden Layers= 2 epochs= 10 trainings= 2 fom= 0.7608  time= 1010.0\n",
        "Samples="
       ]
      },
      {
       "output_type": "stream",
       "stream": "stdout",
       "text": [
        " 50000 Hidden Layers= 2 epochs= 10 trainings= 2 fom= 0.7872  time= 1013.0\n",
        "Samples="
       ]
      },
      {
       "output_type": "stream",
       "stream": "stdout",
       "text": [
        " 60000 Hidden Layers= 2 epochs= 10 trainings= 2 fom= 0.4742  time= 1410.0\n",
        "Samples="
       ]
      },
      {
       "output_type": "stream",
       "stream": "stdout",
       "text": [
        " 70000 Hidden Layers= 2 epochs= 10 trainings= 2 fom= 0.7598  time= 1107.0\n",
        "Samples="
       ]
      },
      {
       "output_type": "stream",
       "stream": "stdout",
       "text": [
        " 80000 Hidden Layers= 2 epochs= 10 trainings= 2 fom= 0.7872  time= 1164.0\n",
        "Samples="
       ]
      }
     ]
    },
    {
     "cell_type": "code",
     "collapsed": false,
     "input": [
      "print mapAlgo"
     ],
     "language": "python",
     "metadata": {},
     "outputs": [
      {
       "output_type": "stream",
       "stream": "stdout",
       "text": [
        "[(10000, 2, 10, 2, 1024.0, 0.76000000000000001), (20000, 2, 10, 2, 1246.0, 0.76719999999999999), (30000, 2, 10, 2, 1067.0, 0.76539999999999997), (40000, 2, 10, 2, 1010.0, 0.76080000000000003), (50000, 2, 10, 2, 1013.0, 0.78720000000000001), (60000, 2, 10, 2, 1410.0, 0.47420000000000001), (70000, 2, 10, 2, 1107.0, 0.75980000000000003), (80000, 2, 10, 2, 1164.0, 0.78720000000000001), (90000, 2, 10, 2, 1441.0, 0.76249999999999996), (100000, 2, 10, 2, 1243.0, 0.7893)]\n"
       ]
      }
     ],
     "prompt_number": 8
    },
    {
     "cell_type": "code",
     "collapsed": false,
     "input": [
      "plt.scatter([x[0] for x in mapAlgo], [y[5] for y in mapAlgo])\n",
      "plt.xlabel('Number of Samples')\n",
      "plt.ylabel('FOM')"
     ],
     "language": "python",
     "metadata": {},
     "outputs": [
      {
       "metadata": {},
       "output_type": "pyout",
       "prompt_number": 14,
       "text": [
        "<matplotlib.text.Text at 0x7f2794470910>"
       ]
      },
      {
       "metadata": {},
       "output_type": "display_data",
       "png": "[encoded data removed]",
       "text": [
        "<matplotlib.figure.Figure at 0x7f278d11a410>"
       ]
      }
     ],
     "prompt_number": 14
    },
    {
     "cell_type": "code",
     "collapsed": false,
     "input": [
      "iLayers=2\n",
      "truncate=100000\n",
      "for j in range (0, 10):\n",
      "    input_matrix     = input_matrix[0:truncate,...]\n",
      "    target_matrix    = target_matrix[0:truncate,...]\n",
      "    decorator_matrix = decorator_matrix[0:truncate,...]\n",
      "    trainings=2\n",
      "    epochs=10\n",
      "    fom, timing = allincluded(truncate,iLayers,epochs,trainings)\n",
      "    mapAlgo.append((truncate,iLayers,epochs,trainings,timing,fom))\n",
      "    print 'Samples=',truncate,'Hidden Layers=',iLayers, 'epochs=', epochs, 'trainings=', trainings, \"fom=\",fom,\" time=\", timing \n",
      "    truncate+=100000"
     ],
     "language": "python",
     "metadata": {},
     "outputs": [
      {
       "output_type": "stream",
       "stream": "stdout",
       "text": [
        "Samples= 100000 Hidden Layers= 2 epochs= 10 trainings= 2 fom= 0.7823  time= 1027.0\n",
        "Samples="
       ]
      },
      {
       "output_type": "stream",
       "stream": "stdout",
       "text": [
        " 200000 Hidden Layers= 2 epochs= 10 trainings= 2 fom= 0.7652  time= 1020.0\n",
        "Samples="
       ]
      },
      {
       "output_type": "stream",
       "stream": "stdout",
       "text": [
        " 300000 Hidden Layers= 2 epochs= 10 trainings= 2 fom= 0.7851  time= 1009.0\n",
        "Samples="
       ]
      },
      {
       "output_type": "stream",
       "stream": "stdout",
       "text": [
        " 400000 Hidden Layers= 2 epochs= 10 trainings= 2 fom= 0.7878  time= 1005.0\n",
        "Samples="
       ]
      },
      {
       "output_type": "stream",
       "stream": "stdout",
       "text": [
        " 500000 Hidden Layers= 2 epochs= 10 trainings= 2 fom= 0.7622  time= 1024.0\n",
        "Samples="
       ]
      },
      {
       "output_type": "stream",
       "stream": "stdout",
       "text": [
        " 600000 Hidden Layers= 2 epochs= 10 trainings= 2 fom= 0.7689  time= 1000.0\n",
        "Samples="
       ]
      },
      {
       "output_type": "stream",
       "stream": "stdout",
       "text": [
        " 700000 Hidden Layers= 2 epochs= 10 trainings= 2 fom= 0.7841  time= 1064.0\n",
        "Samples="
       ]
      },
      {
       "output_type": "stream",
       "stream": "stdout",
       "text": [
        " 800000 Hidden Layers= 2 epochs= 10 trainings= 2 fom= 0.763  time= 1082.0\n",
        "Samples="
       ]
      },
      {
       "output_type": "stream",
       "stream": "stdout",
       "text": [
        " 900000 Hidden Layers= 2 epochs= 10 trainings= 2 fom= 0.7632  time= 1021.0\n",
        "Samples="
       ]
      },
      {
       "output_type": "stream",
       "stream": "stdout",
       "text": [
        " 1000000 Hidden Layers= 2 epochs= 10 trainings= 2 fom= 0.7558  time= 1035.0\n"
       ]
      }
     ],
     "prompt_number": 15
    },
    {
     "cell_type": "code",
     "collapsed": false,
     "input": [
      "plt.scatter([x[0] for x in mapAlgo], [y[5] for y in mapAlgo])\n",
      "plt.xlabel('Number of Samples')\n",
      "plt.ylabel('FOM')"
     ],
     "language": "python",
     "metadata": {},
     "outputs": [
      {
       "metadata": {},
       "output_type": "pyout",
       "prompt_number": 16,
       "text": [
        "<matplotlib.text.Text at 0x7f278d35e050>"
       ]
      },
      {
       "metadata": {},
       "output_type": "display_data",
       "png": "[encoded data removed]",
       "text": [
        "<matplotlib.figure.Figure at 0x7f278c279150>"
       ]
      }
     ],
     "prompt_number": 16
    },
    {
     "cell_type": "code",
     "collapsed": false,
     "input": [
      "iLayers=1\n",
      "truncate=10000\n",
      "for j in range (0, 10):\n",
      "    input_matrix     = input_matrix[0:truncate,...]\n",
      "    target_matrix    = target_matrix[0:truncate,...]\n",
      "    decorator_matrix = decorator_matrix[0:truncate,...]\n",
      "    trainings=2\n",
      "    epochs=10\n",
      "    fom, timing = allincluded(truncate,iLayers,epochs,trainings)\n",
      "    mapAlgo.append((truncate,iLayers,epochs,trainings,timing,fom))\n",
      "    print 'Samples=',truncate,'Hidden Layers=',iLayers, 'epochs=', epochs, 'trainings=', trainings, \"fom=\",fom,\" time=\", timing \n",
      "    truncate+=10000"
     ],
     "language": "python",
     "metadata": {},
     "outputs": [
      {
       "output_type": "stream",
       "stream": "stdout",
       "text": [
        "Samples= 10000 Hidden Layers= 1 epochs= 10 trainings= 2 fom= 0.7847  time= 363.0\n",
        "Samples="
       ]
      },
      {
       "output_type": "stream",
       "stream": "stdout",
       "text": [
        " 20000 Hidden Layers= 1 epochs= 10 trainings= 2 fom= 0.7964  time= 357.0\n",
        "Samples="
       ]
      },
      {
       "output_type": "stream",
       "stream": "stdout",
       "text": [
        " 30000 Hidden Layers= 1 epochs= 10 trainings= 2 fom= 0.7858  time= 354.0\n",
        "Samples="
       ]
      },
      {
       "output_type": "stream",
       "stream": "stdout",
       "text": [
        " 40000 Hidden Layers= 1 epochs= 10 trainings= 2 fom= 0.7885  time= 359.0\n",
        "Samples="
       ]
      },
      {
       "output_type": "stream",
       "stream": "stdout",
       "text": [
        " 50000 Hidden Layers= 1 epochs= 10 trainings= 2 fom= 0.7865  time= 351.0\n",
        "Samples="
       ]
      },
      {
       "output_type": "stream",
       "stream": "stdout",
       "text": [
        " 60000 Hidden Layers= 1 epochs= 10 trainings= 2 fom= 0.7866  time= 368.0\n",
        "Samples="
       ]
      },
      {
       "output_type": "stream",
       "stream": "stdout",
       "text": [
        " 70000 Hidden Layers= 1 epochs= 10 trainings= 2 fom= 0.7868  time= 354.0\n",
        "Samples="
       ]
      }
     ]
    },
    {
     "cell_type": "code",
     "collapsed": false,
     "input": [
      "plt.scatter([x[0] for x in mapAlgo], [y[5] for y in mapAlgo])\n",
      "plt.xlabel('Number of Samples')\n",
      "plt.ylabel('FOM')"
     ],
     "language": "python",
     "metadata": {},
     "outputs": [
      {
       "metadata": {},
       "output_type": "pyout",
       "prompt_number": 18,
       "text": [
        "<matplotlib.text.Text at 0x7f278cd1fe50>"
       ]
      },
      {
       "metadata": {},
       "output_type": "display_data",
       "png": "[encoded data removed]",
       "text": [
        "<matplotlib.figure.Figure at 0x7f27920c56d0>"
       ]
      }
     ],
     "prompt_number": 18
    },
    {
     "cell_type": "code",
     "collapsed": false,
     "input": [
      "iLayers=1\n",
      "truncate=100000\n",
      "for j in range (0, 10):\n",
      "    input_matrix     = input_matrix[0:truncate,...]\n",
      "    target_matrix    = target_matrix[0:truncate,...]\n",
      "    decorator_matrix = decorator_matrix[0:truncate,...]\n",
      "    trainings=2\n",
      "    epochs=10\n",
      "    fom, timing = allincluded(truncate,iLayers,epochs,trainings)\n",
      "    mapAlgo.append((truncate,iLayers,epochs,trainings,timing,fom))\n",
      "    print 'Samples=',truncate,'Hidden Layers=',iLayers, 'epochs=', epochs, 'trainings=', trainings, \"fom=\",fom,\" time=\", timing \n",
      "    truncate+=100000"
     ],
     "language": "python",
     "metadata": {},
     "outputs": [
      {
       "output_type": "stream",
       "stream": "stdout",
       "text": [
        "Samples= 100000 Hidden Layers= 1 epochs= 10 trainings= 2 fom= 0.7824  time= 380.0\n",
        "Samples="
       ]
      },
      {
       "output_type": "stream",
       "stream": "stdout",
       "text": [
        " 200000 Hidden Layers= 1 epochs= 10 trainings= 2 fom= 0.7856  time= 393.0\n",
        "Samples="
       ]
      },
      {
       "output_type": "stream",
       "stream": "stdout",
       "text": [
        " 300000 Hidden Layers= 1 epochs= 10 trainings= 2 fom= 0.7846  time= 408.0\n",
        "Samples="
       ]
      },
      {
       "output_type": "stream",
       "stream": "stdout",
       "text": [
        " 400000 Hidden Layers= 1 epochs= 10 trainings= 2 fom= 0.7846  time= 355.0\n",
        "Samples="
       ]
      },
      {
       "output_type": "stream",
       "stream": "stdout",
       "text": [
        " 500000 Hidden Layers= 1 epochs= 10 trainings= 2 fom= 0.7822  time= 369.0\n",
        "Samples="
       ]
      },
      {
       "output_type": "stream",
       "stream": "stdout",
       "text": [
        " 600000 Hidden Layers= 1 epochs= 10 trainings= 2 fom= 0.7871  time= 453.0\n",
        "Samples="
       ]
      },
      {
       "output_type": "stream",
       "stream": "stdout",
       "text": [
        " 700000 Hidden Layers= 1 epochs= 10 trainings= 2 fom= 0.7966  time= 437.0\n",
        "Samples="
       ]
      },
      {
       "output_type": "stream",
       "stream": "stdout",
       "text": [
        " 800000 Hidden Layers= 1 epochs= 10 trainings= 2 fom= 0.7968  time= 451.0\n",
        "Samples="
       ]
      },
      {
       "output_type": "stream",
       "stream": "stdout",
       "text": [
        " 900000 Hidden Layers= 1 epochs= 10 trainings= 2 fom= 0.7857  time= 386.0\n",
        "Samples="
       ]
      },
      {
       "output_type": "stream",
       "stream": "stdout",
       "text": [
        " 1000000 Hidden Layers= 1 epochs= 10 trainings= 2 fom= 0.7972  time= 534.0\n"
       ]
      }
     ],
     "prompt_number": 19
    },
    {
     "cell_type": "code",
     "collapsed": false,
     "input": [
      "print mapAlgo"
     ],
     "language": "python",
     "metadata": {},
     "outputs": [
      {
       "output_type": "stream",
       "stream": "stdout",
       "text": [
        "[(10000, 2, 10, 2, 1024.0, 0.76000000000000001), (20000, 2, 10, 2, 1246.0, 0.76719999999999999), (30000, 2, 10, 2, 1067.0, 0.76539999999999997), (40000, 2, 10, 2, 1010.0, 0.76080000000000003), (50000, 2, 10, 2, 1013.0, 0.78720000000000001), (60000, 2, 10, 2, 1410.0, 0.47420000000000001), (70000, 2, 10, 2, 1107.0, 0.75980000000000003), (80000, 2, 10, 2, 1164.0, 0.78720000000000001), (90000, 2, 10, 2, 1441.0, 0.76249999999999996), (100000, 2, 10, 2, 1243.0, 0.7893), (100000, 2, 10, 2, 1027.0, 0.7823), (200000, 2, 10, 2, 1020.0, 0.76519999999999999), (300000, 2, 10, 2, 1009.0, 0.78510000000000002), (400000, 2, 10, 2, 1005.0, 0.78779999999999994), (500000, 2, 10, 2, 1024.0, 0.76219999999999999), (600000, 2, 10, 2, 1000.0, 0.76890000000000003), (700000, 2, 10, 2, 1064.0, 0.78410000000000002), (800000, 2, 10, 2, 1082.0, 0.76300000000000001), (900000, 2, 10, 2, 1021.0, 0.76319999999999999), (1000000, 2, 10, 2, 1035.0, 0.75580000000000003), (10000, 1, 10, 2, 363.0, 0.78469999999999995), (20000, 1, 10, 2, 357.0, 0.7964), (30000, 1, 10, 2, 354.0, 0.78580000000000005), (40000, 1, 10, 2, 359.0, 0.78849999999999998), (50000, 1, 10, 2, 351.0, 0.78649999999999998), (60000, 1, 10, 2, 368.0, 0.78659999999999997), (70000, 1, 10, 2, 354.0, 0.78680000000000005), (80000, 1, 10, 2, 382.0, 0.79700000000000004), (90000, 1, 10, 2, 363.0, 0.77680000000000005), (100000, 1, 10, 2, 374.0, 0.78569999999999995), (100000, 1, 10, 2, 380.0, 0.78239999999999998), (200000, 1, 10, 2, 393.0, 0.78559999999999997), (300000, 1, 10, 2, 408.0, 0.78459999999999996), (400000, 1, 10, 2, 355.0, 0.78459999999999996), (500000, 1, 10, 2, 369.0, 0.78220000000000001), (600000, 1, 10, 2, 453.0, 0.78710000000000002), (700000, 1, 10, 2, 437.0, 0.79659999999999997), (800000, 1, 10, 2, 451.0, 0.79679999999999995), (900000, 1, 10, 2, 386.0, 0.78569999999999995), (1000000, 1, 10, 2, 534.0, 0.79720000000000002)]\n"
       ]
      }
     ],
     "prompt_number": 21
    },
    {
     "cell_type": "code",
     "collapsed": false,
     "input": [
      "plt.scatter([x[0] for x in mapAlgo], [y[5] for y in mapAlgo])\n",
      "plt.xlabel('Number of Samples')\n",
      "plt.ylabel('FOM')"
     ],
     "language": "python",
     "metadata": {},
     "outputs": [
      {
       "metadata": {},
       "output_type": "pyout",
       "prompt_number": 22,
       "text": [
        "<matplotlib.text.Text at 0x7f278ccd4e50>"
       ]
      },
      {
       "metadata": {},
       "output_type": "display_data",
       "png": "[encoded data removed]",
       "text": [
        "<matplotlib.figure.Figure at 0x7f278cf75d10>"
       ]
      }
     ],
     "prompt_number": 22
    },
    {
     "cell_type": "code",
     "collapsed": false,
     "input": [],
     "language": "python",
     "metadata": {},
     "outputs": []
    }
   ],
   "metadata": {}
  }
 ]
}