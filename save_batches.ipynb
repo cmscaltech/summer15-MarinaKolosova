{
 "metadata": {
  "name": "",
  "signature": "sha256:c8a1a550c12bfb028226be58344b0f493be6f6c5d3cf2458add257d441e372f8"
 },
 "nbformat": 3,
 "nbformat_minor": 0,
 "worksheets": [
  {
   "cells": [
    {
     "cell_type": "code",
     "collapsed": false,
     "input": [
      "import math, string, random, itertools, copy\n",
      "import numpy as np\n",
      "from numpy import float32\n",
      "from math import sqrt\n",
      "import matplotlib.pyplot as plt\n",
      "from scipy.stats import poisson\n",
      "from copy        import deepcopy\n",
      "import time\n",
      "import theanets\n",
      "import cPickle as pickle"
     ],
     "language": "python",
     "metadata": {},
     "outputs": [
      {
       "output_type": "stream",
       "stream": "stdout",
       "text": [
        "Couldn't import dot_parser, loading of dot files will not be possible.\n"
       ]
      }
     ],
     "prompt_number": 1
    },
    {
     "cell_type": "code",
     "collapsed": false,
     "input": [
      "import h5py\n",
      "f=h5py.File(\"data/data2M.hdf5\")\n",
      "f.keys()\n",
      "f['data'].keys()\n",
      "\n",
      "global input_matrix\n",
      "global target_matrix\n",
      "global decorator_matrix\n",
      "\n",
      "# Load Data \n",
      "input_matrix     = f['data']['input'].value\n",
      "target_matrix    = f['data']['target'].value\n",
      "decorator_matrix = f['data']['deco'].value\n",
      "\n",
      "print \"Samples in input_matrix=\", len(input_matrix)"
     ],
     "language": "python",
     "metadata": {},
     "outputs": [
      {
       "output_type": "stream",
       "stream": "stdout",
       "text": [
        "Samples in input_matrix= 2000000\n"
       ]
      }
     ],
     "prompt_number": 2
    },
    {
     "cell_type": "code",
     "collapsed": false,
     "input": [
      "# Create Training and Validation Batches every 2000 Samples"
     ],
     "language": "python",
     "metadata": {},
     "outputs": [],
     "prompt_number": 3
    },
    {
     "cell_type": "code",
     "collapsed": false,
     "input": [
      "step=2000\n",
      "TrainingSamples   = int(input_matrix.shape[0]*0.8)\n",
      "ValidationSamples = len(input_matrix) - TrainingSamples\n",
      "\n",
      "print \"Training Samples=\", TrainingSamples\n",
      "print \"Validation Samples=\", ValidationSamples\n",
      "\n",
      "training_batches   = []\n",
      "validation_batches = [] \n",
      "    \n",
      "for iSamples in range(0, TrainingSamples, step):\n",
      "    training_batches.append((input_matrix[iSamples:iSamples+step],target_matrix[iSamples:iSamples+step])) \n",
      "   \n",
      "for iSamples in range(0, ValidationSamples, step):\n",
      "    validation_batches.append((input_matrix[iSamples+TrainingSamples:iSamples+TrainingSamples+step],target_matrix[iSamples+TrainingSamples:iSamples+TrainingSamples+step]))   "
     ],
     "language": "python",
     "metadata": {},
     "outputs": [
      {
       "output_type": "stream",
       "stream": "stdout",
       "text": [
        "Training Samples= 1600000\n",
        "Validation Samples= 400000\n"
       ]
      }
     ],
     "prompt_number": 4
    },
    {
     "cell_type": "code",
     "collapsed": false,
     "input": [
      "print \"Training Batches   = \", len(training_batches)\n",
      "print \"Validation Batches = \", len(validation_batches)"
     ],
     "language": "python",
     "metadata": {},
     "outputs": [
      {
       "output_type": "stream",
       "stream": "stdout",
       "text": [
        "Training Batches   =  800\n",
        "Validation Batches =  200\n"
       ]
      }
     ],
     "prompt_number": 5
    },
    {
     "cell_type": "code",
     "collapsed": false,
     "input": [
      "pickle.dump(training_batches, open( \"data/TrainingBatches.p\", \"wb\" ))\n",
      "pickle.dump(validation_batches, open(\"data/ValidationBatches.p\",\"wb\"))"
     ],
     "language": "python",
     "metadata": {},
     "outputs": [],
     "prompt_number": 6
    },
    {
     "cell_type": "code",
     "collapsed": false,
     "input": [],
     "language": "python",
     "metadata": {},
     "outputs": []
    }
   ],
   "metadata": {}
  }
 ]
}