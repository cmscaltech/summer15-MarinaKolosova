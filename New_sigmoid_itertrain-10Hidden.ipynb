{
 "metadata": {
  "name": "",
  "signature": "sha256:eebc6630741de1dccb04e8f8d1db3e8802645653b98861163d78841efc989518"
 },
 "nbformat": 3,
 "nbformat_minor": 0,
 "worksheets": [
  {
   "cells": [
    {
     "cell_type": "code",
     "collapsed": false,
     "input": [
      "import h5py\n",
      "import theanets\n",
      "import time"
     ],
     "language": "python",
     "metadata": {},
     "outputs": [
      {
       "output_type": "stream",
       "stream": "stdout",
       "text": [
        "Couldn't import dot_parser, loading of dot files will not be possible.\n"
       ]
      }
     ],
     "prompt_number": 1
    },
    {
     "cell_type": "code",
     "collapsed": false,
     "input": [
      "f=h5py.File(\"data/data.hdf5\")\n",
      "f.keys()\n",
      "f['data'].keys()\n",
      "\n",
      "global input_matrix\n",
      "global target_matrix\n",
      "global decorator_matrix\n",
      "\n",
      "input_matrix     = f['data']['input'].value\n",
      "target_matrix    = f['data']['target'].value\n",
      "decorator_matrix = f['data']['deco'].value\n",
      "f.close()"
     ],
     "language": "python",
     "metadata": {},
     "outputs": [],
     "prompt_number": 2
    },
    {
     "cell_type": "code",
     "collapsed": false,
     "input": [
      "nInputs  = input_matrix.shape[1]\n",
      "nOutputs = target_matrix.shape[1]"
     ],
     "language": "python",
     "metadata": {},
     "outputs": [],
     "prompt_number": 3
    },
    {
     "cell_type": "code",
     "collapsed": false,
     "input": [
      "print \"Samples in input_matrix=\", len(input_matrix), \"       Inputs=\", nInputs, \"       Outputs=\",nOutputs"
     ],
     "language": "python",
     "metadata": {},
     "outputs": [
      {
       "output_type": "stream",
       "stream": "stdout",
       "text": [
        "Samples in input_matrix= 1000000        Inputs= 82        Outputs= 1\n"
       ]
      }
     ],
     "prompt_number": 4
    },
    {
     "cell_type": "code",
     "collapsed": false,
     "input": [
      "def allincluded(truncated, nHiddenLayers, nHiddenNeurons):\n",
      "\n",
      "    # Create Training & Validation Set\n",
      "    # ------------------------------------------------\n",
      "    IN_matrix     = input_matrix[0:truncate,...]      \n",
      "    TARGET_matrix = target_matrix[0:truncate,...]\n",
      "    DEC_matrix    = decorator_matrix[0:truncate,...] \n",
      "    \n",
      "    cut   =int(IN_matrix.shape[0]*0.8)\n",
      "    train =IN_matrix[:cut], TARGET_matrix[:cut]\n",
      "    valid =IN_matrix[cut:], TARGET_matrix[cut:]\n",
      "    \n",
      "    # Build the NN\n",
      "    # -----------------------------------------------------------------------------------------------------------------------------------\n",
      "    # Topology: Feedforward\n",
      "    # Inputs = 82 (Jets 4-momenta (20 Jets maximum), METx, METy)\n",
      "    # Number of Hidden Layers = nHiddenLayers\n",
      "    # Activation function for Hidden Layers = sigmoid\n",
      "    # Outputs=1 (NN Trigger Bits= 0 or 1)\n",
      "    # Activation function for the Output Layer= sigmoid \n",
      "    # Layerwise: pretrainer \n",
      "\n",
      "    exp=theanets.Experiment(theanets.feedforward.Regressor(layers=(nInputs,)+tuple([nHiddenNeurons for l in range(nHiddenLayers), 'sigmoid'])+ ( (nOutputs, 'sigmoid'),)),'layerwise')    \n",
      "    \n",
      "    # ------------------------------------------------------------------------------------------------------------------------------------\n",
      "    fom   = 1.0\n",
      "    LearningRate=0.001\n",
      "    Epochs= 0\n",
      "    \n",
      "    timing_start = time.mktime(time.gmtime())\n",
      "    \n",
      "    for TrainError, ValError in exp.itertrain(train,valid, learning_rate= LearningRate, algo='rmsprop', \n",
      "                                              hidden_dropout=0.9, iteration_size = 400, batch_size=1000, \n",
      "                                              validate_every = 1, patience=300, min_improvement = 0.0000001):\n",
      "        print 'Epoch=', Epochs+1\n",
      "        if Epochs%1 == 0 :\n",
      "            print 'Training   Error = \\t',TrainError['err']\n",
      "            print 'Validation Error = \\t',ValError['err']\n",
      "        Epochs+=1\n",
      "        if Epochs == 20 :\n",
      "            break   \n",
      "    timing_end=time.mktime(time.gmtime())\n",
      "    \n",
      "    prediction = exp.network.predict(train[0])\n",
      "    goodness = np.asarray([[cut,(list(TARGET_matrix[np.where(prediction>cut)]==1).count(True)+list(TARGET_matrix[np.where(prediction<cut)]==0).count(True))/ float(IN_matrix.shape[0])]  for cut in np.arange(0,1,0.05)])\n",
      "    \n",
      "    fom = max( goodness[:,1])    \n",
      "    timing=timing_end-timing_start\n",
      "    \n",
      "    return (fom, timing)"
     ],
     "language": "python",
     "metadata": {},
     "outputs": [],
     "prompt_number": 5
    },
    {
     "cell_type": "code",
     "collapsed": false,
     "input": [
      "# (Number of Samples, Hidden Layers, HiddenNeurons, Epochs, Trainings, Timing, FOM ) \n",
      "mapAlgo=[]"
     ],
     "language": "python",
     "metadata": {},
     "outputs": [],
     "prompt_number": 6
    },
    {
     "cell_type": "code",
     "collapsed": false,
     "input": [
      "print mapAlgo"
     ],
     "language": "python",
     "metadata": {},
     "outputs": [
      {
       "output_type": "stream",
       "stream": "stdout",
       "text": [
        "[]\n"
       ]
      }
     ],
     "prompt_number": 7
    },
    {
     "cell_type": "code",
     "collapsed": false,
     "input": [
      "iLayers=10\n",
      "nHiddenNeurons=100\n",
      "\n",
      "for nHiddenNeurons in range(100, 1000, 100):\n",
      "    for truncate in range(10000,100000,10000):        \n",
      "        fom, timing = allincluded(truncate, iLayers, nHiddenNeurons)\n",
      "        mapAlgo.append((truncate, iLayers, nHiddenNeurons, timing, fom))\n",
      "        print 'Samples=',truncate,'    Hidden Layers=',iLayers, \"   Hidden Neurons=\", nHiddenNeurons, \"   F.O.M.=\",fom,\"   Time=\", timing "
     ],
     "language": "python",
     "metadata": {},
     "outputs": [
      {
       "output_type": "stream",
       "stream": "stdout",
       "text": [
        "Epoch= 1\n",
        "Training   Error = \t0.174021498222\n",
        "Validation Error = \t0.315179031249\n",
        "Epoch="
       ]
      },
      {
       "output_type": "stream",
       "stream": "stdout",
       "text": [
        " 2\n",
        "Training   Error = \t0.0801688529495\n",
        "Validation Error = \t0.115186999762\n",
        "Epoch="
       ]
      },
      {
       "output_type": "stream",
       "stream": "stdout",
       "text": [
        " 3\n",
        "Training   Error = \t0.0554648661899\n",
        "Validation Error = \t0.106762110723\n",
        "Epoch="
       ]
      },
      {
       "output_type": "stream",
       "stream": "stdout",
       "text": [
        " 4\n",
        "Training   Error = \t0.0398829264602\n",
        "Validation Error = \t0.107705368791\n",
        "Epoch="
       ]
      },
      {
       "output_type": "stream",
       "stream": "stdout",
       "text": [
        " 5\n",
        "Training   Error = \t0.0295448669848\n",
        "Validation Error = \t0.111407393267\n",
        "Epoch="
       ]
      },
      {
       "output_type": "stream",
       "stream": "stdout",
       "text": [
        " 6\n",
        "Training   Error = \t0.0219081474684\n",
        "Validation Error = \t0.111194602976\n",
        "Epoch="
       ]
      },
      {
       "output_type": "stream",
       "stream": "stdout",
       "text": [
        " 7\n",
        "Training   Error = \t0.0162044593583\n",
        "Validation Error = \t0.115123787947\n",
        "Epoch="
       ]
      },
      {
       "output_type": "stream",
       "stream": "stdout",
       "text": [
        " 8\n",
        "Training   Error = \t0.0124078636246\n",
        "Validation Error = \t0.118066343905\n",
        "Epoch="
       ]
      },
      {
       "output_type": "stream",
       "stream": "stdout",
       "text": [
        " 9\n",
        "Training   Error = \t0.0095782673636\n",
        "Validation Error = \t0.12558553894\n",
        "Epoch="
       ]
      },
      {
       "output_type": "stream",
       "stream": "stdout",
       "text": [
        " 10\n",
        "Training   Error = \t0.00795918218126\n",
        "Validation Error = \t0.125041966504\n",
        "Epoch="
       ]
      },
      {
       "output_type": "stream",
       "stream": "stdout",
       "text": [
        " 11\n",
        "Training   Error = \t0.00685008463\n",
        "Validation Error = \t0.127220355358\n",
        "Epoch="
       ]
      },
      {
       "output_type": "stream",
       "stream": "stdout",
       "text": [
        " 12\n",
        "Training   Error = \t0.00571363827102\n",
        "Validation Error = \t0.130126975721\n",
        "Epoch="
       ]
      },
      {
       "output_type": "stream",
       "stream": "stdout",
       "text": [
        " 13\n",
        "Training   Error = \t0.00524736776556\n",
        "Validation Error = \t0.131271283282\n",
        "Epoch="
       ]
      },
      {
       "output_type": "stream",
       "stream": "stdout",
       "text": [
        " 14\n",
        "Training   Error = \t0.00475199855681\n",
        "Validation Error = \t0.131959853891\n",
        "Epoch="
       ]
      },
      {
       "output_type": "stream",
       "stream": "stdout",
       "text": [
        " 15\n",
        "Training   Error = \t0.00425498657836\n",
        "Validation Error = \t0.134034852829\n",
        "Epoch="
       ]
      },
      {
       "output_type": "stream",
       "stream": "stdout",
       "text": [
        " 16\n",
        "Training   Error = \t0.00383009143775\n",
        "Validation Error = \t0.134784978016\n",
        "Epoch="
       ]
      },
      {
       "output_type": "stream",
       "stream": "stdout",
       "text": [
        " 17\n",
        "Training   Error = \t0.00362430738963\n",
        "Validation Error = \t0.135139636808\n",
        "Epoch="
       ]
      },
      {
       "output_type": "stream",
       "stream": "stdout",
       "text": [
        " 18\n",
        "Training   Error = \t0.00349427896248\n",
        "Validation Error = \t0.137419498698\n",
        "Epoch="
       ]
      },
      {
       "output_type": "stream",
       "stream": "stdout",
       "text": [
        " 19\n",
        "Training   Error = \t0.00341338184895\n",
        "Validation Error = \t0.137567245\n",
        "Epoch="
       ]
      },
      {
       "output_type": "stream",
       "stream": "stdout",
       "text": [
        " 20\n",
        "Training   Error = \t0.00326052719209\n",
        "Validation Error = \t0.13874732974\n",
        "Samples="
       ]
      },
      {
       "output_type": "stream",
       "stream": "stdout",
       "text": [
        " 10000     Hidden Layers= 10    Hidden Neurons= 100    F.O.M.= 0.7981    Time= 779.0\n",
        "Epoch="
       ]
      },
      {
       "output_type": "stream",
       "stream": "stdout",
       "text": [
        " 1\n",
        "Training   Error = \t0.182779114624\n",
        "Validation Error = \t0.259006728973\n",
        "Epoch="
       ]
      },
      {
       "output_type": "stream",
       "stream": "stdout",
       "text": [
        " 2\n",
        "Training   Error = \t0.0941554381547\n",
        "Validation Error = \t0.120733628699\n",
        "Epoch="
       ]
      },
      {
       "output_type": "stream",
       "stream": "stdout",
       "text": [
        " 3\n",
        "Training   Error = \t0.0756887465445\n",
        "Validation Error = \t0.105881642443\n",
        "Epoch="
       ]
      },
      {
       "output_type": "stream",
       "stream": "stdout",
       "text": [
        " 4\n",
        "Training   Error = \t0.063934288791\n",
        "Validation Error = \t0.105097854306\n",
        "Epoch="
       ]
      },
      {
       "output_type": "stream",
       "stream": "stdout",
       "text": [
        " 5\n",
        "Training   Error = \t0.0554064882272\n",
        "Validation Error = \t0.104932819716\n",
        "Epoch="
       ]
      },
      {
       "output_type": "stream",
       "stream": "stdout",
       "text": [
        " 6\n",
        "Training   Error = \t0.0488728264425\n",
        "Validation Error = \t0.105297319138\n",
        "Epoch="
       ]
      },
      {
       "output_type": "stream",
       "stream": "stdout",
       "text": [
        " 7\n",
        "Training   Error = \t0.0433067291697\n",
        "Validation Error = \t0.11046589248\n",
        "Epoch="
       ]
      },
      {
       "output_type": "stream",
       "stream": "stdout",
       "text": [
        " 8\n",
        "Training   Error = \t0.038679003498\n",
        "Validation Error = \t0.110405164837\n",
        "Epoch="
       ]
      },
      {
       "output_type": "stream",
       "stream": "stdout",
       "text": [
        " 9\n",
        "Training   Error = \t0.0348563072821\n",
        "Validation Error = \t0.120754106599\n",
        "Epoch="
       ]
      },
      {
       "output_type": "stream",
       "stream": "stdout",
       "text": [
        " 10\n",
        "Training   Error = \t0.0316192258343\n",
        "Validation Error = \t0.11548924322\n",
        "Epoch="
       ]
      },
      {
       "output_type": "stream",
       "stream": "stdout",
       "text": [
        " 11\n",
        "Training   Error = \t0.028984646208\n",
        "Validation Error = \t0.11838757815\n",
        "Epoch="
       ]
      },
      {
       "output_type": "stream",
       "stream": "stdout",
       "text": [
        " 12\n",
        "Training   Error = \t0.0263161736027\n",
        "Validation Error = \t0.120082891153\n",
        "Epoch="
       ]
      },
      {
       "output_type": "stream",
       "stream": "stdout",
       "text": [
        " 13\n",
        "Training   Error = \t0.0246878010542\n",
        "Validation Error = \t0.121344262088\n",
        "Epoch="
       ]
      },
      {
       "output_type": "stream",
       "stream": "stdout",
       "text": [
        " 14\n",
        "Training   Error = \t0.0227168965029\n",
        "Validation Error = \t0.124072385628\n",
        "Epoch="
       ]
      },
      {
       "output_type": "stream",
       "stream": "stdout",
       "text": [
        " 15\n",
        "Training   Error = \t0.0210197784784\n",
        "Validation Error = \t0.127994757727\n",
        "Epoch="
       ]
      },
      {
       "output_type": "stream",
       "stream": "stdout",
       "text": [
        " 16\n",
        "Training   Error = \t0.0196228034916\n",
        "Validation Error = \t0.126244258061\n",
        "Epoch="
       ]
      },
      {
       "output_type": "stream",
       "stream": "stdout",
       "text": [
        " 17\n",
        "Training   Error = \t0.0184234783342\n",
        "Validation Error = \t0.129822083693\n",
        "Epoch="
       ]
      },
      {
       "output_type": "stream",
       "stream": "stdout",
       "text": [
        " 18\n",
        "Training   Error = \t0.0174819442542\n",
        "Validation Error = \t0.130303552729\n",
        "Epoch="
       ]
      },
      {
       "output_type": "stream",
       "stream": "stdout",
       "text": [
        " 19\n",
        "Training   Error = \t0.0162156532111\n",
        "Validation Error = \t0.130628134504\n",
        "Epoch="
       ]
      },
      {
       "output_type": "stream",
       "stream": "stdout",
       "text": [
        " 20\n",
        "Training   Error = \t0.0152804631176\n",
        "Validation Error = \t0.133234923523\n",
        "Samples="
       ]
      },
      {
       "output_type": "stream",
       "stream": "stdout",
       "text": [
        " 20000     Hidden Layers= 10    Hidden Neurons= 100    F.O.M.= 0.7928    Time= 771.0\n",
        "Epoch="
       ]
      },
      {
       "output_type": "stream",
       "stream": "stdout",
       "text": [
        " 1\n",
        "Training   Error = \t0.185566896054\n",
        "Validation Error = \t0.311800003321\n",
        "Epoch="
       ]
      },
      {
       "output_type": "stream",
       "stream": "stdout",
       "text": [
        " 2\n",
        "Training   Error = \t0.098395427741\n",
        "Validation Error = \t0.114811475265\n",
        "Epoch="
       ]
      },
      {
       "output_type": "stream",
       "stream": "stdout",
       "text": [
        " 3\n",
        "Training   Error = \t0.0814692082027\n",
        "Validation Error = \t0.0947552613963\n",
        "Epoch="
       ]
      },
      {
       "output_type": "stream",
       "stream": "stdout",
       "text": [
        " 4\n",
        "Training   Error = \t0.0705728007845\n",
        "Validation Error = \t0.0972537079417\n",
        "Epoch="
       ]
      },
      {
       "output_type": "stream",
       "stream": "stdout",
       "text": [
        " 5\n",
        "Training   Error = \t0.0629413565739\n",
        "Validation Error = \t0.0891130021086\n",
        "Epoch="
       ]
      },
      {
       "output_type": "stream",
       "stream": "stdout",
       "text": [
        " 6\n",
        "Training   Error = \t0.0572252211895\n",
        "Validation Error = \t0.0907310272906\n",
        "Epoch="
       ]
      },
      {
       "output_type": "stream",
       "stream": "stdout",
       "text": [
        " 7\n",
        "Training   Error = \t0.052720921705\n",
        "Validation Error = \t0.094213302522\n",
        "Epoch="
       ]
      },
      {
       "output_type": "stream",
       "stream": "stdout",
       "text": [
        " 8\n",
        "Training   Error = \t0.048887971055\n",
        "Validation Error = \t0.099853787243\n",
        "Epoch="
       ]
      },
      {
       "output_type": "stream",
       "stream": "stdout",
       "text": [
        " 9\n",
        "Training   Error = \t0.0455882360516\n",
        "Validation Error = \t0.0948774115987\n",
        "Epoch="
       ]
      },
      {
       "output_type": "stream",
       "stream": "stdout",
       "text": [
        " 10\n",
        "Training   Error = \t0.042782473586\n",
        "Validation Error = \t0.0996601775866\n",
        "Epoch="
       ]
      },
      {
       "output_type": "stream",
       "stream": "stdout",
       "text": [
        " 11\n",
        "Training   Error = \t0.0400930865963\n",
        "Validation Error = \t0.0997330750802\n",
        "Epoch="
       ]
      },
      {
       "output_type": "stream",
       "stream": "stdout",
       "text": [
        " 12\n",
        "Training   Error = \t0.037820574109\n",
        "Validation Error = \t0.105436682776\n",
        "Epoch="
       ]
      },
      {
       "output_type": "stream",
       "stream": "stdout",
       "text": [
        " 13\n",
        "Training   Error = \t0.0357430671996\n",
        "Validation Error = \t0.105080342243\n",
        "Epoch="
       ]
      },
      {
       "output_type": "stream",
       "stream": "stdout",
       "text": [
        " 14\n",
        "Training   Error = \t0.0339153515279\n",
        "Validation Error = \t0.106379629211\n",
        "Epoch="
       ]
      },
      {
       "output_type": "stream",
       "stream": "stdout",
       "text": [
        " 15\n",
        "Training   Error = \t0.0323310426456\n",
        "Validation Error = \t0.111808586097\n",
        "Epoch="
       ]
      },
      {
       "output_type": "stream",
       "stream": "stdout",
       "text": [
        " 16\n",
        "Training   Error = \t0.030795406933\n",
        "Validation Error = \t0.109160037911\n",
        "Epoch="
       ]
      },
      {
       "output_type": "stream",
       "stream": "stdout",
       "text": [
        " 17\n",
        "Training   Error = \t0.0297448115141\n",
        "Validation Error = \t0.111648257484\n",
        "Epoch="
       ]
      },
      {
       "output_type": "stream",
       "stream": "stdout",
       "text": [
        " 18\n",
        "Training   Error = \t0.028629360758\n",
        "Validation Error = \t0.113216104885\n",
        "Epoch="
       ]
      },
      {
       "output_type": "stream",
       "stream": "stdout",
       "text": [
        " 19\n",
        "Training   Error = \t0.027231488684\n",
        "Validation Error = \t0.121591986109\n",
        "Epoch="
       ]
      },
      {
       "output_type": "stream",
       "stream": "stdout",
       "text": [
        " 20\n",
        "Training   Error = \t0.0262962835249\n",
        "Validation Error = \t0.117621303955\n",
        "Samples="
       ]
      },
      {
       "output_type": "stream",
       "stream": "stdout",
       "text": [
        " 30000     Hidden Layers= 10    Hidden Neurons= 100    F.O.M.= 0.784233333333    Time= 701.0\n",
        "Epoch="
       ]
      },
      {
       "output_type": "stream",
       "stream": "stdout",
       "text": [
        " 1\n",
        "Training   Error = \t0.182797548954\n",
        "Validation Error = \t0.24367103261\n",
        "Epoch="
       ]
      },
      {
       "output_type": "stream",
       "stream": "stdout",
       "text": [
        " 2\n",
        "Training   Error = \t0.0976228191262\n",
        "Validation Error = \t0.111986298975\n",
        "Epoch="
       ]
      },
      {
       "output_type": "stream",
       "stream": "stdout",
       "text": [
        " 3\n",
        "Training   Error = \t0.0827487659374\n",
        "Validation Error = \t0.0973184258785\n",
        "Epoch="
       ]
      },
      {
       "output_type": "stream",
       "stream": "stdout",
       "text": [
        " 4\n",
        "Training   Error = \t0.0739752445545\n",
        "Validation Error = \t0.0927595664078\n",
        "Epoch="
       ]
      },
      {
       "output_type": "stream",
       "stream": "stdout",
       "text": [
        " 5\n",
        "Training   Error = \t0.067483109021\n",
        "Validation Error = \t0.0872506708821\n",
        "Epoch="
       ]
      },
      {
       "output_type": "stream",
       "stream": "stdout",
       "text": [
        " 6\n",
        "Training   Error = \t0.0625261452413\n",
        "Validation Error = \t0.0889605060579\n",
        "Epoch="
       ]
      },
      {
       "output_type": "stream",
       "stream": "stdout",
       "text": [
        " 7\n",
        "Training   Error = \t0.0584395153937\n",
        "Validation Error = \t0.0878350630835\n",
        "Epoch="
       ]
      },
      {
       "output_type": "stream",
       "stream": "stdout",
       "text": [
        " 8\n",
        "Training   Error = \t0.0552344141179\n",
        "Validation Error = \t0.0894013760728\n",
        "Epoch="
       ]
      },
      {
       "output_type": "stream",
       "stream": "stdout",
       "text": [
        " 9\n",
        "Training   Error = \t0.0526779390985\n",
        "Validation Error = \t0.0890465143589\n",
        "Epoch="
       ]
      },
      {
       "output_type": "stream",
       "stream": "stdout",
       "text": [
        " 10\n",
        "Training   Error = \t0.0501201613863\n",
        "Validation Error = \t0.0960508009746\n",
        "Epoch="
       ]
      },
      {
       "output_type": "stream",
       "stream": "stdout",
       "text": [
        " 11\n",
        "Training   Error = \t0.0479854081319\n",
        "Validation Error = \t0.0903442225739\n",
        "Epoch="
       ]
      },
      {
       "output_type": "stream",
       "stream": "stdout",
       "text": [
        " 12\n",
        "Training   Error = \t0.0463674219592\n",
        "Validation Error = \t0.0944680073165\n",
        "Epoch="
       ]
      },
      {
       "output_type": "stream",
       "stream": "stdout",
       "text": [
        " 13\n",
        "Training   Error = \t0.0448003522974\n",
        "Validation Error = \t0.096186854926\n",
        "Epoch="
       ]
      },
      {
       "output_type": "stream",
       "stream": "stdout",
       "text": [
        " 14\n",
        "Training   Error = \t0.0429960459248\n",
        "Validation Error = \t0.0942652311373\n",
        "Epoch="
       ]
      },
      {
       "output_type": "stream",
       "stream": "stdout",
       "text": [
        " 15\n",
        "Training   Error = \t0.0417891123837\n",
        "Validation Error = \t0.0954365220427\n",
        "Epoch="
       ]
      },
      {
       "output_type": "stream",
       "stream": "stdout",
       "text": [
        " 16\n",
        "Training   Error = \t0.0404226848384\n",
        "Validation Error = \t0.0969712960024\n",
        "Epoch="
       ]
      },
      {
       "output_type": "stream",
       "stream": "stdout",
       "text": [
        " 17\n",
        "Training   Error = \t0.0395089361477\n",
        "Validation Error = \t0.0980367441391\n",
        "Epoch="
       ]
      },
      {
       "output_type": "stream",
       "stream": "stdout",
       "text": [
        " 18\n",
        "Training   Error = \t0.0383407398214\n",
        "Validation Error = \t0.0992819877109\n",
        "Epoch="
       ]
      },
      {
       "output_type": "stream",
       "stream": "stdout",
       "text": [
        " 19\n",
        "Training   Error = \t0.03725024899\n",
        "Validation Error = \t0.103158135087\n",
        "Epoch="
       ]
      },
      {
       "output_type": "stream",
       "stream": "stdout",
       "text": [
        " 20\n",
        "Training   Error = \t0.0364711764993\n",
        "Validation Error = \t0.103071659195\n",
        "Samples="
       ]
      },
      {
       "output_type": "stream",
       "stream": "stdout",
       "text": [
        " 40000     Hidden Layers= 10    Hidden Neurons= 100    F.O.M.= 0.7738    Time= 740.0\n",
        "Epoch="
       ]
      },
      {
       "output_type": "stream",
       "stream": "stdout",
       "text": [
        " 1\n",
        "Training   Error = \t0.185964992098\n",
        "Validation Error = \t0.239988332268\n",
        "Epoch="
       ]
      },
      {
       "output_type": "stream",
       "stream": "stdout",
       "text": [
        " 2\n",
        "Training   Error = \t0.10082275919\n",
        "Validation Error = \t0.11873107381\n",
        "Epoch="
       ]
      },
      {
       "output_type": "stream",
       "stream": "stdout",
       "text": [
        " 3\n",
        "Training   Error = \t0.0860610248765\n",
        "Validation Error = \t0.100315095912\n",
        "Epoch="
       ]
      },
      {
       "output_type": "stream",
       "stream": "stdout",
       "text": [
        " 4\n",
        "Training   Error = \t0.0777317236568\n",
        "Validation Error = \t0.0964111091246\n",
        "Epoch="
       ]
      },
      {
       "output_type": "stream",
       "stream": "stdout",
       "text": [
        " 5\n",
        "Training   Error = \t0.0719684924291\n",
        "Validation Error = \t0.0936719107431\n",
        "Epoch="
       ]
      },
      {
       "output_type": "stream",
       "stream": "stdout",
       "text": [
        " 6\n",
        "Training   Error = \t0.0673975531012\n",
        "Validation Error = \t0.0949351352479\n",
        "Epoch="
       ]
      },
      {
       "output_type": "stream",
       "stream": "stdout",
       "text": [
        " 7\n",
        "Training   Error = \t0.0639009788496\n",
        "Validation Error = \t0.0934991392187\n",
        "Epoch="
       ]
      },
      {
       "output_type": "stream",
       "stream": "stdout",
       "text": [
        " 8\n",
        "Training   Error = \t0.0608525899701\n",
        "Validation Error = \t0.0960469660887\n",
        "Epoch="
       ]
      },
      {
       "output_type": "stream",
       "stream": "stdout",
       "text": [
        " 9\n",
        "Training   Error = \t0.0583128087957\n",
        "Validation Error = \t0.0959325238952\n",
        "Epoch="
       ]
      },
      {
       "output_type": "stream",
       "stream": "stdout",
       "text": [
        " 10\n",
        "Training   Error = \t0.0562362256485\n",
        "Validation Error = \t0.0934005811243\n",
        "Epoch="
       ]
      },
      {
       "output_type": "stream",
       "stream": "stdout",
       "text": [
        " 11\n",
        "Training   Error = \t0.0541284849219\n",
        "Validation Error = \t0.0936228154026\n",
        "Epoch="
       ]
      },
      {
       "output_type": "stream",
       "stream": "stdout",
       "text": [
        " 12\n",
        "Training   Error = \t0.0525588781024\n",
        "Validation Error = \t0.0953551110272\n",
        "Epoch="
       ]
      },
      {
       "output_type": "stream",
       "stream": "stdout",
       "text": [
        " 13\n",
        "Training   Error = \t0.0509781345912\n",
        "Validation Error = \t0.103542620111\n",
        "Epoch="
       ]
      },
      {
       "output_type": "stream",
       "stream": "stdout",
       "text": [
        " 14\n",
        "Training   Error = \t0.0495452625814\n",
        "Validation Error = \t0.100992320561\n",
        "Epoch="
       ]
      },
      {
       "output_type": "stream",
       "stream": "stdout",
       "text": [
        " 15\n",
        "Training   Error = \t0.0485913738447\n",
        "Validation Error = \t0.098232500248\n",
        "Epoch="
       ]
      },
      {
       "output_type": "stream",
       "stream": "stdout",
       "text": [
        " 16\n",
        "Training   Error = \t0.0471390603852\n",
        "Validation Error = \t0.0985935077482\n",
        "Epoch="
       ]
      },
      {
       "output_type": "stream",
       "stream": "stdout",
       "text": [
        " 17\n",
        "Training   Error = \t0.0461779993255\n",
        "Validation Error = \t0.101554210987\n",
        "Epoch="
       ]
      },
      {
       "output_type": "stream",
       "stream": "stdout",
       "text": [
        " 18\n",
        "Training   Error = \t0.0449711214652\n",
        "Validation Error = \t0.100646970918\n",
        "Epoch="
       ]
      },
      {
       "output_type": "stream",
       "stream": "stdout",
       "text": [
        " 19\n",
        "Training   Error = \t0.0443136773123\n",
        "Validation Error = \t0.101252512484\n",
        "Epoch="
       ]
      },
      {
       "output_type": "stream",
       "stream": "stdout",
       "text": [
        " 20\n",
        "Training   Error = \t0.0433732484462\n",
        "Validation Error = \t0.113736503408\n",
        "Samples="
       ]
      },
      {
       "output_type": "stream",
       "stream": "stdout",
       "text": [
        " 50000     Hidden Layers= 10    Hidden Neurons= 100    F.O.M.= 0.7657    Time= 690.0\n",
        "Epoch="
       ]
      },
      {
       "output_type": "stream",
       "stream": "stdout",
       "text": [
        " 1\n",
        "Training   Error = \t0.181233398885\n",
        "Validation Error = \t0.273752278266\n",
        "Epoch="
       ]
      },
      {
       "output_type": "stream",
       "stream": "stdout",
       "text": [
        " 2\n",
        "Training   Error = \t0.100981813878\n",
        "Validation Error = \t0.116312922893\n",
        "Epoch="
       ]
      },
      {
       "output_type": "stream",
       "stream": "stdout",
       "text": [
        " 3\n",
        "Training   Error = \t0.0871970510631\n",
        "Validation Error = \t0.101951266213\n",
        "Epoch="
       ]
      },
      {
       "output_type": "stream",
       "stream": "stdout",
       "text": [
        " 4\n",
        "Training   Error = \t0.0787000334906\n",
        "Validation Error = \t0.093185401225\n",
        "Epoch="
       ]
      },
      {
       "output_type": "stream",
       "stream": "stdout",
       "text": [
        " 5\n",
        "Training   Error = \t0.0732969021466\n",
        "Validation Error = \t0.0894359369217\n",
        "Epoch="
       ]
      },
      {
       "output_type": "stream",
       "stream": "stdout",
       "text": [
        " 6\n",
        "Training   Error = \t0.0695319895698\n",
        "Validation Error = \t0.0960079938004\n",
        "Epoch="
       ]
      },
      {
       "output_type": "stream",
       "stream": "stdout",
       "text": [
        " 7\n",
        "Training   Error = \t0.06634085796\n",
        "Validation Error = \t0.0904648706084\n",
        "Epoch="
       ]
      },
      {
       "output_type": "stream",
       "stream": "stdout",
       "text": [
        " 8\n",
        "Training   Error = \t0.0633427319873\n",
        "Validation Error = \t0.0912832845065\n",
        "Epoch="
       ]
      },
      {
       "output_type": "stream",
       "stream": "stdout",
       "text": [
        " 9\n",
        "Training   Error = \t0.0612539699211\n",
        "Validation Error = \t0.0887973375302\n",
        "Epoch="
       ]
      },
      {
       "output_type": "stream",
       "stream": "stdout",
       "text": [
        " 10\n",
        "Training   Error = \t0.0593733453679\n",
        "Validation Error = \t0.0896083055841\n",
        "Epoch="
       ]
      },
      {
       "output_type": "stream",
       "stream": "stdout",
       "text": [
        " 11\n",
        "Training   Error = \t0.057463052568\n",
        "Validation Error = \t0.0893423454878\n",
        "Epoch="
       ]
      },
      {
       "output_type": "stream",
       "stream": "stdout",
       "text": [
        " 12\n",
        "Training   Error = \t0.0558963633563\n",
        "Validation Error = \t0.0939174731254\n",
        "Epoch="
       ]
      },
      {
       "output_type": "stream",
       "stream": "stdout",
       "text": [
        " 13\n",
        "Training   Error = \t0.0544014871763\n",
        "Validation Error = \t0.0927505139241\n",
        "Epoch="
       ]
      },
      {
       "output_type": "stream",
       "stream": "stdout",
       "text": [
        " 14\n",
        "Training   Error = \t0.0532370543259\n",
        "Validation Error = \t0.0940932296967\n",
        "Epoch="
       ]
      },
      {
       "output_type": "stream",
       "stream": "stdout",
       "text": [
        " 15\n",
        "Training   Error = \t0.0524205419403\n",
        "Validation Error = \t0.0976264727549\n",
        "Epoch="
       ]
      },
      {
       "output_type": "stream",
       "stream": "stdout",
       "text": [
        " 16\n",
        "Training   Error = \t0.0510651042777\n",
        "Validation Error = \t0.0954089500097\n",
        "Epoch="
       ]
      },
      {
       "output_type": "stream",
       "stream": "stdout",
       "text": [
        " 17\n",
        "Training   Error = \t0.050396554396\n",
        "Validation Error = \t0.0947286497872\n",
        "Epoch="
       ]
      },
      {
       "output_type": "stream",
       "stream": "stdout",
       "text": [
        " 18\n",
        "Training   Error = \t0.0493836627331\n",
        "Validation Error = \t0.0957585285161\n",
        "Epoch="
       ]
      },
      {
       "output_type": "stream",
       "stream": "stdout",
       "text": [
        " 19\n",
        "Training   Error = \t0.048597150462\n",
        "Validation Error = \t0.099305547167\n",
        "Epoch="
       ]
      },
      {
       "output_type": "stream",
       "stream": "stdout",
       "text": [
        " 20\n",
        "Training   Error = \t0.0478667663872\n",
        "Validation Error = \t0.0972417747504\n",
        "Samples="
       ]
      },
      {
       "output_type": "stream",
       "stream": "stdout",
       "text": [
        " 60000     Hidden Layers= 10    Hidden Neurons= 100    F.O.M.= 0.75935    Time= 757.0\n",
        "Epoch="
       ]
      },
      {
       "output_type": "stream",
       "stream": "stdout",
       "text": [
        " 1\n",
        "Training   Error = \t0.192319794222\n",
        "Validation Error = \t0.24090655023\n",
        "Epoch="
       ]
      },
      {
       "output_type": "stream",
       "stream": "stdout",
       "text": [
        " 2\n",
        "Training   Error = \t0.104322755713\n",
        "Validation Error = \t0.122131038099\n",
        "Epoch="
       ]
      },
      {
       "output_type": "stream",
       "stream": "stdout",
       "text": [
        " 3\n",
        "Training   Error = \t0.089669171408\n",
        "Validation Error = \t0.101002536171\n",
        "Epoch="
       ]
      },
      {
       "output_type": "stream",
       "stream": "stdout",
       "text": [
        " 4\n",
        "Training   Error = \t0.0814565453311\n",
        "Validation Error = \t0.0930953388\n",
        "Epoch="
       ]
      },
      {
       "output_type": "stream",
       "stream": "stdout",
       "text": [
        " 5\n",
        "Training   Error = \t0.0760615462294\n",
        "Validation Error = \t0.09161860947\n",
        "Epoch="
       ]
      },
      {
       "output_type": "stream",
       "stream": "stdout",
       "text": [
        " 6\n",
        "Training   Error = \t0.0716886774791\n",
        "Validation Error = \t0.0884056101481\n",
        "Epoch="
       ]
      },
      {
       "output_type": "stream",
       "stream": "stdout",
       "text": [
        " 7\n",
        "Training   Error = \t0.0685543624319\n",
        "Validation Error = \t0.0851225542914\n",
        "Epoch="
       ]
      },
      {
       "output_type": "stream",
       "stream": "stdout",
       "text": [
        " 8\n",
        "Training   Error = \t0.0658133040519\n",
        "Validation Error = \t0.0924040645692\n",
        "Epoch="
       ]
      },
      {
       "output_type": "stream",
       "stream": "stdout",
       "text": [
        " 9\n",
        "Training   Error = \t0.0637793487756\n",
        "Validation Error = \t0.0854003562353\n",
        "Epoch="
       ]
      },
      {
       "output_type": "stream",
       "stream": "stdout",
       "text": [
        " 10\n",
        "Training   Error = \t0.0617146454536\n",
        "Validation Error = \t0.089793162649\n",
        "Epoch="
       ]
      },
      {
       "output_type": "stream",
       "stream": "stdout",
       "text": [
        " 11\n",
        "Training   Error = \t0.0602433440781\n",
        "Validation Error = \t0.0850992625463\n",
        "Epoch="
       ]
      },
      {
       "output_type": "stream",
       "stream": "stdout",
       "text": [
        " 12\n",
        "Training   Error = \t0.0588196134172\n",
        "Validation Error = \t0.0889488949349\n",
        "Epoch="
       ]
      },
      {
       "output_type": "stream",
       "stream": "stdout",
       "text": [
        " 13\n",
        "Training   Error = \t0.0574728595936\n",
        "Validation Error = \t0.0881394720787\n",
        "Epoch="
       ]
      },
      {
       "output_type": "stream",
       "stream": "stdout",
       "text": [
        " 14\n",
        "Training   Error = \t0.0563551545409\n",
        "Validation Error = \t0.0869208306826\n",
        "Epoch="
       ]
      },
      {
       "output_type": "stream",
       "stream": "stdout",
       "text": [
        " 15\n",
        "Training   Error = \t0.055291336046\n",
        "Validation Error = \t0.0895965474389\n",
        "Epoch="
       ]
      },
      {
       "output_type": "stream",
       "stream": "stdout",
       "text": [
        " 16\n",
        "Training   Error = \t0.0543359324356\n",
        "Validation Error = \t0.0913068061213\n",
        "Epoch="
       ]
      },
      {
       "output_type": "stream",
       "stream": "stdout",
       "text": [
        " 17\n",
        "Training   Error = \t0.0535402528834\n",
        "Validation Error = \t0.0936928097327\n",
        "Epoch="
       ]
      },
      {
       "output_type": "stream",
       "stream": "stdout",
       "text": [
        " 18\n",
        "Training   Error = \t0.0525018673748\n",
        "Validation Error = \t0.0895416338966\n",
        "Epoch="
       ]
      },
      {
       "output_type": "stream",
       "stream": "stdout",
       "text": [
        " 19\n",
        "Training   Error = \t0.0520399913342\n",
        "Validation Error = \t0.0932412827976\n",
        "Epoch="
       ]
      },
      {
       "output_type": "stream",
       "stream": "stdout",
       "text": [
        " 20\n",
        "Training   Error = \t0.0514186668249\n",
        "Validation Error = \t0.0910540128487\n",
        "Samples="
       ]
      },
      {
       "output_type": "stream",
       "stream": "stdout",
       "text": [
        " 70000     Hidden Layers= 10    Hidden Neurons= 100    F.O.M.= 0.754914285714    Time= 735.0\n",
        "Epoch="
       ]
      },
      {
       "output_type": "stream",
       "stream": "stdout",
       "text": [
        " 1\n",
        "Training   Error = \t0.194016485959\n",
        "Validation Error = \t0.243086764024\n",
        "Epoch="
       ]
      },
      {
       "output_type": "stream",
       "stream": "stdout",
       "text": [
        " 2\n",
        "Training   Error = \t0.105913906575\n",
        "Validation Error = \t0.125805228144\n",
        "Epoch="
       ]
      },
      {
       "output_type": "stream",
       "stream": "stdout",
       "text": [
        " 3\n",
        "Training   Error = \t0.0917094199623\n",
        "Validation Error = \t0.104667319147\n",
        "Epoch="
       ]
      },
      {
       "output_type": "stream",
       "stream": "stdout",
       "text": [
        " 4\n",
        "Training   Error = \t0.0839744833754\n",
        "Validation Error = \t0.0941383556329\n",
        "Epoch="
       ]
      },
      {
       "output_type": "stream",
       "stream": "stdout",
       "text": [
        " 5\n",
        "Training   Error = \t0.0784578506036\n",
        "Validation Error = \t0.0887104986811\n",
        "Epoch="
       ]
      },
      {
       "output_type": "stream",
       "stream": "stdout",
       "text": [
        " 6\n",
        "Training   Error = \t0.0748556409678\n",
        "Validation Error = \t0.0868620427052\n",
        "Epoch="
       ]
      },
      {
       "output_type": "stream",
       "stream": "stdout",
       "text": [
        " 7\n",
        "Training   Error = \t0.0718899168054\n",
        "Validation Error = \t0.0918847462755\n",
        "Epoch="
       ]
      },
      {
       "output_type": "stream",
       "stream": "stdout",
       "text": [
        " 8\n",
        "Training   Error = \t0.0693653582426\n",
        "Validation Error = \t0.0868428817872\n",
        "Epoch="
       ]
      },
      {
       "output_type": "stream",
       "stream": "stdout",
       "text": [
        " 9\n",
        "Training   Error = \t0.0674104960444\n",
        "Validation Error = \t0.0910933495399\n",
        "Epoch="
       ]
      },
      {
       "output_type": "stream",
       "stream": "stdout",
       "text": [
        " 10\n",
        "Training   Error = \t0.0655348945093\n",
        "Validation Error = \t0.0850944206062\n",
        "Epoch="
       ]
      },
      {
       "output_type": "stream",
       "stream": "stdout",
       "text": [
        " 11\n",
        "Training   Error = \t0.0643882657071\n",
        "Validation Error = \t0.0857733076952\n",
        "Epoch="
       ]
      },
      {
       "output_type": "stream",
       "stream": "stdout",
       "text": [
        " 12\n",
        "Training   Error = \t0.0630640346023\n",
        "Validation Error = \t0.0850704739587\n",
        "Epoch="
       ]
      },
      {
       "output_type": "stream",
       "stream": "stdout",
       "text": [
        " 13\n",
        "Training   Error = \t0.0619822955823\n",
        "Validation Error = \t0.0854828684149\n",
        "Epoch="
       ]
      },
      {
       "output_type": "stream",
       "stream": "stdout",
       "text": [
        " 14\n",
        "Training   Error = \t0.060972120661\n",
        "Validation Error = \t0.0860080336807\n",
        "Epoch="
       ]
      },
      {
       "output_type": "stream",
       "stream": "stdout",
       "text": [
        " 15\n",
        "Training   Error = \t0.0599276513724\n",
        "Validation Error = \t0.0935211501799\n",
        "Epoch="
       ]
      },
      {
       "output_type": "stream",
       "stream": "stdout",
       "text": [
        " 16\n",
        "Training   Error = \t0.0590991433939\n",
        "Validation Error = \t0.0915165787383\n",
        "Epoch="
       ]
      },
      {
       "output_type": "stream",
       "stream": "stdout",
       "text": [
        " 17\n",
        "Training   Error = \t0.0582596571612\n",
        "Validation Error = \t0.0903278904508\n",
        "Epoch="
       ]
      },
      {
       "output_type": "stream",
       "stream": "stdout",
       "text": [
        " 18\n",
        "Training   Error = \t0.0576829850374\n",
        "Validation Error = \t0.089559091041\n",
        "Epoch="
       ]
      },
      {
       "output_type": "stream",
       "stream": "stdout",
       "text": [
        " 19\n",
        "Training   Error = \t0.0568854372357\n",
        "Validation Error = \t0.0884156712175\n",
        "Epoch="
       ]
      },
      {
       "output_type": "stream",
       "stream": "stdout",
       "text": [
        " 20\n",
        "Training   Error = \t0.0563030623031\n",
        "Validation Error = \t0.0898781719785\n",
        "Samples="
       ]
      },
      {
       "output_type": "stream",
       "stream": "stdout",
       "text": [
        " 80000     Hidden Layers= 10    Hidden Neurons= 100    F.O.M.= 0.7492625    Time= 864.0\n",
        "Epoch="
       ]
      },
      {
       "output_type": "stream",
       "stream": "stdout",
       "text": [
        " 1\n",
        "Training   Error = \t0.183847355511\n",
        "Validation Error = \t0.28087574432\n",
        "Epoch="
       ]
      },
      {
       "output_type": "stream",
       "stream": "stdout",
       "text": [
        " 2\n",
        "Training   Error = \t0.102079103395\n",
        "Validation Error = \t0.1140810596\n",
        "Epoch="
       ]
      },
      {
       "output_type": "stream",
       "stream": "stdout",
       "text": [
        " 3\n",
        "Training   Error = \t0.0896129166142\n",
        "Validation Error = \t0.0961142073415\n",
        "Epoch="
       ]
      },
      {
       "output_type": "stream",
       "stream": "stdout",
       "text": [
        " 4\n",
        "Training   Error = \t0.0823673666774\n",
        "Validation Error = \t0.0971395987015\n",
        "Epoch="
       ]
      },
      {
       "output_type": "stream",
       "stream": "stdout",
       "text": [
        " 5\n",
        "Training   Error = \t0.0774493762865\n",
        "Validation Error = \t0.0872555380851\n",
        "Epoch="
       ]
      },
      {
       "output_type": "stream",
       "stream": "stdout",
       "text": [
        " 6\n",
        "Training   Error = \t0.0742577049747\n",
        "Validation Error = \t0.0913238296997\n",
        "Epoch="
       ]
      },
      {
       "output_type": "stream",
       "stream": "stdout",
       "text": [
        " 7\n",
        "Training   Error = \t0.071490126392\n",
        "Validation Error = \t0.0825927112678\n",
        "Epoch="
       ]
      },
      {
       "output_type": "stream",
       "stream": "stdout",
       "text": [
        " 8\n",
        "Training   Error = \t0.0692991964074\n",
        "Validation Error = \t0.0819173643407\n",
        "Epoch="
       ]
      },
      {
       "output_type": "stream",
       "stream": "stdout",
       "text": [
        " 9\n",
        "Training   Error = \t0.0676669467454\n",
        "Validation Error = \t0.0902784774324\n",
        "Epoch="
       ]
      },
      {
       "output_type": "stream",
       "stream": "stdout",
       "text": [
        " 10\n",
        "Training   Error = \t0.0663332254126\n",
        "Validation Error = \t0.0874539914756\n",
        "Epoch="
       ]
      },
      {
       "output_type": "stream",
       "stream": "stdout",
       "text": [
        " 11\n",
        "Training   Error = \t0.0650844163537\n",
        "Validation Error = \t0.0815838924988\n",
        "Epoch="
       ]
      },
      {
       "output_type": "stream",
       "stream": "stdout",
       "text": [
        " 12\n",
        "Training   Error = \t0.0640270133635\n",
        "Validation Error = \t0.081854571646\n",
        "Epoch="
       ]
      },
      {
       "output_type": "stream",
       "stream": "stdout",
       "text": [
        " 13\n",
        "Training   Error = \t0.0629571132536\n",
        "Validation Error = \t0.0832330976064\n",
        "Epoch="
       ]
      },
      {
       "output_type": "stream",
       "stream": "stdout",
       "text": [
        " 14\n",
        "Training   Error = \t0.0618713975343\n",
        "Validation Error = \t0.0828832619077\n",
        "Epoch="
       ]
      },
      {
       "output_type": "stream",
       "stream": "stdout",
       "text": [
        " 15\n",
        "Training   Error = \t0.0610841018975\n",
        "Validation Error = \t0.0830993309042\n",
        "Epoch="
       ]
      },
      {
       "output_type": "stream",
       "stream": "stdout",
       "text": [
        " 16\n",
        "Training   Error = \t0.060006371374\n",
        "Validation Error = \t0.0848988043408\n",
        "Epoch="
       ]
      },
      {
       "output_type": "stream",
       "stream": "stdout",
       "text": [
        " 17\n",
        "Training   Error = \t0.0596183598093\n",
        "Validation Error = \t0.0843936152596\n",
        "Epoch="
       ]
      },
      {
       "output_type": "stream",
       "stream": "stdout",
       "text": [
        " 18\n",
        "Training   Error = \t0.0587017059299\n",
        "Validation Error = \t0.0866071138597\n",
        "Epoch="
       ]
      },
      {
       "output_type": "stream",
       "stream": "stdout",
       "text": [
        " 19\n",
        "Training   Error = \t0.0579885705604\n",
        "Validation Error = \t0.0910837939952\n",
        "Epoch="
       ]
      },
      {
       "output_type": "stream",
       "stream": "stdout",
       "text": [
        " 20\n",
        "Training   Error = \t0.0577542392423\n",
        "Validation Error = \t0.0888660304624\n",
        "Samples="
       ]
      },
      {
       "output_type": "stream",
       "stream": "stdout",
       "text": [
        " 90000     Hidden Layers= 10    Hidden Neurons= 100    F.O.M.= 0.746833333333    Time= 1003.0\n",
        "Epoch="
       ]
      },
      {
       "output_type": "stream",
       "stream": "stdout",
       "text": [
        " 1\n",
        "Training   Error = \t0.178401825446\n",
        "Validation Error = \t0.249963570432\n",
        "Epoch="
       ]
      },
      {
       "output_type": "stream",
       "stream": "stdout",
       "text": [
        " 2\n",
        "Training   Error = \t0.082044018074\n",
        "Validation Error = \t0.120013329887\n",
        "Epoch="
       ]
      },
      {
       "output_type": "stream",
       "stream": "stdout",
       "text": [
        " 3\n",
        "Training   Error = \t0.0559221733126\n",
        "Validation Error = \t0.113955413466\n",
        "Epoch="
       ]
      },
      {
       "output_type": "stream",
       "stream": "stdout",
       "text": [
        " 4\n",
        "Training   Error = \t0.0385327206856\n",
        "Validation Error = \t0.106138064981\n",
        "Epoch="
       ]
      },
      {
       "output_type": "stream",
       "stream": "stdout",
       "text": [
        " 5\n",
        "Training   Error = \t0.0263891812887\n",
        "Validation Error = \t0.107854531049\n",
        "Epoch="
       ]
      },
      {
       "output_type": "stream",
       "stream": "stdout",
       "text": [
        " 6\n",
        "Training   Error = \t0.0183735257659\n",
        "Validation Error = \t0.111687161898\n",
        "Epoch="
       ]
      },
      {
       "output_type": "stream",
       "stream": "stdout",
       "text": [
        " 7\n",
        "Training   Error = \t0.0133215665858\n",
        "Validation Error = \t0.114008627834\n",
        "Epoch="
       ]
      },
      {
       "output_type": "stream",
       "stream": "stdout",
       "text": [
        " 8\n",
        "Training   Error = \t0.0105425724658\n",
        "Validation Error = \t0.141536646146\n",
        "Epoch="
       ]
      },
      {
       "output_type": "stream",
       "stream": "stdout",
       "text": [
        " 9\n",
        "Training   Error = \t0.00826696945613\n",
        "Validation Error = \t0.118825545543\n",
        "Epoch="
       ]
      },
      {
       "output_type": "stream",
       "stream": "stdout",
       "text": [
        " 10\n",
        "Training   Error = \t0.00693719182551\n",
        "Validation Error = \t0.122885319071\n",
        "Epoch="
       ]
      },
      {
       "output_type": "stream",
       "stream": "stdout",
       "text": [
        " 11\n",
        "Training   Error = \t0.00562817930015\n",
        "Validation Error = \t0.123214868628\n",
        "Epoch="
       ]
      },
      {
       "output_type": "stream",
       "stream": "stdout",
       "text": [
        " 12\n",
        "Training   Error = \t0.00507853188772\n",
        "Validation Error = \t0.125529758122\n",
        "Epoch="
       ]
      },
      {
       "output_type": "stream",
       "stream": "stdout",
       "text": [
        " 13\n",
        "Training   Error = \t0.00469029919334\n",
        "Validation Error = \t0.125835228192\n",
        "Epoch="
       ]
      },
      {
       "output_type": "stream",
       "stream": "stdout",
       "text": [
        " 14\n",
        "Training   Error = \t0.00394258169805\n",
        "Validation Error = \t0.126744924744\n",
        "Epoch="
       ]
      },
      {
       "output_type": "stream",
       "stream": "stdout",
       "text": [
        " 15\n",
        "Training   Error = \t0.00324085956566\n",
        "Validation Error = \t0.12826721769\n",
        "Epoch="
       ]
      },
      {
       "output_type": "stream",
       "stream": "stdout",
       "text": [
        " 16\n",
        "Training   Error = \t0.00379261498229\n",
        "Validation Error = \t0.128779078103\n",
        "Epoch="
       ]
      },
      {
       "output_type": "stream",
       "stream": "stdout",
       "text": [
        " 17\n",
        "Training   Error = \t0.00316215330848\n",
        "Validation Error = \t0.130079887978\n",
        "Epoch="
       ]
      },
      {
       "output_type": "stream",
       "stream": "stdout",
       "text": [
        " 18\n",
        "Training   Error = \t0.00298838247356\n",
        "Validation Error = \t0.129870872305\n",
        "Epoch="
       ]
      },
      {
       "output_type": "stream",
       "stream": "stdout",
       "text": [
        " 19\n",
        "Training   Error = \t0.00307648216716\n",
        "Validation Error = \t0.13191952639\n",
        "Epoch="
       ]
      },
      {
       "output_type": "stream",
       "stream": "stdout",
       "text": [
        " 20\n",
        "Training   Error = \t0.0023741633551\n",
        "Validation Error = \t0.132747494791\n",
        "Samples="
       ]
      },
      {
       "output_type": "stream",
       "stream": "stdout",
       "text": [
        " 10000     Hidden Layers= 10    Hidden Neurons= 200    F.O.M.= 0.7985    Time= 1920.0\n",
        "Epoch="
       ]
      },
      {
       "output_type": "stream",
       "stream": "stdout",
       "text": [
        " 1\n",
        "Training   Error = \t0.189210918075\n",
        "Validation Error = \t0.247355010306\n",
        "Epoch="
       ]
      },
      {
       "output_type": "stream",
       "stream": "stdout",
       "text": [
        " 2\n",
        "Training   Error = \t0.0975843189158\n",
        "Validation Error = \t0.124901183177\n",
        "Epoch="
       ]
      },
      {
       "output_type": "stream",
       "stream": "stdout",
       "text": [
        " 3\n",
        "Training   Error = \t0.077078573323\n",
        "Validation Error = \t0.103517066342\n",
        "Epoch="
       ]
      },
      {
       "output_type": "stream",
       "stream": "stdout",
       "text": [
        " 4\n",
        "Training   Error = \t0.0629832389721\n",
        "Validation Error = \t0.103856995448\n",
        "Epoch="
       ]
      },
      {
       "output_type": "stream",
       "stream": "stdout",
       "text": [
        " 5\n",
        "Training   Error = \t0.0521557173284\n",
        "Validation Error = \t0.0998954713011\n",
        "Epoch="
       ]
      },
      {
       "output_type": "stream",
       "stream": "stdout",
       "text": [
        " 6\n",
        "Training   Error = \t0.0439244752583\n",
        "Validation Error = \t0.0991451871511\n",
        "Epoch="
       ]
      },
      {
       "output_type": "stream",
       "stream": "stdout",
       "text": [
        " 7\n",
        "Training   Error = \t0.0369346960157\n",
        "Validation Error = \t0.105808036231\n",
        "Epoch="
       ]
      },
      {
       "output_type": "stream",
       "stream": "stdout",
       "text": [
        " 8\n",
        "Training   Error = \t0.0316083425519\n",
        "Validation Error = \t0.103298838292\n",
        "Epoch="
       ]
      },
      {
       "output_type": "stream",
       "stream": "stdout",
       "text": [
        " 9\n",
        "Training   Error = \t0.0266618688787\n",
        "Validation Error = \t0.106563934496\n",
        "Epoch="
       ]
      },
      {
       "output_type": "stream",
       "stream": "stdout",
       "text": [
        " 10\n",
        "Training   Error = \t0.0231072417353\n",
        "Validation Error = \t0.112000264262\n",
        "Epoch="
       ]
      },
      {
       "output_type": "stream",
       "stream": "stdout",
       "text": [
        " 11\n",
        "Training   Error = \t0.0195080164122\n",
        "Validation Error = \t0.109927476904\n",
        "Epoch="
       ]
      },
      {
       "output_type": "stream",
       "stream": "stdout",
       "text": [
        " 12\n",
        "Training   Error = \t0.0173468369923\n",
        "Validation Error = \t0.113560918312\n",
        "Epoch="
       ]
      },
      {
       "output_type": "stream",
       "stream": "stdout",
       "text": [
        " 13\n",
        "Training   Error = \t0.0150875664235\n",
        "Validation Error = \t0.114889289949\n",
        "Epoch="
       ]
      },
      {
       "output_type": "stream",
       "stream": "stdout",
       "text": [
        " 14\n",
        "Training   Error = \t0.0137696294363\n",
        "Validation Error = \t0.117547519596\n",
        "Epoch="
       ]
      },
      {
       "output_type": "stream",
       "stream": "stdout",
       "text": [
        " 15\n",
        "Training   Error = \t0.0123645228793\n",
        "Validation Error = \t0.118603623319\n",
        "Epoch="
       ]
      },
      {
       "output_type": "stream",
       "stream": "stdout",
       "text": [
        " 16\n",
        "Training   Error = \t0.0112735098254\n",
        "Validation Error = \t0.120196653432\n",
        "Epoch="
       ]
      },
      {
       "output_type": "stream",
       "stream": "stdout",
       "text": [
        " 17\n",
        "Training   Error = \t0.0103439919984\n",
        "Validation Error = \t0.122660140054\n",
        "Epoch="
       ]
      },
      {
       "output_type": "stream",
       "stream": "stdout",
       "text": [
        " 18\n",
        "Training   Error = \t0.00962113301381\n",
        "Validation Error = \t0.123578917396\n",
        "Epoch="
       ]
      },
      {
       "output_type": "stream",
       "stream": "stdout",
       "text": [
        " 19\n",
        "Training   Error = \t0.00887983620107\n",
        "Validation Error = \t0.124547498968\n",
        "Epoch="
       ]
      },
      {
       "output_type": "stream",
       "stream": "stdout",
       "text": [
        " 20\n",
        "Training   Error = \t0.00806558327646\n",
        "Validation Error = \t0.124656871171\n",
        "Samples="
       ]
      },
      {
       "output_type": "stream",
       "stream": "stdout",
       "text": [
        " 20000     Hidden Layers= 10    Hidden Neurons= 200    F.O.M.= 0.79685    Time= 1677.0\n",
        "Epoch="
       ]
      },
      {
       "output_type": "stream",
       "stream": "stdout",
       "text": [
        " 1\n",
        "Training   Error = \t0.184548631643\n",
        "Validation Error = \t0.338109734101\n",
        "Epoch="
       ]
      },
      {
       "output_type": "stream",
       "stream": "stdout",
       "text": [
        " 2\n",
        "Training   Error = \t0.0978884210069\n",
        "Validation Error = \t0.115139728998\n",
        "Epoch="
       ]
      },
      {
       "output_type": "stream",
       "stream": "stdout",
       "text": [
        " 3\n",
        "Training   Error = \t0.0814379328638\n",
        "Validation Error = \t0.09414491189\n",
        "Epoch="
       ]
      },
      {
       "output_type": "stream",
       "stream": "stdout",
       "text": [
        " 4\n",
        "Training   Error = \t0.0700338744345\n",
        "Validation Error = \t0.0886773105145\n",
        "Epoch="
       ]
      },
      {
       "output_type": "stream",
       "stream": "stdout",
       "text": [
        " 5\n",
        "Training   Error = \t0.0611231582849\n",
        "Validation Error = \t0.0885380893177\n",
        "Epoch="
       ]
      },
      {
       "output_type": "stream",
       "stream": "stdout",
       "text": [
        " 6\n",
        "Training   Error = \t0.0537430755399\n",
        "Validation Error = \t0.0857624776089\n",
        "Epoch="
       ]
      },
      {
       "output_type": "stream",
       "stream": "stdout",
       "text": [
        " 7\n",
        "Training   Error = \t0.0479288124701\n",
        "Validation Error = \t0.0894590692327\n",
        "Epoch="
       ]
      },
      {
       "output_type": "stream",
       "stream": "stdout",
       "text": [
        " 8\n",
        "Training   Error = \t0.0426533076107\n",
        "Validation Error = \t0.0942346858921\n",
        "Epoch="
       ]
      },
      {
       "output_type": "stream",
       "stream": "stdout",
       "text": [
        " 9\n",
        "Training   Error = \t0.0384013820312\n",
        "Validation Error = \t0.0930156734891\n",
        "Epoch="
       ]
      },
      {
       "output_type": "stream",
       "stream": "stdout",
       "text": [
        " 10\n",
        "Training   Error = \t0.0344312403412\n",
        "Validation Error = \t0.0890356477506\n",
        "Epoch="
       ]
      },
      {
       "output_type": "stream",
       "stream": "stdout",
       "text": [
        " 11\n",
        "Training   Error = \t0.0312823570285\n",
        "Validation Error = \t0.100874188669\n",
        "Epoch="
       ]
      },
      {
       "output_type": "stream",
       "stream": "stdout",
       "text": [
        " 12\n",
        "Training   Error = \t0.0284802961838\n",
        "Validation Error = \t0.0933528274009\n",
        "Epoch="
       ]
      },
      {
       "output_type": "stream",
       "stream": "stdout",
       "text": [
        " 13\n",
        "Training   Error = \t0.0255924976724\n",
        "Validation Error = \t0.0951265459899\n",
        "Epoch="
       ]
      },
      {
       "output_type": "stream",
       "stream": "stdout",
       "text": [
        " 14\n",
        "Training   Error = \t0.0233089911788\n",
        "Validation Error = \t0.0986487393888\n",
        "Epoch="
       ]
      },
      {
       "output_type": "stream",
       "stream": "stdout",
       "text": [
        " 15\n",
        "Training   Error = \t0.0215528829679\n",
        "Validation Error = \t0.0984900889787\n",
        "Epoch="
       ]
      },
      {
       "output_type": "stream",
       "stream": "stdout",
       "text": [
        " 16\n",
        "Training   Error = \t0.0195294453143\n",
        "Validation Error = \t0.100342153806\n",
        "Epoch="
       ]
      },
      {
       "output_type": "stream",
       "stream": "stdout",
       "text": [
        " 17\n",
        "Training   Error = \t0.0181085508904\n",
        "Validation Error = \t0.101722430006\n",
        "Epoch="
       ]
      },
      {
       "output_type": "stream",
       "stream": "stdout",
       "text": [
        " 18\n",
        "Training   Error = \t0.0168214111194\n",
        "Validation Error = \t0.103578185456\n",
        "Epoch="
       ]
      },
      {
       "output_type": "stream",
       "stream": "stdout",
       "text": [
        " 19\n",
        "Training   Error = \t0.0158914907162\n",
        "Validation Error = \t0.104479185252\n",
        "Epoch="
       ]
      },
      {
       "output_type": "stream",
       "stream": "stdout",
       "text": [
        " 20\n",
        "Training   Error = \t0.0148617145339\n",
        "Validation Error = \t0.105616564011\n",
        "Samples="
       ]
      },
      {
       "output_type": "stream",
       "stream": "stdout",
       "text": [
        " 30000     Hidden Layers= 10    Hidden Neurons= 200    F.O.M.= 0.7938    Time= 1988.0\n",
        "Epoch="
       ]
      },
      {
       "output_type": "stream",
       "stream": "stdout",
       "text": [
        " 1\n",
        "Training   Error = \t0.188259154496\n",
        "Validation Error = \t0.357998638601\n",
        "Epoch="
       ]
      },
      {
       "output_type": "stream",
       "stream": "stdout",
       "text": [
        " 2\n",
        "Training   Error = \t0.100872364313\n",
        "Validation Error = \t0.114488591487\n",
        "Epoch="
       ]
      },
      {
       "output_type": "stream",
       "stream": "stdout",
       "text": [
        " 3\n",
        "Training   Error = \t0.0842192557415\n",
        "Validation Error = \t0.100117105485\n",
        "Epoch="
       ]
      },
      {
       "output_type": "stream",
       "stream": "stdout",
       "text": [
        " 4\n",
        "Training   Error = \t0.0742383456839\n",
        "Validation Error = \t0.102010844152\n",
        "Epoch="
       ]
      },
      {
       "output_type": "stream",
       "stream": "stdout",
       "text": [
        " 5\n",
        "Training   Error = \t0.0666744331136\n",
        "Validation Error = \t0.0848491896682\n",
        "Epoch="
       ]
      },
      {
       "output_type": "stream",
       "stream": "stdout",
       "text": [
        " 6\n",
        "Training   Error = \t0.0603759668608\n",
        "Validation Error = \t0.0851056635545\n",
        "Epoch="
       ]
      },
      {
       "output_type": "stream",
       "stream": "stdout",
       "text": [
        " 7\n",
        "Training   Error = \t0.0551005273708\n",
        "Validation Error = \t0.0836949056644\n",
        "Epoch="
       ]
      },
      {
       "output_type": "stream",
       "stream": "stdout",
       "text": [
        " 8\n",
        "Training   Error = \t0.0509890374997\n",
        "Validation Error = \t0.092555806808\n",
        "Epoch="
       ]
      },
      {
       "output_type": "stream",
       "stream": "stdout",
       "text": [
        " 9\n",
        "Training   Error = \t0.0466499112141\n",
        "Validation Error = \t0.0861393807257\n",
        "Epoch="
       ]
      },
      {
       "output_type": "stream",
       "stream": "stdout",
       "text": [
        " 10\n",
        "Training   Error = \t0.0435136295363\n",
        "Validation Error = \t0.0922722686292\n",
        "Epoch="
       ]
      },
      {
       "output_type": "stream",
       "stream": "stdout",
       "text": [
        " 11\n",
        "Training   Error = \t0.0404809895375\n",
        "Validation Error = \t0.0881699958848\n",
        "Epoch="
       ]
      },
      {
       "output_type": "stream",
       "stream": "stdout",
       "text": [
        " 12\n",
        "Training   Error = \t0.037459838741\n",
        "Validation Error = \t0.0899464966011\n",
        "Epoch="
       ]
      },
      {
       "output_type": "stream",
       "stream": "stdout",
       "text": [
        " 13\n",
        "Training   Error = \t0.0351629969801\n",
        "Validation Error = \t0.0976624375079\n",
        "Epoch="
       ]
      },
      {
       "output_type": "stream",
       "stream": "stdout",
       "text": [
        " 14\n",
        "Training   Error = \t0.0329984055962\n",
        "Validation Error = \t0.0997915687884\n",
        "Epoch="
       ]
      },
      {
       "output_type": "stream",
       "stream": "stdout",
       "text": [
        " 15\n",
        "Training   Error = \t0.0310460625171\n",
        "Validation Error = \t0.0991311083644\n",
        "Epoch="
       ]
      },
      {
       "output_type": "stream",
       "stream": "stdout",
       "text": [
        " 16\n",
        "Training   Error = \t0.0293016482602\n",
        "Validation Error = \t0.0982178212267\n",
        "Epoch="
       ]
      },
      {
       "output_type": "stream",
       "stream": "stdout",
       "text": [
        " 17\n",
        "Training   Error = \t0.0272487212628\n",
        "Validation Error = \t0.0981971318188\n",
        "Epoch="
       ]
      },
      {
       "output_type": "stream",
       "stream": "stdout",
       "text": [
        " 18\n",
        "Training   Error = \t0.0262937835363\n",
        "Validation Error = \t0.106041464736\n",
        "Epoch="
       ]
      },
      {
       "output_type": "stream",
       "stream": "stdout",
       "text": [
        " 19\n",
        "Training   Error = \t0.0243768138292\n",
        "Validation Error = \t0.101412309422\n",
        "Epoch="
       ]
      },
      {
       "output_type": "stream",
       "stream": "stdout",
       "text": [
        " 20\n",
        "Training   Error = \t0.023182664497\n",
        "Validation Error = \t0.117852931871\n",
        "Samples="
       ]
      },
      {
       "output_type": "stream",
       "stream": "stdout",
       "text": [
        " 40000     Hidden Layers= 10    Hidden Neurons= 200    F.O.M.= 0.787875    Time= 1644.0\n",
        "Epoch="
       ]
      },
      {
       "output_type": "stream",
       "stream": "stdout",
       "text": [
        " 1\n",
        "Training   Error = \t0.18908991452\n",
        "Validation Error = \t0.374963685494\n",
        "Epoch="
       ]
      },
      {
       "output_type": "stream",
       "stream": "stdout",
       "text": [
        " 2\n",
        "Training   Error = \t0.101935128487\n",
        "Validation Error = \t0.119848098263\n",
        "Epoch="
       ]
      },
      {
       "output_type": "stream",
       "stream": "stdout",
       "text": [
        " 3\n",
        "Training   Error = \t0.087417622444\n",
        "Validation Error = \t0.102810801735\n",
        "Epoch="
       ]
      },
      {
       "output_type": "stream",
       "stream": "stdout",
       "text": [
        " 4\n",
        "Training   Error = \t0.0783010829064\n",
        "Validation Error = \t0.0933246229577\n",
        "Epoch="
       ]
      },
      {
       "output_type": "stream",
       "stream": "stdout",
       "text": [
        " 5\n",
        "Training   Error = \t0.0712068449858\n",
        "Validation Error = \t0.0922044461708\n",
        "Epoch="
       ]
      },
      {
       "output_type": "stream",
       "stream": "stdout",
       "text": [
        " 6\n",
        "Training   Error = \t0.0655536240457\n",
        "Validation Error = \t0.0954270768232\n",
        "Epoch="
       ]
      },
      {
       "output_type": "stream",
       "stream": "stdout",
       "text": [
        " 7\n",
        "Training   Error = \t0.0605561559602\n",
        "Validation Error = \t0.0896255937919\n",
        "Epoch="
       ]
      },
      {
       "output_type": "stream",
       "stream": "stdout",
       "text": [
        " 8\n",
        "Training   Error = \t0.0564387816089\n",
        "Validation Error = \t0.0942084709114\n",
        "Epoch="
       ]
      },
      {
       "output_type": "stream",
       "stream": "stdout",
       "text": [
        " 9\n",
        "Training   Error = \t0.0533332632621\n",
        "Validation Error = \t0.0986656253457\n",
        "Epoch="
       ]
      },
      {
       "output_type": "stream",
       "stream": "stdout",
       "text": [
        " 10\n",
        "Training   Error = \t0.0502011463307\n",
        "Validation Error = \t0.0875428515331\n",
        "Epoch="
       ]
      },
      {
       "output_type": "stream",
       "stream": "stdout",
       "text": [
        " 11\n",
        "Training   Error = \t0.0472885244998\n",
        "Validation Error = \t0.100141118559\n",
        "Epoch="
       ]
      },
      {
       "output_type": "stream",
       "stream": "stdout",
       "text": [
        " 12\n",
        "Training   Error = \t0.044852647952\n",
        "Validation Error = \t0.0895845761159\n",
        "Epoch="
       ]
      },
      {
       "output_type": "stream",
       "stream": "stdout",
       "text": [
        " 13\n",
        "Training   Error = \t0.0424295308298\n",
        "Validation Error = \t0.0924565795874\n",
        "Epoch="
       ]
      },
      {
       "output_type": "stream",
       "stream": "stdout",
       "text": [
        " 14\n",
        "Training   Error = \t0.0404552365782\n",
        "Validation Error = \t0.0938862250131\n",
        "Epoch="
       ]
      },
      {
       "output_type": "stream",
       "stream": "stdout",
       "text": [
        " 15\n",
        "Training   Error = \t0.0385395323804\n",
        "Validation Error = \t0.108888740672\n",
        "Epoch="
       ]
      },
      {
       "output_type": "stream",
       "stream": "stdout",
       "text": [
        " 16\n",
        "Training   Error = \t0.0366112977431\n",
        "Validation Error = \t0.0944875988093\n",
        "Epoch="
       ]
      },
      {
       "output_type": "stream",
       "stream": "stdout",
       "text": [
        " 17\n",
        "Training   Error = \t0.0350564065912\n",
        "Validation Error = \t0.0963152664351\n",
        "Epoch="
       ]
      },
      {
       "output_type": "stream",
       "stream": "stdout",
       "text": [
        " 18\n",
        "Training   Error = \t0.033264250846\n",
        "Validation Error = \t0.0963853390075\n",
        "Epoch="
       ]
      },
      {
       "output_type": "stream",
       "stream": "stdout",
       "text": [
        " 19\n",
        "Training   Error = \t0.0319730961544\n",
        "Validation Error = \t0.0980281003353\n",
        "Epoch="
       ]
      },
      {
       "output_type": "stream",
       "stream": "stdout",
       "text": [
        " 20\n",
        "Training   Error = \t0.0307163403706\n",
        "Validation Error = \t0.0988587871239\n",
        "Samples="
       ]
      },
      {
       "output_type": "stream",
       "stream": "stdout",
       "text": [
        " 50000     Hidden Layers= 10    Hidden Neurons= 200    F.O.M.= 0.78132    Time= 1682.0\n",
        "Epoch="
       ]
      },
      {
       "output_type": "stream",
       "stream": "stdout",
       "text": [
        " 1\n",
        "Training   Error = \t0.196049799808\n",
        "Validation Error = \t0.241416117282\n",
        "Epoch="
       ]
      },
      {
       "output_type": "stream",
       "stream": "stdout",
       "text": [
        " 2\n",
        "Training   Error = \t0.104398928929\n",
        "Validation Error = \t0.123630528199\n",
        "Epoch="
       ]
      },
      {
       "output_type": "stream",
       "stream": "stdout",
       "text": [
        " 3\n",
        "Training   Error = \t0.0886085008125\n",
        "Validation Error = \t0.0998451187864\n",
        "Epoch="
       ]
      },
      {
       "output_type": "stream",
       "stream": "stdout",
       "text": [
        " 4\n",
        "Training   Error = \t0.0793752368929\n",
        "Validation Error = \t0.0926184757313\n",
        "Epoch="
       ]
      },
      {
       "output_type": "stream",
       "stream": "stdout",
       "text": [
        " 5\n",
        "Training   Error = \t0.072872967622\n",
        "Validation Error = \t0.0945309360083\n",
        "Epoch="
       ]
      },
      {
       "output_type": "stream",
       "stream": "stdout",
       "text": [
        " 6\n",
        "Training   Error = \t0.0674832567623\n",
        "Validation Error = \t0.0895413408829\n",
        "Epoch="
       ]
      },
      {
       "output_type": "stream",
       "stream": "stdout",
       "text": [
        " 7\n",
        "Training   Error = \t0.0632117663397\n",
        "Validation Error = \t0.0855507813876\n",
        "Epoch="
       ]
      },
      {
       "output_type": "stream",
       "stream": "stdout",
       "text": [
        " 8\n",
        "Training   Error = \t0.0595227408989\n",
        "Validation Error = \t0.0874528150645\n",
        "Epoch="
       ]
      },
      {
       "output_type": "stream",
       "stream": "stdout",
       "text": [
        " 9\n",
        "Training   Error = \t0.0566072940473\n",
        "Validation Error = \t0.0902155691266\n",
        "Epoch="
       ]
      },
      {
       "output_type": "stream",
       "stream": "stdout",
       "text": [
        " 10\n",
        "Training   Error = \t0.0537591568824\n",
        "Validation Error = \t0.0915627735397\n",
        "Epoch="
       ]
      },
      {
       "output_type": "stream",
       "stream": "stdout",
       "text": [
        " 11\n",
        "Training   Error = \t0.0514692173648\n",
        "Validation Error = \t0.0944380076727\n",
        "Epoch="
       ]
      },
      {
       "output_type": "stream",
       "stream": "stdout",
       "text": [
        " 12\n",
        "Training   Error = \t0.0489354880352\n",
        "Validation Error = \t0.0882893290474\n",
        "Epoch="
       ]
      },
      {
       "output_type": "stream",
       "stream": "stdout",
       "text": [
        " 13\n",
        "Training   Error = \t0.046972546393\n",
        "Validation Error = \t0.0897702148709\n",
        "Epoch="
       ]
      },
      {
       "output_type": "stream",
       "stream": "stdout",
       "text": [
        " 14\n",
        "Training   Error = \t0.0451305052447\n",
        "Validation Error = \t0.0927651888087\n",
        "Epoch="
       ]
      },
      {
       "output_type": "stream",
       "stream": "stdout",
       "text": [
        " 15\n",
        "Training   Error = \t0.0433124147574\n",
        "Validation Error = \t0.0940342615213\n",
        "Epoch="
       ]
      },
      {
       "output_type": "stream",
       "stream": "stdout",
       "text": [
        " 16\n",
        "Training   Error = \t0.0414049951935\n",
        "Validation Error = \t0.0941491995287\n",
        "Epoch="
       ]
      },
      {
       "output_type": "stream",
       "stream": "stdout",
       "text": [
        " 17\n",
        "Training   Error = \t0.039848611206\n",
        "Validation Error = \t0.0977492889567\n",
        "Epoch="
       ]
      },
      {
       "output_type": "stream",
       "stream": "stdout",
       "text": [
        " 18\n",
        "Training   Error = \t0.0385605473472\n",
        "Validation Error = \t0.0952549518089\n",
        "Epoch="
       ]
      },
      {
       "output_type": "stream",
       "stream": "stdout",
       "text": [
        " 19\n",
        "Training   Error = \t0.0370279721734\n",
        "Validation Error = \t0.101148565056\n",
        "Epoch="
       ]
      },
      {
       "output_type": "stream",
       "stream": "stdout",
       "text": [
        " 20\n",
        "Training   Error = \t0.0360177363769\n",
        "Validation Error = \t0.100564280026\n",
        "Samples="
       ]
      },
      {
       "output_type": "stream",
       "stream": "stdout",
       "text": [
        " 60000     Hidden Layers= 10    Hidden Neurons= 200    F.O.M.= 0.77495    Time= 1243.0\n",
        "Epoch="
       ]
      },
      {
       "output_type": "stream",
       "stream": "stdout",
       "text": [
        " 1\n",
        "Training   Error = \t0.18705855656\n",
        "Validation Error = \t0.250988719977\n",
        "Epoch="
       ]
      },
      {
       "output_type": "stream",
       "stream": "stdout",
       "text": [
        " 2\n",
        "Training   Error = \t0.102371917285\n",
        "Validation Error = \t0.116330935823\n",
        "Epoch="
       ]
      },
      {
       "output_type": "stream",
       "stream": "stdout",
       "text": [
        " 3\n",
        "Training   Error = \t0.0884485700604\n",
        "Validation Error = \t0.107276899546\n",
        "Epoch="
       ]
      },
      {
       "output_type": "stream",
       "stream": "stdout",
       "text": [
        " 4\n",
        "Training   Error = \t0.0793278361031\n",
        "Validation Error = \t0.0921824834271\n",
        "Epoch="
       ]
      },
      {
       "output_type": "stream",
       "stream": "stdout",
       "text": [
        " 5\n",
        "Training   Error = \t0.0729806607004\n",
        "Validation Error = \t0.08899008715\n",
        "Epoch="
       ]
      },
      {
       "output_type": "stream",
       "stream": "stdout",
       "text": [
        " 6\n",
        "Training   Error = \t0.0681652791226\n",
        "Validation Error = \t0.0859473610112\n",
        "Epoch="
       ]
      },
      {
       "output_type": "stream",
       "stream": "stdout",
       "text": [
        " 7\n",
        "Training   Error = \t0.0645921897481\n",
        "Validation Error = \t0.0840977993206\n",
        "Epoch="
       ]
      },
      {
       "output_type": "stream",
       "stream": "stdout",
       "text": [
        " 8\n",
        "Training   Error = \t0.0613650616656\n",
        "Validation Error = \t0.0883126060121\n",
        "Epoch="
       ]
      },
      {
       "output_type": "stream",
       "stream": "stdout",
       "text": [
        " 9\n",
        "Training   Error = \t0.0585895024635\n",
        "Validation Error = \t0.0879100459107\n",
        "Epoch="
       ]
      },
      {
       "output_type": "stream",
       "stream": "stdout",
       "text": [
        " 10\n",
        "Training   Error = \t0.0563268673673\n",
        "Validation Error = \t0.0855473339806\n",
        "Epoch="
       ]
      },
      {
       "output_type": "stream",
       "stream": "stdout",
       "text": [
        " 11\n",
        "Training   Error = \t0.0541227070007\n",
        "Validation Error = \t0.0841251782921\n",
        "Epoch="
       ]
      },
      {
       "output_type": "stream",
       "stream": "stdout",
       "text": [
        " 12\n",
        "Training   Error = \t0.0520092885053\n",
        "Validation Error = \t0.0941166842637\n",
        "Epoch="
       ]
      },
      {
       "output_type": "stream",
       "stream": "stdout",
       "text": [
        " 13\n",
        "Training   Error = \t0.0501682126269\n",
        "Validation Error = \t0.0874003948888\n",
        "Epoch="
       ]
      },
      {
       "output_type": "stream",
       "stream": "stdout",
       "text": [
        " 14\n",
        "Training   Error = \t0.0485473892248\n",
        "Validation Error = \t0.0871242685442\n",
        "Epoch="
       ]
      },
      {
       "output_type": "stream",
       "stream": "stdout",
       "text": [
        " 15\n",
        "Training   Error = \t0.047009285026\n",
        "Validation Error = \t0.106180793723\n",
        "Epoch="
       ]
      },
      {
       "output_type": "stream",
       "stream": "stdout",
       "text": [
        " 16\n",
        "Training   Error = \t0.0451103212982\n",
        "Validation Error = \t0.0930246071738\n",
        "Epoch="
       ]
      },
      {
       "output_type": "stream",
       "stream": "stdout",
       "text": [
        " 17\n",
        "Training   Error = \t0.0444097773934\n",
        "Validation Error = \t0.0897880799934\n",
        "Epoch="
       ]
      },
      {
       "output_type": "stream",
       "stream": "stdout",
       "text": [
        " 18\n",
        "Training   Error = \t0.0424022905675\n",
        "Validation Error = \t0.0944027822767\n",
        "Epoch="
       ]
      },
      {
       "output_type": "stream",
       "stream": "stdout",
       "text": [
        " 19\n",
        "Training   Error = \t0.0416578665863\n",
        "Validation Error = \t0.100907363606\n",
        "Epoch="
       ]
      },
      {
       "output_type": "stream",
       "stream": "stdout",
       "text": [
        " 20\n",
        "Training   Error = \t0.0400528244119\n",
        "Validation Error = \t0.0922127164942\n",
        "Samples="
       ]
      },
      {
       "output_type": "stream",
       "stream": "stdout",
       "text": [
        " 70000     Hidden Layers= 10    Hidden Neurons= 200    F.O.M.= 0.769771428571    Time= 1304.0\n",
        "Epoch="
       ]
      },
      {
       "output_type": "stream",
       "stream": "stdout",
       "text": [
        " 1\n",
        "Training   Error = \t0.196270803184\n",
        "Validation Error = \t0.43695021369\n",
        "Epoch="
       ]
      },
      {
       "output_type": "stream",
       "stream": "stdout",
       "text": [
        " 2\n",
        "Training   Error = \t0.10665839248\n",
        "Validation Error = \t0.13115852142\n",
        "Epoch="
       ]
      },
      {
       "output_type": "stream",
       "stream": "stdout",
       "text": [
        " 3\n",
        "Training   Error = \t0.0915415407784\n",
        "Validation Error = \t0.10744317778\n",
        "Epoch="
       ]
      },
      {
       "output_type": "stream",
       "stream": "stdout",
       "text": [
        " 4\n",
        "Training   Error = \t0.0829371657355\n",
        "Validation Error = \t0.09160332071\n",
        "Epoch="
       ]
      },
      {
       "output_type": "stream",
       "stream": "stdout",
       "text": [
        " 5\n",
        "Training   Error = \t0.0768717399446\n",
        "Validation Error = \t0.0892157264512\n",
        "Epoch="
       ]
      },
      {
       "output_type": "stream",
       "stream": "stdout",
       "text": [
        " 6\n",
        "Training   Error = \t0.0723283794401\n",
        "Validation Error = \t0.0838678197783\n",
        "Epoch="
       ]
      },
      {
       "output_type": "stream",
       "stream": "stdout",
       "text": [
        " 7\n",
        "Training   Error = \t0.0687419830865\n",
        "Validation Error = \t0.0825995696146\n",
        "Epoch="
       ]
      },
      {
       "output_type": "stream",
       "stream": "stdout",
       "text": [
        " 8\n",
        "Training   Error = \t0.0652717250175\n",
        "Validation Error = \t0.0820284165008\n",
        "Epoch="
       ]
      },
      {
       "output_type": "stream",
       "stream": "stdout",
       "text": [
        " 15\n",
        "Training   Error = \t0.0515843878556\n",
        "Validation Error = \t0.0917115883208\n",
        "Epoch="
       ]
      },
      {
       "output_type": "stream",
       "stream": "stdout",
       "text": [
        " 16\n",
        "Training   Error = \t0.0500354811904\n",
        "Validation Error = \t0.0861900612108\n",
        "Epoch="
       ]
      },
      {
       "output_type": "stream",
       "stream": "stdout",
       "text": [
        " 17\n",
        "Training   Error = \t0.0486241964891\n",
        "Validation Error = \t0.0917866234257\n",
        "Epoch="
       ]
      },
      {
       "output_type": "stream",
       "stream": "stdout",
       "text": [
        " 18\n",
        "Training   Error = \t0.0474823966659\n",
        "Validation Error = \t0.0903101171307\n",
        "Epoch="
       ]
      },
      {
       "output_type": "stream",
       "stream": "stdout",
       "text": [
        " 19\n",
        "Training   Error = \t0.0466140635342\n",
        "Validation Error = \t0.0983417958643\n",
        "Epoch="
       ]
      },
      {
       "output_type": "stream",
       "stream": "stdout",
       "text": [
        " 20\n",
        "Training   Error = \t0.0452205317382\n",
        "Validation Error = \t0.0921883454492\n",
        "Samples="
       ]
      },
      {
       "output_type": "stream",
       "stream": "stdout",
       "text": [
        " 80000     Hidden Layers= 10    Hidden Neurons= 200    F.O.M.= 0.7646    Time= 1526.0\n",
        "Epoch="
       ]
      },
      {
       "output_type": "stream",
       "stream": "stdout",
       "text": [
        " 1\n",
        "Training   Error = \t0.192982644926\n",
        "Validation Error = \t0.248910095783\n",
        "Epoch="
       ]
      },
      {
       "output_type": "stream",
       "stream": "stdout",
       "text": [
        " 2\n",
        "Training   Error = \t0.105239578507\n",
        "Validation Error = \t0.129547931613\n",
        "Epoch="
       ]
      },
      {
       "output_type": "stream",
       "stream": "stdout",
       "text": [
        " 3\n",
        "Training   Error = \t0.0908610567548\n",
        "Validation Error = \t0.0982233523018\n",
        "Epoch="
       ]
      },
      {
       "output_type": "stream",
       "stream": "stdout",
       "text": [
        " 4\n",
        "Training   Error = \t0.0818001032772\n",
        "Validation Error = \t0.0880438208798\n",
        "Epoch="
       ]
      },
      {
       "output_type": "stream",
       "stream": "stdout",
       "text": [
        " 5\n",
        "Training   Error = \t0.0761840065997\n",
        "Validation Error = \t0.0883702440128\n",
        "Epoch="
       ]
      },
      {
       "output_type": "stream",
       "stream": "stdout",
       "text": [
        " 6\n",
        "Training   Error = \t0.071641519635\n",
        "Validation Error = \t0.0794561855135\n",
        "Epoch="
       ]
      },
      {
       "output_type": "stream",
       "stream": "stdout",
       "text": [
        " 7\n",
        "Training   Error = \t0.0682058518245\n",
        "Validation Error = \t0.0797680650171\n",
        "Epoch="
       ]
      },
      {
       "output_type": "stream",
       "stream": "stdout",
       "text": [
        " 8\n",
        "Training   Error = \t0.065501929454\n",
        "Validation Error = \t0.088813277617\n",
        "Epoch="
       ]
      },
      {
       "output_type": "stream",
       "stream": "stdout",
       "text": [
        " 9\n",
        "Training   Error = \t0.0631554618721\n",
        "Validation Error = \t0.0783074388079\n",
        "Epoch="
       ]
      },
      {
       "output_type": "stream",
       "stream": "stdout",
       "text": [
        " 10\n",
        "Training   Error = \t0.0607199361308\n",
        "Validation Error = \t0.0768631178607\n",
        "Epoch="
       ]
      },
      {
       "output_type": "stream",
       "stream": "stdout",
       "text": [
        " 11\n",
        "Training   Error = \t0.0590225154809\n",
        "Validation Error = \t0.0769691192805\n",
        "Epoch="
       ]
      },
      {
       "output_type": "stream",
       "stream": "stdout",
       "text": [
        " 12\n",
        "Training   Error = \t0.057142658019\n",
        "Validation Error = \t0.0861703374589\n",
        "Epoch="
       ]
      },
      {
       "output_type": "stream",
       "stream": "stdout",
       "text": [
        " 13\n",
        "Training   Error = \t0.0555879391971\n",
        "Validation Error = \t0.0804936011033\n",
        "Epoch="
       ]
      },
      {
       "output_type": "stream",
       "stream": "stdout",
       "text": [
        " 14\n",
        "Training   Error = \t0.0536788157758\n",
        "Validation Error = \t0.0799092812135\n",
        "Epoch="
       ]
      },
      {
       "output_type": "stream",
       "stream": "stdout",
       "text": [
        " 15\n",
        "Training   Error = \t0.0523514107796\n",
        "Validation Error = \t0.0865675946631\n",
        "Epoch="
       ]
      },
      {
       "output_type": "stream",
       "stream": "stdout",
       "text": [
        " 16\n",
        "Training   Error = \t0.0511274792737\n",
        "Validation Error = \t0.0799703037334\n",
        "Epoch="
       ]
      },
      {
       "output_type": "stream",
       "stream": "stdout",
       "text": [
        " 17\n",
        "Training   Error = \t0.0498956161693\n",
        "Validation Error = \t0.080321804646\n",
        "Epoch="
       ]
      },
      {
       "output_type": "stream",
       "stream": "stdout",
       "text": [
        " 18\n",
        "Training   Error = \t0.0487606631806\n",
        "Validation Error = \t0.0885977832043\n",
        "Epoch="
       ]
      },
      {
       "output_type": "stream",
       "stream": "stdout",
       "text": [
        " 19\n",
        "Training   Error = \t0.0474916208892\n",
        "Validation Error = \t0.0821538892195\n",
        "Epoch="
       ]
      },
      {
       "output_type": "stream",
       "stream": "stdout",
       "text": [
        " 20\n",
        "Training   Error = \t0.0463356033479\n",
        "Validation Error = \t0.0843826244106\n",
        "Samples="
       ]
      },
      {
       "output_type": "stream",
       "stream": "stdout",
       "text": [
        " 90000     Hidden Layers= 10    Hidden Neurons= 200    F.O.M.= 0.762655555556    Time= 1419.0\n",
        "Epoch="
       ]
      },
      {
       "output_type": "stream",
       "stream": "stdout",
       "text": [
        " 1\n",
        "Training   Error = \t0.179130592771\n",
        "Validation Error = \t0.24261312476\n",
        "Epoch="
       ]
      },
      {
       "output_type": "stream",
       "stream": "stdout",
       "text": [
        " 2\n",
        "Training   Error = \t0.0830329924567\n",
        "Validation Error = \t0.114220986426\n",
        "Epoch="
       ]
      },
      {
       "output_type": "stream",
       "stream": "stdout",
       "text": [
        " 3\n",
        "Training   Error = \t0.0572502597979\n",
        "Validation Error = \t0.118827670868\n",
        "Epoch="
       ]
      },
      {
       "output_type": "stream",
       "stream": "stdout",
       "text": [
        " 4\n",
        "Training   Error = \t0.0391165952127\n",
        "Validation Error = \t0.104185179909\n",
        "Epoch="
       ]
      },
      {
       "output_type": "stream",
       "stream": "stdout",
       "text": [
        " 5\n",
        "Training   Error = \t0.0272658501358\n",
        "Validation Error = \t0.115153580087\n",
        "Epoch="
       ]
      },
      {
       "output_type": "stream",
       "stream": "stdout",
       "text": [
        " 6\n",
        "Training   Error = \t0.0183351951221\n",
        "Validation Error = \t0.105151476473\n",
        "Epoch="
       ]
      },
      {
       "output_type": "stream",
       "stream": "stdout",
       "text": [
        " 7\n",
        "Training   Error = \t0.0142313749267\n",
        "Validation Error = \t0.111019203385\n",
        "Epoch="
       ]
      },
      {
       "output_type": "stream",
       "stream": "stdout",
       "text": [
        " 8\n",
        "Training   Error = \t0.0105203969845\n",
        "Validation Error = \t0.110715254876\n",
        "Epoch="
       ]
      },
      {
       "output_type": "stream",
       "stream": "stdout",
       "text": [
        " 9\n",
        "Training   Error = \t0.00914449160484\n",
        "Validation Error = \t0.122822140783\n",
        "Epoch="
       ]
      },
      {
       "output_type": "stream",
       "stream": "stdout",
       "text": [
        " 10\n",
        "Training   Error = \t0.00701733401955\n",
        "Validation Error = \t0.117794807498\n",
        "Epoch="
       ]
      },
      {
       "output_type": "stream",
       "stream": "stdout",
       "text": [
        " 11\n",
        "Training   Error = \t0.00649574047174\n",
        "Validation Error = \t0.136009596333\n",
        "Epoch="
       ]
      },
      {
       "output_type": "stream",
       "stream": "stdout",
       "text": [
        " 12\n",
        "Training   Error = \t0.00592912481661\n",
        "Validation Error = \t0.118435553961\n",
        "Epoch="
       ]
      },
      {
       "output_type": "stream",
       "stream": "stdout",
       "text": [
        " 13\n",
        "Training   Error = \t0.0049536552416\n",
        "Validation Error = \t0.120807382111\n",
        "Epoch="
       ]
      },
      {
       "output_type": "stream",
       "stream": "stdout",
       "text": [
        " 14\n",
        "Training   Error = \t0.00455642322946\n",
        "Validation Error = \t0.119022050792\n",
        "Epoch="
       ]
      },
      {
       "output_type": "stream",
       "stream": "stdout",
       "text": [
        " 15\n",
        "Training   Error = \t0.00420244842842\n",
        "Validation Error = \t0.120999748064\n",
        "Epoch="
       ]
      },
      {
       "output_type": "stream",
       "stream": "stdout",
       "text": [
        " 16\n",
        "Training   Error = \t0.00349667286618\n",
        "Validation Error = \t0.120440526843\n",
        "Epoch="
       ]
      },
      {
       "output_type": "stream",
       "stream": "stdout",
       "text": [
        " 17\n",
        "Training   Error = \t0.00354911003133\n",
        "Validation Error = \t0.122454890078\n",
        "Epoch="
       ]
      },
      {
       "output_type": "stream",
       "stream": "stdout",
       "text": [
        " 18\n",
        "Training   Error = \t0.00349915387977\n",
        "Validation Error = \t0.121908358703\n",
        "Epoch="
       ]
      },
      {
       "output_type": "stream",
       "stream": "stdout",
       "text": [
        " 19\n",
        "Training   Error = \t0.00262808207533\n",
        "Validation Error = \t0.121066914567\n",
        "Epoch="
       ]
      },
      {
       "output_type": "stream",
       "stream": "stdout",
       "text": [
        " 20\n",
        "Training   Error = \t0.00299894475536\n",
        "Validation Error = \t0.121986337799\n",
        "Samples="
       ]
      },
      {
       "output_type": "stream",
       "stream": "stdout",
       "text": [
        " 10000     Hidden Layers= 10    Hidden Neurons= 300    F.O.M.= 0.7985    Time= 2308.0\n",
        "Epoch="
       ]
      },
      {
       "output_type": "stream",
       "stream": "stdout",
       "text": [
        " 1\n",
        "Training   Error = \t0.190159797592\n",
        "Validation Error = \t0.258984221797\n",
        "Epoch="
       ]
      },
      {
       "output_type": "stream",
       "stream": "stdout",
       "text": [
        " 2\n",
        "Training   Error = \t0.0984025569132\n",
        "Validation Error = \t0.12759236894\n",
        "Epoch="
       ]
      },
      {
       "output_type": "stream",
       "stream": "stdout",
       "text": [
        " 3\n",
        "Training   Error = \t0.0786039436794\n",
        "Validation Error = \t0.104794011305\n",
        "Epoch="
       ]
      },
      {
       "output_type": "stream",
       "stream": "stdout",
       "text": [
        " 4\n",
        "Training   Error = \t0.0641018286125\n",
        "Validation Error = \t0.100228339184\n",
        "Epoch="
       ]
      },
      {
       "output_type": "stream",
       "stream": "stdout",
       "text": [
        " 5\n",
        "Training   Error = \t0.0527508326108\n",
        "Validation Error = \t0.100467433198\n",
        "Epoch="
       ]
      },
      {
       "output_type": "stream",
       "stream": "stdout",
       "text": [
        " 6\n",
        "Training   Error = \t0.043427534381\n",
        "Validation Error = \t0.104874943802\n",
        "Epoch="
       ]
      },
      {
       "output_type": "stream",
       "stream": "stdout",
       "text": [
        " 7\n",
        "Training   Error = \t0.0358674345779\n",
        "Validation Error = \t0.100144880592\n",
        "Epoch="
       ]
      },
      {
       "output_type": "stream",
       "stream": "stdout",
       "text": [
        " 8\n",
        "Training   Error = \t0.0298028220764\n",
        "Validation Error = \t0.10235758262\n",
        "Epoch="
       ]
      },
      {
       "output_type": "stream",
       "stream": "stdout",
       "text": [
        " 9\n",
        "Training   Error = \t0.025164519215\n",
        "Validation Error = \t0.136374354514\n",
        "Epoch="
       ]
      },
      {
       "output_type": "stream",
       "stream": "stdout",
       "text": [
        " 10\n",
        "Training   Error = \t0.021165303809\n",
        "Validation Error = \t0.108144483279\n",
        "Epoch="
       ]
      },
      {
       "output_type": "stream",
       "stream": "stdout",
       "text": [
        " 11\n",
        "Training   Error = \t0.0177998276964\n",
        "Validation Error = \t0.108825146823\n",
        "Epoch="
       ]
      },
      {
       "output_type": "stream",
       "stream": "stdout",
       "text": [
        " 12\n",
        "Training   Error = \t0.015621134451\n",
        "Validation Error = \t0.121002615533\n",
        "Epoch="
       ]
      },
      {
       "output_type": "stream",
       "stream": "stdout",
       "text": [
        " 13\n",
        "Training   Error = \t0.0134482757122\n",
        "Validation Error = \t0.162598514976\n",
        "Epoch="
       ]
      },
      {
       "output_type": "stream",
       "stream": "stdout",
       "text": [
        " 14\n",
        "Training   Error = \t0.012654494802\n",
        "Validation Error = \t0.115546908443\n",
        "Epoch="
       ]
      },
      {
       "output_type": "stream",
       "stream": "stdout",
       "text": [
        " 15\n",
        "Training   Error = \t0.0104537442456\n",
        "Validation Error = \t0.116213291651\n",
        "Epoch="
       ]
      },
      {
       "output_type": "stream",
       "stream": "stdout",
       "text": [
        " 16\n",
        "Training   Error = \t0.00950357574724\n",
        "Validation Error = \t0.118500264919\n",
        "Epoch="
       ]
      },
      {
       "output_type": "stream",
       "stream": "stdout",
       "text": [
        " 17\n",
        "Training   Error = \t0.00876571273148\n",
        "Validation Error = \t0.118716716602\n",
        "Epoch="
       ]
      },
      {
       "output_type": "stream",
       "stream": "stdout",
       "text": [
        " 18\n",
        "Training   Error = \t0.00753719832223\n",
        "Validation Error = \t0.119664187441\n",
        "Epoch="
       ]
      },
      {
       "output_type": "stream",
       "stream": "stdout",
       "text": [
        " 19\n",
        "Training   Error = \t0.00741359741969\n",
        "Validation Error = \t0.121259758542\n",
        "Epoch="
       ]
      },
      {
       "output_type": "stream",
       "stream": "stdout",
       "text": [
        " 20\n",
        "Training   Error = \t0.00643078806114\n",
        "Validation Error = \t0.121118430614\n",
        "Samples="
       ]
      },
      {
       "output_type": "stream",
       "stream": "stdout",
       "text": [
        " 20000     Hidden Layers= 10    Hidden Neurons= 300    F.O.M.= 0.7978    Time= 1915.0\n",
        "Epoch="
       ]
      },
      {
       "output_type": "stream",
       "stream": "stdout",
       "text": [
        " 1\n",
        "Training   Error = \t0.194573380185\n",
        "Validation Error = \t0.398774338697\n",
        "Epoch="
       ]
      },
      {
       "output_type": "stream",
       "stream": "stdout",
       "text": [
        " 2\n",
        "Training   Error = \t0.102639916097\n",
        "Validation Error = \t0.132628603679\n",
        "Epoch="
       ]
      },
      {
       "output_type": "stream",
       "stream": "stdout",
       "text": [
        " 3\n",
        "Training   Error = \t0.0846982774746\n",
        "Validation Error = \t0.0955262266663\n",
        "Epoch="
       ]
      },
      {
       "output_type": "stream",
       "stream": "stdout",
       "text": [
        " 4\n",
        "Training   Error = \t0.0724665068022\n",
        "Validation Error = \t0.102074799877\n",
        "Epoch="
       ]
      },
      {
       "output_type": "stream",
       "stream": "stdout",
       "text": [
        " 5\n",
        "Training   Error = \t0.0630728815727\n",
        "Validation Error = \t0.0924399095129\n",
        "Epoch="
       ]
      },
      {
       "output_type": "stream",
       "stream": "stdout",
       "text": [
        " 6\n",
        "Training   Error = \t0.0555971418869\n",
        "Validation Error = \t0.0895338332211\n",
        "Epoch="
       ]
      },
      {
       "output_type": "stream",
       "stream": "stdout",
       "text": [
        " 7\n",
        "Training   Error = \t0.0488139481557\n",
        "Validation Error = \t0.0995153772592\n",
        "Epoch="
       ]
      },
      {
       "output_type": "stream",
       "stream": "stdout",
       "text": [
        " 8\n",
        "Training   Error = \t0.0430181391073\n",
        "Validation Error = \t0.0936302931149\n",
        "Epoch="
       ]
      },
      {
       "output_type": "stream",
       "stream": "stdout",
       "text": [
        " 9\n",
        "Training   Error = \t0.0379614665218\n",
        "Validation Error = \t0.10866623181\n",
        "Epoch="
       ]
      },
      {
       "output_type": "stream",
       "stream": "stdout",
       "text": [
        " 10\n",
        "Training   Error = \t0.0334517544204\n",
        "Validation Error = \t0.0953746569091\n",
        "Epoch="
       ]
      },
      {
       "output_type": "stream",
       "stream": "stdout",
       "text": [
        " 11\n",
        "Training   Error = \t0.0299628448732\n",
        "Validation Error = \t0.0962332901181\n",
        "Epoch="
       ]
      },
      {
       "output_type": "stream",
       "stream": "stdout",
       "text": [
        " 12\n",
        "Training   Error = \t0.0264568611498\n",
        "Validation Error = \t0.108073131359\n",
        "Epoch="
       ]
      },
      {
       "output_type": "stream",
       "stream": "stdout",
       "text": [
        " 13\n",
        "Training   Error = \t0.0236401097739\n",
        "Validation Error = \t0.126080064357\n",
        "Epoch="
       ]
      },
      {
       "output_type": "stream",
       "stream": "stdout",
       "text": [
        " 14\n",
        "Training   Error = \t0.021286382839\n",
        "Validation Error = \t0.103820022464\n",
        "Epoch="
       ]
      },
      {
       "output_type": "stream",
       "stream": "stdout",
       "text": [
        " 15\n",
        "Training   Error = \t0.019526872366\n",
        "Validation Error = \t0.103323420952\n",
        "Epoch="
       ]
      },
      {
       "output_type": "stream",
       "stream": "stdout",
       "text": [
        " 16\n",
        "Training   Error = \t0.0173151021066\n",
        "Validation Error = \t0.104086700754\n",
        "Epoch="
       ]
      },
      {
       "output_type": "stream",
       "stream": "stdout",
       "text": [
        " 17\n",
        "Training   Error = \t0.0159791123221\n",
        "Validation Error = \t0.119383751133\n",
        "Epoch="
       ]
      },
      {
       "output_type": "stream",
       "stream": "stdout",
       "text": [
        " 18\n",
        "Training   Error = \t0.0150656544202\n",
        "Validation Error = \t0.13278293857\n",
        "Epoch="
       ]
      },
      {
       "output_type": "stream",
       "stream": "stdout",
       "text": [
        " 19\n",
        "Training   Error = \t0.0137647166341\n",
        "Validation Error = \t0.109161952752\n",
        "Epoch="
       ]
      },
      {
       "output_type": "stream",
       "stream": "stdout",
       "text": [
        " 20\n",
        "Training   Error = \t0.012703090169\n",
        "Validation Error = \t0.110125437816\n",
        "Samples="
       ]
      },
      {
       "output_type": "stream",
       "stream": "stdout",
       "text": [
        " 30000     Hidden Layers= 10    Hidden Neurons= 300    F.O.M.= 0.7956    Time= 2262.0\n",
        "Epoch="
       ]
      },
      {
       "output_type": "stream",
       "stream": "stdout",
       "text": [
        " 1\n",
        "Training   Error = \t0.185869254617\n",
        "Validation Error = \t0.356704190134\n",
        "Epoch="
       ]
      },
      {
       "output_type": "stream",
       "stream": "stdout",
       "text": [
        " 2\n",
        "Training   Error = \t0.100985547572\n",
        "Validation Error = \t0.113201146391\n",
        "Epoch="
       ]
      },
      {
       "output_type": "stream",
       "stream": "stdout",
       "text": [
        " 3\n",
        "Training   Error = \t0.0854192026749\n",
        "Validation Error = \t0.097337126919\n",
        "Epoch="
       ]
      },
      {
       "output_type": "stream",
       "stream": "stdout",
       "text": [
        " 4\n",
        "Training   Error = \t0.0748215188984\n",
        "Validation Error = \t0.0903991894924\n",
        "Epoch="
       ]
      },
      {
       "output_type": "stream",
       "stream": "stdout",
       "text": [
        " 5\n",
        "Training   Error = \t0.0662216702714\n",
        "Validation Error = \t0.0842476262753\n",
        "Epoch="
       ]
      },
      {
       "output_type": "stream",
       "stream": "stdout",
       "text": [
        " 6\n",
        "Training   Error = \t0.0594520526051\n",
        "Validation Error = \t0.0975962006957\n",
        "Epoch="
       ]
      },
      {
       "output_type": "stream",
       "stream": "stdout",
       "text": [
        " 7\n",
        "Training   Error = \t0.053489446557\n",
        "Validation Error = \t0.082426919584\n",
        "Epoch="
       ]
      },
      {
       "output_type": "stream",
       "stream": "stdout",
       "text": [
        " 8\n",
        "Training   Error = \t0.0485834594518\n",
        "Validation Error = \t0.0902403063314\n",
        "Epoch="
       ]
      },
      {
       "output_type": "stream",
       "stream": "stdout",
       "text": [
        " 9\n",
        "Training   Error = \t0.0441825607712\n",
        "Validation Error = \t0.0839800398786\n",
        "Epoch="
       ]
      },
      {
       "output_type": "stream",
       "stream": "stdout",
       "text": [
        " 10\n",
        "Training   Error = \t0.0401065960019\n",
        "Validation Error = \t0.0947447103704\n",
        "Epoch="
       ]
      },
      {
       "output_type": "stream",
       "stream": "stdout",
       "text": [
        " 11\n",
        "Training   Error = \t0.036587396646\n",
        "Validation Error = \t0.0892378802858\n",
        "Epoch="
       ]
      },
      {
       "output_type": "stream",
       "stream": "stdout",
       "text": [
        " 12\n",
        "Training   Error = \t0.0337060282935\n",
        "Validation Error = \t0.08934856793\n",
        "Epoch="
       ]
      },
      {
       "output_type": "stream",
       "stream": "stdout",
       "text": [
        " 13\n",
        "Training   Error = \t0.0306843774131\n",
        "Validation Error = \t0.0947679383397\n",
        "Epoch="
       ]
      },
      {
       "output_type": "stream",
       "stream": "stdout",
       "text": [
        " 14\n",
        "Training   Error = \t0.0282339295553\n",
        "Validation Error = \t0.0919887965947\n",
        "Epoch="
       ]
      },
      {
       "output_type": "stream",
       "stream": "stdout",
       "text": [
        " 15\n",
        "Training   Error = \t0.0258161695409\n",
        "Validation Error = \t0.0943116587981\n",
        "Epoch="
       ]
      },
      {
       "output_type": "stream",
       "stream": "stdout",
       "text": [
        " 16\n",
        "Training   Error = \t0.0241215366481\n",
        "Validation Error = \t0.120584188051\n",
        "Epoch="
       ]
      },
      {
       "output_type": "stream",
       "stream": "stdout",
       "text": [
        " 17\n",
        "Training   Error = \t0.0218507500465\n",
        "Validation Error = \t0.0977528472513\n",
        "Epoch="
       ]
      },
      {
       "output_type": "stream",
       "stream": "stdout",
       "text": [
        " 18\n",
        "Training   Error = \t0.0209968043044\n",
        "Validation Error = \t0.100255244747\n",
        "Epoch="
       ]
      },
      {
       "output_type": "stream",
       "stream": "stdout",
       "text": [
        " 19\n",
        "Training   Error = \t0.0192050535737\n",
        "Validation Error = \t0.101241806233\n",
        "Epoch="
       ]
      },
      {
       "output_type": "stream",
       "stream": "stdout",
       "text": [
        " 20\n",
        "Training   Error = \t0.0179897509674\n",
        "Validation Error = \t0.102282181672\n",
        "Samples="
       ]
      },
      {
       "output_type": "stream",
       "stream": "stdout",
       "text": [
        " 40000     Hidden Layers= 10    Hidden Neurons= 300    F.O.M.= 0.791625    Time= 1766.0\n",
        "Epoch="
       ]
      },
      {
       "output_type": "stream",
       "stream": "stdout",
       "text": [
        " 1\n",
        "Training   Error = \t0.188304016702\n",
        "Validation Error = \t0.290066440406\n",
        "Epoch="
       ]
      },
      {
       "output_type": "stream",
       "stream": "stdout",
       "text": [
        " 2\n",
        "Training   Error = \t0.100754562753\n",
        "Validation Error = \t0.114949959491\n",
        "Epoch="
       ]
      },
      {
       "output_type": "stream",
       "stream": "stdout",
       "text": [
        " 3\n",
        "Training   Error = \t0.0859896373443\n",
        "Validation Error = \t0.0971995455875\n",
        "Epoch="
       ]
      },
      {
       "output_type": "stream",
       "stream": "stdout",
       "text": [
        " 4\n",
        "Training   Error = \t0.076377427321\n",
        "Validation Error = \t0.09320616129\n",
        "Epoch="
       ]
      },
      {
       "output_type": "stream",
       "stream": "stdout",
       "text": [
        " 5\n",
        "Training   Error = \t0.0690703796882\n",
        "Validation Error = \t0.0979836940588\n",
        "Epoch="
       ]
      },
      {
       "output_type": "stream",
       "stream": "stdout",
       "text": [
        " 6\n",
        "Training   Error = \t0.0631848112441\n",
        "Validation Error = \t0.0980131666919\n",
        "Epoch="
       ]
      },
      {
       "output_type": "stream",
       "stream": "stdout",
       "text": [
        " 7\n",
        "Training   Error = \t0.0581149114268\n",
        "Validation Error = \t0.0913399714528\n",
        "Epoch="
       ]
      },
      {
       "output_type": "stream",
       "stream": "stdout",
       "text": [
        " 8\n",
        "Training   Error = \t0.0540811804489\n",
        "Validation Error = \t0.0865651575567\n",
        "Epoch="
       ]
      },
      {
       "output_type": "stream",
       "stream": "stdout",
       "text": [
        " 9\n",
        "Training   Error = \t0.0498191774094\n",
        "Validation Error = \t0.0857366175039\n",
        "Epoch="
       ]
      },
      {
       "output_type": "stream",
       "stream": "stdout",
       "text": [
        " 10\n",
        "Training   Error = \t0.0467606853489\n",
        "Validation Error = \t0.0925889317308\n",
        "Epoch="
       ]
      },
      {
       "output_type": "stream",
       "stream": "stdout",
       "text": [
        " 11\n",
        "Training   Error = \t0.0436699102566\n",
        "Validation Error = \t0.105001275627\n",
        "Epoch="
       ]
      },
      {
       "output_type": "stream",
       "stream": "stdout",
       "text": [
        " 12\n",
        "Training   Error = \t0.0407704633907\n",
        "Validation Error = \t0.09472164973\n",
        "Epoch="
       ]
      },
      {
       "output_type": "stream",
       "stream": "stdout",
       "text": [
        " 13\n",
        "Training   Error = \t0.0383841828076\n",
        "Validation Error = \t0.0965373354122\n",
        "Epoch="
       ]
      },
      {
       "output_type": "stream",
       "stream": "stdout",
       "text": [
        " 14\n",
        "Training   Error = \t0.0357716484297\n",
        "Validation Error = \t0.0985002249478\n",
        "Epoch="
       ]
      },
      {
       "output_type": "stream",
       "stream": "stdout",
       "text": [
        " 15\n",
        "Training   Error = \t0.0336821085709\n",
        "Validation Error = \t0.0924841939348\n",
        "Epoch="
       ]
      },
      {
       "output_type": "stream",
       "stream": "stdout",
       "text": [
        " 16\n",
        "Training   Error = \t0.0317652591965\n",
        "Validation Error = \t0.111967173728\n",
        "Epoch="
       ]
      },
      {
       "output_type": "stream",
       "stream": "stdout",
       "text": [
        " 17\n",
        "Training   Error = \t0.0299469779439\n",
        "Validation Error = \t0.09452763416\n",
        "Epoch="
       ]
      },
      {
       "output_type": "stream",
       "stream": "stdout",
       "text": [
        " 18\n",
        "Training   Error = \t0.0280492943127\n",
        "Validation Error = \t0.0992426767905\n",
        "Epoch="
       ]
      },
      {
       "output_type": "stream",
       "stream": "stdout",
       "text": [
        " 19\n",
        "Training   Error = \t0.0266319935001\n",
        "Validation Error = \t0.0971165813515\n",
        "Epoch="
       ]
      },
      {
       "output_type": "stream",
       "stream": "stdout",
       "text": [
        " 20\n",
        "Training   Error = \t0.0251676987729\n",
        "Validation Error = \t0.0985208627438\n",
        "Samples="
       ]
      },
      {
       "output_type": "stream",
       "stream": "stdout",
       "text": [
        " 50000     Hidden Layers= 10    Hidden Neurons= 300    F.O.M.= 0.7862    Time= 1756.0\n",
        "Epoch="
       ]
      },
      {
       "output_type": "stream",
       "stream": "stdout",
       "text": [
        " 1\n",
        "Training   Error = \t0.195840365589\n",
        "Validation Error = \t0.343738323679\n",
        "Epoch="
       ]
      },
      {
       "output_type": "stream",
       "stream": "stdout",
       "text": [
        " 2\n",
        "Training   Error = \t0.104273680096\n",
        "Validation Error = \t0.122158544787\n",
        "Epoch="
       ]
      },
      {
       "output_type": "stream",
       "stream": "stdout",
       "text": [
        " 3\n",
        "Training   Error = \t0.088961734778\n",
        "Validation Error = \t0.1046927758\n",
        "Epoch="
       ]
      },
      {
       "output_type": "stream",
       "stream": "stdout",
       "text": [
        " 4\n",
        "Training   Error = \t0.0797006938781\n",
        "Validation Error = \t0.093633313902\n",
        "Epoch="
       ]
      },
      {
       "output_type": "stream",
       "stream": "stdout",
       "text": [
        " 5\n",
        "Training   Error = \t0.0722782184889\n",
        "Validation Error = \t0.090679198209\n",
        "Epoch="
       ]
      },
      {
       "output_type": "stream",
       "stream": "stdout",
       "text": [
        " 6\n",
        "Training   Error = \t0.067036935694\n",
        "Validation Error = \t0.0944896975407\n",
        "Epoch="
       ]
      },
      {
       "output_type": "stream",
       "stream": "stdout",
       "text": [
        " 7\n",
        "Training   Error = \t0.0620295998265\n",
        "Validation Error = \t0.0893899973086\n",
        "Epoch="
       ]
      },
      {
       "output_type": "stream",
       "stream": "stdout",
       "text": [
        " 8\n",
        "Training   Error = \t0.058103707375\n",
        "Validation Error = \t0.0906620413379\n",
        "Epoch="
       ]
      },
      {
       "output_type": "stream",
       "stream": "stdout",
       "text": [
        " 9\n",
        "Training   Error = \t0.0551798199154\n",
        "Validation Error = \t0.0851493647561\n",
        "Epoch="
       ]
      },
      {
       "output_type": "stream",
       "stream": "stdout",
       "text": [
        " 10\n",
        "Training   Error = \t0.0517461223712\n",
        "Validation Error = \t0.0866065015475\n",
        "Epoch="
       ]
      },
      {
       "output_type": "stream",
       "stream": "stdout",
       "text": [
        " 11\n",
        "Training   Error = \t0.0491023512224\n",
        "Validation Error = \t0.0877784237323\n",
        "Epoch="
       ]
      },
      {
       "output_type": "stream",
       "stream": "stdout",
       "text": [
        " 12\n",
        "Training   Error = \t0.0464871795285\n",
        "Validation Error = \t0.0941526341848\n",
        "Epoch="
       ]
      },
      {
       "output_type": "stream",
       "stream": "stdout",
       "text": [
        " 13\n",
        "Training   Error = \t0.0439665496246\n",
        "Validation Error = \t0.0944792805106\n",
        "Epoch="
       ]
      },
      {
       "output_type": "stream",
       "stream": "stdout",
       "text": [
        " 14\n",
        "Training   Error = \t0.04196157583\n",
        "Validation Error = \t0.0909175665113\n",
        "Epoch="
       ]
      },
      {
       "output_type": "stream",
       "stream": "stdout",
       "text": [
        " 15\n",
        "Training   Error = \t0.0400467308716\n",
        "Validation Error = \t0.0944673603244\n",
        "Epoch="
       ]
      },
      {
       "output_type": "stream",
       "stream": "stdout",
       "text": [
        " 16\n",
        "Training   Error = \t0.0381712435957\n",
        "Validation Error = \t0.0946364472578\n",
        "Epoch="
       ]
      },
      {
       "output_type": "stream",
       "stream": "stdout",
       "text": [
        " 17\n",
        "Training   Error = \t0.0363889226208\n",
        "Validation Error = \t0.0971957016896\n",
        "Epoch="
       ]
      },
      {
       "output_type": "stream",
       "stream": "stdout",
       "text": [
        " 18\n",
        "Training   Error = \t0.0346850814446\n",
        "Validation Error = \t0.098002966533\n",
        "Epoch="
       ]
      },
      {
       "output_type": "stream",
       "stream": "stdout",
       "text": [
        " 19\n",
        "Training   Error = \t0.0331597123706\n",
        "Validation Error = \t0.104874748745\n",
        "Epoch="
       ]
      },
      {
       "output_type": "stream",
       "stream": "stdout",
       "text": [
        " 20\n",
        "Training   Error = \t0.0317424582853\n",
        "Validation Error = \t0.10147998434\n",
        "Samples="
       ]
      },
      {
       "output_type": "stream",
       "stream": "stdout",
       "text": [
        " 60000     Hidden Layers= 10    Hidden Neurons= 300    F.O.M.= 0.7798    Time= 1750.0\n",
        "Epoch="
       ]
      },
      {
       "output_type": "stream",
       "stream": "stdout",
       "text": [
        " 1\n",
        "Training   Error = \t0.19388881735\n",
        "Validation Error = \t0.278944389637\n",
        "Epoch="
       ]
      },
      {
       "output_type": "stream",
       "stream": "stdout",
       "text": [
        " 2\n",
        "Training   Error = \t0.104066417661\n",
        "Validation Error = \t0.119334067464\n",
        "Epoch="
       ]
      },
      {
       "output_type": "stream",
       "stream": "stdout",
       "text": [
        " 3\n",
        "Training   Error = \t0.0895745103265\n",
        "Validation Error = \t0.106200500801\n",
        "Epoch="
       ]
      },
      {
       "output_type": "stream",
       "stream": "stdout",
       "text": [
        " 4\n",
        "Training   Error = \t0.0803980401044\n",
        "Validation Error = \t0.0924049203964\n",
        "Epoch="
       ]
      },
      {
       "output_type": "stream",
       "stream": "stdout",
       "text": [
        " 5\n",
        "Training   Error = \t0.0735580839965\n",
        "Validation Error = \t0.0899426510508\n",
        "Epoch="
       ]
      },
      {
       "output_type": "stream",
       "stream": "stdout",
       "text": [
        " 6\n",
        "Training   Error = \t0.0685816834019\n",
        "Validation Error = \t0.0960841713938\n",
        "Epoch="
       ]
      },
      {
       "output_type": "stream",
       "stream": "stdout",
       "text": [
        " 7\n",
        "Training   Error = \t0.0645232147921\n",
        "Validation Error = \t0.0838044062837\n",
        "Epoch="
       ]
      },
      {
       "output_type": "stream",
       "stream": "stdout",
       "text": [
        " 8\n",
        "Training   Error = \t0.0609662354665\n",
        "Validation Error = \t0.0861757430135\n",
        "Epoch="
       ]
      },
      {
       "output_type": "stream",
       "stream": "stdout",
       "text": [
        " 9\n",
        "Training   Error = \t0.0579901003117\n",
        "Validation Error = \t0.0924145106606\n",
        "Epoch="
       ]
      },
      {
       "output_type": "stream",
       "stream": "stdout",
       "text": [
        " 10\n",
        "Training   Error = \t0.0552649069864\n",
        "Validation Error = \t0.0827523294193\n",
        "Epoch="
       ]
      },
      {
       "output_type": "stream",
       "stream": "stdout",
       "text": [
        " 11\n",
        "Training   Error = \t0.0526969343612\n",
        "Validation Error = \t0.086278396142\n",
        "Epoch="
       ]
      },
      {
       "output_type": "stream",
       "stream": "stdout",
       "text": [
        " 12\n",
        "Training   Error = \t0.0502890317119\n",
        "Validation Error = \t0.0839300874914\n",
        "Epoch="
       ]
      },
      {
       "output_type": "stream",
       "stream": "stdout",
       "text": [
        " 13\n",
        "Training   Error = \t0.0482336522904\n",
        "Validation Error = \t0.0880588206728\n",
        "Epoch="
       ]
      },
      {
       "output_type": "stream",
       "stream": "stdout",
       "text": [
        " 14\n",
        "Training   Error = \t0.0461371986458\n",
        "Validation Error = \t0.0884213255412\n",
        "Epoch="
       ]
      },
      {
       "output_type": "stream",
       "stream": "stdout",
       "text": [
        " 15\n",
        "Training   Error = \t0.0441548730188\n",
        "Validation Error = \t0.0911675893899\n",
        "Epoch="
       ]
      },
      {
       "output_type": "stream",
       "stream": "stdout",
       "text": [
        " 16\n",
        "Training   Error = \t0.0427302695858\n",
        "Validation Error = \t0.0882420966177\n",
        "Epoch="
       ]
      },
      {
       "output_type": "stream",
       "stream": "stdout",
       "text": [
        " 17\n",
        "Training   Error = \t0.0407709958323\n",
        "Validation Error = \t0.0968311611971\n",
        "Epoch="
       ]
      },
      {
       "output_type": "stream",
       "stream": "stdout",
       "text": [
        " 18\n",
        "Training   Error = \t0.0390945737566\n",
        "Validation Error = \t0.0895111486811\n",
        "Epoch="
       ]
      },
      {
       "output_type": "stream",
       "stream": "stdout",
       "text": [
        " 19\n",
        "Training   Error = \t0.0380080075882\n",
        "Validation Error = \t0.104208114581\n",
        "Epoch="
       ]
      },
      {
       "output_type": "stream",
       "stream": "stdout",
       "text": [
        " 20\n",
        "Training   Error = \t0.036351039117\n",
        "Validation Error = \t0.0912402281936\n",
        "Samples="
       ]
      },
      {
       "output_type": "stream",
       "stream": "stdout",
       "text": [
        " 70000     Hidden Layers= 10    Hidden Neurons= 300    F.O.M.= 0.774842857143    Time= 1741.0\n",
        "Epoch="
       ]
      },
      {
       "output_type": "stream",
       "stream": "stdout",
       "text": [
        " 1\n",
        "Training   Error = \t0.199493767024\n",
        "Validation Error = \t0.33368045207\n",
        "Epoch="
       ]
      },
      {
       "output_type": "stream",
       "stream": "stdout",
       "text": [
        " 2\n",
        "Training   Error = \t0.109030177505\n",
        "Validation Error = \t0.125360939295\n",
        "Epoch="
       ]
      },
      {
       "output_type": "stream",
       "stream": "stdout",
       "text": [
        " 3\n",
        "Training   Error = \t0.0930221503153\n",
        "Validation Error = \t0.0979311701825\n",
        "Epoch="
       ]
      },
      {
       "output_type": "stream",
       "stream": "stdout",
       "text": [
        " 4\n",
        "Training   Error = \t0.0836791055622\n",
        "Validation Error = \t0.0965595114499\n",
        "Epoch="
       ]
      },
      {
       "output_type": "stream",
       "stream": "stdout",
       "text": [
        " 5\n",
        "Training   Error = \t0.0765669668533\n",
        "Validation Error = \t0.0868526534635\n",
        "Epoch="
       ]
      },
      {
       "output_type": "stream",
       "stream": "stdout",
       "text": [
        " 6\n",
        "Training   Error = \t0.0720224065497\n",
        "Validation Error = \t0.0892527906484\n",
        "Epoch="
       ]
      },
      {
       "output_type": "stream",
       "stream": "stdout",
       "text": [
        " 7\n",
        "Training   Error = \t0.0674459196689\n",
        "Validation Error = \t0.0865334704269\n",
        "Epoch="
       ]
      },
      {
       "output_type": "stream",
       "stream": "stdout",
       "text": [
        " 8\n",
        "Training   Error = \t0.0640591457946\n",
        "Validation Error = \t0.0940080125546\n",
        "Epoch="
       ]
      },
      {
       "output_type": "stream",
       "stream": "stdout",
       "text": [
        " 9\n",
        "Training   Error = \t0.0604438962257\n",
        "Validation Error = \t0.081692512379\n",
        "Epoch="
       ]
      },
      {
       "output_type": "stream",
       "stream": "stdout",
       "text": [
        " 10\n",
        "Training   Error = \t0.057957075422\n",
        "Validation Error = \t0.0855884107475\n",
        "Epoch="
       ]
      },
      {
       "output_type": "stream",
       "stream": "stdout",
       "text": [
        " 11\n",
        "Training   Error = \t0.055608008666\n",
        "Validation Error = \t0.0947535210927\n",
        "Epoch="
       ]
      },
      {
       "output_type": "stream",
       "stream": "stdout",
       "text": [
        " 12\n",
        "Training   Error = \t0.0530433144009\n",
        "Validation Error = \t0.0952011587666\n",
        "Epoch="
       ]
      },
      {
       "output_type": "stream",
       "stream": "stdout",
       "text": [
        " 13\n",
        "Training   Error = \t0.0511512483538\n",
        "Validation Error = \t0.0856146659583\n",
        "Epoch="
       ]
      },
      {
       "output_type": "stream",
       "stream": "stdout",
       "text": [
        " 14\n",
        "Training   Error = \t0.0491390643736\n",
        "Validation Error = \t0.0877554614463\n",
        "Epoch="
       ]
      },
      {
       "output_type": "stream",
       "stream": "stdout",
       "text": [
        " 15\n",
        "Training   Error = \t0.0470014312021\n",
        "Validation Error = \t0.0965263350099\n",
        "Epoch="
       ]
      },
      {
       "output_type": "stream",
       "stream": "stdout",
       "text": [
        " 16\n",
        "Training   Error = \t0.0453102473087\n",
        "Validation Error = \t0.0859735691704\n",
        "Epoch="
       ]
      },
      {
       "output_type": "stream",
       "stream": "stdout",
       "text": [
        " 17\n",
        "Training   Error = \t0.0439046943326\n",
        "Validation Error = \t0.0963571176173\n",
        "Epoch="
       ]
      },
      {
       "output_type": "stream",
       "stream": "stdout",
       "text": [
        " 18\n",
        "Training   Error = \t0.0422322325017\n",
        "Validation Error = \t0.0863495750285\n",
        "Epoch="
       ]
      },
      {
       "output_type": "stream",
       "stream": "stdout",
       "text": [
        " 19\n",
        "Training   Error = \t0.0407597869419\n",
        "Validation Error = \t0.086383682077\n",
        "Epoch="
       ]
      },
      {
       "output_type": "stream",
       "stream": "stdout",
       "text": [
        " 20\n",
        "Training   Error = \t0.0397609850527\n",
        "Validation Error = \t0.0885280203055\n",
        "Samples="
       ]
      },
      {
       "output_type": "stream",
       "stream": "stdout",
       "text": [
        " 80000     Hidden Layers= 10    Hidden Neurons= 300    F.O.M.= 0.772025    Time= 1741.0\n",
        "Epoch="
       ]
      },
      {
       "output_type": "stream",
       "stream": "stdout",
       "text": [
        " 1\n",
        "Training   Error = \t0.191215512906\n",
        "Validation Error = \t0.251474907268\n",
        "Epoch="
       ]
      },
      {
       "output_type": "stream",
       "stream": "stdout",
       "text": [
        " 2\n",
        "Training   Error = \t0.104813283908\n",
        "Validation Error = \t0.118856893003\n",
        "Epoch="
       ]
      },
      {
       "output_type": "stream",
       "stream": "stdout",
       "text": [
        " 3\n",
        "Training   Error = \t0.0916084910196\n",
        "Validation Error = \t0.0978495789572\n",
        "Epoch="
       ]
      },
      {
       "output_type": "stream",
       "stream": "stdout",
       "text": [
        " 4\n",
        "Training   Error = \t0.0832815486863\n",
        "Validation Error = \t0.0922307747472\n",
        "Epoch="
       ]
      },
      {
       "output_type": "stream",
       "stream": "stdout",
       "text": [
        " 5\n",
        "Training   Error = \t0.0770887120939\n",
        "Validation Error = \t0.089194716103\n",
        "Epoch="
       ]
      },
      {
       "output_type": "stream",
       "stream": "stdout",
       "text": [
        " 6\n",
        "Training   Error = \t0.0720261805815\n",
        "Validation Error = \t0.09816971624\n",
        "Epoch="
       ]
      },
      {
       "output_type": "stream",
       "stream": "stdout",
       "text": [
        " 7\n",
        "Training   Error = \t0.0680378678371\n",
        "Validation Error = \t0.0937821112359\n",
        "Epoch="
       ]
      },
      {
       "output_type": "stream",
       "stream": "stdout",
       "text": [
        " 8\n",
        "Training   Error = \t0.0648989572745\n",
        "Validation Error = \t0.0799724215809\n",
        "Epoch="
       ]
      },
      {
       "output_type": "stream",
       "stream": "stdout",
       "text": [
        " 9\n",
        "Training   Error = \t0.0621438788171\n",
        "Validation Error = \t0.0785440805455\n",
        "Epoch="
       ]
      },
      {
       "output_type": "stream",
       "stream": "stdout",
       "text": [
        " 10\n",
        "Training   Error = \t0.0592883537515\n",
        "Validation Error = \t0.0802290919643\n",
        "Epoch="
       ]
      },
      {
       "output_type": "stream",
       "stream": "stdout",
       "text": [
        " 11\n",
        "Training   Error = \t0.0571028811967\n",
        "Validation Error = \t0.0842299800236\n",
        "Epoch="
       ]
      },
      {
       "output_type": "stream",
       "stream": "stdout",
       "text": [
        " 12\n",
        "Training   Error = \t0.0548399398632\n",
        "Validation Error = \t0.10063473607\n",
        "Epoch="
       ]
      },
      {
       "output_type": "stream",
       "stream": "stdout",
       "text": [
        " 13\n",
        "Training   Error = \t0.0528919343067\n",
        "Validation Error = \t0.0807420027795\n",
        "Epoch="
       ]
      },
      {
       "output_type": "stream",
       "stream": "stdout",
       "text": [
        " 14\n",
        "Training   Error = \t0.0508962514819\n",
        "Validation Error = \t0.088536654263\n",
        "Epoch="
       ]
      },
      {
       "output_type": "stream",
       "stream": "stdout",
       "text": [
        " 15\n",
        "Training   Error = \t0.0496915914051\n",
        "Validation Error = \t0.0840260921156\n",
        "Epoch="
       ]
      },
      {
       "output_type": "stream",
       "stream": "stdout",
       "text": [
        " 16\n",
        "Training   Error = \t0.0478062733637\n",
        "Validation Error = \t0.082956601174\n",
        "Epoch="
       ]
      },
      {
       "output_type": "stream",
       "stream": "stdout",
       "text": [
        " 17\n",
        "Training   Error = \t0.0462087733053\n",
        "Validation Error = \t0.083275489847\n",
        "Epoch="
       ]
      },
      {
       "output_type": "stream",
       "stream": "stdout",
       "text": [
        " 18\n",
        "Training   Error = \t0.0449656820579\n",
        "Validation Error = \t0.086946865692\n",
        "Epoch="
       ]
      },
      {
       "output_type": "stream",
       "stream": "stdout",
       "text": [
        " 19\n",
        "Training   Error = \t0.0435875712259\n",
        "Validation Error = \t0.0901634127752\n",
        "Epoch="
       ]
      },
      {
       "output_type": "stream",
       "stream": "stdout",
       "text": [
        " 20\n",
        "Training   Error = \t0.0421066665843\n",
        "Validation Error = \t0.0965196055957\n",
        "Samples="
       ]
      },
      {
       "output_type": "stream",
       "stream": "stdout",
       "text": [
        " 90000     Hidden Layers= 10    Hidden Neurons= 300    F.O.M.= 0.767988888889    Time= 1775.0\n",
        "Epoch="
       ]
      },
      {
       "output_type": "stream",
       "stream": "stdout",
       "text": [
        " 1\n",
        "Training   Error = \t0.188122762031\n",
        "Validation Error = \t0.373125714364\n",
        "Epoch="
       ]
      },
      {
       "output_type": "stream",
       "stream": "stdout",
       "text": [
        " 2\n",
        "Training   Error = \t0.0862765283683\n",
        "Validation Error = \t0.129252383821\n",
        "Epoch="
       ]
      },
      {
       "output_type": "stream",
       "stream": "stdout",
       "text": [
        " 3\n",
        "Training   Error = \t0.0587646881788\n",
        "Validation Error = \t0.103245635964\n",
        "Epoch="
       ]
      },
      {
       "output_type": "stream",
       "stream": "stdout",
       "text": [
        " 4\n",
        "Training   Error = \t0.0400176541097\n",
        "Validation Error = \t0.107551150291\n",
        "Epoch="
       ]
      },
      {
       "output_type": "stream",
       "stream": "stdout",
       "text": [
        " 5\n",
        "Training   Error = \t0.0274505953356\n",
        "Validation Error = \t0.105452789662\n",
        "Epoch="
       ]
      },
      {
       "output_type": "stream",
       "stream": "stdout",
       "text": [
        " 6\n",
        "Training   Error = \t0.0199716424385\n",
        "Validation Error = \t0.110170925933\n",
        "Epoch="
       ]
      },
      {
       "output_type": "stream",
       "stream": "stdout",
       "text": [
        " 7\n",
        "Training   Error = \t0.0150999738941\n",
        "Validation Error = \t0.138884901784\n",
        "Epoch="
       ]
      },
      {
       "output_type": "stream",
       "stream": "stdout",
       "text": [
        " 8\n",
        "Training   Error = \t0.0117846737476\n",
        "Validation Error = \t0.117874738284\n",
        "Epoch="
       ]
      },
      {
       "output_type": "stream",
       "stream": "stdout",
       "text": [
        " 9\n",
        "Training   Error = \t0.00937315472287\n",
        "Validation Error = \t0.118555932418\n",
        "Epoch="
       ]
      },
      {
       "output_type": "stream",
       "stream": "stdout",
       "text": [
        " 10\n",
        "Training   Error = \t0.00780875137487\n",
        "Validation Error = \t0.120647045726\n",
        "Epoch="
       ]
      },
      {
       "output_type": "stream",
       "stream": "stdout",
       "text": [
        " 11\n",
        "Training   Error = \t0.00753605162076\n",
        "Validation Error = \t0.123168923922\n",
        "Epoch="
       ]
      },
      {
       "output_type": "stream",
       "stream": "stdout",
       "text": [
        " 12\n",
        "Training   Error = \t0.00639339070617\n",
        "Validation Error = \t0.124589351618\n",
        "Epoch="
       ]
      },
      {
       "output_type": "stream",
       "stream": "stdout",
       "text": [
        " 13\n",
        "Training   Error = \t0.00587233027376\n",
        "Validation Error = \t0.127012056913\n",
        "Epoch="
       ]
      },
      {
       "output_type": "stream",
       "stream": "stdout",
       "text": [
        " 14\n",
        "Training   Error = \t0.00546325318675\n",
        "Validation Error = \t0.128513411129\n",
        "Epoch="
       ]
      },
      {
       "output_type": "stream",
       "stream": "stdout",
       "text": [
        " 15\n",
        "Training   Error = \t0.00540393355189\n",
        "Validation Error = \t0.127492843986\n",
        "Epoch="
       ]
      },
      {
       "output_type": "stream",
       "stream": "stdout",
       "text": [
        " 16\n",
        "Training   Error = \t0.00467245454504\n",
        "Validation Error = \t0.126808683159\n",
        "Epoch="
       ]
      },
      {
       "output_type": "stream",
       "stream": "stdout",
       "text": [
        " 17\n",
        "Training   Error = \t0.00412045695004\n",
        "Validation Error = \t0.130435052727\n",
        "Epoch="
       ]
      },
      {
       "output_type": "stream",
       "stream": "stdout",
       "text": [
        " 18\n",
        "Training   Error = \t0.00465873992495\n",
        "Validation Error = \t0.132272801225\n",
        "Epoch="
       ]
      },
      {
       "output_type": "stream",
       "stream": "stdout",
       "text": [
        " 19\n",
        "Training   Error = \t0.00439055062828\n",
        "Validation Error = \t0.134708562788\n",
        "Epoch="
       ]
      },
      {
       "output_type": "stream",
       "stream": "stdout",
       "text": [
        " 20\n",
        "Training   Error = \t0.00327116672764\n",
        "Validation Error = \t0.13222120642\n",
        "Samples="
       ]
      },
      {
       "output_type": "stream",
       "stream": "stdout",
       "text": [
        " 10000     Hidden Layers= 10    Hidden Neurons= 400    F.O.M.= 0.7974    Time= 2809.0\n",
        "Epoch="
       ]
      },
      {
       "output_type": "stream",
       "stream": "stdout",
       "text": [
        " 1\n",
        "Training   Error = \t0.191920697137\n",
        "Validation Error = \t0.250009561126\n",
        "Epoch="
       ]
      },
      {
       "output_type": "stream",
       "stream": "stdout",
       "text": [
        " 2\n",
        "Training   Error = \t0.0980296973257\n",
        "Validation Error = \t0.120892015131\n",
        "Epoch="
       ]
      },
      {
       "output_type": "stream",
       "stream": "stdout",
       "text": [
        " 3\n",
        "Training   Error = \t0.0778948319512\n",
        "Validation Error = \t0.108119898721\n",
        "Epoch="
       ]
      },
      {
       "output_type": "stream",
       "stream": "stdout",
       "text": [
        " 4\n",
        "Training   Error = \t0.0634591918049\n",
        "Validation Error = \t0.0972943844533\n",
        "Epoch="
       ]
      },
      {
       "output_type": "stream",
       "stream": "stdout",
       "text": [
        " 5\n",
        "Training   Error = \t0.0521735295684\n",
        "Validation Error = \t0.0957332886782\n",
        "Epoch="
       ]
      },
      {
       "output_type": "stream",
       "stream": "stdout",
       "text": [
        " 6\n",
        "Training   Error = \t0.0428378228041\n",
        "Validation Error = \t0.0957896822701\n",
        "Epoch="
       ]
      },
      {
       "output_type": "stream",
       "stream": "stdout",
       "text": [
        " 7\n",
        "Training   Error = \t0.0350763172464\n",
        "Validation Error = \t0.0997637590892\n",
        "Epoch="
       ]
      },
      {
       "output_type": "stream",
       "stream": "stdout",
       "text": [
        " 8\n",
        "Training   Error = \t0.0289917474816\n",
        "Validation Error = \t0.10032829968\n",
        "Epoch="
       ]
      },
      {
       "output_type": "stream",
       "stream": "stdout",
       "text": [
        " 9\n",
        "Training   Error = \t0.0241705063921\n",
        "Validation Error = \t0.102946918492\n",
        "Epoch="
       ]
      },
      {
       "output_type": "stream",
       "stream": "stdout",
       "text": [
        " 10\n",
        "Training   Error = \t0.019840365119\n",
        "Validation Error = \t0.103925772932\n",
        "Epoch="
       ]
      },
      {
       "output_type": "stream",
       "stream": "stdout",
       "text": [
        " 11\n",
        "Training   Error = \t0.017155456587\n",
        "Validation Error = \t0.106446605008\n",
        "Epoch="
       ]
      },
      {
       "output_type": "stream",
       "stream": "stdout",
       "text": [
        " 12\n",
        "Training   Error = \t0.0146825960577\n",
        "Validation Error = \t0.107857284077\n",
        "Epoch="
       ]
      },
      {
       "output_type": "stream",
       "stream": "stdout",
       "text": [
        " 13\n",
        "Training   Error = \t0.01263044929\n",
        "Validation Error = \t0.109470354405\n",
        "Epoch="
       ]
      },
      {
       "output_type": "stream",
       "stream": "stdout",
       "text": [
        " 14\n",
        "Training   Error = \t0.0112369235137\n",
        "Validation Error = \t0.110698169524\n",
        "Epoch="
       ]
      },
      {
       "output_type": "stream",
       "stream": "stdout",
       "text": [
        " 15\n",
        "Training   Error = \t0.0101103460433\n",
        "Validation Error = \t0.113313862375\n",
        "Epoch="
       ]
      },
      {
       "output_type": "stream",
       "stream": "stdout",
       "text": [
        " 16\n",
        "Training   Error = \t0.00964101382825\n",
        "Validation Error = \t0.113634586291\n",
        "Epoch="
       ]
      },
      {
       "output_type": "stream",
       "stream": "stdout",
       "text": [
        " 17\n",
        "Training   Error = \t0.00884916525239\n",
        "Validation Error = \t0.1157155483\n",
        "Epoch="
       ]
      },
      {
       "output_type": "stream",
       "stream": "stdout",
       "text": [
        " 18\n",
        "Training   Error = \t0.00764131576492\n",
        "Validation Error = \t0.116465195148\n",
        "Epoch="
       ]
      },
      {
       "output_type": "stream",
       "stream": "stdout",
       "text": [
        " 19\n",
        "Training   Error = \t0.00757754842286\n",
        "Validation Error = \t0.117461032447\n",
        "Epoch="
       ]
      },
      {
       "output_type": "stream",
       "stream": "stdout",
       "text": [
        " 20\n",
        "Training   Error = \t0.00648891456056\n",
        "Validation Error = \t0.11864037641\n",
        "Samples="
       ]
      },
      {
       "output_type": "stream",
       "stream": "stdout",
       "text": [
        " 20000     Hidden Layers= 10    Hidden Neurons= 400    F.O.M.= 0.7973    Time= 2818.0\n",
        "Epoch="
       ]
      },
      {
       "output_type": "stream",
       "stream": "stdout",
       "text": [
        " 1\n",
        "Training   Error = \t0.193244189372\n",
        "Validation Error = \t0.271830782801\n",
        "Epoch="
       ]
      },
      {
       "output_type": "stream",
       "stream": "stdout",
       "text": [
        " 2\n",
        "Training   Error = \t0.100629566864\n",
        "Validation Error = \t0.117422055075\n",
        "Epoch="
       ]
      },
      {
       "output_type": "stream",
       "stream": "stdout",
       "text": [
        " 3\n",
        "Training   Error = \t0.0837483886981\n",
        "Validation Error = \t0.101748008648\n",
        "Epoch="
       ]
      },
      {
       "output_type": "stream",
       "stream": "stdout",
       "text": [
        " 4\n",
        "Training   Error = \t0.0714048659373\n",
        "Validation Error = \t0.0962806720014\n",
        "Epoch="
       ]
      },
      {
       "output_type": "stream",
       "stream": "stdout",
       "text": [
        " 5\n",
        "Training   Error = \t0.0613940281378\n",
        "Validation Error = \t0.085983320786\n",
        "Epoch="
       ]
      },
      {
       "output_type": "stream",
       "stream": "stdout",
       "text": [
        " 6\n",
        "Training   Error = \t0.0533363561721\n",
        "Validation Error = \t0.0869617296864\n",
        "Epoch="
       ]
      },
      {
       "output_type": "stream",
       "stream": "stdout",
       "text": [
        " 7\n",
        "Training   Error = \t0.0467197906137\n",
        "Validation Error = \t0.0865413597196\n",
        "Epoch="
       ]
      },
      {
       "output_type": "stream",
       "stream": "stdout",
       "text": [
        " 8\n",
        "Training   Error = \t0.0405010875364\n",
        "Validation Error = \t0.0892392953776\n",
        "Epoch="
       ]
      },
      {
       "output_type": "stream",
       "stream": "stdout",
       "text": [
        " 9\n",
        "Training   Error = \t0.0356305979489\n",
        "Validation Error = \t0.089681487375\n",
        "Epoch="
       ]
      },
      {
       "output_type": "stream",
       "stream": "stdout",
       "text": [
        " 10\n",
        "Training   Error = \t0.0311084685911\n",
        "Validation Error = \t0.110617181608\n",
        "Epoch="
       ]
      },
      {
       "output_type": "stream",
       "stream": "stdout",
       "text": [
        " 11\n",
        "Training   Error = \t0.027353578264\n",
        "Validation Error = \t0.0930544116187\n",
        "Epoch="
       ]
      },
      {
       "output_type": "stream",
       "stream": "stdout",
       "text": [
        " 12\n",
        "Training   Error = \t0.0242369167328\n",
        "Validation Error = \t0.101367869942\n",
        "Epoch="
       ]
      },
      {
       "output_type": "stream",
       "stream": "stdout",
       "text": [
        " 13\n",
        "Training   Error = \t0.021542847467\n",
        "Validation Error = \t0.119750320255\n",
        "Epoch="
       ]
      },
      {
       "output_type": "stream",
       "stream": "stdout",
       "text": [
        " 14\n",
        "Training   Error = \t0.0193083011956\n",
        "Validation Error = \t0.097168372691\n",
        "Epoch="
       ]
      },
      {
       "output_type": "stream",
       "stream": "stdout",
       "text": [
        " 15\n",
        "Training   Error = \t0.0177150105436\n",
        "Validation Error = \t0.0988526023968\n",
        "Epoch="
       ]
      },
      {
       "output_type": "stream",
       "stream": "stdout",
       "text": [
        " 16\n",
        "Training   Error = \t0.015998303094\n",
        "Validation Error = \t0.100103924474\n",
        "Epoch="
       ]
      },
      {
       "output_type": "stream",
       "stream": "stdout",
       "text": [
        " 17\n",
        "Training   Error = \t0.0146093160869\n",
        "Validation Error = \t0.102014594963\n",
        "Epoch="
       ]
      },
      {
       "output_type": "stream",
       "stream": "stdout",
       "text": [
        " 18\n",
        "Training   Error = \t0.0132580476501\n",
        "Validation Error = \t0.102864222704\n",
        "Epoch="
       ]
      },
      {
       "output_type": "stream",
       "stream": "stdout",
       "text": [
        " 19\n",
        "Training   Error = \t0.012751603174\n",
        "Validation Error = \t0.103462329333\n",
        "Epoch="
       ]
      },
      {
       "output_type": "stream",
       "stream": "stdout",
       "text": [
        " 20\n",
        "Training   Error = \t0.0117752413094\n",
        "Validation Error = \t0.105061924514\n",
        "Samples="
       ]
      },
      {
       "output_type": "stream",
       "stream": "stdout",
       "text": [
        " 30000     Hidden Layers= 10    Hidden Neurons= 400    F.O.M.= 0.795666666667    Time= 2830.0\n",
        "Epoch="
       ]
      },
      {
       "output_type": "stream",
       "stream": "stdout",
       "text": [
        " 1\n",
        "Training   Error = \t0.197714925517\n",
        "Validation Error = \t0.307311960947\n",
        "Epoch="
       ]
      },
      {
       "output_type": "stream",
       "stream": "stdout",
       "text": [
        " 2\n",
        "Training   Error = \t0.104043732987\n",
        "Validation Error = \t0.120104057379\n",
        "Epoch="
       ]
      },
      {
       "output_type": "stream",
       "stream": "stdout",
       "text": [
        " 3\n",
        "Training   Error = \t0.0865312241433\n",
        "Validation Error = \t0.0987616012849\n",
        "Epoch="
       ]
      },
      {
       "output_type": "stream",
       "stream": "stdout",
       "text": [
        " 4\n",
        "Training   Error = \t0.0753686302037\n",
        "Validation Error = \t0.0871763156449\n",
        "Epoch="
       ]
      },
      {
       "output_type": "stream",
       "stream": "stdout",
       "text": [
        " 5\n",
        "Training   Error = \t0.0669809121438\n",
        "Validation Error = \t0.0879615580217\n",
        "Epoch="
       ]
      },
      {
       "output_type": "stream",
       "stream": "stdout",
       "text": [
        " 6\n",
        "Training   Error = \t0.0601434275755\n",
        "Validation Error = \t0.0837219289603\n",
        "Epoch="
       ]
      },
      {
       "output_type": "stream",
       "stream": "stdout",
       "text": [
        " 7\n",
        "Training   Error = \t0.0542543765596\n",
        "Validation Error = \t0.0853536361196\n",
        "Epoch="
       ]
      },
      {
       "output_type": "stream",
       "stream": "stdout",
       "text": [
        " 8\n",
        "Training   Error = \t0.0490690569973\n",
        "Validation Error = \t0.0837311982596\n",
        "Epoch="
       ]
      },
      {
       "output_type": "stream",
       "stream": "stdout",
       "text": [
        " 9\n",
        "Training   Error = \t0.0444922914441\n",
        "Validation Error = \t0.0873060166014\n",
        "Epoch="
       ]
      },
      {
       "output_type": "stream",
       "stream": "stdout",
       "text": [
        " 10\n",
        "Training   Error = \t0.0407446211425\n",
        "Validation Error = \t0.0879711956553\n",
        "Epoch="
       ]
      },
      {
       "output_type": "stream",
       "stream": "stdout",
       "text": [
        " 11\n",
        "Training   Error = \t0.0365424735886\n",
        "Validation Error = \t0.0881179194147\n",
        "Epoch="
       ]
      },
      {
       "output_type": "stream",
       "stream": "stdout",
       "text": [
        " 12\n",
        "Training   Error = \t0.0337244772484\n",
        "Validation Error = \t0.0923814620784\n",
        "Epoch="
       ]
      },
      {
       "output_type": "stream",
       "stream": "stdout",
       "text": [
        " 13\n",
        "Training   Error = \t0.030760794572\n",
        "Validation Error = \t0.109738089548\n",
        "Epoch="
       ]
      },
      {
       "output_type": "stream",
       "stream": "stdout",
       "text": [
        " 14\n",
        "Training   Error = \t0.0277751859548\n",
        "Validation Error = \t0.107204844556\n",
        "Epoch="
       ]
      },
      {
       "output_type": "stream",
       "stream": "stdout",
       "text": [
        " 15\n",
        "Training   Error = \t0.0260372244391\n",
        "Validation Error = \t0.10082469543\n",
        "Epoch="
       ]
      },
      {
       "output_type": "stream",
       "stream": "stdout",
       "text": [
        " 16\n",
        "Training   Error = \t0.0237038810344\n",
        "Validation Error = \t0.111356744936\n",
        "Epoch="
       ]
      },
      {
       "output_type": "stream",
       "stream": "stdout",
       "text": [
        " 17\n",
        "Training   Error = \t0.0220883002835\n",
        "Validation Error = \t0.097540989839\n",
        "Epoch="
       ]
      },
      {
       "output_type": "stream",
       "stream": "stdout",
       "text": [
        " 18\n",
        "Training   Error = \t0.0202979721345\n",
        "Validation Error = \t0.118196775172\n",
        "Epoch="
       ]
      },
      {
       "output_type": "stream",
       "stream": "stdout",
       "text": [
        " 19\n",
        "Training   Error = \t0.0185628644102\n",
        "Validation Error = \t0.115700317309\n",
        "Epoch="
       ]
      },
      {
       "output_type": "stream",
       "stream": "stdout",
       "text": [
        " 20\n",
        "Training   Error = \t0.0179501522771\n",
        "Validation Error = \t0.102613360335\n",
        "Samples="
       ]
      },
      {
       "output_type": "stream",
       "stream": "stdout",
       "text": [
        " 40000     Hidden Layers= 10    Hidden Neurons= 400    F.O.M.= 0.793075    Time= 2833.0\n",
        "Epoch="
       ]
      },
      {
       "output_type": "stream",
       "stream": "stdout",
       "text": [
        " 1\n",
        "Training   Error = \t0.198829267939\n",
        "Validation Error = \t0.256251284181\n",
        "Epoch="
       ]
      },
      {
       "output_type": "stream",
       "stream": "stdout",
       "text": [
        " 2\n",
        "Training   Error = \t0.10338380788\n",
        "Validation Error = \t0.120008205253\n",
        "Epoch="
       ]
      },
      {
       "output_type": "stream",
       "stream": "stdout",
       "text": [
        " 3\n",
        "Training   Error = \t0.0875488672368\n",
        "Validation Error = \t0.113070301294\n",
        "Epoch="
       ]
      },
      {
       "output_type": "stream",
       "stream": "stdout",
       "text": [
        " 4\n",
        "Training   Error = \t0.0773809220132\n",
        "Validation Error = \t0.100166525187\n",
        "Epoch="
       ]
      },
      {
       "output_type": "stream",
       "stream": "stdout",
       "text": [
        " 5\n",
        "Training   Error = \t0.0696313029575\n",
        "Validation Error = \t0.0930429183661\n",
        "Epoch="
       ]
      },
      {
       "output_type": "stream",
       "stream": "stdout",
       "text": [
        " 6\n",
        "Training   Error = \t0.0640768176535\n",
        "Validation Error = \t0.0890123153703\n",
        "Epoch="
       ]
      },
      {
       "output_type": "stream",
       "stream": "stdout",
       "text": [
        " 7\n",
        "Training   Error = \t0.0587176813947\n",
        "Validation Error = \t0.104368815123\n",
        "Epoch="
       ]
      },
      {
       "output_type": "stream",
       "stream": "stdout",
       "text": [
        " 8\n",
        "Training   Error = \t0.0539438891411\n",
        "Validation Error = \t0.0926765553355\n",
        "Epoch="
       ]
      },
      {
       "output_type": "stream",
       "stream": "stdout",
       "text": [
        " 9\n",
        "Training   Error = \t0.0499124980448\n",
        "Validation Error = \t0.0866995478912\n",
        "Epoch="
       ]
      },
      {
       "output_type": "stream",
       "stream": "stdout",
       "text": [
        " 10\n",
        "Training   Error = \t0.0464807681531\n",
        "Validation Error = \t0.0883386765219\n",
        "Epoch="
       ]
      },
      {
       "output_type": "stream",
       "stream": "stdout",
       "text": [
        " 11\n",
        "Training   Error = \t0.0428907877668\n",
        "Validation Error = \t0.0880193304767\n",
        "Epoch="
       ]
      },
      {
       "output_type": "stream",
       "stream": "stdout",
       "text": [
        " 12\n",
        "Training   Error = \t0.0399165522037\n",
        "Validation Error = \t0.0911993389738\n",
        "Epoch="
       ]
      },
      {
       "output_type": "stream",
       "stream": "stdout",
       "text": [
        " 13\n",
        "Training   Error = \t0.0375995297152\n",
        "Validation Error = \t0.0901983687747\n",
        "Epoch="
       ]
      },
      {
       "output_type": "stream",
       "stream": "stdout",
       "text": [
        " 14\n",
        "Training   Error = \t0.0348048726074\n",
        "Validation Error = \t0.10724849194\n",
        "Epoch="
       ]
      },
      {
       "output_type": "stream",
       "stream": "stdout",
       "text": [
        " 15\n",
        "Training   Error = \t0.0323681965156\n",
        "Validation Error = \t0.104738343255\n",
        "Epoch="
       ]
      },
      {
       "output_type": "stream",
       "stream": "stdout",
       "text": [
        " 16\n",
        "Training   Error = \t0.0302172576083\n",
        "Validation Error = \t0.0951340583507\n",
        "Epoch="
       ]
      },
      {
       "output_type": "stream",
       "stream": "stdout",
       "text": [
        " 17\n",
        "Training   Error = \t0.0285076665836\n",
        "Validation Error = \t0.0977583249444\n",
        "Epoch="
       ]
      },
      {
       "output_type": "stream",
       "stream": "stdout",
       "text": [
        " 18\n",
        "Training   Error = \t0.0263301181713\n",
        "Validation Error = \t0.0983025022264\n",
        "Epoch="
       ]
      },
      {
       "output_type": "stream",
       "stream": "stdout",
       "text": [
        " 19\n",
        "Training   Error = \t0.0248269230995\n",
        "Validation Error = \t0.112862399037\n",
        "Epoch="
       ]
      },
      {
       "output_type": "stream",
       "stream": "stdout",
       "text": [
        " 20\n",
        "Training   Error = \t0.0233146405938\n",
        "Validation Error = \t0.119183008993\n",
        "Samples="
       ]
      },
      {
       "output_type": "stream",
       "stream": "stdout",
       "text": [
        " 50000     Hidden Layers= 10    Hidden Neurons= 400    F.O.M.= 0.78834    Time= 2822.0\n",
        "Epoch="
       ]
      },
      {
       "output_type": "stream",
       "stream": "stdout",
       "text": [
        " 1\n",
        "Training   Error = \t0.196798423176\n",
        "Validation Error = \t0.250280282376\n",
        "Epoch="
       ]
      },
      {
       "output_type": "stream",
       "stream": "stdout",
       "text": [
        " 2\n",
        "Training   Error = \t0.102917096415\n",
        "Validation Error = \t0.118277569251\n",
        "Epoch="
       ]
      },
      {
       "output_type": "stream",
       "stream": "stdout",
       "text": [
        " 3\n",
        "Training   Error = \t0.0887675787038\n",
        "Validation Error = \t0.0981330671861\n",
        "Epoch="
       ]
      },
      {
       "output_type": "stream",
       "stream": "stdout",
       "text": [
        " 4\n",
        "Training   Error = \t0.0797808539297\n",
        "Validation Error = \t0.0930649237317\n",
        "Epoch="
       ]
      },
      {
       "output_type": "stream",
       "stream": "stdout",
       "text": [
        " 5\n",
        "Training   Error = \t0.0727439515305\n",
        "Validation Error = \t0.0912544666228\n",
        "Epoch="
       ]
      },
      {
       "output_type": "stream",
       "stream": "stdout",
       "text": [
        " 6\n",
        "Training   Error = \t0.0670413452873\n",
        "Validation Error = \t0.0979349041807\n",
        "Epoch="
       ]
      },
      {
       "output_type": "stream",
       "stream": "stdout",
       "text": [
        " 7\n",
        "Training   Error = \t0.0619053636696\n",
        "Validation Error = \t0.0894255388341\n",
        "Epoch="
       ]
      },
      {
       "output_type": "stream",
       "stream": "stdout",
       "text": [
        " 8\n",
        "Training   Error = \t0.0579890101538\n",
        "Validation Error = \t0.0863800846431\n",
        "Epoch="
       ]
      },
      {
       "output_type": "stream",
       "stream": "stdout",
       "text": [
        " 9\n",
        "Training   Error = \t0.0542795113788\n",
        "Validation Error = \t0.104208808301\n",
        "Epoch="
       ]
      },
      {
       "output_type": "stream",
       "stream": "stdout",
       "text": [
        " 10\n",
        "Training   Error = \t0.0508145307861\n",
        "Validation Error = \t0.0935360678082\n",
        "Epoch="
       ]
      },
      {
       "output_type": "stream",
       "stream": "stdout",
       "text": [
        " 11\n",
        "Training   Error = \t0.0479155376848\n",
        "Validation Error = \t0.0958727910269\n",
        "Epoch="
       ]
      },
      {
       "output_type": "stream",
       "stream": "stdout",
       "text": [
        " 12\n",
        "Training   Error = \t0.0450693994995\n",
        "Validation Error = \t0.0880191034024\n",
        "Epoch="
       ]
      },
      {
       "output_type": "stream",
       "stream": "stdout",
       "text": [
        " 13\n",
        "Training   Error = \t0.0425510689656\n",
        "Validation Error = \t0.108467219896\n",
        "Epoch="
       ]
      },
      {
       "output_type": "stream",
       "stream": "stdout",
       "text": [
        " 14\n",
        "Training   Error = \t0.0403650374153\n",
        "Validation Error = \t0.0948442956638\n",
        "Epoch="
       ]
      },
      {
       "output_type": "stream",
       "stream": "stdout",
       "text": [
        " 15\n",
        "Training   Error = \t0.0381799441918\n",
        "Validation Error = \t0.105155482475\n",
        "Epoch="
       ]
      },
      {
       "output_type": "stream",
       "stream": "stdout",
       "text": [
        " 16\n",
        "Training   Error = \t0.0360060213971\n",
        "Validation Error = \t0.111232465807\n",
        "Epoch="
       ]
      },
      {
       "output_type": "stream",
       "stream": "stdout",
       "text": [
        " 17\n",
        "Training   Error = \t0.0342277870326\n",
        "Validation Error = \t0.0939727688624\n",
        "Epoch="
       ]
      },
      {
       "output_type": "stream",
       "stream": "stdout",
       "text": [
        " 18\n",
        "Training   Error = \t0.0324325742104\n",
        "Validation Error = \t0.0980658538467\n",
        "Epoch="
       ]
      },
      {
       "output_type": "stream",
       "stream": "stdout",
       "text": [
        " 19\n",
        "Training   Error = \t0.03060205718\n",
        "Validation Error = \t0.0967554918982\n",
        "Epoch="
       ]
      },
      {
       "output_type": "stream",
       "stream": "stdout",
       "text": [
        " 20\n",
        "Training   Error = \t0.029424548407\n",
        "Validation Error = \t0.103043350027\n",
        "Samples="
       ]
      },
      {
       "output_type": "stream",
       "stream": "stdout",
       "text": [
        " 60000     Hidden Layers= 10    Hidden Neurons= 400    F.O.M.= 0.782566666667    Time= 2812.0\n",
        "Epoch="
       ]
      },
      {
       "output_type": "stream",
       "stream": "stdout",
       "text": [
        " 1\n",
        "Training   Error = \t0.200956281815\n",
        "Validation Error = \t0.239914571395\n",
        "Epoch="
       ]
      },
      {
       "output_type": "stream",
       "stream": "stdout",
       "text": [
        " 2\n",
        "Training   Error = \t0.10707710149\n",
        "Validation Error = \t0.129422353715\n",
        "Epoch="
       ]
      },
      {
       "output_type": "stream",
       "stream": "stdout",
       "text": [
        " 3\n",
        "Training   Error = \t0.0918693259677\n",
        "Validation Error = \t0.103892526169\n",
        "Epoch="
       ]
      },
      {
       "output_type": "stream",
       "stream": "stdout",
       "text": [
        " 4\n",
        "Training   Error = \t0.0828629116253\n",
        "Validation Error = \t0.0923390015139\n",
        "Epoch="
       ]
      },
      {
       "output_type": "stream",
       "stream": "stdout",
       "text": [
        " 5\n",
        "Training   Error = \t0.0761144984251\n",
        "Validation Error = \t0.0897556855155\n",
        "Epoch="
       ]
      },
      {
       "output_type": "stream",
       "stream": "stdout",
       "text": [
        " 6\n",
        "Training   Error = \t0.0706642906384\n",
        "Validation Error = \t0.0877643688625\n",
        "Epoch="
       ]
      },
      {
       "output_type": "stream",
       "stream": "stdout",
       "text": [
        " 7\n",
        "Training   Error = \t0.0661914434644\n",
        "Validation Error = \t0.0885870618168\n",
        "Epoch="
       ]
      },
      {
       "output_type": "stream",
       "stream": "stdout",
       "text": [
        " 8\n",
        "Training   Error = \t0.0623172040791\n",
        "Validation Error = \t0.0904204387819\n",
        "Epoch="
       ]
      },
      {
       "output_type": "stream",
       "stream": "stdout",
       "text": [
        " 9\n",
        "Training   Error = \t0.0586684484479\n",
        "Validation Error = \t0.0812313720656\n",
        "Epoch="
       ]
      },
      {
       "output_type": "stream",
       "stream": "stdout",
       "text": [
        " 10\n",
        "Training   Error = \t0.0555763372862\n",
        "Validation Error = \t0.0956809093937\n",
        "Epoch="
       ]
      },
      {
       "output_type": "stream",
       "stream": "stdout",
       "text": [
        " 11\n",
        "Training   Error = \t0.0529796994133\n",
        "Validation Error = \t0.0829136162016\n",
        "Epoch="
       ]
      },
      {
       "output_type": "stream",
       "stream": "stdout",
       "text": [
        " 12\n",
        "Training   Error = \t0.0503423320075\n",
        "Validation Error = \t0.0841209462769\n",
        "Epoch="
       ]
      },
      {
       "output_type": "stream",
       "stream": "stdout",
       "text": [
        " 13\n",
        "Training   Error = \t0.0479024106645\n",
        "Validation Error = \t0.081988283297\n",
        "Epoch="
       ]
      },
      {
       "output_type": "stream",
       "stream": "stdout",
       "text": [
        " 14\n",
        "Training   Error = \t0.0460663567187\n",
        "Validation Error = \t0.0918714663786\n",
        "Epoch="
       ]
      },
      {
       "output_type": "stream",
       "stream": "stdout",
       "text": [
        " 15\n",
        "Training   Error = \t0.043699979126\n",
        "Validation Error = \t0.0839656832653\n",
        "Epoch="
       ]
      },
      {
       "output_type": "stream",
       "stream": "stdout",
       "text": [
        " 16\n",
        "Training   Error = \t0.0418534536052\n",
        "Validation Error = \t0.086286703177\n",
        "Epoch="
       ]
      },
      {
       "output_type": "stream",
       "stream": "stdout",
       "text": [
        " 17\n",
        "Training   Error = \t0.0399709182689\n",
        "Validation Error = \t0.0925047933345\n",
        "Epoch="
       ]
      },
      {
       "output_type": "stream",
       "stream": "stdout",
       "text": [
        " 18\n",
        "Training   Error = \t0.0384645852785\n",
        "Validation Error = \t0.0864200622397\n",
        "Epoch="
       ]
      },
      {
       "output_type": "stream",
       "stream": "stdout",
       "text": [
        " 19\n",
        "Training   Error = \t0.0367163297698\n",
        "Validation Error = \t0.0870893708994\n",
        "Epoch="
       ]
      },
      {
       "output_type": "stream",
       "stream": "stdout",
       "text": [
        " 20\n",
        "Training   Error = \t0.0353824332978\n",
        "Validation Error = \t0.0894933287663\n",
        "Samples="
       ]
      },
      {
       "output_type": "stream",
       "stream": "stdout",
       "text": [
        " 70000     Hidden Layers= 10    Hidden Neurons= 400    F.O.M.= 0.776785714286    Time= 2832.0\n",
        "Epoch="
       ]
      },
      {
       "output_type": "stream",
       "stream": "stdout",
       "text": [
        " 1\n",
        "Training   Error = \t0.197207934279\n",
        "Validation Error = \t0.271893922383\n",
        "Epoch="
       ]
      },
      {
       "output_type": "stream",
       "stream": "stdout",
       "text": [
        " 2\n",
        "Training   Error = \t0.105318700746\n",
        "Validation Error = \t0.133786240245\n",
        "Epoch="
       ]
      },
      {
       "output_type": "stream",
       "stream": "stdout",
       "text": [
        " 3\n",
        "Training   Error = \t0.0915322482651\n",
        "Validation Error = \t0.0969747173375\n",
        "Epoch="
       ]
      },
      {
       "output_type": "stream",
       "stream": "stdout",
       "text": [
        " 4\n",
        "Training   Error = \t0.0827367049742\n",
        "Validation Error = \t0.090201571507\n",
        "Epoch="
       ]
      },
      {
       "output_type": "stream",
       "stream": "stdout",
       "text": [
        " 5\n",
        "Training   Error = \t0.0761044956512\n",
        "Validation Error = \t0.0891541484003\n",
        "Epoch="
       ]
      },
      {
       "output_type": "stream",
       "stream": "stdout",
       "text": [
        " 6\n",
        "Training   Error = \t0.0709197468779\n",
        "Validation Error = \t0.0815943034902\n",
        "Epoch="
       ]
      },
      {
       "output_type": "stream",
       "stream": "stdout",
       "text": [
        " 7\n",
        "Training   Error = \t0.066452366002\n",
        "Validation Error = \t0.0800588722905\n",
        "Epoch="
       ]
      },
      {
       "output_type": "stream",
       "stream": "stdout",
       "text": [
        " 8\n",
        "Training   Error = \t0.0632979210611\n",
        "Validation Error = \t0.0825098715737\n",
        "Epoch="
       ]
      },
      {
       "output_type": "stream",
       "stream": "stdout",
       "text": [
        " 9\n",
        "Training   Error = \t0.0598021921531\n",
        "Validation Error = \t0.0803495328775\n",
        "Epoch="
       ]
      },
      {
       "output_type": "stream",
       "stream": "stdout",
       "text": [
        " 10\n",
        "Training   Error = \t0.0570094405915\n",
        "Validation Error = \t0.0799079376413\n",
        "Epoch="
       ]
      },
      {
       "output_type": "stream",
       "stream": "stdout",
       "text": [
        " 11\n",
        "Training   Error = \t0.0544952298899\n",
        "Validation Error = \t0.0820137727996\n",
        "Epoch="
       ]
      },
      {
       "output_type": "stream",
       "stream": "stdout",
       "text": [
        " 12\n",
        "Training   Error = \t0.0523764107142\n",
        "Validation Error = \t0.0827484496753\n",
        "Epoch="
       ]
      },
      {
       "output_type": "stream",
       "stream": "stdout",
       "text": [
        " 13\n",
        "Training   Error = \t0.0500138252759\n",
        "Validation Error = \t0.0872626285585\n",
        "Epoch="
       ]
      },
      {
       "output_type": "stream",
       "stream": "stdout",
       "text": [
        " 14\n",
        "Training   Error = \t0.0476115882441\n",
        "Validation Error = \t0.0883034752485\n",
        "Epoch="
       ]
      },
      {
       "output_type": "stream",
       "stream": "stdout",
       "text": [
        " 15\n",
        "Training   Error = \t0.0457012735046\n",
        "Validation Error = \t0.0856997169721\n",
        "Epoch="
       ]
      },
      {
       "output_type": "stream",
       "stream": "stdout",
       "text": [
        " 16\n",
        "Training   Error = \t0.0438830746286\n",
        "Validation Error = \t0.0854145124069\n",
        "Epoch="
       ]
      },
      {
       "output_type": "stream",
       "stream": "stdout",
       "text": [
        " 17\n",
        "Training   Error = \t0.0419967960587\n",
        "Validation Error = \t0.0886788492711\n",
        "Epoch="
       ]
      },
      {
       "output_type": "stream",
       "stream": "stdout",
       "text": [
        " 18\n",
        "Training   Error = \t0.0402143976198\n",
        "Validation Error = \t0.087348546152\n",
        "Epoch="
       ]
      },
      {
       "output_type": "stream",
       "stream": "stdout",
       "text": [
        " 19\n",
        "Training   Error = \t0.0387828095957\n",
        "Validation Error = \t0.103746351146\n",
        "Epoch="
       ]
      },
      {
       "output_type": "stream",
       "stream": "stdout",
       "text": [
        " 20\n",
        "Training   Error = \t0.0374819042174\n",
        "Validation Error = \t0.0927985378953\n",
        "Samples="
       ]
      },
      {
       "output_type": "stream",
       "stream": "stdout",
       "text": [
        " 80000     Hidden Layers= 10    Hidden Neurons= 400    F.O.M.= 0.7738625    Time= 2819.0\n",
        "Epoch="
       ]
      },
      {
       "output_type": "stream",
       "stream": "stdout",
       "text": [
        " 1\n",
        "Training   Error = \t0.197739661947\n",
        "Validation Error = \t0.241233077864\n",
        "Epoch="
       ]
      },
      {
       "output_type": "stream",
       "stream": "stdout",
       "text": [
        " 2\n",
        "Training   Error = \t0.105743991944\n",
        "Validation Error = \t0.128976512498\n",
        "Epoch="
       ]
      },
      {
       "output_type": "stream",
       "stream": "stdout",
       "text": [
        " 3\n",
        "Training   Error = \t0.0919927913741\n",
        "Validation Error = \t0.095767433043\n",
        "Epoch="
       ]
      },
      {
       "output_type": "stream",
       "stream": "stdout",
       "text": [
        " 4\n",
        "Training   Error = \t0.0830389174949\n",
        "Validation Error = \t0.0896988307839\n",
        "Epoch="
       ]
      },
      {
       "output_type": "stream",
       "stream": "stdout",
       "text": [
        " 5\n",
        "Training   Error = \t0.0771649584815\n",
        "Validation Error = \t0.0878749005347\n",
        "Epoch="
       ]
      },
      {
       "output_type": "stream",
       "stream": "stdout",
       "text": [
        " 6\n",
        "Training   Error = \t0.0719376370074\n",
        "Validation Error = \t0.0933190926329\n",
        "Epoch="
       ]
      },
      {
       "output_type": "stream",
       "stream": "stdout",
       "text": [
        " 7\n",
        "Training   Error = \t0.067807469991\n",
        "Validation Error = \t0.0785895894881\n",
        "Epoch="
       ]
      }
     ]
    },
    {
     "cell_type": "code",
     "collapsed": false,
     "input": [],
     "language": "python",
     "metadata": {},
     "outputs": []
    }
   ],
   "metadata": {}
  }
 ]
}