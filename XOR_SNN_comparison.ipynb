{
 "metadata": {
  "name": "",
  "signature": "sha256:f93f21af49155916d076b14a66a63798098e0ec5e3758576794a792e6af64f34"
 },
 "nbformat": 3,
 "nbformat_minor": 0,
 "worksheets": [
  {
   "cells": [
    {
     "cell_type": "code",
     "collapsed": false,
     "input": [
      "import theanets\n",
      "import time\n",
      "import random"
     ],
     "language": "python",
     "metadata": {},
     "outputs": [
      {
       "output_type": "stream",
       "stream": "stdout",
       "text": [
        "Couldn't import dot_parser, loading of dot files will not be possible.\n"
       ]
      }
     ],
     "prompt_number": 1
    },
    {
     "cell_type": "code",
     "collapsed": false,
     "input": [
      "from brian import *\n",
      "from brian.library.synapses import *\n",
      "from brian.clock import reinit_default_clock\n",
      "from brian.stdunits import kHz, Hz, ms\n",
      "from brian.network import Network\n",
      "from brian.monitor import StateMonitor, SpikeMonitor\n",
      "from brian.globalprefs import set_global_preferences\n",
      "from brian import clear\n",
      "\n",
      "import cPickle\n",
      "%matplotlib inline"
     ],
     "language": "python",
     "metadata": {},
     "outputs": [
      {
       "output_type": "stream",
       "stream": "stderr",
       "text": [
        "/usr/local/lib/python2.7/site-packages/brian-1.4.1-py2.7-linux-x86_64.egg/brian/utils/sparse_patch/__init__.py:39: UserWarning: Couldn't find matching sparse matrix patch for scipy version 0.15.1, but in most cases this shouldn't be a problem.\n",
        "  warnings.warn(\"Couldn't find matching sparse matrix patch for scipy version %s, but in most cases this shouldn't be a problem.\" % scipy.__version__)\n"
       ]
      }
     ],
     "prompt_number": 2
    },
    {
     "cell_type": "code",
     "collapsed": false,
     "input": [
      "X = np.array([[0, 0], [0, 1], [1, 0], [1, 1]], dtype='f')\n",
      "Y = np.array([[0], [1], [1], [0]], dtype='f')"
     ],
     "language": "python",
     "metadata": {},
     "outputs": [],
     "prompt_number": 3
    },
    {
     "cell_type": "code",
     "collapsed": false,
     "input": [
      "print \"Input=\"\n",
      "print X          "
     ],
     "language": "python",
     "metadata": {},
     "outputs": [
      {
       "output_type": "stream",
       "stream": "stdout",
       "text": [
        "Input=\n",
        "[[ 0.  0.]\n",
        " [ 0.  1.]\n",
        " [ 1.  0.]\n",
        " [ 1.  1.]]\n"
       ]
      }
     ],
     "prompt_number": 4
    },
    {
     "cell_type": "code",
     "collapsed": false,
     "input": [
      "print \"Target=\"\n",
      "print Y"
     ],
     "language": "python",
     "metadata": {},
     "outputs": [
      {
       "output_type": "stream",
       "stream": "stdout",
       "text": [
        "Target=\n",
        "[[ 0.]\n",
        " [ 1.]\n",
        " [ 1.]\n",
        " [ 0.]]\n"
       ]
      }
     ],
     "prompt_number": 5
    },
    {
     "cell_type": "code",
     "collapsed": false,
     "input": [
      "experiment1=theanets.feedforward.Regressor([2,(2, 'relu'), (1,'relu')]) \n",
      "\n",
      "# ----------\n",
      "#  for RELU\n",
      "# ----------\n",
      "#experiment1.find('hid1', 'b').set_value([0.00003,-0.00003])\n",
      "#experiment1.find('hid1', 'w').set_value([[0.7,-0.7],[-0.5,0.5]])\n",
      "#experiment1.find('out', 'b').set_value([0.001])\n",
      "#experiment1.find('out', 'w').set_value([[0.0001],[-0.0001]])\n",
      "\n",
      "experiment1.find('hid1', 'w').set_value([[1,-1],[-1,1]])\n",
      "experiment1.find('out', 'w').set_value([[1],[1]])\n",
      "\n",
      "LR             = 1e-4\n",
      "momentum       = 0.5\n",
      "hidden_dropout = 0.5\n",
      "Epoch          = 0\n",
      "\n",
      "for trn, val in experiment1.itertrain([X,Y],[X,Y],\n",
      "                                      algo            = 'rprop',\n",
      "                                      #weight_l2       = 0.01,\n",
      "                                      hidden_dropout = hidden_dropout,\n",
      "                                      learning_rate   = LR,\n",
      "                                      batch_size      = 2,\n",
      "                                      momentum        = momentum,\n",
      "                                      iteration_size  = 100):\n",
      "    if(Epoch == 1000):\n",
      "        break\n",
      "    print \"Epoch=\", Epoch+1, \" Training Error =\", trn['err'],  \"    Validation Error =\",val['err']\n",
      "    Epoch += 1\n",
      "\n",
      "print \"------------\"\n",
      "print \"Prediction=\"\n",
      "print experiment1.predict(X)"
     ],
     "language": "python",
     "metadata": {},
     "outputs": [
      {
       "output_type": "stream",
       "stream": "stdout",
       "text": [
        "Epoch= 1  Training Error = 2.21727659765     Validation Error = 2.38783639943\n",
        "Epoch= 2  Training Error = 1.61957707215     Validation Error = 2.38783639943\n",
        "Epoch= 3  Training Error = 0.651365994572     Validation Error = 2.38783639943\n",
        "Epoch="
       ]
      },
      {
       "output_type": "stream",
       "stream": "stdout",
       "text": [
        " 4  Training Error = 0.0951109124958     Validation Error = 2.38783639943\n",
        "Epoch= 5  Training Error = 0.0607700690758     Validation Error = 2.38783639943\n",
        "Epoch="
       ]
      },
      {
       "output_type": "stream",
       "stream": "stdout",
       "text": [
        " 6  Training Error = 0.0500943778574     Validation Error = 2.38783639943\n",
        "Epoch= 7  Training Error = 0.0411540072119     Validation Error = 2.38783639943\n",
        "Epoch="
       ]
      },
      {
       "output_type": "stream",
       "stream": "stdout",
       "text": [
        " 8  Training Error = 0.0340033596331     Validation Error = 2.38783639943\n",
        "Epoch= 9  Training Error = 0.0302349328796     Validation Error = 2.38783639943\n",
        "Epoch="
       ]
      },
      {
       "output_type": "stream",
       "stream": "stdout",
       "text": [
        " 10  Training Error = 0.0284298874035     Validation Error = 2.38783639943\n",
        "Epoch= 11  Training Error = 0.0266537161494     Validation Error = 0.0275024940946\n",
        "Epoch="
       ]
      },
      {
       "output_type": "stream",
       "stream": "stdout",
       "text": [
        " 12  Training Error = 0.0248761259584     Validation Error = 0.0275024940946\n",
        "Epoch= 13  Training Error = 0.0231594097642     Validation Error = 0.0275024940946\n",
        "Epoch="
       ]
      },
      {
       "output_type": "stream",
       "stream": "stdout",
       "text": [
        " 14  Training Error = 0.0215975431659     Validation Error = 0.0275024940946\n",
        "Epoch= 15  Training Error = 0.020210420148     Validation Error = 0.0275024940946\n",
        "Epoch="
       ]
      },
      {
       "output_type": "stream",
       "stream": "stdout",
       "text": [
        " 16  Training Error = 0.0191490900754     Validation Error = 0.0275024940946\n",
        "Epoch= 17  Training Error = 0.018656257858     Validation Error = 0.0275024940946\n",
        "Epoch="
       ]
      },
      {
       "output_type": "stream",
       "stream": "stdout",
       "text": [
        " 18  Training Error = 0.0184657743802     Validation Error = 0.0275024940946\n",
        "Epoch= 19  Training Error = 0.0182441560745     Validation Error = 0.0275024940946\n",
        "Epoch="
       ]
      },
      {
       "output_type": "stream",
       "stream": "stdout",
       "text": [
        " 20  Training Error = 0.0179811676201     Validation Error = 0.0275024940946\n",
        "Epoch= 21  Training Error = 0.0176659799279     Validation Error = 0.0178366702409\n",
        "Epoch="
       ]
      },
      {
       "output_type": "stream",
       "stream": "stdout",
       "text": [
        " 22  Training Error = 0.0172893437102     Validation Error = 0.0178366702409\n",
        "Epoch= 23  Training Error = 0.0169102962537     Validation Error = 0.0178366702409\n",
        "Epoch="
       ]
      },
      {
       "output_type": "stream",
       "stream": "stdout",
       "text": [
        " 24  Training Error = 0.0164608522409     Validation Error = 0.0178366702409\n",
        "Epoch= 25  Training Error = 0.0159649699987     Validation Error = 0.0178366702409\n",
        "Epoch="
       ]
      },
      {
       "output_type": "stream",
       "stream": "stdout",
       "text": [
        " 26  Training Error = 0.0154742104788     Validation Error = 0.0178366702409\n",
        "Epoch= 27  Training Error = 0.0148163855778     Validation Error = 0.0178366702409\n",
        "Epoch="
       ]
      },
      {
       "output_type": "stream",
       "stream": "stdout",
       "text": [
        " 28  Training Error = 0.0141352515967     Validation Error = 0.0178366702409\n",
        "Epoch= 29  Training Error = 0.0134605690181     Validation Error = 0.0178366702409\n",
        "Epoch="
       ]
      },
      {
       "output_type": "stream",
       "stream": "stdout",
       "text": [
        " 30  Training Error = 0.01282556623     Validation Error = 0.0178366702409\n",
        "Epoch= 31  Training Error = 0.0121059073311     Validation Error = 0.0124651290288\n",
        "Epoch="
       ]
      },
      {
       "output_type": "stream",
       "stream": "stdout",
       "text": [
        " 32  Training Error = 0.011405441934     Validation Error = 0.0124651290288\n",
        "Epoch= 33  Training Error = 0.0107036181495     Validation Error = 0.0124651290288\n",
        "Epoch="
       ]
      },
      {
       "output_type": "stream",
       "stream": "stdout",
       "text": [
        " 34  Training Error = 0.0099582649212     Validation Error = 0.0124651290288\n",
        "Epoch= 35  Training Error = 0.00926243752875     Validation Error = 0.0124651290288\n",
        "Epoch="
       ]
      },
      {
       "output_type": "stream",
       "stream": "stdout",
       "text": [
        " 36  Training Error = 0.00850118854748     Validation Error = 0.0124651290288\n",
        "Epoch= 37  Training Error = 0.00768286328252     Validation Error = 0.0124651290288\n",
        "Epoch="
       ]
      },
      {
       "output_type": "stream",
       "stream": "stdout",
       "text": [
        " 38  Training Error = 0.00692908861     Validation Error = 0.0124651290288\n",
        "Epoch= 39  Training Error = 0.00620865055595     Validation Error = 0.0124651290288\n",
        "Epoch="
       ]
      },
      {
       "output_type": "stream",
       "stream": "stdout",
       "text": [
        " 40  Training Error = 0.00562925377078     Validation Error = 0.0124651290288\n",
        "Epoch= 41  Training Error = 0.00503804626374     Validation Error = 0.00532357609328\n",
        "Epoch="
       ]
      },
      {
       "output_type": "stream",
       "stream": "stdout",
       "text": [
        " 42  Training Error = 0.00443927989164     Validation Error = 0.00532357609328\n",
        "Epoch= 43  Training Error = 0.00383471024866     Validation Error = 0.00532357609328\n",
        "Epoch="
       ]
      },
      {
       "output_type": "stream",
       "stream": "stdout",
       "text": [
        " 44  Training Error = 0.00326797174203     Validation Error = 0.00532357609328\n",
        "Epoch= 45  Training Error = 0.00278622941951     Validation Error = 0.00532357609328\n",
        "Epoch="
       ]
      },
      {
       "output_type": "stream",
       "stream": "stdout",
       "text": [
        " 46  Training Error = 0.00232356981781     Validation Error = 0.00532357609328\n",
        "Epoch= 47  Training Error = 0.00187142329505     Validation Error = 0.00532357609328\n",
        "Epoch="
       ]
      },
      {
       "output_type": "stream",
       "stream": "stdout",
       "text": [
        " 48  Training Error = 0.00147595146191     Validation Error = 0.00532357609328\n",
        "Epoch= 49  Training Error = 0.00114273876999     Validation Error = 0.00532357609328\n",
        "Epoch="
       ]
      },
      {
       "output_type": "stream",
       "stream": "stdout",
       "text": [
        " 50  Training Error = 0.000864306578477     Validation Error = 0.00532357609328\n",
        "Epoch= 51  Training Error = 0.000631027864213     Validation Error = 0.00073998032819\n",
        "Epoch="
       ]
      },
      {
       "output_type": "stream",
       "stream": "stdout",
       "text": [
        " 52  Training Error = 0.000434274287645     Validation Error = 0.00073998032819\n",
        "Epoch= 53  Training Error = 0.000261509919501     Validation Error = 0.00073998032819\n",
        "Epoch="
       ]
      },
      {
       "output_type": "stream",
       "stream": "stdout",
       "text": [
        " 54  Training Error = 0.000139120813492     Validation Error = 0.00073998032819\n",
        "Epoch= 55  Training Error = 5.18080365221e-05     Validation Error = 0.00073998032819\n",
        "Epoch="
       ]
      },
      {
       "output_type": "stream",
       "stream": "stdout",
       "text": [
        " 56  Training Error = 7.68360903236e-06     Validation Error = 0.00073998032819\n",
        "Epoch= 57  Training Error = 1.56422544673e-07     Validation Error = 0.00073998032819\n",
        "Epoch="
       ]
      },
      {
       "output_type": "stream",
       "stream": "stdout",
       "text": [
        " 58  Training Error = 1.886189789e-07     Validation Error = 0.00073998032819\n",
        "Epoch= 59  Training Error = 1.49484051567e-07     Validation Error = 0.00073998032819\n",
        "Epoch="
       ]
      },
      {
       "output_type": "stream",
       "stream": "stdout",
       "text": [
        " 60  Training Error = 1.44058011037e-07     Validation Error = 0.00073998032819\n",
        "Epoch= 61  Training Error = 1.58372465127e-07     Validation Error = 1.79507925548e-07\n",
        "Epoch="
       ]
      },
      {
       "output_type": "stream",
       "stream": "stdout",
       "text": [
        " 62  Training Error = 2.03531402706e-07     Validation Error = 1.79507925548e-07\n",
        "Epoch= 63  Training Error = 1.73846640846e-07     Validation Error = 1.79507925548e-07\n",
        "Epoch="
       ]
      },
      {
       "output_type": "stream",
       "stream": "stdout",
       "text": [
        " 64  Training Error = 2.03034378737e-07     Validation Error = 1.79507925548e-07\n",
        "Epoch= 65  Training Error = 1.58329641562e-07     Validation Error = 1.79507925548e-07\n",
        "Epoch="
       ]
      },
      {
       "output_type": "stream",
       "stream": "stdout",
       "text": [
        " 66  Training Error = 1.59863495523e-07     Validation Error = 1.79507925548e-07\n",
        "Epoch= 67  Training Error = 1.45026824444e-07     Validation Error = 1.79507925548e-07\n",
        "Epoch= 68  Training Error = 1.53995129361e-07     Validation Error = 1.79507925548e-07\n",
        "Epoch="
       ]
      },
      {
       "output_type": "stream",
       "stream": "stdout",
       "text": [
        " 69  Training Error = 1.59129182574e-07     Validation Error = 1.79507925548e-07\n",
        "Epoch= 70  Training Error = 1.28571878439e-07     Validation Error = 1.79507925548e-07\n",
        "Epoch="
       ]
      },
      {
       "output_type": "stream",
       "stream": "stdout",
       "text": [
        " 71  Training Error = 1.55216630064e-07     Validation Error = 1.27335771784e-07\n",
        "Epoch= 72  Training Error = 1.47675938194e-07     Validation Error = 1.27335771784e-07\n",
        "Epoch="
       ]
      },
      {
       "output_type": "stream",
       "stream": "stdout",
       "text": [
        " 73  Training Error = 1.45425780473e-07     Validation Error = 1.27335771784e-07\n",
        "Epoch= 74  Training Error = 1.36515491592e-07     Validation Error = 1.27335771784e-07\n",
        "Epoch= 75  Training Error = 1.36968024627e-07     Validation Error = 1.27335771784e-07\n",
        "Epoch="
       ]
      },
      {
       "output_type": "stream",
       "stream": "stdout",
       "text": [
        " 76  Training Error = 1.42252338361e-07     Validation Error = 1.27335771784e-07\n",
        "Epoch= 77  Training Error = 1.55954615371e-07     Validation Error = 1.27335771784e-07\n",
        "Epoch="
       ]
      },
      {
       "output_type": "stream",
       "stream": "stdout",
       "text": [
        " 78  Training Error = 1.22642997802e-07     Validation Error = 1.27335771784e-07\n",
        "Epoch= 79  Training Error = 1.5706519588e-07     Validation Error = 1.27335771784e-07\n",
        "Epoch="
       ]
      },
      {
       "output_type": "stream",
       "stream": "stdout",
       "text": [
        " 80  Training Error = 1.32502471115e-07     Validation Error = 1.27335771784e-07\n",
        "Epoch= 81  Training Error = 1.43273440649e-07     Validation Error = 4.55865948141e-09\n",
        "Epoch="
       ]
      },
      {
       "output_type": "stream",
       "stream": "stdout",
       "text": [
        " 82  Training Error = 1.47236723019e-07     Validation Error = 4.55865948141e-09\n",
        "Epoch= 83  Training Error = 1.44119020199e-07     Validation Error = 4.55865948141e-09\n",
        "Epoch= 84  Training Error = 1.79918387011e-07"
       ]
      },
      {
       "output_type": "stream",
       "stream": "stdout",
       "text": [
        "     Validation Error = 4.55865948141e-09\n",
        "Epoch= 85  Training Error = 2.09700774647e-07     Validation Error = 4.55865948141e-09\n",
        "Epoch= 86  Training Error = 2.15713256824e-07     Validation Error = 4.55865948141e-09\n",
        "Epoch="
       ]
      },
      {
       "output_type": "stream",
       "stream": "stdout",
       "text": [
        " 87  Training Error = 2.331443172e-07     Validation Error = 4.55865948141e-09\n",
        "Epoch= 88  Training Error = 2.28207061872e-07     Validation Error = 4.55865948141e-09\n",
        "Epoch="
       ]
      },
      {
       "output_type": "stream",
       "stream": "stdout",
       "text": [
        " 89  Training Error = 2.36482836188e-07     Validation Error = 4.55865948141e-09\n",
        "Epoch= 90  Training Error = 2.5969312792e-07     Validation Error = 4.55865948141e-09\n",
        "Epoch="
       ]
      },
      {
       "output_type": "stream",
       "stream": "stdout",
       "text": [
        " 91  Training Error = 2.50585995224e-07     Validation Error = 6.20079439274e-08\n",
        "Epoch= 92  Training Error = 2.84930686774e-07     Validation Error = 6.20079439274e-08\n",
        "Epoch= 93  Training Error = 2.87742401034e-07     Validation Error = 6.20079439274e-08\n",
        "Epoch="
       ]
      },
      {
       "output_type": "stream",
       "stream": "stdout",
       "text": [
        " 94  Training Error = 2.69859175556e-07     Validation Error = 6.20079439274e-08\n",
        "Epoch= 95  Training Error = 3.14606862774e-07     Validation Error = 6.20079439274e-08\n",
        "Epoch="
       ]
      },
      {
       "output_type": "stream",
       "stream": "stdout",
       "text": [
        " 96  Training Error = 3.22587462959e-07     Validation Error = 6.20079439274e-08\n",
        "Epoch= 97  Training Error = 3.37852184101e-07     Validation Error = 6.20079439274e-08\n",
        "Epoch= 98  Training Error = 3.36432170148e-07     Validation Error = 6.20079439274e-08\n",
        "Epoch="
       ]
      },
      {
       "output_type": "stream",
       "stream": "stdout",
       "text": [
        " 99  Training Error = 3.84277429931e-07     Validation Error = 6.20079439274e-08\n",
        "Epoch= 100  Training Error = 3.73335191425e-07     Validation Error = 6.20079439274e-08\n",
        "Epoch="
       ]
      },
      {
       "output_type": "stream",
       "stream": "stdout",
       "text": [
        " 101  Training Error = 3.47267706774e-07     Validation Error = 3.7263458188e-07\n",
        "Epoch= 102  Training Error = 3.44649042313e-07     Validation Error = 3.7263458188e-07\n",
        "Epoch="
       ]
      },
      {
       "output_type": "stream",
       "stream": "stdout",
       "text": [
        " 103  Training Error = 4.09848110718e-07     Validation Error = 3.7263458188e-07\n",
        "Epoch= 104  Training Error = 3.88651181743e-07     Validation Error = 3.7263458188e-07\n",
        "Epoch="
       ]
      },
      {
       "output_type": "stream",
       "stream": "stdout",
       "text": [
        " 105  Training Error = 3.63075958882e-07     Validation Error = 3.7263458188e-07\n",
        "Epoch= 106  Training Error = 4.19762393778e-07     Validation Error = 3.7263458188e-07\n",
        "Epoch="
       ]
      },
      {
       "output_type": "stream",
       "stream": "stdout",
       "text": [
        " 107  Training Error = 4.23439322211e-07     Validation Error = 3.7263458188e-07\n",
        "Epoch= 108  Training Error = 4.56558555503e-07     Validation Error = 3.7263458188e-07\n",
        "Epoch= 109  Training Error = 4.39298171549e-07"
       ]
      },
      {
       "output_type": "stream",
       "stream": "stdout",
       "text": [
        "     Validation Error = 3.7263458188e-07\n",
        "Epoch= 110  Training Error = 4.7239850375e-07     Validation Error = 3.7263458188e-07\n",
        "Epoch="
       ]
      },
      {
       "output_type": "stream",
       "stream": "stdout",
       "text": [
        " 111  Training Error = 4.50842341125e-07     Validation Error = 1.24542407688e-07\n",
        "Epoch= 112  Training Error = 4.92906672976e-07     Validation Error = 1.24542407688e-07\n",
        "Epoch="
       ]
      },
      {
       "output_type": "stream",
       "stream": "stdout",
       "text": [
        " 113  Training Error = 4.75197994889e-07     Validation Error = 1.24542407688e-07\n",
        "Epoch= 114  Training Error = 4.65785643251e-07     Validation Error = 1.24542407688e-07\n",
        "Epoch= 115  Training Error = 4.79124189636e-07     Validation Error = 1.24542407688e-07\n",
        "Epoch="
       ]
      },
      {
       "output_type": "stream",
       "stream": "stdout",
       "text": [
        " 116  Training Error = 4.57660122653e-07     Validation Error = 1.24542407688e-07\n",
        "Epoch= 117  Training Error = 4.44864011222e-07     Validation Error = 1.24542407688e-07\n",
        "Epoch= 118  Training Error = 4.46857847901e-07     Validation Error = 1.24542407688e-07\n",
        "Epoch="
       ]
      },
      {
       "output_type": "stream",
       "stream": "stdout",
       "text": [
        " 119  Training Error = 4.21163932741e-07     Validation Error = 1.24542407688e-07\n",
        "Epoch= 120  Training Error = 4.38495256932e-07     Validation Error = 1.24542407688e-07\n",
        "Epoch="
       ]
      },
      {
       "output_type": "stream",
       "stream": "stdout",
       "text": [
        " 121  Training Error = 4.6714078846e-07     Validation Error = 3.24357963958e-07\n",
        "Epoch= 122  Training Error = 4.34586430998e-07     Validation Error = 3.24357963958e-07\n",
        "Epoch= 123  Training Error = 4.90960484941e-07     Validation Error = 3.24357963958e-07\n",
        "Epoch="
       ]
      },
      {
       "output_type": "stream",
       "stream": "stdout",
       "text": [
        " 124  Training Error = 5.34979302036e-07     Validation Error = 3.24357963958e-07\n",
        "Epoch= 125  Training Error = 6.05131556475e-07     Validation Error = 3.24357963958e-07\n",
        "Epoch= 126  Training Error = 6.5185916821e-07     Validation Error = 3.24357963958e-07\n",
        "Epoch="
       ]
      },
      {
       "output_type": "stream",
       "stream": "stdout",
       "text": [
        " 127  Training Error = 6.06252080114e-07     Validation Error = 3.24357963958e-07\n",
        "Epoch= 128  Training Error = 6.31291765673e-07     Validation Error = 3.24357963958e-07\n",
        "Epoch= 129  Training Error = 7.39611964406e-07     Validation Error ="
       ]
      },
      {
       "output_type": "stream",
       "stream": "stdout",
       "text": [
        " 3.24357963958e-07\n",
        "Epoch= 130  Training Error = 7.71407917166e-07     Validation Error = 3.24357963958e-07\n",
        "Epoch="
       ]
      },
      {
       "output_type": "stream",
       "stream": "stdout",
       "text": [
        " 131  Training Error = 7.32193868705e-07     Validation Error = 1.35492950144e-06\n",
        "Epoch= 132  Training Error = 7.07216317297e-07     Validation Error = 1.35492950144e-06\n",
        "Epoch="
       ]
      },
      {
       "output_type": "stream",
       "stream": "stdout",
       "text": [
        " 133  Training Error = 7.03485525955e-07     Validation Error = 1.35492950144e-06\n",
        "Epoch= 134  Training Error = 6.6072484443e-07     Validation Error = 1.35492950144e-06\n",
        "Epoch= 135  Training Error = 6.6689377593e-07     Validation Error = 1.35492950144e-06\n",
        "Epoch="
       ]
      },
      {
       "output_type": "stream",
       "stream": "stdout",
       "text": [
        " 136  Training Error = 6.15127779487e-07     Validation Error = 1.35492950144e-06\n",
        "Epoch= 137  Training Error = 6.15893243262e-07     Validation Error = 1.35492950144e-06\n",
        "Epoch= 138  Training Error = 7.00557062664e-07     Validation Error = 1.35492950144e-06\n",
        "Epoch="
       ]
      },
      {
       "output_type": "stream",
       "stream": "stdout",
       "text": [
        " 139  Training Error = 6.96224348881e-07     Validation Error = 1.35492950144e-06\n",
        "Epoch= 140  Training Error = 6.67578856683e-07     Validation Error = 1.35492950144e-06\n",
        "------------\n",
        "Prediction=\n",
        "[[ 0.        ]\n",
        " [ 0.99988573]\n",
        " [ 1.00007195]\n",
        " [ 0.        ]]"
       ]
      },
      {
       "output_type": "stream",
       "stream": "stdout",
       "text": [
        "\n"
       ]
      }
     ],
     "prompt_number": 6
    },
    {
     "cell_type": "code",
     "collapsed": false,
     "input": [
      "experiment1.find('hid1', 'w').set_value([[1,-1],[-1,1]])\n",
      "experiment1.find('out', 'w').set_value([[1],[1]])"
     ],
     "language": "python",
     "metadata": {},
     "outputs": [],
     "prompt_number": 7
    },
    {
     "cell_type": "code",
     "collapsed": false,
     "input": [
      "# Get the weights\n",
      "Layers_Weights =[]     #list of tuples: [(nNeurons, weights), ( tuple of the 3rd layer ), (  4th layer), .... ]\n",
      "\n",
      "for Layer in experiment1.layers[1:]:\n",
      "    nNeurons  = Layer.size\n",
      "    Weights1  = experiment1.find(Layer.name, 'w').get_value()\n",
      "    Layers_Weights.append((nNeurons, Weights1)) \n",
      "\n",
      "print \"Hidden Layer - Weights:\" \n",
      "print Layers_Weights[0][1][0], Layers_Weights[0][1][1]\n",
      "print \"\"\n",
      "print \"Output Layer - Weights:\"\n",
      "print Layers_Weights[1][1]"
     ],
     "language": "python",
     "metadata": {},
     "outputs": [
      {
       "output_type": "stream",
       "stream": "stdout",
       "text": [
        "Hidden Layer - Weights:\n",
        "[ 1. -1.] [-1.  1.]\n",
        "\n",
        "Output Layer - Weights:\n",
        "[[ 1.]\n",
        " [ 1.]]\n"
       ]
      }
     ],
     "prompt_number": 8
    },
    {
     "cell_type": "code",
     "collapsed": false,
     "input": [
      "# Spike-based Testing of Fully-Connected NN\n",
      "\n",
      "v_th     = 950 * mV\n",
      "v_r      = 0.0  * mV\n",
      "duration = 5000 * ms \n",
      "dt       = 1000 * ms\n",
      "tau_m    = dt\n",
      "\n",
      "eqs = '''\n",
      "dv/dt = -v/tau_m : volt\n",
      "'''\n",
      "\n",
      "reinit_default_clock()\n",
      "clear(True)\n",
      "\n",
      "# Build populations\n",
      "pops=[]\n",
      "conns=[]\n",
      "\n",
      "pops.append(PoissonGroup(2))                                                         # Input Layer\n",
      "\n",
      "for (layer_num, layer_size) in enumerate(Layers_Weights):\n",
      "    pops.append(NeuronGroup(layer_size[0], eqs, threshold=v_th ,reset=v_r))          # Hidden Layer(s) + Output\n",
      "for (layer_num, weights) in enumerate(Layers_Weights):\n",
      "    c = Connection(pops[layer_num], pops[layer_num+1], 'v', weight=weights[1]*1000*mV)\n",
      "    conns.append(c)"
     ],
     "language": "python",
     "metadata": {},
     "outputs": [],
     "prompt_number": 9
    },
    {
     "cell_type": "code",
     "collapsed": false,
     "input": [
      "def emulate(index):\n",
      "    reinit_default_clock()\n",
      "\n",
      "    pops[1].v =0\n",
      "    pops[-1].v =0\n",
      "    \n",
      "    in_value = X[index]\n",
      "    target   = Y[index]\n",
      "\n",
      "    pops[0].rate = in_value*0.2*30*Hz     # in the range [0,0.2]\n",
      "        \n",
      "    Mvmid   = StateMonitor(pops[1], 'v', record=True)\n",
      "    Mvout   = StateMonitor(pops[-1], 'v', record=True)\n",
      "    Cout = SpikeCounter(pops[-1])\n",
      "    Cmid = SpikeCounter(pops[1])\n",
      "    Cin  = SpikeCounter(pops[0])\n",
      "\n",
      "    Mout = SpikeMonitor(pops[-1])\n",
      "    Min  = SpikeMonitor(pops[0])\n",
      "\n",
      "    run(duration)\n",
      "\n",
      "    #print \" ------------- Sample: \",index, \" -------------\"\n",
      "    #print \"Given Inputs:\",  \"                                  Given Target:\", target\n",
      "    #print in_value\n",
      "    \n",
      "    #print \"\"\n",
      "    #print \"Spiking\"\n",
      "    #print \"Input Layer       =\"  ,Cin.count\n",
      "    #print \"First Hidden Layer=\"  ,Cmid.count\n",
      "    #print \"Output Layer      =\"  ,Cout.count\n",
      "\n",
      "    \n",
      "    #plot(Mvmid.times/ms, Mvmid[0]/mV)\n",
      "    #plt.xlabel(\"Time (ms)\")\n",
      "    #plt.ylabel(\"Voltage hidden[0] (mV)\")\n",
      "    #show()\n",
      "    #plot(Mvmid.times/ms, Mvmid[1]/mV)\n",
      "    #plt.xlabel(\"Time (ms)\")\n",
      "    #plt.ylabel(\"Voltage hidden[1] (mV)\")\n",
      "    #show()\n",
      "    #plot(Mvout.times/ms, Mvout[0]/mV)\n",
      "    #plt.xlabel(\"Time (ms)\")\n",
      "    #plt.ylabel(\"Voltage (mV)\")\n",
      "    #show()\n",
      "    \n",
      "    return Cout.count"
     ],
     "language": "python",
     "metadata": {},
     "outputs": [],
     "prompt_number": 10
    },
    {
     "cell_type": "code",
     "collapsed": false,
     "input": [
      "emulate(0)[0]"
     ],
     "language": "python",
     "metadata": {},
     "outputs": [
      {
       "metadata": {},
       "output_type": "pyout",
       "prompt_number": 27,
       "text": [
        "0"
       ]
      }
     ],
     "prompt_number": 27
    },
    {
     "cell_type": "code",
     "collapsed": false,
     "input": [
      "emulate(1)[0]"
     ],
     "language": "python",
     "metadata": {},
     "outputs": [
      {
       "metadata": {},
       "output_type": "pyout",
       "prompt_number": 28,
       "text": [
        "31"
       ]
      }
     ],
     "prompt_number": 28
    },
    {
     "cell_type": "code",
     "collapsed": false,
     "input": [
      "emulate(2)"
     ],
     "language": "python",
     "metadata": {},
     "outputs": [
      {
       "metadata": {},
       "output_type": "pyout",
       "prompt_number": 25,
       "text": [
        "array([19])"
       ]
      }
     ],
     "prompt_number": 25
    },
    {
     "cell_type": "code",
     "collapsed": false,
     "input": [
      "emulate(3)"
     ],
     "language": "python",
     "metadata": {},
     "outputs": [
      {
       "metadata": {},
       "output_type": "pyout",
       "prompt_number": 26,
       "text": [
        "array([18])"
       ]
      }
     ],
     "prompt_number": 26
    },
    {
     "cell_type": "code",
     "collapsed": false,
     "input": [
      "c=conns[-1]\n",
      "c.W.alldata"
     ],
     "language": "python",
     "metadata": {},
     "outputs": [],
     "prompt_number": 76
    },
    {
     "cell_type": "code",
     "collapsed": false,
     "input": [
      "nTrials=400\n",
      "\n",
      "spikes_0=[]  \n",
      "spikes_1=[]\n",
      "spikes_2=[]\n",
      "spikes_3=[]\n",
      "\n",
      "for iT in range(nTrials):\n",
      "    if(iT%20 == 0):\n",
      "        print iT\n",
      "    spikes_0.append(emulate(0)[0])\n",
      "    spikes_1.append(emulate(1)[0])\n",
      "    spikes_2.append(emulate(2)[0])\n",
      "    spikes_3.append(emulate(3)[0])"
     ],
     "language": "python",
     "metadata": {},
     "outputs": [
      {
       "output_type": "stream",
       "stream": "stdout",
       "text": [
        "0\n",
        "20"
       ]
      },
      {
       "output_type": "stream",
       "stream": "stdout",
       "text": [
        "\n",
        "100"
       ]
      },
      {
       "output_type": "stream",
       "stream": "stdout",
       "text": [
        "\n",
        "120"
       ]
      },
      {
       "output_type": "stream",
       "stream": "stdout",
       "text": [
        "\n",
        "140"
       ]
      },
      {
       "output_type": "stream",
       "stream": "stdout",
       "text": [
        "\n",
        "160"
       ]
      },
      {
       "output_type": "stream",
       "stream": "stdout",
       "text": [
        "\n",
        "180"
       ]
      },
      {
       "output_type": "stream",
       "stream": "stdout",
       "text": [
        "\n",
        "200"
       ]
      },
      {
       "output_type": "stream",
       "stream": "stdout",
       "text": [
        "\n",
        "220"
       ]
      },
      {
       "output_type": "stream",
       "stream": "stdout",
       "text": [
        "\n",
        "240"
       ]
      },
      {
       "output_type": "stream",
       "stream": "stdout",
       "text": [
        "\n",
        "260"
       ]
      },
      {
       "output_type": "stream",
       "stream": "stdout",
       "text": [
        "\n",
        "280"
       ]
      },
      {
       "output_type": "stream",
       "stream": "stdout",
       "text": [
        "\n",
        "300"
       ]
      },
      {
       "output_type": "stream",
       "stream": "stdout",
       "text": [
        "\n",
        "320"
       ]
      },
      {
       "output_type": "stream",
       "stream": "stdout",
       "text": [
        "\n",
        "340"
       ]
      },
      {
       "output_type": "stream",
       "stream": "stdout",
       "text": [
        "\n",
        "360"
       ]
      },
      {
       "output_type": "stream",
       "stream": "stdout",
       "text": [
        "\n",
        "380"
       ]
      },
      {
       "output_type": "stream",
       "stream": "stdout",
       "text": [
        "\n"
       ]
      }
     ]
    },
    {
     "cell_type": "code",
     "collapsed": false,
     "input": [
      "print len(spikes_0)"
     ],
     "language": "python",
     "metadata": {},
     "outputs": [
      {
       "output_type": "stream",
       "stream": "stdout",
       "text": [
        "400\n"
       ]
      }
     ],
     "prompt_number": 158
    },
    {
     "cell_type": "code",
     "collapsed": false,
     "input": [
      "plt.hist(spikes_0, label=\"Sample (0,0)\")\n",
      "plt.hist(spikes_1, label=\"Sample (0,1)\")\n",
      "plt.hist(spikes_2, label=\"Sample (1,0)\")\n",
      "plt.hist(spikes_3, label=\"Sample (1,1)\")\n",
      "plt.xlabel(\"Number of Spikes\")\n",
      "plt.ylabel(\"Number of Trials\")\n",
      "plt.grid(True)\n",
      "plt.legend(loc='best')"
     ],
     "language": "python",
     "metadata": {},
     "outputs": [
      {
       "metadata": {},
       "output_type": "pyout",
       "prompt_number": 159,
       "text": [
        "<matplotlib.legend.Legend at 0x7f75274eea90>"
       ]
      },
      {
       "metadata": {},
       "output_type": "display_data",
       "png": "[encoded data removed]",
       "text": [
        "<matplotlib.figure.Figure at 0x7f75274eead0>"
       ]
      }
     ],
     "prompt_number": 159
    },
    {
     "cell_type": "code",
     "collapsed": false,
     "input": [
      "def PassFail(Sample, Cut):\n",
      "    Pass=[]\n",
      "    for i,iT in enumerate(Sample):\n",
      "        Pass.append(iT>Cut)\n",
      "    return Pass        "
     ],
     "language": "python",
     "metadata": {},
     "outputs": [],
     "prompt_number": 161
    },
    {
     "cell_type": "code",
     "collapsed": false,
     "input": [
      "Agree_0=[]\n",
      "Agree_1=[]\n",
      "Agree_2=[]\n",
      "Agree_3=[]\n",
      "Disagree_0=[]\n",
      "Disagree_1=[]\n",
      "Disagree_2=[]\n",
      "Disagree_3=[]\n",
      "\n",
      "Cut= [19,20,21,22,23,24]\n",
      "\n",
      "for i, iCut in enumerate(Cut):\n",
      "\n",
      "    Agree_0.append(PassFail(spikes_0,iCut).count(Y[0]))\n",
      "    Agree_1.append(PassFail(spikes_1,iCut).count(Y[1]))\n",
      "    Agree_2.append(PassFail(spikes_2,iCut).count(Y[2]))\n",
      "    Agree_3.append(PassFail(spikes_3,iCut).count(Y[3]))\n",
      "    \n",
      "    Disagree_0.append(PassFail(spikes_0,iCut).count(1))\n",
      "    Disagree_1.append(PassFail(spikes_1,iCut).count(0))\n",
      "    Disagree_2.append(PassFail(spikes_2,iCut).count(0))\n",
      "    Disagree_3.append(PassFail(spikes_3,iCut).count(1))"
     ],
     "language": "python",
     "metadata": {},
     "outputs": [],
     "prompt_number": 162
    },
    {
     "cell_type": "code",
     "collapsed": false,
     "input": [
      "ind = np.arange(len(Cut))\n",
      "width = 0.15             \n",
      "\n",
      "fig, ax = plt.subplots()\n",
      "Sample0 = ax.bar(ind, Agree_0, width, color='r')\n",
      "Sample1 = ax.bar(ind+width  , Agree_1, width, color='b')\n",
      "Sample2 = ax.bar(ind+2*width, Agree_2, width, color='y')\n",
      "Sample3 = ax.bar(ind+3*width, Agree_3, width, color='c')\n",
      "\n",
      "ax.set_ylabel('Agreement (%)')\n",
      "ax.set_xlabel(\"Cut on number of Spikes\")\n",
      "ax.set_title('Agreement for different Cuts')\n",
      "ax.set_xticks(ind+width)\n",
      "ax.set_xticklabels(Cut)\n",
      "\n",
      "ax.legend( (Sample0[0], Sample1[0], Sample2[0], Sample3[0]), ('[0,0]', '[1,0]','[0,1]','[1,1]') )\n",
      "ax.set_ylim(0,420)"
     ],
     "language": "python",
     "metadata": {},
     "outputs": [
      {
       "metadata": {},
       "output_type": "pyout",
       "prompt_number": 168,
       "text": [
        "(0, 420)"
       ]
      },
      {
       "metadata": {},
       "output_type": "display_data",
       "png": "[encoded data removed]",
       "text": [
        "<matplotlib.figure.Figure at 0x7f75269e5990>"
       ]
      }
     ],
     "prompt_number": 168
    },
    {
     "cell_type": "code",
     "collapsed": false,
     "input": [
      "ind = np.arange(len(Cut))  # the x locations for the groups\n",
      "width = 0.15       # the width of the bars\n",
      "\n",
      "fig, ax = plt.subplots()\n",
      "Sample0 = ax.bar(ind, Disagree_0, width, color='r')\n",
      "Sample1 = ax.bar(ind+width, Disagree_1, width, color='b')\n",
      "Sample2 = ax.bar(ind+2*width, Disagree_2, width, color='y')\n",
      "Sample3 = ax.bar(ind+3*width, Disagree_3, width, color='c')\n",
      "\n",
      "ax.set_ylabel('Disagreement')\n",
      "ax.set_xlabel(\"Cut on number of Spikes\")\n",
      "ax.set_title('Disagreement for different Cuts')\n",
      "ax.set_xticks(ind+width)\n",
      "ax.set_xticklabels(Cut)\n",
      "ax.legend( (Sample0[0], Sample1[0], Sample2[0], Sample3[0]), ('[0,0]', '[1,0]','[0,1]','[1,1]') )\n",
      "ax.set_ylim(0,120)"
     ],
     "language": "python",
     "metadata": {},
     "outputs": [
      {
       "metadata": {},
       "output_type": "pyout",
       "prompt_number": 171,
       "text": [
        "(0, 120)"
       ]
      },
      {
       "metadata": {},
       "output_type": "display_data",
       "png": "[encoded data removed]",
       "text": [
        "<matplotlib.figure.Figure at 0x7f7526bbbe10>"
       ]
      }
     ],
     "prompt_number": 171
    },
    {
     "cell_type": "code",
     "collapsed": false,
     "input": [
      "print \"Sample 0=\" ,  Agree_0[2]/400. ,\"%\"\n",
      "print \"Sample 1=\" ,  Agree_1[2]/400. ,\"%\"\n",
      "print \"Sample 2=\" ,  Agree_2[2]/400. ,\"%\"\n",
      "print \"Sample 3=\" ,  Agree_3[2]/400. ,\"%\""
     ],
     "language": "python",
     "metadata": {},
     "outputs": []
    }
   ],
   "metadata": {}
  }
 ]
}