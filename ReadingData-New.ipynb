{
 "metadata": {
  "name": "",
  "signature": "sha256:9976225fcbb69053173559e6b9b20eaa6936c518985de60682bfbfa977976666"
 },
 "nbformat": 3,
 "nbformat_minor": 0,
 "worksheets": [
  {
   "cells": [
    {
     "cell_type": "code",
     "collapsed": false,
     "input": [
      "import h5py\n",
      "import time\n",
      "import numpy as np\n",
      "import theanets"
     ],
     "language": "python",
     "metadata": {},
     "outputs": [],
     "prompt_number": 5
    },
    {
     "cell_type": "code",
     "collapsed": false,
     "input": [
      "f=h5py.File(\"data/data.hdf5\")\n",
      "f.keys()\n",
      "f['data'].keys()\n",
      "input_matrix = f['data']['input'].value\n",
      "target_matrix = f['data']['target'].value\n",
      "decorator_matrix = f['data']['deco'].value\n",
      "f.close()"
     ],
     "language": "python",
     "metadata": {},
     "outputs": [],
     "prompt_number": 2
    },
    {
     "cell_type": "code",
     "collapsed": false,
     "input": [
      "## take only first .. samples\n",
      "truncate=10000\n",
      "\n",
      "nInputs = input_matrix.shape[1]\n",
      "nOutputs = target_matrix.shape[1]\n",
      "\n",
      "input_matrix = input_matrix[0:truncate,...]\n",
      "target_matrix = target_matrix[0:truncate,...]\n",
      "decorator_matrix = decorator_matrix[0:truncate,...]"
     ],
     "language": "python",
     "metadata": {},
     "outputs": [
      {
       "output_type": "stream",
       "stream": "stdout",
       "text": [
        "(10000, 82)\n"
       ]
      }
     ],
     "prompt_number": 5
    },
    {
     "cell_type": "code",
     "collapsed": false,
     "input": [
      "input_matrix.shape"
     ],
     "language": "python",
     "metadata": {},
     "outputs": [
      {
       "metadata": {},
       "output_type": "pyout",
       "prompt_number": 7,
       "text": [
        "(10000, 82)"
       ]
      }
     ],
     "prompt_number": 7
    },
    {
     "cell_type": "code",
     "collapsed": false,
     "input": [
      "def allincluded( truncated, nHiddenLayers, epochs, trainings):\n",
      "    timing = 0\n",
      "    fom = 1.0\n",
      "    \n",
      "    exp=theanets.Experiment(theanets.feedforward.Regressor(layers=(nInputs,)+tuple([nInputs for l in range(nHiddenLayers)])+ ( (nOutputs, 'sigmoid'),)),'layerwise')    \n",
      "    \n",
      "    \n",
      "    cut   =int(input_matrix.shape[0]*0.8)\n",
      "    train =input_matrix[:cut], target_matrix[:cut]\n",
      "    valid =input_matrix[cut:], target_matrix[cut:]\n",
      "    \n",
      "    return (fom, timing)"
     ],
     "language": "python",
     "metadata": {},
     "outputs": [],
     "prompt_number": 8
    },
    {
     "cell_type": "code",
     "collapsed": false,
     "input": [
      "nInputs = input_matrix.shape[1]\n",
      "nOutputs = target_matrix.shape[1]\n",
      "nHiddenLayers = 3\n",
      "exp=theanets.Experiment(theanets.feedforward.Regressor(layers=(nInputs,)+tuple([nInputs for l in range(nHiddenLayers)])+ ( (nOutputs, 'sigmoid'),)),'layerwise')\n",
      "\n",
      "cut=int(input_matrix.shape[0]*0.8)\n",
      "train=input_matrix[:cut], target_matrix[:cut]\n",
      "valid=input_matrix[cut:], target_matrix[cut:]"
     ],
     "language": "python",
     "metadata": {},
     "outputs": [],
     "prompt_number": 9
    },
    {
     "cell_type": "code",
     "collapsed": false,
     "input": [
      "nEpoch=10\n",
      "nTrain=2\n",
      "for i in range(0,nEpoch):\n",
      "    print 'Learning rate=', 0.1/10**i\n",
      "    print 'Epoch',i+1,'of',nEpoch\n",
      "    for j in range(nTrain):\n",
      "        Start=time.mktime(time.gmtime())\n",
      "        print 'Iteration No.',j+1,'of',nTrain\n",
      "        print exp.train(train, valid, learning_rate=0.1/10**i, batch_size=100)        \n",
      "        End=time.mktime(time.gmtime())\n",
      "        print 'Time=',End-Start\n",
      "    print ''"
     ],
     "language": "python",
     "metadata": {},
     "outputs": [
      {
       "output_type": "stream",
       "stream": "stdout",
       "text": [
        "Learning rate= 0.1\n",
        "Epoch 1 of 10\n",
        "Iteration No. 1 of 2\n",
        "(OrderedDict([('loss', 0.39662499999999995), ('err', 0.39662499999999995)]), OrderedDict([('loss', 0.39750000000000008), ('err', 0.39750000000000008)]))"
       ]
      },
      {
       "output_type": "stream",
       "stream": "stdout",
       "text": [
        "\n",
        "Time= 23.0\n",
        "Iteration No. 2 of 2\n",
        "(OrderedDict([('loss', 0.39662499999999989), ('err', 0.39662499999999989)]), OrderedDict([('loss', 0.39750000000000002), ('err', 0.39750000000000002)]))"
       ]
      },
      {
       "output_type": "stream",
       "stream": "stdout",
       "text": [
        "\n",
        "Time= 23.0\n",
        "\n",
        "Learning rate= 0.01\n",
        "Epoch 2 of 10\n",
        "Iteration No. 1 of 2\n",
        "(OrderedDict([('loss', 0.016570155160109713), ('err', 0.016570155160109713)]), OrderedDict([('loss', 0.17746649049038299), ('err', 0.17746649049038299)]))"
       ]
      },
      {
       "output_type": "stream",
       "stream": "stdout",
       "text": [
        "\n",
        "Time= 26.0\n",
        "Iteration No. 2 of 2\n",
        "(OrderedDict([('loss', 0.018712363487130103), ('err', 0.018712363487130103)]), OrderedDict([('loss', 0.18241561169795686), ('err', 0.18241561169795686)]))"
       ]
      },
      {
       "output_type": "stream",
       "stream": "stdout",
       "text": [
        "\n",
        "Time= 23.0\n",
        "\n",
        "Learning rate= 0.001\n",
        "Epoch 3 of 10\n",
        "Iteration No. 1 of 2\n",
        "(OrderedDict([('loss', 0.01417446705078928), ('err', 0.01417446705078928)]), OrderedDict([('loss', 0.15045599070644994), ('err', 0.15045599070644994)]))"
       ]
      },
      {
       "output_type": "stream",
       "stream": "stdout",
       "text": [
        "\n",
        "Time= 27.0\n",
        "Iteration No. 2 of 2\n",
        "(OrderedDict([('loss', 0.0139340845808975), ('err', 0.0139340845808975)]), OrderedDict([('loss', 0.15290373239175942), ('err', 0.15290373239175942)]))"
       ]
      },
      {
       "output_type": "stream",
       "stream": "stdout",
       "text": [
        "\n",
        "Time= 24.0\n",
        "\n",
        "Learning rate= 0.0001\n",
        "Epoch 4 of 10\n",
        "Iteration No. 1 of 2\n",
        "(OrderedDict([('loss', 0.028346650884179814), ('err', 0.028346650884179814)]), OrderedDict([('loss', 0.12766284634614816), ('err', 0.12766284634614816)]))"
       ]
      },
      {
       "output_type": "stream",
       "stream": "stdout",
       "text": [
        "\n",
        "Time= 23.0\n",
        "Iteration No. 2 of 2\n",
        "(OrderedDict([('loss', 0.028350240054832138), ('err', 0.028350240054832138)]), OrderedDict([('loss', 0.12744380222402563), ('err', 0.12744380222402563)]))"
       ]
      },
      {
       "output_type": "stream",
       "stream": "stdout",
       "text": [
        "\n",
        "Time= 24.0\n",
        "\n",
        "Learning rate= 1e-05\n",
        "Epoch 5 of 10\n",
        "Iteration No. 1 of 2\n",
        "(OrderedDict([('loss', 0.035366412421076229), ('err', 0.035366412421076229)]), OrderedDict([('loss', 0.12295070575456424), ('err', 0.12295070575456424)]))"
       ]
      },
      {
       "output_type": "stream",
       "stream": "stdout",
       "text": [
        "\n",
        "Time= 24.0\n",
        "Iteration No. 2 of 2\n",
        "(OrderedDict([('loss', 0.03536871221528412), ('err', 0.03536871221528412)]), OrderedDict([('loss', 0.12295150197151976), ('err', 0.12295150197151976)]))"
       ]
      },
      {
       "output_type": "stream",
       "stream": "stdout",
       "text": [
        "\n",
        "Time= 23.0\n",
        "\n",
        "Learning rate= 1e-06\n",
        "Epoch 6 of 10\n",
        "Iteration No. 1 of 2\n",
        "(OrderedDict([('loss', 0.036376512415238919), ('err', 0.036376512415238919)]), OrderedDict([('loss', 0.12247285872657607), ('err', 0.12247285872657607)]))"
       ]
      },
      {
       "output_type": "stream",
       "stream": "stdout",
       "text": [
        "\n",
        "Time= 24.0\n",
        "Iteration No. 2 of 2\n",
        "(OrderedDict([('loss', 0.036376236442038738), ('err', 0.036376236442038738)]), OrderedDict([('loss', 0.12247392967097345), ('err', 0.12247392967097345)]))"
       ]
      },
      {
       "output_type": "stream",
       "stream": "stdout",
       "text": [
        "\n",
        "Time= 23.0\n",
        "\n",
        "Learning rate= 1e-07\n",
        "Epoch 7 of 10\n",
        "Iteration No. 1 of 2\n",
        "(OrderedDict([('loss', 0.03653862840255985), ('err', 0.03653862840255985)]), OrderedDict([('loss', 0.12240208258093635), ('err', 0.12240208258093635)]))"
       ]
      },
      {
       "output_type": "stream",
       "stream": "stdout",
       "text": [
        "\n",
        "Time= 23.0\n",
        "Iteration No. 2 of 2\n",
        "(OrderedDict([('loss', 0.036538571418122848), ('err', 0.036538571418122848)]), OrderedDict([('loss', 0.12240231558736692), ('err', 0.12240231558736692)]))"
       ]
      },
      {
       "output_type": "stream",
       "stream": "stdout",
       "text": [
        "\n",
        "Time= 23.0\n",
        "\n",
        "Learning rate= 1e-08\n",
        "Epoch 8 of 10\n",
        "Iteration No. 1 of 2\n",
        "(OrderedDict([('loss', 0.036559489488311933), ('err', 0.036559489488311933)]), OrderedDict([('loss', 0.12238541404365914), ('err', 0.12238541404365914)]))"
       ]
      },
      {
       "output_type": "stream",
       "stream": "stdout",
       "text": [
        "\n",
        "Time= 23.0\n",
        "Iteration No. 2 of 2\n",
        "(OrderedDict([('loss', 0.036559492867859512), ('err', 0.036559492867859512)]), OrderedDict([('loss', 0.12238540242214151), ('err', 0.12238540242214151)]))"
       ]
      },
      {
       "output_type": "stream",
       "stream": "stdout",
       "text": [
        "\n",
        "Time= 24.0\n",
        "\n",
        "Learning rate= 1e-09\n",
        "Epoch 9 of 10\n",
        "Iteration No. 1 of 2\n",
        "(OrderedDict([('loss', 0.03656170671797785), ('err', 0.03656170671797785)]), OrderedDict([('loss', 0.12238352422544255), ('err', 0.12238352422544255)]))"
       ]
      },
      {
       "output_type": "stream",
       "stream": "stdout",
       "text": [
        "\n",
        "Time= 23.0\n",
        "Iteration No. 2 of 2\n",
        "(OrderedDict([('loss', 0.036561707155270816), ('err', 0.036561707155270816)]), OrderedDict([('loss', 0.12238351508143035), ('err', 0.12238351508143035)]))"
       ]
      },
      {
       "output_type": "stream",
       "stream": "stdout",
       "text": [
        "\n",
        "Time= 23.0\n",
        "\n",
        "Learning rate= 1e-10\n",
        "Epoch 10 of 10\n",
        "Iteration No. 1 of 2\n",
        "(OrderedDict([('loss', 0.036561929372197335), ('err', 0.036561929372197335)]), OrderedDict([('loss', 0.12238332815985309), ('err', 0.12238332815985309)]))"
       ]
      },
      {
       "output_type": "stream",
       "stream": "stdout",
       "text": [
        "\n",
        "Time= 23.0\n",
        "Iteration No. 2 of 2\n",
        "(OrderedDict([('loss', 0.036561929386459538), ('err', 0.036561929386459538)]), OrderedDict([('loss', 0.1223833280855455), ('err', 0.1223833280855455)]))"
       ]
      },
      {
       "output_type": "stream",
       "stream": "stdout",
       "text": [
        "\n",
        "Time= 23.0\n",
        "\n"
       ]
      }
     ],
     "prompt_number": 10
    },
    {
     "cell_type": "code",
     "collapsed": false,
     "input": [
      "prediction = exp.network.predict(train[0])"
     ],
     "language": "python",
     "metadata": {},
     "outputs": [],
     "prompt_number": 11
    },
    {
     "cell_type": "code",
     "collapsed": false,
     "input": [
      "plt.hist(prediction)"
     ],
     "language": "python",
     "metadata": {},
     "outputs": [
      {
       "metadata": {},
       "output_type": "pyout",
       "prompt_number": 12,
       "text": [
        "(array([ 2407.,   356.,   170.,   115.,    62.,    85.,    95.,   209.,\n",
        "          371.,  4130.]),\n",
        " array([  1.22707869e-04,   9.96970381e-02,   1.99271368e-01,\n",
        "          2.98845699e-01,   3.98420029e-01,   4.97994359e-01,\n",
        "          5.97568689e-01,   6.97143019e-01,   7.96717350e-01,\n",
        "          8.96291680e-01,   9.95866010e-01]),\n",
        " <a list of 10 Patch objects>)"
       ]
      },
      {
       "metadata": {},
       "output_type": "display_data",
       "png": "[encoded data removed]",
       "text": [
        "<matplotlib.figure.Figure at 0x7fc99155c8d0>"
       ]
      }
     ],
     "prompt_number": 12
    },
    {
     "cell_type": "code",
     "collapsed": false,
     "input": [
      "plt.hist(target_matrix)"
     ],
     "language": "python",
     "metadata": {},
     "outputs": [
      {
       "metadata": {},
       "output_type": "pyout",
       "prompt_number": 13,
       "text": [
        "(array([ 3968.,     0.,     0.,     0.,     0.,     0.,     0.,     0.,\n",
        "            0.,  6032.]),\n",
        " array([ 0. ,  0.1,  0.2,  0.3,  0.4,  0.5,  0.6,  0.7,  0.8,  0.9,  1. ]),\n",
        " <a list of 10 Patch objects>)"
       ]
      },
      {
       "metadata": {},
       "output_type": "display_data",
       "png": "[encoded data removed]",
       "text": [
        "<matplotlib.figure.Figure at 0x7fc979debd90>"
       ]
      }
     ],
     "prompt_number": 13
    },
    {
     "cell_type": "code",
     "collapsed": false,
     "input": [
      "goodness = np.asarray([[cut,(list(target_matrix[np.where(prediction>cut)]==1).count(True)+list(target_matrix[np.where(prediction<cut)]==0).count(True))/ float(input_matrix.shape[0])]  for cut in np.arange(0,1,0.05)])"
     ],
     "language": "python",
     "metadata": {},
     "outputs": [],
     "prompt_number": 14
    },
    {
     "cell_type": "code",
     "collapsed": false,
     "input": [
      "plt.scatter(goodness[:,0], goodness[:,1])"
     ],
     "language": "python",
     "metadata": {},
     "outputs": [
      {
       "metadata": {},
       "output_type": "pyout",
       "prompt_number": 15,
       "text": [
        "<matplotlib.collections.PathCollection at 0x7fc979d43150>"
       ]
      },
      {
       "metadata": {},
       "output_type": "display_data",
       "png": "[encoded data removed]",
       "text": [
        "<matplotlib.figure.Figure at 0x7fc97927d410>"
       ]
      }
     ],
     "prompt_number": 15
    },
    {
     "cell_type": "code",
     "collapsed": false,
     "input": [
      "figure_of_merit = max( goodness[:,1])\n",
      "print figure_of_merit"
     ],
     "language": "python",
     "metadata": {},
     "outputs": [
      {
       "output_type": "stream",
       "stream": "stdout",
       "text": [
        "0.7692\n"
       ]
      }
     ],
     "prompt_number": 16
    },
    {
     "cell_type": "code",
     "collapsed": false,
     "input": [
      "exp.network.layers[4].params[0].get_value().shape"
     ],
     "language": "python",
     "metadata": {},
     "outputs": [
      {
       "metadata": {},
       "output_type": "pyout",
       "prompt_number": 17,
       "text": [
        "(82, 1)"
       ]
      }
     ],
     "prompt_number": 17
    },
    {
     "cell_type": "code",
     "collapsed": false,
     "input": [
      "exp.network.num_params"
     ],
     "language": "python",
     "metadata": {},
     "outputs": [
      {
       "metadata": {},
       "output_type": "pyout",
       "prompt_number": 18,
       "text": [
        "20501"
       ]
      }
     ],
     "prompt_number": 18
    },
    {
     "cell_type": "code",
     "collapsed": false,
     "input": [],
     "language": "python",
     "metadata": {},
     "outputs": []
    }
   ],
   "metadata": {}
  }
 ]
}