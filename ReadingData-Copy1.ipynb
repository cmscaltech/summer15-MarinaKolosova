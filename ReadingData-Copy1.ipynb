{
 "metadata": {
  "name": "",
  "signature": "sha256:9463a16218c99a0c2313a89b7e49730fedd0825f3699e76269f073d9b7d7f87a"
 },
 "nbformat": 3,
 "nbformat_minor": 0,
 "worksheets": [
  {
   "cells": [
    {
     "cell_type": "code",
     "collapsed": false,
     "input": [
      "import h5py\n",
      "import theanets\n",
      "import time"
     ],
     "language": "python",
     "metadata": {},
     "outputs": [
      {
       "output_type": "stream",
       "stream": "stdout",
       "text": [
        "Couldn't import dot_parser, loading of dot files will not be possible.\n"
       ]
      }
     ],
     "prompt_number": 1
    },
    {
     "cell_type": "code",
     "collapsed": false,
     "input": [
      "f=h5py.File(\"data/data.hdf5\")\n",
      "f.keys()\n",
      "f['data'].keys()\n",
      "input_matrix     = f['data']['input'].value\n",
      "target_matrix    = f['data']['target'].value\n",
      "decorator_matrix = f['data']['deco'].value\n",
      "f.close()"
     ],
     "language": "python",
     "metadata": {},
     "outputs": [],
     "prompt_number": 2
    },
    {
     "cell_type": "code",
     "collapsed": false,
     "input": [
      "nInputs = input_matrix.shape[1]\n",
      "nOutputs = target_matrix.shape[1]\n",
      "\n",
      "truncate=100000\n",
      "\n",
      "nInputs = input_matrix.shape[1]\n",
      "nOutputs = target_matrix.shape[1]\n",
      "\n",
      "input_matrix = input_matrix[0:truncate,...]\n",
      "target_matrix = target_matrix[0:truncate,...]\n",
      "decorator_matrix = decorator_matrix[0:truncate,...]"
     ],
     "language": "python",
     "metadata": {},
     "outputs": [],
     "prompt_number": 3
    },
    {
     "cell_type": "code",
     "collapsed": false,
     "input": [
      "def allincluded( truncated, nHiddenLayers, epochs, trainings):\n",
      "    timing_start = time.mktime(time.gmtime())\n",
      "    fom = 1.0\n",
      "    \n",
      "    exp=theanets.Experiment(theanets.feedforward.Regressor(layers=(nInputs,)+tuple([nInputs for l in range(nHiddenLayers)])+ ( (nOutputs, 'sigmoid'),)),'layerwise')    \n",
      "        \n",
      "    cut   =int(input_matrix.shape[0]*0.8)\n",
      "    train =input_matrix[:cut], target_matrix[:cut]\n",
      "    valid =input_matrix[cut:], target_matrix[cut:]\n",
      "    \n",
      "    for i in range(0, epochs):\n",
      "        #print 'Learning rate=', 0.1/10**i\n",
      "        #print 'Epoch',i+1,'of',epochs\n",
      "        for j in range(trainings):\n",
      "            Start=time.mktime(time.gmtime())\n",
      "            #print 'Iteration No.',j+1,'of',trainings\n",
      "            exp.train(train, valid, learning_rate=0.1/10**i, batch_size=100)        \n",
      "            End=time.mktime(time.gmtime())\n",
      "            #print 'Time=', End-Start\n",
      "        #print ''\n",
      "    timing_end=time.mktime(time.gmtime())\n",
      "    \n",
      "    prediction = exp.network.predict(train[0])\n",
      "    goodness = np.asarray([[cut,(list(target_matrix[np.where(prediction>cut)]==1).count(True)+list(target_matrix[np.where(prediction<cut)]==0).count(True))/ float(input_matrix.shape[0])]  for cut in np.arange(0,1,0.05)])\n",
      "    fom = max( goodness[:,1])\n",
      "    #print fom\n",
      "    \n",
      "    timing=timing_end-timing_start\n",
      "    return (fom, timing)"
     ],
     "language": "python",
     "metadata": {},
     "outputs": [],
     "prompt_number": 4
    },
    {
     "cell_type": "code",
     "collapsed": false,
     "input": [
      "# (Number of Samples, Hidden Layers, Epoch, Trainings, Timing, FOM) \n",
      "mapAlgo=[]"
     ],
     "language": "python",
     "metadata": {},
     "outputs": [],
     "prompt_number": 5
    },
    {
     "cell_type": "code",
     "collapsed": false,
     "input": [
      "print mapAlgo"
     ],
     "language": "python",
     "metadata": {},
     "outputs": [
      {
       "output_type": "stream",
       "stream": "stdout",
       "text": [
        "[]\n"
       ]
      }
     ],
     "prompt_number": 6
    },
    {
     "cell_type": "code",
     "collapsed": false,
     "input": [
      "for iLayers in range(1,10):\n",
      "    truncate=100000\n",
      "    for j in range (0, 10):\n",
      "        epochs=8\n",
      "        trainings=2\n",
      "        input_matrix = input_matrix[0:truncate,...]\n",
      "        target_matrix = target_matrix[0:truncate,...]\n",
      "        decorator_matrix = decorator_matrix[0:truncate,...]\n",
      "        fom, timing = allincluded(truncate,iLayers,epochs,trainings)\n",
      "        mapAlgo.append((truncate,iLayers,epochs,trainings,timing,fom))\n",
      "        print 'Samples=',truncate,'Hidden Layers=',iLayers, 'epochs=', epochs, 'trainings=', trainings, \"fom=\",fom,\" time=\", timing \n",
      "        truncate+=100000"
     ],
     "language": "python",
     "metadata": {},
     "outputs": [
      {
       "output_type": "stream",
       "stream": "stdout",
       "text": [
        "Samples= 100000 Hidden Layers= 1 epochs= 8 trainings= 2 fom= 0.73435  time= 1475.0\n",
        "Samples="
       ]
      },
      {
       "output_type": "stream",
       "stream": "stdout",
       "text": [
        " 200000 Hidden Layers= 1 epochs= 8 trainings= 2 fom= 0.7015  time= 2813.0\n",
        "Samples="
       ]
      },
      {
       "output_type": "stream",
       "stream": "stdout",
       "text": [
        " 300000 Hidden Layers= 1 epochs= 8 trainings= 2 fom= 0.70343  time= 2921.0\n",
        "Samples="
       ]
      },
      {
       "output_type": "stream",
       "stream": "stdout",
       "text": [
        " 400000 Hidden Layers= 1 epochs= 8 trainings= 2 fom= 0.70694  time= 3431.0\n",
        "Samples="
       ]
      }
     ]
    },
    {
     "cell_type": "code",
     "collapsed": false,
     "input": [],
     "language": "python",
     "metadata": {},
     "outputs": []
    }
   ],
   "metadata": {}
  }
 ]
}