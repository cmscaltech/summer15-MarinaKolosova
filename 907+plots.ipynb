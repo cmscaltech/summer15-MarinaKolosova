{
 "metadata": {
  "name": "",
  "signature": "sha256:0f5cd6513297a2390f0511b0b6b7d5cbdc66dee7e9c57ab1e94392b09f1a5955"
 },
 "nbformat": 3,
 "nbformat_minor": 0,
 "worksheets": [
  {
   "cells": [
    {
     "cell_type": "code",
     "collapsed": false,
     "input": [
      "import h5py\n",
      "import theanets\n",
      "import time\n",
      "import random\n",
      "from random import randrange"
     ],
     "language": "python",
     "metadata": {},
     "outputs": [
      {
       "output_type": "stream",
       "stream": "stdout",
       "text": [
        "Couldn't import dot_parser, loading of dot files will not be possible.\n"
       ]
      }
     ],
     "prompt_number": 1
    },
    {
     "cell_type": "code",
     "collapsed": false,
     "input": [
      "f=h5py.File(\"data/data.hdf5\")\n",
      "f.keys()\n",
      "f['data'].keys()\n",
      "\n",
      "global input_matrix\n",
      "global target_matrix\n",
      "global decorator_matrix\n",
      "\n",
      "input_matrix     = f['data']['input'].value\n",
      "target_matrix    = f['data']['target'].value\n",
      "decorator_matrix = f['data']['deco'].value\n",
      "f.close()"
     ],
     "language": "python",
     "metadata": {},
     "outputs": [],
     "prompt_number": 2
    },
    {
     "cell_type": "code",
     "collapsed": false,
     "input": [
      "nInputs  = input_matrix.shape[1]\n",
      "nOutputs = target_matrix.shape[1]"
     ],
     "language": "python",
     "metadata": {},
     "outputs": [],
     "prompt_number": 3
    },
    {
     "cell_type": "code",
     "collapsed": false,
     "input": [
      "print \"Samples in input_matrix=\", len(input_matrix), \"       Inputs=\", nInputs, \"       Outputs=\",nOutputs"
     ],
     "language": "python",
     "metadata": {},
     "outputs": [
      {
       "output_type": "stream",
       "stream": "stdout",
       "text": [
        "Samples in input_matrix= 982867        Inputs= 82        Outputs= 1\n"
       ]
      }
     ],
     "prompt_number": 4
    },
    {
     "cell_type": "code",
     "collapsed": false,
     "input": [
      "nHiddenLayers=2\n",
      "nHiddenNeurons=200\n",
      "\n",
      "exp=theanets.feedforward.Regressor(layers=(nInputs,)+tuple([nHiddenNeurons for l in range(nHiddenLayers), 'sigmoid'])+ ( (nOutputs, 'sigmoid'),))   \n",
      "    \n",
      "Weights_hid1= exp.find('hid1', 'w').get_value()\n",
      "Weights_out = exp.find('out','w').get_value() "
     ],
     "language": "python",
     "metadata": {},
     "outputs": [],
     "prompt_number": 5
    },
    {
     "cell_type": "code",
     "collapsed": false,
     "input": [
      "#def allincluded(truncate, nHiddenLayers, nHiddenNeurons):\n",
      "\n",
      "truncate=800000\n",
      "\n",
      "    # Create Training & Validation Set\n",
      "    # ------------------------------------------------\n",
      "IN_matrix     = input_matrix[0:truncate,...]      \n",
      "TARGET_matrix = target_matrix[0:truncate,...]\n",
      "DEC_matrix    = decorator_matrix[0:truncate,...] \n",
      "    \n",
      "cut   =int(IN_matrix.shape[0]*0.8)\n",
      "train =IN_matrix[:cut], TARGET_matrix[:cut]\n",
      "valid =IN_matrix[cut:], TARGET_matrix[cut:]\n",
      "    \n",
      "    # Build the NN\n",
      "    # -----------------------------------------------------------------------------------------------------------------------------------\n",
      "    # Topology: Feedforward\n",
      "    # Inputs = 82 (Jets 4-momenta (20 Jets maximum), METx, METy)\n",
      "    # Number of Hidden Layers = nHiddenLayers\n",
      "    # Activation function for Hidden Layers = sigmoid\n",
      "    # Outputs=1 (NN Trigger Bits= 0 or 1)\n",
      "    # Activation function for the Output Layer= sigmoid \n",
      "    # Layerwise: pretrainer \n",
      "\n",
      "    #exp=theanets.feedforward.Regressor(layers=(nInputs,)+tuple([nHiddenNeurons for l in range(nHiddenLayers), 'sigmoid'])+ ( (nOutputs, 'sigmoid'),))   \n",
      "    \n",
      "    # ------------------------------------------------------------------------------------------------------------------------------------\n",
      "fom_valid=0\n",
      "fom_train=0\n",
      "    \n",
      "Epochs       = 0\n",
      "MaxEpochs    = 0\n",
      "LearningRate =[]\n",
      "\n",
      "LR=1e-4\n",
      "for i in range(1, 15):\n",
      "    LearningRate.append(1.0/10**i)\n",
      "print LearningRate\n",
      "    \n",
      "Training_Error  =[]\n",
      "Validation_Error=[]\n",
      "print \"Start training\"\n",
      "timing_start = time.mktime(time.gmtime())\n",
      "    \n",
      "for TrainError, ValError in exp.itertrain(train,\n",
      "                                          valid,\n",
      "                                          learning_rate = LR,\n",
      "                                          algo='rmsprop', \n",
      "                                          hidden_dropout = 0.9,\n",
      "                                          iteration_size = 200,\n",
      "                                          batch_size     = 2000, \n",
      "                                          validate_every = 1,\n",
      "                                          patience       = 50,\n",
      "                                          min_improvement= 0.0000001):\n",
      "    if Epochs%1 == 0 :\n",
      "        print \"Epoch=\",Epochs+1, '  Training Error =',TrainError['err'], '     Validation Error =',ValError['err']\n",
      "        Training_Error.append(TrainError['err'])\n",
      "        Validation_Error.append(ValError['err'])\n",
      "    Epochs+=1\n",
      "    \n",
      "    if Epochs%100 == 0:\n",
      "        LR=random.choice(LearningRate)\n",
      "    if Epochs == 200 :\n",
      "        break   \n",
      "timing_end=time.mktime(time.gmtime())\n",
      "        \n",
      "    #exp.save('network-pickle.pkl.gz')        \n",
      "    \n",
      "prediction = exp.predict(train[0])\n",
      "goodness = np.asarray([[cut,(list(train[1][np.where(prediction>cut)]==1).count(True)+list(train[1][np.where(prediction<cut)]==0).count(True))/ float(train[0].shape[0])]  for cut in np.arange(0,1,0.05)])   \n",
      "fom_train = max( goodness[:,1])    \n",
      "\n",
      "prediction = exp.predict(valid[0])\n",
      "goodness   = np.asarray([[cut,(list(valid[1][np.where(prediction>cut)]==1).count(True)+list(valid[1][np.where(prediction<cut)]==0).count(True))/ float(valid[0].shape[0])]  for cut in np.arange(0,1,0.05)])\n",
      "fom_valid  = max( goodness[:,1])     \n",
      "\n",
      "MaxCut= goodness[np.where(goodness[:,1]==goodness[:,1].max())][0][0]\n",
      "    \n",
      "timing=timing_end-timing_start\n",
      "\n",
      "print \"Samples\", truncate, \"nLayers=\", nHiddenLayers, \"Neurons=\", nHiddenNeurons, \"FOM train=\", fom_train, \"FOM valid=\", fom_valid, \"Timing=\", timing, \"MaxCut=\", MaxCut\n",
      "#    return fom_train, fom_valid, timing, MaxCut,Training_Error, Validation_Error \n",
      "    "
     ],
     "language": "python",
     "metadata": {},
     "outputs": [
      {
       "output_type": "stream",
       "stream": "stdout",
       "text": [
        "[0.1, 0.01, 0.001, 0.0001, 1e-05, 1e-06, 1e-07, 1e-08, 1e-09, 1e-10, 1e-11, 1e-12, 1e-13, 1e-14]\n",
        "Start training\n",
        "Epoch="
       ]
      },
      {
       "output_type": "stream",
       "stream": "stdout",
       "text": [
        " 1   Training Error = 0.238257268732      Validation Error = 0.309281263314\n",
        "Epoch="
       ]
      },
      {
       "output_type": "stream",
       "stream": "stdout",
       "text": [
        " 2   Training Error = 0.234289534906      Validation Error = 0.234709836163\n",
        "Epoch="
       ]
      },
      {
       "output_type": "stream",
       "stream": "stdout",
       "text": [
        " 3   Training Error = 0.232728037098      Validation Error = 0.233564021536\n",
        "Epoch="
       ]
      },
      {
       "output_type": "stream",
       "stream": "stdout",
       "text": [
        " 4   Training Error = 0.229948423607      Validation Error = 0.231569466488\n",
        "Epoch="
       ]
      },
      {
       "output_type": "stream",
       "stream": "stdout",
       "text": [
        " 5   Training Error = 0.222528735267      Validation Error = 0.227236178002\n",
        "Epoch="
       ]
      },
      {
       "output_type": "stream",
       "stream": "stdout",
       "text": [
        " 6   Training Error = 0.207478291024      Validation Error = 0.216786073385\n",
        "Epoch="
       ]
      },
      {
       "output_type": "stream",
       "stream": "stdout",
       "text": [
        " 7   Training Error = 0.183632220392      Validation Error = 0.196342956354\n",
        "Epoch="
       ]
      },
      {
       "output_type": "stream",
       "stream": "stdout",
       "text": [
        " 8   Training Error = 0.158887587835      Validation Error = 0.170531463047\n",
        "Epoch="
       ]
      },
      {
       "output_type": "stream",
       "stream": "stdout",
       "text": [
        " 9   Training Error = 0.138862998297      Validation Error = 0.146850689759\n",
        "Epoch="
       ]
      },
      {
       "output_type": "stream",
       "stream": "stdout",
       "text": [
        " 10   Training Error = 0.126484597169      Validation Error = 0.13120711833\n",
        "Epoch="
       ]
      },
      {
       "output_type": "stream",
       "stream": "stdout",
       "text": [
        " 11   Training Error = 0.117941826251      Validation Error = 0.12110384244\n",
        "Epoch="
       ]
      },
      {
       "output_type": "stream",
       "stream": "stdout",
       "text": [
        " 12   Training Error = 0.112982290557      Validation Error = 0.114878303958\n",
        "Epoch="
       ]
      },
      {
       "output_type": "stream",
       "stream": "stdout",
       "text": [
        " 13   Training Error = 0.10942647753      Validation Error = 0.110417764832\n",
        "Epoch="
       ]
      },
      {
       "output_type": "stream",
       "stream": "stdout",
       "text": [
        " 14   Training Error = 0.106427664095      Validation Error = 0.107186499815\n",
        "Epoch="
       ]
      },
      {
       "output_type": "stream",
       "stream": "stdout",
       "text": [
        " 15   Training Error = 0.104053071175      Validation Error = 0.104370317436\n",
        "Epoch="
       ]
      },
      {
       "output_type": "stream",
       "stream": "stdout",
       "text": [
        " 16   Training Error = 0.101975481272      Validation Error = 0.102397714601\n",
        "Epoch="
       ]
      },
      {
       "output_type": "stream",
       "stream": "stdout",
       "text": [
        " 17   Training Error = 0.100077527142      Validation Error = 0.100647008197\n",
        "Epoch="
       ]
      },
      {
       "output_type": "stream",
       "stream": "stdout",
       "text": [
        " 18   Training Error = 0.0982858242959      Validation Error = 0.0985302905156\n",
        "Epoch="
       ]
      },
      {
       "output_type": "stream",
       "stream": "stdout",
       "text": [
        " 19   Training Error = 0.0967762596259      Validation Error = 0.0970425336972\n",
        "Epoch="
       ]
      },
      {
       "output_type": "stream",
       "stream": "stdout",
       "text": [
        " 20   Training Error = 0.0955573542275      Validation Error = 0.0955671034256\n",
        "Epoch="
       ]
      },
      {
       "output_type": "stream",
       "stream": "stdout",
       "text": [
        " 21   Training Error = 0.0940876469685      Validation Error = 0.094228886303\n",
        "Epoch="
       ]
      },
      {
       "output_type": "stream",
       "stream": "stdout",
       "text": [
        " 22   Training Error = 0.0931551373153      Validation Error = 0.0935405863264\n",
        "Epoch="
       ]
      },
      {
       "output_type": "stream",
       "stream": "stdout",
       "text": [
        " 23   Training Error = 0.0915604744376      Validation Error = 0.0919082954703\n",
        "Epoch="
       ]
      },
      {
       "output_type": "stream",
       "stream": "stdout",
       "text": [
        " 24   Training Error = 0.0911156630557      Validation Error = 0.0911688697051\n",
        "Epoch="
       ]
      },
      {
       "output_type": "stream",
       "stream": "stdout",
       "text": [
        " 25   Training Error = 0.0901390503237      Validation Error = 0.0901570296779\n",
        "Epoch="
       ]
      },
      {
       "output_type": "stream",
       "stream": "stdout",
       "text": [
        " 26   Training Error = 0.088501598289      Validation Error = 0.0890548317773\n",
        "Epoch="
       ]
      },
      {
       "output_type": "stream",
       "stream": "stdout",
       "text": [
        " 27   Training Error = 0.0881307217063      Validation Error = 0.0883335146263\n",
        "Epoch="
       ]
      },
      {
       "output_type": "stream",
       "stream": "stdout",
       "text": [
        " 28   Training Error = 0.0869749598648      Validation Error = 0.0873607270658\n",
        "Epoch="
       ]
      },
      {
       "output_type": "stream",
       "stream": "stdout",
       "text": [
        " 29   Training Error = 0.0865389089722      Validation Error = 0.0866183811707\n",
        "Epoch="
       ]
      },
      {
       "output_type": "stream",
       "stream": "stdout",
       "text": [
        " 30   Training Error = 0.085532385101      Validation Error = 0.0859588559242\n",
        "Epoch="
       ]
      },
      {
       "output_type": "stream",
       "stream": "stdout",
       "text": [
        " 31   Training Error = 0.0847045858972      Validation Error = 0.084949501593\n",
        "Epoch="
       ]
      },
      {
       "output_type": "stream",
       "stream": "stdout",
       "text": [
        " 32   Training Error = 0.084246231829      Validation Error = 0.0847371556972\n",
        "Epoch="
       ]
      },
      {
       "output_type": "stream",
       "stream": "stdout",
       "text": [
        " 33   Training Error = 0.0835354837589      Validation Error = 0.0837942338401\n",
        "Epoch="
       ]
      },
      {
       "output_type": "stream",
       "stream": "stdout",
       "text": [
        " 34   Training Error = 0.0825062266478      Validation Error = 0.0832256589668\n",
        "Epoch="
       ]
      },
      {
       "output_type": "stream",
       "stream": "stdout",
       "text": [
        " 35   Training Error = 0.0823548619131      Validation Error = 0.0826016779684\n",
        "Epoch="
       ]
      },
      {
       "output_type": "stream",
       "stream": "stdout",
       "text": [
        " 36   Training Error = 0.0814544145679      Validation Error = 0.0821049971271\n",
        "Epoch="
       ]
      },
      {
       "output_type": "stream",
       "stream": "stdout",
       "text": [
        " 37   Training Error = 0.0806512141981      Validation Error = 0.0814113860009\n",
        "Epoch="
       ]
      },
      {
       "output_type": "stream",
       "stream": "stdout",
       "text": [
        " 38   Training Error = 0.080612545466      Validation Error = 0.0810474517197\n",
        "Epoch="
       ]
      },
      {
       "output_type": "stream",
       "stream": "stdout",
       "text": [
        " 39   Training Error = 0.0797331405595      Validation Error = 0.0805278145379\n",
        "Epoch="
       ]
      },
      {
       "output_type": "stream",
       "stream": "stdout",
       "text": [
        " 40   Training Error = 0.0793355090177      Validation Error = 0.0803883787616\n",
        "Epoch="
       ]
      },
      {
       "output_type": "stream",
       "stream": "stdout",
       "text": [
        " 41   Training Error = 0.0784018186866      Validation Error = 0.0793917037044\n",
        "Epoch="
       ]
      },
      {
       "output_type": "stream",
       "stream": "stdout",
       "text": [
        " 42   Training Error = 0.0786077349037      Validation Error = 0.0790396907531\n",
        "Epoch="
       ]
      },
      {
       "output_type": "stream",
       "stream": "stdout",
       "text": [
        " 43   Training Error = 0.0778261521789      Validation Error = 0.078598289007\n",
        "Epoch="
       ]
      },
      {
       "output_type": "stream",
       "stream": "stdout",
       "text": [
        " 44   Training Error = 0.0774070837284      Validation Error = 0.0783270021911\n",
        "Epoch="
       ]
      },
      {
       "output_type": "stream",
       "stream": "stdout",
       "text": [
        " 45   Training Error = 0.0768849829497      Validation Error = 0.0777722830443\n",
        "Epoch="
       ]
      },
      {
       "output_type": "stream",
       "stream": "stdout",
       "text": [
        " 46   Training Error = 0.0765734781546      Validation Error = 0.0774181933112\n",
        "Epoch="
       ]
      },
      {
       "output_type": "stream",
       "stream": "stdout",
       "text": [
        " 47   Training Error = 0.0760550013833      Validation Error = 0.0769071181791\n",
        "Epoch="
       ]
      },
      {
       "output_type": "stream",
       "stream": "stdout",
       "text": [
        " 48   Training Error = 0.0758107981162      Validation Error = 0.0766917427776\n",
        "Epoch="
       ]
      },
      {
       "output_type": "stream",
       "stream": "stdout",
       "text": [
        " 49   Training Error = 0.0753167365686      Validation Error = 0.0763029993792\n",
        "Epoch="
       ]
      },
      {
       "output_type": "stream",
       "stream": "stdout",
       "text": [
        " 50   Training Error = 0.0753567396178      Validation Error = 0.0759968800986\n",
        "Epoch="
       ]
      },
      {
       "output_type": "stream",
       "stream": "stdout",
       "text": [
        " 51   Training Error = 0.0744507636126      Validation Error = 0.0759969634943\n",
        "Epoch="
       ]
      },
      {
       "output_type": "stream",
       "stream": "stdout",
       "text": [
        " 52   Training Error = 0.0743949638929      Validation Error = 0.0751914465905\n",
        "Epoch="
       ]
      },
      {
       "output_type": "stream",
       "stream": "stdout",
       "text": [
        " 53   Training Error = 0.0742468208232      Validation Error = 0.0752544355332\n",
        "Epoch="
       ]
      },
      {
       "output_type": "stream",
       "stream": "stdout",
       "text": [
        " 54   Training Error = 0.0737677772814      Validation Error = 0.0747892321672\n",
        "Epoch="
       ]
      },
      {
       "output_type": "stream",
       "stream": "stdout",
       "text": [
        " 55   Training Error = 0.0736096693597      Validation Error = 0.0744005101591\n",
        "Epoch="
       ]
      },
      {
       "output_type": "stream",
       "stream": "stdout",
       "text": [
        " 56   Training Error = 0.0732598073699      Validation Error = 0.0744023020996\n",
        "Epoch="
       ]
      },
      {
       "output_type": "stream",
       "stream": "stdout",
       "text": [
        " 57   Training Error = 0.0730503992353      Validation Error = 0.0740689657369\n",
        "Epoch="
       ]
      },
      {
       "output_type": "stream",
       "stream": "stdout",
       "text": [
        " 58   Training Error = 0.0727983749708      Validation Error = 0.074114589046\n",
        "Epoch="
       ]
      },
      {
       "output_type": "stream",
       "stream": "stdout",
       "text": [
        " 59   Training Error = 0.0725561793671      Validation Error = 0.0736937912491\n",
        "Epoch="
       ]
      },
      {
       "output_type": "stream",
       "stream": "stdout",
       "text": [
        " 60   Training Error = 0.0722186475528      Validation Error = 0.0735262545974\n",
        "Epoch="
       ]
      },
      {
       "output_type": "stream",
       "stream": "stdout",
       "text": [
        " 61   Training Error = 0.0722927005914      Validation Error = 0.0734239328367\n",
        "Epoch="
       ]
      },
      {
       "output_type": "stream",
       "stream": "stdout",
       "text": [
        " 62   Training Error = 0.0716087683986      Validation Error = 0.0731973480519\n",
        "Epoch="
       ]
      },
      {
       "output_type": "stream",
       "stream": "stdout",
       "text": [
        " 63   Training Error = 0.0717603542635      Validation Error = 0.0731280989037\n",
        "Epoch="
       ]
      },
      {
       "output_type": "stream",
       "stream": "stdout",
       "text": [
        " 64   Training Error = 0.0717489528392      Validation Error = 0.0729867413874\n",
        "Epoch="
       ]
      },
      {
       "output_type": "stream",
       "stream": "stdout",
       "text": [
        " 65   Training Error = 0.0712563547694      Validation Error = 0.0724838205793\n",
        "Epoch="
       ]
      },
      {
       "output_type": "stream",
       "stream": "stdout",
       "text": [
        " 66   Training Error = 0.0713943495511      Validation Error = 0.0725304346879\n",
        "Epoch="
       ]
      },
      {
       "output_type": "stream",
       "stream": "stdout",
       "text": [
        " 67   Training Error = 0.0709087987895      Validation Error = 0.072636681985\n",
        "Epoch="
       ]
      },
      {
       "output_type": "stream",
       "stream": "stdout",
       "text": [
        " 68   Training Error = 0.0704260372871      Validation Error = 0.0720402786685\n",
        "Epoch="
       ]
      },
      {
       "output_type": "stream",
       "stream": "stdout",
       "text": [
        " 69   Training Error = 0.0712021424788      Validation Error = 0.0723289560562\n",
        "Epoch="
       ]
      },
      {
       "output_type": "stream",
       "stream": "stdout",
       "text": [
        " 70   Training Error = 0.0702905431132      Validation Error = 0.0721005087325\n",
        "Epoch="
       ]
      },
      {
       "output_type": "stream",
       "stream": "stdout",
       "text": [
        " 71   Training Error = 0.0702865674937      Validation Error = 0.072338487895\n",
        "Epoch="
       ]
      },
      {
       "output_type": "stream",
       "stream": "stdout",
       "text": [
        " 72   Training Error = 0.0703237318765      Validation Error = 0.0716437995969\n",
        "Epoch="
       ]
      },
      {
       "output_type": "stream",
       "stream": "stdout",
       "text": [
        " 73   Training Error = 0.0698175476575      Validation Error = 0.0714990766138\n",
        "Epoch="
       ]
      },
      {
       "output_type": "stream",
       "stream": "stdout",
       "text": [
        " 74   Training Error = 0.0702106320836      Validation Error = 0.0716429248877\n",
        "Epoch="
       ]
      },
      {
       "output_type": "stream",
       "stream": "stdout",
       "text": [
        " 75   Training Error = 0.0696719666796      Validation Error = 0.0713542422886\n",
        "Epoch="
       ]
      },
      {
       "output_type": "stream",
       "stream": "stdout",
       "text": [
        " 76   Training Error = 0.069442590048      Validation Error = 0.0711940867009\n",
        "Epoch="
       ]
      },
      {
       "output_type": "stream",
       "stream": "stdout",
       "text": [
        " 77   Training Error = 0.0697563921993      Validation Error = 0.0711598542305\n",
        "Epoch="
       ]
      },
      {
       "output_type": "stream",
       "stream": "stdout",
       "text": [
        " 78   Training Error = 0.0692378156605      Validation Error = 0.071050944916\n",
        "Epoch="
       ]
      },
      {
       "output_type": "stream",
       "stream": "stdout",
       "text": [
        " 79   Training Error = 0.0693645608879      Validation Error = 0.0711149646452\n",
        "Epoch="
       ]
      },
      {
       "output_type": "stream",
       "stream": "stdout",
       "text": [
        " 80   Training Error = 0.0692444973384      Validation Error = 0.0708485404861\n",
        "Epoch="
       ]
      },
      {
       "output_type": "stream",
       "stream": "stdout",
       "text": [
        " 81   Training Error = 0.06907365824      Validation Error = 0.0709450232981\n",
        "Epoch="
       ]
      },
      {
       "output_type": "stream",
       "stream": "stdout",
       "text": [
        " 82   Training Error = 0.0690168463965      Validation Error = 0.070723888852\n",
        "Epoch="
       ]
      },
      {
       "output_type": "stream",
       "stream": "stdout",
       "text": [
        " 83   Training Error = 0.0685202044486      Validation Error = 0.0709804885896\n",
        "Epoch="
       ]
      },
      {
       "output_type": "stream",
       "stream": "stdout",
       "text": [
        " 84   Training Error = 0.0689729372933      Validation Error = 0.0706912196719\n",
        "Epoch="
       ]
      },
      {
       "output_type": "stream",
       "stream": "stdout",
       "text": [
        " 85   Training Error = 0.0685677769289      Validation Error = 0.0703675449269\n",
        "Epoch="
       ]
      },
      {
       "output_type": "stream",
       "stream": "stdout",
       "text": [
        " 86   Training Error = 0.0682454505524      Validation Error = 0.0706090130624\n",
        "Epoch="
       ]
      },
      {
       "output_type": "stream",
       "stream": "stdout",
       "text": [
        " 87   Training Error = 0.0684286861991      Validation Error = 0.0703970160639\n",
        "Epoch="
       ]
      },
      {
       "output_type": "stream",
       "stream": "stdout",
       "text": [
        " 88   Training Error = 0.0683136279136      Validation Error = 0.070381122677\n",
        "Epoch="
       ]
      },
      {
       "output_type": "stream",
       "stream": "stdout",
       "text": [
        " 89   Training Error = 0.0682626695477      Validation Error = 0.0700956646818\n",
        "Epoch="
       ]
      },
      {
       "output_type": "stream",
       "stream": "stdout",
       "text": [
        " 90   Training Error = 0.068056558184      Validation Error = 0.070335977432\n",
        "Epoch="
       ]
      },
      {
       "output_type": "stream",
       "stream": "stdout",
       "text": [
        " 91   Training Error = 0.0676885180854      Validation Error = 0.0701861964619\n",
        "Epoch="
       ]
      },
      {
       "output_type": "stream",
       "stream": "stdout",
       "text": [
        " 92   Training Error = 0.0680495033345      Validation Error = 0.0698924588063\n",
        "Epoch="
       ]
      },
      {
       "output_type": "stream",
       "stream": "stdout",
       "text": [
        " 93   Training Error = 0.0679006969389      Validation Error = 0.0705039293872\n",
        "Epoch="
       ]
      },
      {
       "output_type": "stream",
       "stream": "stdout",
       "text": [
        " 94   Training Error = 0.0676866448771      Validation Error = 0.069890712922\n",
        "Epoch="
       ]
      },
      {
       "output_type": "stream",
       "stream": "stdout",
       "text": [
        " 95   Training Error = 0.0676348681481      Validation Error = 0.0705336943035\n",
        "Epoch="
       ]
      },
      {
       "output_type": "stream",
       "stream": "stdout",
       "text": [
        " 96   Training Error = 0.0676176735016      Validation Error = 0.0700550352752\n",
        "Epoch="
       ]
      },
      {
       "output_type": "stream",
       "stream": "stdout",
       "text": [
        " 97   Training Error = 0.0672923724439      Validation Error = 0.0699473043295\n",
        "Epoch="
       ]
      },
      {
       "output_type": "stream",
       "stream": "stdout",
       "text": [
        " 98   Training Error = 0.0678491431154      Validation Error = 0.0696759785948\n",
        "Epoch="
       ]
      },
      {
       "output_type": "stream",
       "stream": "stdout",
       "text": [
        " 99   Training Error = 0.0672237389097      Validation Error = 0.0695397696257\n",
        "Epoch="
       ]
      },
      {
       "output_type": "stream",
       "stream": "stdout",
       "text": [
        " 100   Training Error = 0.067066902001      Validation Error = 0.0697333919199\n",
        "Epoch="
       ]
      },
      {
       "output_type": "stream",
       "stream": "stdout",
       "text": [
        " 101   Training Error = 0.0670800453903      Validation Error = 0.0694829147379\n",
        "Epoch="
       ]
      },
      {
       "output_type": "stream",
       "stream": "stdout",
       "text": [
        " 102   Training Error = 0.0670347956906      Validation Error = 0.0694901115936\n",
        "Epoch="
       ]
      },
      {
       "output_type": "stream",
       "stream": "stdout",
       "text": [
        " 103   Training Error = 0.0670054631017      Validation Error = 0.0696590424625\n",
        "Epoch="
       ]
      },
      {
       "output_type": "stream",
       "stream": "stdout",
       "text": [
        " 104   Training Error = 0.0668406657817      Validation Error = 0.0695585744213\n",
        "Epoch="
       ]
      },
      {
       "output_type": "stream",
       "stream": "stdout",
       "text": [
        " 105   Training Error = 0.0668795368737      Validation Error = 0.0695920971307\n",
        "Epoch="
       ]
      },
      {
       "output_type": "stream",
       "stream": "stdout",
       "text": [
        " 106   Training Error = 0.0668031668083      Validation Error = 0.0693171674583\n",
        "Epoch="
       ]
      },
      {
       "output_type": "stream",
       "stream": "stdout",
       "text": [
        " 107   Training Error = 0.0666576156794      Validation Error = 0.0692109996513\n",
        "Epoch="
       ]
      },
      {
       "output_type": "stream",
       "stream": "stdout",
       "text": [
        " 108   Training Error = 0.0664923634973      Validation Error = 0.0693660881181\n",
        "Epoch="
       ]
      },
      {
       "output_type": "stream",
       "stream": "stdout",
       "text": [
        " 109   Training Error = 0.0664674324282      Validation Error = 0.0693467175849\n",
        "Epoch="
       ]
      },
      {
       "output_type": "stream",
       "stream": "stdout",
       "text": [
        " 110   Training Error = 0.0666220998662      Validation Error = 0.0691494409701\n",
        "Epoch="
       ]
      },
      {
       "output_type": "stream",
       "stream": "stdout",
       "text": [
        " 111   Training Error = 0.0661578272828      Validation Error = 0.0691777087268\n",
        "Epoch="
       ]
      },
      {
       "output_type": "stream",
       "stream": "stdout",
       "text": [
        " 112   Training Error = 0.0663894821532      Validation Error = 0.0690334315542\n",
        "Epoch="
       ]
      },
      {
       "output_type": "stream",
       "stream": "stdout",
       "text": [
        " 113   Training Error = 0.0663276623257      Validation Error = 0.0690376319455\n",
        "Epoch="
       ]
      },
      {
       "output_type": "stream",
       "stream": "stdout",
       "text": [
        " 114   Training Error = 0.066017694131      Validation Error = 0.0691248088317\n",
        "Epoch="
       ]
      },
      {
       "output_type": "stream",
       "stream": "stdout",
       "text": [
        " 115   Training Error = 0.0662578035498      Validation Error = 0.0691407622215\n",
        "Epoch="
       ]
      },
      {
       "output_type": "stream",
       "stream": "stdout",
       "text": [
        " 116   Training Error = 0.0656525668144      Validation Error = 0.0693681141798\n",
        "Epoch="
       ]
      },
      {
       "output_type": "stream",
       "stream": "stdout",
       "text": [
        " 117   Training Error = 0.0661932790092      Validation Error = 0.0692653142473\n",
        "Epoch="
       ]
      },
      {
       "output_type": "stream",
       "stream": "stdout",
       "text": [
        " 118   Training Error = 0.0661554419105      Validation Error = 0.0690396842209\n",
        "Epoch="
       ]
      },
      {
       "output_type": "stream",
       "stream": "stdout",
       "text": [
        " 119   Training Error = 0.0655005186036      Validation Error = 0.0688076817588\n",
        "Epoch="
       ]
      },
      {
       "output_type": "stream",
       "stream": "stdout",
       "text": [
        " 120   Training Error = 0.0661170099398      Validation Error = 0.0695129594261\n",
        "Epoch="
       ]
      },
      {
       "output_type": "stream",
       "stream": "stdout",
       "text": [
        " 121   Training Error = 0.0659499143973      Validation Error = 0.0688814910364\n",
        "Epoch="
       ]
      },
      {
       "output_type": "stream",
       "stream": "stdout",
       "text": [
        " 122   Training Error = 0.0653728864951      Validation Error = 0.0687432344462\n",
        "Epoch="
       ]
      },
      {
       "output_type": "stream",
       "stream": "stdout",
       "text": [
        " 123   Training Error = 0.0657429825862      Validation Error = 0.0688547578391\n",
        "Epoch="
       ]
      },
      {
       "output_type": "stream",
       "stream": "stdout",
       "text": [
        " 124   Training Error = 0.0652926846848      Validation Error = 0.0688079746437\n",
        "Epoch="
       ]
      },
      {
       "output_type": "stream",
       "stream": "stdout",
       "text": [
        " 125   Training Error = 0.0654938540515      Validation Error = 0.0686896978121\n",
        "Epoch="
       ]
      },
      {
       "output_type": "stream",
       "stream": "stdout",
       "text": [
        " 126   Training Error = 0.0655051387718      Validation Error = 0.0695760089956\n",
        "Epoch="
       ]
      },
      {
       "output_type": "stream",
       "stream": "stdout",
       "text": [
        " 127   Training Error = 0.0653994054135      Validation Error = 0.0688068491374\n",
        "Epoch="
       ]
      },
      {
       "output_type": "stream",
       "stream": "stdout",
       "text": [
        " 128   Training Error = 0.0654043299608      Validation Error = 0.0684899066378\n",
        "Epoch="
       ]
      },
      {
       "output_type": "stream",
       "stream": "stdout",
       "text": [
        " 129   Training Error = 0.0650825347997      Validation Error = 0.0684899013695\n",
        "Epoch="
       ]
      },
      {
       "output_type": "stream",
       "stream": "stdout",
       "text": [
        " 130   Training Error = 0.0651663953619      Validation Error = 0.0685453529713\n",
        "Epoch="
       ]
      },
      {
       "output_type": "stream",
       "stream": "stdout",
       "text": [
        " 131   Training Error = 0.0653127538186      Validation Error = 0.0689256756512\n",
        "Epoch="
       ]
      },
      {
       "output_type": "stream",
       "stream": "stdout",
       "text": [
        " 132   Training Error = 0.0651364452136      Validation Error = 0.0683576471132\n",
        "Epoch="
       ]
      },
      {
       "output_type": "stream",
       "stream": "stdout",
       "text": [
        " 133   Training Error = 0.0651365540849      Validation Error = 0.0688451669688\n",
        "Epoch="
       ]
      },
      {
       "output_type": "stream",
       "stream": "stdout",
       "text": [
        " 134   Training Error = 0.0649037044804      Validation Error = 0.068344560367\n",
        "Epoch="
       ]
      },
      {
       "output_type": "stream",
       "stream": "stdout",
       "text": [
        " 135   Training Error = 0.0651233847579      Validation Error = 0.0687307206729\n",
        "Epoch="
       ]
      },
      {
       "output_type": "stream",
       "stream": "stdout",
       "text": [
        " 136   Training Error = 0.0647146856352      Validation Error = 0.0685276588184\n",
        "Epoch="
       ]
      },
      {
       "output_type": "stream",
       "stream": "stdout",
       "text": [
        " 137   Training Error = 0.0647968746579      Validation Error = 0.0685200745427\n",
        "Epoch="
       ]
      },
      {
       "output_type": "stream",
       "stream": "stdout",
       "text": [
        " 138   Training Error = 0.0647373052749      Validation Error = 0.0684847527045\n",
        "Epoch="
       ]
      },
      {
       "output_type": "stream",
       "stream": "stdout",
       "text": [
        " 139   Training Error = 0.0648307824281      Validation Error = 0.0684023243548\n",
        "Epoch="
       ]
      },
      {
       "output_type": "stream",
       "stream": "stdout",
       "text": [
        " 140   Training Error = 0.0648305505119      Validation Error = 0.0686717985848\n",
        "Epoch="
       ]
      },
      {
       "output_type": "stream",
       "stream": "stdout",
       "text": [
        " 141   Training Error = 0.0642266053555      Validation Error = 0.068043323505\n",
        "Epoch="
       ]
      },
      {
       "output_type": "stream",
       "stream": "stdout",
       "text": [
        " 142   Training Error = 0.0645590309043      Validation Error = 0.0682704088847\n",
        "Epoch="
       ]
      },
      {
       "output_type": "stream",
       "stream": "stdout",
       "text": [
        " 143   Training Error = 0.0650800194379      Validation Error = 0.0689001539098\n",
        "Epoch="
       ]
      },
      {
       "output_type": "stream",
       "stream": "stdout",
       "text": [
        " 144   Training Error = 0.0640901287871      Validation Error = 0.0681306702234\n",
        "Epoch="
       ]
      },
      {
       "output_type": "stream",
       "stream": "stdout",
       "text": [
        " 145   Training Error = 0.0643649000345      Validation Error = 0.068165249381\n",
        "Epoch="
       ]
      },
      {
       "output_type": "stream",
       "stream": "stdout",
       "text": [
        " 146   Training Error = 0.0642958516322      Validation Error = 0.0684399884876\n",
        "Epoch="
       ]
      },
      {
       "output_type": "stream",
       "stream": "stdout",
       "text": [
        " 147   Training Error = 0.0644341420672      Validation Error = 0.0681521266181\n",
        "Epoch="
       ]
      },
      {
       "output_type": "stream",
       "stream": "stdout",
       "text": [
        " 148   Training Error = 0.0640689598904      Validation Error = 0.0681715298054\n",
        "Epoch="
       ]
      },
      {
       "output_type": "stream",
       "stream": "stdout",
       "text": [
        " 149   Training Error = 0.0644490709282      Validation Error = 0.0680267837253\n",
        "Epoch="
       ]
      },
      {
       "output_type": "stream",
       "stream": "stdout",
       "text": [
        " 150   Training Error = 0.0643336805325      Validation Error = 0.0681102187005\n",
        "Epoch="
       ]
      },
      {
       "output_type": "stream",
       "stream": "stdout",
       "text": [
        " 151   Training Error = 0.0638239960404      Validation Error = 0.0691008465326\n",
        "Epoch="
       ]
      },
      {
       "output_type": "stream",
       "stream": "stdout",
       "text": [
        " 152   Training Error = 0.0641834864743      Validation Error = 0.0680836751206\n",
        "Epoch="
       ]
      },
      {
       "output_type": "stream",
       "stream": "stdout",
       "text": [
        " 153   Training Error = 0.0638155024965      Validation Error = 0.0678669065524\n",
        "Epoch="
       ]
      },
      {
       "output_type": "stream",
       "stream": "stdout",
       "text": [
        " 154   Training Error = 0.0639876170408      Validation Error = 0.0680426060167\n",
        "Epoch="
       ]
      },
      {
       "output_type": "stream",
       "stream": "stdout",
       "text": [
        " 155   Training Error = 0.0642430767578      Validation Error = 0.0678417960091\n",
        "Epoch="
       ]
      },
      {
       "output_type": "stream",
       "stream": "stdout",
       "text": [
        " 156   Training Error = 0.0636997613204      Validation Error = 0.0679970136909\n",
        "Epoch="
       ]
      },
      {
       "output_type": "stream",
       "stream": "stdout",
       "text": [
        " 157   Training Error = 0.0639055259414      Validation Error = 0.0678600916199\n",
        "Epoch="
       ]
      },
      {
       "output_type": "stream",
       "stream": "stdout",
       "text": [
        " 158   Training Error = 0.0638591343652      Validation Error = 0.0677361151495\n",
        "Epoch="
       ]
      },
      {
       "output_type": "stream",
       "stream": "stdout",
       "text": [
        " 159   Training Error = 0.0637148795178      Validation Error = 0.0681214136459\n",
        "Epoch="
       ]
      },
      {
       "output_type": "stream",
       "stream": "stdout",
       "text": [
        " 160   Training Error = 0.063588959886      Validation Error = 0.0684031665288\n",
        "Epoch="
       ]
      },
      {
       "output_type": "stream",
       "stream": "stdout",
       "text": [
        " 161   Training Error = 0.0634788634137      Validation Error = 0.0678926293698\n",
        "Epoch="
       ]
      },
      {
       "output_type": "stream",
       "stream": "stdout",
       "text": [
        " 162   Training Error = 0.063589019232      Validation Error = 0.0677882754706\n",
        "Epoch="
       ]
      },
      {
       "output_type": "stream",
       "stream": "stdout",
       "text": [
        " 163   Training Error = 0.0638257194967      Validation Error = 0.0678423318508\n",
        "Epoch="
       ]
      },
      {
       "output_type": "stream",
       "stream": "stdout",
       "text": [
        " 164   Training Error = 0.0636444638566      Validation Error = 0.0676902062777\n",
        "Epoch="
       ]
      },
      {
       "output_type": "stream",
       "stream": "stdout",
       "text": [
        " 165   Training Error = 0.0630648470797      Validation Error = 0.067569601529\n",
        "Epoch="
       ]
      },
      {
       "output_type": "stream",
       "stream": "stdout",
       "text": [
        " 166   Training Error = 0.0635769359948      Validation Error = 0.0684670411172\n",
        "Epoch="
       ]
      },
      {
       "output_type": "stream",
       "stream": "stdout",
       "text": [
        " 167   Training Error = 0.0634323507893      Validation Error = 0.0686766665996\n",
        "Epoch="
       ]
      },
      {
       "output_type": "stream",
       "stream": "stdout",
       "text": [
        " 168   Training Error = 0.0633015503709      Validation Error = 0.0677963261178\n",
        "Epoch="
       ]
      },
      {
       "output_type": "stream",
       "stream": "stdout",
       "text": [
        " 169   Training Error = 0.0635397794895      Validation Error = 0.0676626170701\n",
        "Epoch="
       ]
      },
      {
       "output_type": "stream",
       "stream": "stdout",
       "text": [
        " 170   Training Error = 0.0628472395554      Validation Error = 0.0678874334575\n",
        "Epoch="
       ]
      },
      {
       "output_type": "stream",
       "stream": "stdout",
       "text": [
        " 171   Training Error = 0.0632676239581      Validation Error = 0.0676630461322\n",
        "Epoch="
       ]
      },
      {
       "output_type": "stream",
       "stream": "stdout",
       "text": [
        " 172   Training Error = 0.0630318049998      Validation Error = 0.0678153671878\n",
        "Epoch="
       ]
      },
      {
       "output_type": "stream",
       "stream": "stdout",
       "text": [
        " 173   Training Error = 0.0633111922815      Validation Error = 0.0675049487197\n",
        "Epoch="
       ]
      },
      {
       "output_type": "stream",
       "stream": "stdout",
       "text": [
        " 174   Training Error = 0.062848794988      Validation Error = 0.067485496264\n",
        "Epoch="
       ]
      },
      {
       "output_type": "stream",
       "stream": "stdout",
       "text": [
        " 175   Training Error = 0.0629588496602      Validation Error = 0.067290850981\n",
        "Epoch="
       ]
      },
      {
       "output_type": "stream",
       "stream": "stdout",
       "text": [
        " 176   Training Error = 0.0632562869844      Validation Error = 0.0677715369851\n",
        "Epoch="
       ]
      },
      {
       "output_type": "stream",
       "stream": "stdout",
       "text": [
        " 177   Training Error = 0.0629950329738      Validation Error = 0.0675241121798\n",
        "Epoch="
       ]
      },
      {
       "output_type": "stream",
       "stream": "stdout",
       "text": [
        " 178   Training Error = 0.0628532650489      Validation Error = 0.0675321807532\n",
        "Epoch="
       ]
      },
      {
       "output_type": "stream",
       "stream": "stdout",
       "text": [
        " 179   Training Error = 0.062798470767      Validation Error = 0.0677330534112\n",
        "Epoch="
       ]
      },
      {
       "output_type": "stream",
       "stream": "stdout",
       "text": [
        " 180   Training Error = 0.0629984800961      Validation Error = 0.0672636190634\n",
        "Epoch="
       ]
      },
      {
       "output_type": "stream",
       "stream": "stdout",
       "text": [
        " 181   Training Error = 0.0627398154996      Validation Error = 0.0672515884676\n",
        "Epoch="
       ]
      },
      {
       "output_type": "stream",
       "stream": "stdout",
       "text": [
        " 182   Training Error = 0.0627623502771      Validation Error = 0.067496532707\n",
        "Epoch="
       ]
      },
      {
       "output_type": "stream",
       "stream": "stdout",
       "text": [
        " 183   Training Error = 0.0626957841362      Validation Error = 0.0673456210261\n",
        "Epoch="
       ]
      },
      {
       "output_type": "stream",
       "stream": "stdout",
       "text": [
        " 184   Training Error = 0.0626735892067      Validation Error = 0.0678537805224\n",
        "Epoch="
       ]
      },
      {
       "output_type": "stream",
       "stream": "stdout",
       "text": [
        " 185   Training Error = 0.0624448945364      Validation Error = 0.06726543661\n",
        "Epoch="
       ]
      },
      {
       "output_type": "stream",
       "stream": "stdout",
       "text": [
        " 186   Training Error = 0.0627436452481      Validation Error = 0.0673053151571\n",
        "Epoch="
       ]
      },
      {
       "output_type": "stream",
       "stream": "stdout",
       "text": [
        " 187   Training Error = 0.0623252290593      Validation Error = 0.0674988628419\n",
        "Epoch="
       ]
      },
      {
       "output_type": "stream",
       "stream": "stdout",
       "text": [
        " 188   Training Error = 0.0629555239373      Validation Error = 0.0673839905927\n",
        "Epoch="
       ]
      },
      {
       "output_type": "stream",
       "stream": "stdout",
       "text": [
        " 189   Training Error = 0.062239830554      Validation Error = 0.068084985723\n",
        "Epoch="
       ]
      },
      {
       "output_type": "stream",
       "stream": "stdout",
       "text": [
        " 190   Training Error = 0.0623089411428      Validation Error = 0.0673663161998\n",
        "Epoch="
       ]
      },
      {
       "output_type": "stream",
       "stream": "stdout",
       "text": [
        " 191   Training Error = 0.0621928497417      Validation Error = 0.0671835840834\n",
        "Epoch="
       ]
      },
      {
       "output_type": "stream",
       "stream": "stdout",
       "text": [
        " 192   Training Error = 0.0627137035649      Validation Error = 0.0675763480615\n",
        "Epoch="
       ]
      },
      {
       "output_type": "stream",
       "stream": "stdout",
       "text": [
        " 193   Training Error = 0.062226027931      Validation Error = 0.0672385512521\n",
        "Epoch="
       ]
      },
      {
       "output_type": "stream",
       "stream": "stdout",
       "text": [
        " 194   Training Error = 0.0621528315554      Validation Error = 0.0671674242462\n",
        "Epoch="
       ]
      },
      {
       "output_type": "stream",
       "stream": "stdout",
       "text": [
        " 195   Training Error = 0.0624171684199      Validation Error = 0.0672177148867\n",
        "Epoch="
       ]
      },
      {
       "output_type": "stream",
       "stream": "stdout",
       "text": [
        " 196   Training Error = 0.0621849798694      Validation Error = 0.0669131934857\n",
        "Epoch="
       ]
      },
      {
       "output_type": "stream",
       "stream": "stdout",
       "text": [
        " 197   Training Error = 0.0619286312259      Validation Error = 0.0673004233029\n",
        "Epoch="
       ]
      },
      {
       "output_type": "stream",
       "stream": "stdout",
       "text": [
        " 198   Training Error = 0.0623309516252      Validation Error = 0.0672956020668\n",
        "Epoch="
       ]
      },
      {
       "output_type": "stream",
       "stream": "stdout",
       "text": [
        " 199   Training Error = 0.0621325850753      Validation Error = 0.0672003176669\n",
        "Epoch="
       ]
      },
      {
       "output_type": "stream",
       "stream": "stdout",
       "text": [
        " 200   Training Error = 0.0620813934167      Validation Error = 0.0673103242706\n",
        "Samples"
       ]
      },
      {
       "output_type": "stream",
       "stream": "stdout",
       "text": [
        " 800000 nLayers= 2 Neurons= 200 FOM train= 0.9160390625 FOM valid= 0.90719375 Timing= 9083.0 MaxCut= 0.45\n"
       ]
      }
     ],
     "prompt_number": 6
    },
    {
     "cell_type": "code",
     "collapsed": false,
     "input": [
      "prediction = exp.predict(valid[0])"
     ],
     "language": "python",
     "metadata": {},
     "outputs": [],
     "prompt_number": 25
    },
    {
     "cell_type": "code",
     "collapsed": false,
     "input": [
      "print prediction"
     ],
     "language": "python",
     "metadata": {},
     "outputs": [
      {
       "output_type": "stream",
       "stream": "stdout",
       "text": [
        "[[ 0.89205497]\n",
        " [ 0.93586222]\n",
        " [ 0.37504526]\n",
        " ..., \n",
        " [ 0.99855299]\n",
        " [ 0.99853392]\n",
        " [ 0.99958102]]\n"
       ]
      }
     ],
     "prompt_number": 26
    },
    {
     "cell_type": "code",
     "collapsed": false,
     "input": [
      "goodness   = np.asarray([[cut,(list(valid[1][np.where(prediction>cut)]==1).count(True)+list(valid[1][np.where(prediction<cut)]==0).count(True))/ float(valid[0].shape[0])]  for cut in np.arange(0,1,0.05)])\n",
      "fom_valid  = max( goodness[:,1])     "
     ],
     "language": "python",
     "metadata": {},
     "outputs": [],
     "prompt_number": 27
    },
    {
     "cell_type": "code",
     "collapsed": false,
     "input": [
      "Cut_V=[]\n",
      "FOM_V=[]\n",
      "\n",
      "for i, iCut in enumerate(goodness):\n",
      "    Cut_V.append(iCut[0])\n",
      "    FOM_V.append(iCut[1])\n",
      "    "
     ],
     "language": "python",
     "metadata": {},
     "outputs": [],
     "prompt_number": 30
    },
    {
     "cell_type": "code",
     "collapsed": false,
     "input": [
      "plt.scatter(Cut_V, FOM_V)\n",
      "plt.grid(True)\n",
      "plt.ylabel(\"FOM on validation data\")\n",
      "plt.xlabel(\"Cut\")"
     ],
     "language": "python",
     "metadata": {},
     "outputs": [
      {
       "metadata": {},
       "output_type": "pyout",
       "prompt_number": 31,
       "text": [
        "<matplotlib.text.Text at 0x7f6fc5353050>"
       ]
      },
      {
       "metadata": {},
       "output_type": "display_data",
       "png": "[encoded data removed]",
       "text": [
        "<matplotlib.figure.Figure at 0x7f6fc2fca6d0>"
       ]
      }
     ],
     "prompt_number": 31
    },
    {
     "cell_type": "code",
     "collapsed": false,
     "input": [
      "#Characterization of mismatch"
     ],
     "language": "python",
     "metadata": {},
     "outputs": []
    },
    {
     "cell_type": "code",
     "collapsed": false,
     "input": [
      "NNtrBit_Agree_Pass    =[]\n",
      "NNtrBit_Agree_Fail    =[]\n",
      "NNtrBit_Disagree_Fail =[]\n",
      "NNtrBit_Disagree_Pass =[]"
     ],
     "language": "python",
     "metadata": {},
     "outputs": [],
     "prompt_number": 154
    },
    {
     "cell_type": "code",
     "collapsed": false,
     "input": [
      "# prediction \n",
      "# train[0]   -> Training Data\n",
      "# train[1]   -> Target \n",
      "prediction = exp.predict(valid[0])\n",
      "\n",
      "Events_NN1=np.where(prediction>MaxCut)[0]    # Events (indices) with NN output =1 \n",
      "Events_NN0=np.where(prediction<MaxCut)[0]    # Events (indices) with NN output =0\n",
      "Events_TB1=np.where(valid[1]==1)[0]          # Events (indices) with Trigger Bit =1\n",
      "Events_TB0=np.where(valid[1]==0)[0]          # Events (indices) with Trigger Bit =0\n",
      "\n",
      "# Search for an element \n",
      "def Search(element, SearchArray):\n",
      "    Found=False\n",
      "    for i in range(len(SearchArray)):\n",
      "        if(element==SearchArray[i]):\n",
      "            Found=True\n",
      "            return Found\n",
      "    return Found"
     ],
     "language": "python",
     "metadata": {},
     "outputs": [],
     "prompt_number": 155
    },
    {
     "cell_type": "code",
     "collapsed": false,
     "input": [
      "print \"Evets_NN1 =\", len(Events_NN1)\n",
      "print \"Events_NN0=\", len(Events_NN0)\n",
      "print \"Events_TB1=\", len(Events_TB1)\n",
      "print \"Events_TB0=\", len(Events_TB0)\n",
      "print \"\"\n",
      "print \"All NN Samples=\", len(Events_NN1) + len(Events_NN0)\n",
      "print \"All TB Samples=\", len(Events_TB1) + len(Events_TB0)"
     ],
     "language": "python",
     "metadata": {},
     "outputs": [
      {
       "output_type": "stream",
       "stream": "stdout",
       "text": [
        "Evets_NN1 = 98259\n",
        "Events_NN0= 61741\n",
        "Events_TB1= 97342\n",
        "Events_TB0= 62658\n",
        "\n",
        "All NN Samples= 160000\n",
        "All TB Samples= 160000\n"
       ]
      }
     ],
     "prompt_number": 156
    },
    {
     "cell_type": "code",
     "collapsed": false,
     "input": [
      "bins=[-0.05,0.05,0.15,0.25,0.35,0.45,0.55,0.65,0.75,0.85,0.95,1.05]\n",
      "plt.hist(prediction, bins=bins)\n",
      "plt.xlabel(\"NN output\")\n",
      "plt.ylabel(\"Number of Samples\")\n",
      "plt.grid(True)"
     ],
     "language": "python",
     "metadata": {},
     "outputs": [
      {
       "metadata": {},
       "output_type": "display_data",
       "png": "[encoded data removed]",
       "text": [
        "<matplotlib.figure.Figure at 0x7f6fa9a9a7d0>"
       ]
      }
     ],
     "prompt_number": 158
    },
    {
     "cell_type": "code",
     "collapsed": false,
     "input": [
      "plt.hist(valid[1], bins)\n",
      "plt.xlabel(\"Target (Validation Data)\")\n",
      "plt.ylabel(\"Number of Samples\")\n",
      "plt.grid(True)"
     ],
     "language": "python",
     "metadata": {},
     "outputs": [
      {
       "metadata": {},
       "output_type": "display_data",
       "png": "[encoded data removed]",
       "text": [
        "<matplotlib.figure.Figure at 0x7f6fa9ffc750>"
       ]
      }
     ],
     "prompt_number": 159
    },
    {
     "cell_type": "code",
     "collapsed": false,
     "input": [
      "for i in range(len(Events_TB1)):\n",
      "    iEvent=Events_TB1[i]\n",
      "    if(Search(iEvent, Events_NN1)):\n",
      "        #  Agree NN+TB =1\n",
      "        NNtrBit_Agree_Pass.append((valid[0][iEvent],DEC_matrix[TrainCut+iEvent][0], DEC_matrix[TrainCut+iEvent][1], DEC_matrix[TrainCut+iEvent][2]))    \n",
      "    else:\n",
      "        #  Disagree TB=1 and NN=0\n",
      "        NNtrBit_Disagree_Pass.append((valid[0][iEvent], DEC_matrix[TrainCut+iEvent][0], DEC_matrix[TrainCut+iEvent][1], DEC_matrix[TrainCut+iEvent][2]))\n",
      "\n",
      "for i in range(len(Events_TB0)):\n",
      "    iEvent=Events_TB0[i]\n",
      "    \n",
      "    if(Search(iEvent, Events_NN0)):\n",
      "        #  Agree NN+TB=0\n",
      "        NNtrBit_Agree_Fail.append((valid[0][iEvent],DEC_matrix[TrainCut+iEvent][0], DEC_matrix[TrainCut+iEvent][1], DEC_matrix[TrainCut+iEvent][2]))\n",
      "    else:\n",
      "        #  Disagree TB=0 and NN=1\n",
      "        NNtrBit_Disagree_Fail.append((valid[0][iEvent],DEC_matrix[TrainCut+iEvent][0], DEC_matrix[TrainCut+iEvent][1], DEC_matrix[TrainCut+iEvent][2]))"
     ],
     "language": "python",
     "metadata": {},
     "outputs": [],
     "prompt_number": 162
    },
    {
     "cell_type": "code",
     "collapsed": false,
     "input": [
      "print \"Number of Events where NN + TB =1  :\", len(NNtrBit_Agree_Pass)\n",
      "print \"Number of Events where NN + TB =0  :\", len(NNtrBit_Agree_Fail)\n",
      "print \"Number of Events where TB=0 & NN=1 :\", len(NNtrBit_Disagree_Fail)\n",
      "print \"Number of Events where TB=1 & NN=0 :\", len(NNtrBit_Disagree_Pass)"
     ],
     "language": "python",
     "metadata": {},
     "outputs": [
      {
       "output_type": "stream",
       "stream": "stdout",
       "text": [
        "Number of Events where NN + TB =1  : 90376\n",
        "Number of Events where NN + TB =0  : 54775\n",
        "Number of Events where TB=0 & NN=1 : 7883\n",
        "Number of Events where TB=1 & NN=0 : 6966\n"
       ]
      }
     ],
     "prompt_number": 163
    },
    {
     "cell_type": "code",
     "collapsed": false,
     "input": [
      "All = len(NNtrBit_Agree_Pass) + len(NNtrBit_Agree_Fail) + len(NNtrBit_Disagree_Fail) + len(NNtrBit_Disagree_Pass)"
     ],
     "language": "python",
     "metadata": {},
     "outputs": [],
     "prompt_number": 180
    },
    {
     "cell_type": "code",
     "collapsed": false,
     "input": [
      "print \"Percentages\"\n",
      "\n",
      "print \"TB=1 & NN=1 =\", len(NNtrBit_Agree_Pass)/float(All)*100. ,\"%\"\n",
      "print \"TB=0 & NN=0 =\", len(NNtrBit_Agree_Fail)/float(All)*100., \"%\"\n",
      "print \"TB=1 & NN=0 =\", len(NNtrBit_Disagree_Pass)/float(All)*100.,\"%\"\n",
      "print \"TB=0 & NN=1 =\", len(NNtrBit_Disagree_Fail)/float(All)*100.,\"%\"\n",
      "\n",
      "print \"Sum of percentage=\", len(NNtrBit_Agree_Pass)/float(All)*100 + len(NNtrBit_Agree_Fail)/float(All)*100 + len(NNtrBit_Disagree_Pass)/float(All)*100.+ len(NNtrBit_Disagree_Fail)/float(All)*100., \"%\" "
     ],
     "language": "python",
     "metadata": {},
     "outputs": [
      {
       "output_type": "stream",
       "stream": "stdout",
       "text": [
        "Percentages\n",
        "TB=1 & NN=1 = 56.485 %\n",
        "TB=0 & NN=0 = 34.234375 %\n",
        "TB=1 & NN=0 = 4.35375 %\n",
        "TB=0 & NN=1 = 4.926875 %\n",
        "Sum of percentage= 100.0 %\n"
       ]
      }
     ],
     "prompt_number": 187
    },
    {
     "cell_type": "code",
     "collapsed": false,
     "input": [
      "R2_AP =[]\n",
      "MR_AP =[]\n",
      "MET_AP=[]\n",
      "pT_AP =[]\n",
      "\n",
      "for i, iAP in enumerate(NNtrBit_Agree_Pass):\n",
      "    R2_AP.append(iAP[1])\n",
      "    MR_AP.append(iAP[2])\n",
      "    MET_AP.append(sqrt(iAP[0][-1]**2+iAP[0][-2]**2))\n",
      "    pT_AP.append(sqrt(iAP[0][1]**2+iAP[0][2]**2))\n",
      "\n",
      "R2_DP =[]\n",
      "MR_DP =[]\n",
      "MET_DP=[]\n",
      "pT_DP =[]\n",
      "\n",
      "for i, iDP in enumerate(NNtrBit_Disagree_Pass):\n",
      "    R2_DP.append(iDP[1])\n",
      "    MR_DP.append(iDP[2])\n",
      "    MET_DP.append(sqrt(iDP[0][-1]**2+iDP[0][-2]**2))\n",
      "    pT_DP.append(sqrt(iDP[0][1]**2+iDP[0][2]**2))\n",
      "    \n",
      "R2_AF=[]\n",
      "MR_AF=[]\n",
      "MET_AF=[]\n",
      "pT_AF =[]\n",
      "for i, iAF in enumerate(NNtrBit_Agree_Fail):\n",
      "    R2_AF.append(iAF[1])\n",
      "    MR_AF.append(iAF[2])\n",
      "    MET_AF.append(sqrt(iAF[0][-1]**2+iAF[0][-2]**2))\n",
      "    pT_AF.append(sqrt(iAF[0][1]**2+iAF[0][2]**2))\n",
      "    \n",
      "R2_DF=[]\n",
      "MR_DF=[]\n",
      "MET_DF=[]\n",
      "pT_DF =[]\n",
      "for i, iDF in enumerate(NNtrBit_Disagree_Fail):\n",
      "    R2_DF.append(iDF[1])\n",
      "    MR_DF.append(iDF[2])\n",
      "    MET_DF.append(sqrt(iDF[0][-1]**2+iDF[0][-2]**2))\n",
      "    pT_DF.append(sqrt(iDF[0][1]**2+iDF[0][2]**2))"
     ],
     "language": "python",
     "metadata": {},
     "outputs": [],
     "prompt_number": 167
    },
    {
     "cell_type": "code",
     "collapsed": false,
     "input": [
      "plt.scatter(MR_AP,R2_AP,marker='o')\n",
      "plt.title(\"NN + TB =1\")\n",
      "plt.xlabel(\"$M_R$\")\n",
      "plt.ylabel(\"$R^{2}$\")\n",
      "plt.grid(True)\n",
      "plt.xlim(0,50)\n",
      "plt.ylim(0,0.5)"
     ],
     "language": "python",
     "metadata": {},
     "outputs": [
      {
       "metadata": {},
       "output_type": "pyout",
       "prompt_number": 188,
       "text": [
        "(0, 0.5)"
       ]
      },
      {
       "metadata": {},
       "output_type": "display_data",
       "png": "[encoded data removed]",
       "text": [
        "<matplotlib.figure.Figure at 0x7f6fb00905d0>"
       ]
      }
     ],
     "prompt_number": 188
    },
    {
     "cell_type": "code",
     "collapsed": false,
     "input": [
      "plt.scatter(MR_DF,R2_DF,color='r', marker='o')\n",
      "plt.title(\"NN=1  & TB=0\")\n",
      "plt.xlabel(\"$M_R$\")\n",
      "plt.xlim(0,50)\n",
      "plt.ylim(0,0.5)\n",
      "plt.ylabel(\"$R^{2}$\")\n",
      "plt.grid(True)"
     ],
     "language": "python",
     "metadata": {},
     "outputs": [
      {
       "metadata": {},
       "output_type": "display_data",
       "png": "[encoded data removed]",
       "text": [
        "<matplotlib.figure.Figure at 0x7f6faffbe190>"
       ]
      }
     ],
     "prompt_number": 225
    },
    {
     "cell_type": "code",
     "collapsed": false,
     "input": [
      "plt.scatter(MR_AF,R2_AF,marker='o', color='g')\n",
      "plt.title(\"NN=0  & TB=0\")\n",
      "plt.xlabel(\"$M_R$\")\n",
      "plt.ylabel(\"$R^{2}$\")\n",
      "plt.grid(True)\n",
      "plt.xlim(0,50)\n",
      "plt.ylim(0,0.5)"
     ],
     "language": "python",
     "metadata": {},
     "outputs": [
      {
       "metadata": {},
       "output_type": "pyout",
       "prompt_number": 190,
       "text": [
        "(0, 0.5)"
       ]
      },
      {
       "metadata": {},
       "output_type": "display_data",
       "png": "[encoded data removed]",
       "text": [
        "<matplotlib.figure.Figure at 0x7f6faa80e6d0>"
       ]
      }
     ],
     "prompt_number": 190
    },
    {
     "cell_type": "code",
     "collapsed": false,
     "input": [
      "plt.scatter(MR_DP,R2_DP,marker='o',color='c')\n",
      "plt.title(\"NN=0  & TB=1\")\n",
      "plt.xlabel(\"$M_R$\")\n",
      "plt.ylabel(\"$R^{2}$\")\n",
      "plt.grid(True)\n",
      "plt.xlim(0,50)\n",
      "plt.ylim(0,0.5)"
     ],
     "language": "python",
     "metadata": {},
     "outputs": [
      {
       "metadata": {},
       "output_type": "pyout",
       "prompt_number": 226,
       "text": [
        "(0, 0.5)"
       ]
      },
      {
       "metadata": {},
       "output_type": "display_data",
       "png": "[encoded data removed]",
       "text": [
        "<matplotlib.figure.Figure at 0x7f6faff94b10>"
       ]
      }
     ],
     "prompt_number": 226
    },
    {
     "cell_type": "code",
     "collapsed": false,
     "input": [
      "plt.hist(pT_AP,bins=100,label=\"TB=1 & NN=1\",color='b')\n",
      "plt.hist(pT_AF,bins=100,label=\"TB=0 & NN=0\",color='g')\n",
      "plt.hist(pT_DF,bins=100,label=\"TB=0 & NN=1\",color='c')\n",
      "plt.hist(pT_DP,bins=100,label=\"TB=1 & NN=0\",color='r',alpha=0.7)\n",
      "plt.legend(loc='best')\n",
      "plt.xlabel(\"$p_{T}$  $[GeV/c]$\")\n",
      "plt.ylabel(\"Number of events\")\n",
      "plt.grid(True)"
     ],
     "language": "python",
     "metadata": {},
     "outputs": [
      {
       "metadata": {},
       "output_type": "display_data",
       "png": "[encoded data removed]",
       "text": [
        "<matplotlib.figure.Figure at 0x7f6fa9ae60d0>"
       ]
      }
     ],
     "prompt_number": 227
    },
    {
     "cell_type": "code",
     "collapsed": false,
     "input": [
      "plt.hist(pT_AP,bins=100,label=\"TB=1 & NN=1\",normed=True,alpha=0.8) \n",
      "plt.hist(pT_AF,bins=100,label=\"TB=0 & NN=0\",normed=True,alpha=0.8)\n",
      "plt.hist(pT_DP,bins=100,label=\"TB=1 & NN=0\",normed=True,alpha=0.8)\n",
      "plt.hist(pT_DF,bins=100,label=\"TB=0 & NN=1\",normed=True,alpha=0.8)\n",
      "plt.legend(loc='best')\n",
      "plt.xlabel(\"$p_{T}$  $[GeV/c]$\")\n",
      "plt.ylabel(\"Number of events\")\n",
      "plt.title(\"$p_{T}$ $[GeV/c]$ - Normalized\")\n",
      "plt.grid(True)\n",
      "plt.xlim(0,14)"
     ],
     "language": "python",
     "metadata": {},
     "outputs": [
      {
       "metadata": {},
       "output_type": "pyout",
       "prompt_number": 199,
       "text": [
        "(0, 14)"
       ]
      },
      {
       "metadata": {},
       "output_type": "display_data",
       "png": "[encoded data removed]",
       "text": [
        "<matplotlib.figure.Figure at 0x7f6fbea8a210>"
       ]
      }
     ],
     "prompt_number": 199
    },
    {
     "cell_type": "code",
     "collapsed": false,
     "input": [
      "plt.hist(MET_AP,bins=100,label=\"TB=1 & NN=1\")\n",
      "plt.hist(MET_AF,bins=100,label=\"TB=0 & NN=0\",alpha=0.7)\n",
      "plt.hist(MET_DP,bins=100,label=\"TB=1 & NN=0\")\n",
      "plt.hist(MET_DF,bins=100,label=\"TB=0 & NN=1\",alpha=0.5)\n",
      "plt.legend(loc='best')\n",
      "plt.xlabel(\"$MET$  $[GeV]$\")\n",
      "plt.ylabel(\"Number of events\")\n",
      "plt.title(\"MET $[GeV]$\")\n",
      "plt.grid(True)\n",
      "plt.xlim(0,12)"
     ],
     "language": "python",
     "metadata": {},
     "outputs": [
      {
       "metadata": {},
       "output_type": "pyout",
       "prompt_number": 205,
       "text": [
        "(0, 12)"
       ]
      },
      {
       "metadata": {},
       "output_type": "display_data",
       "png": "[encoded data removed]",
       "text": [
        "<matplotlib.figure.Figure at 0x7f6fa81b3450>"
       ]
      }
     ],
     "prompt_number": 205
    },
    {
     "cell_type": "code",
     "collapsed": false,
     "input": [
      "plt.hist(MET_AP,bins=100,label=\"TB=1 & NN=1\",normed=True,alpha=0.9)\n",
      "plt.hist(MET_AF,bins=100,label=\"TB=0 & NN=0\",normed=True,alpha=0.5)\n",
      "plt.hist(MET_DP,bins=100,label=\"TB=1 & NN=0\",normed=True,alpha=1)\n",
      "plt.hist(MET_DF,bins=100,label=\"TB=0 & NN=1\",normed=True,alpha=0.7)\n",
      "plt.legend(loc='best')\n",
      "plt.xlabel(\"$MET$  $[GeV]$\")\n",
      "plt.ylabel(\"Number of events\")\n",
      "plt.title(\"MET $[GeV]$ - Normalized\")\n",
      "plt.grid(True)\n",
      "plt.xlim(0,12)"
     ],
     "language": "python",
     "metadata": {},
     "outputs": [
      {
       "metadata": {},
       "output_type": "pyout",
       "prompt_number": 228,
       "text": [
        "(0, 12)"
       ]
      },
      {
       "metadata": {},
       "output_type": "display_data",
       "png": "[encoded data removed]",
       "text": [
        "<matplotlib.figure.Figure at 0x7f6fa9cf7410>"
       ]
      }
     ],
     "prompt_number": 228
    },
    {
     "cell_type": "code",
     "collapsed": false,
     "input": [
      "plt.hist(R2_AP,bins=(np.arange(0,0.8,0.01)),label=\"TB=1 & NN=1\",normed=True)\n",
      "plt.hist(R2_AF,bins=(np.arange(0,0.8,0.01)),label=\"TB=0 & NN=0\",normed=True)\n",
      "plt.hist(R2_DP,bins=(np.arange(0,0.8,0.01)),label=\"TB=1 & NN=0\",normed=True)\n",
      "plt.hist(R2_DF,bins=(np.arange(0,0.8,0.01)),label=\"TB=0 & NN=1\",normed=True)\n",
      "plt.legend(loc='best')\n",
      "plt.xlabel(\"$R^2$\")\n",
      "plt.ylabel(\"Events\")\n",
      "plt.grid(True)\n",
      "plt.xlim(0,0.3)"
     ],
     "language": "python",
     "metadata": {},
     "outputs": [
      {
       "metadata": {},
       "output_type": "pyout",
       "prompt_number": 216,
       "text": [
        "(0, 0.3)"
       ]
      },
      {
       "metadata": {},
       "output_type": "display_data",
       "png": "[encoded data removed]",
       "text": [
        "<matplotlib.figure.Figure at 0x7f6faa3427d0>"
       ]
      }
     ],
     "prompt_number": 216
    },
    {
     "cell_type": "code",
     "collapsed": false,
     "input": [
      "plt.hist(MR_AP,bins=80,label=\"TB=1 & NN=1\")#,normed=True)\n",
      "plt.hist(MR_AF,bins=80,label=\"TB=0 & NN=0\")#,normed=True)\n",
      "plt.hist(MR_DP,bins=80,label=\"TB=1 & NN=0\")#,normed=True)\n",
      "plt.hist(MR_DF,bins=80,label=\"TB=0 & NN=1\",alpha=0.7)#,normed=True)\n",
      "plt.legend(loc='best')\n",
      "plt.xlabel(\"$M_{R}$\")\n",
      "plt.ylabel(\"Events\")\n",
      "plt.grid(True)\n",
      "plt.xlim(0,90)"
     ],
     "language": "python",
     "metadata": {},
     "outputs": [
      {
       "metadata": {},
       "output_type": "pyout",
       "prompt_number": 218,
       "text": [
        "(0, 90)"
       ]
      },
      {
       "metadata": {},
       "output_type": "display_data",
       "png": "[encoded data removed]",
       "text": [
        "<matplotlib.figure.Figure at 0x7f6fb7f0ec90>"
       ]
      }
     ],
     "prompt_number": 218
    },
    {
     "cell_type": "code",
     "collapsed": false,
     "input": [
      "plt.scatter(MR_AP,R2_AP, marker='^', color='b', label='TB=1 & NN=1')\n",
      "plt.scatter(MR_AF,R2_AF, marker='o', color='g', label='TB=0 & NN=0')\n",
      "plt.scatter(MR_DP,R2_DP, marker='s', color='r', label='TB=1 & NN=0')\n",
      "plt.scatter(MR_DF,R2_DF, marker='x', color='c', label='TB=0 & NN=1')\n",
      "\n",
      "plt.legend(loc='best')\n",
      "plt.xlim(0,30)\n",
      "plt.ylim(0,2.0)\n",
      "plt.xlabel(\"$M_{R}$\")\n",
      "plt.ylabel(\"$R^{2}$\")\n",
      "plt.title(\"$R^{2}=f(M_{R})$\")\n",
      "plt.grid(True)\n",
      "plt.show()"
     ],
     "language": "python",
     "metadata": {},
     "outputs": [
      {
       "metadata": {},
       "output_type": "display_data",
       "png": "[encoded data removed]",
       "text": [
        "<matplotlib.figure.Figure at 0x7f6fb748bfd0>"
       ]
      }
     ],
     "prompt_number": 178
    },
    {
     "cell_type": "code",
     "collapsed": false,
     "input": [],
     "language": "python",
     "metadata": {},
     "outputs": []
    }
   ],
   "metadata": {}
  }
 ]
}