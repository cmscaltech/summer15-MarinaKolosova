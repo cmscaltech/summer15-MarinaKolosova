{
 "metadata": {
  "name": "",
  "signature": "sha256:059ce3e2d217e0bb838b9dcc1cad3c1ba4370b84c5e121a856a53ba88cf005d8"
 },
 "nbformat": 3,
 "nbformat_minor": 0,
 "worksheets": [
  {
   "cells": [
    {
     "cell_type": "code",
     "collapsed": false,
     "input": [
      "import h5py\n",
      "import theanets\n",
      "import time"
     ],
     "language": "python",
     "metadata": {},
     "outputs": [
      {
       "output_type": "stream",
       "stream": "stdout",
       "text": [
        "Couldn't import dot_parser, loading of dot files will not be possible.\n"
       ]
      }
     ],
     "prompt_number": 1
    },
    {
     "cell_type": "code",
     "collapsed": false,
     "input": [
      "f=h5py.File(\"data/data.hdf5\")\n",
      "f.keys()\n",
      "f['data'].keys()\n",
      "\n",
      "global input_matrix\n",
      "global target_matrix\n",
      "global decorator_matrix\n",
      "\n",
      "input_matrix     = f['data']['input'].value\n",
      "target_matrix    = f['data']['target'].value\n",
      "decorator_matrix = f['data']['deco'].value\n",
      "f.close()"
     ],
     "language": "python",
     "metadata": {},
     "outputs": [],
     "prompt_number": 2
    },
    {
     "cell_type": "code",
     "collapsed": false,
     "input": [
      "nInputs  = input_matrix.shape[1]\n",
      "nOutputs = target_matrix.shape[1]"
     ],
     "language": "python",
     "metadata": {},
     "outputs": [],
     "prompt_number": 3
    },
    {
     "cell_type": "code",
     "collapsed": false,
     "input": [
      "print \"Samples in input_matrix=\", len(input_matrix), \"       Inputs=\", nInputs, \"       Outputs=\",nOutputs"
     ],
     "language": "python",
     "metadata": {},
     "outputs": [
      {
       "output_type": "stream",
       "stream": "stdout",
       "text": [
        "Samples in input_matrix= 1000000        Inputs= 82        Outputs= 1\n"
       ]
      }
     ],
     "prompt_number": 4
    },
    {
     "cell_type": "code",
     "collapsed": false,
     "input": [
      "def allincluded(truncated, nHiddenLayers, nHiddenNeurons):\n",
      "\n",
      "    # Create Training & Validation Set\n",
      "    # ------------------------------------------------\n",
      "    IN_matrix     = input_matrix[0:truncate,...]      \n",
      "    TARGET_matrix = target_matrix[0:truncate,...]\n",
      "    DEC_matrix    = decorator_matrix[0:truncate,...] \n",
      "    \n",
      "    cut   =int(IN_matrix.shape[0]*0.8)\n",
      "    train =IN_matrix[:cut], TARGET_matrix[:cut]\n",
      "    valid =IN_matrix[cut:], TARGET_matrix[cut:]\n",
      "    \n",
      "    # Build the NN\n",
      "    # -----------------------------------------------------------------------------------------------------------------------------------\n",
      "    # Topology: Feedforward\n",
      "    # Inputs = 82 (Jets 4-momenta (20 Jets maximum), METx, METy)\n",
      "    # Number of Hidden Layers = nHiddenLayers\n",
      "    # Activation function for Hidden Layers = sigmoid\n",
      "    # Outputs=1 (NN Trigger Bits= 0 or 1)\n",
      "    # Activation function for the Output Layer= sigmoid \n",
      "    # Layerwise: pretrainer \n",
      "\n",
      "    exp=theanets.Experiment(theanets.feedforward.Regressor(layers=(nInputs,)+tuple([nHiddenNeurons for l in range(nHiddenLayers), 'sigmoid'])+ ( (nOutputs, 'sigmoid'),)),'layerwise')    \n",
      "    \n",
      "    # ------------------------------------------------------------------------------------------------------------------------------------\n",
      "    fom_train   = 1.0\n",
      "    fom_valid   = 1.0\n",
      "    \n",
      "    LearningRate=0.001\n",
      "    Epochs= 0\n",
      "    \n",
      "    timing_start = time.mktime(time.gmtime())\n",
      "    \n",
      "    for TrainError, ValError in exp.itertrain(train,valid, learning_rate= LearningRate, algo='rmsprop', \n",
      "                                              hidden_dropout=0.9, iteration_size = 400, batch_size=1000, \n",
      "                                              validate_every = 1, patience=300, min_improvement = 0.0000001,\n",
      "                                              rms_halflife=0.995, rms_regularizer=1e-09):\n",
      "        print 'Epoch=', Epochs+1\n",
      "        if Epochs%1 == 0 :\n",
      "            print 'Training   Error =',TrainError['err']\n",
      "            print 'Validation Error =',ValError['err']\n",
      "        Epochs+=1\n",
      "        if Epochs == 20 :\n",
      "            break   \n",
      "    timing_end=time.mktime(time.gmtime())\n",
      "    \n",
      "    prediction = exp.network.predict(train[0])\n",
      "    goodness = np.asarray([[cut,(list(train[1][np.where(prediction>cut)]==1).count(True)+list(train[1][np.where(prediction<cut)]==0).count(True))/ float(train[0].shape[0])]  for cut in np.arange(0,1,0.05)])\n",
      "    fom_train = max( goodness[:,1])    \n",
      "    \n",
      "    prediction = exp.network.predict(valid[0])\n",
      "    goodness   = np.asarray([[cut,(list(valid[1][np.where(prediction>cut)]==1).count(True)+list(valid[1][np.where(prediction<cut)]==0).count(True))/ float(valid[0].shape[0])]  for cut in np.arange(0,1,0.05)])\n",
      "    fom_valid  = max( goodness[:,1])     \n",
      "    \n",
      "    timing=timing_end-timing_start\n",
      "\n",
      "    return (fom_train, fom_valid, timing)"
     ],
     "language": "python",
     "metadata": {},
     "outputs": [],
     "prompt_number": 5
    },
    {
     "cell_type": "code",
     "collapsed": false,
     "input": [
      "# (Number of Samples, Hidden Layers, HiddenNeurons, Epochs, Trainings, Timing, FOM ) \n",
      "mapAlgo=[]"
     ],
     "language": "python",
     "metadata": {},
     "outputs": [],
     "prompt_number": 6
    },
    {
     "cell_type": "code",
     "collapsed": false,
     "input": [
      "print mapAlgo"
     ],
     "language": "python",
     "metadata": {},
     "outputs": [
      {
       "output_type": "stream",
       "stream": "stdout",
       "text": [
        "[]\n"
       ]
      }
     ],
     "prompt_number": 7
    },
    {
     "cell_type": "code",
     "collapsed": false,
     "input": [
      "truncate=100000\n",
      "for iLayers in range(1,11):\n",
      "    for nHiddenNeurons in range(100,1100,100):\n",
      "        fom_train, fom_valid, timing = allincluded(truncate, iLayers, nHiddenNeurons)\n",
      "        mapAlgo.append((truncate, iLayers, nHiddenNeurons, timing, fom_train, fom_valid))\n",
      "        print 'Samples=', truncate,'    Hid. Layers=',iLayers, \"   Hid. Neurons=\", nHiddenNeurons, \"   F.O.M. train set=\",fom_train, \"   FOM valid. set=\", fom_valid, \" Time=\", timing "
     ],
     "language": "python",
     "metadata": {},
     "outputs": [
      {
       "output_type": "stream",
       "stream": "stdout",
       "text": [
        "Epoch= 1\n",
        "Training   Error = 0.164245452445\n",
        "Validation Error = 0.325241913268\n",
        "Epoch="
       ]
      },
      {
       "output_type": "stream",
       "stream": "stdout",
       "text": [
        " 2\n",
        "Training   Error = 0.0971052241655\n",
        "Validation Error = 0.108731847095\n",
        "Epoch="
       ]
      },
      {
       "output_type": "stream",
       "stream": "stdout",
       "text": [
        " 3\n",
        "Training   Error = 0.0859940492782\n",
        "Validation Error = 0.0976444705968\n",
        "Epoch="
       ]
      },
      {
       "output_type": "stream",
       "stream": "stdout",
       "text": [
        " 4\n",
        "Training   Error = 0.0795643444787\n",
        "Validation Error = 0.0910221004286\n",
        "Epoch="
       ]
      },
      {
       "output_type": "stream",
       "stream": "stdout",
       "text": [
        " 5\n",
        "Training   Error = 0.0754021233653\n",
        "Validation Error = 0.0869468117445\n",
        "Epoch="
       ]
      },
      {
       "output_type": "stream",
       "stream": "stdout",
       "text": [
        " 6\n",
        "Training   Error = 0.0724039749997\n",
        "Validation Error = 0.0822089936937\n",
        "Epoch="
       ]
      },
      {
       "output_type": "stream",
       "stream": "stdout",
       "text": [
        " 7\n",
        "Training   Error = 0.0701870850626\n",
        "Validation Error = 0.0822858112764\n",
        "Epoch="
       ]
      },
      {
       "output_type": "stream",
       "stream": "stdout",
       "text": [
        " 8\n",
        "Training   Error = 0.0684556654405\n",
        "Validation Error = 0.0812208141542\n",
        "Epoch="
       ]
      },
      {
       "output_type": "stream",
       "stream": "stdout",
       "text": [
        " 9\n",
        "Training   Error = 0.0668714426971\n",
        "Validation Error = 0.087322249933\n",
        "Epoch="
       ]
      },
      {
       "output_type": "stream",
       "stream": "stdout",
       "text": [
        " 10\n",
        "Training   Error = 0.0656829084002\n",
        "Validation Error = 0.0815477879659\n",
        "Epoch="
       ]
      },
      {
       "output_type": "stream",
       "stream": "stdout",
       "text": [
        " 11\n",
        "Training   Error = 0.0644542389034\n",
        "Validation Error = 0.0810719089909\n",
        "Epoch="
       ]
      },
      {
       "output_type": "stream",
       "stream": "stdout",
       "text": [
        " 12\n",
        "Training   Error = 0.0635174760546\n",
        "Validation Error = 0.0823690423271\n",
        "Epoch="
       ]
      },
      {
       "output_type": "stream",
       "stream": "stdout",
       "text": [
        " 13\n",
        "Training   Error = 0.062772758074\n",
        "Validation Error = 0.0818080772019\n",
        "Epoch="
       ]
      },
      {
       "output_type": "stream",
       "stream": "stdout",
       "text": [
        " 14\n",
        "Training   Error = 0.0617149943854\n",
        "Validation Error = 0.0821826120588\n",
        "Epoch="
       ]
      },
      {
       "output_type": "stream",
       "stream": "stdout",
       "text": [
        " 15\n",
        "Training   Error = 0.0609789292391\n",
        "Validation Error = 0.083545004244\n",
        "Epoch="
       ]
      },
      {
       "output_type": "stream",
       "stream": "stdout",
       "text": [
        " 16\n",
        "Training   Error = 0.0602716138057\n",
        "Validation Error = 0.0857259036792\n",
        "Epoch="
       ]
      },
      {
       "output_type": "stream",
       "stream": "stdout",
       "text": [
        " 17\n",
        "Training   Error = 0.0597636485338\n",
        "Validation Error = 0.0827089751255\n",
        "Epoch="
       ]
      },
      {
       "output_type": "stream",
       "stream": "stdout",
       "text": [
        " 18\n",
        "Training   Error = 0.0591685463264\n",
        "Validation Error = 0.083558864047\n",
        "Epoch="
       ]
      },
      {
       "output_type": "stream",
       "stream": "stdout",
       "text": [
        " 19\n",
        "Training   Error = 0.0586699703142\n",
        "Validation Error = 0.0839393345757\n",
        "Epoch="
       ]
      },
      {
       "output_type": "stream",
       "stream": "stdout",
       "text": [
        " 20\n",
        "Training   Error = 0.0581513618469\n",
        "Validation Error = 0.0855568939998\n",
        "Samples="
       ]
      },
      {
       "output_type": "stream",
       "stream": "stdout",
       "text": [
        " 100000     Hid. Layers= 1    Hid. Neurons= 100    F.O.M. train set= 0.9328375    FOM valid. set= 0.88675  Time= 368.0\n",
        "Epoch="
       ]
      },
      {
       "output_type": "stream",
       "stream": "stdout",
       "text": [
        " 1\n",
        "Training   Error = 0.163400604535\n",
        "Validation Error = 0.274582680135\n",
        "Epoch="
       ]
      },
      {
       "output_type": "stream",
       "stream": "stdout",
       "text": [
        " 2\n",
        "Training   Error = 0.0980105401593\n",
        "Validation Error = 0.105364528927\n",
        "Epoch="
       ]
      },
      {
       "output_type": "stream",
       "stream": "stdout",
       "text": [
        " 3\n",
        "Training   Error = 0.0859107279194\n",
        "Validation Error = 0.0965316740654\n",
        "Epoch="
       ]
      },
      {
       "output_type": "stream",
       "stream": "stdout",
       "text": [
        " 4\n",
        "Training   Error = 0.0782085463187\n",
        "Validation Error = 0.085377617705\n",
        "Epoch="
       ]
      },
      {
       "output_type": "stream",
       "stream": "stdout",
       "text": [
        " 5\n",
        "Training   Error = 0.0731357733392\n",
        "Validation Error = 0.0810601109621\n",
        "Epoch="
       ]
      },
      {
       "output_type": "stream",
       "stream": "stdout",
       "text": [
        " 6\n",
        "Training   Error = 0.0693168679007\n",
        "Validation Error = 0.0853466614974\n",
        "Epoch="
       ]
      },
      {
       "output_type": "stream",
       "stream": "stdout",
       "text": [
        " 7\n",
        "Training   Error = 0.0661380997466\n",
        "Validation Error = 0.0815575466022\n",
        "Epoch="
       ]
      },
      {
       "output_type": "stream",
       "stream": "stdout",
       "text": [
        " 8\n",
        "Training   Error = 0.0631879125383\n",
        "Validation Error = 0.0867500335422\n",
        "Epoch="
       ]
      },
      {
       "output_type": "stream",
       "stream": "stdout",
       "text": [
        " 9\n",
        "Training   Error = 0.0609301156351\n",
        "Validation Error = 0.0782424842114\n",
        "Epoch="
       ]
      },
      {
       "output_type": "stream",
       "stream": "stdout",
       "text": [
        " 10\n",
        "Training   Error = 0.0588195846284\n",
        "Validation Error = 0.0818744826319\n",
        "Epoch="
       ]
      },
      {
       "output_type": "stream",
       "stream": "stdout",
       "text": [
        " 11\n",
        "Training   Error = 0.0569949548966\n",
        "Validation Error = 0.0815853429784\n",
        "Epoch="
       ]
      },
      {
       "output_type": "stream",
       "stream": "stdout",
       "text": [
        " 12\n",
        "Training   Error = 0.0551248743312\n",
        "Validation Error = 0.0813878974068\n",
        "Epoch="
       ]
      },
      {
       "output_type": "stream",
       "stream": "stdout",
       "text": [
        " 13\n",
        "Training   Error = 0.0536805320501\n",
        "Validation Error = 0.0810227731136\n",
        "Epoch="
       ]
      },
      {
       "output_type": "stream",
       "stream": "stdout",
       "text": [
        " 14\n",
        "Training   Error = 0.0522799552834\n",
        "Validation Error = 0.0872264598495\n",
        "Epoch="
       ]
      },
      {
       "output_type": "stream",
       "stream": "stdout",
       "text": [
        " 15\n",
        "Training   Error = 0.0510403240458\n",
        "Validation Error = 0.0846120917531\n",
        "Epoch="
       ]
      },
      {
       "output_type": "stream",
       "stream": "stdout",
       "text": [
        " 16\n",
        "Training   Error = 0.0495498922972\n",
        "Validation Error = 0.0910264933977\n",
        "Epoch="
       ]
      },
      {
       "output_type": "stream",
       "stream": "stdout",
       "text": [
        " 17\n",
        "Training   Error = 0.0487821500128\n",
        "Validation Error = 0.0868163949862\n",
        "Epoch="
       ]
      },
      {
       "output_type": "stream",
       "stream": "stdout",
       "text": [
        " 18\n",
        "Training   Error = 0.0473747432811\n",
        "Validation Error = 0.0866200513622\n",
        "Epoch="
       ]
      },
      {
       "output_type": "stream",
       "stream": "stdout",
       "text": [
        " 19\n",
        "Training   Error = 0.0466671722085\n",
        "Validation Error = 0.0922416359686\n",
        "Epoch="
       ]
      },
      {
       "output_type": "stream",
       "stream": "stdout",
       "text": [
        " 20\n",
        "Training   Error = 0.0457210767887\n",
        "Validation Error = 0.0852475384484\n",
        "Samples="
       ]
      },
      {
       "output_type": "stream",
       "stream": "stdout",
       "text": [
        " 100000     Hid. Layers= 1    Hid. Neurons= 200    F.O.M. train set= 0.9549625    FOM valid. set= 0.88675  Time= 944.0\n",
        "Epoch="
       ]
      },
      {
       "output_type": "stream",
       "stream": "stdout",
       "text": [
        " 1\n",
        "Training   Error = 0.16480359874\n",
        "Validation Error = 0.271996406693\n",
        "Epoch="
       ]
      },
      {
       "output_type": "stream",
       "stream": "stdout",
       "text": [
        " 2\n",
        "Training   Error = 0.0990576714285\n",
        "Validation Error = 0.104385039249\n",
        "Epoch="
       ]
      },
      {
       "output_type": "stream",
       "stream": "stdout",
       "text": [
        " 3\n",
        "Training   Error = 0.0874031778961\n",
        "Validation Error = 0.101008464432\n",
        "Epoch="
       ]
      },
      {
       "output_type": "stream",
       "stream": "stdout",
       "text": [
        " 4\n",
        "Training   Error = 0.0794392132166\n",
        "Validation Error = 0.0900299742111\n",
        "Epoch="
       ]
      },
      {
       "output_type": "stream",
       "stream": "stdout",
       "text": [
        " 5\n",
        "Training   Error = 0.0734969918984\n",
        "Validation Error = 0.0885994583095\n",
        "Epoch="
       ]
      },
      {
       "output_type": "stream",
       "stream": "stdout",
       "text": [
        " 6\n",
        "Training   Error = 0.0690993777633\n",
        "Validation Error = 0.0949277894649\n",
        "Epoch="
       ]
      },
      {
       "output_type": "stream",
       "stream": "stdout",
       "text": [
        " 7\n",
        "Training   Error = 0.0652620319513\n",
        "Validation Error = 0.0940099693447\n",
        "Epoch="
       ]
      },
      {
       "output_type": "stream",
       "stream": "stdout",
       "text": [
        " 8\n",
        "Training   Error = 0.062224170811\n",
        "Validation Error = 0.0777905112318\n",
        "Epoch="
       ]
      },
      {
       "output_type": "stream",
       "stream": "stdout",
       "text": [
        " 9\n",
        "Training   Error = 0.0594427714268\n",
        "Validation Error = 0.0797133171284\n",
        "Epoch="
       ]
      },
      {
       "output_type": "stream",
       "stream": "stdout",
       "text": [
        " 10\n",
        "Training   Error = 0.0571260864851\n",
        "Validation Error = 0.0899009276254\n",
        "Epoch="
       ]
      },
      {
       "output_type": "stream",
       "stream": "stdout",
       "text": [
        " 11\n",
        "Training   Error = 0.054994070978\n",
        "Validation Error = 0.0861283056266\n",
        "Epoch="
       ]
      },
      {
       "output_type": "stream",
       "stream": "stdout",
       "text": [
        " 12\n",
        "Training   Error = 0.05258660734\n",
        "Validation Error = 0.0796664424626\n",
        "Epoch="
       ]
      },
      {
       "output_type": "stream",
       "stream": "stdout",
       "text": [
        " 13\n",
        "Training   Error = 0.0505709616366\n",
        "Validation Error = 0.0831305677158\n",
        "Epoch="
       ]
      },
      {
       "output_type": "stream",
       "stream": "stdout",
       "text": [
        " 14\n",
        "Training   Error = 0.0489295450247\n",
        "Validation Error = 0.0866758078912\n",
        "Epoch="
       ]
      },
      {
       "output_type": "stream",
       "stream": "stdout",
       "text": [
        " 15\n",
        "Training   Error = 0.0472604951128\n",
        "Validation Error = 0.0860798894312\n",
        "Epoch="
       ]
      },
      {
       "output_type": "stream",
       "stream": "stdout",
       "text": [
        " 16\n",
        "Training   Error = 0.045794654019\n",
        "Validation Error = 0.104875326882\n",
        "Epoch="
       ]
      },
      {
       "output_type": "stream",
       "stream": "stdout",
       "text": [
        " 17\n",
        "Training   Error = 0.0445076280994\n",
        "Validation Error = 0.083137936765\n",
        "Epoch="
       ]
      },
      {
       "output_type": "stream",
       "stream": "stdout",
       "text": [
        " 18\n",
        "Training   Error = 0.0430703338205\n",
        "Validation Error = 0.0901323264112\n",
        "Epoch="
       ]
      },
      {
       "output_type": "stream",
       "stream": "stdout",
       "text": [
        " 19\n",
        "Training   Error = 0.0416410510099\n",
        "Validation Error = 0.0951639074488\n",
        "Epoch="
       ]
      },
      {
       "output_type": "stream",
       "stream": "stdout",
       "text": [
        " 20\n",
        "Training   Error = 0.040483711451\n",
        "Validation Error = 0.0937147110187\n",
        "Samples="
       ]
      },
      {
       "output_type": "stream",
       "stream": "stdout",
       "text": [
        " 100000     Hid. Layers= 1    Hid. Neurons= 300    F.O.M. train set= 0.9623625    FOM valid. set= 0.8861  Time= 1967.0\n",
        "Epoch="
       ]
      },
      {
       "output_type": "stream",
       "stream": "stdout",
       "text": [
        " 1\n",
        "Training   Error = 0.168259256049\n",
        "Validation Error = 0.301336587174\n",
        "Epoch="
       ]
      },
      {
       "output_type": "stream",
       "stream": "stdout",
       "text": [
        " 2\n",
        "Training   Error = 0.0994829703308\n",
        "Validation Error = 0.1056775111\n",
        "Epoch="
       ]
      },
      {
       "output_type": "stream",
       "stream": "stdout",
       "text": [
        " 3\n",
        "Training   Error = 0.0882816555572\n",
        "Validation Error = 0.0993417786906\n",
        "Epoch="
       ]
      },
      {
       "output_type": "stream",
       "stream": "stdout",
       "text": [
        " 4\n",
        "Training   Error = 0.0802459138198\n",
        "Validation Error = 0.0890089757335\n",
        "Epoch="
       ]
      },
      {
       "output_type": "stream",
       "stream": "stdout",
       "text": [
        " 5\n",
        "Training   Error = 0.0741154498412\n",
        "Validation Error = 0.0866880276319\n",
        "Epoch="
       ]
      },
      {
       "output_type": "stream",
       "stream": "stdout",
       "text": [
        " 6\n",
        "Training   Error = 0.0691585083114\n",
        "Validation Error = 0.0895327152607\n",
        "Epoch="
       ]
      },
      {
       "output_type": "stream",
       "stream": "stdout",
       "text": [
        " 7\n",
        "Training   Error = 0.064969756737\n",
        "Validation Error = 0.0825510801485\n",
        "Epoch="
       ]
      },
      {
       "output_type": "stream",
       "stream": "stdout",
       "text": [
        " 8\n",
        "Training   Error = 0.0615623970687\n",
        "Validation Error = 0.0842940037958\n",
        "Epoch="
       ]
      },
      {
       "output_type": "stream",
       "stream": "stdout",
       "text": [
        " 9\n",
        "Training   Error = 0.0584407666807\n",
        "Validation Error = 0.0817266829642\n",
        "Epoch="
       ]
      },
      {
       "output_type": "stream",
       "stream": "stdout",
       "text": [
        " 10\n",
        "Training   Error = 0.0555109988331\n",
        "Validation Error = 0.0800066719517\n",
        "Epoch="
       ]
      },
      {
       "output_type": "stream",
       "stream": "stdout",
       "text": [
        " 11\n",
        "Training   Error = 0.0530591642807\n",
        "Validation Error = 0.0807026331508\n",
        "Epoch="
       ]
      },
      {
       "output_type": "stream",
       "stream": "stdout",
       "text": [
        " 12\n",
        "Training   Error = 0.0501536478182\n",
        "Validation Error = 0.0840385249855\n",
        "Epoch="
       ]
      },
      {
       "output_type": "stream",
       "stream": "stdout",
       "text": [
        " 13\n",
        "Training   Error = 0.0481797270795\n",
        "Validation Error = 0.0875906883106\n",
        "Epoch="
       ]
      },
      {
       "output_type": "stream",
       "stream": "stdout",
       "text": [
        " 14\n",
        "Training   Error = 0.0461720456009\n",
        "Validation Error = 0.0852903591871\n",
        "Epoch="
       ]
      },
      {
       "output_type": "stream",
       "stream": "stdout",
       "text": [
        " 15\n",
        "Training   Error = 0.0443680848261\n",
        "Validation Error = 0.0921993368579\n",
        "Epoch="
       ]
      },
      {
       "output_type": "stream",
       "stream": "stdout",
       "text": [
        " 16\n",
        "Training   Error = 0.0424681400169\n",
        "Validation Error = 0.0875947739324\n",
        "Epoch="
       ]
      },
      {
       "output_type": "stream",
       "stream": "stdout",
       "text": [
        " 17\n",
        "Training   Error = 0.0410745780195\n",
        "Validation Error = 0.0858346210959\n",
        "Epoch="
       ]
      },
      {
       "output_type": "stream",
       "stream": "stdout",
       "text": [
        " 18\n",
        "Training   Error = 0.0393875807075\n",
        "Validation Error = 0.0867705350431\n",
        "Epoch="
       ]
      },
      {
       "output_type": "stream",
       "stream": "stdout",
       "text": [
        " 19\n",
        "Training   Error = 0.0381563966657\n",
        "Validation Error = 0.0947133543934\n",
        "Epoch="
       ]
      },
      {
       "output_type": "stream",
       "stream": "stdout",
       "text": [
        " 20\n",
        "Training   Error = 0.0367762380507\n",
        "Validation Error = 0.098767293355\n",
        "Samples="
       ]
      },
      {
       "output_type": "stream",
       "stream": "stdout",
       "text": [
        " 100000     Hid. Layers= 1    Hid. Neurons= 400    F.O.M. train set= 0.9686625    FOM valid. set= 0.8858  Time= 3847.0\n",
        "Epoch="
       ]
      },
      {
       "output_type": "stream",
       "stream": "stdout",
       "text": [
        " 1\n",
        "Training   Error = 0.172793008346\n",
        "Validation Error = 0.273901082178\n",
        "Epoch="
       ]
      },
      {
       "output_type": "stream",
       "stream": "stdout",
       "text": [
        " 2\n",
        "Training   Error = 0.100604329596\n",
        "Validation Error = 0.117245517924\n",
        "Epoch="
       ]
      },
      {
       "output_type": "stream",
       "stream": "stdout",
       "text": [
        " 3\n",
        "Training   Error = 0.0892346768238\n",
        "Validation Error = 0.10805481609\n",
        "Epoch="
       ]
      },
      {
       "output_type": "stream",
       "stream": "stdout",
       "text": [
        " 4\n",
        "Training   Error = 0.0808568988366\n",
        "Validation Error = 0.0895606354961\n",
        "Epoch="
       ]
      },
      {
       "output_type": "stream",
       "stream": "stdout",
       "text": [
        " 5\n",
        "Training   Error = 0.0742404666018\n",
        "Validation Error = 0.0832115645937\n",
        "Epoch="
       ]
      },
      {
       "output_type": "stream",
       "stream": "stdout",
       "text": [
        " 6\n",
        "Training   Error = 0.0695331250794\n",
        "Validation Error = 0.0801782397647\n",
        "Epoch="
       ]
      },
      {
       "output_type": "stream",
       "stream": "stdout",
       "text": [
        " 7\n",
        "Training   Error = 0.0648386174804\n",
        "Validation Error = 0.0856429053007\n",
        "Epoch="
       ]
      },
      {
       "output_type": "stream",
       "stream": "stdout",
       "text": [
        " 8\n",
        "Training   Error = 0.0612386517739\n",
        "Validation Error = 0.0864041630038\n",
        "Epoch="
       ]
      },
      {
       "output_type": "stream",
       "stream": "stdout",
       "text": [
        " 9\n",
        "Training   Error = 0.0577724067734\n",
        "Validation Error = 0.0852412000353\n",
        "Epoch="
       ]
      },
      {
       "output_type": "stream",
       "stream": "stdout",
       "text": [
        " 10\n",
        "Training   Error = 0.0549472503584\n",
        "Validation Error = 0.0855971315135\n",
        "Epoch="
       ]
      },
      {
       "output_type": "stream",
       "stream": "stdout",
       "text": [
        " 11\n",
        "Training   Error = 0.051803785239\n",
        "Validation Error = 0.084453657867\n",
        "Epoch="
       ]
      },
      {
       "output_type": "stream",
       "stream": "stdout",
       "text": [
        " 12\n",
        "Training   Error = 0.049493823995\n",
        "Validation Error = 0.0805025955811\n",
        "Epoch="
       ]
      },
      {
       "output_type": "stream",
       "stream": "stdout",
       "text": [
        " 13\n",
        "Training   Error = 0.0471621787121\n",
        "Validation Error = 0.0840425737142\n",
        "Epoch="
       ]
      },
      {
       "output_type": "stream",
       "stream": "stdout",
       "text": [
        " 14\n",
        "Training   Error = 0.0446996246176\n",
        "Validation Error = 0.0931927512571\n",
        "Epoch="
       ]
      },
      {
       "output_type": "stream",
       "stream": "stdout",
       "text": [
        " 15\n",
        "Training   Error = 0.0428931814277\n",
        "Validation Error = 0.0987009938671\n",
        "Epoch="
       ]
      },
      {
       "output_type": "stream",
       "stream": "stdout",
       "text": [
        " 16\n",
        "Training   Error = 0.0407222084048\n",
        "Validation Error = 0.0858518994069\n",
        "Epoch="
       ]
      },
      {
       "output_type": "stream",
       "stream": "stdout",
       "text": [
        " 17\n",
        "Training   Error = 0.0393188323065\n",
        "Validation Error = 0.100643180307\n",
        "Epoch="
       ]
      },
      {
       "output_type": "stream",
       "stream": "stdout",
       "text": [
        " 18\n",
        "Training   Error = 0.0373858833245\n",
        "Validation Error = 0.0934796921616\n",
        "Epoch="
       ]
      },
      {
       "output_type": "stream",
       "stream": "stdout",
       "text": [
        " 19\n",
        "Training   Error = 0.0361023824594\n",
        "Validation Error = 0.089416769123\n",
        "Epoch="
       ]
      },
      {
       "output_type": "stream",
       "stream": "stdout",
       "text": [
        " 20\n",
        "Training   Error = 0.034677852356\n",
        "Validation Error = 0.0944061528364\n"
       ]
      },
      {
       "ename": "MemoryError",
       "evalue": "\nApply node that caused the error: sigmoid(Elemwise{Add}[(0, 0)].0)\nInputs types: [TensorType(float64, matrix)]\nInputs shapes: [(80000, 500)]\nInputs strides: [(4000, 8)]\nInputs values: ['not shown']\n\nBacktrace when the node is created:\n  File \"/tmp/theanets/theanets/layers/feedforward.py\", line 95, in transform\n    return dict(pre=pre, out=self.activate(pre)), []\n\nHINT: Use the Theano flag 'exception_verbosity=high' for a debugprint and storage map footprint of this apply node.",
       "output_type": "pyerr",
       "traceback": [
        "\u001b[1;31m---------------------------------------------------------------------------\u001b[0m\n\u001b[1;31mMemoryError\u001b[0m                               Traceback (most recent call last)",
        "\u001b[1;32m<ipython-input-8-56f4ea760d22>\u001b[0m in \u001b[0;36m<module>\u001b[1;34m()\u001b[0m\n\u001b[0;32m      2\u001b[0m \u001b[1;32mfor\u001b[0m \u001b[0miLayers\u001b[0m \u001b[1;32min\u001b[0m \u001b[0mrange\u001b[0m\u001b[1;33m(\u001b[0m\u001b[1;36m1\u001b[0m\u001b[1;33m,\u001b[0m\u001b[1;36m11\u001b[0m\u001b[1;33m)\u001b[0m\u001b[1;33m:\u001b[0m\u001b[1;33m\u001b[0m\u001b[0m\n\u001b[0;32m      3\u001b[0m     \u001b[1;32mfor\u001b[0m \u001b[0mnHiddenNeurons\u001b[0m \u001b[1;32min\u001b[0m \u001b[0mrange\u001b[0m\u001b[1;33m(\u001b[0m\u001b[1;36m100\u001b[0m\u001b[1;33m,\u001b[0m\u001b[1;36m1100\u001b[0m\u001b[1;33m,\u001b[0m\u001b[1;36m100\u001b[0m\u001b[1;33m)\u001b[0m\u001b[1;33m:\u001b[0m\u001b[1;33m\u001b[0m\u001b[0m\n\u001b[1;32m----> 4\u001b[1;33m         \u001b[0mfom_train\u001b[0m\u001b[1;33m,\u001b[0m \u001b[0mfom_valid\u001b[0m\u001b[1;33m,\u001b[0m \u001b[0mtiming\u001b[0m \u001b[1;33m=\u001b[0m \u001b[0mallincluded\u001b[0m\u001b[1;33m(\u001b[0m\u001b[0mtruncate\u001b[0m\u001b[1;33m,\u001b[0m \u001b[0miLayers\u001b[0m\u001b[1;33m,\u001b[0m \u001b[0mnHiddenNeurons\u001b[0m\u001b[1;33m)\u001b[0m\u001b[1;33m\u001b[0m\u001b[0m\n\u001b[0m\u001b[0;32m      5\u001b[0m         \u001b[0mmapAlgo\u001b[0m\u001b[1;33m.\u001b[0m\u001b[0mappend\u001b[0m\u001b[1;33m(\u001b[0m\u001b[1;33m(\u001b[0m\u001b[0mtruncate\u001b[0m\u001b[1;33m,\u001b[0m \u001b[0miLayers\u001b[0m\u001b[1;33m,\u001b[0m \u001b[0mnHiddenNeurons\u001b[0m\u001b[1;33m,\u001b[0m \u001b[0mtiming\u001b[0m\u001b[1;33m,\u001b[0m \u001b[0mfom_train\u001b[0m\u001b[1;33m,\u001b[0m \u001b[0mfom_valid\u001b[0m\u001b[1;33m)\u001b[0m\u001b[1;33m)\u001b[0m\u001b[1;33m\u001b[0m\u001b[0m\n\u001b[0;32m      6\u001b[0m         \u001b[1;32mprint\u001b[0m \u001b[1;34m'Samples='\u001b[0m\u001b[1;33m,\u001b[0m \u001b[0mtruncate\u001b[0m\u001b[1;33m,\u001b[0m\u001b[1;34m'    Hid. Layers='\u001b[0m\u001b[1;33m,\u001b[0m\u001b[0miLayers\u001b[0m\u001b[1;33m,\u001b[0m \u001b[1;34m\"   Hid. Neurons=\"\u001b[0m\u001b[1;33m,\u001b[0m \u001b[0mnHiddenNeurons\u001b[0m\u001b[1;33m,\u001b[0m \u001b[1;34m\"   F.O.M. train set=\"\u001b[0m\u001b[1;33m,\u001b[0m\u001b[0mfom_train\u001b[0m\u001b[1;33m,\u001b[0m \u001b[1;34m\"   FOM valid. set=\"\u001b[0m\u001b[1;33m,\u001b[0m \u001b[0mfom_valid\u001b[0m\u001b[1;33m,\u001b[0m \u001b[1;34m\" Time=\"\u001b[0m\u001b[1;33m,\u001b[0m \u001b[0mtiming\u001b[0m\u001b[1;33m\u001b[0m\u001b[0m\n",
        "\u001b[1;32m<ipython-input-5-1d2ef85e1ec6>\u001b[0m in \u001b[0;36mallincluded\u001b[1;34m(truncated, nHiddenLayers, nHiddenNeurons)\u001b[0m\n\u001b[0;32m     45\u001b[0m     \u001b[0mtiming_end\u001b[0m\u001b[1;33m=\u001b[0m\u001b[0mtime\u001b[0m\u001b[1;33m.\u001b[0m\u001b[0mmktime\u001b[0m\u001b[1;33m(\u001b[0m\u001b[0mtime\u001b[0m\u001b[1;33m.\u001b[0m\u001b[0mgmtime\u001b[0m\u001b[1;33m(\u001b[0m\u001b[1;33m)\u001b[0m\u001b[1;33m)\u001b[0m\u001b[1;33m\u001b[0m\u001b[0m\n\u001b[0;32m     46\u001b[0m \u001b[1;33m\u001b[0m\u001b[0m\n\u001b[1;32m---> 47\u001b[1;33m     \u001b[0mprediction\u001b[0m \u001b[1;33m=\u001b[0m \u001b[0mexp\u001b[0m\u001b[1;33m.\u001b[0m\u001b[0mnetwork\u001b[0m\u001b[1;33m.\u001b[0m\u001b[0mpredict\u001b[0m\u001b[1;33m(\u001b[0m\u001b[0mtrain\u001b[0m\u001b[1;33m[\u001b[0m\u001b[1;36m0\u001b[0m\u001b[1;33m]\u001b[0m\u001b[1;33m)\u001b[0m\u001b[1;33m\u001b[0m\u001b[0m\n\u001b[0m\u001b[0;32m     48\u001b[0m     \u001b[0mgoodness\u001b[0m \u001b[1;33m=\u001b[0m \u001b[0mnp\u001b[0m\u001b[1;33m.\u001b[0m\u001b[0masarray\u001b[0m\u001b[1;33m(\u001b[0m\u001b[1;33m[\u001b[0m\u001b[1;33m[\u001b[0m\u001b[0mcut\u001b[0m\u001b[1;33m,\u001b[0m\u001b[1;33m(\u001b[0m\u001b[0mlist\u001b[0m\u001b[1;33m(\u001b[0m\u001b[0mtrain\u001b[0m\u001b[1;33m[\u001b[0m\u001b[1;36m1\u001b[0m\u001b[1;33m]\u001b[0m\u001b[1;33m[\u001b[0m\u001b[0mnp\u001b[0m\u001b[1;33m.\u001b[0m\u001b[0mwhere\u001b[0m\u001b[1;33m(\u001b[0m\u001b[0mprediction\u001b[0m\u001b[1;33m>\u001b[0m\u001b[0mcut\u001b[0m\u001b[1;33m)\u001b[0m\u001b[1;33m]\u001b[0m\u001b[1;33m==\u001b[0m\u001b[1;36m1\u001b[0m\u001b[1;33m)\u001b[0m\u001b[1;33m.\u001b[0m\u001b[0mcount\u001b[0m\u001b[1;33m(\u001b[0m\u001b[0mTrue\u001b[0m\u001b[1;33m)\u001b[0m\u001b[1;33m+\u001b[0m\u001b[0mlist\u001b[0m\u001b[1;33m(\u001b[0m\u001b[0mtrain\u001b[0m\u001b[1;33m[\u001b[0m\u001b[1;36m1\u001b[0m\u001b[1;33m]\u001b[0m\u001b[1;33m[\u001b[0m\u001b[0mnp\u001b[0m\u001b[1;33m.\u001b[0m\u001b[0mwhere\u001b[0m\u001b[1;33m(\u001b[0m\u001b[0mprediction\u001b[0m\u001b[1;33m<\u001b[0m\u001b[0mcut\u001b[0m\u001b[1;33m)\u001b[0m\u001b[1;33m]\u001b[0m\u001b[1;33m==\u001b[0m\u001b[1;36m0\u001b[0m\u001b[1;33m)\u001b[0m\u001b[1;33m.\u001b[0m\u001b[0mcount\u001b[0m\u001b[1;33m(\u001b[0m\u001b[0mTrue\u001b[0m\u001b[1;33m)\u001b[0m\u001b[1;33m)\u001b[0m\u001b[1;33m/\u001b[0m \u001b[0mfloat\u001b[0m\u001b[1;33m(\u001b[0m\u001b[0mtrain\u001b[0m\u001b[1;33m[\u001b[0m\u001b[1;36m0\u001b[0m\u001b[1;33m]\u001b[0m\u001b[1;33m.\u001b[0m\u001b[0mshape\u001b[0m\u001b[1;33m[\u001b[0m\u001b[1;36m0\u001b[0m\u001b[1;33m]\u001b[0m\u001b[1;33m)\u001b[0m\u001b[1;33m]\u001b[0m  \u001b[1;32mfor\u001b[0m \u001b[0mcut\u001b[0m \u001b[1;32min\u001b[0m \u001b[0mnp\u001b[0m\u001b[1;33m.\u001b[0m\u001b[0marange\u001b[0m\u001b[1;33m(\u001b[0m\u001b[1;36m0\u001b[0m\u001b[1;33m,\u001b[0m\u001b[1;36m1\u001b[0m\u001b[1;33m,\u001b[0m\u001b[1;36m0.05\u001b[0m\u001b[1;33m)\u001b[0m\u001b[1;33m]\u001b[0m\u001b[1;33m)\u001b[0m\u001b[1;33m\u001b[0m\u001b[0m\n\u001b[0;32m     49\u001b[0m     \u001b[0mfom_train\u001b[0m \u001b[1;33m=\u001b[0m \u001b[0mmax\u001b[0m\u001b[1;33m(\u001b[0m \u001b[0mgoodness\u001b[0m\u001b[1;33m[\u001b[0m\u001b[1;33m:\u001b[0m\u001b[1;33m,\u001b[0m\u001b[1;36m1\u001b[0m\u001b[1;33m]\u001b[0m\u001b[1;33m)\u001b[0m\u001b[1;33m\u001b[0m\u001b[0m\n",
        "\u001b[1;32m/tmp/theanets/theanets/graph.pyc\u001b[0m in \u001b[0;36mpredict\u001b[1;34m(self, x)\u001b[0m\n\u001b[0;32m    549\u001b[0m             \u001b[0mvariables\u001b[0m\u001b[1;33m.\u001b[0m\u001b[1;33m\u001b[0m\u001b[0m\n\u001b[0;32m    550\u001b[0m         '''\n\u001b[1;32m--> 551\u001b[1;33m         \u001b[1;32mreturn\u001b[0m \u001b[0mself\u001b[0m\u001b[1;33m.\u001b[0m\u001b[0mfeed_forward\u001b[0m\u001b[1;33m(\u001b[0m\u001b[0mx\u001b[0m\u001b[1;33m)\u001b[0m\u001b[1;33m[\u001b[0m\u001b[0mself\u001b[0m\u001b[1;33m.\u001b[0m\u001b[0moutput_name\u001b[0m\u001b[1;33m(\u001b[0m\u001b[1;33m)\u001b[0m\u001b[1;33m]\u001b[0m\u001b[1;33m\u001b[0m\u001b[0m\n\u001b[0m\u001b[0;32m    552\u001b[0m \u001b[1;33m\u001b[0m\u001b[0m\n\u001b[0;32m    553\u001b[0m     \u001b[1;32mdef\u001b[0m \u001b[0mscore\u001b[0m\u001b[1;33m(\u001b[0m\u001b[0mself\u001b[0m\u001b[1;33m,\u001b[0m \u001b[0mx\u001b[0m\u001b[1;33m,\u001b[0m \u001b[0my\u001b[0m\u001b[1;33m,\u001b[0m \u001b[0mw\u001b[0m\u001b[1;33m=\u001b[0m\u001b[0mNone\u001b[0m\u001b[1;33m)\u001b[0m\u001b[1;33m:\u001b[0m\u001b[1;33m\u001b[0m\u001b[0m\n",
        "\u001b[1;32m/tmp/theanets/theanets/graph.pyc\u001b[0m in \u001b[0;36mfeed_forward\u001b[1;34m(self, x, **kwargs)\u001b[0m\n\u001b[0;32m    530\u001b[0m             )\n\u001b[0;32m    531\u001b[0m         \u001b[0mlabels\u001b[0m\u001b[1;33m,\u001b[0m \u001b[0mf\u001b[0m \u001b[1;33m=\u001b[0m \u001b[0mself\u001b[0m\u001b[1;33m.\u001b[0m\u001b[0m_functions\u001b[0m\u001b[1;33m[\u001b[0m\u001b[0mkey\u001b[0m\u001b[1;33m]\u001b[0m\u001b[1;33m\u001b[0m\u001b[0m\n\u001b[1;32m--> 532\u001b[1;33m         \u001b[1;32mreturn\u001b[0m \u001b[0mdict\u001b[0m\u001b[1;33m(\u001b[0m\u001b[0mzip\u001b[0m\u001b[1;33m(\u001b[0m\u001b[0mlabels\u001b[0m\u001b[1;33m,\u001b[0m \u001b[0mf\u001b[0m\u001b[1;33m(\u001b[0m\u001b[0mx\u001b[0m\u001b[1;33m)\u001b[0m\u001b[1;33m)\u001b[0m\u001b[1;33m)\u001b[0m\u001b[1;33m\u001b[0m\u001b[0m\n\u001b[0m\u001b[0;32m    533\u001b[0m \u001b[1;33m\u001b[0m\u001b[0m\n\u001b[0;32m    534\u001b[0m     \u001b[1;32mdef\u001b[0m \u001b[0mpredict\u001b[0m\u001b[1;33m(\u001b[0m\u001b[0mself\u001b[0m\u001b[1;33m,\u001b[0m \u001b[0mx\u001b[0m\u001b[1;33m)\u001b[0m\u001b[1;33m:\u001b[0m\u001b[1;33m\u001b[0m\u001b[0m\n",
        "\u001b[1;32m/usr/local/lib/python2.7/site-packages/theano/compile/function_module.pyc\u001b[0m in \u001b[0;36m__call__\u001b[1;34m(self, *args, **kwargs)\u001b[0m\n\u001b[0;32m    604\u001b[0m                         \u001b[0mself\u001b[0m\u001b[1;33m.\u001b[0m\u001b[0mfn\u001b[0m\u001b[1;33m.\u001b[0m\u001b[0mnodes\u001b[0m\u001b[1;33m[\u001b[0m\u001b[0mself\u001b[0m\u001b[1;33m.\u001b[0m\u001b[0mfn\u001b[0m\u001b[1;33m.\u001b[0m\u001b[0mposition_of_error\u001b[0m\u001b[1;33m]\u001b[0m\u001b[1;33m,\u001b[0m\u001b[1;33m\u001b[0m\u001b[0m\n\u001b[0;32m    605\u001b[0m                         \u001b[0mself\u001b[0m\u001b[1;33m.\u001b[0m\u001b[0mfn\u001b[0m\u001b[1;33m.\u001b[0m\u001b[0mthunks\u001b[0m\u001b[1;33m[\u001b[0m\u001b[0mself\u001b[0m\u001b[1;33m.\u001b[0m\u001b[0mfn\u001b[0m\u001b[1;33m.\u001b[0m\u001b[0mposition_of_error\u001b[0m\u001b[1;33m]\u001b[0m\u001b[1;33m,\u001b[0m\u001b[1;33m\u001b[0m\u001b[0m\n\u001b[1;32m--> 606\u001b[1;33m                         storage_map=self.fn.storage_map)\n\u001b[0m\u001b[0;32m    607\u001b[0m                 \u001b[1;32melse\u001b[0m\u001b[1;33m:\u001b[0m\u001b[1;33m\u001b[0m\u001b[0m\n\u001b[0;32m    608\u001b[0m                     \u001b[1;31m# For the c linker We don't have access from\u001b[0m\u001b[1;33m\u001b[0m\u001b[1;33m\u001b[0m\u001b[0m\n",
        "\u001b[1;32m/usr/local/lib/python2.7/site-packages/theano/compile/function_module.pyc\u001b[0m in \u001b[0;36m__call__\u001b[1;34m(self, *args, **kwargs)\u001b[0m\n\u001b[0;32m    593\u001b[0m         \u001b[0mt0_fn\u001b[0m \u001b[1;33m=\u001b[0m \u001b[0mtime\u001b[0m\u001b[1;33m.\u001b[0m\u001b[0mtime\u001b[0m\u001b[1;33m(\u001b[0m\u001b[1;33m)\u001b[0m\u001b[1;33m\u001b[0m\u001b[0m\n\u001b[0;32m    594\u001b[0m         \u001b[1;32mtry\u001b[0m\u001b[1;33m:\u001b[0m\u001b[1;33m\u001b[0m\u001b[0m\n\u001b[1;32m--> 595\u001b[1;33m             \u001b[0moutputs\u001b[0m \u001b[1;33m=\u001b[0m \u001b[0mself\u001b[0m\u001b[1;33m.\u001b[0m\u001b[0mfn\u001b[0m\u001b[1;33m(\u001b[0m\u001b[1;33m)\u001b[0m\u001b[1;33m\u001b[0m\u001b[0m\n\u001b[0m\u001b[0;32m    596\u001b[0m         \u001b[1;32mexcept\u001b[0m \u001b[0mException\u001b[0m\u001b[1;33m:\u001b[0m\u001b[1;33m\u001b[0m\u001b[0m\n\u001b[0;32m    597\u001b[0m             \u001b[1;32mif\u001b[0m \u001b[0mhasattr\u001b[0m\u001b[1;33m(\u001b[0m\u001b[0mself\u001b[0m\u001b[1;33m.\u001b[0m\u001b[0mfn\u001b[0m\u001b[1;33m,\u001b[0m \u001b[1;34m'position_of_error'\u001b[0m\u001b[1;33m)\u001b[0m\u001b[1;33m:\u001b[0m\u001b[1;33m\u001b[0m\u001b[0m\n",
        "\u001b[1;31mMemoryError\u001b[0m: \nApply node that caused the error: sigmoid(Elemwise{Add}[(0, 0)].0)\nInputs types: [TensorType(float64, matrix)]\nInputs shapes: [(80000, 500)]\nInputs strides: [(4000, 8)]\nInputs values: ['not shown']\n\nBacktrace when the node is created:\n  File \"/tmp/theanets/theanets/layers/feedforward.py\", line 95, in transform\n    return dict(pre=pre, out=self.activate(pre)), []\n\nHINT: Use the Theano flag 'exception_verbosity=high' for a debugprint and storage map footprint of this apply node."
       ]
      }
     ],
     "prompt_number": 8
    },
    {
     "cell_type": "code",
     "collapsed": false,
     "input": [
      "FOM_Validation=[]\n",
      "FOM_Training  =[]"
     ],
     "language": "python",
     "metadata": {},
     "outputs": [],
     "prompt_number": 12
    },
    {
     "cell_type": "code",
     "collapsed": false,
     "input": [
      "for i, Case in enumerate(mapAlgo):\n",
      "    FOM_Training.append(Case[4])\n",
      "    FOM_Validation.append(Case[5])"
     ],
     "language": "python",
     "metadata": {},
     "outputs": [],
     "prompt_number": 13
    },
    {
     "cell_type": "code",
     "collapsed": false,
     "input": [],
     "language": "python",
     "metadata": {},
     "outputs": []
    }
   ],
   "metadata": {}
  }
 ]
}