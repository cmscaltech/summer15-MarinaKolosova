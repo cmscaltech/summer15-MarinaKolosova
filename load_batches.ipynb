{
 "metadata": {
  "name": "",
  "signature": "sha256:8128761b559d4d0010c0f4c65ecd4de9d05d1521c4fdc500091ea0828149b3a3"
 },
 "nbformat": 3,
 "nbformat_minor": 0,
 "worksheets": [
  {
   "cells": [
    {
     "cell_type": "code",
     "collapsed": false,
     "input": [
      "import math, string, random, itertools, copy\n",
      "import numpy as np\n",
      "from numpy import float32\n",
      "from math import sqrt\n",
      "import matplotlib.pyplot as plt\n",
      "from scipy.stats import poisson\n",
      "from copy        import deepcopy\n",
      "import time\n",
      "import theanets\n",
      "import cPickle as pickle"
     ],
     "language": "python",
     "metadata": {},
     "outputs": [
      {
       "output_type": "stream",
       "stream": "stdout",
       "text": [
        "Couldn't import dot_parser, loading of dot files will not be possible.\n"
       ]
      }
     ],
     "prompt_number": 1
    },
    {
     "cell_type": "code",
     "collapsed": false,
     "input": [
      "TrainingBatches=pickle.load(open(\"data/TrainingBatches.p\",'rb'))\n",
      "ValidationBatches=pickle.load(open(\"data/ValidationBatches.p\",'rb'))"
     ],
     "language": "python",
     "metadata": {},
     "outputs": [],
     "prompt_number": 2
    },
    {
     "cell_type": "code",
     "collapsed": false,
     "input": [
      "def GetTrainBatch():    \n",
      "    GetRandBatch=random.randrange(len(TrainingBatches))\n",
      "    print \"   Training Batch=\", GetRandBatch\n",
      "    return TrainingBatches[GetRandBatch]\n",
      "\n",
      "def GetValidBatch():\n",
      "    GetRandBatch=random.randrange(len(ValidationBatches))\n",
      "    print \"   Validation Batch=\", GetRandBatch\n",
      "    return ValidationBatches[GetRandBatch]"
     ],
     "language": "python",
     "metadata": {},
     "outputs": [],
     "prompt_number": 3
    },
    {
     "cell_type": "code",
     "collapsed": false,
     "input": [
      "nHiddenLayers  =4\n",
      "nHiddenNeurons =800\n",
      "\n",
      "# Build the NN\n",
      "# --------------------------------------------------------------\n",
      "# Topology: Feedforward\n",
      "# Inputs = 82 (Jets 4-momenta (20 Jets maximum), METx, METy)\n",
      "# Number of Hidden Layers = nHiddenLayers\n",
      "# Activation function for Hidden Layers = RELU\n",
      "# Outputs=1 (NN Trigger Bits= 0 or 1)\n",
      "# Activation function for the Output Layer= RELU\n",
      "\n",
      "nInputs  =82\n",
      "nOutputs =1\n",
      "    \n",
      "exp=theanets.Experiment(theanets.feedforward.Regressor(layers=(nInputs,)+tuple([nHiddenNeurons for l in range(nHiddenLayers)])+ ( (nOutputs),)))  \n",
      "# ------------------------------------------------------------------------------------------------------------------------------------\n",
      "    \n",
      "fom          = 1.0\n",
      "LearningRate = 0.001\n",
      "Epochs       = 0\n",
      "batch_size   = 2000\n",
      "    \n",
      "timing_start = time.mktime(time.gmtime())\n",
      "\n",
      "train= GetTrainBatch()\n",
      "valid= GetValidBatch()\n",
      "\n",
      "for TrainError, ValError in exp.itertrain(train,\n",
      "                                          valid,\n",
      "                                          learning_rate      = LearningRate, \n",
      "                                          algo               ='rprop', \n",
      "                                          batch_size         = batch_size,\n",
      "                                          iteration_size     = 20,\n",
      "                                          hidden_dropout     = 0.9, \n",
      "                                          validate_every     = 1,\n",
      "                                          patience           = 300, \n",
      "                                          min_improvement    = 0.0000001,\n",
      "                                          rms_halflife       = 0.995, \n",
      "                                          rms_regularizer    = 1e-09):\n",
      "    print 'Epoch=', Epochs+1\n",
      "    if Epochs%1 == 0 :\n",
      "        print 'Training   Error =',TrainError['err'] , '      Validation Error =',ValError['err']\n",
      "    Epochs+=1\n",
      "    if Epochs == 200 :                                        # 200 Epochs -> new training & validation batch per Epoch\n",
      "        break                                                 # if I want to use all the 1.6M training samples --> Epochs = 800\n",
      "    \n",
      "    train=GetTrainBatch()\n",
      "    valid=GetValidBatch()\n",
      "    \n",
      "    \n",
      "timing_end=time.mktime(time.gmtime())\n"
     ],
     "language": "python",
     "metadata": {},
     "outputs": [
      {
       "output_type": "stream",
       "stream": "stdout",
       "text": [
        "   Training Batch= 772\n",
        "   Validation Batch= 9\n",
        "Epoch="
       ]
      },
      {
       "output_type": "stream",
       "stream": "stdout",
       "text": [
        " 1\n",
        "Training   Error = 1.35153049439       Validation Error = 0.954485326096\n",
        "   Training Batch= 578\n",
        "   Validation Batch= 10\n",
        "Epoch="
       ]
      },
      {
       "output_type": "stream",
       "stream": "stdout",
       "text": [
        " 2\n",
        "Training   Error = 1.02079968318       Validation Error = 0.444753413437\n",
        "   Training Batch= 406\n",
        "   Validation Batch= 144\n",
        "Epoch="
       ]
      },
      {
       "output_type": "stream",
       "stream": "stdout",
       "text": [
        " 3\n",
        "Training   Error = 0.898006282411       Validation Error = 0.377374951385\n",
        "   Training Batch= 552\n",
        "   Validation Batch= 195\n",
        "Epoch="
       ]
      },
      {
       "output_type": "stream",
       "stream": "stdout",
       "text": [
        " 4\n",
        "Training   Error = 0.80007763737       Validation Error = 0.330162520921\n",
        "   Training Batch= 321\n",
        "   Validation Batch= 114\n",
        "Epoch="
       ]
      },
      {
       "output_type": "stream",
       "stream": "stdout",
       "text": [
        " 5\n",
        "Training   Error = 0.719590132515       Validation Error = 0.296405780449\n",
        "   Training Batch= 290\n",
        "   Validation Batch= 142\n",
        "Epoch="
       ]
      },
      {
       "output_type": "stream",
       "stream": "stdout",
       "text": [
        " 6\n",
        "Training   Error = 0.650290628752       Validation Error = 0.272866114251\n",
        "   Training Batch= 171\n",
        "   Validation Batch= 120\n",
        "Epoch="
       ]
      },
      {
       "output_type": "stream",
       "stream": "stdout",
       "text": [
        " 7\n",
        "Training   Error = 0.58712923997       Validation Error = 0.258622695934\n",
        "   Training Batch= 323\n",
        "   Validation Batch= 105\n",
        "Epoch="
       ]
      },
      {
       "output_type": "stream",
       "stream": "stdout",
       "text": [
        " 8\n",
        "Training   Error = 0.538602693302       Validation Error = 0.250684076455\n",
        "   Training Batch= 611\n",
        "   Validation Batch= 71\n",
        "Epoch="
       ]
      },
      {
       "output_type": "stream",
       "stream": "stdout",
       "text": [
        " 9\n",
        "Training   Error = 0.495659798441       Validation Error = 0.326501851162\n",
        "   Training Batch= 150\n",
        "   Validation Batch= 108\n",
        "Epoch="
       ]
      },
      {
       "output_type": "stream",
       "stream": "stdout",
       "text": [
        " 10\n",
        "Training   Error = 0.450471170954       Validation Error = 0.303258502952\n",
        "   Training Batch= 650\n",
        "   Validation Batch= 10\n",
        "Epoch="
       ]
      },
      {
       "output_type": "stream",
       "stream": "stdout",
       "text": [
        " 11\n",
        "Training   Error = 0.413854629582       Validation Error = 0.292472867178\n",
        "   Training Batch= 363\n",
        "   Validation Batch= 91\n",
        "Epoch="
       ]
      },
      {
       "output_type": "stream",
       "stream": "stdout",
       "text": [
        " 12\n",
        "Training   Error = 0.376561060708       Validation Error = 0.285322549584\n",
        "   Training Batch= 683\n",
        "   Validation Batch= 58\n",
        "Epoch="
       ]
      },
      {
       "output_type": "stream",
       "stream": "stdout",
       "text": [
        " 13\n",
        "Training   Error = 0.340385408349       Validation Error = 0.262895434113\n",
        "   Training Batch= 487\n",
        "   Validation Batch= 168\n",
        "Epoch="
       ]
      },
      {
       "output_type": "stream",
       "stream": "stdout",
       "text": [
        " 14\n",
        "Training   Error = 0.313887460523       Validation Error = 0.258854517006\n",
        "   Training Batch= 630\n",
        "   Validation Batch= 122\n",
        "Epoch="
       ]
      },
      {
       "output_type": "stream",
       "stream": "stdout",
       "text": [
        " 15\n",
        "Training   Error = 0.290188390449       Validation Error = 0.256899721149\n",
        "   Training Batch= 444\n",
        "   Validation Batch= 173\n",
        "Epoch="
       ]
      },
      {
       "output_type": "stream",
       "stream": "stdout",
       "text": [
        " 16\n",
        "Training   Error = 0.268011650325       Validation Error = 0.256618150509\n",
        "   Training Batch= 693\n",
        "   Validation Batch= 120\n",
        "Epoch="
       ]
      },
      {
       "output_type": "stream",
       "stream": "stdout",
       "text": [
        " 17\n",
        "Training   Error = 0.248467808189       Validation Error = 0.255623977031\n",
        "   Training Batch= 175\n",
        "   Validation Batch= 149\n",
        "Epoch="
       ]
      },
      {
       "output_type": "stream",
       "stream": "stdout",
       "text": [
        " 18\n",
        "Training   Error = 0.231531733109       Validation Error = 0.254335251857\n",
        "   Training Batch= 325\n",
        "   Validation Batch= 143\n",
        "Epoch="
       ]
      },
      {
       "output_type": "stream",
       "stream": "stdout",
       "text": [
        " 19\n",
        "Training   Error = 0.216729558408       Validation Error = 0.252988824524\n",
        "   Training Batch= 613\n",
        "   Validation Batch= 33\n",
        "Epoch="
       ]
      },
      {
       "output_type": "stream",
       "stream": "stdout",
       "text": [
        " 20\n",
        "Training   Error = 0.203561571712       Validation Error = 0.251453243943\n",
        "   Training Batch= 246\n",
        "   Validation Batch= 125\n",
        "Epoch="
       ]
      },
      {
       "output_type": "stream",
       "stream": "stdout",
       "text": [
        " 21\n",
        "Training   Error = 0.191217499411       Validation Error = 0.249044908543\n",
        "   Training Batch= 586\n",
        "   Validation Batch= 23\n",
        "Epoch="
       ]
      },
      {
       "output_type": "stream",
       "stream": "stdout",
       "text": [
        " 22\n",
        "Training   Error = 0.180424191687       Validation Error = 0.245278043085\n",
        "   Training Batch= 299\n",
        "   Validation Batch= 19\n",
        "Epoch="
       ]
      },
      {
       "output_type": "stream",
       "stream": "stdout",
       "text": [
        " 23\n",
        "Training   Error = 0.169643856293       Validation Error = 0.243247425194\n",
        "   Training Batch= 49\n",
        "   Validation Batch= 13\n",
        "Epoch="
       ]
      },
      {
       "output_type": "stream",
       "stream": "stdout",
       "text": [
        " 24\n",
        "Training   Error = 0.158671897513       Validation Error = 0.240953475158\n",
        "   Training Batch= 535\n",
        "   Validation Batch= 116\n",
        "Epoch="
       ]
      },
      {
       "output_type": "stream",
       "stream": "stdout",
       "text": [
        " 25\n",
        "Training   Error = 0.147664562601       Validation Error = 0.238349843641\n",
        "   Training Batch= 319\n",
        "   Validation Batch= 133\n",
        "Epoch="
       ]
      },
      {
       "output_type": "stream",
       "stream": "stdout",
       "text": [
        " 26\n",
        "Training   Error = 0.136509782023       Validation Error = 0.234752193236\n",
        "   Training Batch= 740\n",
        "   Validation Batch= 47\n",
        "Epoch="
       ]
      },
      {
       "output_type": "stream",
       "stream": "stdout",
       "text": [
        " 27\n",
        "Training   Error = 0.125279414622       Validation Error = 0.230060879624\n",
        "   Training Batch= 28\n",
        "   Validation Batch= 37\n",
        "Epoch="
       ]
      },
      {
       "output_type": "stream",
       "stream": "stdout",
       "text": [
        " 28\n",
        "Training   Error = 0.11381951747       Validation Error = 0.224896093176\n",
        "   Training Batch= 666\n",
        "   Validation Batch= 54\n",
        "Epoch="
       ]
      },
      {
       "output_type": "stream",
       "stream": "stdout",
       "text": [
        " 29\n",
        "Training   Error = 0.101938310788       Validation Error = 0.219298568902\n",
        "   Training Batch= 384\n",
        "   Validation Batch= 185\n",
        "Epoch="
       ]
      },
      {
       "output_type": "stream",
       "stream": "stdout",
       "text": [
        " 30\n",
        "Training   Error = 0.0882390249969       Validation Error = 0.213023018708\n",
        "   Training Batch= 328\n",
        "   Validation Batch= 81\n",
        "Epoch="
       ]
      },
      {
       "output_type": "stream",
       "stream": "stdout",
       "text": [
        " 31\n",
        "Training   Error = 0.0751219044148       Validation Error = 0.207063381547\n",
        "   Training Batch= 712\n",
        "   Validation Batch= 150\n",
        "Epoch="
       ]
      },
      {
       "output_type": "stream",
       "stream": "stdout",
       "text": [
        " 32\n",
        "Training   Error = 0.0637793320043       Validation Error = 0.202783690406\n",
        "   Training Batch= 93\n",
        "   Validation Batch= 53\n",
        "Epoch="
       ]
      },
      {
       "output_type": "stream",
       "stream": "stdout",
       "text": [
        " 33\n",
        "Training   Error = 0.0541066980951       Validation Error = 0.199597820609\n",
        "   Training Batch= 408\n",
        "   Validation Batch= 171\n",
        "Epoch="
       ]
      },
      {
       "output_type": "stream",
       "stream": "stdout",
       "text": [
        " 34\n",
        "Training   Error = 0.0460864376985       Validation Error = 0.197023395959\n",
        "   Training Batch= 123\n",
        "   Validation Batch= 15\n",
        "Epoch="
       ]
      },
      {
       "output_type": "stream",
       "stream": "stdout",
       "text": [
        " 35\n",
        "Training   Error = 0.0394120069153       Validation Error = 0.194995568937\n",
        "   Training Batch= 579\n",
        "   Validation Batch= 87\n",
        "Epoch="
       ]
      },
      {
       "output_type": "stream",
       "stream": "stdout",
       "text": [
        " 36\n",
        "Training   Error = 0.0337591867896       Validation Error = 0.19310497741\n",
        "   Training Batch= 279\n",
        "   Validation Batch= 60\n",
        "Epoch="
       ]
      },
      {
       "output_type": "stream",
       "stream": "stdout",
       "text": [
        " 37\n",
        "Training   Error = 0.028986154795       Validation Error = 0.191514816097\n",
        "   Training Batch= 512\n",
        "   Validation Batch= 130\n",
        "Epoch="
       ]
      },
      {
       "output_type": "stream",
       "stream": "stdout",
       "text": [
        " 38\n",
        "Training   Error = 0.0249008350997       Validation Error = 0.190708992444\n",
        "   Training Batch= 290\n",
        "   Validation Batch= 34\n",
        "Epoch="
       ]
      },
      {
       "output_type": "stream",
       "stream": "stdout",
       "text": [
        " 39\n",
        "Training   Error = 0.0213084352192       Validation Error = 0.190157869658\n",
        "   Training Batch= 190\n",
        "   Validation Batch= 123\n",
        "Epoch="
       ]
      },
      {
       "output_type": "stream",
       "stream": "stdout",
       "text": [
        " 40\n",
        "Training   Error = 0.018195330991       Validation Error = 0.190006772804\n",
        "   Training Batch= 716\n",
        "   Validation Batch= 84\n",
        "Epoch="
       ]
      },
      {
       "output_type": "stream",
       "stream": "stdout",
       "text": [
        " 41\n",
        "Training   Error = 0.0155473712534       Validation Error = 0.19049162729\n",
        "   Training Batch= 750\n",
        "   Validation Batch= 139\n",
        "Epoch="
       ]
      },
      {
       "output_type": "stream",
       "stream": "stdout",
       "text": [
        " 42\n",
        "Training   Error = 0.0132154995145       Validation Error = 0.191350910831\n",
        "   Training Batch= 782\n",
        "   Validation Batch= 138\n",
        "Epoch="
       ]
      },
      {
       "output_type": "stream",
       "stream": "stdout",
       "text": [
        " 43\n",
        "Training   Error = 0.0112942813611       Validation Error = 0.192199668258\n",
        "   Training Batch= 408\n",
        "   Validation Batch= 96\n",
        "Epoch="
       ]
      },
      {
       "output_type": "stream",
       "stream": "stdout",
       "text": [
        " 44\n",
        "Training   Error = 0.00967928290245       Validation Error = 0.192833963139\n",
        "   Training Batch= 542\n",
        "   Validation Batch= 145\n",
        "Epoch="
       ]
      },
      {
       "output_type": "stream",
       "stream": "stdout",
       "text": [
        " 45\n",
        "Training   Error = 0.00827585325379       Validation Error = 0.193771801362\n",
        "   Training Batch= 201\n",
        "   Validation Batch= 93\n",
        "Epoch="
       ]
      },
      {
       "output_type": "stream",
       "stream": "stdout",
       "text": [
        " 46\n",
        "Training   Error = 0.0071518507394       Validation Error = 0.194954044138\n",
        "   Training Batch= 741\n",
        "   Validation Batch= 26\n",
        "Epoch="
       ]
      },
      {
       "output_type": "stream",
       "stream": "stdout",
       "text": [
        " 47\n",
        "Training   Error = 0.00616129445279       Validation Error = 0.19527808113\n",
        "   Training Batch= 726\n",
        "   Validation Batch= 67\n",
        "Epoch="
       ]
      },
      {
       "output_type": "stream",
       "stream": "stdout",
       "text": [
        " 48\n",
        "Training   Error = 0.00528663516968       Validation Error = 0.195992169857\n",
        "   Training Batch= 214\n",
        "   Validation Batch= 135\n",
        "Epoch="
       ]
      },
      {
       "output_type": "stream",
       "stream": "stdout",
       "text": [
        " 49\n",
        "Training   Error = 0.00452954896235       Validation Error = 0.196819709934\n",
        "   Training Batch= 38\n",
        "   Validation Batch= 113\n",
        "Epoch="
       ]
      },
      {
       "output_type": "stream",
       "stream": "stdout",
       "text": [
        " 50\n",
        "Training   Error = 0.00389128207282       Validation Error = 0.197595621284\n",
        "   Training Batch= 538\n",
        "   Validation Batch= 73\n",
        "Epoch="
       ]
      },
      {
       "output_type": "stream",
       "stream": "stdout",
       "text": [
        " 51\n",
        "Training   Error = 0.00335068737731       Validation Error = 0.198317282367\n",
        "   Training Batch= 161\n",
        "   Validation Batch= 119\n",
        "Epoch="
       ]
      },
      {
       "output_type": "stream",
       "stream": "stdout",
       "text": [
        " 52\n",
        "Training   Error = 0.00287583045951       Validation Error = 0.198833338045\n",
        "   Training Batch= 229\n",
        "   Validation Batch= 135\n",
        "Epoch="
       ]
      },
      {
       "output_type": "stream",
       "stream": "stdout",
       "text": [
        " 53\n",
        "Training   Error = 0.00244409227974       Validation Error = 0.199224153354\n",
        "   Training Batch= 250\n",
        "   Validation Batch= 170\n",
        "Epoch="
       ]
      },
      {
       "output_type": "stream",
       "stream": "stdout",
       "text": [
        " 54\n",
        "Training   Error = 0.00206638121156       Validation Error = 0.199770914451\n",
        "   Training Batch= 362\n",
        "   Validation Batch= 166\n",
        "Epoch="
       ]
      },
      {
       "output_type": "stream",
       "stream": "stdout",
       "text": [
        " 55\n",
        "Training   Error = 0.0017334481471       Validation Error = 0.200540652585\n",
        "   Training Batch= 590\n",
        "   Validation Batch= 176\n",
        "Epoch="
       ]
      },
      {
       "output_type": "stream",
       "stream": "stdout",
       "text": [
        " 56\n",
        "Training   Error = 0.00147719018769       Validation Error = 0.201414436251\n",
        "   Training Batch= 425\n",
        "   Validation Batch= 71\n",
        "Epoch="
       ]
      },
      {
       "output_type": "stream",
       "stream": "stdout",
       "text": [
        " 57\n",
        "Training   Error = 0.00127725183471       Validation Error = 0.201889648943\n",
        "   Training Batch= 79\n",
        "   Validation Batch= 165\n",
        "Epoch="
       ]
      },
      {
       "output_type": "stream",
       "stream": "stdout",
       "text": [
        " 58\n",
        "Training   Error = 0.00110492149043       Validation Error = 0.2021214149\n",
        "   Training Batch= 549\n",
        "   Validation Batch= 153\n",
        "Epoch="
       ]
      },
      {
       "output_type": "stream",
       "stream": "stdout",
       "text": [
        " 59\n",
        "Training   Error = 0.000957927189209       Validation Error = 0.202426407856\n",
        "   Training Batch= 584\n",
        "   Validation Batch= 55\n",
        "Epoch="
       ]
      },
      {
       "output_type": "stream",
       "stream": "stdout",
       "text": [
        " 60\n",
        "Training   Error = 0.000823716516334       Validation Error = 0.202790346091\n",
        "   Training Batch= 142\n",
        "   Validation Batch= 71\n",
        "Epoch="
       ]
      },
      {
       "output_type": "stream",
       "stream": "stdout",
       "text": [
        " 61\n",
        "Training   Error = 0.000691843517251       Validation Error = 0.203115135712\n",
        "   Training Batch= 671\n",
        "   Validation Batch= 179\n",
        "Epoch="
       ]
      },
      {
       "output_type": "stream",
       "stream": "stdout",
       "text": [
        " 62\n",
        "Training   Error = 0.000570240808358       Validation Error = 0.203569934396\n",
        "   Training Batch= 376\n",
        "   Validation Batch= 180\n",
        "Epoch="
       ]
      },
      {
       "output_type": "stream",
       "stream": "stdout",
       "text": [
        " 63\n",
        "Training   Error = 0.000467099917292       Validation Error = 0.203907991604\n",
        "   Training Batch= 387\n",
        "   Validation Batch= 120\n",
        "Epoch="
       ]
      },
      {
       "output_type": "stream",
       "stream": "stdout",
       "text": [
        " 64\n",
        "Training   Error = 0.000397761348218       Validation Error = 0.204205646966\n",
        "   Training Batch= 562\n",
        "   Validation Batch= 84\n",
        "Epoch="
       ]
      },
      {
       "output_type": "stream",
       "stream": "stdout",
       "text": [
        " 71\n",
        "Training   Error = 0.000180046085925       Validation Error = 0.205574235773\n",
        "   Training Batch= 284\n",
        "   Validation Batch= 22\n",
        "Epoch="
       ]
      },
      {
       "output_type": "stream",
       "stream": "stdout",
       "text": [
        " 72\n",
        "Training   Error = 0.000156578406126       Validation Error = 0.205915243845\n",
        "   Training Batch= 746\n",
        "   Validation Batch= 79\n",
        "Epoch="
       ]
      },
      {
       "output_type": "stream",
       "stream": "stdout",
       "text": [
        " 73\n",
        "Training   Error = 0.00013359946154       Validation Error = 0.206278686951\n",
        "   Training Batch= 221\n",
        "   Validation Batch= 136\n",
        "Epoch="
       ]
      },
      {
       "output_type": "stream",
       "stream": "stdout",
       "text": [
        " 74\n",
        "Training   Error = 0.000113560446191       Validation Error = 0.206548181191\n",
        "   Training Batch= 747\n",
        "   Validation Batch= 122\n",
        "Epoch="
       ]
      },
      {
       "output_type": "stream",
       "stream": "stdout",
       "text": [
        " 75\n",
        "Training   Error = 9.6015576026e-05       Validation Error = 0.206840943019\n",
        "   Training Batch= 130\n",
        "   Validation Batch= 123\n",
        "Epoch="
       ]
      },
      {
       "output_type": "stream",
       "stream": "stdout",
       "text": [
        " 76\n",
        "Training   Error = 7.92503695351e-05       Validation Error = 0.206970492123\n",
        "   Training Batch= 739\n",
        "   Validation Batch= 115\n",
        "Epoch="
       ]
      },
      {
       "output_type": "stream",
       "stream": "stdout",
       "text": [
        " 77\n",
        "Training   Error = 6.56196334012e-05       Validation Error = 0.207051770995\n",
        "   Training Batch= 787\n",
        "   Validation Batch= 108\n",
        "Epoch="
       ]
      },
      {
       "output_type": "stream",
       "stream": "stdout",
       "text": [
        " 78\n",
        "Training   Error = 5.41560152492e-05       Validation Error = 0.207166754286\n",
        "   Training Batch= 147\n",
        "   Validation Batch= 147\n",
        "Epoch="
       ]
      },
      {
       "output_type": "stream",
       "stream": "stdout",
       "text": [
        " 79\n",
        "Training   Error = 4.41752641856e-05       Validation Error = 0.207298871802\n",
        "   Training Batch= 633\n",
        "   Validation Batch= 163\n",
        "Epoch="
       ]
      },
      {
       "output_type": "stream",
       "stream": "stdout",
       "text": [
        " 80\n",
        "Training   Error = 3.69949217782e-05       Validation Error = 0.207436943951\n",
        "   Training Batch= 24\n",
        "   Validation Batch= 27\n",
        "Epoch="
       ]
      },
      {
       "output_type": "stream",
       "stream": "stdout",
       "text": [
        " 81\n",
        "Training   Error = 3.11881641746e-05       Validation Error = 0.207562191924\n",
        "   Training Batch= 651\n",
        "   Validation Batch= 93\n",
        "Epoch="
       ]
      },
      {
       "output_type": "stream",
       "stream": "stdout",
       "text": [
        " 82\n",
        "Training   Error = 2.6089369335e-05       Validation Error = 0.207698490005\n",
        "   Training Batch= 480\n",
        "   Validation Batch= 151\n",
        "Epoch="
       ]
      },
      {
       "output_type": "stream",
       "stream": "stdout",
       "text": [
        " 83\n",
        "Training   Error = 2.14705232558e-05       Validation Error = 0.207799823277\n",
        "   Training Batch= 352\n",
        "   Validation Batch= 34\n",
        "Epoch="
       ]
      },
      {
       "output_type": "stream",
       "stream": "stdout",
       "text": [
        " 84\n",
        "Training   Error = 1.75830641901e-05       Validation Error = 0.207979558948\n",
        "   Training Batch= 492\n",
        "   Validation Batch= 57\n",
        "Epoch="
       ]
      },
      {
       "output_type": "stream",
       "stream": "stdout",
       "text": [
        " 85\n",
        "Training   Error = 1.4853511247e-05       Validation Error = 0.208166742019\n",
        "   Training Batch= 425\n",
        "   Validation Batch= 182\n",
        "Epoch="
       ]
      },
      {
       "output_type": "stream",
       "stream": "stdout",
       "text": [
        " 86\n",
        "Training   Error = 1.29006412696e-05       Validation Error = 0.208269092318\n",
        "   Training Batch= 6\n",
        "   Validation Batch= 109\n",
        "Epoch="
       ]
      },
      {
       "output_type": "stream",
       "stream": "stdout",
       "text": [
        " 87\n",
        "Training   Error = 1.14049301207e-05       Validation Error = 0.208338073988\n",
        "   Training Batch= 445\n",
        "   Validation Batch= 192\n",
        "Epoch="
       ]
      },
      {
       "output_type": "stream",
       "stream": "stdout",
       "text": [
        " 88\n",
        "Training   Error = 1.00253393841e-05       Validation Error = 0.208416507472\n",
        "   Training Batch= 505\n",
        "   Validation Batch= 29\n",
        "Epoch="
       ]
      },
      {
       "output_type": "stream",
       "stream": "stdout",
       "text": [
        " 89\n",
        "Training   Error = 8.78282459577e-06       Validation Error = 0.208509237027\n",
        "   Training Batch= 158\n",
        "   Validation Batch= 175\n",
        "Epoch="
       ]
      },
      {
       "output_type": "stream",
       "stream": "stdout",
       "text": [
        " 90\n",
        "Training   Error = 7.60190013435e-06       Validation Error = 0.208579477048\n",
        "   Training Batch= 457\n",
        "   Validation Batch= 104\n",
        "Epoch="
       ]
      },
      {
       "output_type": "stream",
       "stream": "stdout",
       "text": [
        " 91\n",
        "Training   Error = 6.43984290283e-06       Validation Error = 0.208636340341\n",
        "   Training Batch= 676\n",
        "   Validation Batch= 185\n",
        "Epoch="
       ]
      },
      {
       "output_type": "stream",
       "stream": "stdout",
       "text": [
        " 92\n",
        "Training   Error = 5.35520759486e-06       Validation Error = 0.208648974183\n",
        "   Training Batch= 148\n",
        "   Validation Batch= 112\n",
        "Epoch="
       ]
      },
      {
       "output_type": "stream",
       "stream": "stdout",
       "text": [
        " 93\n",
        "Training   Error = 4.50707432662e-06       Validation Error = 0.208687265502\n",
        "   Training Batch= 144\n",
        "   Validation Batch= 60\n",
        "Epoch="
       ]
      },
      {
       "output_type": "stream",
       "stream": "stdout",
       "text": [
        " 94\n",
        "Training   Error = 3.72669927405e-06       Validation Error = 0.208697378403\n",
        "   Training Batch= 761\n",
        "   Validation Batch= 106\n",
        "Epoch="
       ]
      },
      {
       "output_type": "stream",
       "stream": "stdout",
       "text": [
        " 95\n",
        "Training   Error = 2.95683589653e-06       Validation Error = 0.20871766921\n",
        "   Training Batch= 423\n",
        "   Validation Batch= 163\n",
        "Epoch="
       ]
      },
      {
       "output_type": "stream",
       "stream": "stdout",
       "text": [
        " 96\n",
        "Training   Error = 2.42772641948e-06       Validation Error = 0.208744629384\n",
        "   Training Batch= 763\n",
        "   Validation Batch= 37\n",
        "Epoch="
       ]
      },
      {
       "output_type": "stream",
       "stream": "stdout",
       "text": [
        " 97\n",
        "Training   Error = 2.03767570356e-06       Validation Error = 0.208728446915\n",
        "   Training Batch= 385\n",
        "   Validation Batch= 97\n",
        "Epoch="
       ]
      },
      {
       "output_type": "stream",
       "stream": "stdout",
       "text": [
        " 98\n",
        "Training   Error = 1.71571272683e-06       Validation Error = 0.208716426837\n",
        "   Training Batch= 14\n",
        "   Validation Batch= 98\n",
        "Epoch="
       ]
      },
      {
       "output_type": "stream",
       "stream": "stdout",
       "text": [
        " 99\n",
        "Training   Error = 1.44182140327e-06       Validation Error = 0.20871937899\n",
        "   Training Batch= 709\n",
        "   Validation Batch= 34\n",
        "Epoch="
       ]
      },
      {
       "output_type": "stream",
       "stream": "stdout",
       "text": [
        " 100\n",
        "Training   Error = 1.18617774066e-06       Validation Error = 0.208733040867\n",
        "   Training Batch= 91\n",
        "   Validation Batch= 118\n",
        "Epoch="
       ]
      },
      {
       "output_type": "stream",
       "stream": "stdout",
       "text": [
        " 101\n",
        "Training   Error = 9.90898798728e-07       Validation Error = 0.208747030399\n",
        "   Training Batch= 25\n",
        "   Validation Batch= 55\n",
        "Epoch="
       ]
      },
      {
       "output_type": "stream",
       "stream": "stdout",
       "text": [
        " 102\n",
        "Training   Error = 8.86218397193e-07       Validation Error = 0.208753127727\n",
        "   Training Batch= 522\n",
        "   Validation Batch= 21\n",
        "Epoch="
       ]
      },
      {
       "output_type": "stream",
       "stream": "stdout",
       "text": [
        " 103\n",
        "Training   Error = 7.96265501068e-07       Validation Error = 0.20875341712\n",
        "   Training Batch= 364\n",
        "   Validation Batch= 90\n",
        "Epoch="
       ]
      },
      {
       "output_type": "stream",
       "stream": "stdout",
       "text": [
        " 104\n",
        "Training   Error = 7.10552578559e-07       Validation Error = 0.208760369437\n",
        "   Training Batch= 518\n",
        "   Validation Batch= 9\n",
        "Epoch="
       ]
      },
      {
       "output_type": "stream",
       "stream": "stdout",
       "text": [
        " 105\n",
        "Training   Error = 6.29373385049e-07       Validation Error = 0.208773572655\n",
        "   Training Batch= 145\n",
        "   Validation Batch= 164\n",
        "Epoch="
       ]
      },
      {
       "output_type": "stream",
       "stream": "stdout",
       "text": [
        " 106\n",
        "Training   Error = 5.49787141755e-07       Validation Error = 0.208775328719\n",
        "   Training Batch= 478\n",
        "   Validation Batch= 69\n",
        "Epoch="
       ]
      },
      {
       "output_type": "stream",
       "stream": "stdout",
       "text": [
        " 107\n",
        "Training   Error = 4.80244756144e-07       Validation Error = 0.208781524796\n",
        "   Training Batch= 682\n",
        "   Validation Batch= 57\n",
        "Epoch="
       ]
      },
      {
       "output_type": "stream",
       "stream": "stdout",
       "text": [
        " 108\n",
        "Training   Error = 4.19280174311e-07       Validation Error = 0.208788165014\n",
        "   Training Batch= 719\n",
        "   Validation Batch= 158\n",
        "Epoch="
       ]
      },
      {
       "output_type": "stream",
       "stream": "stdout",
       "text": [
        " 109\n",
        "Training   Error = 3.6029538884e-07       Validation Error = 0.208796659221\n",
        "   Training Batch= 364\n",
        "   Validation Batch= 98\n",
        "Epoch="
       ]
      },
      {
       "output_type": "stream",
       "stream": "stdout",
       "text": [
        " 110\n",
        "Training   Error = 2.93014059077e-07       Validation Error = 0.2088235802\n",
        "   Training Batch= 165\n",
        "   Validation Batch= 4\n",
        "Epoch="
       ]
      },
      {
       "output_type": "stream",
       "stream": "stdout",
       "text": [
        " 111\n",
        "Training   Error = 2.34919115194e-07       Validation Error = 0.208854994781\n",
        "   Training Batch= 350\n",
        "   Validation Batch= 82\n",
        "Epoch="
       ]
      },
      {
       "output_type": "stream",
       "stream": "stdout",
       "text": [
        " 112\n",
        "Training   Error = 1.81601797591e-07       Validation Error = 0.20885797757\n",
        "   Training Batch= 435\n",
        "   Validation Batch= 34\n",
        "Epoch="
       ]
      },
      {
       "output_type": "stream",
       "stream": "stdout",
       "text": [
        " 113\n",
        "Training   Error = 1.39665017314e-07       Validation Error = 0.20886441311\n",
        "   Training Batch= 437\n",
        "   Validation Batch= 143\n",
        "Epoch="
       ]
      },
      {
       "output_type": "stream",
       "stream": "stdout",
       "text": [
        " 114\n",
        "Training   Error = 1.08295937693e-07       Validation Error = 0.20887686987\n",
        "   Training Batch= 383\n",
        "   Validation Batch= 70\n",
        "Epoch="
       ]
      },
      {
       "output_type": "stream",
       "stream": "stdout",
       "text": [
        " 115\n",
        "Training   Error = 8.46509579424e-08       Validation Error = 0.208887669485\n",
        "   Training Batch= 78\n",
        "   Validation Batch= 61\n",
        "Epoch="
       ]
      },
      {
       "output_type": "stream",
       "stream": "stdout",
       "text": [
        " 116\n",
        "Training   Error = 6.60499523457e-08       Validation Error = 0.208903778609\n",
        "   Training Batch= 142\n",
        "   Validation Batch= 86\n",
        "Epoch="
       ]
      },
      {
       "output_type": "stream",
       "stream": "stdout",
       "text": [
        " 117\n",
        "Training   Error = 4.90817018375e-08       Validation Error = 0.208916424607\n",
        "   Training Batch= 759\n",
        "   Validation Batch= 101\n",
        "Epoch="
       ]
      },
      {
       "output_type": "stream",
       "stream": "stdout",
       "text": [
        " 118\n",
        "Training   Error = 3.53293079624e-08       Validation Error = 0.208919169554\n",
        "   Training Batch= 194\n",
        "   Validation Batch= 183\n",
        "Epoch="
       ]
      },
      {
       "output_type": "stream",
       "stream": "stdout",
       "text": [
        " 119\n",
        "Training   Error = 2.53688031078e-08       Validation Error = 0.208920443074\n",
        "   Training Batch= 776\n",
        "   Validation Batch= 178\n",
        "Epoch="
       ]
      },
      {
       "output_type": "stream",
       "stream": "stdout",
       "text": [
        " 120\n",
        "Training   Error = 1.87657159066e-08       Validation Error = 0.208921444186\n",
        "   Training Batch= 352\n",
        "   Validation Batch= 199\n",
        "Epoch="
       ]
      },
      {
       "output_type": "stream",
       "stream": "stdout",
       "text": [
        " 121\n",
        "Training   Error = 1.41245173773e-08       Validation Error = 0.208922645381\n",
        "   Training Batch= 644\n",
        "   Validation Batch= 44\n",
        "Epoch="
       ]
      },
      {
       "output_type": "stream",
       "stream": "stdout",
       "text": [
        " 122\n",
        "Training   Error = 1.09667629084e-08       Validation Error = 0.20892131731\n",
        "   Training Batch= 14\n",
        "   Validation Batch= 63\n",
        "Epoch="
       ]
      },
      {
       "output_type": "stream",
       "stream": "stdout",
       "text": [
        " 123\n",
        "Training   Error = 9.07315884635e-09       Validation Error = 0.208919095308\n",
        "   Training Batch= 321\n",
        "   Validation Batch= 70\n",
        "Epoch="
       ]
      },
      {
       "output_type": "stream",
       "stream": "stdout",
       "text": [
        " 124\n",
        "Training   Error = 7.2378057901e-09       Validation Error = 0.20892041232\n",
        "   Training Batch= 454\n",
        "   Validation Batch= 126\n",
        "Epoch="
       ]
      },
      {
       "output_type": "stream",
       "stream": "stdout",
       "text": [
        " 125\n",
        "Training   Error = 5.51846910817e-09       Validation Error = 0.208921974752\n",
        "   Training Batch= 280\n",
        "   Validation Batch= 152\n",
        "Epoch="
       ]
      },
      {
       "output_type": "stream",
       "stream": "stdout",
       "text": [
        " 126\n",
        "Training   Error = 4.64491044767e-09       Validation Error = 0.208920524098\n",
        "   Training Batch= 756\n",
        "   Validation Batch= 21\n",
        "Epoch="
       ]
      },
      {
       "output_type": "stream",
       "stream": "stdout",
       "text": [
        " 127\n",
        "Training   Error = 3.96297946329e-09       Validation Error = 0.208925685797\n",
        "   Training Batch= 125\n",
        "   Validation Batch= 102\n",
        "Epoch="
       ]
      },
      {
       "output_type": "stream",
       "stream": "stdout",
       "text": [
        " 128\n",
        "Training   Error = 3.11396370398e-09       Validation Error = 0.208928314914\n",
        "   Training Batch= 622\n",
        "   Validation Batch= 79\n",
        "Epoch="
       ]
      },
      {
       "output_type": "stream",
       "stream": "stdout",
       "text": [
        " 129\n",
        "Training   Error = 2.42273489486e-09       Validation Error = 0.208927705133\n",
        "   Training Batch= 128\n",
        "   Validation Batch= 162\n",
        "Epoch="
       ]
      },
      {
       "output_type": "stream",
       "stream": "stdout",
       "text": [
        " 130\n",
        "Training   Error = 1.99712020007e-09       Validation Error = 0.208931800821\n",
        "   Training Batch= 142\n",
        "   Validation Batch= 6\n",
        "Epoch="
       ]
      },
      {
       "output_type": "stream",
       "stream": "stdout",
       "text": [
        " 131\n",
        "Training   Error = 1.68562444443e-09       Validation Error = 0.208933839648\n",
        "   Training Batch= 221\n",
        "   Validation Batch= 152\n",
        "Epoch="
       ]
      },
      {
       "output_type": "stream",
       "stream": "stdout",
       "text": [
        " 132\n",
        "Training   Error = 1.41484144662e-09       Validation Error = 0.20893498797\n",
        "   Training Batch= 637\n",
        "   Validation Batch= 54\n",
        "Epoch="
       ]
      },
      {
       "output_type": "stream",
       "stream": "stdout",
       "text": [
        " 133\n",
        "Training   Error = 1.29336853207e-09       Validation Error = 0.208932831714\n",
        "   Training Batch= 451\n",
        "   Validation Batch= 112\n",
        "Epoch="
       ]
      },
      {
       "output_type": "stream",
       "stream": "stdout",
       "text": [
        " 134\n",
        "Training   Error = 1.18457723713e-09       Validation Error = 0.208931876149\n",
        "   Training Batch= 491\n",
        "   Validation Batch= 30\n",
        "Epoch="
       ]
      },
      {
       "output_type": "stream",
       "stream": "stdout",
       "text": [
        " 135\n",
        "Training   Error = 1.01474970507e-09       Validation Error = 0.208931876361\n",
        "   Training Batch= 207\n",
        "   Validation Batch= 113\n",
        "Epoch="
       ]
      },
      {
       "output_type": "stream",
       "stream": "stdout",
       "text": [
        " 136\n",
        "Training   Error = 8.6673604701e-10       Validation Error = 0.208931789701\n",
        "   Training Batch= 540\n",
        "   Validation Batch= 128\n",
        "Epoch="
       ]
      },
      {
       "output_type": "stream",
       "stream": "stdout",
       "text": [
        " 137\n",
        "Training   Error = 7.49628977223e-10       Validation Error = 0.208931685915\n",
        "   Training Batch= 16\n",
        "   Validation Batch= 115\n",
        "Epoch="
       ]
      },
      {
       "output_type": "stream",
       "stream": "stdout",
       "text": [
        " 138\n",
        "Training   Error = 6.42307761048e-10       Validation Error = 0.20893202931\n",
        "   Training Batch= 70\n",
        "   Validation Batch= 3\n",
        "Epoch="
       ]
      },
      {
       "output_type": "stream",
       "stream": "stdout",
       "text": [
        " 139\n",
        "Training   Error = 5.21773586956e-10       Validation Error = 0.208931024103\n",
        "   Training Batch= 370\n",
        "   Validation Batch= 177\n",
        "Epoch="
       ]
      },
      {
       "output_type": "stream",
       "stream": "stdout",
       "text": [
        " 140\n",
        "Training   Error = 4.21727929053e-10       Validation Error = 0.208931310693\n",
        "   Training Batch= 195\n",
        "   Validation Batch= 178\n",
        "Epoch="
       ]
      },
      {
       "output_type": "stream",
       "stream": "stdout",
       "text": [
        " 141\n",
        "Training   Error = 3.11980604042e-10       Validation Error = 0.208932544703\n",
        "   Training Batch= 345\n",
        "   Validation Batch= 169\n",
        "Epoch="
       ]
      },
      {
       "output_type": "stream",
       "stream": "stdout",
       "text": [
        " 142\n",
        "Training   Error = 2.48202866381e-10       Validation Error = 0.208933367895\n",
        "   Training Batch= 681\n",
        "   Validation Batch= 119\n",
        "Epoch="
       ]
      },
      {
       "output_type": "stream",
       "stream": "stdout",
       "text": [
        " 143\n",
        "Training   Error = 2.09372050614e-10       Validation Error = 0.208932403149\n",
        "   Training Batch= 550\n",
        "   Validation Batch= 184\n",
        "Epoch="
       ]
      },
      {
       "output_type": "stream",
       "stream": "stdout",
       "text": [
        " 144\n",
        "Training   Error = 1.680777519e-10       Validation Error = 0.208932557391\n",
        "   Training Batch= 238\n",
        "   Validation Batch= 25\n",
        "Epoch="
       ]
      },
      {
       "output_type": "stream",
       "stream": "stdout",
       "text": [
        " 145\n",
        "Training   Error = 1.42533273234e-10       Validation Error = 0.208933023629\n",
        "   Training Batch= 454\n",
        "   Validation Batch= 182\n",
        "Epoch="
       ]
      },
      {
       "output_type": "stream",
       "stream": "stdout",
       "text": [
        " 146\n",
        "Training   Error = 1.13444053914e-10       Validation Error = 0.208932381879\n",
        "   Training Batch= 266\n",
        "   Validation Batch= 123\n",
        "Epoch="
       ]
      },
      {
       "output_type": "stream",
       "stream": "stdout",
       "text": [
        " 147\n",
        "Training   Error = 9.74231580522e-11       Validation Error = 0.208932343842\n",
        "   Training Batch= 315\n",
        "   Validation Batch= 90\n",
        "Epoch="
       ]
      },
      {
       "output_type": "stream",
       "stream": "stdout",
       "text": [
        " 148\n",
        "Training   Error = 8.76669086729e-11       Validation Error = 0.208931215347\n",
        "   Training Batch= 426\n",
        "   Validation Batch= 142\n",
        "Epoch="
       ]
      },
      {
       "output_type": "stream",
       "stream": "stdout",
       "text": [
        " 149\n",
        "Training   Error = 8.60205658929e-11       Validation Error = 0.208931686272\n",
        "   Training Batch= 665\n",
        "   Validation Batch= 23\n",
        "Epoch="
       ]
      },
      {
       "output_type": "stream",
       "stream": "stdout",
       "text": [
        " 150\n",
        "Training   Error = 7.10530873456e-11       Validation Error = 0.208932129753\n",
        "   Training Batch= 635\n",
        "   Validation Batch= 61\n",
        "Epoch="
       ]
      },
      {
       "output_type": "stream",
       "stream": "stdout",
       "text": [
        " 151\n",
        "Training   Error = 5.27283996432e-11       Validation Error = 0.208932379888\n",
        "   Training Batch= 647\n",
        "   Validation Batch= 115\n",
        "Epoch="
       ]
      },
      {
       "output_type": "stream",
       "stream": "stdout",
       "text": [
        " 152\n",
        "Training   Error = 4.73691884669e-11       Validation Error = 0.20893206868\n",
        "   Training Batch= 326\n",
        "   Validation Batch= 105\n",
        "Epoch="
       ]
      },
      {
       "output_type": "stream",
       "stream": "stdout",
       "text": [
        " 153\n",
        "Training   Error = 3.95265853438e-11       Validation Error = 0.208932361672\n",
        "   Training Batch= 719\n",
        "   Validation Batch= 64\n",
        "Epoch="
       ]
      },
      {
       "output_type": "stream",
       "stream": "stdout",
       "text": [
        " 154\n",
        "Training   Error = 3.09310415412e-11       Validation Error = 0.208933150248\n",
        "   Training Batch= 192\n",
        "   Validation Batch= 195\n",
        "Epoch="
       ]
      },
      {
       "output_type": "stream",
       "stream": "stdout",
       "text": [
        " 155\n",
        "Training   Error = 2.63614905386e-11       Validation Error = 0.208933144121\n",
        "   Training Batch= 262\n",
        "   Validation Batch= 183\n",
        "Epoch="
       ]
      },
      {
       "output_type": "stream",
       "stream": "stdout",
       "text": [
        " 156\n",
        "Training   Error = 2.50996854286e-11       Validation Error = 0.208932842556\n",
        "   Training Batch= 691\n",
        "   Validation Batch= 26\n",
        "Epoch="
       ]
      },
      {
       "output_type": "stream",
       "stream": "stdout",
       "text": [
        " 157\n",
        "Training   Error = 2.08202186339e-11       Validation Error = 0.20893322635\n",
        "   Training Batch= 330\n",
        "   Validation Batch= 9\n",
        "Epoch="
       ]
      },
      {
       "output_type": "stream",
       "stream": "stdout",
       "text": [
        " 158\n",
        "Training   Error = 1.87499557222e-11       Validation Error = 0.20893284336\n",
        "   Training Batch= 328\n",
        "   Validation Batch= 0\n",
        "Epoch="
       ]
      },
      {
       "output_type": "stream",
       "stream": "stdout",
       "text": [
        " 159\n",
        "Training   Error = 1.56232221161e-11       Validation Error = 0.208932808619\n",
        "   Training Batch= 537\n",
        "   Validation Batch= 119\n",
        "Epoch="
       ]
      },
      {
       "output_type": "stream",
       "stream": "stdout",
       "text": [
        " 160\n",
        "Training   Error = 1.24719787826e-11       Validation Error = 0.208932935674\n",
        "   Training Batch= 271\n",
        "   Validation Batch= 172\n",
        "Epoch="
       ]
      },
      {
       "output_type": "stream",
       "stream": "stdout",
       "text": [
        " 161\n",
        "Training   Error = 1.06025917396e-11       Validation Error = 0.208933013392\n",
        "   Training Batch= 126\n",
        "   Validation Batch= 174\n",
        "Epoch="
       ]
      },
      {
       "output_type": "stream",
       "stream": "stdout",
       "text": [
        " 162\n",
        "Training   Error = 9.43773380965e-12       Validation Error = 0.208932566754\n",
        "   Training Batch= 350\n",
        "   Validation Batch= 178\n",
        "Epoch="
       ]
      },
      {
       "output_type": "stream",
       "stream": "stdout",
       "text": [
        " 163\n",
        "Training   Error = 8.29668145359e-12       Validation Error = 0.208932797136\n",
        "   Training Batch= 358\n",
        "   Validation Batch= 128\n",
        "Epoch="
       ]
      },
      {
       "output_type": "stream",
       "stream": "stdout",
       "text": [
        " 164\n",
        "Training   Error = 7.14835892112e-12       Validation Error = 0.208932910644\n",
        "   Training Batch= 233\n",
        "   Validation Batch= 98\n",
        "Epoch="
       ]
      },
      {
       "output_type": "stream",
       "stream": "stdout",
       "text": [
        " 165\n",
        "Training   Error = 6.57506415459e-12       Validation Error = 0.208933266095\n",
        "   Training Batch= 418\n",
        "   Validation Batch= 41\n",
        "Epoch="
       ]
      },
      {
       "output_type": "stream",
       "stream": "stdout",
       "text": [
        " 166\n",
        "Training   Error = 5.26806769179e-12       Validation Error = 0.208933012792\n",
        "   Training Batch= 218\n",
        "   Validation Batch= 43\n",
        "Epoch="
       ]
      },
      {
       "output_type": "stream",
       "stream": "stdout",
       "text": [
        " 167\n",
        "Training   Error = 4.60854569003e-12       Validation Error = 0.208933046152\n",
        "   Training Batch= 440\n",
        "   Validation Batch= 170\n",
        "Epoch="
       ]
      },
      {
       "output_type": "stream",
       "stream": "stdout",
       "text": [
        " 168\n",
        "Training   Error = 3.85512588482e-12       Validation Error = 0.208933128965\n",
        "   Training Batch= 711\n",
        "   Validation Batch= 10\n",
        "Epoch="
       ]
      },
      {
       "output_type": "stream",
       "stream": "stdout",
       "text": [
        " 169\n",
        "Training   Error = 3.25538112312e-12       Validation Error = 0.208933115578\n",
        "   Training Batch= 117\n",
        "   Validation Batch= 116\n",
        "Epoch="
       ]
      },
      {
       "output_type": "stream",
       "stream": "stdout",
       "text": [
        " 170\n",
        "Training   Error = 2.853346297e-12       Validation Error = 0.208933068169\n",
        "   Training Batch= 324\n",
        "   Validation Batch= 142\n",
        "Epoch="
       ]
      },
      {
       "output_type": "stream",
       "stream": "stdout",
       "text": [
        " 171\n",
        "Training   Error = 3.31971138967e-12       Validation Error = 0.208933124786\n",
        "   Training Batch= 190\n",
        "   Validation Batch= 71\n",
        "Epoch="
       ]
      },
      {
       "output_type": "stream",
       "stream": "stdout",
       "text": [
        " 172\n",
        "Training   Error = 2.7776855946e-12       Validation Error = 0.208933172177\n",
        "   Training Batch= 218\n",
        "   Validation Batch= 34\n",
        "Epoch="
       ]
      },
      {
       "output_type": "stream",
       "stream": "stdout",
       "text": [
        " 173\n",
        "Training   Error = 2.35242093801e-12       Validation Error = 0.208933181829\n",
        "   Training Batch= 729\n",
        "   Validation Batch= 194\n",
        "Epoch="
       ]
      },
      {
       "output_type": "stream",
       "stream": "stdout",
       "text": [
        " 174\n",
        "Training   Error = 1.9962186661e-12       Validation Error = 0.208933170091\n",
        "   Training Batch= 404\n",
        "   Validation Batch= 107\n",
        "Epoch="
       ]
      },
      {
       "output_type": "stream",
       "stream": "stdout",
       "text": [
        " 175\n",
        "Training   Error = 1.69474910212e-12       Validation Error = 0.208933147912\n",
        "   Training Batch= 786\n",
        "   Validation Batch= 32\n",
        "Epoch="
       ]
      },
      {
       "output_type": "stream",
       "stream": "stdout",
       "text": [
        " 176\n",
        "Training   Error = 1.45084025216e-12       Validation Error = 0.208933139599\n",
        "   Training Batch= 629\n",
        "   Validation Batch= 153\n",
        "Epoch="
       ]
      },
      {
       "output_type": "stream",
       "stream": "stdout",
       "text": [
        " 177\n",
        "Training   Error = 1.25278748608e-12       Validation Error = 0.20893313574\n",
        "   Training Batch= 522\n",
        "   Validation Batch= 79\n",
        "Epoch="
       ]
      },
      {
       "output_type": "stream",
       "stream": "stdout",
       "text": [
        " 178\n",
        "Training   Error = 1.08976014367e-12       Validation Error = 0.208933126222\n",
        "   Training Batch= 151\n",
        "   Validation Batch= 92\n",
        "Epoch="
       ]
      },
      {
       "output_type": "stream",
       "stream": "stdout",
       "text": [
        " 179\n",
        "Training   Error = 9.55549604519e-13       Validation Error = 0.2089331206\n",
        "   Training Batch= 253\n",
        "   Validation Batch= 134\n",
        "Epoch="
       ]
      },
      {
       "output_type": "stream",
       "stream": "stdout",
       "text": [
        " 180\n",
        "Training   Error = 8.44751561926e-13       Validation Error = 0.208933120294\n",
        "   Training Batch= 570\n",
        "   Validation Batch= 114\n",
        "Epoch="
       ]
      },
      {
       "output_type": "stream",
       "stream": "stdout",
       "text": [
        " 181\n",
        "Training   Error = 7.5285873747e-13       Validation Error = 0.208933119932\n",
        "   Training Batch= 725\n",
        "   Validation Batch= 106\n",
        "Epoch="
       ]
      }
     ]
    },
    {
     "cell_type": "code",
     "collapsed": false,
     "input": [],
     "language": "python",
     "metadata": {},
     "outputs": []
    }
   ],
   "metadata": {}
  }
 ]
}