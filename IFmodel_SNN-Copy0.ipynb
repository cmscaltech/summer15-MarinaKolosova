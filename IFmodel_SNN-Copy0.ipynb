{
 "metadata": {
  "name": "",
  "signature": "sha256:358b2d686ad6eb9eec9c624ab2ea6a840792c88f9166495e46b331111b52860b"
 },
 "nbformat": 3,
 "nbformat_minor": 0,
 "worksheets": [
  {
   "cells": [
    {
     "cell_type": "code",
     "collapsed": false,
     "input": [
      "import h5py\n",
      "import theanets\n",
      "import time\n",
      "import random"
     ],
     "language": "python",
     "metadata": {},
     "outputs": [],
     "prompt_number": 15
    },
    {
     "cell_type": "code",
     "collapsed": false,
     "input": [
      "#  Converting deep ANNs to SNNs:  \n",
      "\n",
      "# 1) Use ReLUs for all units of the network.\n",
      "\n",
      "# 2) Fix the bias to zero throughout training, and train with backpropagation.\n",
      "\n",
      "# 3) Directly map the weights from the ReLU network to a network of IF units.\n",
      "\n",
      "# 4) Use weight normalization to obtain near-lossless accuracy and faster convergence."
     ],
     "language": "python",
     "metadata": {},
     "outputs": [],
     "prompt_number": 2
    },
    {
     "cell_type": "code",
     "collapsed": false,
     "input": [
      "from brian import *\n",
      "from brian.library.synapses import *\n",
      "from brian.clock import reinit_default_clock\n",
      "from brian.stdunits import kHz, Hz, ms\n",
      "from brian.network import Network\n",
      "from brian.monitor import StateMonitor, SpikeMonitor\n",
      "from brian.globalprefs import set_global_preferences\n",
      "from brian import clear\n",
      "\n",
      "import cPickle\n",
      "%matplotlib inline"
     ],
     "language": "python",
     "metadata": {},
     "outputs": [
      {
       "output_type": "stream",
       "stream": "stderr",
       "text": [
        "/usr/local/lib/python2.7/site-packages/brian-1.4.1-py2.7-linux-x86_64.egg/brian/utils/sparse_patch/__init__.py:39: UserWarning: Couldn't find matching sparse matrix patch for scipy version 0.15.1, but in most cases this shouldn't be a problem.\n",
        "  warnings.warn(\"Couldn't find matching sparse matrix patch for scipy version %s, but in most cases this shouldn't be a problem.\" % scipy.__version__)\n"
       ]
      }
     ],
     "prompt_number": 3
    },
    {
     "cell_type": "code",
     "collapsed": false,
     "input": [
      "f=h5py.File(\"data/data.hdf5\")\n",
      "f.keys()\n",
      "f['data'].keys()\n",
      "\n",
      "global input_matrix\n",
      "global target_matrix\n",
      "global decorator_matrix\n",
      "\n",
      "input_matrix     = f['data']['input'].value\n",
      "target_matrix    = f['data']['target'].value\n",
      "decorator_matrix = f['data']['deco'].value\n",
      "f.close()"
     ],
     "language": "python",
     "metadata": {},
     "outputs": [],
     "prompt_number": 4
    },
    {
     "cell_type": "code",
     "collapsed": false,
     "input": [
      "nInputs  = input_matrix.shape[1]\n",
      "nOutputs = target_matrix.shape[1]"
     ],
     "language": "python",
     "metadata": {},
     "outputs": [],
     "prompt_number": 5
    },
    {
     "cell_type": "code",
     "collapsed": false,
     "input": [
      "print \"Samples in input_matrix=\", len(input_matrix), \"       Inputs=\", nInputs, \"       Outputs=\",nOutputs"
     ],
     "language": "python",
     "metadata": {},
     "outputs": [
      {
       "output_type": "stream",
       "stream": "stdout",
       "text": [
        "Samples in input_matrix= 982867        Inputs= 82        Outputs= 1\n"
       ]
      }
     ],
     "prompt_number": 6
    },
    {
     "cell_type": "code",
     "collapsed": false,
     "input": [
      "truncate=100000          \n",
      "nHiddenNeurons=200\n",
      "iLayers=1\n",
      "\n",
      "experiment=theanets.feedforward.Regressor(layers=(nInputs,)+tuple([nHiddenNeurons for l in range(iLayers), 'relu'])+ ( (nOutputs, 'relu'),))\n",
      "\n",
      "# Create Training & Validation Set\n",
      "\n",
      "IN_matrix     = input_matrix[0:truncate,...]      \n",
      "TARGET_matrix = target_matrix[0:truncate,...]\n",
      "DEC_matrix    = decorator_matrix[0:truncate,...] \n",
      "    \n",
      "cut   =int(IN_matrix.shape[0]*0.8)\n",
      "train =IN_matrix[:cut], TARGET_matrix[:cut]    \n",
      "valid =IN_matrix[cut:], TARGET_matrix[cut:]"
     ],
     "language": "python",
     "metadata": {},
     "outputs": [],
     "prompt_number": 23
    },
    {
     "cell_type": "code",
     "collapsed": false,
     "input": [
      "# No negative inputs\n",
      "\n",
      "for i, iSample in enumerate(train[0]):\n",
      "    minInput= min(iSample)\n",
      "    if(minInput < 0):\n",
      "        for j, jInput in enumerate(iSample):\n",
      "            if (jInput != 0.) :\n",
      "                train[0][i][j]=jInput - minInput"
     ],
     "language": "python",
     "metadata": {},
     "outputs": [],
     "prompt_number": 24
    },
    {
     "cell_type": "code",
     "collapsed": false,
     "input": [
      "Weights_hid1= experiment.find('hid1', 'w').get_value()\n",
      "Weights_out = experiment.find('out','w').get_value() \n",
      "#Bias_hid1   = experiment.find('hid1', 'b').get_value()\n",
      "#Bias_out    = experiment.find('hid1', 'b').get_value()\n",
      "\n",
      "\n",
      "New_Weights     =zeros(Weights_hid1.shape)\n",
      "#New_bias        =zeros(Bias_hid1.shape)\n",
      "#New_bias_out    =zeros(Bias_out.shape)\n",
      "New_Weights_out =zeros(Weights_out.shape)\n",
      "\n",
      "for i, iNeuron in enumerate(Weights_hid1):\n",
      "    for iw,iWeight in enumerate(iNeuron):\n",
      "        New_Weights[i][iw]=random.expovariate(-15)\n",
      "#        New_bias[i][iw]   =random.expovariate(2)\n",
      "    \n",
      "\n",
      "for i, iNeuron in enumerate(Weights_out):\n",
      "    for iw,iWeight in enumerate(iNeuron):\n",
      "        New_Weights_out[i][iw]=random.expovariate(-15)\n",
      "#        New_bias_out[i][iw]   =random.expovariate(2)\n",
      "        \n",
      "experiment.find('hid1', 'w').set_value([iNeuron[1] for iNeuron in enumerate(New_Weights)])\n",
      "experiment.find('hid1', 'b').set_value([iNeuron[1] for iNeuron in enumerate(New_bias)])\n",
      "#experiment.find('out' , 'w').set_value([iNeuron[1] for iNeuron in enumerate(New_Weights_out)])\n",
      "#experiment.find('hid1', 'b').set_value([iNeuron[1] for iNeuron in enumerate(New_bias_out)])"
     ],
     "language": "python",
     "metadata": {},
     "outputs": [],
     "prompt_number": 34
    },
    {
     "cell_type": "code",
     "collapsed": false,
     "input": [
      "fom_train   = 1.0\n",
      "fom_valid   = 1.0\n",
      "\n",
      "LearningRate = 1e-4\n",
      "Epochs       = 0\n",
      "maxEpochs    = 1500\n",
      "Dropout      = 0.5\n",
      "momentum     = 0.5\n",
      "\n",
      "timing_start = time.mktime(time.gmtime())\n",
      "    \n",
      "for TrainError, ValError in experiment.itertrain(train,valid, \n",
      "                                                 learning_rate  = LearningRate,\n",
      "                                                 algo='rprop',\n",
      "                                                 hidden_dropout = Dropout,\n",
      "                                                 iteration_size = 1,\n",
      "                                                 batch_size     = 10, \n",
      "                                                 rms_halflife   = 0.99, \n",
      "                                                 rms_regularizer= 1e-09):\n",
      "    print 'Epoch=', Epochs+1\n",
      "    if Epochs%1 == 0:\n",
      "        print 'Training   Error =',TrainError['err']\n",
      "        print 'Validation Error =',ValError['err']\n",
      "    Epochs+=1\n",
      "    if Epochs == maxEpochs :\n",
      "        break\n",
      "\n",
      "experiment.save('network-pickle.pkl.gz')        \n",
      "prediction = experiment.predict(train[0])\n",
      "goodness = np.asarray([[cut,(list(train[1][np.where(prediction>cut)]==1).count(True)+list(train[1][np.where(prediction<cut)]==0).count(True))/ float(train[0].shape[0])]  for cut in np.arange(0,1,0.05)])   \n",
      "fom_train = max( goodness[:,1])    \n",
      "\n",
      "prediction = experiment.predict(valid[0])\n",
      "goodness   = np.asarray([[cut,(list(valid[1][np.where(prediction>cut)]==1).count(True)+list(valid[1][np.where(prediction<cut)]==0).count(True))/ float(valid[0].shape[0])]  for cut in np.arange(0,1,0.05)])\n",
      "fom_valid  = max( goodness[:,1])     \n",
      "\n",
      "MaxCut= goodness[np.where(goodness[:,1]==goodness[:,1].max())][0][0]\n",
      "timing_end=time.mktime(time.gmtime())\n",
      "timing=timing_end-timing_start\n",
      "    \n",
      "print 'Samples=', truncate,'    Hid. Layers=',iLayers, \"   Hid. Neurons=\", nHiddenNeurons, \"   F.O.M. train set=\",fom_train, \"   FOM valid. set=\", fom_valid, \" Time=\", timing, \" Max Cut=\", MaxCut      "
     ],
     "language": "python",
     "metadata": {},
     "outputs": [
      {
       "output_type": "stream",
       "stream": "stdout",
       "text": [
        "Epoch= 1\n",
        "Training   Error = 0.7\n",
        "Validation Error = 0.7\n",
        "Epoch= 2\n",
        "Training   Error = 0.6\n",
        "Validation Error = 0.7\n",
        "Epoch= 3\n",
        "Training   Error = 0.8\n",
        "Validation Error = 0.7\n",
        "Epoch= 4\n",
        "Training   Error = 0.6\n",
        "Validation Error = 0.7\n",
        "Epoch= 5\n",
        "Training   Error = 0.4\n",
        "Validation Error = 0.7\n",
        "Epoch= 6\n",
        "Training   Error = 0.3\n",
        "Validation Error = 0.7\n",
        "Epoch= 7\n",
        "Training   Error = 0.5\n",
        "Validation Error = 0.7\n",
        "Epoch= 8\n",
        "Training   Error = 0.6\n",
        "Validation Error = 0.7\n",
        "Epoch= 9\n",
        "Training   Error = 0.4\n",
        "Validation Error = 0.7\n",
        "Epoch= 10\n",
        "Training   Error = 0.4\n",
        "Validation Error = 0.7\n",
        "Epoch= 11\n",
        "Training   Error = 0.5\n",
        "Validation Error = 0.6\n",
        "Epoch= 12\n",
        "Training   Error = 0.5\n",
        "Validation Error = 0.6\n",
        "Epoch= 13\n",
        "Training   Error = 0.4\n",
        "Validation Error = 0.6\n",
        "Epoch= 14\n",
        "Training   Error = 0.9\n",
        "Validation Error = 0.6\n",
        "Epoch= 15\n",
        "Training   Error = 0.6\n",
        "Validation Error = 0.6\n",
        "Epoch= 16\n",
        "Training   Error = 0.3\n",
        "Validation Error = 0.6\n",
        "Epoch= 17\n",
        "Training   Error = 0.7\n",
        "Validation Error = 0.6\n",
        "Epoch= 18\n",
        "Training   Error = 0.7\n",
        "Validation Error = 0.6\n",
        "Epoch= 19\n",
        "Training   Error = 0.3\n",
        "Validation Error = 0.6\n",
        "Epoch= 20\n",
        "Training   Error = 0.7\n",
        "Validation Error = 0.6\n",
        "Epoch="
       ]
      },
      {
       "output_type": "stream",
       "stream": "stdout",
       "text": [
        " 21\n",
        "Training   Error = 0.6\n",
        "Validation Error = 0.4\n",
        "Epoch= 22\n",
        "Training   Error = 0.7\n",
        "Validation Error = 0.4\n",
        "Epoch= 23\n",
        "Training   Error = 0.6\n",
        "Validation Error = 0.4\n",
        "Epoch= 24\n",
        "Training   Error = 0.5\n",
        "Validation Error = 0.4\n",
        "Epoch= 25\n",
        "Training   Error = 0.6\n",
        "Validation Error = 0.4\n",
        "Epoch= 26\n",
        "Training   Error = 0.7\n",
        "Validation Error = 0.4\n",
        "Epoch= 27\n",
        "Training   Error = 0.7\n",
        "Validation Error = 0.4\n",
        "Epoch= 28\n",
        "Training   Error = 0.6\n",
        "Validation Error = 0.4\n",
        "Epoch= 29\n",
        "Training   Error = 0.6\n",
        "Validation Error = 0.4\n",
        "Epoch= 30\n",
        "Training   Error = 0.7\n",
        "Validation Error = 0.4\n",
        "Epoch= 31\n",
        "Training   Error = 0.7\n",
        "Validation Error = 0.7\n",
        "Epoch= 32\n",
        "Training   Error = 0.4\n",
        "Validation Error = 0.7\n",
        "Epoch= 33\n",
        "Training   Error = 0.7\n",
        "Validation Error = 0.7\n",
        "Epoch= 34\n",
        "Training   Error = 0.8\n",
        "Validation Error = 0.7\n",
        "Epoch= 35\n",
        "Training   Error = 0.7\n",
        "Validation Error = 0.7\n",
        "Epoch= 36\n",
        "Training   Error = 0.5\n",
        "Validation Error = 0.7\n",
        "Epoch= 37\n",
        "Training   Error = 0.5\n",
        "Validation Error = 0.7\n",
        "Epoch= 38\n",
        "Training   Error = 0.5\n",
        "Validation Error = 0.7\n",
        "Epoch= 39\n",
        "Training   Error = 0.5\n",
        "Validation Error = 0.7\n",
        "Epoch= 40\n",
        "Training   Error = 0.7\n",
        "Validation Error = 0.7\n",
        "Epoch= 41\n",
        "Training   Error = 0.5\n",
        "Validation Error = 0.8\n",
        "Epoch="
       ]
      },
      {
       "output_type": "stream",
       "stream": "stdout",
       "text": [
        " 42\n",
        "Training   Error = 0.7\n",
        "Validation Error = 0.8\n",
        "Epoch= 43\n",
        "Training   Error = 0.9\n",
        "Validation Error = 0.8\n",
        "Epoch= 44\n",
        "Training   Error = 0.5\n",
        "Validation Error = 0.8\n",
        "Epoch= 45\n",
        "Training   Error = 0.6\n",
        "Validation Error = 0.8\n",
        "Epoch= 46\n",
        "Training   Error = 0.7\n",
        "Validation Error = 0.8\n",
        "Epoch= 47\n",
        "Training   Error = 0.8\n",
        "Validation Error = 0.8\n",
        "Epoch= 48\n",
        "Training   Error = 0.7\n",
        "Validation Error = 0.8\n",
        "Epoch= 49\n",
        "Training   Error = 0.9\n",
        "Validation Error = 0.8\n",
        "Epoch= 50\n",
        "Training   Error = 0.7\n",
        "Validation Error = 0.8\n",
        "Epoch= 51\n",
        "Training   Error = 0.6\n",
        "Validation Error = 0.5\n",
        "Epoch= 52\n",
        "Training   Error = 0.5\n",
        "Validation Error = 0.5\n",
        "Epoch= 53\n",
        "Training   Error = 0.6\n",
        "Validation Error = 0.5\n",
        "Epoch= 54\n",
        "Training   Error = 0.7\n",
        "Validation Error = 0.5\n",
        "Epoch= 55\n",
        "Training   Error = 0.7\n",
        "Validation Error = 0.5\n",
        "Epoch= 56\n",
        "Training   Error = 0.6\n",
        "Validation Error = 0.5\n",
        "Epoch= 57\n",
        "Training   Error = 0.6\n",
        "Validation Error = 0.5\n",
        "Epoch= 58\n",
        "Training   Error = 0.2\n",
        "Validation Error = 0.5\n",
        "Epoch= 59\n",
        "Training   Error = 0.9\n",
        "Validation Error = 0.5\n",
        "Epoch= 60\n",
        "Training   Error = 0.6\n",
        "Validation Error = 0.5\n",
        "Epoch= 61\n",
        "Training   Error = 0.6\n",
        "Validation Error = 0.8\n",
        "Epoch="
       ]
      },
      {
       "output_type": "stream",
       "stream": "stdout",
       "text": [
        " 62\n",
        "Training   Error = 0.6\n",
        "Validation Error = 0.8\n",
        "Epoch= 63\n",
        "Training   Error = 0.6\n",
        "Validation Error = 0.8\n",
        "Epoch= 64\n",
        "Training   Error = 0.8\n",
        "Validation Error = 0.8\n",
        "Epoch= 65\n",
        "Training   Error = 0.6\n",
        "Validation Error = 0.8\n",
        "Epoch= 66\n",
        "Training   Error = 0.5\n",
        "Validation Error = 0.8\n",
        "Epoch= 67\n",
        "Training   Error = 0.6\n",
        "Validation Error = 0.8\n",
        "Epoch= 68\n",
        "Training   Error = 0.7\n",
        "Validation Error = 0.8\n",
        "Epoch= 69\n",
        "Training   Error = 0.7\n",
        "Validation Error = 0.8\n",
        "Epoch= 70\n",
        "Training   Error = 0.3\n",
        "Validation Error = 0.8\n",
        "Epoch= 71\n",
        "Training   Error = 0.7\n",
        "Validation Error = 0.3\n",
        "Epoch= 72\n",
        "Training   Error = 0.7\n",
        "Validation Error = 0.3\n",
        "Epoch= 73\n",
        "Training   Error = 0.5\n",
        "Validation Error = 0.3\n",
        "Epoch= 74\n",
        "Training   Error = 0.5\n",
        "Validation Error = 0.3\n",
        "Epoch= 75\n",
        "Training   Error = 0.5\n",
        "Validation Error = 0.3\n",
        "Epoch= 76\n",
        "Training   Error = 0.6\n",
        "Validation Error = 0.3\n",
        "Epoch= 77\n",
        "Training   Error = 0.7\n",
        "Validation Error = 0.3\n",
        "Epoch= 78\n",
        "Training   Error = 0.7\n",
        "Validation Error = 0.3\n",
        "Epoch= 79\n",
        "Training   Error = 0.5\n",
        "Validation Error = 0.3\n",
        "Epoch= 80\n",
        "Training   Error = 0.8\n",
        "Validation Error = 0.3\n",
        "Epoch= 81\n",
        "Training   Error = 0.6\n",
        "Validation Error = 0.6\n",
        "Epoch="
       ]
      },
      {
       "output_type": "stream",
       "stream": "stdout",
       "text": [
        " 82\n",
        "Training   Error = 0.6\n",
        "Validation Error = 0.6\n",
        "Epoch= 83\n",
        "Training   Error = 0.5\n",
        "Validation Error = 0.6\n",
        "Epoch= 84\n",
        "Training   Error = 0.5\n",
        "Validation Error = 0.6\n",
        "Epoch= 85\n",
        "Training   Error = 0.6\n",
        "Validation Error = 0.6\n",
        "Epoch= 86\n",
        "Training   Error = 0.5\n",
        "Validation Error = 0.6\n",
        "Epoch= 87\n",
        "Training   Error = 0.6\n",
        "Validation Error = 0.6\n",
        "Epoch= 88\n",
        "Training   Error = 0.7\n",
        "Validation Error = 0.6\n",
        "Epoch= 89\n",
        "Training   Error = 0.8\n",
        "Validation Error = 0.6\n",
        "Epoch= 90\n",
        "Training   Error = 0.7\n",
        "Validation Error = 0.6\n",
        "Epoch= 91\n",
        "Training   Error = 0.7\n",
        "Validation Error = 0.3\n",
        "Epoch= 92\n",
        "Training   Error = 0.7\n",
        "Validation Error = 0.3\n",
        "Epoch= 93\n",
        "Training   Error = 0.9\n",
        "Validation Error = 0.3\n",
        "Epoch= 94\n",
        "Training   Error = 0.6\n",
        "Validation Error = 0.3\n",
        "Epoch= 95\n",
        "Training   Error = 0.7\n",
        "Validation Error = 0.3\n",
        "Epoch= 96\n",
        "Training   Error = 0.3\n",
        "Validation Error = 0.3\n",
        "Epoch= 97\n",
        "Training   Error = 0.6\n",
        "Validation Error = 0.3\n",
        "Epoch= 98\n",
        "Training   Error = 0.8\n",
        "Validation Error = 0.3\n",
        "Epoch= 99\n",
        "Training   Error = 0.5\n",
        "Validation Error = 0.3\n",
        "Epoch= 100\n",
        "Training   Error = 0.6\n",
        "Validation Error = 0.3\n",
        "Epoch= 101\n",
        "Training   Error = 1.0\n",
        "Validation Error = 0.6\n",
        "Epoch= 102\n",
        "Training   Error = 0.7\n",
        "Validation Error = 0.6\n",
        "Epoch="
       ]
      },
      {
       "output_type": "stream",
       "stream": "stdout",
       "text": [
        " 103\n",
        "Training   Error = 0.8\n",
        "Validation Error = 0.6\n",
        "Epoch= 104\n",
        "Training   Error = 0.7\n",
        "Validation Error = 0.6\n",
        "Epoch= 105\n",
        "Training   Error = 0.8\n",
        "Validation Error = 0.6\n",
        "Epoch= 106\n",
        "Training   Error = 0.7\n",
        "Validation Error = 0.6\n",
        "Epoch= 107\n",
        "Training   Error = 0.8\n",
        "Validation Error = 0.6\n",
        "Epoch= 108\n",
        "Training   Error = 0.5\n",
        "Validation Error = 0.6\n",
        "Epoch= 109\n",
        "Training   Error = 0.6\n",
        "Validation Error = 0.6\n",
        "Epoch= 110\n",
        "Training   Error = 0.8\n",
        "Validation Error = 0.6\n",
        "Epoch= 111\n",
        "Training   Error = 0.6\n",
        "Validation Error = 0.5\n",
        "Epoch= 112\n",
        "Training   Error = 0.6\n",
        "Validation Error = 0.5\n",
        "Epoch= 113\n",
        "Training   Error = 0.8\n",
        "Validation Error = 0.5\n",
        "Epoch= 114\n",
        "Training   Error = 0.6\n",
        "Validation Error = 0.5\n",
        "Epoch= 115\n",
        "Training   Error = 0.8\n",
        "Validation Error = 0.5\n",
        "Epoch= 116\n",
        "Training   Error = 0.9\n",
        "Validation Error = 0.5\n",
        "Epoch= 117\n",
        "Training   Error = 0.4\n",
        "Validation Error = 0.5\n",
        "Epoch= 118\n",
        "Training   Error = 0.5\n",
        "Validation Error = 0.5\n",
        "Epoch= 119\n",
        "Training   Error = 0.6\n",
        "Validation Error = 0.5\n",
        "Epoch= 120\n",
        "Training   Error = 0.7\n",
        "Validation Error = 0.5\n",
        "Epoch= 121\n",
        "Training   Error = 0.7\n",
        "Validation Error = 0.4\n",
        "Epoch= 122\n",
        "Training   Error = 0.7\n",
        "Validation Error = 0.4\n",
        "Epoch="
       ]
      },
      {
       "output_type": "stream",
       "stream": "stdout",
       "text": [
        " 123\n",
        "Training   Error = 0.6\n",
        "Validation Error = 0.4\n",
        "Epoch= 124\n",
        "Training   Error = 0.7\n",
        "Validation Error = 0.4\n",
        "Epoch= 125\n",
        "Training   Error = 0.7\n",
        "Validation Error = 0.4\n",
        "Epoch= 126\n",
        "Training   Error = 0.8\n",
        "Validation Error = 0.4\n",
        "Epoch= 127\n",
        "Training   Error = 0.7\n",
        "Validation Error = 0.4\n",
        "Epoch= 128\n",
        "Training   Error = 0.5\n",
        "Validation Error = 0.4\n",
        "Epoch= 129\n",
        "Training   Error = 0.6\n",
        "Validation Error = 0.4\n",
        "Epoch= 130\n",
        "Training   Error = 0.6\n",
        "Validation Error = 0.4\n",
        "Samples="
       ]
      },
      {
       "output_type": "stream",
       "stream": "stdout",
       "text": [
        " 100000     Hid. Layers= 1    Hid. Neurons= 200    F.O.M. train set= 0.3909875    FOM valid. set= 0.3925  Time= 10.0  Max Cut= 0.05\n"
       ]
      },
      {
       "output_type": "stream",
       "stream": "stderr",
       "text": [
        "WARNING (theano.gof.cmodule): Removing key file /root/.theano/compiledir_Linux-2.6-el6.x86_64-x86_64-with-redhat-6.6-Carbon-x86_64-2.7.8-64/tmpOywr8J/key.pkl because the corresponding module is gone from the file system.\n"
       ]
      },
      {
       "output_type": "stream",
       "stream": "stderr",
       "text": [
        "WARNING:theano.gof.cmodule:Removing key file /root/.theano/compiledir_Linux-2.6-el6.x86_64-x86_64-with-redhat-6.6-Carbon-x86_64-2.7.8-64/tmpOywr8J/key.pkl because the corresponding module is gone from the file system.\n"
       ]
      },
      {
       "output_type": "stream",
       "stream": "stderr",
       "text": [
        "WARNING (theano.gof.cmodule): Removing key file /root/.theano/compiledir_Linux-2.6-el6.x86_64-x86_64-with-redhat-6.6-Carbon-x86_64-2.7.8-64/tmpEYOWAH/key.pkl because the corresponding module is gone from the file system.\n"
       ]
      },
      {
       "output_type": "stream",
       "stream": "stderr",
       "text": [
        "WARNING:theano.gof.cmodule:Removing key file /root/.theano/compiledir_Linux-2.6-el6.x86_64-x86_64-with-redhat-6.6-Carbon-x86_64-2.7.8-64/tmpEYOWAH/key.pkl because the corresponding module is gone from the file system.\n"
       ]
      },
      {
       "output_type": "stream",
       "stream": "stderr",
       "text": [
        "WARNING (theano.gof.cmodule): Removing key file /root/.theano/compiledir_Linux-2.6-el6.x86_64-x86_64-with-redhat-6.6-Carbon-x86_64-2.7.8-64/tmpJJ0xhj/key.pkl because the corresponding module is gone from the file system.\n"
       ]
      },
      {
       "output_type": "stream",
       "stream": "stderr",
       "text": [
        "WARNING:theano.gof.cmodule:Removing key file /root/.theano/compiledir_Linux-2.6-el6.x86_64-x86_64-with-redhat-6.6-Carbon-x86_64-2.7.8-64/tmpJJ0xhj/key.pkl because the corresponding module is gone from the file system.\n"
       ]
      },
      {
       "output_type": "stream",
       "stream": "stderr",
       "text": [
        "WARNING (theano.gof.cmodule): Removing key file /root/.theano/compiledir_Linux-2.6-el6.x86_64-x86_64-with-redhat-6.6-Carbon-x86_64-2.7.8-64/tmp5l0J74/key.pkl because the corresponding module is gone from the file system.\n"
       ]
      },
      {
       "output_type": "stream",
       "stream": "stderr",
       "text": [
        "WARNING:theano.gof.cmodule:Removing key file /root/.theano/compiledir_Linux-2.6-el6.x86_64-x86_64-with-redhat-6.6-Carbon-x86_64-2.7.8-64/tmp5l0J74/key.pkl because the corresponding module is gone from the file system.\n"
       ]
      },
      {
       "output_type": "stream",
       "stream": "stderr",
       "text": [
        "WARNING (theano.gof.cmodule): Removing key file /root/.theano/compiledir_Linux-2.6-el6.x86_64-x86_64-with-redhat-6.6-Carbon-x86_64-2.7.8-64/tmpuZkOp7/key.pkl because the corresponding module is gone from the file system.\n"
       ]
      },
      {
       "output_type": "stream",
       "stream": "stderr",
       "text": [
        "WARNING:theano.gof.cmodule:Removing key file /root/.theano/compiledir_Linux-2.6-el6.x86_64-x86_64-with-redhat-6.6-Carbon-x86_64-2.7.8-64/tmpuZkOp7/key.pkl because the corresponding module is gone from the file system.\n"
       ]
      },
      {
       "output_type": "stream",
       "stream": "stderr",
       "text": [
        "WARNING (theano.gof.cmodule): Removing key file /root/.theano/compiledir_Linux-2.6-el6.x86_64-x86_64-with-redhat-6.6-Carbon-x86_64-2.7.8-64/tmpbsLHpR/key.pkl because the corresponding module is gone from the file system.\n"
       ]
      },
      {
       "output_type": "stream",
       "stream": "stderr",
       "text": [
        "WARNING:theano.gof.cmodule:Removing key file /root/.theano/compiledir_Linux-2.6-el6.x86_64-x86_64-with-redhat-6.6-Carbon-x86_64-2.7.8-64/tmpbsLHpR/key.pkl because the corresponding module is gone from the file system.\n"
       ]
      },
      {
       "output_type": "stream",
       "stream": "stderr",
       "text": [
        "WARNING (theano.gof.cmodule): Removing key file /root/.theano/compiledir_Linux-2.6-el6.x86_64-x86_64-with-redhat-6.6-Carbon-x86_64-2.7.8-64/tmpTJeULh/key.pkl because the corresponding module is gone from the file system.\n"
       ]
      },
      {
       "output_type": "stream",
       "stream": "stderr",
       "text": [
        "WARNING:theano.gof.cmodule:Removing key file /root/.theano/compiledir_Linux-2.6-el6.x86_64-x86_64-with-redhat-6.6-Carbon-x86_64-2.7.8-64/tmpTJeULh/key.pkl because the corresponding module is gone from the file system.\n"
       ]
      },
      {
       "output_type": "stream",
       "stream": "stderr",
       "text": [
        "WARNING (theano.gof.cmodule): Removing key file /root/.theano/compiledir_Linux-2.6-el6.x86_64-x86_64-with-redhat-6.6-Carbon-x86_64-2.7.8-64/tmp2HE8lt/key.pkl because the corresponding module is gone from the file system.\n"
       ]
      },
      {
       "output_type": "stream",
       "stream": "stderr",
       "text": [
        "WARNING:theano.gof.cmodule:Removing key file /root/.theano/compiledir_Linux-2.6-el6.x86_64-x86_64-with-redhat-6.6-Carbon-x86_64-2.7.8-64/tmp2HE8lt/key.pkl because the corresponding module is gone from the file system.\n"
       ]
      }
     ],
     "prompt_number": 39
    },
    {
     "cell_type": "code",
     "collapsed": false,
     "input": [
      "# Load network\n",
      "\n",
      "Layers_Weights =[]                                 #list of tuples: [(nNeurons, weights), ( tuple of the 3rd layer ), (  4th layer), .... ]\n",
      "\n",
      "for Layer in experiment.layers[1:]:\n",
      "    nNeurons  = Layer.size\n",
      "    Weights1  = experiment.find(Layer.name, 'w').get_value()\n",
      "    Layers_Weights.append((nNeurons, Weights1))                    # Layers_Weights -> only Hidden Layer(s) & Output Layer"
     ],
     "language": "python",
     "metadata": {},
     "outputs": []
    },
    {
     "cell_type": "code",
     "collapsed": false,
     "input": [
      "abs_max=0\n",
      "for layer_num, weights in enumerate(Layers_Weights):   \n",
      "    abs_max = max(abs_max, np.max(weights[1]))\n",
      "print abs_max\n",
      "for layer_num, weights in enumerate(Layers_Weights):   \n",
      "    for i, neuron in enumerate(weights[1]):\n",
      "        for j,iW in enumerate(neuron):\n",
      "            Layers_Weights[layer_num][1][i][j]=float(iW) / float(abs_max)"
     ],
     "language": "python",
     "metadata": {},
     "outputs": []
    },
    {
     "cell_type": "code",
     "collapsed": false,
     "input": [
      "# Step 4      : Weight Normalization using algorithm: Model-Based Normalization\n",
      "\n",
      "for layer_num, weights in enumerate(Layers_Weights):   \n",
      "    max_pos_input = 0\n",
      "    for i, neuron in enumerate(weights[1]):\n",
      "        input_sum = 0\n",
      "        for iW in neuron:\n",
      "            input_sum += max(0, iW)\n",
      "        max_pos_input = max(max_pos_input, input_sum)\n",
      "    print max_pos_input,\"for layer\",layer_num\n",
      "    for i, neuron in enumerate(weights[1]):\n",
      "        j=0                                   \n",
      "        for iW in neuron:\n",
      "            #Layers_Weights[layer_num][1][i][j]=float(iW) / float(max_pos_input)    # Rescale all weights\n",
      "            j+=1"
     ],
     "language": "python",
     "metadata": {},
     "outputs": [
      {
       "output_type": "stream",
       "stream": "stdout",
       "text": [
        "10.956948922 for layer 0\n",
        "0.024085800402 for layer 1\n"
       ]
      }
     ],
     "prompt_number": 63
    },
    {
     "cell_type": "code",
     "collapsed": false,
     "input": [
      "reinit_default_clock()\n",
      "clear(True)\n",
      "# Spiking Neural Network :\n",
      "\n",
      "# IF Model : http://www.briansimulator.org/docs/tutorial_1a_the_simplest_brian_program.html\n",
      "#          : http://icwww.epfl.ch/~gerstner/SPNM/node26.html\n",
      "\n",
      "# Membrane time constant:  tau_m = 10 * ms\n",
      "# Reset potential       :  v = 0 * mV\n",
      "# Threshold potential   :  v = 15 * mV\n",
      "# Equation              :  dv/dt =  -v/tau_m : volt \n",
      "\n",
      "tau_m = 5000 * ms \n",
      "v_r   = 0    * mV \n",
      "v_th  = 1000 * mV # threshold potential\n",
      "\n",
      "eqs = '''\n",
      "dv/dt = -v/tau_m : volt\n",
      "'''\n",
      "\n",
      "# Build populations\n",
      "pops=[]\n",
      "conns=[]\n",
      "\n",
      "pops.append(PoissonGroup(82))            # Input Layer\n",
      "\n",
      "for (layer_num, layer_size) in enumerate(Layers_Weights):\n",
      "    pops.append(NeuronGroup(layer_size[0], eqs, threshold=v_th ,reset=v_r))   # Hidden Layer(s) + Output\n",
      "for (layer_num, weights) in enumerate(Layers_Weights):\n",
      "    c = Connection(pops[layer_num], pops[layer_num+1], 'v', weight=weights[1]*1000*mV)   # , sparseness=0.1)\n",
      "    conns.append(c)"
     ],
     "language": "python",
     "metadata": {},
     "outputs": [],
     "prompt_number": 12
    },
    {
     "cell_type": "code",
     "collapsed": false,
     "input": [
      "pops[1].v =0\n",
      "pops[1].v"
     ],
     "language": "python",
     "metadata": {},
     "outputs": [
      {
       "metadata": {},
       "output_type": "pyout",
       "prompt_number": 13,
       "text": [
        "array([ 0.,  0.,  0.,  0.,  0.,  0.,  0.,  0.,  0.,  0.,  0.,  0.,  0.,\n",
        "        0.,  0.,  0.,  0.,  0.,  0.,  0.,  0.,  0.,  0.,  0.,  0.,  0.,\n",
        "        0.,  0.,  0.,  0.,  0.,  0.,  0.,  0.,  0.,  0.,  0.,  0.,  0.,\n",
        "        0.,  0.,  0.,  0.,  0.,  0.,  0.,  0.,  0.,  0.,  0.,  0.,  0.,\n",
        "        0.,  0.,  0.,  0.,  0.,  0.,  0.,  0.,  0.,  0.,  0.,  0.,  0.,\n",
        "        0.,  0.,  0.,  0.,  0.,  0.,  0.,  0.,  0.,  0.,  0.,  0.,  0.,\n",
        "        0.,  0.,  0.,  0.,  0.,  0.,  0.,  0.,  0.,  0.,  0.,  0.,  0.,\n",
        "        0.,  0.,  0.,  0.,  0.,  0.,  0.,  0.,  0.,  0.,  0.,  0.,  0.,\n",
        "        0.,  0.,  0.,  0.,  0.,  0.,  0.,  0.,  0.,  0.,  0.,  0.,  0.,\n",
        "        0.,  0.,  0.,  0.,  0.,  0.,  0.,  0.,  0.,  0.,  0.,  0.,  0.,\n",
        "        0.,  0.,  0.,  0.,  0.,  0.,  0.,  0.,  0.,  0.,  0.,  0.,  0.,\n",
        "        0.,  0.,  0.,  0.,  0.,  0.,  0.,  0.,  0.,  0.,  0.,  0.,  0.,\n",
        "        0.,  0.,  0.,  0.,  0.,  0.,  0.,  0.,  0.,  0.,  0.,  0.,  0.,\n",
        "        0.,  0.,  0.,  0.,  0.,  0.,  0.,  0.,  0.,  0.,  0.,  0.,  0.,\n",
        "        0.,  0.,  0.,  0.,  0.,  0.,  0.,  0.,  0.,  0.,  0.,  0.,  0.,\n",
        "        0.,  0.,  0.,  0.,  0.])"
       ]
      }
     ],
     "prompt_number": 13
    },
    {
     "cell_type": "code",
     "collapsed": false,
     "input": [
      "conns[0][0,0]"
     ],
     "language": "python",
     "metadata": {},
     "outputs": [
      {
       "metadata": {},
       "output_type": "pyout",
       "prompt_number": 14,
       "text": [
        "-0.0068417279909194096"
       ]
      }
     ],
     "prompt_number": 14
    },
    {
     "cell_type": "code",
     "collapsed": false,
     "input": [
      "# Model-Based Normalization"
     ],
     "language": "python",
     "metadata": {},
     "outputs": [],
     "prompt_number": 15
    },
    {
     "cell_type": "code",
     "collapsed": false,
     "input": [
      "def emulate(index):\n",
      "    in_value = train[0][index]\n",
      "    target = train[1][index]\n",
      "\n",
      "    pops[0].rate = in_value*Hz\n",
      "\n",
      "    Mv   = StateMonitor(pops[-1], 'v', record=True)\n",
      "    Cout = SpikeCounter(pops[-1])\n",
      "    Cmid = SpikeCounter(pops[1])\n",
      "    Cin  = SpikeCounter(pops[0])\n",
      "\n",
      "    Mout = SpikeMonitor(pops[-1])\n",
      "    Min  = SpikeMonitor(pops[0])\n",
      "\n",
      "    run(5.0*second)\n",
      "\n",
      "    print \" ------------- Sample: \",index, \" -------------\"\n",
      "    print \"Given Inputs:\",  \"                                                              Given Target:\", target\n",
      "    print in_value\n",
      "    \n",
      "    print \"\"\n",
      "    print \"Spiking\"\n",
      "    print \"Input Layer=\"         ,Cin.count\n",
      "    print \"First Hidden Layer=\"  ,Cmid.count\n",
      "    print \"Output Layer =\"       ,Cout.count\n",
      "\n",
      "    plot(Mv.times/ms, Mv[0]/mV)\n",
      "    plt.xlabel(\"Time (ms)\")\n",
      "    plt.ylabel(\"Voltage (mV)\")\n",
      "    show()\n",
      "    \n",
      "    \n",
      "    #raster_plot(Mout)\n",
      "    #show()\n",
      "    #raster_plot(Min)\n",
      "    #show()"
     ],
     "language": "python",
     "metadata": {},
     "outputs": [],
     "prompt_number": 15
    },
    {
     "cell_type": "code",
     "collapsed": false,
     "input": [
      "emulate(0)"
     ],
     "language": "python",
     "metadata": {},
     "outputs": [
      {
       "output_type": "stream",
       "stream": "stdout",
       "text": [
        " ------------- Sample:  0  -------------\n",
        "Given Inputs:                                                               Given Target: [ 0.]\n",
        "[ 16.80667114  11.27456379  10.51134396  13.86901093  16.37549973\n",
        "   6.03183746  11.30953884   1.27181816  18.33466339   9.54668045\n",
        "   7.23787355  18.04201508  15.045228     8.47550011   7.20095205   0.\n",
        "  15.18261719   8.3663702    7.65065527  12.85144901   0.           0.           0.\n",
        "   0.           0.           0.           0.           0.           0.           0.\n",
        "   0.           0.           0.           0.           0.           0.           0.\n",
        "   0.           0.           0.           0.           0.           0.           0.\n",
        "   0.           0.           0.           0.           0.           0.           0.\n",
        "   0.           0.           0.           0.           0.           0.           0.\n",
        "   0.           0.           0.           0.           0.           0.           0.\n",
        "   0.           0.           0.           0.           0.           0.           0.\n",
        "   0.           0.           0.           0.           0.           0.           0.\n",
        "   0.           9.82641602   5.16712093]\n",
        "\n",
        "Spiking\n",
        "Input Layer= [92 62 50 61 88 40 71 14 91 49 37 89 73 52 35  0 79 42 34 59  0  0  0  0  0\n",
        "  0  0  0  0  0  0  0  0  0  0  0  0  0  0  0  0  0  0  0  0  0  0  0  0  0\n",
        "  0  0  0  0  0  0  0  0  0  0  0  0  0  0  0  0  0  0  0  0  0  0  0  0  0\n",
        "  0  0  0  0  0 52 43]\n",
        "First Hidden Layer= [ 36 381  30  31 383 381 381 382  37  41  51  27  32  35  35  30 385  30\n",
        "  37  33  29  31 382 381 381 381 381  30  31  31  34  46 398  35  26 395\n",
        "  32  43  31  30  27 384  29  30  32 385 381  34  26  35  30  32 388 381\n",
        "  27  35 381 388 385  30  33  29 381  29  28 382  28  30 381 381 386 381\n",
        " 387 381 381 384 381  31  43 385 381  32 388 384 392  48 381  30  30 385\n",
        " 381 387  37  46  51 381 382  30 382 386  29 381 387  44  32  32 381 389\n",
        " 384 395  31  49 389 381  35  32 381  27  30 387  30 381  31 386  37  51\n",
        "  32 381 381  51  37  29 381  32  29 381 381  32 381  31 381 383 382  30\n",
        "  45  33  45 383 381 382 382  36 381 384 381  30  32 384  28 384 382  33\n",
        "  49  58  33 381 386 381 385 382 381  38  28 383 384 393 382  29 382 389\n",
        "  29  34  45 386  33 381  30  45  30  32 383 384  40  31 381 381  52  27\n",
        "  48 381]\n",
        "Output Layer = [0]\n"
       ]
      },
      {
       "metadata": {},
       "output_type": "display_data",
       "png": "[encoded data removed]",
       "text": [
        "<matplotlib.figure.Figure at 0x7fdcf8ffbc50>"
       ]
      }
     ],
     "prompt_number": 16
    },
    {
     "cell_type": "code",
     "collapsed": false,
     "input": [
      "emulate(1)"
     ],
     "language": "python",
     "metadata": {},
     "outputs": [
      {
       "output_type": "stream",
       "stream": "stdout",
       "text": [
        " ------------- Sample:  1  -------------\n",
        "Given Inputs:                                                               Given Target: [ 0.]\n",
        "[ 20.18263435  11.30976295  15.59121037   0.          19.60983658\n",
        "   4.29410553   8.04539871  17.52112007  12.94768524   8.72885609\n",
        "   5.22983932   7.35402584  19.36964035   7.41294479   8.23366261\n",
        "   0.24747849   0.           0.           0.           0.           0.           0.\n",
        "   0.           0.           0.           0.           0.           0.           0.\n",
        "   0.           0.           0.           0.           0.           0.           0.\n",
        "   0.           0.           0.           0.           0.           0.           0.\n",
        "   0.           0.           0.           0.           0.           0.           0.\n",
        "   0.           0.           0.           0.           0.           0.           0.\n",
        "   0.           0.           0.           0.           0.           0.           0.\n",
        "   0.           0.           0.           0.           0.           0.           0.\n",
        "   0.           0.           0.           0.           0.           0.           0.\n",
        "   0.           0.           8.08284569   8.95333004]\n",
        "\n",
        "Spiking\n",
        "Input Layer= [100  57  69   0 103  17  37  90  67  43  24  37  91  29  35   1   0   0\n",
        "   0   0   0   0   0   0   0   0   0   0   0   0   0   0   0   0   0   0\n",
        "   0   0   0   0   0   0   0   0   0   0   0   0   0   0   0   0   0   0\n",
        "   0   0   0   0   0   0   0   0   0   0   0   0   0   0   0   0   0   0\n",
        "   0   0   0   0   0   0   0   0  38  45]\n",
        "First Hidden Layer= [  0 293   0   0 292 292 293 292   0   0   5   0   0   0   0   0 295   0\n",
        "   1   0   0   0 292 292 292 295 292   0   0   0   0   5 330   0   0 295\n",
        "   0   3   0   0   0 295   0   0   0 298 292   0   0   0   0   0 293 292\n",
        "   0   5 292 300 298   0   0   0 292   0   0 292   0   0 292 292 296 292\n",
        " 296 292 292 292 292   0   1 292 292   0 295 301 303   3 292   0   0 295\n",
        " 292 297   0   0   0 295 292   0 292 292   0 293 293   0   0   0 292 294\n",
        " 310 302   0   6 293 292   0   0 292   0   0 292   0 292   0 294   8   3\n",
        "   0 292 292   5   0   0 292   0   0 292 292   0 292   0 292 292 293   0\n",
        "   2   0   4 298 292 292 292   0 292 300 292   0   0 292   0 298 294   0\n",
        "   3   7   2 292 294 293 292 293 292   1   0 293 292 293 293   0 295 292\n",
        "   0   1   0 293   0 293   0   7   0   0 296 296   0   0 292 293   3   0\n",
        "   2 292]\n",
        "Output Layer = [0]\n"
       ]
      },
      {
       "metadata": {},
       "output_type": "display_data",
       "png": "[encoded data removed]",
       "text": [
        "<matplotlib.figure.Figure at 0x7fdce07e2d90>"
       ]
      }
     ],
     "prompt_number": 17
    },
    {
     "cell_type": "code",
     "collapsed": false,
     "input": [
      "emulate(2)"
     ],
     "language": "python",
     "metadata": {},
     "outputs": [
      {
       "output_type": "stream",
       "stream": "stdout",
       "text": [
        " ------------- Sample:  2  -------------\n",
        "Given Inputs:                                                               Given Target: [ 1.]\n",
        "[  8.48667526   5.24193239   6.90290213   3.30880976  10.72842979\n",
        "   5.88240814   3.04137874   9.5026741    6.25680923   3.89672327\n",
        "   4.31376314   0.           0.           0.           0.           0.           0.\n",
        "   0.           0.           0.           0.           0.           0.           0.\n",
        "   0.           0.           0.           0.           0.           0.           0.\n",
        "   0.           0.           0.           0.           0.           0.           0.\n",
        "   0.           0.           0.           0.           0.           0.           0.\n",
        "   0.           0.           0.           0.           0.           0.           0.\n",
        "   0.           0.           0.           0.           0.           0.           0.\n",
        "   0.           0.           0.           0.           0.           0.           0.\n",
        "   0.           0.           0.           0.           0.           0.           0.\n",
        "   0.           0.           0.           0.           0.           0.           0.\n",
        "   1.67394209   5.04522991]\n",
        "\n",
        "Spiking\n",
        "Input Layer= [45 23 30 10 58 31 14 58 25 15 23  0  0  0  0  0  0  0  0  0  0  0  0  0  0\n",
        "  0  0  0  0  0  0  0  0  0  0  0  0  0  0  0  0  0  0  0  0  0  0  0  0  0\n",
        "  0  0  0  0  0  0  0  0  0  0  0  0  0  0  0  0  0  0  0  0  0  0  0  0  0\n",
        "  0  0  0  0  0  3 21]\n",
        "First Hidden Layer= [0 0 0 0 0 0 0 0 0 0 0 0 0 0 0 0 1 0 1 0 0 0 0 1 0 0 0 0 0 0 0 0 0 0 0 0 1\n",
        " 0 1 0 0 0 1 0 0 0 0 0 0 0 0 0 0 0 0 0 0 0 0 0 0 0 0 0 0 0 0 5 0 1 0 0 0 0\n",
        " 0 0 2 0 0 0 0 0 0 0 0 0 0 0 0 0 0 0 1 0 0 0 0 0 0 1 0 0 0 0 0 0 0 1 0 0 0\n",
        " 0 0 0 0 0 1 0 0 0 0 0 0 0 0 0 0 1 0 0 0 0 0 0 0 0 0 0 0 0 0 0 0 0 0 0 2 0\n",
        " 0 2 0 6 0 0 1 0 0 0 2 0 0 0 2 0 1 0 0 0 0 1 0 0 0 0 0 0 0 0 0 0 0 0 0 0 0\n",
        " 0 0 0 0 1 0 0 0 0 2 0 0 0 0 0]\n",
        "Output Layer = [0]\n"
       ]
      },
      {
       "metadata": {},
       "output_type": "display_data",
       "png": "[encoded data removed]",
       "text": [
        "<matplotlib.figure.Figure at 0x7f81ba80dcd0>"
       ]
      }
     ],
     "prompt_number": 22
    },
    {
     "cell_type": "code",
     "collapsed": false,
     "input": [
      "                                                \n",
      "emulate(25)"
     ],
     "language": "python",
     "metadata": {},
     "outputs": [
      {
       "output_type": "stream",
       "stream": "stdout",
       "text": [
        " ------------- Sample:  25  -------------\n",
        "Given Inputs:                                                               Given Target: [ 1.]\n",
        "[ 17.38028526   0.39839554   9.40573692   0.          16.09911346\n",
        "   2.76607704  12.03481674   5.29946566  22.51858902   6.11639071\n",
        "  10.98604012   4.91439295  11.23464298   5.66585398  10.67743587\n",
        "   7.25254631  17.08579826  10.32454967   9.29169559   1.84202099\n",
        "  22.25771713  10.48590469   5.81002235   6.79015589  15.29386139\n",
        "   6.01898956   6.89363766   5.61283064  13.84298897   7.67221403\n",
        "   7.69472408  13.27347183   0.           0.           0.           0.           0.\n",
        "   0.           0.           0.           0.           0.           0.           0.\n",
        "   0.           0.           0.           0.           0.           0.           0.\n",
        "   0.           0.           0.           0.           0.           0.           0.\n",
        "   0.           0.           0.           0.           0.           0.           0.\n",
        "   0.           0.           0.           0.           0.           0.           0.\n",
        "   0.           0.           0.           0.           0.           0.           0.\n",
        "   0.           9.6785965    8.85594082]\n",
        "\n",
        "Spiking\n",
        "Input Layer= [ 92   3  41   0  83  12  54  23 111  25  51  21  49  28  46  41  81  60\n",
        "  62  12  97  45  29  35  65  30  29  31  71  28  55  60   0   0   0   0\n",
        "   0   0   0   0   0   0   0   0   0   0   0   0   0   0   0   0   0   0\n",
        "   0   0   0   0   0   0   0   0   0   0   0   0   0   0   0   0   0   0\n",
        "   0   0   0   0   0   0   0   0  54  62]\n",
        "First Hidden Layer= [ 0  0  0  0  0  0  1  0  0  0  0  0  0  0  0  4  4  0  0  0  2  1  0  0  0\n",
        "  0  0  0  0  3  0  1  0  0  2  0  0  0  0  0  0  2  1  0  0  0  5  0  0  0\n",
        "  1  0  0  0  3  0  1  0  0  0  1  1  0  0  5  0  2  8  0  0  0  0  0  0  0\n",
        "  0  4  4  0  0  0  0  0  2  0  0  0  1  0  0  6  0  0  3  0  0  0  0  0  0\n",
        "  1  7  0  0  0  0  0  0  0  0  0  0  0  0  0  4  5  3  0  1  1  0  0  0  2\n",
        "  0  0  3  0  9  0  0  2  0  0  0  0  0  0  0  1  0  0  0  0  0  4  4  2  2\n",
        "  0  7  0  0  0 23  0  0  5  0  1  5  0  0  3  2  0  1  0  5  0  1  0  0  0\n",
        "  0  0  0  0  0  0  1  0  0  0  0  1  0  1  2  2  0  0  4  3  0  0  2  0  0]\n",
        "Output Layer = [0]\n"
       ]
      },
      {
       "metadata": {},
       "output_type": "display_data",
       "png": "[encoded data removed]",
       "text": [
        "<matplotlib.figure.Figure at 0x7f81c21618d0>"
       ]
      }
     ],
     "prompt_number": 23
    },
    {
     "cell_type": "code",
     "collapsed": false,
     "input": [],
     "language": "python",
     "metadata": {},
     "outputs": []
    }
   ],
   "metadata": {}
  }
 ]
}