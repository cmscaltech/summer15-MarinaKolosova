{
 "metadata": {
  "name": "",
  "signature": "sha256:7ec7f4591d8f7a9f951ed8ef8b34ded004c1ae9466ab614b7fe7aa9a32f6a192"
 },
 "nbformat": 3,
 "nbformat_minor": 0,
 "worksheets": [
  {
   "cells": [
    {
     "cell_type": "code",
     "collapsed": false,
     "input": [
      "import h5py\n",
      "import theanets\n",
      "import time"
     ],
     "language": "python",
     "metadata": {},
     "outputs": [
      {
       "output_type": "stream",
       "stream": "stdout",
       "text": [
        "Couldn't import dot_parser, loading of dot files will not be possible.\n"
       ]
      }
     ],
     "prompt_number": 1
    },
    {
     "cell_type": "code",
     "collapsed": false,
     "input": [
      "f=h5py.File(\"data/data.hdf5\")\n",
      "f.keys()\n",
      "f['data'].keys()\n",
      "input_matrix     = f['data']['input'].value\n",
      "target_matrix    = f['data']['target'].value\n",
      "decorator_matrix = f['data']['deco'].value\n",
      "f.close()"
     ],
     "language": "python",
     "metadata": {},
     "outputs": [],
     "prompt_number": 2
    },
    {
     "cell_type": "code",
     "collapsed": false,
     "input": [
      "truncate=100000\n",
      "\n",
      "nInputs = input_matrix.shape[1]\n",
      "nOutputs = target_matrix.shape[1]\n",
      "\n",
      "input_matrix = input_matrix[0:truncate,...]\n",
      "target_matrix = target_matrix[0:truncate,...]\n",
      "decorator_matrix = decorator_matrix[0:truncate,...]"
     ],
     "language": "python",
     "metadata": {},
     "outputs": [],
     "prompt_number": 3
    },
    {
     "cell_type": "code",
     "collapsed": false,
     "input": [
      "def allincluded( truncated, nHiddenLayers, epochs, trainings,HiddenNeurons):\n",
      "    timing_start = time.mktime(time.gmtime())\n",
      "    fom = 1.0\n",
      "    \n",
      "    exp=theanets.Experiment(theanets.feedforward.Regressor(layers=(nInputs,)+tuple([HiddenNeurons for l in range(nHiddenLayers)])+ ( (nOutputs, 'sigmoid'),)),'layerwise')    \n",
      "        \n",
      "    cut   =int(input_matrix.shape[0]*0.8)\n",
      "    train =input_matrix[:cut], target_matrix[:cut]\n",
      "    valid =input_matrix[cut:], target_matrix[cut:]\n",
      "    \n",
      "    for i in range(0, epochs):\n",
      "        for j in range(trainings):\n",
      "            Start=time.mktime(time.gmtime())\n",
      "            exp.train(train, valid, algo='rmsprop', learning_rate=0.1/10**i, rms_regularizer=1e-8,momentum=0.9, rms_halflife=0.9 , batch_size=100)        \n",
      "            End=time.mktime(time.gmtime())\n",
      "\n",
      "    timing_end=time.mktime(time.gmtime())\n",
      "    \n",
      "    prediction = exp.network.predict(train[0])\n",
      "    goodness = np.asarray([[cut,(list(target_matrix[np.where(prediction>cut)]==1).count(True)+list(target_matrix[np.where(prediction<cut)]==0).count(True))/ float(input_matrix.shape[0])]  for cut in np.arange(0,1,0.05)])\n",
      "    fom = max( goodness[:,1])\n",
      "    \n",
      "    timing=timing_end-timing_start\n",
      "    return (fom, timing)"
     ],
     "language": "python",
     "metadata": {},
     "outputs": [],
     "prompt_number": 4
    },
    {
     "cell_type": "code",
     "collapsed": false,
     "input": [
      "# (Number of Samples, Hidden Layers, Epoch, Trainings, Timing, FOM) \n",
      "mapAlgo=[]"
     ],
     "language": "python",
     "metadata": {},
     "outputs": [],
     "prompt_number": 5
    },
    {
     "cell_type": "code",
     "collapsed": false,
     "input": [
      "print mapAlgo"
     ],
     "language": "python",
     "metadata": {},
     "outputs": [
      {
       "output_type": "stream",
       "stream": "stdout",
       "text": [
        "[]\n"
       ]
      }
     ],
     "prompt_number": 6
    },
    {
     "cell_type": "code",
     "collapsed": false,
     "input": [
      "HiddenNeurons=1000\n",
      "trainings=2\n",
      "epochs=20\n",
      "\n",
      "for iLayers in range(1,11):\n",
      "    truncate=10000\n",
      "    for j in range (10):\n",
      "    \n",
      "        input_matrix     = input_matrix[0:truncate,...]\n",
      "        target_matrix    = target_matrix[0:truncate,...]\n",
      "        decorator_matrix = decorator_matrix[0:truncate,...]\n",
      "    \n",
      "        fom, timing = allincluded(truncate,iLayers,epochs,trainings,HiddenNeurons)\n",
      "        mapAlgo.append((truncate,iLayers,epochs,trainings,timing,fom,HiddenNeurons))\n",
      "        print 'Samples=',truncate,'Hidden Layers=',iLayers, 'epochs=', epochs, 'trainings=', trainings, \"fom=\",fom,\" time=\", timing, 'Hidden Neurons=',HiddenNeurons \n",
      "        truncate+=10000"
     ],
     "language": "python",
     "metadata": {},
     "outputs": []
    },
    {
     "cell_type": "code",
     "collapsed": false,
     "input": [
      "print mapAlgo"
     ],
     "language": "python",
     "metadata": {},
     "outputs": []
    },
    {
     "cell_type": "code",
     "collapsed": false,
     "input": [],
     "language": "python",
     "metadata": {},
     "outputs": []
    }
   ],
   "metadata": {}
  }
 ]
}