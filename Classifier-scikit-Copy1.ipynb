{
 "metadata": {
  "name": "",
  "signature": "sha256:d659881d9f7faa119807f02409c40bed44119702b500acae6d2bdc5f5d26aebc"
 },
 "nbformat": 3,
 "nbformat_minor": 0,
 "worksheets": [
  {
   "cells": [
    {
     "cell_type": "code",
     "collapsed": false,
     "input": [
      "import h5py\n",
      "import time\n",
      "from sklearn import tree\n",
      "from sklearn.tree import DecisionTreeClassifier\n",
      "from matplotlib import pyplot"
     ],
     "language": "python",
     "metadata": {},
     "outputs": [],
     "prompt_number": 1
    },
    {
     "cell_type": "code",
     "collapsed": false,
     "input": [
      "f=h5py.File(\"data/data.hdf5\")\n",
      "f.keys()\n",
      "f['data'].keys()\n",
      "input_matrix     = f['data']['input'].value\n",
      "target_matrix    = f['data']['target'].value\n",
      "decorator_matrix = f['data']['deco'].value\n",
      "f.close()"
     ],
     "language": "python",
     "metadata": {},
     "outputs": [],
     "prompt_number": 2
    },
    {
     "cell_type": "code",
     "collapsed": false,
     "input": [
      "truncate=1000000\n",
      "\n",
      "input_matrix = input_matrix[0:truncate,...]\n",
      "target_matrix = target_matrix[0:truncate,...]\n",
      "decorator_matrix = decorator_matrix[0:truncate,...]"
     ],
     "language": "python",
     "metadata": {},
     "outputs": [],
     "prompt_number": 3
    },
    {
     "cell_type": "code",
     "collapsed": false,
     "input": [
      "def fom(target, prediction):\n",
      "    agree=0\n",
      "    disagree=0\n",
      "    for i in range(len(target)):\n",
      "        if(target[i]==prediction[i]):\n",
      "            agree+=1\n",
      "        else:\n",
      "            disagree+=1\n",
      "    #print agree,disagree     \n",
      "\n",
      "    return agree/float(len(target))"
     ],
     "language": "python",
     "metadata": {},
     "outputs": [],
     "prompt_number": 4
    },
    {
     "cell_type": "code",
     "collapsed": false,
     "input": [
      "def Parameters(truncate,         input_matrix, target_matrix, decorator_matrix,\n",
      "               class_weight_C,   criterion_C,  max_depth_C,   max_features_C,\n",
      "               max_leaf_nodes_C, min_samples_leaf_C,          min_samples_split_C,\n",
      "               min_weight_fraction_leaf_C, random_state_C,    splitter_C):\n",
      "    \n",
      "    \n",
      "    # Training & Validation Data\n",
      "    \n",
      "    input_matrix = input_matrix[0:truncate,...]\n",
      "    target_matrix = target_matrix[0:truncate,...]\n",
      "    decorator_matrix = decorator_matrix[0:truncate,...]\n",
      "\n",
      "    cut   =int(input_matrix.shape[0]*0.8)\n",
      "    train =input_matrix[:cut], target_matrix[:cut]\n",
      "    valid =input_matrix[cut:], target_matrix[cut:]\n",
      "    \n",
      "    # Define the Classifier \n",
      "    \n",
      "    clf = tree.DecisionTreeClassifier(class_weight              = class_weight_C,\n",
      "                                      criterion                 = criterion_C, \n",
      "                                      max_depth                 = max_depth_C,\n",
      "                                      max_features              = max_features_C, \n",
      "                                      max_leaf_nodes            = max_leaf_nodes_C,\n",
      "                                      min_samples_leaf          = min_samples_leaf_C,\n",
      "                                      min_samples_split         = min_samples_split_C, \n",
      "                                      min_weight_fraction_leaf  = min_weight_fraction_leaf_C,\n",
      "                                      random_state              = random_state_C, \n",
      "                                      splitter                  = splitter_C)\n",
      "    \n",
      "    timing=0\n",
      "    \n",
      "    timing_start = time.mktime(time.gmtime())\n",
      "    \n",
      "    clf = clf.fit(train[0],train[1])\n",
      "    \n",
      "    timing_end=time.mktime(time.gmtime())\n",
      "    \n",
      "    \n",
      "    \n",
      "    timing=timing_end-timing_start\n",
      "    \n",
      "    # Prediction\n",
      "    \n",
      "    prediction=clf.predict(train[0])\n",
      "    fom_train=fom(train[1],prediction)\n",
      "    \n",
      "    prediction=clf.predict(valid[0])\n",
      "    fom_valid=fom(valid[1],prediction)\n",
      "    \n",
      "    \n",
      "    # Results\n",
      "    \n",
      "    return fom_train, fom_valid, timing"
     ],
     "language": "python",
     "metadata": {},
     "outputs": [],
     "prompt_number": 5
    },
    {
     "cell_type": "code",
     "collapsed": false,
     "input": [
      "# mapAlgo:  list of tuples -> (  Samples, training FOM, validation FOM, time of training, class_weight_C, criterion_C, max_depth_C\n",
      "#                                max_features_C, max_leaf_nodes_C, min_samples_leaf_C, min_samples_split_C, min_weight_fraction_leaf_C,\n",
      "#                                random_state_C,    splitter_C  )\n",
      "\n",
      "mapAlgo=[]\n",
      "criterion     =['gini','entropy']\n",
      "splitter      =['best','random' ]\n",
      "max_features  =['auto','sqrt','log2',None]\n",
      "\n",
      "min_samples_split_C=2\n",
      "min_samples_leaf_C =1\n",
      "min_weight_fraction_leaf=0\n",
      "max_leaf_nodes=None\n",
      "class_weight_C=None\n",
      "random_state_C=None\n",
      "\n",
      "\n",
      "for Samples in range(100000,1000000,100000):\n",
      "    \n",
      "    for iF, iFeatures in enumerate(max_features):\n",
      "        for iC, iCriterion  in enumerate(criterion):\n",
      "            for iS, iSplitter in enumerate(splitter):\n",
      "                for max_depth_C in range(100,1000,100):\n",
      "                    fom_train, fom_valid, timing  =  Parameters (Samples, input_matrix, target_matrix, decorator_matrix,\n",
      "                                                                 class_weight_C,   iCriterion,  max_depth_C,    iFeatures,\n",
      "                                                                 max_leaf_nodes, min_samples_leaf_C,          min_samples_split_C,\n",
      "                                                                 min_weight_fraction_leaf, random_state_C,    iSplitter)\n",
      "            \n",
      "            \n",
      "                    print fom_train,\"    \", fom_valid, \"    \" ,timing\n",
      "                    mapAlgo.append((Samples, fom_train, fom_valid, timing, class_weight_C, iCriterion, max_depth_C, iFeatures, max_leaf_nodes, min_samples_leaf_C,\n",
      "                                    min_samples_leaf_C, min_weight_fraction_leaf, random_state_C, iSplitter))   \n",
      "  \n",
      "print mapAlgo\n",
      "    "
     ],
     "language": "python",
     "metadata": {},
     "outputs": [
      {
       "output_type": "stream",
       "stream": "stdout",
       "text": [
        "1.0      0.6851      1.0\n",
        "1.0"
       ]
      },
      {
       "output_type": "stream",
       "stream": "stdout",
       "text": [
        "      0.65805      1.0\n",
        "1.0"
       ]
      },
      {
       "output_type": "stream",
       "stream": "stdout",
       "text": [
        "      0.6961      2.0\n",
        "1.0"
       ]
      },
      {
       "output_type": "stream",
       "stream": "stdout",
       "text": [
        "      0.66015      2.0\n",
        "1.0"
       ]
      },
      {
       "output_type": "stream",
       "stream": "stdout",
       "text": [
        "      0.65355      2.0\n",
        "1.0"
       ]
      },
      {
       "output_type": "stream",
       "stream": "stdout",
       "text": [
        "      0.66735      2.0\n",
        "1.0"
       ]
      },
      {
       "output_type": "stream",
       "stream": "stdout",
       "text": [
        "      0.65775      1.0\n",
        "1.0"
       ]
      },
      {
       "output_type": "stream",
       "stream": "stdout",
       "text": [
        "      0.6764      1.0\n",
        "1.0"
       ]
      },
      {
       "output_type": "stream",
       "stream": "stdout",
       "text": [
        "      0.6418      1.0\n",
        "1.0"
       ]
      },
      {
       "output_type": "stream",
       "stream": "stdout",
       "text": [
        "      0.625      1.0\n",
        "1.0"
       ]
      },
      {
       "output_type": "stream",
       "stream": "stdout",
       "text": [
        "      0.60405      1.0\n",
        "1.0"
       ]
      },
      {
       "output_type": "stream",
       "stream": "stdout",
       "text": [
        "      0.6153      0.0\n",
        "1.0"
       ]
      },
      {
       "output_type": "stream",
       "stream": "stdout",
       "text": [
        "      0.60925      0.0\n",
        "1.0"
       ]
      },
      {
       "output_type": "stream",
       "stream": "stdout",
       "text": [
        "      0.62165      1.0\n",
        "1.0"
       ]
      },
      {
       "output_type": "stream",
       "stream": "stdout",
       "text": [
        "      0.6225      1.0\n",
        "1.0"
       ]
      },
      {
       "output_type": "stream",
       "stream": "stdout",
       "text": [
        "      0.6428      1.0\n",
        "1.0"
       ]
      },
      {
       "output_type": "stream",
       "stream": "stdout",
       "text": [
        "      0.60125      0.0\n",
        "1.0"
       ]
      },
      {
       "output_type": "stream",
       "stream": "stdout",
       "text": [
        "      0.62655      0.0\n",
        "1.0"
       ]
      },
      {
       "output_type": "stream",
       "stream": "stdout",
       "text": [
        "      0.66145      2.0\n",
        "1.0"
       ]
      },
      {
       "output_type": "stream",
       "stream": "stdout",
       "text": [
        "      0.6605      4.0\n",
        "1.0"
       ]
      },
      {
       "output_type": "stream",
       "stream": "stdout",
       "text": [
        "      0.6712      3.0\n",
        "1.0"
       ]
      },
      {
       "output_type": "stream",
       "stream": "stdout",
       "text": [
        "      0.6888      2.0\n",
        "1.0"
       ]
      },
      {
       "output_type": "stream",
       "stream": "stdout",
       "text": [
        "      0.68015      2.0\n",
        "1.0"
       ]
      },
      {
       "output_type": "stream",
       "stream": "stdout",
       "text": [
        "      0.66345      2.0\n",
        "1.0"
       ]
      },
      {
       "output_type": "stream",
       "stream": "stdout",
       "text": [
        "      0.6704      2.0\n",
        "1.0"
       ]
      },
      {
       "output_type": "stream",
       "stream": "stdout",
       "text": [
        "      0.66195      3.0\n",
        "1.0"
       ]
      },
      {
       "output_type": "stream",
       "stream": "stdout",
       "text": [
        "      0.681      2.0\n",
        "1.0"
       ]
      },
      {
       "output_type": "stream",
       "stream": "stdout",
       "text": [
        "      0.62065      1.0\n",
        "1.0"
       ]
      },
      {
       "output_type": "stream",
       "stream": "stdout",
       "text": [
        "      0.6185      1.0\n",
        "1.0"
       ]
      },
      {
       "output_type": "stream",
       "stream": "stdout",
       "text": [
        "      0.60725      0.0\n",
        "1.0"
       ]
      },
      {
       "output_type": "stream",
       "stream": "stdout",
       "text": [
        "      0.611      0.0\n",
        "1.0"
       ]
      },
      {
       "output_type": "stream",
       "stream": "stdout",
       "text": [
        "      0.63265      0.0\n",
        "1.0"
       ]
      },
      {
       "output_type": "stream",
       "stream": "stdout",
       "text": [
        "      0.6217      0.0\n",
        "1.0"
       ]
      },
      {
       "output_type": "stream",
       "stream": "stdout",
       "text": [
        "      0.61535      1.0\n",
        "1.0"
       ]
      },
      {
       "output_type": "stream",
       "stream": "stdout",
       "text": [
        "      0.628      1.0\n",
        "1.0"
       ]
      },
      {
       "output_type": "stream",
       "stream": "stdout",
       "text": [
        "      0.6098      1.0\n",
        "1.0"
       ]
      },
      {
       "output_type": "stream",
       "stream": "stdout",
       "text": [
        "      0.66815      1.0\n",
        "1.0"
       ]
      },
      {
       "output_type": "stream",
       "stream": "stdout",
       "text": [
        "      0.6633      2.0\n",
        "1.0"
       ]
      },
      {
       "output_type": "stream",
       "stream": "stdout",
       "text": [
        "      0.64635      1.0\n",
        "1.0"
       ]
      },
      {
       "output_type": "stream",
       "stream": "stdout",
       "text": [
        "      0.6799      1.0\n",
        "1.0"
       ]
      },
      {
       "output_type": "stream",
       "stream": "stdout",
       "text": [
        "      0.6641      1.0\n",
        "1.0"
       ]
      },
      {
       "output_type": "stream",
       "stream": "stdout",
       "text": [
        "      0.66445      1.0\n",
        "1.0"
       ]
      },
      {
       "output_type": "stream",
       "stream": "stdout",
       "text": [
        "      0.67275      1.0\n",
        "1.0"
       ]
      },
      {
       "output_type": "stream",
       "stream": "stdout",
       "text": [
        "      0.6803      1.0\n",
        "1.0"
       ]
      },
      {
       "output_type": "stream",
       "stream": "stdout",
       "text": [
        "      0.64375      1.0\n",
        "1.0"
       ]
      },
      {
       "output_type": "stream",
       "stream": "stdout",
       "text": [
        "      0.6028      0.0\n",
        "1.0"
       ]
      },
      {
       "output_type": "stream",
       "stream": "stdout",
       "text": [
        "      0.602      1.0\n",
        "1.0"
       ]
      },
      {
       "output_type": "stream",
       "stream": "stdout",
       "text": [
        "      0.63575      1.0\n",
        "1.0"
       ]
      },
      {
       "output_type": "stream",
       "stream": "stdout",
       "text": [
        "      0.60395      1.0\n",
        "1.0"
       ]
      },
      {
       "output_type": "stream",
       "stream": "stdout",
       "text": [
        "      0.60935      0.0\n",
        "1.0"
       ]
      },
      {
       "output_type": "stream",
       "stream": "stdout",
       "text": [
        "      0.61755      0.0\n",
        "1.0"
       ]
      },
      {
       "output_type": "stream",
       "stream": "stdout",
       "text": [
        "      0.62825      0.0\n",
        "1.0"
       ]
      },
      {
       "output_type": "stream",
       "stream": "stdout",
       "text": [
        "      0.60915      1.0\n",
        "1.0"
       ]
      },
      {
       "output_type": "stream",
       "stream": "stdout",
       "text": [
        "      0.61085      1.0\n",
        "1.0"
       ]
      },
      {
       "output_type": "stream",
       "stream": "stdout",
       "text": [
        "      0.67535      2.0\n",
        "1.0"
       ]
      },
      {
       "output_type": "stream",
       "stream": "stdout",
       "text": [
        "      0.6823      3.0\n",
        "1.0"
       ]
      },
      {
       "output_type": "stream",
       "stream": "stdout",
       "text": [
        "      0.67355      2.0\n",
        "1.0"
       ]
      },
      {
       "output_type": "stream",
       "stream": "stdout",
       "text": [
        "      0.676      3.0\n",
        "1.0"
       ]
      },
      {
       "output_type": "stream",
       "stream": "stdout",
       "text": [
        "      0.68125      2.0\n",
        "1.0"
       ]
      },
      {
       "output_type": "stream",
       "stream": "stdout",
       "text": [
        "      0.71365      2.0\n",
        "1.0"
       ]
      },
      {
       "output_type": "stream",
       "stream": "stdout",
       "text": [
        "      0.68545      2.0\n",
        "1.0"
       ]
      },
      {
       "output_type": "stream",
       "stream": "stdout",
       "text": [
        "      0.6713      2.0\n",
        "1.0"
       ]
      },
      {
       "output_type": "stream",
       "stream": "stdout",
       "text": [
        "      0.68405      2.0\n",
        "1.0"
       ]
      },
      {
       "output_type": "stream",
       "stream": "stdout",
       "text": [
        "      0.64195      1.0\n",
        "1.0"
       ]
      },
      {
       "output_type": "stream",
       "stream": "stdout",
       "text": [
        "      0.6159      1.0\n",
        "1.0"
       ]
      },
      {
       "output_type": "stream",
       "stream": "stdout",
       "text": [
        "      0.60325      1.0\n",
        "1.0"
       ]
      },
      {
       "output_type": "stream",
       "stream": "stdout",
       "text": [
        "      0.62105      1.0\n",
        "1.0"
       ]
      },
      {
       "output_type": "stream",
       "stream": "stdout",
       "text": [
        "      0.64325      1.0\n",
        "1.0"
       ]
      },
      {
       "output_type": "stream",
       "stream": "stdout",
       "text": [
        "      0.63545      1.0\n",
        "1.0"
       ]
      },
      {
       "output_type": "stream",
       "stream": "stdout",
       "text": [
        "      0.63115      0.0\n",
        "1.0"
       ]
      },
      {
       "output_type": "stream",
       "stream": "stdout",
       "text": [
        "      0.6139      0.0\n",
        "1.0"
       ]
      },
      {
       "output_type": "stream",
       "stream": "stdout",
       "text": [
        "      0.6126      0.0\n",
        "1.0"
       ]
      },
      {
       "output_type": "stream",
       "stream": "stdout",
       "text": [
        "      0.64605      1.0\n",
        "1.0"
       ]
      },
      {
       "output_type": "stream",
       "stream": "stdout",
       "text": [
        "      0.62525      1.0\n",
        "1.0"
       ]
      },
      {
       "output_type": "stream",
       "stream": "stdout",
       "text": [
        "      0.6645      1.0\n",
        "1.0"
       ]
      },
      {
       "output_type": "stream",
       "stream": "stdout",
       "text": [
        "      0.649      1.0\n",
        "1.0"
       ]
      },
      {
       "output_type": "stream",
       "stream": "stdout",
       "text": [
        "      0.6537      0.0\n",
        "1.0"
       ]
      },
      {
       "output_type": "stream",
       "stream": "stdout",
       "text": [
        "      0.62995      1.0\n",
        "1.0"
       ]
      },
      {
       "output_type": "stream",
       "stream": "stdout",
       "text": [
        "      0.64265      1.0\n",
        "1.0"
       ]
      },
      {
       "output_type": "stream",
       "stream": "stdout",
       "text": [
        "      0.6433      1.0\n",
        "1.0"
       ]
      },
      {
       "output_type": "stream",
       "stream": "stdout",
       "text": [
        "      0.6564      1.0\n",
        "1.0"
       ]
      },
      {
       "output_type": "stream",
       "stream": "stdout",
       "text": [
        "      0.60075      0.0\n",
        "1.0"
       ]
      },
      {
       "output_type": "stream",
       "stream": "stdout",
       "text": [
        "      0.611      1.0\n",
        "1.0"
       ]
      },
      {
       "output_type": "stream",
       "stream": "stdout",
       "text": [
        "      0.59445      0.0\n",
        "1.0"
       ]
      },
      {
       "output_type": "stream",
       "stream": "stdout",
       "text": [
        "      0.59195      0.0\n",
        "1.0"
       ]
      },
      {
       "output_type": "stream",
       "stream": "stdout",
       "text": [
        "      0.58785      0.0\n",
        "1.0"
       ]
      },
      {
       "output_type": "stream",
       "stream": "stdout",
       "text": [
        "      0.5964      0.0\n",
        "1.0"
       ]
      },
      {
       "output_type": "stream",
       "stream": "stdout",
       "text": [
        "      0.59735      1.0\n",
        "1.0"
       ]
      },
      {
       "output_type": "stream",
       "stream": "stdout",
       "text": [
        "      0.5955      0.0\n",
        "1.0"
       ]
      },
      {
       "output_type": "stream",
       "stream": "stdout",
       "text": [
        "      0.59025      0.0\n",
        "1.0"
       ]
      },
      {
       "output_type": "stream",
       "stream": "stdout",
       "text": [
        "      0.63675      2.0\n",
        "1.0"
       ]
      },
      {
       "output_type": "stream",
       "stream": "stdout",
       "text": [
        "      0.6621      1.0\n",
        "1.0"
       ]
      },
      {
       "output_type": "stream",
       "stream": "stdout",
       "text": [
        "      0.6483      1.0\n",
        "1.0"
       ]
      },
      {
       "output_type": "stream",
       "stream": "stdout",
       "text": [
        "      0.65855      2.0\n",
        "1.0"
       ]
      },
      {
       "output_type": "stream",
       "stream": "stdout",
       "text": [
        "      0.63795      2.0\n",
        "1.0"
       ]
      },
      {
       "output_type": "stream",
       "stream": "stdout",
       "text": [
        "      0.62975      2.0\n",
        "1.0"
       ]
      },
      {
       "output_type": "stream",
       "stream": "stdout",
       "text": [
        "      0.64125      2.0\n",
        "1.0"
       ]
      },
      {
       "output_type": "stream",
       "stream": "stdout",
       "text": [
        "      0.6707      2.0\n",
        "1.0"
       ]
      },
      {
       "output_type": "stream",
       "stream": "stdout",
       "text": [
        "      0.64905      2.0\n",
        "1.0"
       ]
      },
      {
       "output_type": "stream",
       "stream": "stdout",
       "text": [
        "      0.62215      1.0\n",
        "1.0"
       ]
      },
      {
       "output_type": "stream",
       "stream": "stdout",
       "text": [
        "      0.6015      0.0\n",
        "1.0"
       ]
      },
      {
       "output_type": "stream",
       "stream": "stdout",
       "text": [
        "      0.5949      0.0\n",
        "1.0"
       ]
      },
      {
       "output_type": "stream",
       "stream": "stdout",
       "text": [
        "      0.60595      0.0\n",
        "1.0"
       ]
      },
      {
       "output_type": "stream",
       "stream": "stdout",
       "text": [
        "      0.60615      1.0\n",
        "1.0"
       ]
      },
      {
       "output_type": "stream",
       "stream": "stdout",
       "text": [
        "      0.6133      1.0\n",
        "1.0"
       ]
      },
      {
       "output_type": "stream",
       "stream": "stdout",
       "text": [
        "      0.5962      1.0\n",
        "1.0"
       ]
      },
      {
       "output_type": "stream",
       "stream": "stdout",
       "text": [
        "      0.61325      0.0\n",
        "1.0"
       ]
      },
      {
       "output_type": "stream",
       "stream": "stdout",
       "text": [
        "      0.60595      0.0\n",
        "1.0"
       ]
      },
      {
       "output_type": "stream",
       "stream": "stdout",
       "text": [
        "      0.74795      7.0\n",
        "1.0"
       ]
      },
      {
       "output_type": "stream",
       "stream": "stdout",
       "text": [
        "      0.75355      7.0\n",
        "1.0"
       ]
      },
      {
       "output_type": "stream",
       "stream": "stdout",
       "text": [
        "      0.7519      7.0\n",
        "1.0"
       ]
      },
      {
       "output_type": "stream",
       "stream": "stdout",
       "text": [
        "      0.75025      8.0\n",
        "1.0"
       ]
      },
      {
       "output_type": "stream",
       "stream": "stdout",
       "text": [
        "      0.75025      8.0\n",
        "1.0"
       ]
      },
      {
       "output_type": "stream",
       "stream": "stdout",
       "text": [
        "      0.75185      8.0\n",
        "1.0"
       ]
      },
      {
       "output_type": "stream",
       "stream": "stdout",
       "text": [
        "      0.7512      8.0\n",
        "1.0"
       ]
      },
      {
       "output_type": "stream",
       "stream": "stdout",
       "text": [
        "      0.75025      8.0\n",
        "1.0"
       ]
      },
      {
       "output_type": "stream",
       "stream": "stdout",
       "text": [
        "      0.7523      7.0\n",
        "1.0"
       ]
      },
      {
       "output_type": "stream",
       "stream": "stdout",
       "text": [
        "      0.73185      2.0\n",
        "1.0"
       ]
      },
      {
       "output_type": "stream",
       "stream": "stdout",
       "text": [
        "      0.733      3.0\n",
        "1.0"
       ]
      },
      {
       "output_type": "stream",
       "stream": "stdout",
       "text": [
        "      0.72685      2.0\n",
        "1.0"
       ]
      },
      {
       "output_type": "stream",
       "stream": "stdout",
       "text": [
        "      0.73235      2.0\n",
        "1.0"
       ]
      },
      {
       "output_type": "stream",
       "stream": "stdout",
       "text": [
        "      0.73795      3.0\n",
        "1.0"
       ]
      },
      {
       "output_type": "stream",
       "stream": "stdout",
       "text": [
        "      0.7353      3.0\n",
        "1.0"
       ]
      },
      {
       "output_type": "stream",
       "stream": "stdout",
       "text": [
        "      0.7356      2.0\n",
        "1.0"
       ]
      },
      {
       "output_type": "stream",
       "stream": "stdout",
       "text": [
        "      0.73235      3.0\n",
        "1.0"
       ]
      },
      {
       "output_type": "stream",
       "stream": "stdout",
       "text": [
        "      0.73755      3.0\n",
        "1.0"
       ]
      },
      {
       "output_type": "stream",
       "stream": "stdout",
       "text": [
        "      0.7505      14.0\n",
        "1.0"
       ]
      },
      {
       "output_type": "stream",
       "stream": "stdout",
       "text": [
        "      0.75215      13.0\n",
        "1.0"
       ]
      },
      {
       "output_type": "stream",
       "stream": "stdout",
       "text": [
        "      0.75055      13.0\n",
        "1.0"
       ]
      },
      {
       "output_type": "stream",
       "stream": "stdout",
       "text": [
        "      0.7509      14.0\n",
        "1.0"
       ]
      },
      {
       "output_type": "stream",
       "stream": "stdout",
       "text": [
        "      0.7502      13.0\n",
        "1.0"
       ]
      },
      {
       "output_type": "stream",
       "stream": "stdout",
       "text": [
        "      0.75025      13.0\n",
        "1.0"
       ]
      },
      {
       "output_type": "stream",
       "stream": "stdout",
       "text": [
        "      0.75175      14.0\n",
        "1.0"
       ]
      },
      {
       "output_type": "stream",
       "stream": "stdout",
       "text": [
        "      0.7521      20.0\n",
        "1.0"
       ]
      },
      {
       "output_type": "stream",
       "stream": "stdout",
       "text": [
        "      0.75015      26.0\n",
        "1.0"
       ]
      },
      {
       "output_type": "stream",
       "stream": "stdout",
       "text": [
        "      0.73805      4.0\n",
        "1.0"
       ]
      },
      {
       "output_type": "stream",
       "stream": "stdout",
       "text": [
        "      0.74155      5.0\n",
        "1.0"
       ]
      },
      {
       "output_type": "stream",
       "stream": "stdout",
       "text": [
        "      0.73135      4.0\n",
        "1.0"
       ]
      },
      {
       "output_type": "stream",
       "stream": "stdout",
       "text": [
        "      0.73595      4.0\n",
        "1.0"
       ]
      },
      {
       "output_type": "stream",
       "stream": "stdout",
       "text": [
        "      0.73945      4.0\n",
        "1.0"
       ]
      },
      {
       "output_type": "stream",
       "stream": "stdout",
       "text": [
        "      0.73505      5.0\n",
        "1.0"
       ]
      },
      {
       "output_type": "stream",
       "stream": "stdout",
       "text": [
        "      0.7422      6.0\n",
        "1.0"
       ]
      },
      {
       "output_type": "stream",
       "stream": "stdout",
       "text": [
        "      0.7322      5.0\n",
        "1.0"
       ]
      },
      {
       "output_type": "stream",
       "stream": "stdout",
       "text": [
        "      0.73545      2.0\n",
        "1.0"
       ]
      },
      {
       "output_type": "stream",
       "stream": "stdout",
       "text": [
        "      0.66825      2.0\n",
        "1.0"
       ]
      },
      {
       "output_type": "stream",
       "stream": "stdout",
       "text": [
        "      0.66475      3.0\n",
        "1.0"
       ]
      },
      {
       "output_type": "stream",
       "stream": "stdout",
       "text": [
        "      0.6585      3.0\n",
        "1.0"
       ]
      },
      {
       "output_type": "stream",
       "stream": "stdout",
       "text": [
        "      0.69785      4.0\n",
        "1.0"
       ]
      },
      {
       "output_type": "stream",
       "stream": "stdout",
       "text": [
        "      0.657925      3.0\n",
        "1.0"
       ]
      },
      {
       "output_type": "stream",
       "stream": "stdout",
       "text": [
        "      0.673575      3.0\n",
        "1.0"
       ]
      },
      {
       "output_type": "stream",
       "stream": "stdout",
       "text": [
        "      0.664675      3.0\n",
        "1.0"
       ]
      },
      {
       "output_type": "stream",
       "stream": "stdout",
       "text": [
        "      0.661625      2.0\n",
        "1.0"
       ]
      },
      {
       "output_type": "stream",
       "stream": "stdout",
       "text": [
        "      0.673225      2.0\n",
        "1.0"
       ]
      },
      {
       "output_type": "stream",
       "stream": "stdout",
       "text": [
        "      0.616375      1.0\n",
        "1.0"
       ]
      },
      {
       "output_type": "stream",
       "stream": "stdout",
       "text": [
        "      0.62795      1.0\n",
        "1.0"
       ]
      },
      {
       "output_type": "stream",
       "stream": "stdout",
       "text": [
        "      0.64755      2.0\n",
        "1.0"
       ]
      },
      {
       "output_type": "stream",
       "stream": "stdout",
       "text": [
        "      0.638725      2.0\n",
        "1.0"
       ]
      },
      {
       "output_type": "stream",
       "stream": "stdout",
       "text": [
        "      0.628425      1.0\n",
        "1.0"
       ]
      },
      {
       "output_type": "stream",
       "stream": "stdout",
       "text": [
        "      0.611175      1.0\n",
        "1.0"
       ]
      },
      {
       "output_type": "stream",
       "stream": "stdout",
       "text": [
        "      0.613975      1.0\n",
        "1.0"
       ]
      },
      {
       "output_type": "stream",
       "stream": "stdout",
       "text": [
        "      0.619825      1.0\n",
        "1.0"
       ]
      },
      {
       "output_type": "stream",
       "stream": "stdout",
       "text": [
        "      0.621975      2.0\n",
        "1.0"
       ]
      },
      {
       "output_type": "stream",
       "stream": "stdout",
       "text": [
        "      0.681175      5.0\n",
        "1.0"
       ]
      },
      {
       "output_type": "stream",
       "stream": "stdout",
       "text": [
        "      0.69225      5.0\n",
        "1.0"
       ]
      },
      {
       "output_type": "stream",
       "stream": "stdout",
       "text": [
        "      0.6622      4.0\n",
        "1.0"
       ]
      },
      {
       "output_type": "stream",
       "stream": "stdout",
       "text": [
        "      0.693875      5.0\n",
        "1.0"
       ]
      },
      {
       "output_type": "stream",
       "stream": "stdout",
       "text": [
        "      0.725625      4.0\n",
        "1.0"
       ]
      },
      {
       "output_type": "stream",
       "stream": "stdout",
       "text": [
        "      0.688525      5.0\n",
        "1.0"
       ]
      },
      {
       "output_type": "stream",
       "stream": "stdout",
       "text": [
        "      0.675375      4.0\n",
        "1.0"
       ]
      },
      {
       "output_type": "stream",
       "stream": "stdout",
       "text": [
        "      0.68915      4.0\n",
        "1.0"
       ]
      },
      {
       "output_type": "stream",
       "stream": "stdout",
       "text": [
        "      0.67375      5.0\n",
        "1.0"
       ]
      },
      {
       "output_type": "stream",
       "stream": "stdout",
       "text": [
        "      0.616575      2.0\n",
        "1.0"
       ]
      },
      {
       "output_type": "stream",
       "stream": "stdout",
       "text": [
        "      0.62095      1.0\n",
        "1.0"
       ]
      },
      {
       "output_type": "stream",
       "stream": "stdout",
       "text": [
        "      0.621125      2.0\n",
        "1.0"
       ]
      },
      {
       "output_type": "stream",
       "stream": "stdout",
       "text": [
        "      0.635525      2.0\n",
        "1.0"
       ]
      },
      {
       "output_type": "stream",
       "stream": "stdout",
       "text": [
        "      0.642225      1.0\n",
        "1.0"
       ]
      },
      {
       "output_type": "stream",
       "stream": "stdout",
       "text": [
        "      0.6204      1.0\n",
        "1.0"
       ]
      },
      {
       "output_type": "stream",
       "stream": "stdout",
       "text": [
        "      0.6532      1.0\n",
        "1.0"
       ]
      },
      {
       "output_type": "stream",
       "stream": "stdout",
       "text": [
        "      0.644175      1.0\n",
        "1.0"
       ]
      },
      {
       "output_type": "stream",
       "stream": "stdout",
       "text": [
        "      0.637675      1.0\n",
        "1.0"
       ]
      },
      {
       "output_type": "stream",
       "stream": "stdout",
       "text": [
        "      0.652925      2.0\n",
        "1.0"
       ]
      },
      {
       "output_type": "stream",
       "stream": "stdout",
       "text": [
        "      0.70065      2.0\n",
        "1.0"
       ]
      },
      {
       "output_type": "stream",
       "stream": "stdout",
       "text": [
        "      0.6581      3.0\n",
        "1.0"
       ]
      },
      {
       "output_type": "stream",
       "stream": "stdout",
       "text": [
        "      0.664475      3.0\n",
        "1.0"
       ]
      },
      {
       "output_type": "stream",
       "stream": "stdout",
       "text": [
        "      0.666475      3.0\n",
        "1.0"
       ]
      },
      {
       "output_type": "stream",
       "stream": "stdout",
       "text": [
        "      0.660825      2.0\n",
        "1.0"
       ]
      },
      {
       "output_type": "stream",
       "stream": "stdout",
       "text": [
        "      0.680625      2.0\n",
        "1.0"
       ]
      },
      {
       "output_type": "stream",
       "stream": "stdout",
       "text": [
        "      0.70285      3.0\n",
        "1.0"
       ]
      },
      {
       "output_type": "stream",
       "stream": "stdout",
       "text": [
        "      0.6698      3.0\n",
        "1.0"
       ]
      },
      {
       "output_type": "stream",
       "stream": "stdout",
       "text": [
        "      0.63045      1.0\n",
        "1.0"
       ]
      },
      {
       "output_type": "stream",
       "stream": "stdout",
       "text": [
        "      0.61565      1.0\n",
        "1.0"
       ]
      },
      {
       "output_type": "stream",
       "stream": "stdout",
       "text": [
        "      0.637725      1.0\n",
        "1.0"
       ]
      },
      {
       "output_type": "stream",
       "stream": "stdout",
       "text": [
        "      0.61255      1.0\n",
        "1.0"
       ]
      },
      {
       "output_type": "stream",
       "stream": "stdout",
       "text": [
        "      0.609975      1.0\n",
        "1.0"
       ]
      },
      {
       "output_type": "stream",
       "stream": "stdout",
       "text": [
        "      0.65555      1.0\n",
        "1.0"
       ]
      },
      {
       "output_type": "stream",
       "stream": "stdout",
       "text": [
        "      0.613125      2.0\n",
        "1.0"
       ]
      },
      {
       "output_type": "stream",
       "stream": "stdout",
       "text": [
        "      0.600125      2.0\n",
        "1.0"
       ]
      },
      {
       "output_type": "stream",
       "stream": "stdout",
       "text": [
        "      0.6225      2.0\n",
        "1.0"
       ]
      },
      {
       "output_type": "stream",
       "stream": "stdout",
       "text": [
        "      0.666      5.0\n",
        "1.0"
       ]
      },
      {
       "output_type": "stream",
       "stream": "stdout",
       "text": [
        "      0.672075      5.0\n",
        "1.0"
       ]
      },
      {
       "output_type": "stream",
       "stream": "stdout",
       "text": [
        "      0.6827      5.0\n",
        "1.0"
       ]
      },
      {
       "output_type": "stream",
       "stream": "stdout",
       "text": [
        "      0.7105      4.0\n",
        "1.0"
       ]
      },
      {
       "output_type": "stream",
       "stream": "stdout",
       "text": [
        "      0.686275      4.0\n",
        "1.0"
       ]
      },
      {
       "output_type": "stream",
       "stream": "stdout",
       "text": [
        "      0.672725      5.0\n",
        "1.0"
       ]
      },
      {
       "output_type": "stream",
       "stream": "stdout",
       "text": [
        "      0.659125      5.0\n",
        "1.0"
       ]
      },
      {
       "output_type": "stream",
       "stream": "stdout",
       "text": [
        "      0.694625      4.0\n",
        "1.0"
       ]
      },
      {
       "output_type": "stream",
       "stream": "stdout",
       "text": [
        "      0.679525      4.0\n",
        "1.0"
       ]
      },
      {
       "output_type": "stream",
       "stream": "stdout",
       "text": [
        "      0.623875      1.0\n",
        "1.0"
       ]
      },
      {
       "output_type": "stream",
       "stream": "stdout",
       "text": [
        "      0.63165      1.0\n",
        "1.0"
       ]
      },
      {
       "output_type": "stream",
       "stream": "stdout",
       "text": [
        "      0.6197      1.0\n",
        "1.0"
       ]
      },
      {
       "output_type": "stream",
       "stream": "stdout",
       "text": [
        "      0.6115      1.0\n",
        "1.0"
       ]
      },
      {
       "output_type": "stream",
       "stream": "stdout",
       "text": [
        "      0.64435      1.0\n",
        "1.0"
       ]
      },
      {
       "output_type": "stream",
       "stream": "stdout",
       "text": [
        "      0.636875      2.0\n",
        "1.0"
       ]
      },
      {
       "output_type": "stream",
       "stream": "stdout",
       "text": [
        "      0.61815      2.0\n",
        "1.0"
       ]
      },
      {
       "output_type": "stream",
       "stream": "stdout",
       "text": [
        "      0.611275      2.0\n",
        "1.0"
       ]
      },
      {
       "output_type": "stream",
       "stream": "stdout",
       "text": [
        "      0.6155      2.0\n",
        "1.0"
       ]
      },
      {
       "output_type": "stream",
       "stream": "stdout",
       "text": [
        "      0.649725      2.0\n",
        "1.0"
       ]
      },
      {
       "output_type": "stream",
       "stream": "stdout",
       "text": [
        "      0.659975      1.0\n",
        "1.0"
       ]
      },
      {
       "output_type": "stream",
       "stream": "stdout",
       "text": [
        "      0.65215      2.0\n",
        "1.0"
       ]
      },
      {
       "output_type": "stream",
       "stream": "stdout",
       "text": [
        "      0.640475      2.0\n",
        "1.0"
       ]
      },
      {
       "output_type": "stream",
       "stream": "stdout",
       "text": [
        "      0.66895      2.0\n",
        "1.0"
       ]
      },
      {
       "output_type": "stream",
       "stream": "stdout",
       "text": [
        "      0.674775      2.0\n",
        "1.0"
       ]
      },
      {
       "output_type": "stream",
       "stream": "stdout",
       "text": [
        "      0.664525      1.0\n",
        "1.0"
       ]
      },
      {
       "output_type": "stream",
       "stream": "stdout",
       "text": [
        "      0.645625      2.0\n",
        "1.0"
       ]
      },
      {
       "output_type": "stream",
       "stream": "stdout",
       "text": [
        "      0.641525      1.0\n",
        "1.0"
       ]
      },
      {
       "output_type": "stream",
       "stream": "stdout",
       "text": [
        "      0.597375      1.0\n",
        "1.0"
       ]
      },
      {
       "output_type": "stream",
       "stream": "stdout",
       "text": [
        "      0.609025      0.0\n",
        "1.0"
       ]
      },
      {
       "output_type": "stream",
       "stream": "stdout",
       "text": [
        "      0.614775      1.0\n",
        "1.0"
       ]
      },
      {
       "output_type": "stream",
       "stream": "stdout",
       "text": [
        "      0.6105      1.0\n",
        "1.0"
       ]
      },
      {
       "output_type": "stream",
       "stream": "stdout",
       "text": [
        "      0.607075      2.0\n",
        "1.0"
       ]
      },
      {
       "output_type": "stream",
       "stream": "stdout",
       "text": [
        "      0.594175      1.0\n",
        "1.0"
       ]
      },
      {
       "output_type": "stream",
       "stream": "stdout",
       "text": [
        "      0.599175      1.0\n",
        "1.0"
       ]
      },
      {
       "output_type": "stream",
       "stream": "stdout",
       "text": [
        "      0.62705      1.0\n",
        "1.0"
       ]
      },
      {
       "output_type": "stream",
       "stream": "stdout",
       "text": [
        "      0.61055      0.0\n",
        "1.0"
       ]
      },
      {
       "output_type": "stream",
       "stream": "stdout",
       "text": [
        "      0.64315      4.0\n",
        "1.0"
       ]
      },
      {
       "output_type": "stream",
       "stream": "stdout",
       "text": [
        "      0.6412      3.0\n",
        "1.0"
       ]
      },
      {
       "output_type": "stream",
       "stream": "stdout",
       "text": [
        "      0.6281      4.0\n",
        "1.0"
       ]
      },
      {
       "output_type": "stream",
       "stream": "stdout",
       "text": [
        "      0.641      3.0\n",
        "1.0"
       ]
      },
      {
       "output_type": "stream",
       "stream": "stdout",
       "text": [
        "      0.658625      3.0\n",
        "1.0"
       ]
      },
      {
       "output_type": "stream",
       "stream": "stdout",
       "text": [
        "      0.6551      4.0\n",
        "1.0"
       ]
      },
      {
       "output_type": "stream",
       "stream": "stdout",
       "text": [
        "      0.66235      4.0\n",
        "1.0"
       ]
      },
      {
       "output_type": "stream",
       "stream": "stdout",
       "text": [
        "      0.645175      3.0\n",
        "1.0"
       ]
      },
      {
       "output_type": "stream",
       "stream": "stdout",
       "text": [
        "      0.63965      3.0\n",
        "1.0"
       ]
      },
      {
       "output_type": "stream",
       "stream": "stdout",
       "text": [
        "      0.616      1.0\n",
        "1.0"
       ]
      },
      {
       "output_type": "stream",
       "stream": "stdout",
       "text": [
        "      0.6018      1.0\n",
        "1.0"
       ]
      },
      {
       "output_type": "stream",
       "stream": "stdout",
       "text": [
        "      0.6074      1.0\n",
        "1.0"
       ]
      },
      {
       "output_type": "stream",
       "stream": "stdout",
       "text": [
        "      0.631625      1.0\n",
        "1.0"
       ]
      },
      {
       "output_type": "stream",
       "stream": "stdout",
       "text": [
        "      0.59495      1.0\n",
        "1.0"
       ]
      },
      {
       "output_type": "stream",
       "stream": "stdout",
       "text": [
        "      0.606525      1.0\n",
        "1.0"
       ]
      },
      {
       "output_type": "stream",
       "stream": "stdout",
       "text": [
        "      0.59535      1.0\n",
        "1.0"
       ]
      },
      {
       "output_type": "stream",
       "stream": "stdout",
       "text": [
        "      0.592925      1.0\n",
        "1.0"
       ]
      },
      {
       "output_type": "stream",
       "stream": "stdout",
       "text": [
        "      0.6324      1.0\n",
        "1.0"
       ]
      },
      {
       "output_type": "stream",
       "stream": "stdout",
       "text": [
        "      0.752675      17.0\n",
        "1.0"
       ]
      },
      {
       "output_type": "stream",
       "stream": "stdout",
       "text": [
        "      0.753225      17.0\n",
        "1.0"
       ]
      },
      {
       "output_type": "stream",
       "stream": "stdout",
       "text": [
        "      0.755025      17.0\n",
        "1.0"
       ]
      },
      {
       "output_type": "stream",
       "stream": "stdout",
       "text": [
        "      0.75285      17.0\n",
        "1.0"
       ]
      },
      {
       "output_type": "stream",
       "stream": "stdout",
       "text": [
        "      0.7547      17.0\n",
        "1.0"
       ]
      },
      {
       "output_type": "stream",
       "stream": "stdout",
       "text": [
        "      0.752975      17.0\n",
        "1.0"
       ]
      },
      {
       "output_type": "stream",
       "stream": "stdout",
       "text": [
        "      0.7534      16.0\n",
        "1.0"
       ]
      },
      {
       "output_type": "stream",
       "stream": "stdout",
       "text": [
        "      0.7532      16.0\n",
        "1.0"
       ]
      },
      {
       "output_type": "stream",
       "stream": "stdout",
       "text": [
        "      0.75135      16.0\n",
        "1.0"
       ]
      },
      {
       "output_type": "stream",
       "stream": "stdout",
       "text": [
        "      0.7416      6.0\n",
        "1.0"
       ]
      },
      {
       "output_type": "stream",
       "stream": "stdout",
       "text": [
        "      0.73835      6.0\n",
        "1.0"
       ]
      },
      {
       "output_type": "stream",
       "stream": "stdout",
       "text": [
        "      0.73325      5.0\n",
        "1.0"
       ]
      },
      {
       "output_type": "stream",
       "stream": "stdout",
       "text": [
        "      0.7359      5.0\n",
        "1.0"
       ]
      },
      {
       "output_type": "stream",
       "stream": "stdout",
       "text": [
        "      0.7354      5.0\n",
        "1.0"
       ]
      },
      {
       "output_type": "stream",
       "stream": "stdout",
       "text": [
        "      0.732925      5.0\n",
        "1.0"
       ]
      },
      {
       "output_type": "stream",
       "stream": "stdout",
       "text": [
        "      0.7349      5.0\n",
        "1.0"
       ]
      },
      {
       "output_type": "stream",
       "stream": "stdout",
       "text": [
        "      0.73765      5.0\n",
        "1.0"
       ]
      },
      {
       "output_type": "stream",
       "stream": "stdout",
       "text": [
        "      0.73505      6.0\n",
        "1.0"
       ]
      },
      {
       "output_type": "stream",
       "stream": "stdout",
       "text": [
        "      0.7614      28.0\n",
        "1.0"
       ]
      },
      {
       "output_type": "stream",
       "stream": "stdout",
       "text": [
        "      0.75905      27.0\n",
        "1.0"
       ]
      },
      {
       "output_type": "stream",
       "stream": "stdout",
       "text": [
        "      0.76055      28.0\n",
        "1.0"
       ]
      },
      {
       "output_type": "stream",
       "stream": "stdout",
       "text": [
        "      0.7593      28.0\n",
        "1.0"
       ]
      },
      {
       "output_type": "stream",
       "stream": "stdout",
       "text": [
        "      0.759425      27.0\n",
        "1.0"
       ]
      },
      {
       "output_type": "stream",
       "stream": "stdout",
       "text": [
        "      0.75985      28.0\n",
        "1.0"
       ]
      },
      {
       "output_type": "stream",
       "stream": "stdout",
       "text": [
        "      0.76135      28.0\n",
        "1.0"
       ]
      },
      {
       "output_type": "stream",
       "stream": "stdout",
       "text": [
        "      0.76165      27.0\n",
        "1.0"
       ]
      },
      {
       "output_type": "stream",
       "stream": "stdout",
       "text": [
        "      0.760725      27.0\n",
        "1.0"
       ]
      },
      {
       "output_type": "stream",
       "stream": "stdout",
       "text": [
        "      0.746575      6.0\n",
        "1.0"
       ]
      },
      {
       "output_type": "stream",
       "stream": "stdout",
       "text": [
        "      0.73825      5.0\n",
        "1.0"
       ]
      },
      {
       "output_type": "stream",
       "stream": "stdout",
       "text": [
        "      0.74675      5.0\n",
        "1.0"
       ]
      },
      {
       "output_type": "stream",
       "stream": "stdout",
       "text": [
        "      0.740275      5.0\n",
        "1.0"
       ]
      },
      {
       "output_type": "stream",
       "stream": "stdout",
       "text": [
        "      0.7396      5.0\n",
        "1.0"
       ]
      },
      {
       "output_type": "stream",
       "stream": "stdout",
       "text": [
        "      0.741425      5.0\n",
        "1.0"
       ]
      },
      {
       "output_type": "stream",
       "stream": "stdout",
       "text": [
        "      0.737525      6.0\n",
        "1.0"
       ]
      },
      {
       "output_type": "stream",
       "stream": "stdout",
       "text": [
        "      0.7452      6.0\n",
        "1.0"
       ]
      },
      {
       "output_type": "stream",
       "stream": "stdout",
       "text": [
        "      0.7421      5.0\n",
        "1.0"
       ]
      },
      {
       "output_type": "stream",
       "stream": "stdout",
       "text": [
        "      0.68885      4.0\n",
        "1.0"
       ]
      },
      {
       "output_type": "stream",
       "stream": "stdout",
       "text": [
        "      0.665383333333      3.0\n",
        "1.0"
       ]
      },
      {
       "output_type": "stream",
       "stream": "stdout",
       "text": [
        "      0.66425      4.0\n",
        "1.0"
       ]
      },
      {
       "output_type": "stream",
       "stream": "stdout",
       "text": [
        "      0.679983333333      4.0\n",
        "1.0"
       ]
      },
      {
       "output_type": "stream",
       "stream": "stdout",
       "text": [
        "      0.667316666667      3.0\n",
        "1.0"
       ]
      },
      {
       "output_type": "stream",
       "stream": "stdout",
       "text": [
        "      0.67905      4.0\n",
        "1.0"
       ]
      },
      {
       "output_type": "stream",
       "stream": "stdout",
       "text": [
        "      0.67505      4.0\n",
        "1.0"
       ]
      },
      {
       "output_type": "stream",
       "stream": "stdout",
       "text": [
        "      0.699083333333      4.0\n",
        "1.0"
       ]
      },
      {
       "output_type": "stream",
       "stream": "stdout",
       "text": [
        "      0.687066666667      3.0\n",
        "1.0"
       ]
      },
      {
       "output_type": "stream",
       "stream": "stdout",
       "text": [
        "      0.62955      2.0\n",
        "1.0"
       ]
      },
      {
       "output_type": "stream",
       "stream": "stdout",
       "text": [
        "      0.63665      2.0\n",
        "1.0"
       ]
      },
      {
       "output_type": "stream",
       "stream": "stdout",
       "text": [
        "      0.618916666667      2.0\n",
        "1.0"
       ]
      },
      {
       "output_type": "stream",
       "stream": "stdout",
       "text": [
        "      0.647183333333      2.0\n",
        "1.0"
       ]
      },
      {
       "output_type": "stream",
       "stream": "stdout",
       "text": [
        "      0.61975      2.0\n",
        "1.0"
       ]
      },
      {
       "output_type": "stream",
       "stream": "stdout",
       "text": [
        "      0.618916666667      2.0\n",
        "1.0"
       ]
      },
      {
       "output_type": "stream",
       "stream": "stdout",
       "text": [
        "      0.64405      2.0\n",
        "1.0"
       ]
      },
      {
       "output_type": "stream",
       "stream": "stdout",
       "text": [
        "      0.642116666667      2.0\n",
        "1.0"
       ]
      },
      {
       "output_type": "stream",
       "stream": "stdout",
       "text": [
        "      0.609733333333      1.0\n",
        "1.0"
       ]
      },
      {
       "output_type": "stream",
       "stream": "stdout",
       "text": [
        "      0.669433333333      8.0\n",
        "1.0"
       ]
      },
      {
       "output_type": "stream",
       "stream": "stdout",
       "text": [
        "      0.709033333333      6.0\n",
        "1.0"
       ]
      },
      {
       "output_type": "stream",
       "stream": "stdout",
       "text": [
        "      0.708133333333      7.0\n",
        "1.0"
       ]
      },
      {
       "output_type": "stream",
       "stream": "stdout",
       "text": [
        "      0.686033333333      7.0\n",
        "1.0"
       ]
      },
      {
       "output_type": "stream",
       "stream": "stdout",
       "text": [
        "      0.661816666667      7.0\n",
        "1.0"
       ]
      },
      {
       "output_type": "stream",
       "stream": "stdout",
       "text": [
        "      0.675183333333      7.0\n",
        "1.0"
       ]
      },
      {
       "output_type": "stream",
       "stream": "stdout",
       "text": [
        "      0.6784      8.0\n",
        "1.0"
       ]
      },
      {
       "output_type": "stream",
       "stream": "stdout",
       "text": [
        "      0.668866666667      7.0\n",
        "1.0"
       ]
      },
      {
       "output_type": "stream",
       "stream": "stdout",
       "text": [
        "      0.666466666667      7.0\n",
        "1.0"
       ]
      },
      {
       "output_type": "stream",
       "stream": "stdout",
       "text": [
        "      0.642933333333      2.0\n",
        "1.0"
       ]
      },
      {
       "output_type": "stream",
       "stream": "stdout",
       "text": [
        "      0.61005      2.0\n",
        "1.0"
       ]
      },
      {
       "output_type": "stream",
       "stream": "stdout",
       "text": [
        "      0.614666666667      2.0\n",
        "1.0"
       ]
      },
      {
       "output_type": "stream",
       "stream": "stdout",
       "text": [
        "      0.63875      2.0\n",
        "1.0"
       ]
      },
      {
       "output_type": "stream",
       "stream": "stdout",
       "text": [
        "      0.636883333333      2.0\n",
        "1.0"
       ]
      },
      {
       "output_type": "stream",
       "stream": "stdout",
       "text": [
        "      0.628266666667      2.0\n",
        "1.0"
       ]
      },
      {
       "output_type": "stream",
       "stream": "stdout",
       "text": [
        "      0.6255      2.0\n",
        "1.0"
       ]
      },
      {
       "output_type": "stream",
       "stream": "stdout",
       "text": [
        "      0.64315      2.0\n",
        "1.0"
       ]
      },
      {
       "output_type": "stream",
       "stream": "stdout",
       "text": [
        "      0.638383333333      2.0\n",
        "1.0"
       ]
      },
      {
       "output_type": "stream",
       "stream": "stdout",
       "text": [
        "      0.679066666667      4.0\n",
        "1.0"
       ]
      },
      {
       "output_type": "stream",
       "stream": "stdout",
       "text": [
        "      0.684416666667      3.0\n",
        "1.0"
       ]
      },
      {
       "output_type": "stream",
       "stream": "stdout",
       "text": [
        "      0.69505      3.0\n",
        "1.0"
       ]
      },
      {
       "output_type": "stream",
       "stream": "stdout",
       "text": [
        "      0.6672      4.0\n",
        "1.0"
       ]
      },
      {
       "output_type": "stream",
       "stream": "stdout",
       "text": [
        "      0.6683      3.0\n",
        "1.0"
       ]
      },
      {
       "output_type": "stream",
       "stream": "stdout",
       "text": [
        "      0.678766666667      4.0\n",
        "1.0"
       ]
      },
      {
       "output_type": "stream",
       "stream": "stdout",
       "text": [
        "      0.6883      3.0\n",
        "1.0"
       ]
      },
      {
       "output_type": "stream",
       "stream": "stdout",
       "text": [
        "      0.69835      4.0\n",
        "1.0"
       ]
      },
      {
       "output_type": "stream",
       "stream": "stdout",
       "text": [
        "      0.676916666667      4.0\n",
        "1.0"
       ]
      },
      {
       "output_type": "stream",
       "stream": "stdout",
       "text": [
        "      0.640783333333      1.0\n",
        "1.0"
       ]
      },
      {
       "output_type": "stream",
       "stream": "stdout",
       "text": [
        "      0.629466666667      1.0\n",
        "1.0"
       ]
      },
      {
       "output_type": "stream",
       "stream": "stdout",
       "text": [
        "      0.625716666667      1.0\n",
        "1.0"
       ]
      },
      {
       "output_type": "stream",
       "stream": "stdout",
       "text": [
        "      0.628516666667      2.0\n",
        "1.0"
       ]
      },
      {
       "output_type": "stream",
       "stream": "stdout",
       "text": [
        "      0.637933333333      2.0\n",
        "1.0"
       ]
      },
      {
       "output_type": "stream",
       "stream": "stdout",
       "text": [
        "      0.6349      2.0\n",
        "1.0"
       ]
      },
      {
       "output_type": "stream",
       "stream": "stdout",
       "text": [
        "      0.6415      2.0\n",
        "1.0"
       ]
      },
      {
       "output_type": "stream",
       "stream": "stdout",
       "text": [
        "      0.623116666667      1.0\n",
        "1.0"
       ]
      },
      {
       "output_type": "stream",
       "stream": "stdout",
       "text": [
        "      0.6308      2.0\n",
        "1.0"
       ]
      },
      {
       "output_type": "stream",
       "stream": "stdout",
       "text": [
        "      0.699516666667      7.0\n",
        "1.0"
       ]
      },
      {
       "output_type": "stream",
       "stream": "stdout",
       "text": [
        "      0.686283333333      8.0\n",
        "1.0"
       ]
      },
      {
       "output_type": "stream",
       "stream": "stdout",
       "text": [
        "      0.665533333333      8.0\n",
        "1.0"
       ]
      },
      {
       "output_type": "stream",
       "stream": "stdout",
       "text": [
        "      0.67565      7.0\n",
        "1.0"
       ]
      },
      {
       "output_type": "stream",
       "stream": "stdout",
       "text": [
        "      0.707933333333      7.0\n",
        "1.0"
       ]
      },
      {
       "output_type": "stream",
       "stream": "stdout",
       "text": [
        "      0.680666666667      7.0\n",
        "1.0"
       ]
      },
      {
       "output_type": "stream",
       "stream": "stdout",
       "text": [
        "      0.676266666667      8.0\n",
        "1.0"
       ]
      },
      {
       "output_type": "stream",
       "stream": "stdout",
       "text": [
        "      0.695933333333      8.0\n",
        "1.0"
       ]
      },
      {
       "output_type": "stream",
       "stream": "stdout",
       "text": [
        "      0.707383333333      7.0\n",
        "1.0"
       ]
      },
      {
       "output_type": "stream",
       "stream": "stdout",
       "text": [
        "      0.625216666667      2.0\n",
        "1.0"
       ]
      },
      {
       "output_type": "stream",
       "stream": "stdout",
       "text": [
        "      0.627983333333      2.0\n",
        "1.0"
       ]
      },
      {
       "output_type": "stream",
       "stream": "stdout",
       "text": [
        "      0.638716666667      2.0\n",
        "1.0"
       ]
      },
      {
       "output_type": "stream",
       "stream": "stdout",
       "text": [
        "      0.647733333333      2.0\n",
        "1.0"
       ]
      },
      {
       "output_type": "stream",
       "stream": "stdout",
       "text": [
        "      0.617033333333      2.0\n",
        "1.0"
       ]
      },
      {
       "output_type": "stream",
       "stream": "stdout",
       "text": [
        "      0.653266666667      2.0\n",
        "1.0"
       ]
      },
      {
       "output_type": "stream",
       "stream": "stdout",
       "text": [
        "      0.62735      2.0\n",
        "1.0"
       ]
      },
      {
       "output_type": "stream",
       "stream": "stdout",
       "text": [
        "      0.625783333333      2.0\n",
        "1.0"
       ]
      },
      {
       "output_type": "stream",
       "stream": "stdout",
       "text": [
        "      0.660433333333      3.0\n",
        "1.0"
       ]
      },
      {
       "output_type": "stream",
       "stream": "stdout",
       "text": [
        "      0.671383333333      3.0\n",
        "1.0"
       ]
      },
      {
       "output_type": "stream",
       "stream": "stdout",
       "text": [
        "      0.6443      3.0\n",
        "1.0"
       ]
      },
      {
       "output_type": "stream",
       "stream": "stdout",
       "text": [
        "      0.658583333333      3.0\n",
        "1.0"
       ]
      },
      {
       "output_type": "stream",
       "stream": "stdout",
       "text": [
        "      0.634966666667      3.0\n",
        "1.0"
       ]
      },
      {
       "output_type": "stream",
       "stream": "stdout",
       "text": [
        "      0.655616666667      3.0\n",
        "1.0"
       ]
      },
      {
       "output_type": "stream",
       "stream": "stdout",
       "text": [
        "      0.667216666667      3.0\n",
        "1.0"
       ]
      },
      {
       "output_type": "stream",
       "stream": "stdout",
       "text": [
        "      0.655783333333      3.0\n",
        "1.0"
       ]
      },
      {
       "output_type": "stream",
       "stream": "stdout",
       "text": [
        "      0.629383333333      3.0\n",
        "1.0"
       ]
      },
      {
       "output_type": "stream",
       "stream": "stdout",
       "text": [
        "      0.662266666667      2.0\n",
        "1.0"
       ]
      },
      {
       "output_type": "stream",
       "stream": "stdout",
       "text": [
        "      0.599266666667      1.0\n",
        "1.0"
       ]
      },
      {
       "output_type": "stream",
       "stream": "stdout",
       "text": [
        "      0.602516666667      1.0\n",
        "1.0"
       ]
      },
      {
       "output_type": "stream",
       "stream": "stdout",
       "text": [
        "      0.633066666667      2.0\n",
        "1.0"
       ]
      },
      {
       "output_type": "stream",
       "stream": "stdout",
       "text": [
        "      0.628783333333      2.0\n",
        "1.0"
       ]
      },
      {
       "output_type": "stream",
       "stream": "stdout",
       "text": [
        "      0.62395      1.0\n",
        "1.0"
       ]
      },
      {
       "output_type": "stream",
       "stream": "stdout",
       "text": [
        "      0.613533333333      2.0\n",
        "1.0"
       ]
      },
      {
       "output_type": "stream",
       "stream": "stdout",
       "text": [
        "      0.609383333333      1.0\n",
        "1.0"
       ]
      },
      {
       "output_type": "stream",
       "stream": "stdout",
       "text": [
        "      0.599666666667      1.0\n",
        "1.0"
       ]
      },
      {
       "output_type": "stream",
       "stream": "stdout",
       "text": [
        "      0.6185      2.0\n",
        "1.0"
       ]
      },
      {
       "output_type": "stream",
       "stream": "stdout",
       "text": [
        "      0.653416666667      5.0\n",
        "1.0"
       ]
      },
      {
       "output_type": "stream",
       "stream": "stdout",
       "text": [
        "      0.64555      6.0\n",
        "1.0"
       ]
      },
      {
       "output_type": "stream",
       "stream": "stdout",
       "text": [
        "      0.643566666667      6.0\n",
        "1.0"
       ]
      },
      {
       "output_type": "stream",
       "stream": "stdout",
       "text": [
        "      0.647083333333      6.0\n",
        "1.0"
       ]
      },
      {
       "output_type": "stream",
       "stream": "stdout",
       "text": [
        "      0.65535      6.0\n",
        "1.0"
       ]
      },
      {
       "output_type": "stream",
       "stream": "stdout",
       "text": [
        "      0.642383333333      6.0\n",
        "1.0"
       ]
      },
      {
       "output_type": "stream",
       "stream": "stdout",
       "text": [
        "      0.687533333333      5.0\n",
        "1.0"
       ]
      },
      {
       "output_type": "stream",
       "stream": "stdout",
       "text": [
        "      0.6886      5.0\n",
        "1.0"
       ]
      },
      {
       "output_type": "stream",
       "stream": "stdout",
       "text": [
        "      0.67535      6.0\n",
        "1.0"
       ]
      },
      {
       "output_type": "stream",
       "stream": "stdout",
       "text": [
        "      0.626583333333      1.0\n",
        "1.0"
       ]
      },
      {
       "output_type": "stream",
       "stream": "stdout",
       "text": [
        "      0.634316666667      2.0\n",
        "1.0"
       ]
      },
      {
       "output_type": "stream",
       "stream": "stdout",
       "text": [
        "      0.617283333333      2.0\n",
        "1.0"
       ]
      },
      {
       "output_type": "stream",
       "stream": "stdout",
       "text": [
        "      0.6026      2.0\n",
        "1.0"
       ]
      },
      {
       "output_type": "stream",
       "stream": "stdout",
       "text": [
        "      0.6162      1.0\n",
        "1.0"
       ]
      },
      {
       "output_type": "stream",
       "stream": "stdout",
       "text": [
        "      0.61015      1.0\n",
        "1.0"
       ]
      },
      {
       "output_type": "stream",
       "stream": "stdout",
       "text": [
        "      0.60875      1.0\n",
        "1.0"
       ]
      },
      {
       "output_type": "stream",
       "stream": "stdout",
       "text": [
        "      0.607733333333      2.0\n",
        "1.0"
       ]
      },
      {
       "output_type": "stream",
       "stream": "stdout",
       "text": [
        "      0.6124      2.0\n",
        "1.0"
       ]
      },
      {
       "output_type": "stream",
       "stream": "stdout",
       "text": [
        "      0.7604      29.0\n",
        "1.0"
       ]
      },
      {
       "output_type": "stream",
       "stream": "stdout",
       "text": [
        "      0.760316666667      35.0\n",
        "1.0"
       ]
      },
      {
       "output_type": "stream",
       "stream": "stdout",
       "text": [
        "      0.76205      52.0\n",
        "1.0"
       ]
      },
      {
       "output_type": "stream",
       "stream": "stdout",
       "text": [
        "      0.758933333333      56.0\n",
        "1.0"
       ]
      },
      {
       "output_type": "stream",
       "stream": "stdout",
       "text": [
        "      0.7606      37.0\n",
        "1.0"
       ]
      },
      {
       "output_type": "stream",
       "stream": "stdout",
       "text": [
        "      0.759933333333      27.0\n",
        "1.0"
       ]
      },
      {
       "output_type": "stream",
       "stream": "stdout",
       "text": [
        "      0.760166666667      41.0\n",
        "1.0"
       ]
      },
      {
       "output_type": "stream",
       "stream": "stdout",
       "text": [
        "      0.760866666667      38.0\n",
        "1.0"
       ]
      },
      {
       "output_type": "stream",
       "stream": "stdout",
       "text": [
        "      0.759716666667      37.0\n",
        "1.0"
       ]
      },
      {
       "output_type": "stream",
       "stream": "stdout",
       "text": [
        "      0.74455      10.0\n",
        "1.0"
       ]
      },
      {
       "output_type": "stream",
       "stream": "stdout",
       "text": [
        "      0.7392      10.0\n",
        "1.0"
       ]
      },
      {
       "output_type": "stream",
       "stream": "stdout",
       "text": [
        "      0.73185      9.0\n",
        "1.0"
       ]
      },
      {
       "output_type": "stream",
       "stream": "stdout",
       "text": [
        "      0.745866666667      10.0\n",
        "1.0"
       ]
      },
      {
       "output_type": "stream",
       "stream": "stdout",
       "text": [
        "      0.7428      11.0\n",
        "1.0"
       ]
      },
      {
       "output_type": "stream",
       "stream": "stdout",
       "text": [
        "      0.749283333333      10.0\n",
        "1.0"
       ]
      },
      {
       "output_type": "stream",
       "stream": "stdout",
       "text": [
        "      0.746716666667      11.0\n",
        "1.0"
       ]
      },
      {
       "output_type": "stream",
       "stream": "stdout",
       "text": [
        "      0.744083333333      10.0\n",
        "1.0"
       ]
      },
      {
       "output_type": "stream",
       "stream": "stdout",
       "text": [
        "      0.7382      9.0\n",
        "1.0"
       ]
      },
      {
       "output_type": "stream",
       "stream": "stdout",
       "text": [
        "      0.765183333333      45.0\n",
        "1.0"
       ]
      },
      {
       "output_type": "stream",
       "stream": "stdout",
       "text": [
        "      0.765366666667      45.0\n",
        "1.0"
       ]
      },
      {
       "output_type": "stream",
       "stream": "stdout",
       "text": [
        "      0.76565      46.0\n",
        "1.0"
       ]
      },
      {
       "output_type": "stream",
       "stream": "stdout",
       "text": [
        "      0.766416666667      45.0\n",
        "1.0"
       ]
      },
      {
       "output_type": "stream",
       "stream": "stdout",
       "text": [
        "      0.765516666667      45.0\n",
        "1.0"
       ]
      },
      {
       "output_type": "stream",
       "stream": "stdout",
       "text": [
        "      0.763966666667      46.0\n",
        "1.0"
       ]
      },
      {
       "output_type": "stream",
       "stream": "stdout",
       "text": [
        "      0.7653      46.0\n",
        "1.0"
       ]
      },
      {
       "output_type": "stream",
       "stream": "stdout",
       "text": [
        "      0.765116666667      47.0\n",
        "1.0"
       ]
      },
      {
       "output_type": "stream",
       "stream": "stdout",
       "text": [
        "      0.765066666667      47.0\n",
        "1.0"
       ]
      },
      {
       "output_type": "stream",
       "stream": "stdout",
       "text": [
        "      0.750766666667      12.0\n",
        "1.0"
       ]
      },
      {
       "output_type": "stream",
       "stream": "stdout",
       "text": [
        "      0.744916666667      9.0\n",
        "1.0"
       ]
      },
      {
       "output_type": "stream",
       "stream": "stdout",
       "text": [
        "      0.751183333333      10.0\n",
        "1.0"
       ]
      },
      {
       "output_type": "stream",
       "stream": "stdout",
       "text": [
        "      0.753833333333      11.0\n",
        "1.0"
       ]
      },
      {
       "output_type": "stream",
       "stream": "stdout",
       "text": [
        "      0.747366666667      8.0\n",
        "1.0"
       ]
      },
      {
       "output_type": "stream",
       "stream": "stdout",
       "text": [
        "      0.7414      8.0\n",
        "1.0"
       ]
      },
      {
       "output_type": "stream",
       "stream": "stdout",
       "text": [
        "      0.749366666667      10.0\n",
        "1.0"
       ]
      },
      {
       "output_type": "stream",
       "stream": "stdout",
       "text": [
        "      0.751016666667      10.0\n",
        "1.0"
       ]
      },
      {
       "output_type": "stream",
       "stream": "stdout",
       "text": [
        "      0.75065      11.0\n",
        "1.0"
       ]
      },
      {
       "output_type": "stream",
       "stream": "stdout",
       "text": [
        "      0.6997375      5.0\n",
        "1.0"
       ]
      },
      {
       "output_type": "stream",
       "stream": "stdout",
       "text": [
        "      0.6731375      5.0\n",
        "1.0"
       ]
      },
      {
       "output_type": "stream",
       "stream": "stdout",
       "text": [
        "      0.6830125      5.0\n",
        "1.0"
       ]
      },
      {
       "output_type": "stream",
       "stream": "stdout",
       "text": [
        "      0.667375      6.0\n",
        "1.0"
       ]
      },
      {
       "output_type": "stream",
       "stream": "stdout",
       "text": [
        "      0.711675      5.0\n",
        "1.0"
       ]
      },
      {
       "output_type": "stream",
       "stream": "stdout",
       "text": [
        "      0.6910375      5.0\n",
        "1.0"
       ]
      },
      {
       "output_type": "stream",
       "stream": "stdout",
       "text": [
        "      0.6756      5.0\n",
        "1.0"
       ]
      },
      {
       "output_type": "stream",
       "stream": "stdout",
       "text": [
        "      0.684275      5.0\n",
        "1.0"
       ]
      },
      {
       "output_type": "stream",
       "stream": "stdout",
       "text": [
        "      0.6727      5.0\n",
        "1.0"
       ]
      },
      {
       "output_type": "stream",
       "stream": "stdout",
       "text": [
        "      0.6243      3.0\n",
        "1.0"
       ]
      },
      {
       "output_type": "stream",
       "stream": "stdout",
       "text": [
        "      0.6331      3.0\n",
        "1.0"
       ]
      },
      {
       "output_type": "stream",
       "stream": "stdout",
       "text": [
        "      0.6263125      2.0\n",
        "1.0"
       ]
      },
      {
       "output_type": "stream",
       "stream": "stdout",
       "text": [
        "      0.6437625      2.0\n",
        "1.0"
       ]
      },
      {
       "output_type": "stream",
       "stream": "stdout",
       "text": [
        "      0.6166875      3.0\n",
        "1.0"
       ]
      },
      {
       "output_type": "stream",
       "stream": "stdout",
       "text": [
        "      0.6277625      3.0\n",
        "1.0"
       ]
      },
      {
       "output_type": "stream",
       "stream": "stdout",
       "text": [
        "      0.6398125      2.0\n",
        "1.0"
       ]
      },
      {
       "output_type": "stream",
       "stream": "stdout",
       "text": [
        "      0.6409375      3.0\n",
        "1.0"
       ]
      },
      {
       "output_type": "stream",
       "stream": "stdout",
       "text": [
        "      0.634925      3.0\n",
        "1.0"
       ]
      },
      {
       "output_type": "stream",
       "stream": "stdout",
       "text": [
        "      0.683425      11.0\n",
        "1.0"
       ]
      },
      {
       "output_type": "stream",
       "stream": "stdout",
       "text": [
        "      0.7044875      11.0\n",
        "1.0"
       ]
      },
      {
       "output_type": "stream",
       "stream": "stdout",
       "text": [
        "      0.696025      10.0\n",
        "1.0"
       ]
      },
      {
       "output_type": "stream",
       "stream": "stdout",
       "text": [
        "      0.7037875      11.0\n",
        "1.0"
       ]
      },
      {
       "output_type": "stream",
       "stream": "stdout",
       "text": [
        "      0.675775      11.0\n",
        "1.0"
       ]
      },
      {
       "output_type": "stream",
       "stream": "stdout",
       "text": [
        "      0.7123875      10.0\n",
        "1.0"
       ]
      },
      {
       "output_type": "stream",
       "stream": "stdout",
       "text": [
        "      0.684825      9.0\n",
        "1.0"
       ]
      },
      {
       "output_type": "stream",
       "stream": "stdout",
       "text": [
        "      0.69475      9.0\n",
        "1.0"
       ]
      },
      {
       "output_type": "stream",
       "stream": "stdout",
       "text": [
        "      0.6868375      10.0\n",
        "1.0"
       ]
      },
      {
       "output_type": "stream",
       "stream": "stdout",
       "text": [
        "      0.647025      3.0\n",
        "1.0"
       ]
      },
      {
       "output_type": "stream",
       "stream": "stdout",
       "text": [
        "      0.6253375      3.0\n",
        "1.0"
       ]
      },
      {
       "output_type": "stream",
       "stream": "stdout",
       "text": [
        "      0.650275      3.0\n",
        "1.0"
       ]
      },
      {
       "output_type": "stream",
       "stream": "stdout",
       "text": [
        "      0.662225      3.0\n",
        "1.0"
       ]
      },
      {
       "output_type": "stream",
       "stream": "stdout",
       "text": [
        "      0.640175      3.0\n",
        "1.0"
       ]
      },
      {
       "output_type": "stream",
       "stream": "stdout",
       "text": [
        "      0.6525375      3.0\n",
        "1.0"
       ]
      },
      {
       "output_type": "stream",
       "stream": "stdout",
       "text": [
        "      0.628625      3.0\n",
        "1.0"
       ]
      },
      {
       "output_type": "stream",
       "stream": "stdout",
       "text": [
        "      0.62175      3.0\n",
        "1.0"
       ]
      },
      {
       "output_type": "stream",
       "stream": "stdout",
       "text": [
        "      0.6422875      3.0\n",
        "1.0"
       ]
      },
      {
       "output_type": "stream",
       "stream": "stdout",
       "text": [
        "      0.691275      5.0\n",
        "1.0"
       ]
      },
      {
       "output_type": "stream",
       "stream": "stdout",
       "text": [
        "      0.6839625      5.0\n",
        "1.0"
       ]
      },
      {
       "output_type": "stream",
       "stream": "stdout",
       "text": [
        "      0.6840125      5.0\n",
        "1.0"
       ]
      },
      {
       "output_type": "stream",
       "stream": "stdout",
       "text": [
        "      0.6821875      6.0\n",
        "1.0"
       ]
      },
      {
       "output_type": "stream",
       "stream": "stdout",
       "text": [
        "      0.67365      6.0\n",
        "1.0"
       ]
      },
      {
       "output_type": "stream",
       "stream": "stdout",
       "text": [
        "      0.6723875      6.0\n",
        "1.0"
       ]
      },
      {
       "output_type": "stream",
       "stream": "stdout",
       "text": [
        "      0.684675      6.0\n",
        "1.0"
       ]
      },
      {
       "output_type": "stream",
       "stream": "stdout",
       "text": [
        "      0.6706375      6.0\n",
        "1.0"
       ]
      },
      {
       "output_type": "stream",
       "stream": "stdout",
       "text": [
        "      0.7030625      6.0\n",
        "1.0"
       ]
      },
      {
       "output_type": "stream",
       "stream": "stdout",
       "text": [
        "      0.6079      3.0\n",
        "1.0"
       ]
      },
      {
       "output_type": "stream",
       "stream": "stdout",
       "text": [
        "      0.621375      3.0\n",
        "1.0"
       ]
      },
      {
       "output_type": "stream",
       "stream": "stdout",
       "text": [
        "      0.6279625      3.0\n",
        "1.0"
       ]
      },
      {
       "output_type": "stream",
       "stream": "stdout",
       "text": [
        "      0.644025      3.0\n",
        "1.0"
       ]
      },
      {
       "output_type": "stream",
       "stream": "stdout",
       "text": [
        "      0.6420875      3.0\n",
        "1.0"
       ]
      },
      {
       "output_type": "stream",
       "stream": "stdout",
       "text": [
        "      0.642175      3.0\n",
        "1.0"
       ]
      },
      {
       "output_type": "stream",
       "stream": "stdout",
       "text": [
        "      0.6247875      3.0\n",
        "1.0"
       ]
      },
      {
       "output_type": "stream",
       "stream": "stdout",
       "text": [
        "      0.6245375      3.0\n",
        "1.0"
       ]
      },
      {
       "output_type": "stream",
       "stream": "stdout",
       "text": [
        "      0.6306      2.0\n",
        "1.0"
       ]
      },
      {
       "output_type": "stream",
       "stream": "stdout",
       "text": [
        "      0.68985      10.0\n",
        "1.0"
       ]
      },
      {
       "output_type": "stream",
       "stream": "stdout",
       "text": [
        "      0.676075      12.0\n",
        "1.0"
       ]
      },
      {
       "output_type": "stream",
       "stream": "stdout",
       "text": [
        "      0.673825      11.0\n",
        "1.0"
       ]
      },
      {
       "output_type": "stream",
       "stream": "stdout",
       "text": [
        "      0.7014625      10.0\n",
        "1.0"
       ]
      },
      {
       "output_type": "stream",
       "stream": "stdout",
       "text": [
        "      0.6949375      11.0\n",
        "1.0"
       ]
      },
      {
       "output_type": "stream",
       "stream": "stdout",
       "text": [
        "      0.6941      9.0\n",
        "1.0"
       ]
      },
      {
       "output_type": "stream",
       "stream": "stdout",
       "text": [
        "      0.720875      10.0\n",
        "1.0"
       ]
      },
      {
       "output_type": "stream",
       "stream": "stdout",
       "text": [
        "      0.706675      11.0\n",
        "1.0"
       ]
      },
      {
       "output_type": "stream",
       "stream": "stdout",
       "text": [
        "      0.707175      10.0\n",
        "1.0"
       ]
      },
      {
       "output_type": "stream",
       "stream": "stdout",
       "text": [
        "      0.619575      3.0\n",
        "1.0"
       ]
      },
      {
       "output_type": "stream",
       "stream": "stdout",
       "text": [
        "      0.65455      3.0\n",
        "1.0"
       ]
      },
      {
       "output_type": "stream",
       "stream": "stdout",
       "text": [
        "      0.669925      2.0\n",
        "1.0"
       ]
      },
      {
       "output_type": "stream",
       "stream": "stdout",
       "text": [
        "      0.6589      3.0\n",
        "1.0"
       ]
      },
      {
       "output_type": "stream",
       "stream": "stdout",
       "text": [
        "      0.6203125      2.0\n",
        "1.0"
       ]
      },
      {
       "output_type": "stream",
       "stream": "stdout",
       "text": [
        "      0.6227625      4.0\n",
        "1.0"
       ]
      },
      {
       "output_type": "stream",
       "stream": "stdout",
       "text": [
        "      0.645275      3.0\n",
        "1.0"
       ]
      },
      {
       "output_type": "stream",
       "stream": "stdout",
       "text": [
        "      0.6363375      3.0\n",
        "1.0"
       ]
      },
      {
       "output_type": "stream",
       "stream": "stdout",
       "text": [
        "      0.6143625      2.0\n",
        "1.0"
       ]
      },
      {
       "output_type": "stream",
       "stream": "stdout",
       "text": [
        "      0.6604      4.0\n",
        "1.0"
       ]
      },
      {
       "output_type": "stream",
       "stream": "stdout",
       "text": [
        "      0.642225      5.0\n",
        "1.0"
       ]
      },
      {
       "output_type": "stream",
       "stream": "stdout",
       "text": [
        "      0.6573625      5.0\n",
        "1.0"
       ]
      },
      {
       "output_type": "stream",
       "stream": "stdout",
       "text": [
        "      0.649225      4.0\n",
        "1.0"
       ]
      },
      {
       "output_type": "stream",
       "stream": "stdout",
       "text": [
        "      0.641475      5.0\n",
        "1.0"
       ]
      },
      {
       "output_type": "stream",
       "stream": "stdout",
       "text": [
        "      0.6411375      5.0\n",
        "1.0"
       ]
      },
      {
       "output_type": "stream",
       "stream": "stdout",
       "text": [
        "      0.6437625      4.0\n",
        "1.0"
       ]
      },
      {
       "output_type": "stream",
       "stream": "stdout",
       "text": [
        "      0.6814625      4.0\n",
        "1.0"
       ]
      },
      {
       "output_type": "stream",
       "stream": "stdout",
       "text": [
        "      0.6516      4.0\n",
        "1.0"
       ]
      },
      {
       "output_type": "stream",
       "stream": "stdout",
       "text": [
        "      0.6029625      2.0\n",
        "1.0"
       ]
      },
      {
       "output_type": "stream",
       "stream": "stdout",
       "text": [
        "      0.6262125      2.0\n",
        "1.0"
       ]
      },
      {
       "output_type": "stream",
       "stream": "stdout",
       "text": [
        "      0.6234125      2.0\n",
        "1.0"
       ]
      },
      {
       "output_type": "stream",
       "stream": "stdout",
       "text": [
        "      0.606525      3.0\n",
        "1.0"
       ]
      },
      {
       "output_type": "stream",
       "stream": "stdout",
       "text": [
        "      0.6411625      2.0\n",
        "1.0"
       ]
      },
      {
       "output_type": "stream",
       "stream": "stdout",
       "text": [
        "      0.637225      2.0\n",
        "1.0"
       ]
      },
      {
       "output_type": "stream",
       "stream": "stdout",
       "text": [
        "      0.6110625      3.0\n",
        "1.0"
       ]
      },
      {
       "output_type": "stream",
       "stream": "stdout",
       "text": [
        "      0.614025      3.0\n",
        "1.0"
       ]
      },
      {
       "output_type": "stream",
       "stream": "stdout",
       "text": [
        "      0.603275      2.0\n",
        "1.0"
       ]
      },
      {
       "output_type": "stream",
       "stream": "stdout",
       "text": [
        "      0.6513875      8.0\n",
        "1.0"
       ]
      },
      {
       "output_type": "stream",
       "stream": "stdout",
       "text": [
        "      0.6708      8.0\n",
        "1.0"
       ]
      },
      {
       "output_type": "stream",
       "stream": "stdout",
       "text": [
        "      0.6642      9.0\n",
        "1.0"
       ]
      },
      {
       "output_type": "stream",
       "stream": "stdout",
       "text": [
        "      0.6707875      8.0\n",
        "1.0"
       ]
      },
      {
       "output_type": "stream",
       "stream": "stdout",
       "text": [
        "      0.6682      8.0\n",
        "1.0"
       ]
      },
      {
       "output_type": "stream",
       "stream": "stdout",
       "text": [
        "      0.6560875      8.0\n",
        "1.0"
       ]
      },
      {
       "output_type": "stream",
       "stream": "stdout",
       "text": [
        "      0.6877625      8.0\n",
        "1.0"
       ]
      },
      {
       "output_type": "stream",
       "stream": "stdout",
       "text": [
        "      0.6716375      9.0\n",
        "1.0"
       ]
      },
      {
       "output_type": "stream",
       "stream": "stdout",
       "text": [
        "      0.6588375      8.0\n",
        "1.0"
       ]
      },
      {
       "output_type": "stream",
       "stream": "stdout",
       "text": [
        "      0.620975      3.0\n",
        "1.0"
       ]
      },
      {
       "output_type": "stream",
       "stream": "stdout",
       "text": [
        "      0.6293375      3.0\n",
        "1.0"
       ]
      },
      {
       "output_type": "stream",
       "stream": "stdout",
       "text": [
        "      0.6603125      3.0\n",
        "1.0"
       ]
      },
      {
       "output_type": "stream",
       "stream": "stdout",
       "text": [
        "      0.6030625      2.0\n",
        "1.0"
       ]
      },
      {
       "output_type": "stream",
       "stream": "stdout",
       "text": [
        "      0.6094125      2.0\n",
        "1.0"
       ]
      },
      {
       "output_type": "stream",
       "stream": "stdout",
       "text": [
        "      0.6155375      3.0\n",
        "1.0"
       ]
      },
      {
       "output_type": "stream",
       "stream": "stdout",
       "text": [
        "      0.618075      3.0\n",
        "1.0"
       ]
      },
      {
       "output_type": "stream",
       "stream": "stdout",
       "text": [
        "      0.6105625      2.0\n",
        "1.0"
       ]
      },
      {
       "output_type": "stream",
       "stream": "stdout",
       "text": [
        "      0.604425      3.0\n",
        "1.0"
       ]
      },
      {
       "output_type": "stream",
       "stream": "stdout",
       "text": [
        "      0.7619125      41.0\n",
        "1.0"
       ]
      },
      {
       "output_type": "stream",
       "stream": "stdout",
       "text": [
        "      0.762275      40.0\n",
        "1.0"
       ]
      },
      {
       "output_type": "stream",
       "stream": "stdout",
       "text": [
        "      0.7617625      42.0\n",
        "1.0"
       ]
      },
      {
       "output_type": "stream",
       "stream": "stdout",
       "text": [
        "      0.761525      42.0\n",
        "1.0"
       ]
      },
      {
       "output_type": "stream",
       "stream": "stdout",
       "text": [
        "      0.7618      42.0\n",
        "1.0"
       ]
      },
      {
       "output_type": "stream",
       "stream": "stdout",
       "text": [
        "      0.7622125      40.0\n",
        "1.0"
       ]
      },
      {
       "output_type": "stream",
       "stream": "stdout",
       "text": [
        "      0.7605375      41.0\n",
        "1.0"
       ]
      },
      {
       "output_type": "stream",
       "stream": "stdout",
       "text": [
        "      0.76105      41.0\n",
        "1.0"
       ]
      },
      {
       "output_type": "stream",
       "stream": "stdout",
       "text": [
        "      0.76095      42.0\n",
        "1.0"
       ]
      },
      {
       "output_type": "stream",
       "stream": "stdout",
       "text": [
        "      0.74935      16.0\n",
        "1.0"
       ]
      },
      {
       "output_type": "stream",
       "stream": "stdout",
       "text": [
        "      0.749375      15.0\n",
        "1.0"
       ]
      },
      {
       "output_type": "stream",
       "stream": "stdout",
       "text": [
        "      0.749975      15.0\n",
        "1.0"
       ]
      },
      {
       "output_type": "stream",
       "stream": "stdout",
       "text": [
        "      0.7484      33.0\n",
        "1.0"
       ]
      },
      {
       "output_type": "stream",
       "stream": "stdout",
       "text": [
        "      0.747475      30.0\n",
        "1.0"
       ]
      },
      {
       "output_type": "stream",
       "stream": "stdout",
       "text": [
        "      0.7507125      23.0\n",
        "1.0"
       ]
      },
      {
       "output_type": "stream",
       "stream": "stdout",
       "text": [
        "      0.7442875      14.0\n",
        "1.0"
       ]
      },
      {
       "output_type": "stream",
       "stream": "stdout",
       "text": [
        "      0.743625      16.0\n",
        "1.0"
       ]
      },
      {
       "output_type": "stream",
       "stream": "stdout",
       "text": [
        "      0.7487875      17.0\n",
        "1.0"
       ]
      },
      {
       "output_type": "stream",
       "stream": "stdout",
       "text": [
        "      0.7676375      64.0\n",
        "1.0"
       ]
      },
      {
       "output_type": "stream",
       "stream": "stdout",
       "text": [
        "      0.7669      65.0\n",
        "1.0"
       ]
      },
      {
       "output_type": "stream",
       "stream": "stdout",
       "text": [
        "      0.7671375      93.0\n",
        "1.0"
       ]
      },
      {
       "output_type": "stream",
       "stream": "stdout",
       "text": [
        "      0.7676875      79.0\n",
        "1.0"
       ]
      },
      {
       "output_type": "stream",
       "stream": "stdout",
       "text": [
        "      0.7661375      75.0\n",
        "1.0"
       ]
      },
      {
       "output_type": "stream",
       "stream": "stdout",
       "text": [
        "      0.7657125      64.0\n",
        "1.0"
       ]
      },
      {
       "output_type": "stream",
       "stream": "stdout",
       "text": [
        "      0.7658125      82.0\n",
        "1.0"
       ]
      },
      {
       "output_type": "stream",
       "stream": "stdout",
       "text": [
        "      0.7662125      65.0\n",
        "1.0"
       ]
      },
      {
       "output_type": "stream",
       "stream": "stdout",
       "text": [
        "      0.767525      66.0\n",
        "1.0"
       ]
      },
      {
       "output_type": "stream",
       "stream": "stdout",
       "text": [
        "      0.7518375      16.0\n",
        "1.0"
       ]
      },
      {
       "output_type": "stream",
       "stream": "stdout",
       "text": [
        "      0.75475      15.0\n",
        "1.0"
       ]
      },
      {
       "output_type": "stream",
       "stream": "stdout",
       "text": [
        "      0.7464625      15.0\n",
        "1.0"
       ]
      },
      {
       "output_type": "stream",
       "stream": "stdout",
       "text": [
        "      0.751175      16.0\n",
        "1.0"
       ]
      },
      {
       "output_type": "stream",
       "stream": "stdout",
       "text": [
        "      0.7484375      16.0\n",
        "1.0"
       ]
      },
      {
       "output_type": "stream",
       "stream": "stdout",
       "text": [
        "      0.749475      15.0\n",
        "1.0"
       ]
      },
      {
       "output_type": "stream",
       "stream": "stdout",
       "text": [
        "      0.75075      15.0\n",
        "1.0"
       ]
      },
      {
       "output_type": "stream",
       "stream": "stdout",
       "text": [
        "      0.752      16.0\n",
        "1.0"
       ]
      },
      {
       "output_type": "stream",
       "stream": "stdout",
       "text": [
        "      0.75275      21.0\n",
        "1.0"
       ]
      },
      {
       "output_type": "stream",
       "stream": "stdout",
       "text": [
        "      0.70656      14.0\n",
        "1.0"
       ]
      },
      {
       "output_type": "stream",
       "stream": "stdout",
       "text": [
        "      0.70022      15.0\n",
        "1.0"
       ]
      },
      {
       "output_type": "stream",
       "stream": "stdout",
       "text": [
        "      0.67191      16.0\n",
        "1.0"
       ]
      },
      {
       "output_type": "stream",
       "stream": "stdout",
       "text": [
        "      0.71132      13.0\n",
        "1.0"
       ]
      },
      {
       "output_type": "stream",
       "stream": "stdout",
       "text": [
        "      0.69931      7.0\n",
        "1.0"
       ]
      },
      {
       "output_type": "stream",
       "stream": "stdout",
       "text": [
        "      0.68974      8.0\n",
        "1.0"
       ]
      },
      {
       "output_type": "stream",
       "stream": "stdout",
       "text": [
        "      0.66615      7.0\n",
        "1.0"
       ]
      },
      {
       "output_type": "stream",
       "stream": "stdout",
       "text": [
        "      0.71123      6.0\n",
        "1.0"
       ]
      },
      {
       "output_type": "stream",
       "stream": "stdout",
       "text": [
        "      0.6646      7.0\n",
        "1.0"
       ]
      },
      {
       "output_type": "stream",
       "stream": "stdout",
       "text": [
        "      0.6407      3.0\n",
        "1.0"
       ]
      },
      {
       "output_type": "stream",
       "stream": "stdout",
       "text": [
        "      0.61757      4.0\n",
        "1.0"
       ]
      },
      {
       "output_type": "stream",
       "stream": "stdout",
       "text": [
        "      0.63757      4.0\n",
        "1.0"
       ]
      },
      {
       "output_type": "stream",
       "stream": "stdout",
       "text": [
        "      0.62823      4.0\n",
        "1.0"
       ]
      },
      {
       "output_type": "stream",
       "stream": "stdout",
       "text": [
        "      0.64324      4.0\n",
        "1.0"
       ]
      },
      {
       "output_type": "stream",
       "stream": "stdout",
       "text": [
        "      0.63806      4.0\n",
        "1.0"
       ]
      },
      {
       "output_type": "stream",
       "stream": "stdout",
       "text": [
        "      0.61575      5.0\n",
        "1.0"
       ]
      },
      {
       "output_type": "stream",
       "stream": "stdout",
       "text": [
        "      0.63569      4.0\n",
        "1.0"
       ]
      },
      {
       "output_type": "stream",
       "stream": "stdout",
       "text": [
        "      0.62888      4.0\n",
        "1.0"
       ]
      },
      {
       "output_type": "stream",
       "stream": "stdout",
       "text": [
        "      0.69219      29.0\n",
        "1.0"
       ]
      },
      {
       "output_type": "stream",
       "stream": "stdout",
       "text": [
        "      0.68374      26.0\n",
        "1.0"
       ]
      },
      {
       "output_type": "stream",
       "stream": "stdout",
       "text": [
        "      0.70386      21.0\n",
        "1.0"
       ]
      },
      {
       "output_type": "stream",
       "stream": "stdout",
       "text": [
        "      0.68872      18.0\n",
        "1.0"
       ]
      },
      {
       "output_type": "stream",
       "stream": "stdout",
       "text": [
        "      0.6937      13.0\n",
        "1.0"
       ]
      },
      {
       "output_type": "stream",
       "stream": "stdout",
       "text": [
        "      0.67757      13.0\n",
        "1.0"
       ]
      },
      {
       "output_type": "stream",
       "stream": "stdout",
       "text": [
        "      0.70315      14.0\n",
        "1.0"
       ]
      },
      {
       "output_type": "stream",
       "stream": "stdout",
       "text": [
        "      0.69425      14.0\n",
        "1.0"
       ]
      },
      {
       "output_type": "stream",
       "stream": "stdout",
       "text": [
        "      0.69411      13.0\n",
        "1.0"
       ]
      },
      {
       "output_type": "stream",
       "stream": "stdout",
       "text": [
        "      0.63761      5.0\n",
        "1.0"
       ]
      },
      {
       "output_type": "stream",
       "stream": "stdout",
       "text": [
        "      0.64818      4.0\n",
        "1.0"
       ]
      },
      {
       "output_type": "stream",
       "stream": "stdout",
       "text": [
        "      0.66376      4.0\n",
        "1.0"
       ]
      },
      {
       "output_type": "stream",
       "stream": "stdout",
       "text": [
        "      0.6571      4.0\n",
        "1.0"
       ]
      },
      {
       "output_type": "stream",
       "stream": "stdout",
       "text": [
        "      0.64418      4.0\n",
        "1.0"
       ]
      },
      {
       "output_type": "stream",
       "stream": "stdout",
       "text": [
        "      0.63477      4.0\n",
        "1.0"
       ]
      },
      {
       "output_type": "stream",
       "stream": "stdout",
       "text": [
        "      0.63174      4.0\n",
        "1.0"
       ]
      },
      {
       "output_type": "stream",
       "stream": "stdout",
       "text": [
        "      0.6271      5.0\n",
        "1.0"
       ]
      },
      {
       "output_type": "stream",
       "stream": "stdout",
       "text": [
        "      0.62355      4.0\n",
        "1.0"
       ]
      },
      {
       "output_type": "stream",
       "stream": "stdout",
       "text": [
        "      0.69153      7.0\n",
        "1.0"
       ]
      },
      {
       "output_type": "stream",
       "stream": "stdout",
       "text": [
        "      0.68643      8.0\n",
        "1.0"
       ]
      },
      {
       "output_type": "stream",
       "stream": "stdout",
       "text": [
        "      0.69859      7.0\n",
        "1.0"
       ]
      },
      {
       "output_type": "stream",
       "stream": "stdout",
       "text": [
        "      0.68996      8.0\n",
        "1.0"
       ]
      },
      {
       "output_type": "stream",
       "stream": "stdout",
       "text": [
        "      0.69373      7.0\n",
        "1.0"
       ]
      },
      {
       "output_type": "stream",
       "stream": "stdout",
       "text": [
        "      0.69577      8.0\n",
        "1.0"
       ]
      },
      {
       "output_type": "stream",
       "stream": "stdout",
       "text": [
        "      0.6911      6.0\n",
        "1.0"
       ]
      },
      {
       "output_type": "stream",
       "stream": "stdout",
       "text": [
        "      0.70345      8.0\n",
        "1.0"
       ]
      },
      {
       "output_type": "stream",
       "stream": "stdout",
       "text": [
        "      0.69405      8.0\n",
        "1.0"
       ]
      },
      {
       "output_type": "stream",
       "stream": "stdout",
       "text": [
        "      0.62179      5.0\n",
        "1.0"
       ]
      },
      {
       "output_type": "stream",
       "stream": "stdout",
       "text": [
        "      0.6281      4.0\n",
        "1.0"
       ]
      },
      {
       "output_type": "stream",
       "stream": "stdout",
       "text": [
        "      0.63907      4.0\n",
        "1.0"
       ]
      },
      {
       "output_type": "stream",
       "stream": "stdout",
       "text": [
        "      0.76372      56.0\n",
        "1.0"
       ]
      },
      {
       "output_type": "stream",
       "stream": "stdout",
       "text": [
        "      0.76354      56.0\n",
        "1.0"
       ]
      },
      {
       "output_type": "stream",
       "stream": "stdout",
       "text": [
        "      0.76334      55.0\n",
        "1.0"
       ]
      },
      {
       "output_type": "stream",
       "stream": "stdout",
       "text": [
        "      0.76325      59.0\n",
        "1.0"
       ]
      },
      {
       "output_type": "stream",
       "stream": "stdout",
       "text": [
        "      0.76317      55.0\n",
        "1.0"
       ]
      },
      {
       "output_type": "stream",
       "stream": "stdout",
       "text": [
        "      0.7625      58.0\n",
        "1.0"
       ]
      },
      {
       "output_type": "stream",
       "stream": "stdout",
       "text": [
        "      0.76248      62.0\n",
        "1.0"
       ]
      },
      {
       "output_type": "stream",
       "stream": "stdout",
       "text": [
        "      0.74671      26.0\n",
        "1.0"
       ]
      },
      {
       "output_type": "stream",
       "stream": "stdout",
       "text": [
        "      0.75199      21.0\n",
        "1.0"
       ]
      },
      {
       "output_type": "stream",
       "stream": "stdout",
       "text": [
        "      0.74675      20.0\n",
        "1.0"
       ]
      },
      {
       "output_type": "stream",
       "stream": "stdout",
       "text": [
        "      0.74861      21.0\n",
        "1.0"
       ]
      },
      {
       "output_type": "stream",
       "stream": "stdout",
       "text": [
        "      0.75085      21.0\n",
        "1.0"
       ]
      },
      {
       "output_type": "stream",
       "stream": "stdout",
       "text": [
        "      0.74846      36.0\n",
        "1.0"
       ]
      },
      {
       "output_type": "stream",
       "stream": "stdout",
       "text": [
        "      0.74636      31.0\n",
        "1.0"
       ]
      },
      {
       "output_type": "stream",
       "stream": "stdout",
       "text": [
        "      0.74702      22.0\n",
        "1.0"
       ]
      },
      {
       "output_type": "stream",
       "stream": "stdout",
       "text": [
        "      0.74809      22.0\n",
        "1.0"
       ]
      },
      {
       "output_type": "stream",
       "stream": "stdout",
       "text": [
        "      0.76732      87.0\n",
        "1.0"
       ]
      },
      {
       "output_type": "stream",
       "stream": "stdout",
       "text": [
        "      0.76604      105.0\n",
        "1.0"
       ]
      },
      {
       "output_type": "stream",
       "stream": "stdout",
       "text": [
        "      0.76676      144.0\n",
        "1.0"
       ]
      },
      {
       "output_type": "stream",
       "stream": "stdout",
       "text": [
        "      0.76554      84.0\n",
        "1.0"
       ]
      },
      {
       "output_type": "stream",
       "stream": "stdout",
       "text": [
        "      0.76671      86.0\n",
        "1.0"
       ]
      },
      {
       "output_type": "stream",
       "stream": "stdout",
       "text": [
        "      0.76663      85.0\n",
        "1.0"
       ]
      },
      {
       "output_type": "stream",
       "stream": "stdout",
       "text": [
        "      0.76701      85.0\n",
        "1.0"
       ]
      },
      {
       "output_type": "stream",
       "stream": "stdout",
       "text": [
        "      0.76608      148.0\n",
        "1.0"
       ]
      },
      {
       "output_type": "stream",
       "stream": "stdout",
       "text": [
        "      0.76528      114.0\n",
        "1.0"
       ]
      },
      {
       "output_type": "stream",
       "stream": "stdout",
       "text": [
        "      0.75049      20.0\n",
        "1.0"
       ]
      },
      {
       "output_type": "stream",
       "stream": "stdout",
       "text": [
        "      0.75004      19.0\n",
        "1.0"
       ]
      },
      {
       "output_type": "stream",
       "stream": "stdout",
       "text": [
        "      0.75179      15.0\n",
        "1.0"
       ]
      },
      {
       "output_type": "stream",
       "stream": "stdout",
       "text": [
        "      0.75354      24.0\n",
        "1.0"
       ]
      },
      {
       "output_type": "stream",
       "stream": "stdout",
       "text": [
        "      0.75213      22.0\n",
        "1.0"
       ]
      },
      {
       "output_type": "stream",
       "stream": "stdout",
       "text": [
        "      0.75456      24.0\n",
        "1.0"
       ]
      },
      {
       "output_type": "stream",
       "stream": "stdout",
       "text": [
        "      0.75457      24.0\n",
        "1.0"
       ]
      },
      {
       "output_type": "stream",
       "stream": "stdout",
       "text": [
        "      0.75448      24.0\n",
        "1.0"
       ]
      },
      {
       "output_type": "stream",
       "stream": "stdout",
       "text": [
        "      0.75168      24.0\n",
        "1.0"
       ]
      },
      {
       "output_type": "stream",
       "stream": "stdout",
       "text": [
        "      0.679658333333      9.0\n",
        "1.0"
       ]
      },
      {
       "output_type": "stream",
       "stream": "stdout",
       "text": [
        "      0.678533333333      10.0\n",
        "1.0"
       ]
      },
      {
       "output_type": "stream",
       "stream": "stdout",
       "text": [
        "      0.692783333333      10.0\n",
        "1.0"
       ]
      },
      {
       "output_type": "stream",
       "stream": "stdout",
       "text": [
        "      0.691208333333      9.0\n",
        "1.0"
       ]
      },
      {
       "output_type": "stream",
       "stream": "stdout",
       "text": [
        "      0.697375      9.0\n",
        "1.0"
       ]
      },
      {
       "output_type": "stream",
       "stream": "stdout",
       "text": [
        "      0.708933333333      9.0\n",
        "1.0"
       ]
      },
      {
       "output_type": "stream",
       "stream": "stdout",
       "text": [
        "      0.715041666667      9.0\n",
        "1.0"
       ]
      },
      {
       "output_type": "stream",
       "stream": "stdout",
       "text": [
        "      0.667558333333      9.0\n",
        "1.0"
       ]
      },
      {
       "output_type": "stream",
       "stream": "stdout",
       "text": [
        "      0.682933333333      9.0\n",
        "1.0"
       ]
      },
      {
       "output_type": "stream",
       "stream": "stdout",
       "text": [
        "      0.626991666667      6.0\n",
        "1.0"
       ]
      },
      {
       "output_type": "stream",
       "stream": "stdout",
       "text": [
        "      0.615741666667      6.0\n",
        "1.0"
       ]
      },
      {
       "output_type": "stream",
       "stream": "stdout",
       "text": [
        "      0.626333333333      6.0\n",
        "1.0"
       ]
      },
      {
       "output_type": "stream",
       "stream": "stdout",
       "text": [
        "      0.63635      6.0\n",
        "1.0"
       ]
      },
      {
       "output_type": "stream",
       "stream": "stdout",
       "text": [
        "      0.636516666667      5.0\n",
        "1.0"
       ]
      },
      {
       "output_type": "stream",
       "stream": "stdout",
       "text": [
        "      0.636858333333      4.0\n",
        "1.0"
       ]
      },
      {
       "output_type": "stream",
       "stream": "stdout",
       "text": [
        "      0.635866666667      5.0\n",
        "1.0"
       ]
      },
      {
       "output_type": "stream",
       "stream": "stdout",
       "text": [
        "      0.628508333333      5.0\n",
        "1.0"
       ]
      },
      {
       "output_type": "stream",
       "stream": "stdout",
       "text": [
        "      0.633883333333      5.0\n",
        "1.0"
       ]
      },
      {
       "output_type": "stream",
       "stream": "stdout",
       "text": [
        "      0.686241666667      15.0\n",
        "1.0"
       ]
      },
      {
       "output_type": "stream",
       "stream": "stdout",
       "text": [
        "      0.688308333333      17.0\n",
        "1.0"
       ]
      },
      {
       "output_type": "stream",
       "stream": "stdout",
       "text": [
        "      0.697475      17.0\n",
        "1.0"
       ]
      },
      {
       "output_type": "stream",
       "stream": "stdout",
       "text": [
        "      0.69655      18.0\n",
        "1.0"
       ]
      },
      {
       "output_type": "stream",
       "stream": "stdout",
       "text": [
        "      0.680333333333      16.0\n",
        "1.0"
       ]
      },
      {
       "output_type": "stream",
       "stream": "stdout",
       "text": [
        "      0.701583333333      17.0\n",
        "1.0"
       ]
      },
      {
       "output_type": "stream",
       "stream": "stdout",
       "text": [
        "      0.678883333333      18.0\n",
        "1.0"
       ]
      },
      {
       "output_type": "stream",
       "stream": "stdout",
       "text": [
        "      0.697033333333      17.0\n",
        "1.0"
       ]
      },
      {
       "output_type": "stream",
       "stream": "stdout",
       "text": [
        "      0.690191666667      17.0\n",
        "1.0"
       ]
      },
      {
       "output_type": "stream",
       "stream": "stdout",
       "text": [
        "      0.667016666667      5.0\n",
        "1.0"
       ]
      },
      {
       "output_type": "stream",
       "stream": "stdout",
       "text": [
        "      0.646225      5.0\n",
        "1.0"
       ]
      },
      {
       "output_type": "stream",
       "stream": "stdout",
       "text": [
        "      0.633741666667      5.0\n",
        "1.0"
       ]
      },
      {
       "output_type": "stream",
       "stream": "stdout",
       "text": [
        "      0.65      5.0\n",
        "1.0"
       ]
      },
      {
       "output_type": "stream",
       "stream": "stdout",
       "text": [
        "      0.663608333333      6.0\n",
        "1.0"
       ]
      },
      {
       "output_type": "stream",
       "stream": "stdout",
       "text": [
        "      0.638566666667      6.0\n",
        "1.0"
       ]
      },
      {
       "output_type": "stream",
       "stream": "stdout",
       "text": [
        "      0.657525      5.0\n",
        "1.0"
       ]
      },
      {
       "output_type": "stream",
       "stream": "stdout",
       "text": [
        "      0.655025      6.0\n",
        "1.0"
       ]
      },
      {
       "output_type": "stream",
       "stream": "stdout",
       "text": [
        "      0.644741666667      5.0\n",
        "1.0"
       ]
      },
      {
       "output_type": "stream",
       "stream": "stdout",
       "text": [
        "      0.674525      9.0\n",
        "1.0"
       ]
      },
      {
       "output_type": "stream",
       "stream": "stdout",
       "text": [
        "      0.666808333333      9.0\n",
        "1.0"
       ]
      },
      {
       "output_type": "stream",
       "stream": "stdout",
       "text": [
        "      0.685125      10.0\n",
        "1.0"
       ]
      },
      {
       "output_type": "stream",
       "stream": "stdout",
       "text": [
        "      0.67405      11.0\n",
        "1.0"
       ]
      },
      {
       "output_type": "stream",
       "stream": "stdout",
       "text": [
        "      0.685825      10.0\n",
        "1.0"
       ]
      },
      {
       "output_type": "stream",
       "stream": "stdout",
       "text": [
        "      0.71805      9.0\n",
        "1.0"
       ]
      },
      {
       "output_type": "stream",
       "stream": "stdout",
       "text": [
        "      0.664333333333      9.0\n",
        "1.0"
       ]
      },
      {
       "output_type": "stream",
       "stream": "stdout",
       "text": [
        "      0.683491666667      9.0\n",
        "1.0"
       ]
      },
      {
       "output_type": "stream",
       "stream": "stdout",
       "text": [
        "      0.666925      10.0\n",
        "1.0"
       ]
      },
      {
       "output_type": "stream",
       "stream": "stdout",
       "text": [
        "      0.628925      5.0\n",
        "1.0"
       ]
      },
      {
       "output_type": "stream",
       "stream": "stdout",
       "text": [
        "      0.623075      5.0\n",
        "1.0"
       ]
      },
      {
       "output_type": "stream",
       "stream": "stdout",
       "text": [
        "      0.630333333333      5.0\n",
        "1.0"
       ]
      },
      {
       "output_type": "stream",
       "stream": "stdout",
       "text": [
        "      0.619841666667      5.0\n",
        "1.0"
       ]
      },
      {
       "output_type": "stream",
       "stream": "stdout",
       "text": [
        "      0.638233333333      6.0\n",
        "1.0"
       ]
      },
      {
       "output_type": "stream",
       "stream": "stdout",
       "text": [
        "      0.659225      5.0\n",
        "1.0"
       ]
      },
      {
       "output_type": "stream",
       "stream": "stdout",
       "text": [
        "      0.638766666667      6.0\n",
        "1.0"
       ]
      },
      {
       "output_type": "stream",
       "stream": "stdout",
       "text": [
        "      0.627508333333      5.0\n",
        "1.0"
       ]
      },
      {
       "output_type": "stream",
       "stream": "stdout",
       "text": [
        "      0.642225      6.0\n",
        "1.0"
       ]
      },
      {
       "output_type": "stream",
       "stream": "stdout",
       "text": [
        "      0.680766666667      17.0\n",
        "1.0"
       ]
      },
      {
       "output_type": "stream",
       "stream": "stdout",
       "text": [
        "      0.70745      17.0\n",
        "1.0"
       ]
      },
      {
       "output_type": "stream",
       "stream": "stdout",
       "text": [
        "      0.704258333333      38.0\n",
        "1.0"
       ]
      },
      {
       "output_type": "stream",
       "stream": "stdout",
       "text": [
        "      0.673416666667      17.0\n",
        "1.0"
       ]
      },
      {
       "output_type": "stream",
       "stream": "stdout",
       "text": [
        "      0.70215      16.0\n",
        "1.0"
       ]
      },
      {
       "output_type": "stream",
       "stream": "stdout",
       "text": [
        "      0.708275      17.0\n",
        "1.0"
       ]
      },
      {
       "output_type": "stream",
       "stream": "stdout",
       "text": [
        "      0.689275      17.0\n",
        "1.0"
       ]
      },
      {
       "output_type": "stream",
       "stream": "stdout",
       "text": [
        "      0.694066666667      33.0\n",
        "1.0"
       ]
      },
      {
       "output_type": "stream",
       "stream": "stdout",
       "text": [
        "      0.6923      36.0\n",
        "1.0"
       ]
      },
      {
       "output_type": "stream",
       "stream": "stdout",
       "text": [
        "      0.642933333333      9.0\n",
        "1.0"
       ]
      },
      {
       "output_type": "stream",
       "stream": "stdout",
       "text": [
        "      0.633075      6.0\n",
        "1.0"
       ]
      },
      {
       "output_type": "stream",
       "stream": "stdout",
       "text": [
        "      0.650583333333      8.0\n",
        "1.0"
       ]
      },
      {
       "output_type": "stream",
       "stream": "stdout",
       "text": [
        "      0.655366666667      12.0\n",
        "1.0"
       ]
      },
      {
       "output_type": "stream",
       "stream": "stdout",
       "text": [
        "      0.643291666667      6.0\n",
        "1.0"
       ]
      },
      {
       "output_type": "stream",
       "stream": "stdout",
       "text": [
        "      0.633341666667      5.0\n",
        "1.0"
       ]
      },
      {
       "output_type": "stream",
       "stream": "stdout",
       "text": [
        "      0.652575      5.0\n",
        "1.0"
       ]
      },
      {
       "output_type": "stream",
       "stream": "stdout",
       "text": [
        "      0.627925      5.0\n",
        "1.0"
       ]
      },
      {
       "output_type": "stream",
       "stream": "stdout",
       "text": [
        "      0.633258333333      5.0\n",
        "1.0"
       ]
      },
      {
       "output_type": "stream",
       "stream": "stdout",
       "text": [
        "      0.636916666667      6.0\n",
        "1.0"
       ]
      },
      {
       "output_type": "stream",
       "stream": "stdout",
       "text": [
        "      0.654375      6.0\n",
        "1.0"
       ]
      },
      {
       "output_type": "stream",
       "stream": "stdout",
       "text": [
        "      0.665341666667      6.0\n",
        "1.0"
       ]
      },
      {
       "output_type": "stream",
       "stream": "stdout",
       "text": [
        "      0.665666666667      7.0\n",
        "1.0"
       ]
      },
      {
       "output_type": "stream",
       "stream": "stdout",
       "text": [
        "      0.676158333333      6.0\n",
        "1.0"
       ]
      },
      {
       "output_type": "stream",
       "stream": "stdout",
       "text": [
        "      0.644891666667      7.0\n",
        "1.0"
       ]
      },
      {
       "output_type": "stream",
       "stream": "stdout",
       "text": [
        "      0.657383333333      7.0\n",
        "1.0"
       ]
      },
      {
       "output_type": "stream",
       "stream": "stdout",
       "text": [
        "      0.665683333333      7.0\n",
        "1.0"
       ]
      },
      {
       "output_type": "stream",
       "stream": "stdout",
       "text": [
        "      0.648683333333      6.0\n",
        "1.0"
       ]
      },
      {
       "output_type": "stream",
       "stream": "stdout",
       "text": [
        "      0.628333333333      4.0\n",
        "1.0"
       ]
      },
      {
       "output_type": "stream",
       "stream": "stdout",
       "text": [
        "      0.606775      4.0\n",
        "1.0"
       ]
      },
      {
       "output_type": "stream",
       "stream": "stdout",
       "text": [
        "      0.599591666667      4.0\n",
        "1.0"
       ]
      },
      {
       "output_type": "stream",
       "stream": "stdout",
       "text": [
        "      0.628625      4.0\n",
        "1.0"
       ]
      },
      {
       "output_type": "stream",
       "stream": "stdout",
       "text": [
        "      0.600625      4.0\n",
        "1.0"
       ]
      },
      {
       "output_type": "stream",
       "stream": "stdout",
       "text": [
        "      0.635491666667      4.0\n",
        "1.0"
       ]
      },
      {
       "output_type": "stream",
       "stream": "stdout",
       "text": [
        "      0.61775      4.0\n",
        "1.0"
       ]
      },
      {
       "output_type": "stream",
       "stream": "stdout",
       "text": [
        "      0.6013      4.0\n",
        "1.0"
       ]
      },
      {
       "output_type": "stream",
       "stream": "stdout",
       "text": [
        "      0.634825      4.0\n",
        "1.0"
       ]
      },
      {
       "output_type": "stream",
       "stream": "stdout",
       "text": [
        "      0.671708333333      14.0\n",
        "1.0"
       ]
      },
      {
       "output_type": "stream",
       "stream": "stdout",
       "text": [
        "      0.696875      13.0\n",
        "1.0"
       ]
      },
      {
       "output_type": "stream",
       "stream": "stdout",
       "text": [
        "      0.651183333333      12.0\n",
        "1.0"
       ]
      },
      {
       "output_type": "stream",
       "stream": "stdout",
       "text": [
        "      0.677025      13.0\n",
        "1.0"
       ]
      },
      {
       "output_type": "stream",
       "stream": "stdout",
       "text": [
        "      0.649375      13.0\n",
        "1.0"
       ]
      },
      {
       "output_type": "stream",
       "stream": "stdout",
       "text": [
        "      0.658925      12.0\n",
        "1.0"
       ]
      },
      {
       "output_type": "stream",
       "stream": "stdout",
       "text": [
        "      0.655191666667      13.0\n",
        "1.0"
       ]
      },
      {
       "output_type": "stream",
       "stream": "stdout",
       "text": [
        "      0.675158333333      13.0\n",
        "1.0"
       ]
      },
      {
       "output_type": "stream",
       "stream": "stdout",
       "text": [
        "      0.692183333333      13.0\n",
        "1.0"
       ]
      },
      {
       "output_type": "stream",
       "stream": "stdout",
       "text": [
        "      0.623466666667      4.0\n",
        "1.0"
       ]
      },
      {
       "output_type": "stream",
       "stream": "stdout",
       "text": [
        "      0.614825      4.0\n",
        "1.0"
       ]
      },
      {
       "output_type": "stream",
       "stream": "stdout",
       "text": [
        "      0.620233333333      4.0\n",
        "1.0"
       ]
      },
      {
       "output_type": "stream",
       "stream": "stdout",
       "text": [
        "      0.599175      4.0\n",
        "1.0"
       ]
      },
      {
       "output_type": "stream",
       "stream": "stdout",
       "text": [
        "      0.625608333333      4.0\n",
        "1.0"
       ]
      },
      {
       "output_type": "stream",
       "stream": "stdout",
       "text": [
        "      0.615475      4.0\n",
        "1.0"
       ]
      },
      {
       "output_type": "stream",
       "stream": "stdout",
       "text": [
        "      0.657008333333      3.0\n",
        "1.0"
       ]
      },
      {
       "output_type": "stream",
       "stream": "stdout",
       "text": [
        "      0.610875      4.0\n",
        "1.0"
       ]
      },
      {
       "output_type": "stream",
       "stream": "stdout",
       "text": [
        "      0.641533333333      5.0\n",
        "1.0"
       ]
      },
      {
       "output_type": "stream",
       "stream": "stdout",
       "text": [
        "      0.765075      71.0\n",
        "1.0"
       ]
      },
      {
       "output_type": "stream",
       "stream": "stdout",
       "text": [
        "      0.764091666667      70.0\n",
        "1.0"
       ]
      },
      {
       "output_type": "stream",
       "stream": "stdout",
       "text": [
        "      0.765016666667      73.0\n",
        "1.0"
       ]
      },
      {
       "output_type": "stream",
       "stream": "stdout",
       "text": [
        "      0.764108333333      73.0\n",
        "1.0"
       ]
      },
      {
       "output_type": "stream",
       "stream": "stdout",
       "text": [
        "      0.765808333333      78.0\n",
        "1.0"
       ]
      },
      {
       "output_type": "stream",
       "stream": "stdout",
       "text": [
        "      0.765575      73.0\n",
        "1.0"
       ]
      },
      {
       "output_type": "stream",
       "stream": "stdout",
       "text": [
        "      0.764333333333      72.0\n",
        "1.0"
       ]
      },
      {
       "output_type": "stream",
       "stream": "stdout",
       "text": [
        "      0.763591666667      73.0\n",
        "1.0"
       ]
      },
      {
       "output_type": "stream",
       "stream": "stdout",
       "text": [
        "      0.765425      70.0\n",
        "1.0"
       ]
      },
      {
       "output_type": "stream",
       "stream": "stdout",
       "text": [
        "      0.748      28.0\n",
        "1.0"
       ]
      },
      {
       "output_type": "stream",
       "stream": "stdout",
       "text": [
        "      0.749041666667      34.0\n",
        "1.0"
       ]
      },
      {
       "output_type": "stream",
       "stream": "stdout",
       "text": [
        "      0.748316666667      27.0\n",
        "1.0"
       ]
      },
      {
       "output_type": "stream",
       "stream": "stdout",
       "text": [
        "      0.743441666667      29.0\n",
        "1.0"
       ]
      },
      {
       "output_type": "stream",
       "stream": "stdout",
       "text": [
        "      0.752691666667      29.0\n",
        "1.0"
       ]
      },
      {
       "output_type": "stream",
       "stream": "stdout",
       "text": [
        "      0.75045      32.0\n",
        "1.0"
       ]
      },
      {
       "output_type": "stream",
       "stream": "stdout",
       "text": [
        "      0.749975      28.0\n",
        "1.0"
       ]
      },
      {
       "output_type": "stream",
       "stream": "stdout",
       "text": [
        "      0.751416666667      27.0\n",
        "1.0"
       ]
      },
      {
       "output_type": "stream",
       "stream": "stdout",
       "text": [
        "      0.751675      27.0\n",
        "1.0"
       ]
      },
      {
       "output_type": "stream",
       "stream": "stdout",
       "text": [
        "      0.768533333333      108.0\n",
        "1.0"
       ]
      },
      {
       "output_type": "stream",
       "stream": "stdout",
       "text": [
        "      0.767383333333      107.0\n",
        "1.0"
       ]
      },
      {
       "output_type": "stream",
       "stream": "stdout",
       "text": [
        "      0.679192857143      23.0\n",
        "1.0"
       ]
      },
      {
       "output_type": "stream",
       "stream": "stdout",
       "text": [
        "      0.69245      21.0\n",
        "1.0"
       ]
      },
      {
       "output_type": "stream",
       "stream": "stdout",
       "text": [
        "      0.683778571429      20.0\n",
        "1.0"
       ]
      },
      {
       "output_type": "stream",
       "stream": "stdout",
       "text": [
        "      0.697035714286      22.0\n",
        "1.0"
       ]
      },
      {
       "output_type": "stream",
       "stream": "stdout",
       "text": [
        "      0.665842857143      7.0\n",
        "1.0"
       ]
      },
      {
       "output_type": "stream",
       "stream": "stdout",
       "text": [
        "      0.631164285714      8.0\n",
        "1.0"
       ]
      },
      {
       "output_type": "stream",
       "stream": "stdout",
       "text": [
        "      0.646892857143      8.0\n",
        "1.0"
       ]
      },
      {
       "output_type": "stream",
       "stream": "stdout",
       "text": [
        "      0.6233      8.0\n",
        "1.0"
       ]
      },
      {
       "output_type": "stream",
       "stream": "stdout",
       "text": [
        "      0.654057142857      7.0\n",
        "1.0"
       ]
      },
      {
       "output_type": "stream",
       "stream": "stdout",
       "text": [
        "      0.643385714286      8.0\n",
        "1.0"
       ]
      },
      {
       "output_type": "stream",
       "stream": "stdout",
       "text": [
        "      0.655464285714      7.0\n",
        "1.0"
       ]
      },
      {
       "output_type": "stream",
       "stream": "stdout",
       "text": [
        "      0.633464285714      8.0\n",
        "1.0"
       ]
      },
      {
       "output_type": "stream",
       "stream": "stdout",
       "text": [
        "      0.644835714286      7.0\n",
        "1.0"
       ]
      },
      {
       "output_type": "stream",
       "stream": "stdout",
       "text": [
        "      0.674978571429      12.0\n",
        "1.0"
       ]
      },
      {
       "output_type": "stream",
       "stream": "stdout",
       "text": [
        "      0.711364285714      12.0\n",
        "1.0"
       ]
      },
      {
       "output_type": "stream",
       "stream": "stdout",
       "text": [
        "      0.7273      11.0\n",
        "1.0"
       ]
      },
      {
       "output_type": "stream",
       "stream": "stdout",
       "text": [
        "      0.688657142857      11.0\n",
        "1.0"
       ]
      },
      {
       "output_type": "stream",
       "stream": "stdout",
       "text": [
        "      0.692171428571      13.0\n",
        "1.0"
       ]
      },
      {
       "output_type": "stream",
       "stream": "stdout",
       "text": [
        "      0.6852      12.0\n",
        "1.0"
       ]
      },
      {
       "output_type": "stream",
       "stream": "stdout",
       "text": [
        "      0.666578571429      13.0\n",
        "1.0"
       ]
      },
      {
       "output_type": "stream",
       "stream": "stdout",
       "text": [
        "      0.685692857143      12.0\n",
        "1.0"
       ]
      },
      {
       "output_type": "stream",
       "stream": "stdout",
       "text": [
        "      0.674321428571      11.0\n",
        "1.0"
       ]
      },
      {
       "output_type": "stream",
       "stream": "stdout",
       "text": [
        "      0.641657142857      7.0\n",
        "1.0"
       ]
      },
      {
       "output_type": "stream",
       "stream": "stdout",
       "text": [
        "      0.632428571429      7.0\n",
        "1.0"
       ]
      },
      {
       "output_type": "stream",
       "stream": "stdout",
       "text": [
        "      0.62495      7.0\n",
        "1.0"
       ]
      },
      {
       "output_type": "stream",
       "stream": "stdout",
       "text": [
        "      0.627607142857      6.0\n",
        "1.0"
       ]
      },
      {
       "output_type": "stream",
       "stream": "stdout",
       "text": [
        "      0.620328571429      8.0\n",
        "1.0"
       ]
      },
      {
       "output_type": "stream",
       "stream": "stdout",
       "text": [
        "      0.637557142857      8.0\n",
        "1.0"
       ]
      },
      {
       "output_type": "stream",
       "stream": "stdout",
       "text": [
        "      0.661457142857      7.0\n",
        "1.0"
       ]
      },
      {
       "output_type": "stream",
       "stream": "stdout",
       "text": [
        "      0.638442857143      6.0\n",
        "1.0"
       ]
      },
      {
       "output_type": "stream",
       "stream": "stdout",
       "text": [
        "      0.635135714286      5.0\n",
        "1.0"
       ]
      },
      {
       "output_type": "stream",
       "stream": "stdout",
       "text": [
        "      0.709628571429      21.0\n",
        "1.0"
       ]
      },
      {
       "output_type": "stream",
       "stream": "stdout",
       "text": [
        "      0.710878571429      20.0\n",
        "1.0"
       ]
      },
      {
       "output_type": "stream",
       "stream": "stdout",
       "text": [
        "      0.698778571429      19.0\n",
        "1.0"
       ]
      },
      {
       "output_type": "stream",
       "stream": "stdout",
       "text": [
        "      0.716042857143      21.0\n",
        "1.0"
       ]
      },
      {
       "output_type": "stream",
       "stream": "stdout",
       "text": [
        "      0.703085714286      20.0\n",
        "1.0"
       ]
      },
      {
       "output_type": "stream",
       "stream": "stdout",
       "text": [
        "      0.678407142857      22.0\n",
        "1.0"
       ]
      },
      {
       "output_type": "stream",
       "stream": "stdout",
       "text": [
        "      0.697042857143      19.0\n",
        "1.0"
       ]
      },
      {
       "output_type": "stream",
       "stream": "stdout",
       "text": [
        "      0.676092857143      20.0\n",
        "1.0"
       ]
      },
      {
       "output_type": "stream",
       "stream": "stdout",
       "text": [
        "      0.685435714286      20.0\n",
        "1.0"
       ]
      },
      {
       "output_type": "stream",
       "stream": "stdout",
       "text": [
        "      0.618564285714      8.0\n",
        "1.0"
       ]
      },
      {
       "output_type": "stream",
       "stream": "stdout",
       "text": [
        "      0.628635714286      6.0\n",
        "1.0"
       ]
      },
      {
       "output_type": "stream",
       "stream": "stdout",
       "text": [
        "      0.636814285714      9.0\n",
        "1.0"
       ]
      },
      {
       "output_type": "stream",
       "stream": "stdout",
       "text": [
        "      0.6446      7.0\n",
        "1.0"
       ]
      },
      {
       "output_type": "stream",
       "stream": "stdout",
       "text": [
        "      0.630457142857      8.0\n",
        "1.0"
       ]
      },
      {
       "output_type": "stream",
       "stream": "stdout",
       "text": [
        "      0.647321428571      7.0\n",
        "1.0"
       ]
      },
      {
       "output_type": "stream",
       "stream": "stdout",
       "text": [
        "      0.63315      9.0\n",
        "1.0"
       ]
      },
      {
       "output_type": "stream",
       "stream": "stdout",
       "text": [
        "      0.624278571429      7.0\n",
        "1.0"
       ]
      },
      {
       "output_type": "stream",
       "stream": "stdout",
       "text": [
        "      0.640128571429      7.0\n",
        "1.0"
       ]
      },
      {
       "output_type": "stream",
       "stream": "stdout",
       "text": [
        "      0.672685714286      9.0\n",
        "1.0"
       ]
      },
      {
       "output_type": "stream",
       "stream": "stdout",
       "text": [
        "      0.674314285714      9.0\n",
        "1.0"
       ]
      },
      {
       "output_type": "stream",
       "stream": "stdout",
       "text": [
        "      0.665378571429      10.0\n",
        "1.0"
       ]
      },
      {
       "output_type": "stream",
       "stream": "stdout",
       "text": [
        "      0.673207142857      8.0\n",
        "1.0"
       ]
      },
      {
       "output_type": "stream",
       "stream": "stdout",
       "text": [
        "      0.638514285714      8.0\n",
        "1.0"
       ]
      },
      {
       "output_type": "stream",
       "stream": "stdout",
       "text": [
        "      0.653107142857      10.0\n",
        "1.0"
       ]
      },
      {
       "output_type": "stream",
       "stream": "stdout",
       "text": [
        "      0.662285714286      10.0\n",
        "1.0"
       ]
      },
      {
       "output_type": "stream",
       "stream": "stdout",
       "text": [
        "      0.660535714286      9.0\n",
        "1.0"
       ]
      },
      {
       "output_type": "stream",
       "stream": "stdout",
       "text": [
        "      0.66325      9.0\n",
        "0.999975"
       ]
      },
      {
       "output_type": "stream",
       "stream": "stdout",
       "text": [
        "      0.615385714286      6.0\n",
        "1.0"
       ]
      },
      {
       "output_type": "stream",
       "stream": "stdout",
       "text": [
        "      0.6067      5.0\n",
        "1.0"
       ]
      },
      {
       "output_type": "stream",
       "stream": "stdout",
       "text": [
        "      0.61155      5.0\n",
        "1.0"
       ]
      },
      {
       "output_type": "stream",
       "stream": "stdout",
       "text": [
        "      0.625221428571      6.0\n",
        "1.0"
       ]
      },
      {
       "output_type": "stream",
       "stream": "stdout",
       "text": [
        "      0.632721428571      6.0\n",
        "1.0"
       ]
      },
      {
       "output_type": "stream",
       "stream": "stdout",
       "text": [
        "      0.628242857143      5.0\n",
        "1.0"
       ]
      },
      {
       "output_type": "stream",
       "stream": "stdout",
       "text": [
        "      0.616171428571      6.0\n",
        "1.0"
       ]
      },
      {
       "output_type": "stream",
       "stream": "stdout",
       "text": [
        "      0.614814285714      5.0\n",
        "1.0"
       ]
      },
      {
       "output_type": "stream",
       "stream": "stdout",
       "text": [
        "      0.637471428571      5.0\n",
        "1.0"
       ]
      },
      {
       "output_type": "stream",
       "stream": "stdout",
       "text": [
        "      0.656685714286      16.0\n",
        "1.0"
       ]
      },
      {
       "output_type": "stream",
       "stream": "stdout",
       "text": [
        "      0.681242857143      14.0\n",
        "1.0"
       ]
      },
      {
       "output_type": "stream",
       "stream": "stdout",
       "text": [
        "      0.675621428571      15.0\n",
        "1.0"
       ]
      },
      {
       "output_type": "stream",
       "stream": "stdout",
       "text": [
        "      0.654964285714      16.0\n",
        "1.0"
       ]
      },
      {
       "output_type": "stream",
       "stream": "stdout",
       "text": [
        "      0.679078571429      15.0\n",
        "1.0"
       ]
      },
      {
       "output_type": "stream",
       "stream": "stdout",
       "text": [
        "      0.682028571429      15.0\n",
        "1.0"
       ]
      },
      {
       "output_type": "stream",
       "stream": "stdout",
       "text": [
        "      0.670321428571      16.0\n",
        "1.0"
       ]
      },
      {
       "output_type": "stream",
       "stream": "stdout",
       "text": [
        "      0.689128571429      16.0\n",
        "1.0"
       ]
      },
      {
       "output_type": "stream",
       "stream": "stdout",
       "text": [
        "      0.646757142857      16.0\n",
        "1.0"
       ]
      },
      {
       "output_type": "stream",
       "stream": "stdout",
       "text": [
        "      0.62145      5.0\n",
        "1.0"
       ]
      },
      {
       "output_type": "stream",
       "stream": "stdout",
       "text": [
        "      0.604464285714      5.0\n",
        "1.0"
       ]
      },
      {
       "output_type": "stream",
       "stream": "stdout",
       "text": [
        "      0.608878571429      5.0\n",
        "1.0"
       ]
      },
      {
       "output_type": "stream",
       "stream": "stdout",
       "text": [
        "      0.619671428571      6.0\n",
        "1.0"
       ]
      },
      {
       "output_type": "stream",
       "stream": "stdout",
       "text": [
        "      0.618557142857      6.0\n",
        "1.0"
       ]
      },
      {
       "output_type": "stream",
       "stream": "stdout",
       "text": [
        "      0.640071428571      6.0\n",
        "1.0"
       ]
      },
      {
       "output_type": "stream",
       "stream": "stdout",
       "text": [
        "      0.616935714286      5.0\n",
        "1.0"
       ]
      },
      {
       "output_type": "stream",
       "stream": "stdout",
       "text": [
        "      0.646064285714      7.0\n",
        "1.0"
       ]
      },
      {
       "output_type": "stream",
       "stream": "stdout",
       "text": [
        "      0.62665      5.0\n",
        "1.0"
       ]
      },
      {
       "output_type": "stream",
       "stream": "stdout",
       "text": [
        "      0.763657142857      86.0\n",
        "1.0"
       ]
      },
      {
       "output_type": "stream",
       "stream": "stdout",
       "text": [
        "      0.763807142857      92.0\n",
        "1.0"
       ]
      },
      {
       "output_type": "stream",
       "stream": "stdout",
       "text": [
        "      0.764128571429      92.0\n",
        "1.0"
       ]
      },
      {
       "output_type": "stream",
       "stream": "stdout",
       "text": [
        "      0.763578571429      88.0\n",
        "1.0"
       ]
      },
      {
       "output_type": "stream",
       "stream": "stdout",
       "text": [
        "      0.764314285714      88.0\n",
        "1.0"
       ]
      },
      {
       "output_type": "stream",
       "stream": "stdout",
       "text": [
        "      0.7647      87.0\n",
        "1.0"
       ]
      },
      {
       "output_type": "stream",
       "stream": "stdout",
       "text": [
        "      0.763914285714      83.0\n",
        "1.0"
       ]
      },
      {
       "output_type": "stream",
       "stream": "stdout",
       "text": [
        "      0.763721428571      83.0\n",
        "1.0"
       ]
      },
      {
       "output_type": "stream",
       "stream": "stdout",
       "text": [
        "      0.76505      84.0\n",
        "1.0"
       ]
      },
      {
       "output_type": "stream",
       "stream": "stdout",
       "text": [
        "      0.749992857143      39.0\n",
        "1.0"
       ]
      },
      {
       "output_type": "stream",
       "stream": "stdout",
       "text": [
        "      0.752742857143      34.0\n",
        "1.0"
       ]
      },
      {
       "output_type": "stream",
       "stream": "stdout",
       "text": [
        "      0.751357142857      42.0\n",
        "1.0"
       ]
      },
      {
       "output_type": "stream",
       "stream": "stdout",
       "text": [
        "      0.753642857143      35.0\n",
        "1.0"
       ]
      },
      {
       "output_type": "stream",
       "stream": "stdout",
       "text": [
        "      0.74885      43.0\n",
        "1.0"
       ]
      },
      {
       "output_type": "stream",
       "stream": "stdout",
       "text": [
        "      0.743528571429      37.0\n",
        "1.0"
       ]
      },
      {
       "output_type": "stream",
       "stream": "stdout",
       "text": [
        "      0.751071428571      37.0\n",
        "1.0"
       ]
      },
      {
       "output_type": "stream",
       "stream": "stdout",
       "text": [
        "      0.752628571429      42.0\n",
        "1.0"
       ]
      },
      {
       "output_type": "stream",
       "stream": "stdout",
       "text": [
        "      0.745178571429      38.0\n",
        "1.0"
       ]
      },
      {
       "output_type": "stream",
       "stream": "stdout",
       "text": [
        "      0.768671428571      136.0\n",
        "1.0"
       ]
      },
      {
       "output_type": "stream",
       "stream": "stdout",
       "text": [
        "      0.769007142857      136.0\n",
        "1.0"
       ]
      },
      {
       "output_type": "stream",
       "stream": "stdout",
       "text": [
        "      0.769164285714      133.0\n",
        "1.0"
       ]
      },
      {
       "output_type": "stream",
       "stream": "stdout",
       "text": [
        "      0.769971428571      134.0\n",
        "1.0"
       ]
      },
      {
       "output_type": "stream",
       "stream": "stdout",
       "text": [
        "      0.769614285714      135.0\n",
        "1.0"
       ]
      },
      {
       "output_type": "stream",
       "stream": "stdout",
       "text": [
        "      0.768857142857      136.0\n",
        "1.0"
       ]
      },
      {
       "output_type": "stream",
       "stream": "stdout",
       "text": [
        "      0.769007142857      133.0\n",
        "1.0"
       ]
      },
      {
       "output_type": "stream",
       "stream": "stdout",
       "text": [
        "      0.769171428571      135.0\n",
        "1.0"
       ]
      },
      {
       "output_type": "stream",
       "stream": "stdout",
       "text": [
        "      0.768678571429      134.0\n",
        "1.0"
       ]
      },
      {
       "output_type": "stream",
       "stream": "stdout",
       "text": [
        "      0.759021428571      47.0\n",
        "1.0"
       ]
      },
      {
       "output_type": "stream",
       "stream": "stdout",
       "text": [
        "      0.755092857143      42.0\n",
        "1.0"
       ]
      },
      {
       "output_type": "stream",
       "stream": "stdout",
       "text": [
        "      0.753835714286      43.0\n",
        "1.0"
       ]
      },
      {
       "output_type": "stream",
       "stream": "stdout",
       "text": [
        "      0.759335714286      43.0\n",
        "1.0"
       ]
      },
      {
       "output_type": "stream",
       "stream": "stdout",
       "text": [
        "      0.749721428571      49.0\n",
        "1.0"
       ]
      },
      {
       "output_type": "stream",
       "stream": "stdout",
       "text": [
        "      0.7542      50.0\n",
        "1.0"
       ]
      },
      {
       "output_type": "stream",
       "stream": "stdout",
       "text": [
        "      0.755585714286      41.0\n",
        "1.0"
       ]
      },
      {
       "output_type": "stream",
       "stream": "stdout",
       "text": [
        "      0.754807142857      40.0\n",
        "1.0"
       ]
      },
      {
       "output_type": "stream",
       "stream": "stdout",
       "text": [
        "      0.756335714286      39.0\n",
        "1.0"
       ]
      },
      {
       "output_type": "stream",
       "stream": "stdout",
       "text": [
        "      0.69000625      14.0\n",
        "1.0"
       ]
      },
      {
       "output_type": "stream",
       "stream": "stdout",
       "text": [
        "      0.6789625      12.0\n",
        "1.0"
       ]
      },
      {
       "output_type": "stream",
       "stream": "stdout",
       "text": [
        "      0.68725      15.0\n",
        "1.0"
       ]
      },
      {
       "output_type": "stream",
       "stream": "stdout",
       "text": [
        "      0.67323125      14.0\n",
        "1.0"
       ]
      },
      {
       "output_type": "stream",
       "stream": "stdout",
       "text": [
        "      0.72188125      14.0\n",
        "1.0"
       ]
      },
      {
       "output_type": "stream",
       "stream": "stdout",
       "text": [
        "      0.6842      15.0\n",
        "1.0"
       ]
      },
      {
       "output_type": "stream",
       "stream": "stdout",
       "text": [
        "      0.679875      14.0\n",
        "1.0"
       ]
      },
      {
       "output_type": "stream",
       "stream": "stdout",
       "text": [
        "      0.69654375      13.0\n",
        "1.0"
       ]
      },
      {
       "output_type": "stream",
       "stream": "stdout",
       "text": [
        "      0.7085125      15.0\n",
        "1.0"
       ]
      },
      {
       "output_type": "stream",
       "stream": "stdout",
       "text": [
        "      0.64176875      9.0\n",
        "1.0"
       ]
      },
      {
       "output_type": "stream",
       "stream": "stdout",
       "text": [
        "      0.62673125      8.0\n",
        "1.0"
       ]
      },
      {
       "output_type": "stream",
       "stream": "stdout",
       "text": [
        "      0.64653125      8.0\n",
        "1.0"
       ]
      },
      {
       "output_type": "stream",
       "stream": "stdout",
       "text": [
        "      0.63855      8.0\n",
        "1.0"
       ]
      },
      {
       "output_type": "stream",
       "stream": "stdout",
       "text": [
        "      0.62550625      7.0\n",
        "1.0"
       ]
      },
      {
       "output_type": "stream",
       "stream": "stdout",
       "text": [
        "      0.633825      9.0\n",
        "1.0"
       ]
      },
      {
       "output_type": "stream",
       "stream": "stdout",
       "text": [
        "      0.645975      7.0\n",
        "1.0"
       ]
      },
      {
       "output_type": "stream",
       "stream": "stdout",
       "text": [
        "      0.64405625      9.0\n",
        "1.0"
       ]
      },
      {
       "output_type": "stream",
       "stream": "stdout",
       "text": [
        "      0.6286125      6.0\n",
        "1.0"
       ]
      },
      {
       "output_type": "stream",
       "stream": "stdout",
       "text": [
        "      0.6868      24.0\n",
        "1.0"
       ]
      },
      {
       "output_type": "stream",
       "stream": "stdout",
       "text": [
        "      0.68976875      25.0\n",
        "1.0"
       ]
      },
      {
       "output_type": "stream",
       "stream": "stdout",
       "text": [
        "      0.70265625      24.0\n",
        "1.0"
       ]
      },
      {
       "output_type": "stream",
       "stream": "stdout",
       "text": [
        "      0.70795625      24.0\n",
        "1.0"
       ]
      },
      {
       "output_type": "stream",
       "stream": "stdout",
       "text": [
        "      0.70336875      23.0\n",
        "1.0"
       ]
      },
      {
       "output_type": "stream",
       "stream": "stdout",
       "text": [
        "      0.7024375      25.0\n",
        "1.0"
       ]
      },
      {
       "output_type": "stream",
       "stream": "stdout",
       "text": [
        "      0.69513125      26.0\n",
        "1.0"
       ]
      },
      {
       "output_type": "stream",
       "stream": "stdout",
       "text": [
        "      0.69476875      24.0\n",
        "1.0"
       ]
      },
      {
       "output_type": "stream",
       "stream": "stdout",
       "text": [
        "      0.6978625      25.0\n",
        "1.0"
       ]
      },
      {
       "output_type": "stream",
       "stream": "stdout",
       "text": [
        "      0.6287875      9.0\n",
        "1.0"
       ]
      },
      {
       "output_type": "stream",
       "stream": "stdout",
       "text": [
        "      0.6325875      9.0\n",
        "1.0"
       ]
      },
      {
       "output_type": "stream",
       "stream": "stdout",
       "text": [
        "      0.652      10.0\n",
        "1.0"
       ]
      },
      {
       "output_type": "stream",
       "stream": "stdout",
       "text": [
        "      0.66231875      9.0\n",
        "1.0"
       ]
      },
      {
       "output_type": "stream",
       "stream": "stdout",
       "text": [
        "      0.6240875      8.0\n",
        "1.0"
       ]
      },
      {
       "output_type": "stream",
       "stream": "stdout",
       "text": [
        "      0.67165625      8.0\n",
        "1.0"
       ]
      },
      {
       "output_type": "stream",
       "stream": "stdout",
       "text": [
        "      0.67364375      9.0\n",
        "1.0"
       ]
      },
      {
       "output_type": "stream",
       "stream": "stdout",
       "text": [
        "      0.64491875      10.0\n",
        "1.0"
       ]
      },
      {
       "output_type": "stream",
       "stream": "stdout",
       "text": [
        "      0.64465625      8.0\n",
        "1.0"
       ]
      },
      {
       "output_type": "stream",
       "stream": "stdout",
       "text": [
        "      0.70478125      13.0\n",
        "1.0"
       ]
      },
      {
       "output_type": "stream",
       "stream": "stdout",
       "text": [
        "      0.6892375      13.0\n",
        "1.0"
       ]
      },
      {
       "output_type": "stream",
       "stream": "stdout",
       "text": [
        "      0.6809625      15.0\n",
        "1.0"
       ]
      },
      {
       "output_type": "stream",
       "stream": "stdout",
       "text": [
        "      0.70555      14.0\n",
        "1.0"
       ]
      },
      {
       "output_type": "stream",
       "stream": "stdout",
       "text": [
        "      0.6788625      14.0\n",
        "1.0"
       ]
      },
      {
       "output_type": "stream",
       "stream": "stdout",
       "text": [
        "      0.68725      14.0\n",
        "1.0"
       ]
      },
      {
       "output_type": "stream",
       "stream": "stdout",
       "text": [
        "      0.718      13.0\n",
        "1.0"
       ]
      },
      {
       "output_type": "stream",
       "stream": "stdout",
       "text": [
        "      0.67934375      17.0\n",
        "1.0"
       ]
      },
      {
       "output_type": "stream",
       "stream": "stdout",
       "text": [
        "      0.705275      15.0\n",
        "1.0"
       ]
      },
      {
       "output_type": "stream",
       "stream": "stdout",
       "text": [
        "      0.63215625      9.0\n",
        "1.0"
       ]
      },
      {
       "output_type": "stream",
       "stream": "stdout",
       "text": [
        "      0.6284375      8.0\n",
        "1.0"
       ]
      },
      {
       "output_type": "stream",
       "stream": "stdout",
       "text": [
        "      0.62264375      6.0\n",
        "1.0"
       ]
      },
      {
       "output_type": "stream",
       "stream": "stdout",
       "text": [
        "      0.63998125      9.0\n",
        "1.0"
       ]
      },
      {
       "output_type": "stream",
       "stream": "stdout",
       "text": [
        "      0.63498125      10.0\n",
        "1.0"
       ]
      },
      {
       "output_type": "stream",
       "stream": "stdout",
       "text": [
        "      0.6412125      7.0\n",
        "1.0"
       ]
      },
      {
       "output_type": "stream",
       "stream": "stdout",
       "text": [
        "      0.6374125      7.0\n",
        "1.0"
       ]
      },
      {
       "output_type": "stream",
       "stream": "stdout",
       "text": [
        "      0.6541625      9.0\n",
        "1.0"
       ]
      },
      {
       "output_type": "stream",
       "stream": "stdout",
       "text": [
        "      0.63729375      7.0\n",
        "1.0"
       ]
      },
      {
       "output_type": "stream",
       "stream": "stdout",
       "text": [
        "      0.687225      27.0\n",
        "1.0"
       ]
      },
      {
       "output_type": "stream",
       "stream": "stdout",
       "text": [
        "      0.68001875      25.0\n",
        "1.0"
       ]
      },
      {
       "output_type": "stream",
       "stream": "stdout",
       "text": [
        "      0.69120625      24.0\n",
        "1.0"
       ]
      },
      {
       "output_type": "stream",
       "stream": "stdout",
       "text": [
        "      0.70840625      24.0\n",
        "1.0"
       ]
      },
      {
       "output_type": "stream",
       "stream": "stdout",
       "text": [
        "      0.69895      24.0\n",
        "1.0"
       ]
      },
      {
       "output_type": "stream",
       "stream": "stdout",
       "text": [
        "      0.7234      23.0\n",
        "1.0"
       ]
      },
      {
       "output_type": "stream",
       "stream": "stdout",
       "text": [
        "      0.71218125      24.0\n",
        "1.0"
       ]
      },
      {
       "output_type": "stream",
       "stream": "stdout",
       "text": [
        "      0.69659375      24.0\n",
        "1.0"
       ]
      },
      {
       "output_type": "stream",
       "stream": "stdout",
       "text": [
        "      0.7012875      25.0\n",
        "1.0"
       ]
      },
      {
       "output_type": "stream",
       "stream": "stdout",
       "text": [
        "      0.65941875      9.0\n",
        "1.0"
       ]
      },
      {
       "output_type": "stream",
       "stream": "stdout",
       "text": [
        "      0.6483      10.0\n",
        "1.0"
       ]
      },
      {
       "output_type": "stream",
       "stream": "stdout",
       "text": [
        "      0.62916875      9.0\n",
        "1.0"
       ]
      },
      {
       "output_type": "stream",
       "stream": "stdout",
       "text": [
        "      0.661425      9.0\n",
        "1.0"
       ]
      },
      {
       "output_type": "stream",
       "stream": "stdout",
       "text": [
        "      0.645175      10.0\n",
        "1.0"
       ]
      },
      {
       "output_type": "stream",
       "stream": "stdout",
       "text": [
        "      0.64879375      10.0\n",
        "1.0"
       ]
      },
      {
       "output_type": "stream",
       "stream": "stdout",
       "text": [
        "      0.65681875      9.0\n",
        "1.0"
       ]
      },
      {
       "output_type": "stream",
       "stream": "stdout",
       "text": [
        "      0.62388125      11.0\n",
        "1.0"
       ]
      },
      {
       "output_type": "stream",
       "stream": "stdout",
       "text": [
        "      0.62160625      9.0\n",
        "1.0"
       ]
      },
      {
       "output_type": "stream",
       "stream": "stdout",
       "text": [
        "      0.65634375      12.0\n",
        "1.0"
       ]
      },
      {
       "output_type": "stream",
       "stream": "stdout",
       "text": [
        "      0.6634      11.0\n",
        "1.0"
       ]
      },
      {
       "output_type": "stream",
       "stream": "stdout",
       "text": [
        "      0.65295625      13.0\n",
        "1.0"
       ]
      },
      {
       "output_type": "stream",
       "stream": "stdout",
       "text": [
        "      0.65595625      10.0\n",
        "1.0"
       ]
      },
      {
       "output_type": "stream",
       "stream": "stdout",
       "text": [
        "      0.66480625      11.0\n",
        "1.0"
       ]
      },
      {
       "output_type": "stream",
       "stream": "stdout",
       "text": [
        "      0.70410625      11.0\n",
        "1.0"
       ]
      },
      {
       "output_type": "stream",
       "stream": "stdout",
       "text": [
        "      0.63926875      10.0\n",
        "1.0"
       ]
      },
      {
       "output_type": "stream",
       "stream": "stdout",
       "text": [
        "      0.66995625      9.0\n",
        "1.0"
       ]
      },
      {
       "output_type": "stream",
       "stream": "stdout",
       "text": [
        "      0.6628625      12.0\n",
        "1.0"
       ]
      },
      {
       "output_type": "stream",
       "stream": "stdout",
       "text": [
        "      0.6012      7.0\n",
        "1.0"
       ]
      },
      {
       "output_type": "stream",
       "stream": "stdout",
       "text": [
        "      0.62263125      7.0\n",
        "1.0"
       ]
      },
      {
       "output_type": "stream",
       "stream": "stdout",
       "text": [
        "      0.61876875      6.0\n",
        "1.0"
       ]
      },
      {
       "output_type": "stream",
       "stream": "stdout",
       "text": [
        "      0.6152875      7.0\n",
        "1.0"
       ]
      },
      {
       "output_type": "stream",
       "stream": "stdout",
       "text": [
        "      0.6047875      8.0\n",
        "1.0"
       ]
      },
      {
       "output_type": "stream",
       "stream": "stdout",
       "text": [
        "      0.62329375      7.0\n",
        "1.0"
       ]
      },
      {
       "output_type": "stream",
       "stream": "stdout",
       "text": [
        "      0.6101375      8.0\n",
        "1.0"
       ]
      },
      {
       "output_type": "stream",
       "stream": "stdout",
       "text": [
        "      0.61188125      7.0\n",
        "1.0"
       ]
      },
      {
       "output_type": "stream",
       "stream": "stdout",
       "text": [
        "      0.60341875      6.0\n",
        "1.0"
       ]
      },
      {
       "output_type": "stream",
       "stream": "stdout",
       "text": [
        "      0.65785625      21.0\n",
        "1.0"
       ]
      },
      {
       "output_type": "stream",
       "stream": "stdout",
       "text": [
        "      0.657475      17.0\n",
        "1.0"
       ]
      },
      {
       "output_type": "stream",
       "stream": "stdout",
       "text": [
        "      0.69051875      18.0\n",
        "1.0"
       ]
      },
      {
       "output_type": "stream",
       "stream": "stdout",
       "text": [
        "      0.68004375      21.0\n",
        "1.0"
       ]
      },
      {
       "output_type": "stream",
       "stream": "stdout",
       "text": [
        "      0.66486875      19.0\n",
        "1.0"
       ]
      },
      {
       "output_type": "stream",
       "stream": "stdout",
       "text": [
        "      0.66071875      20.0\n",
        "1.0"
       ]
      },
      {
       "output_type": "stream",
       "stream": "stdout",
       "text": [
        "      0.6665875      19.0\n",
        "1.0"
       ]
      },
      {
       "output_type": "stream",
       "stream": "stdout",
       "text": [
        "      0.662325      20.0\n",
        "1.0"
       ]
      },
      {
       "output_type": "stream",
       "stream": "stdout",
       "text": [
        "      0.6612      18.0\n",
        "0.9999421875"
       ]
      },
      {
       "output_type": "stream",
       "stream": "stdout",
       "text": [
        "      0.61598125      9.0\n",
        "1.0"
       ]
      },
      {
       "output_type": "stream",
       "stream": "stdout",
       "text": [
        "      0.61945625      7.0\n",
        "1.0"
       ]
      },
      {
       "output_type": "stream",
       "stream": "stdout",
       "text": [
        "      0.6143875      6.0\n",
        "1.0"
       ]
      },
      {
       "output_type": "stream",
       "stream": "stdout",
       "text": [
        "      0.625325      7.0\n",
        "1.0"
       ]
      },
      {
       "output_type": "stream",
       "stream": "stdout",
       "text": [
        "      0.62659375      5.0\n",
        "1.0"
       ]
      },
      {
       "output_type": "stream",
       "stream": "stdout",
       "text": [
        "      0.6282375      6.0\n",
        "1.0"
       ]
      },
      {
       "output_type": "stream",
       "stream": "stdout",
       "text": [
        "      0.6158375      7.0\n",
        "1.0"
       ]
      },
      {
       "output_type": "stream",
       "stream": "stdout",
       "text": [
        "      0.62151875      8.0\n",
        "1.0"
       ]
      },
      {
       "output_type": "stream",
       "stream": "stdout",
       "text": [
        "      0.6284875      6.0\n",
        "1.0"
       ]
      },
      {
       "output_type": "stream",
       "stream": "stdout",
       "text": [
        "      0.76364375      114.0\n",
        "1.0"
       ]
      },
      {
       "output_type": "stream",
       "stream": "stdout",
       "text": [
        "      0.76390625      114.0\n",
        "1.0"
       ]
      },
      {
       "output_type": "stream",
       "stream": "stdout",
       "text": [
        "      0.76364375      113.0\n",
        "1.0"
       ]
      },
      {
       "output_type": "stream",
       "stream": "stdout",
       "text": [
        "      0.76391875      114.0\n",
        "1.0"
       ]
      },
      {
       "output_type": "stream",
       "stream": "stdout",
       "text": [
        "      0.76343125      112.0\n",
        "1.0"
       ]
      },
      {
       "output_type": "stream",
       "stream": "stdout",
       "text": [
        "      0.76355      113.0\n",
        "1.0"
       ]
      },
      {
       "output_type": "stream",
       "stream": "stdout",
       "text": [
        "      0.76359375      113.0\n",
        "1.0"
       ]
      },
      {
       "output_type": "stream",
       "stream": "stdout",
       "text": [
        "      0.76364375      114.0\n",
        "1.0"
       ]
      },
      {
       "output_type": "stream",
       "stream": "stdout",
       "text": [
        "      0.76331875      114.0\n",
        "1.0"
       ]
      },
      {
       "output_type": "stream",
       "stream": "stdout",
       "text": [
        "      0.74879375      54.0\n",
        "1.0"
       ]
      },
      {
       "output_type": "stream",
       "stream": "stdout",
       "text": [
        "      0.7508375      52.0\n",
        "1.0"
       ]
      },
      {
       "output_type": "stream",
       "stream": "stdout",
       "text": [
        "      0.75445625      51.0\n",
        "1.0"
       ]
      },
      {
       "output_type": "stream",
       "stream": "stdout",
       "text": [
        "      0.75365625      56.0\n",
        "1.0"
       ]
      },
      {
       "output_type": "stream",
       "stream": "stdout",
       "text": [
        "      0.7514875      52.0\n",
        "1.0"
       ]
      },
      {
       "output_type": "stream",
       "stream": "stdout",
       "text": [
        "      0.7506125      48.0\n",
        "1.0"
       ]
      },
      {
       "output_type": "stream",
       "stream": "stdout",
       "text": [
        "      0.75205      49.0\n",
        "1.0"
       ]
      },
      {
       "output_type": "stream",
       "stream": "stdout",
       "text": [
        "      0.7505125      54.0\n",
        "1.0"
       ]
      },
      {
       "output_type": "stream",
       "stream": "stdout",
       "text": [
        "      0.75566875      48.0\n",
        "1.0"
       ]
      },
      {
       "output_type": "stream",
       "stream": "stdout",
       "text": [
        "      0.77169375      160.0\n",
        "1.0"
       ]
      },
      {
       "output_type": "stream",
       "stream": "stdout",
       "text": [
        "      0.771675      159.0\n",
        "1.0"
       ]
      },
      {
       "output_type": "stream",
       "stream": "stdout",
       "text": [
        "      0.7722125      159.0\n",
        "1.0"
       ]
      },
      {
       "output_type": "stream",
       "stream": "stdout",
       "text": [
        "      0.772175      155.0\n",
        "1.0"
       ]
      },
      {
       "output_type": "stream",
       "stream": "stdout",
       "text": [
        "      0.77224375      157.0\n",
        "1.0"
       ]
      },
      {
       "output_type": "stream",
       "stream": "stdout",
       "text": [
        "      0.771775      157.0\n",
        "1.0"
       ]
      },
      {
       "output_type": "stream",
       "stream": "stdout",
       "text": [
        "      0.77259375      157.0\n",
        "1.0"
       ]
      },
      {
       "output_type": "stream",
       "stream": "stdout",
       "text": [
        "      0.77283125      162.0\n",
        "1.0"
       ]
      },
      {
       "output_type": "stream",
       "stream": "stdout",
       "text": [
        "      0.7718875      160.0\n",
        "1.0"
       ]
      },
      {
       "output_type": "stream",
       "stream": "stdout",
       "text": [
        "      0.7587375      64.0\n",
        "1.0"
       ]
      },
      {
       "output_type": "stream",
       "stream": "stdout",
       "text": [
        "      0.75458125      35.0\n",
        "1.0"
       ]
      },
      {
       "output_type": "stream",
       "stream": "stdout",
       "text": [
        "      0.7592375      49.0\n",
        "1.0"
       ]
      },
      {
       "output_type": "stream",
       "stream": "stdout",
       "text": [
        "      0.755875      52.0\n",
        "1.0"
       ]
      },
      {
       "output_type": "stream",
       "stream": "stdout",
       "text": [
        "      0.75564375      51.0\n",
        "1.0"
       ]
      },
      {
       "output_type": "stream",
       "stream": "stdout",
       "text": [
        "      0.75893125      55.0\n",
        "1.0"
       ]
      },
      {
       "output_type": "stream",
       "stream": "stdout",
       "text": [
        "      0.75769375      54.0\n",
        "1.0"
       ]
      },
      {
       "output_type": "stream",
       "stream": "stdout",
       "text": [
        "      0.7534      51.0\n",
        "1.0"
       ]
      },
      {
       "output_type": "stream",
       "stream": "stdout",
       "text": [
        "      0.757775      55.0\n",
        "1.0"
       ]
      },
      {
       "output_type": "stream",
       "stream": "stdout",
       "text": [
        "      0.699044444444      14.0\n",
        "1.0"
       ]
      },
      {
       "output_type": "stream",
       "stream": "stdout",
       "text": [
        "      0.686972222222      17.0\n",
        "1.0"
       ]
      },
      {
       "output_type": "stream",
       "stream": "stdout",
       "text": [
        "      0.7107      15.0\n",
        "1.0"
       ]
      },
      {
       "output_type": "stream",
       "stream": "stdout",
       "text": [
        "      0.716238888889      17.0\n",
        "1.0"
       ]
      },
      {
       "output_type": "stream",
       "stream": "stdout",
       "text": [
        "      0.688622222222      16.0\n",
        "1.0"
       ]
      },
      {
       "output_type": "stream",
       "stream": "stdout",
       "text": [
        "      0.699233333333      15.0\n",
        "1.0"
       ]
      },
      {
       "output_type": "stream",
       "stream": "stdout",
       "text": [
        "      0.681505555556      18.0\n",
        "1.0"
       ]
      },
      {
       "output_type": "stream",
       "stream": "stdout",
       "text": [
        "      0.710444444444      18.0\n",
        "1.0"
       ]
      },
      {
       "output_type": "stream",
       "stream": "stdout",
       "text": [
        "      0.685833333333      18.0\n",
        "1.0"
       ]
      },
      {
       "output_type": "stream",
       "stream": "stdout",
       "text": [
        "      0.643766666667      11.0\n",
        "1.0"
       ]
      },
      {
       "output_type": "stream",
       "stream": "stdout",
       "text": [
        "      0.641566666667      12.0\n",
        "1.0"
       ]
      },
      {
       "output_type": "stream",
       "stream": "stdout",
       "text": [
        "      0.641377777778      10.0\n",
        "1.0"
       ]
      },
      {
       "output_type": "stream",
       "stream": "stdout",
       "text": [
        "      0.625877777778      9.0\n",
        "1.0"
       ]
      },
      {
       "output_type": "stream",
       "stream": "stdout",
       "text": [
        "      0.632927777778      10.0\n",
        "1.0"
       ]
      },
      {
       "output_type": "stream",
       "stream": "stdout",
       "text": [
        "      0.646638888889      11.0\n",
        "1.0"
       ]
      },
      {
       "output_type": "stream",
       "stream": "stdout",
       "text": [
        "      0.64125      10.0\n",
        "1.0"
       ]
      },
      {
       "output_type": "stream",
       "stream": "stdout",
       "text": [
        "      0.63125      9.0\n",
        "1.0"
       ]
      },
      {
       "output_type": "stream",
       "stream": "stdout",
       "text": [
        "      0.616327777778      9.0\n",
        "1.0"
       ]
      },
      {
       "output_type": "stream",
       "stream": "stdout",
       "text": [
        "      0.709022222222      27.0\n",
        "1.0"
       ]
      },
      {
       "output_type": "stream",
       "stream": "stdout",
       "text": [
        "      0.699255555556      28.0\n",
        "1.0"
       ]
      },
      {
       "output_type": "stream",
       "stream": "stdout",
       "text": [
        "      0.699155555556      32.0\n",
        "1.0"
       ]
      },
      {
       "output_type": "stream",
       "stream": "stdout",
       "text": [
        "      0.689438888889      30.0\n",
        "1.0"
       ]
      },
      {
       "output_type": "stream",
       "stream": "stdout",
       "text": [
        "      0.697561111111      28.0\n",
        "1.0"
       ]
      },
      {
       "output_type": "stream",
       "stream": "stdout",
       "text": [
        "      0.689338888889      27.0\n",
        "1.0"
       ]
      },
      {
       "output_type": "stream",
       "stream": "stdout",
       "text": [
        "      0.696283333333      28.0\n",
        "1.0"
       ]
      },
      {
       "output_type": "stream",
       "stream": "stdout",
       "text": [
        "      0.711311111111      27.0\n",
        "1.0"
       ]
      },
      {
       "output_type": "stream",
       "stream": "stdout",
       "text": [
        "      0.715961111111      26.0\n",
        "1.0"
       ]
      },
      {
       "output_type": "stream",
       "stream": "stdout",
       "text": [
        "      0.637227777778      9.0\n",
        "1.0"
       ]
      },
      {
       "output_type": "stream",
       "stream": "stdout",
       "text": [
        "      0.626011111111      12.0\n",
        "1.0"
       ]
      },
      {
       "output_type": "stream",
       "stream": "stdout",
       "text": [
        "      0.626838888889      9.0\n",
        "1.0"
       ]
      },
      {
       "output_type": "stream",
       "stream": "stdout",
       "text": [
        "      0.637222222222      12.0\n",
        "1.0"
       ]
      },
      {
       "output_type": "stream",
       "stream": "stdout",
       "text": [
        "      0.630833333333      11.0\n",
        "1.0"
       ]
      },
      {
       "output_type": "stream",
       "stream": "stdout",
       "text": [
        "      0.644588888889      9.0\n",
        "1.0"
       ]
      },
      {
       "output_type": "stream",
       "stream": "stdout",
       "text": [
        "      0.628133333333      12.0\n",
        "1.0"
       ]
      },
      {
       "output_type": "stream",
       "stream": "stdout",
       "text": [
        "      0.6668      10.0\n",
        "1.0"
       ]
      },
      {
       "output_type": "stream",
       "stream": "stdout",
       "text": [
        "      0.631272222222      10.0\n",
        "1.0"
       ]
      },
      {
       "output_type": "stream",
       "stream": "stdout",
       "text": [
        "      0.710038888889      16.0\n",
        "1.0"
       ]
      },
      {
       "output_type": "stream",
       "stream": "stdout",
       "text": [
        "      0.723427777778      15.0\n",
        "1.0"
       ]
      },
      {
       "output_type": "stream",
       "stream": "stdout",
       "text": [
        "      0.698677777778      18.0\n",
        "1.0"
       ]
      },
      {
       "output_type": "stream",
       "stream": "stdout",
       "text": [
        "      0.676927777778      17.0\n",
        "1.0"
       ]
      },
      {
       "output_type": "stream",
       "stream": "stdout",
       "text": [
        "      0.674183333333      17.0\n",
        "1.0"
       ]
      },
      {
       "output_type": "stream",
       "stream": "stdout",
       "text": [
        "      0.696894444444      15.0\n",
        "1.0"
       ]
      },
      {
       "output_type": "stream",
       "stream": "stdout",
       "text": [
        "      0.685227777778      16.0\n",
        "1.0"
       ]
      },
      {
       "output_type": "stream",
       "stream": "stdout",
       "text": [
        "      0.67235      16.0\n",
        "1.0"
       ]
      },
      {
       "output_type": "stream",
       "stream": "stdout",
       "text": [
        "      0.680044444444      15.0\n",
        "1.0"
       ]
      },
      {
       "output_type": "stream",
       "stream": "stdout",
       "text": [
        "      0.635588888889      9.0\n",
        "1.0"
       ]
      },
      {
       "output_type": "stream",
       "stream": "stdout",
       "text": [
        "      0.626244444444      9.0\n",
        "1.0"
       ]
      },
      {
       "output_type": "stream",
       "stream": "stdout",
       "text": [
        "      0.634688888889      10.0\n",
        "1.0"
       ]
      },
      {
       "output_type": "stream",
       "stream": "stdout",
       "text": [
        "      0.636016666667      10.0\n",
        "1.0"
       ]
      },
      {
       "output_type": "stream",
       "stream": "stdout",
       "text": [
        "      0.636622222222      10.0\n",
        "1.0"
       ]
      },
      {
       "output_type": "stream",
       "stream": "stdout",
       "text": [
        "      0.627372222222      11.0\n",
        "1.0"
       ]
      },
      {
       "output_type": "stream",
       "stream": "stdout",
       "text": [
        "      0.637816666667      9.0\n",
        "1.0"
       ]
      },
      {
       "output_type": "stream",
       "stream": "stdout",
       "text": [
        "      0.639916666667      8.0\n",
        "1.0"
       ]
      },
      {
       "output_type": "stream",
       "stream": "stdout",
       "text": [
        "      0.668583333333      9.0\n",
        "1.0"
       ]
      },
      {
       "output_type": "stream",
       "stream": "stdout",
       "text": [
        "      0.702222222222      27.0\n",
        "1.0"
       ]
      },
      {
       "output_type": "stream",
       "stream": "stdout",
       "text": [
        "      0.697694444444      26.0\n",
        "1.0"
       ]
      },
      {
       "output_type": "stream",
       "stream": "stdout",
       "text": [
        "      0.691777777778      26.0\n",
        "1.0"
       ]
      },
      {
       "output_type": "stream",
       "stream": "stdout",
       "text": [
        "      0.709405555556      29.0\n",
        "1.0"
       ]
      },
      {
       "output_type": "stream",
       "stream": "stdout",
       "text": [
        "      0.693994444444      30.0\n",
        "1.0"
       ]
      },
      {
       "output_type": "stream",
       "stream": "stdout",
       "text": [
        "      0.71295      28.0\n",
        "1.0"
       ]
      },
      {
       "output_type": "stream",
       "stream": "stdout",
       "text": [
        "      0.695594444444      27.0\n",
        "1.0"
       ]
      },
      {
       "output_type": "stream",
       "stream": "stdout",
       "text": [
        "      0.700077777778      28.0\n",
        "1.0"
       ]
      },
      {
       "output_type": "stream",
       "stream": "stdout",
       "text": [
        "      0.698788888889      30.0\n",
        "1.0"
       ]
      },
      {
       "output_type": "stream",
       "stream": "stdout",
       "text": [
        "      0.639388888889      12.0\n",
        "1.0"
       ]
      },
      {
       "output_type": "stream",
       "stream": "stdout",
       "text": [
        "      0.644488888889      10.0\n",
        "1.0"
       ]
      },
      {
       "output_type": "stream",
       "stream": "stdout",
       "text": [
        "      0.630055555556      10.0\n",
        "1.0"
       ]
      },
      {
       "output_type": "stream",
       "stream": "stdout",
       "text": [
        "      0.637211111111      11.0\n",
        "1.0"
       ]
      },
      {
       "output_type": "stream",
       "stream": "stdout",
       "text": [
        "      0.633005555556      9.0\n",
        "1.0"
       ]
      },
      {
       "output_type": "stream",
       "stream": "stdout",
       "text": [
        "      0.653622222222      10.0\n",
        "1.0"
       ]
      },
      {
       "output_type": "stream",
       "stream": "stdout",
       "text": [
        "      0.658894444444      11.0\n",
        "1.0"
       ]
      },
      {
       "output_type": "stream",
       "stream": "stdout",
       "text": [
        "      0.676194444444      10.0\n",
        "1.0"
       ]
      },
      {
       "output_type": "stream",
       "stream": "stdout",
       "text": [
        "      0.663122222222      10.0\n",
        "1.0"
       ]
      },
      {
       "output_type": "stream",
       "stream": "stdout",
       "text": [
        "      0.670261111111      12.0\n",
        "1.0"
       ]
      },
      {
       "output_type": "stream",
       "stream": "stdout",
       "text": [
        "      0.651661111111      12.0\n",
        "1.0"
       ]
      },
      {
       "output_type": "stream",
       "stream": "stdout",
       "text": [
        "      0.67875      12.0\n",
        "1.0"
       ]
      },
      {
       "output_type": "stream",
       "stream": "stdout",
       "text": [
        "      0.683327777778      13.0\n",
        "1.0"
       ]
      },
      {
       "output_type": "stream",
       "stream": "stdout",
       "text": [
        "      0.66955      13.0\n",
        "1.0"
       ]
      },
      {
       "output_type": "stream",
       "stream": "stdout",
       "text": [
        "      0.662638888889      12.0\n",
        "1.0"
       ]
      },
      {
       "output_type": "stream",
       "stream": "stdout",
       "text": [
        "      0.651644444444      12.0\n",
        "1.0"
       ]
      },
      {
       "output_type": "stream",
       "stream": "stdout",
       "text": [
        "      0.6714      13.0\n",
        "1.0"
       ]
      },
      {
       "output_type": "stream",
       "stream": "stdout",
       "text": [
        "      0.663716666667      13.0\n",
        "1.0"
       ]
      },
      {
       "output_type": "stream",
       "stream": "stdout",
       "text": [
        "      0.602672222222      7.0\n",
        "1.0"
       ]
      },
      {
       "output_type": "stream",
       "stream": "stdout",
       "text": [
        "      0.613361111111      8.0\n",
        "1.0"
       ]
      },
      {
       "output_type": "stream",
       "stream": "stdout",
       "text": [
        "      0.605977777778      7.0\n",
        "1.0"
       ]
      },
      {
       "output_type": "stream",
       "stream": "stdout",
       "text": [
        "      0.606961111111      9.0\n",
        "1.0"
       ]
      },
      {
       "output_type": "stream",
       "stream": "stdout",
       "text": [
        "      0.614283333333      8.0\n",
        "1.0"
       ]
      },
      {
       "output_type": "stream",
       "stream": "stdout",
       "text": [
        "      0.617222222222      8.0\n",
        "1.0"
       ]
      },
      {
       "output_type": "stream",
       "stream": "stdout",
       "text": [
        "      0.628188888889      9.0\n",
        "1.0"
       ]
      },
      {
       "output_type": "stream",
       "stream": "stdout",
       "text": [
        "      0.609061111111      6.0\n",
        "1.0"
       ]
      },
      {
       "output_type": "stream",
       "stream": "stdout",
       "text": [
        "      0.6252      7.0\n",
        "1.0"
       ]
      },
      {
       "output_type": "stream",
       "stream": "stdout",
       "text": [
        "      0.678788888889      20.0\n",
        "1.0"
       ]
      },
      {
       "output_type": "stream",
       "stream": "stdout",
       "text": [
        "      0.654944444444      21.0\n",
        "1.0"
       ]
      },
      {
       "output_type": "stream",
       "stream": "stdout",
       "text": [
        "      0.67305      20.0\n",
        "1.0"
       ]
      },
      {
       "output_type": "stream",
       "stream": "stdout",
       "text": [
        "      0.652011111111      23.0\n",
        "1.0"
       ]
      },
      {
       "output_type": "stream",
       "stream": "stdout",
       "text": [
        "      0.686338888889      20.0\n",
        "1.0"
       ]
      },
      {
       "output_type": "stream",
       "stream": "stdout",
       "text": [
        "      0.665527777778      21.0\n",
        "1.0"
       ]
      },
      {
       "output_type": "stream",
       "stream": "stdout",
       "text": [
        "      0.687438888889      19.0\n",
        "1.0"
       ]
      },
      {
       "output_type": "stream",
       "stream": "stdout",
       "text": [
        "      0.653677777778      23.0\n",
        "1.0"
       ]
      },
      {
       "output_type": "stream",
       "stream": "stdout",
       "text": [
        "      0.673483333333      22.0\n",
        "1.0"
       ]
      },
      {
       "output_type": "stream",
       "stream": "stdout",
       "text": [
        "      0.609038888889      8.0\n",
        "1.0"
       ]
      },
      {
       "output_type": "stream",
       "stream": "stdout",
       "text": [
        "      0.607338888889      9.0\n",
        "1.0"
       ]
      },
      {
       "output_type": "stream",
       "stream": "stdout",
       "text": [
        "      0.608794444444      7.0\n",
        "1.0"
       ]
      },
      {
       "output_type": "stream",
       "stream": "stdout",
       "text": [
        "      0.648111111111      8.0\n",
        "1.0"
       ]
      },
      {
       "output_type": "stream",
       "stream": "stdout",
       "text": [
        "      0.607494444444      9.0\n",
        "1.0"
       ]
      },
      {
       "output_type": "stream",
       "stream": "stdout",
       "text": [
        "      0.613727777778      9.0\n",
        "1.0"
       ]
      },
      {
       "output_type": "stream",
       "stream": "stdout",
       "text": [
        "      0.653055555556      8.0\n",
        "1.0"
       ]
      },
      {
       "output_type": "stream",
       "stream": "stdout",
       "text": [
        "      0.617772222222      8.0\n",
        "1.0"
       ]
      },
      {
       "output_type": "stream",
       "stream": "stdout",
       "text": [
        "      0.632238888889      8.0\n",
        "1.0"
       ]
      },
      {
       "output_type": "stream",
       "stream": "stdout",
       "text": [
        "      0.764744444444      125.0\n",
        "1.0"
       ]
      },
      {
       "output_type": "stream",
       "stream": "stdout",
       "text": [
        "      0.765666666667      126.0\n",
        "1.0"
       ]
      },
      {
       "output_type": "stream",
       "stream": "stdout",
       "text": [
        "      0.764805555556      126.0\n",
        "1.0"
       ]
      },
      {
       "output_type": "stream",
       "stream": "stdout",
       "text": [
        "      0.766161111111      125.0\n",
        "1.0"
       ]
      },
      {
       "output_type": "stream",
       "stream": "stdout",
       "text": [
        "      0.765294444444      127.0\n",
        "1.0"
       ]
      },
      {
       "output_type": "stream",
       "stream": "stdout",
       "text": [
        "      0.765255555556      124.0\n",
        "1.0"
       ]
      },
      {
       "output_type": "stream",
       "stream": "stdout",
       "text": [
        "      0.765966666667      126.0\n",
        "1.0"
       ]
      },
      {
       "output_type": "stream",
       "stream": "stdout",
       "text": [
        "      0.765938888889      124.0\n",
        "1.0"
       ]
      },
      {
       "output_type": "stream",
       "stream": "stdout",
       "text": [
        "      0.765466666667      127.0\n",
        "1.0"
       ]
      },
      {
       "output_type": "stream",
       "stream": "stdout",
       "text": [
        "      0.755283333333      58.0\n",
        "1.0"
       ]
      },
      {
       "output_type": "stream",
       "stream": "stdout",
       "text": [
        "      0.753261111111      54.0\n",
        "1.0"
       ]
      },
      {
       "output_type": "stream",
       "stream": "stdout",
       "text": [
        "      0.754677777778      54.0\n",
        "1.0"
       ]
      },
      {
       "output_type": "stream",
       "stream": "stdout",
       "text": [
        "      0.751427777778      36.0\n",
        "1.0"
       ]
      },
      {
       "output_type": "stream",
       "stream": "stdout",
       "text": [
        "      0.751144444444      59.0\n",
        "1.0"
       ]
      },
      {
       "output_type": "stream",
       "stream": "stdout",
       "text": [
        "      0.750905555556      62.0\n",
        "1.0"
       ]
      },
      {
       "output_type": "stream",
       "stream": "stdout",
       "text": [
        "      0.754755555556      59.0\n",
        "1.0"
       ]
      },
      {
       "output_type": "stream",
       "stream": "stdout",
       "text": [
        "      0.750111111111      53.0\n",
        "1.0"
       ]
      },
      {
       "output_type": "stream",
       "stream": "stdout",
       "text": [
        "      0.755694444444      55.0\n",
        "1.0"
       ]
      },
      {
       "output_type": "stream",
       "stream": "stdout",
       "text": [
        "      0.76975      177.0\n",
        "1.0"
       ]
      },
      {
       "output_type": "stream",
       "stream": "stdout",
       "text": [
        "      0.770183333333      174.0\n",
        "1.0"
       ]
      },
      {
       "output_type": "stream",
       "stream": "stdout",
       "text": [
        "      0.770916666667      175.0\n",
        "1.0"
       ]
      },
      {
       "output_type": "stream",
       "stream": "stdout",
       "text": [
        "      0.770355555556      178.0\n",
        "1.0"
       ]
      },
      {
       "output_type": "stream",
       "stream": "stdout",
       "text": [
        "      0.769716666667      179.0\n",
        "1.0"
       ]
      },
      {
       "output_type": "stream",
       "stream": "stdout",
       "text": [
        "      0.770022222222      176.0\n",
        "1.0"
       ]
      },
      {
       "output_type": "stream",
       "stream": "stdout",
       "text": [
        "      0.769977777778      177.0\n",
        "1.0"
       ]
      },
      {
       "output_type": "stream",
       "stream": "stdout",
       "text": [
        "      0.769855555556      178.0\n",
        "1.0"
       ]
      },
      {
       "output_type": "stream",
       "stream": "stdout",
       "text": [
        "      0.770216666667      181.0\n",
        "1.0"
       ]
      },
      {
       "output_type": "stream",
       "stream": "stdout",
       "text": [
        "      0.756483333333      67.0\n",
        "1.0"
       ]
      },
      {
       "output_type": "stream",
       "stream": "stdout",
       "text": [
        "      0.756222222222      66.0\n",
        "1.0"
       ]
      },
      {
       "output_type": "stream",
       "stream": "stdout",
       "text": [
        "      0.755633333333      55.0\n",
        "1.0"
       ]
      },
      {
       "output_type": "stream",
       "stream": "stdout",
       "text": [
        "      0.757216666667      51.0\n",
        "1.0"
       ]
      },
      {
       "output_type": "stream",
       "stream": "stdout",
       "text": [
        "      0.757083333333      56.0\n",
        "1.0"
       ]
      },
      {
       "output_type": "stream",
       "stream": "stdout",
       "text": [
        "      0.755388888889      62.0\n",
        "1.0"
       ]
      },
      {
       "output_type": "stream",
       "stream": "stdout",
       "text": [
        "      0.755683333333      63.0\n",
        "1.0"
       ]
      },
      {
       "output_type": "stream",
       "stream": "stdout",
       "text": [
        "      0.757305555556      44.0\n",
        "1.0"
       ]
      },
      {
       "output_type": "stream",
       "stream": "stdout",
       "text": [
        "      0.757405555556      55.0\n",
        "[(100000, 1.0, 0.6851, 1.0, None, 'gini', 100, 'auto', None, 1, 1, 0, None, 'best'), (100000, 1.0, 0.65805, 1.0, None, 'gini', 200, 'auto', None, 1, 1, 0, None, 'best'), (100000, 1.0, 0.6961, 2.0, None, 'gini', 300, 'auto', None, 1, 1, 0, None, 'best'), (100000, 1.0, 0.66015, 2.0, None, 'gini', 400, 'auto', None, 1, 1, 0, None, 'best'), (100000, 1.0, 0.65355, 2.0, None, 'gini', 500, 'auto', None, 1, 1, 0, None, 'best'), (100000, 1.0, 0.66735, 2.0, None, 'gini', 600, 'auto', None, 1, 1, 0, None, 'best'), (100000, 1.0, 0.65775, 1.0, None, 'gini', 700, 'auto', None, 1, 1, 0, None, 'best'), (100000, 1.0, 0.6764, 1.0, None, 'gini', 800, 'auto', None, 1, 1, 0, None, 'best'), (100000, 1.0, 0.6418, 1.0, None, 'gini', 900, 'auto', None, 1, 1, 0, None, 'best'), (100000, 1.0, 0.625, 1.0, None, 'gini', 100, 'auto', None, 1, 1, 0, None, 'random'), (100000, 1.0, 0.60405, 1.0, None, 'gini', 200, 'auto', None, 1, 1, 0, None, 'random'), (100000, 1.0, 0.6153, 0.0, None, 'gini', 300, 'auto', None, 1, 1, 0, None, 'random'), (100000, 1.0, 0.60925, 0.0, None, 'gini', 400, 'auto', None, 1, 1, 0, None, 'random'), (100000, 1.0, 0.62165, 1.0, None, 'gini', 500, 'auto', None, 1, 1, 0, None, 'random'), (100000, 1.0, 0.6225, 1.0, None, 'gini', 600, 'auto', None, 1, 1, 0, None, 'random'), (100000, 1.0, 0.6428, 1.0, None, 'gini', 700, 'auto', None, 1, 1, 0, None, 'random'), (100000, 1.0, 0.60125, 0.0, None, 'gini', 800, 'auto', None, 1, 1, 0, None, 'random'), (100000, 1.0, 0.62655, 0.0, None, 'gini', 900, 'auto', None, 1, 1, 0, None, 'random'), (100000, 1.0, 0.66145, 2.0, None, 'entropy', 100, 'auto', None, 1, 1, 0, None, 'best'), (100000, 1.0, 0.6605, 4.0, None, 'entropy', 200, 'auto', None, 1, 1, 0, None, 'best'), (100000, 1.0, 0.6712, 3.0, None, 'entropy', 300, 'auto', None, 1, 1, 0, None, 'best'), (100000, 1.0, 0.6888, 2.0, None, 'entropy', 400, 'auto', None, 1, 1, 0, None, 'best'), (100000, 1.0, 0.68015, 2.0, None, 'entropy', 500, 'auto', None, 1, 1, 0, None, 'best'), (100000, 1.0, 0.66345, 2.0, None, 'entropy', 600, 'auto', None, 1, 1, 0, None, 'best'), (100000, 1.0, 0.6704, 2.0, None, 'entropy', 700, 'auto', None, 1, 1, 0, None, 'best'), (100000, 1.0, 0.66195, 3.0, None, 'entropy', 800, 'auto', None, 1, 1, 0, None, 'best'), (100000, 1.0, 0.681, 2.0, None, 'entropy', 900, 'auto', None, 1, 1, 0, None, 'best'), (100000, 1.0, 0.62065, 1.0, None, 'entropy', 100, 'auto', None, 1, 1, 0, None, 'random'), (100000, 1.0, 0.6185, 1.0, None, 'entropy', 200, 'auto', None, 1, 1, 0, None, 'random'), (100000, 1.0, 0.60725, 0.0, None, 'entropy', 300, 'auto', None, 1, 1, 0, None, 'random'), (100000, 1.0, 0.611, 0.0, None, 'entropy', 400, 'auto', None, 1, 1, 0, None, 'random'), (100000, 1.0, 0.63265, 0.0, None, 'entropy', 500, 'auto', None, 1, 1, 0, None, 'random'), (100000, 1.0, 0.6217, 0.0, None, 'entropy', 600, 'auto', None, 1, 1, 0, None, 'random'), (100000, 1.0, 0.61535, 1.0, None, 'entropy', 700, 'auto', None, 1, 1, 0, None, 'random'), (100000, 1.0, 0.628, 1.0, None, 'entropy', 800, 'auto', None, 1, 1, 0, None, 'random'), (100000, 1.0, 0.6098, 1.0, None, 'entropy', 900, 'auto', None, 1, 1, 0, None, 'random'), (100000, 1.0, 0.66815, 1.0, None, 'gini', 100, 'sqrt', None, 1, 1, 0, None, 'best'), (100000, 1.0, 0.6633, 2.0, None, 'gini', 200, 'sqrt', None, 1, 1, 0, None, 'best'), (100000, 1.0, 0.64635, 1.0, None, 'gini', 300, 'sqrt', None, 1, 1, 0, None, 'best'), (100000, 1.0, 0.6799, 1.0, None, 'gini', 400, 'sqrt', None, 1, 1, 0, None, 'best'), (100000, 1.0, 0.6641, 1.0, None, 'gini', 500, 'sqrt', None, 1, 1, 0, None, 'best'), (100000, 1.0, 0.66445, 1.0, None, 'gini', 600, 'sqrt', None, 1, 1, 0, None, 'best'), (100000, 1.0, 0.67275, 1.0, None, 'gini', 700, 'sqrt', None, 1, 1, 0, None, 'best'), (100000, 1.0, 0.6803, 1.0, None, 'gini', 800, 'sqrt', None, 1, 1, 0, None, 'best'), (100000, 1.0, 0.64375, 1.0, None, 'gini', 900, 'sqrt', None, 1, 1, 0, None, 'best'), (100000, 1.0, 0.6028, 0.0, None, 'gini', 100, 'sqrt', None, 1, 1, 0, None, 'random'), (100000, 1.0, 0.602, 1.0, None, 'gini', 200, 'sqrt', None, 1, 1, 0, None, 'random'), (100000, 1.0, 0.63575, 1.0, None, 'gini', 300, 'sqrt', None, 1, 1, 0, None, 'random'), (100000, 1.0, 0.60395, 1.0, None, 'gini', 400, 'sqrt', None, 1, 1, 0, None, 'random'), (100000, 1.0, 0.60935, 0.0, None, 'gini', 500, 'sqrt', None, 1, 1, 0, None, 'random'), (100000, 1.0, 0.61755, 0.0, None, 'gini', 600, 'sqrt', None, 1, 1, 0, None, 'random'), (100000, 1.0, 0.62825, 0.0, None, 'gini', 700, 'sqrt', None, 1, 1, 0, None, 'random'), (100000, 1.0, 0.60915, 1.0, None, 'gini', 800, 'sqrt', None, 1, 1, 0, None, 'random'), (100000, 1.0, 0.61085, 1.0, None, 'gini', 900, 'sqrt', None, 1, 1, 0, None, 'random'), (100000, 1.0, 0.67535, 2.0, None, 'entropy', 100, 'sqrt', None, 1, 1, 0, None, 'best'), (100000, 1.0, 0.6823, 3.0, None, 'entropy', 200, 'sqrt', None, 1, 1, 0, None, 'best'), (100000, 1.0, 0.67355, 2.0, None, 'entropy', 300, 'sqrt', None, 1, 1, 0, None, 'best'), (100000, 1.0, 0.676, 3.0, None, 'entropy', 400, 'sqrt', None, 1, 1, 0, None, 'best'), (100000, 1.0, 0.68125, 2.0, None, 'entropy', 500, 'sqrt', None, 1, 1, 0, None, 'best'), (100000, 1.0, 0.71365, 2.0, None, 'entropy', 600, 'sqrt', None, 1, 1, 0, None, 'best'), (100000, 1.0, 0.68545, 2.0, None, 'entropy', 700, 'sqrt', None, 1, 1, 0, None, 'best'), (100000, 1.0, 0.6713, 2.0, None, 'entropy', 800, 'sqrt', None, 1, 1, 0, None, 'best'), (100000, 1.0, 0.68405, 2.0, None, 'entropy', 900, 'sqrt', None, 1, 1, 0, None, 'best'), (100000, 1.0, 0.64195, 1.0, None, 'entropy', 100, 'sqrt', None, 1, 1, 0, None, 'random'), (100000, 1.0, 0.6159, 1.0, None, 'entropy', 200, 'sqrt', None, 1, 1, 0, None, 'random'), (100000, 1.0, 0.60325, 1.0, None, 'entropy', 300, 'sqrt', None, 1, 1, 0, None, 'random'), (100000, 1.0, 0.62105, 1.0, None, 'entropy', 400, 'sqrt', None, 1, 1, 0, None, 'random'), (100000, 1.0, 0.64325, 1.0, None, 'entropy', 500, 'sqrt', None, 1, 1, 0, None, 'random'), (100000, 1.0, 0.63545, 1.0, None, 'entropy', 600, 'sqrt', None, 1, 1, 0, None, 'random'), (100000, 1.0, 0.63115, 0.0, None, 'entropy', 700, 'sqrt', None, 1, 1, 0, None, 'random'), (100000, 1.0, 0.6139, 0.0, None, 'entropy', 800, 'sqrt', None, 1, 1, 0, None, 'random'), (100000, 1.0, 0.6126, 0.0, None, 'entropy', 900, 'sqrt', None, 1, 1, 0, None, 'random'), (100000, 1.0, 0.64605, 1.0, None, 'gini', 100, 'log2', None, 1, 1, 0, None, 'best'), (100000, 1.0, 0.62525, 1.0, None, 'gini', 200, 'log2', None, 1, 1, 0, None, 'best'), (100000, 1.0, 0.6645, 1.0, None, 'gini', 300, 'log2', None, 1, 1, 0, None, 'best'), (100000, 1.0, 0.649, 1.0, None, 'gini', 400, 'log2', None, 1, 1, 0, None, 'best'), (100000, 1.0, 0.6537, 0.0, None, 'gini', 500, 'log2', None, 1, 1, 0, None, 'best'), (100000, 1.0, 0.62995, 1.0, None, 'gini', 600, 'log2', None, 1, 1, 0, None, 'best'), (100000, 1.0, 0.64265, 1.0, None, 'gini', 700, 'log2', None, 1, 1, 0, None, 'best'), (100000, 1.0, 0.6433, 1.0, None, 'gini', 800, 'log2', None, 1, 1, 0, None, 'best'), (100000, 1.0, 0.6564, 1.0, None, 'gini', 900, 'log2', None, 1, 1, 0, None, 'best'), (100000, 1.0, 0.60075, 0.0, None, 'gini', 100, 'log2', None, 1, 1, 0, None, 'random'), (100000, 1.0, 0.611, 1.0, None, 'gini', 200, 'log2', None, 1, 1, 0, None, 'random'), (100000, 1.0, 0.59445, 0.0, None, 'gini', 300, 'log2', None, 1, 1, 0, None, 'random'), (100000, 1.0, 0.59195, 0.0, None, 'gini', 400, 'log2', None, 1, 1, 0, None, 'random'), (100000, 1.0, 0.58785, 0.0, None, 'gini', 500, 'log2', None, 1, 1, 0, None, 'random'), (100000, 1.0, 0.5964, 0.0, None, 'gini', 600, 'log2', None, 1, 1, 0, None, 'random'), (100000, 1.0, 0.59735, 1.0, None, 'gini', 700, 'log2', None, 1, 1, 0, None, 'random'), (100000, 1.0, 0.5955, 0.0, None, 'gini', 800, 'log2', None, 1, 1, 0, None, 'random'), (100000, 1.0, 0.59025, 0.0, None, 'gini', 900, 'log2', None, 1, 1, 0, None, 'random'), (100000, 1.0, 0.63675, 2.0, None, 'entropy', 100, 'log2', None, 1, 1, 0, None, 'best'), (100000, 1.0, 0.6621, 1.0, None, 'entropy', 200, 'log2', None, 1, 1, 0, None, 'best'), (100000, 1.0, 0.6483, 1.0, None, 'entropy', 300, 'log2', None, 1, 1, 0, None, 'best'), (100000, 1.0, 0.65855, 2.0, None, 'entropy', 400, 'log2', None, 1, 1, 0, None, 'best'), (100000, 1.0, 0.63795, 2.0, None, 'entropy', 500, 'log2', None, 1, 1, 0, None, 'best'), (100000, 1.0, 0.62975, 2.0, None, 'entropy', 600, 'log2', None, 1, 1, 0, None, 'best'), (100000, 1.0, 0.64125, 2.0, None, 'entropy', 700, 'log2', None, 1, 1, 0, None, 'best'), (100000, 1.0, 0.6707, 2.0, None, 'entropy', 800, 'log2', None, 1, 1, 0, None, 'best'), (100000, 1.0, 0.64905, 2.0, None, 'entropy', 900, 'log2', None, 1, 1, 0, None, 'best'), (100000, 1.0, 0.62215, 1.0, None, 'entropy', 100, 'log2', None, 1, 1, 0, None, 'random'), (100000, 1.0, 0.6015, 0.0, None, 'entropy', 200, 'log2', None, 1, 1, 0, None, 'random'), (100000, 1.0, 0.5949, 0.0, None, 'entropy', 300, 'log2', None, 1, 1, 0, None, 'random'), (100000, 1.0, 0.60595, 0.0, None, 'entropy', 400, 'log2', None, 1, 1, 0, None, 'random'), (100000, 1.0, 0.60615, 1.0, None, 'entropy', 500, 'log2', None, 1, 1, 0, None, 'random'), (100000, 1.0, 0.6133, 1.0, None, 'entropy', 600, 'log2', None, 1, 1, 0, None, 'random'), (100000, 1.0, 0.5962, 1.0, None, 'entropy', 700, 'log2', None, 1, 1, 0, None, 'random'), (100000, 1.0, 0.61325, 0.0, None, 'entropy', 800, 'log2', None, 1, 1, 0, None, 'random'), (100000, 1.0, 0.60595, 0.0, None, 'entropy', 900, 'log2', None, 1, 1, 0, None, 'random'), (100000, 1.0, 0.74795, 7.0, None, 'gini', 100, None, None, 1, 1, 0, None, 'best'), (100000, 1.0, 0.75355, 7.0, None, 'gini', 200, None, None, 1, 1, 0, None, 'best'), (100000, 1.0, 0.7519, 7.0, None, 'gini', 300, None, None, 1, 1, 0, None, 'best'), (100000, 1.0, 0.75025, 8.0, None, 'gini', 400, None, None, 1, 1, 0, None, 'best'), (100000, 1.0, 0.75025, 8.0, None, 'gini', 500, None, None, 1, 1, 0, None, 'best'), (100000, 1.0, 0.75185, 8.0, None, 'gini', 600, None, None, 1, 1, 0, None, 'best'), (100000, 1.0, 0.7512, 8.0, None, 'gini', 700, None, None, 1, 1, 0, None, 'best'), (100000, 1.0, 0.75025, 8.0, None, 'gini', 800, None, None, 1, 1, 0, None, 'best'), (100000, 1.0, 0.7523, 7.0, None, 'gini', 900, None, None, 1, 1, 0, None, 'best'), (100000, 1.0, 0.73185, 2.0, None, 'gini', 100, None, None, 1, 1, 0, None, 'random'), (100000, 1.0, 0.733, 3.0, None, 'gini', 200, None, None, 1, 1, 0, None, 'random'), (100000, 1.0, 0.72685, 2.0, None, 'gini', 300, None, None, 1, 1, 0, None, 'random'), (100000, 1.0, 0.73235, 2.0, None, 'gini', 400, None, None, 1, 1, 0, None, 'random'), (100000, 1.0, 0.73795, 3.0, None, 'gini', 500, None, None, 1, 1, 0, None, 'random'), (100000, 1.0, 0.7353, 3.0, None, 'gini', 600, None, None, 1, 1, 0, None, 'random'), (100000, 1.0, 0.7356, 2.0, None, 'gini', 700, None, None, 1, 1, 0, None, 'random'), (100000, 1.0, 0.73235, 3.0, None, 'gini', 800, None, None, 1, 1, 0, None, 'random'), (100000, 1.0, 0.73755, 3.0, None, 'gini', 900, None, None, 1, 1, 0, None, 'random'), (100000, 1.0, 0.7505, 14.0, None, 'entropy', 100, None, None, 1, 1, 0, None, 'best'), (100000, 1.0, 0.75215, 13.0, None, 'entropy', 200, None, None, 1, 1, 0, None, 'best'), (100000, 1.0, 0.75055, 13.0, None, 'entropy', 300, None, None, 1, 1, 0, None, 'best'), (100000, 1.0, 0.7509, 14.0, None, 'entropy', 400, None, None, 1, 1, 0, None, 'best'), (100000, 1.0, 0.7502, 13.0, None, 'entropy', 500, None, None, 1, 1, 0, None, 'best'), (100000, 1.0, 0.75025, 13.0, None, 'entropy', 600, None, None, 1, 1, 0, None, 'best'), (100000, 1.0, 0.75175, 14.0, None, 'entropy', 700, None, None, 1, 1, 0, None, 'best'), (100000, 1.0, 0.7521, 20.0, None, 'entropy', 800, None, None, 1, 1, 0, None, 'best'), (100000, 1.0, 0.75015, 26.0, None, 'entropy', 900, None, None, 1, 1, 0, None, 'best'), (100000, 1.0, 0.73805, 4.0, None, 'entropy', 100, None, None, 1, 1, 0, None, 'random'), (100000, 1.0, 0.74155, 5.0, None, 'entropy', 200, None, None, 1, 1, 0, None, 'random'), (100000, 1.0, 0.73135, 4.0, None, 'entropy', 300, None, None, 1, 1, 0, None, 'random'), (100000, 1.0, 0.73595, 4.0, None, 'entropy', 400, None, None, 1, 1, 0, None, 'random'), (100000, 1.0, 0.73945, 4.0, None, 'entropy', 500, None, None, 1, 1, 0, None, 'random'), (100000, 1.0, 0.73505, 5.0, None, 'entropy', 600, None, None, 1, 1, 0, None, 'random'), (100000, 1.0, 0.7422, 6.0, None, 'entropy', 700, None, None, 1, 1, 0, None, 'random'), (100000, 1.0, 0.7322, 5.0, None, 'entropy', 800, None, None, 1, 1, 0, None, 'random'), (100000, 1.0, 0.73545, 2.0, None, 'entropy', 900, None, None, 1, 1, 0, None, 'random'), (200000, 1.0, 0.66825, 2.0, None, 'gini', 100, 'auto', None, 1, 1, 0, None, 'best'), (200000, 1.0, 0.66475, 3.0, None, 'gini', 200, 'auto', None, 1, 1, 0, None, 'best'), (200000, 1.0, 0.6585, 3.0, None, 'gini', 300, 'auto', None, 1, 1, 0, None, 'best'), (200000, 1.0, 0.69785, 4.0, None, 'gini', 400, 'auto', None, 1, 1, 0, None, 'best'), (200000, 1.0, 0.657925, 3.0, None, 'gini', 500, 'auto', None, 1, 1, 0, None, 'best'), (200000, 1.0, 0.673575, 3.0, None, 'gini', 600, 'auto', None, 1, 1, 0, None, 'best'), (200000, 1.0, 0.664675, 3.0, None, 'gini', 700, 'auto', None, 1, 1, 0, None, 'best'), (200000, 1.0, 0.661625, 2.0, None, 'gini', 800, 'auto', None, 1, 1, 0, None, 'best'), (200000, 1.0, 0.673225, 2.0, None, 'gini', 900, 'auto', None, 1, 1, 0, None, 'best'), (200000, 1.0, 0.616375, 1.0, None, 'gini', 100, 'auto', None, 1, 1, 0, None, 'random'), (200000, 1.0, 0.62795, 1.0, None, 'gini', 200, 'auto', None, 1, 1, 0, None, 'random'), (200000, 1.0, 0.64755, 2.0, None, 'gini', 300, 'auto', None, 1, 1, 0, None, 'random'), (200000, 1.0, 0.638725, 2.0, None, 'gini', 400, 'auto', None, 1, 1, 0, None, 'random'), (200000, 1.0, 0.628425, 1.0, None, 'gini', 500, 'auto', None, 1, 1, 0, None, 'random'), (200000, 1.0, 0.611175, 1.0, None, 'gini', 600, 'auto', None, 1, 1, 0, None, 'random'), (200000, 1.0, 0.613975, 1.0, None, 'gini', 700, 'auto', None, 1, 1, 0, None, 'random'), (200000, 1.0, 0.619825, 1.0, None, 'gini', 800, 'auto', None, 1, 1, 0, None, 'random'), (200000, 1.0, 0.621975, 2.0, None, 'gini', 900, 'auto', None, 1, 1, 0, None, 'random'), (200000, 1.0, 0.681175, 5.0, None, 'entropy', 100, 'auto', None, 1, 1, 0, None, 'best'), (200000, 1.0, 0.69225, 5.0, None, 'entropy', 200, 'auto', None, 1, 1, 0, None, 'best'), (200000, 1.0, 0.6622, 4.0, None, 'entropy', 300, 'auto', None, 1, 1, 0, None, 'best'), (200000, 1.0, 0.693875, 5.0, None, 'entropy', 400, 'auto', None, 1, 1, 0, None, 'best'), (200000, 1.0, 0.725625, 4.0, None, 'entropy', 500, 'auto', None, 1, 1, 0, None, 'best'), (200000, 1.0, 0.688525, 5.0, None, 'entropy', 600, 'auto', None, 1, 1, 0, None, 'best'), (200000, 1.0, 0.675375, 4.0, None, 'entropy', 700, 'auto', None, 1, 1, 0, None, 'best'), (200000, 1.0, 0.68915, 4.0, None, 'entropy', 800, 'auto', None, 1, 1, 0, None, 'best'), (200000, 1.0, 0.67375, 5.0, None, 'entropy', 900, 'auto', None, 1, 1, 0, None, 'best'), (200000, 1.0, 0.616575, 2.0, None, 'entropy', 100, 'auto', None, 1, 1, 0, None, 'random'), (200000, 1.0, 0.62095, 1.0, None, 'entropy', 200, 'auto', None, 1, 1, 0, None, 'random'), (200000, 1.0, 0.621125, 2.0, None, 'entropy', 300, 'auto', None, 1, 1, 0, None, 'random'), (200000, 1.0, 0.635525, 2.0, None, 'entropy', 400, 'auto', None, 1, 1, 0, None, 'random'), (200000, 1.0, 0.642225, 1.0, None, 'entropy', 500, 'auto', None, 1, 1, 0, None, 'random'), (200000, 1.0, 0.6204, 1.0, None, 'entropy', 600, 'auto', None, 1, 1, 0, None, 'random'), (200000, 1.0, 0.6532, 1.0, None, 'entropy', 700, 'auto', None, 1, 1, 0, None, 'random'), (200000, 1.0, 0.644175, 1.0, None, 'entropy', 800, 'auto', None, 1, 1, 0, None, 'random'), (200000, 1.0, 0.637675, 1.0, None, 'entropy', 900, 'auto', None, 1, 1, 0, None, 'random'), (200000, 1.0, 0.652925, 2.0, None, 'gini', 100, 'sqrt', None, 1, 1, 0, None, 'best'), (200000, 1.0, 0.70065, 2.0, None, 'gini', 200, 'sqrt', None, 1, 1, 0, None, 'best'), (200000, 1.0, 0.6581, 3.0, None, 'gini', 300, 'sqrt', None, 1, 1, 0, None, 'best'), (200000, 1.0, 0.664475, 3.0, None, 'gini', 400, 'sqrt', None, 1, 1, 0, None, 'best'), (200000, 1.0, 0.666475, 3.0, None, 'gini', 500, 'sqrt', None, 1, 1, 0, None, 'best'), (200000, 1.0, 0.660825, 2.0, None, 'gini', 600, 'sqrt', None, 1, 1, 0, None, 'best'), (200000, 1.0, 0.680625, 2.0, None, 'gini', 700, 'sqrt', None, 1, 1, 0, None, 'best'), (200000, 1.0, 0.70285, 3.0, None, 'gini', 800, 'sqrt', None, 1, 1, 0, None, 'best'), (200000, 1.0, 0.6698, 3.0, None, 'gini', 900, 'sqrt', None, 1, 1, 0, None, 'best'), (200000, 1.0, 0.63045, 1.0, None, 'gini', 100, 'sqrt', None, 1, 1, 0, None, 'random'), (200000, 1.0, 0.61565, 1.0, None, 'gini', 200, 'sqrt', None, 1, 1, 0, None, 'random'), (200000, 1.0, 0.637725, 1.0, None, 'gini', 300, 'sqrt', None, 1, 1, 0, None, 'random'), (200000, 1.0, 0.61255, 1.0, None, 'gini', 400, 'sqrt', None, 1, 1, 0, None, 'random'), (200000, 1.0, 0.609975, 1.0, None, 'gini', 500, 'sqrt', None, 1, 1, 0, None, 'random'), (200000, 1.0, 0.65555, 1.0, None, 'gini', 600, 'sqrt', None, 1, 1, 0, None, 'random'), (200000, 1.0, 0.613125, 2.0, None, 'gini', 700, 'sqrt', None, 1, 1, 0, None, 'random'), (200000, 1.0, 0.600125, 2.0, None, 'gini', 800, 'sqrt', None, 1, 1, 0, None, 'random'), (200000, 1.0, 0.6225, 2.0, None, 'gini', 900, 'sqrt', None, 1, 1, 0, None, 'random'), (200000, 1.0, 0.666, 5.0, None, 'entropy', 100, 'sqrt', None, 1, 1, 0, None, 'best'), (200000, 1.0, 0.672075, 5.0, None, 'entropy', 200, 'sqrt', None, 1, 1, 0, None, 'best'), (200000, 1.0, 0.6827, 5.0, None, 'entropy', 300, 'sqrt', None, 1, 1, 0, None, 'best'), (200000, 1.0, 0.7105, 4.0, None, 'entropy', 400, 'sqrt', None, 1, 1, 0, None, 'best'), (200000, 1.0, 0.686275, 4.0, None, 'entropy', 500, 'sqrt', None, 1, 1, 0, None, 'best'), (200000, 1.0, 0.672725, 5.0, None, 'entropy', 600, 'sqrt', None, 1, 1, 0, None, 'best'), (200000, 1.0, 0.659125, 5.0, None, 'entropy', 700, 'sqrt', None, 1, 1, 0, None, 'best'), (200000, 1.0, 0.694625, 4.0, None, 'entropy', 800, 'sqrt', None, 1, 1, 0, None, 'best'), (200000, 1.0, 0.679525, 4.0, None, 'entropy', 900, 'sqrt', None, 1, 1, 0, None, 'best'), (200000, 1.0, 0.623875, 1.0, None, 'entropy', 100, 'sqrt', None, 1, 1, 0, None, 'random'), (200000, 1.0, 0.63165, 1.0, None, 'entropy', 200, 'sqrt', None, 1, 1, 0, None, 'random'), (200000, 1.0, 0.6197, 1.0, None, 'entropy', 300, 'sqrt', None, 1, 1, 0, None, 'random'), (200000, 1.0, 0.6115, 1.0, None, 'entropy', 400, 'sqrt', None, 1, 1, 0, None, 'random'), (200000, 1.0, 0.64435, 1.0, None, 'entropy', 500, 'sqrt', None, 1, 1, 0, None, 'random'), (200000, 1.0, 0.636875, 2.0, None, 'entropy', 600, 'sqrt', None, 1, 1, 0, None, 'random'), (200000, 1.0, 0.61815, 2.0, None, 'entropy', 700, 'sqrt', None, 1, 1, 0, None, 'random'), (200000, 1.0, 0.611275, 2.0, None, 'entropy', 800, 'sqrt', None, 1, 1, 0, None, 'random'), (200000, 1.0, 0.6155, 2.0, None, 'entropy', 900, 'sqrt', None, 1, 1, 0, None, 'random'), (200000, 1.0, 0.649725, 2.0, None, 'gini', 100, 'log2', None, 1, 1, 0, None, 'best'), (200000, 1.0, 0.659975, 1.0, None, 'gini', 200, 'log2', None, 1, 1, 0, None, 'best'), (200000, 1.0, 0.65215, 2.0, None, 'gini', 300, 'log2', None, 1, 1, 0, None, 'best'), (200000, 1.0, 0.640475, 2.0, None, 'gini', 400, 'log2', None, 1, 1, 0, None, 'best'), (200000, 1.0, 0.66895, 2.0, None, 'gini', 500, 'log2', None, 1, 1, 0, None, 'best'), (200000, 1.0, 0.674775, 2.0, None, 'gini', 600, 'log2', None, 1, 1, 0, None, 'best'), (200000, 1.0, 0.664525, 1.0, None, 'gini', 700, 'log2', None, 1, 1, 0, None, 'best'), (200000, 1.0, 0.645625, 2.0, None, 'gini', 800, 'log2', None, 1, 1, 0, None, 'best'), (200000, 1.0, 0.641525, 1.0, None, 'gini', 900, 'log2', None, 1, 1, 0, None, 'best'), (200000, 1.0, 0.597375, 1.0, None, 'gini', 100, 'log2', None, 1, 1, 0, None, 'random'), (200000, 1.0, 0.609025, 0.0, None, 'gini', 200, 'log2', None, 1, 1, 0, None, 'random'), (200000, 1.0, 0.614775, 1.0, None, 'gini', 300, 'log2', None, 1, 1, 0, None, 'random'), (200000, 1.0, 0.6105, 1.0, None, 'gini', 400, 'log2', None, 1, 1, 0, None, 'random'), (200000, 1.0, 0.607075, 2.0, None, 'gini', 500, 'log2', None, 1, 1, 0, None, 'random'), (200000, 1.0, 0.594175, 1.0, None, 'gini', 600, 'log2', None, 1, 1, 0, None, 'random'), (200000, 1.0, 0.599175, 1.0, None, 'gini', 700, 'log2', None, 1, 1, 0, None, 'random'), (200000, 1.0, 0.62705, 1.0, None, 'gini', 800, 'log2', None, 1, 1, 0, None, 'random'), (200000, 1.0, 0.61055, 0.0, None, 'gini', 900, 'log2', None, 1, 1, 0, None, 'random'), (200000, 1.0, 0.64315, 4.0, None, 'entropy', 100, 'log2', None, 1, 1, 0, None, 'best'), (200000, 1.0, 0.6412, 3.0, None, 'entropy', 200, 'log2', None, 1, 1, 0, None, 'best'), (200000, 1.0, 0.6281, 4.0, None, 'entropy', 300, 'log2', None, 1, 1, 0, None, 'best'), (200000, 1.0, 0.641, 3.0, None, 'entropy', 400, 'log2', None, 1, 1, 0, None, 'best'), (200000, 1.0, 0.658625, 3.0, None, 'entropy', 500, 'log2', None, 1, 1, 0, None, 'best'), (200000, 1.0, 0.6551, 4.0, None, 'entropy', 600, 'log2', None, 1, 1, 0, None, 'best'), (200000, 1.0, 0.66235, 4.0, None, 'entropy', 700, 'log2', None, 1, 1, 0, None, 'best'), (200000, 1.0, 0.645175, 3.0, None, 'entropy', 800, 'log2', None, 1, 1, 0, None, 'best'), (200000, 1.0, 0.63965, 3.0, None, 'entropy', 900, 'log2', None, 1, 1, 0, None, 'best'), (200000, 1.0, 0.616, 1.0, None, 'entropy', 100, 'log2', None, 1, 1, 0, None, 'random'), (200000, 1.0, 0.6018, 1.0, None, 'entropy', 200, 'log2', None, 1, 1, 0, None, 'random'), (200000, 1.0, 0.6074, 1.0, None, 'entropy', 300, 'log2', None, 1, 1, 0, None, 'random'), (200000, 1.0, 0.631625, 1.0, None, 'entropy', 400, 'log2', None, 1, 1, 0, None, 'random'), (200000, 1.0, 0.59495, 1.0, None, 'entropy', 500, 'log2', None, 1, 1, 0, None, 'random'), (200000, 1.0, 0.606525, 1.0, None, 'entropy', 600, 'log2', None, 1, 1, 0, None, 'random'), (200000, 1.0, 0.59535, 1.0, None, 'entropy', 700, 'log2', None, 1, 1, 0, None, 'random'), (200000, 1.0, 0.592925, 1.0, None, 'entropy', 800, 'log2', None, 1, 1, 0, None, 'random'), (200000, 1.0, 0.6324, 1.0, None, 'entropy', 900, 'log2', None, 1, 1, 0, None, 'random'), (200000, 1.0, 0.752675, 17.0, None, 'gini', 100, None, None, 1, 1, 0, None, 'best'), (200000, 1.0, 0.753225, 17.0, None, 'gini', 200, None, None, 1, 1, 0, None, 'best'), (200000, 1.0, 0.755025, 17.0, None, 'gini', 300, None, None, 1, 1, 0, None, 'best'), (200000, 1.0, 0.75285, 17.0, None, 'gini', 400, None, None, 1, 1, 0, None, 'best'), (200000, 1.0, 0.7547, 17.0, None, 'gini', 500, None, None, 1, 1, 0, None, 'best'), (200000, 1.0, 0.752975, 17.0, None, 'gini', 600, None, None, 1, 1, 0, None, 'best'), (200000, 1.0, 0.7534, 16.0, None, 'gini', 700, None, None, 1, 1, 0, None, 'best'), (200000, 1.0, 0.7532, 16.0, None, 'gini', 800, None, None, 1, 1, 0, None, 'best'), (200000, 1.0, 0.75135, 16.0, None, 'gini', 900, None, None, 1, 1, 0, None, 'best'), (200000, 1.0, 0.7416, 6.0, None, 'gini', 100, None, None, 1, 1, 0, None, 'random'), (200000, 1.0, 0.73835, 6.0, None, 'gini', 200, None, None, 1, 1, 0, None, 'random'), (200000, 1.0, 0.73325, 5.0, None, 'gini', 300, None, None, 1, 1, 0, None, 'random'), (200000, 1.0, 0.7359, 5.0, None, 'gini', 400, None, None, 1, 1, 0, None, 'random'), (200000, 1.0, 0.7354, 5.0, None, 'gini', 500, None, None, 1, 1, 0, None, 'random'), (200000, 1.0, 0.732925, 5.0, None, 'gini', 600, None, None, 1, 1, 0, None, 'random'), (200000, 1.0, 0.7349, 5.0, None, 'gini', 700, None, None, 1, 1, 0, None, 'random'), (200000, 1.0, 0.73765, 5.0, None, 'gini', 800, None, None, 1, 1, 0, None, 'random'), (200000, 1.0, 0.73505, 6.0, None, 'gini', 900, None, None, 1, 1, 0, None, 'random'), (200000, 1.0, 0.7614, 28.0, None, 'entropy', 100, None, None, 1, 1, 0, None, 'best'), (200000, 1.0, 0.75905, 27.0, None, 'entropy', 200, None, None, 1, 1, 0, None, 'best'), (200000, 1.0, 0.76055, 28.0, None, 'entropy', 300, None, None, 1, 1, 0, None, 'best'), (200000, 1.0, 0.7593, 28.0, None, 'entropy', 400, None, None, 1, 1, 0, None, 'best'), (200000, 1.0, 0.759425, 27.0, None, 'entropy', 500, None, None, 1, 1, 0, None, 'best'), (200000, 1.0, 0.75985, 28.0, None, 'entropy', 600, None, None, 1, 1, 0, None, 'best'), (200000, 1.0, 0.76135, 28.0, None, 'entropy', 700, None, None, 1, 1, 0, None, 'best'), (200000, 1.0, 0.76165, 27.0, None, 'entropy', 800, None, None, 1, 1, 0, None, 'best'), (200000, 1.0, 0.760725, 27.0, None, 'entropy', 900, None, None, 1, 1, 0, None, 'best'), (200000, 1.0, 0.746575, 6.0, None, 'entropy', 100, None, None, 1, 1, 0, None, 'random'), (200000, 1.0, 0.73825, 5.0, None, 'entropy', 200, None, None, 1, 1, 0, None, 'random'), (200000, 1.0, 0.74675, 5.0, None, 'entropy', 300, None, None, 1, 1, 0, None, 'random'), (200000, 1.0, 0.740275, 5.0, None, 'entropy', 400, None, None, 1, 1, 0, None, 'random'), (200000, 1.0, 0.7396, 5.0, None, 'entropy', 500, None, None, 1, 1, 0, None, 'random'), (200000, 1.0, 0.741425, 5.0, None, 'entropy', 600, None, None, 1, 1, 0, None, 'random'), (200000, 1.0, 0.737525, 6.0, None, 'entropy', 700, None, None, 1, 1, 0, None, 'random'), (200000, 1.0, 0.7452, 6.0, None, 'entropy', 800, None, None, 1, 1, 0, None, 'random'), (200000, 1.0, 0.7421, 5.0, None, 'entropy', 900, None, None, 1, 1, 0, None, 'random'), (300000, 1.0, 0.68885, 4.0, None, 'gini', 100, 'auto', None, 1, 1, 0, None, 'best'), (300000, 1.0, 0.6653833333333333, 3.0, None, 'gini', 200, 'auto', None, 1, 1, 0, None, 'best'), (300000, 1.0, 0.66425, 4.0, None, 'gini', 300, 'auto', None, 1, 1, 0, None, 'best'), (300000, 1.0, 0.6799833333333334, 4.0, None, 'gini', 400, 'auto', None, 1, 1, 0, None, 'best'), (300000, 1.0, 0.6673166666666667, 3.0, None, 'gini', 500, 'auto', None, 1, 1, 0, None, 'best'), (300000, 1.0, 0.67905, 4.0, None, 'gini', 600, 'auto', None, 1, 1, 0, None, 'best'), (300000, 1.0, 0.67505, 4.0, None, 'gini', 700, 'auto', None, 1, 1, 0, None, 'best'), (300000, 1.0, 0.6990833333333333, 4.0, None, 'gini', 800, 'auto', None, 1, 1, 0, None, 'best'), (300000, 1.0, 0.6870666666666667, 3.0, None, 'gini', 900, 'auto', None, 1, 1, 0, None, 'best'), (300000, 1.0, 0.62955, 2.0, None, 'gini', 100, 'auto', None, 1, 1, 0, None, 'random'), (300000, 1.0, 0.63665, 2.0, None, 'gini', 200, 'auto', None, 1, 1, 0, None, 'random'), (300000, 1.0, 0.6189166666666667, 2.0, None, 'gini', 300, 'auto', None, 1, 1, 0, None, 'random'), (300000, 1.0, 0.6471833333333333, 2.0, None, 'gini', 400, 'auto', None, 1, 1, 0, None, 'random'), (300000, 1.0, 0.61975, 2.0, None, 'gini', 500, 'auto', None, 1, 1, 0, None, 'random'), (300000, 1.0, 0.6189166666666667, 2.0, None, 'gini', 600, 'auto', None, 1, 1, 0, None, 'random'), (300000, 1.0, 0.64405, 2.0, None, 'gini', 700, 'auto', None, 1, 1, 0, None, 'random'), (300000, 1.0, 0.6421166666666667, 2.0, None, 'gini', 800, 'auto', None, 1, 1, 0, None, 'random'), (300000, 1.0, 0.6097333333333333, 1.0, None, 'gini', 900, 'auto', None, 1, 1, 0, None, 'random'), (300000, 1.0, 0.6694333333333333, 8.0, None, 'entropy', 100, 'auto', None, 1, 1, 0, None, 'best'), (300000, 1.0, 0.7090333333333333, 6.0, None, 'entropy', 200, 'auto', None, 1, 1, 0, None, 'best'), (300000, 1.0, 0.7081333333333333, 7.0, None, 'entropy', 300, 'auto', None, 1, 1, 0, None, 'best'), (300000, 1.0, 0.6860333333333334, 7.0, None, 'entropy', 400, 'auto', None, 1, 1, 0, None, 'best'), (300000, 1.0, 0.6618166666666667, 7.0, None, 'entropy', 500, 'auto', None, 1, 1, 0, None, 'best'), (300000, 1.0, 0.6751833333333334, 7.0, None, 'entropy', 600, 'auto', None, 1, 1, 0, None, 'best'), (300000, 1.0, 0.6784, 8.0, None, 'entropy', 700, 'auto', None, 1, 1, 0, None, 'best'), (300000, 1.0, 0.6688666666666667, 7.0, None, 'entropy', 800, 'auto', None, 1, 1, 0, None, 'best'), (300000, 1.0, 0.6664666666666667, 7.0, None, 'entropy', 900, 'auto', None, 1, 1, 0, None, 'best'), (300000, 1.0, 0.6429333333333334, 2.0, None, 'entropy', 100, 'auto', None, 1, 1, 0, None, 'random'), (300000, 1.0, 0.61005, 2.0, None, 'entropy', 200, 'auto', None, 1, 1, 0, None, 'random'), (300000, 1.0, 0.6146666666666667, 2.0, None, 'entropy', 300, 'auto', None, 1, 1, 0, None, 'random'), (300000, 1.0, 0.63875, 2.0, None, 'entropy', 400, 'auto', None, 1, 1, 0, None, 'random'), (300000, 1.0, 0.6368833333333334, 2.0, None, 'entropy', 500, 'auto', None, 1, 1, 0, None, 'random'), (300000, 1.0, 0.6282666666666666, 2.0, None, 'entropy', 600, 'auto', None, 1, 1, 0, None, 'random'), (300000, 1.0, 0.6255, 2.0, None, 'entropy', 700, 'auto', None, 1, 1, 0, None, 'random'), (300000, 1.0, 0.64315, 2.0, None, 'entropy', 800, 'auto', None, 1, 1, 0, None, 'random'), (300000, 1.0, 0.6383833333333333, 2.0, None, 'entropy', 900, 'auto', None, 1, 1, 0, None, 'random'), (300000, 1.0, 0.6790666666666667, 4.0, None, 'gini', 100, 'sqrt', None, 1, 1, 0, None, 'best'), (300000, 1.0, 0.6844166666666667, 3.0, None, 'gini', 200, 'sqrt', None, 1, 1, 0, None, 'best'), (300000, 1.0, 0.69505, 3.0, None, 'gini', 300, 'sqrt', None, 1, 1, 0, None, 'best'), (300000, 1.0, 0.6672, 4.0, None, 'gini', 400, 'sqrt', None, 1, 1, 0, None, 'best'), (300000, 1.0, 0.6683, 3.0, None, 'gini', 500, 'sqrt', None, 1, 1, 0, None, 'best'), (300000, 1.0, 0.6787666666666666, 4.0, None, 'gini', 600, 'sqrt', None, 1, 1, 0, None, 'best'), (300000, 1.0, 0.6883, 3.0, None, 'gini', 700, 'sqrt', None, 1, 1, 0, None, 'best'), (300000, 1.0, 0.69835, 4.0, None, 'gini', 800, 'sqrt', None, 1, 1, 0, None, 'best'), (300000, 1.0, 0.6769166666666667, 4.0, None, 'gini', 900, 'sqrt', None, 1, 1, 0, None, 'best'), (300000, 1.0, 0.6407833333333334, 1.0, None, 'gini', 100, 'sqrt', None, 1, 1, 0, None, 'random'), (300000, 1.0, 0.6294666666666666, 1.0, None, 'gini', 200, 'sqrt', None, 1, 1, 0, None, 'random'), (300000, 1.0, 0.6257166666666667, 1.0, None, 'gini', 300, 'sqrt', None, 1, 1, 0, None, 'random'), (300000, 1.0, 0.6285166666666666, 2.0, None, 'gini', 400, 'sqrt', None, 1, 1, 0, None, 'random'), (300000, 1.0, 0.6379333333333334, 2.0, None, 'gini', 500, 'sqrt', None, 1, 1, 0, None, 'random'), (300000, 1.0, 0.6349, 2.0, None, 'gini', 600, 'sqrt', None, 1, 1, 0, None, 'random'), (300000, 1.0, 0.6415, 2.0, None, 'gini', 700, 'sqrt', None, 1, 1, 0, None, 'random'), (300000, 1.0, 0.6231166666666667, 1.0, None, 'gini', 800, 'sqrt', None, 1, 1, 0, None, 'random'), (300000, 1.0, 0.6308, 2.0, None, 'gini', 900, 'sqrt', None, 1, 1, 0, None, 'random'), (300000, 1.0, 0.6995166666666667, 7.0, None, 'entropy', 100, 'sqrt', None, 1, 1, 0, None, 'best'), (300000, 1.0, 0.6862833333333334, 8.0, None, 'entropy', 200, 'sqrt', None, 1, 1, 0, None, 'best'), (300000, 1.0, 0.6655333333333333, 8.0, None, 'entropy', 300, 'sqrt', None, 1, 1, 0, None, 'best'), (300000, 1.0, 0.67565, 7.0, None, 'entropy', 400, 'sqrt', None, 1, 1, 0, None, 'best'), (300000, 1.0, 0.7079333333333333, 7.0, None, 'entropy', 500, 'sqrt', None, 1, 1, 0, None, 'best'), (300000, 1.0, 0.6806666666666666, 7.0, None, 'entropy', 600, 'sqrt', None, 1, 1, 0, None, 'best'), (300000, 1.0, 0.6762666666666667, 8.0, None, 'entropy', 700, 'sqrt', None, 1, 1, 0, None, 'best'), (300000, 1.0, 0.6959333333333333, 8.0, None, 'entropy', 800, 'sqrt', None, 1, 1, 0, None, 'best'), (300000, 1.0, 0.7073833333333334, 7.0, None, 'entropy', 900, 'sqrt', None, 1, 1, 0, None, 'best'), (300000, 1.0, 0.6252166666666666, 2.0, None, 'entropy', 100, 'sqrt', None, 1, 1, 0, None, 'random'), (300000, 1.0, 0.6279833333333333, 2.0, None, 'entropy', 200, 'sqrt', None, 1, 1, 0, None, 'random'), (300000, 1.0, 0.6387166666666667, 2.0, None, 'entropy', 300, 'sqrt', None, 1, 1, 0, None, 'random'), (300000, 1.0, 0.6477333333333334, 2.0, None, 'entropy', 400, 'sqrt', None, 1, 1, 0, None, 'random'), (300000, 1.0, 0.6170333333333333, 2.0, None, 'entropy', 500, 'sqrt', None, 1, 1, 0, None, 'random'), (300000, 1.0, 0.6532666666666667, 2.0, None, 'entropy', 600, 'sqrt', None, 1, 1, 0, None, 'random'), (300000, 1.0, 0.62735, 2.0, None, 'entropy', 700, 'sqrt', None, 1, 1, 0, None, 'random'), (300000, 1.0, 0.6257833333333334, 2.0, None, 'entropy', 800, 'sqrt', None, 1, 1, 0, None, 'random'), (300000, 1.0, 0.6604333333333333, 3.0, None, 'entropy', 900, 'sqrt', None, 1, 1, 0, None, 'random'), (300000, 1.0, 0.6713833333333333, 3.0, None, 'gini', 100, 'log2', None, 1, 1, 0, None, 'best'), (300000, 1.0, 0.6443, 3.0, None, 'gini', 200, 'log2', None, 1, 1, 0, None, 'best'), (300000, 1.0, 0.6585833333333333, 3.0, None, 'gini', 300, 'log2', None, 1, 1, 0, None, 'best'), (300000, 1.0, 0.6349666666666667, 3.0, None, 'gini', 400, 'log2', None, 1, 1, 0, None, 'best'), (300000, 1.0, 0.6556166666666666, 3.0, None, 'gini', 500, 'log2', None, 1, 1, 0, None, 'best'), (300000, 1.0, 0.6672166666666667, 3.0, None, 'gini', 600, 'log2', None, 1, 1, 0, None, 'best'), (300000, 1.0, 0.6557833333333334, 3.0, None, 'gini', 700, 'log2', None, 1, 1, 0, None, 'best'), (300000, 1.0, 0.6293833333333333, 3.0, None, 'gini', 800, 'log2', None, 1, 1, 0, None, 'best'), (300000, 1.0, 0.6622666666666667, 2.0, None, 'gini', 900, 'log2', None, 1, 1, 0, None, 'best'), (300000, 1.0, 0.5992666666666666, 1.0, None, 'gini', 100, 'log2', None, 1, 1, 0, None, 'random'), (300000, 1.0, 0.6025166666666667, 1.0, None, 'gini', 200, 'log2', None, 1, 1, 0, None, 'random'), (300000, 1.0, 0.6330666666666667, 2.0, None, 'gini', 300, 'log2', None, 1, 1, 0, None, 'random'), (300000, 1.0, 0.6287833333333334, 2.0, None, 'gini', 400, 'log2', None, 1, 1, 0, None, 'random'), (300000, 1.0, 0.62395, 1.0, None, 'gini', 500, 'log2', None, 1, 1, 0, None, 'random'), (300000, 1.0, 0.6135333333333334, 2.0, None, 'gini', 600, 'log2', None, 1, 1, 0, None, 'random'), (300000, 1.0, 0.6093833333333334, 1.0, None, 'gini', 700, 'log2', None, 1, 1, 0, None, 'random'), (300000, 1.0, 0.5996666666666667, 1.0, None, 'gini', 800, 'log2', None, 1, 1, 0, None, 'random'), (300000, 1.0, 0.6185, 2.0, None, 'gini', 900, 'log2', None, 1, 1, 0, None, 'random'), (300000, 1.0, 0.6534166666666666, 5.0, None, 'entropy', 100, 'log2', None, 1, 1, 0, None, 'best'), (300000, 1.0, 0.64555, 6.0, None, 'entropy', 200, 'log2', None, 1, 1, 0, None, 'best'), (300000, 1.0, 0.6435666666666666, 6.0, None, 'entropy', 300, 'log2', None, 1, 1, 0, None, 'best'), (300000, 1.0, 0.6470833333333333, 6.0, None, 'entropy', 400, 'log2', None, 1, 1, 0, None, 'best'), (300000, 1.0, 0.65535, 6.0, None, 'entropy', 500, 'log2', None, 1, 1, 0, None, 'best'), (300000, 1.0, 0.6423833333333333, 6.0, None, 'entropy', 600, 'log2', None, 1, 1, 0, None, 'best'), (300000, 1.0, 0.6875333333333333, 5.0, None, 'entropy', 700, 'log2', None, 1, 1, 0, None, 'best'), (300000, 1.0, 0.6886, 5.0, None, 'entropy', 800, 'log2', None, 1, 1, 0, None, 'best'), (300000, 1.0, 0.67535, 6.0, None, 'entropy', 900, 'log2', None, 1, 1, 0, None, 'best'), (300000, 1.0, 0.6265833333333334, 1.0, None, 'entropy', 100, 'log2', None, 1, 1, 0, None, 'random'), (300000, 1.0, 0.6343166666666666, 2.0, None, 'entropy', 200, 'log2', None, 1, 1, 0, None, 'random'), (300000, 1.0, 0.6172833333333333, 2.0, None, 'entropy', 300, 'log2', None, 1, 1, 0, None, 'random'), (300000, 1.0, 0.6026, 2.0, None, 'entropy', 400, 'log2', None, 1, 1, 0, None, 'random'), (300000, 1.0, 0.6162, 1.0, None, 'entropy', 500, 'log2', None, 1, 1, 0, None, 'random'), (300000, 1.0, 0.61015, 1.0, None, 'entropy', 600, 'log2', None, 1, 1, 0, None, 'random'), (300000, 1.0, 0.60875, 1.0, None, 'entropy', 700, 'log2', None, 1, 1, 0, None, 'random'), (300000, 1.0, 0.6077333333333333, 2.0, None, 'entropy', 800, 'log2', None, 1, 1, 0, None, 'random'), (300000, 1.0, 0.6124, 2.0, None, 'entropy', 900, 'log2', None, 1, 1, 0, None, 'random'), (300000, 1.0, 0.7604, 29.0, None, 'gini', 100, None, None, 1, 1, 0, None, 'best'), (300000, 1.0, 0.7603166666666666, 35.0, None, 'gini', 200, None, None, 1, 1, 0, None, 'best'), (300000, 1.0, 0.76205, 52.0, None, 'gini', 300, None, None, 1, 1, 0, None, 'best'), (300000, 1.0, 0.7589333333333333, 56.0, None, 'gini', 400, None, None, 1, 1, 0, None, 'best'), (300000, 1.0, 0.7606, 37.0, None, 'gini', 500, None, None, 1, 1, 0, None, 'best'), (300000, 1.0, 0.7599333333333333, 27.0, None, 'gini', 600, None, None, 1, 1, 0, None, 'best'), (300000, 1.0, 0.7601666666666667, 41.0, None, 'gini', 700, None, None, 1, 1, 0, None, 'best'), (300000, 1.0, 0.7608666666666667, 38.0, None, 'gini', 800, None, None, 1, 1, 0, None, 'best'), (300000, 1.0, 0.7597166666666667, 37.0, None, 'gini', 900, None, None, 1, 1, 0, None, 'best'), (300000, 1.0, 0.74455, 10.0, None, 'gini', 100, None, None, 1, 1, 0, None, 'random'), (300000, 1.0, 0.7392, 10.0, None, 'gini', 200, None, None, 1, 1, 0, None, 'random'), (300000, 1.0, 0.73185, 9.0, None, 'gini', 300, None, None, 1, 1, 0, None, 'random'), (300000, 1.0, 0.7458666666666667, 10.0, None, 'gini', 400, None, None, 1, 1, 0, None, 'random'), (300000, 1.0, 0.7428, 11.0, None, 'gini', 500, None, None, 1, 1, 0, None, 'random'), (300000, 1.0, 0.7492833333333333, 10.0, None, 'gini', 600, None, None, 1, 1, 0, None, 'random'), (300000, 1.0, 0.7467166666666667, 11.0, None, 'gini', 700, None, None, 1, 1, 0, None, 'random'), (300000, 1.0, 0.7440833333333333, 10.0, None, 'gini', 800, None, None, 1, 1, 0, None, 'random'), (300000, 1.0, 0.7382, 9.0, None, 'gini', 900, None, None, 1, 1, 0, None, 'random'), (300000, 1.0, 0.7651833333333333, 45.0, None, 'entropy', 100, None, None, 1, 1, 0, None, 'best'), (300000, 1.0, 0.7653666666666666, 45.0, None, 'entropy', 200, None, None, 1, 1, 0, None, 'best'), (300000, 1.0, 0.76565, 46.0, None, 'entropy', 300, None, None, 1, 1, 0, None, 'best'), (300000, 1.0, 0.7664166666666666, 45.0, None, 'entropy', 400, None, None, 1, 1, 0, None, 'best'), (300000, 1.0, 0.7655166666666666, 45.0, None, 'entropy', 500, None, None, 1, 1, 0, None, 'best'), (300000, 1.0, 0.7639666666666667, 46.0, None, 'entropy', 600, None, None, 1, 1, 0, None, 'best'), (300000, 1.0, 0.7653, 46.0, None, 'entropy', 700, None, None, 1, 1, 0, None, 'best'), (300000, 1.0, 0.7651166666666667, 47.0, None, 'entropy', 800, None, None, 1, 1, 0, None, 'best'), (300000, 1.0, 0.7650666666666667, 47.0, None, 'entropy', 900, None, None, 1, 1, 0, None, 'best'), (300000, 1.0, 0.7507666666666667, 12.0, None, 'entropy', 100, None, None, 1, 1, 0, None, 'random'), (300000, 1.0, 0.7449166666666667, 9.0, None, 'entropy', 200, None, None, 1, 1, 0, None, 'random'), (300000, 1.0, 0.7511833333333333, 10.0, None, 'entropy', 300, None, None, 1, 1, 0, None, 'random'), (300000, 1.0, 0.7538333333333334, 11.0, None, 'entropy', 400, None, None, 1, 1, 0, None, 'random'), (300000, 1.0, 0.7473666666666666, 8.0, None, 'entropy', 500, None, None, 1, 1, 0, None, 'random'), (300000, 1.0, 0.7414, 8.0, None, 'entropy', 600, None, None, 1, 1, 0, None, 'random'), (300000, 1.0, 0.7493666666666666, 10.0, None, 'entropy', 700, None, None, 1, 1, 0, None, 'random'), (300000, 1.0, 0.7510166666666667, 10.0, None, 'entropy', 800, None, None, 1, 1, 0, None, 'random'), (300000, 1.0, 0.75065, 11.0, None, 'entropy', 900, None, None, 1, 1, 0, None, 'random'), (400000, 1.0, 0.6997375, 5.0, None, 'gini', 100, 'auto', None, 1, 1, 0, None, 'best'), (400000, 1.0, 0.6731375, 5.0, None, 'gini', 200, 'auto', None, 1, 1, 0, None, 'best'), (400000, 1.0, 0.6830125, 5.0, None, 'gini', 300, 'auto', None, 1, 1, 0, None, 'best'), (400000, 1.0, 0.667375, 6.0, None, 'gini', 400, 'auto', None, 1, 1, 0, None, 'best'), (400000, 1.0, 0.711675, 5.0, None, 'gini', 500, 'auto', None, 1, 1, 0, None, 'best'), (400000, 1.0, 0.6910375, 5.0, None, 'gini', 600, 'auto', None, 1, 1, 0, None, 'best'), (400000, 1.0, 0.6756, 5.0, None, 'gini', 700, 'auto', None, 1, 1, 0, None, 'best'), (400000, 1.0, 0.684275, 5.0, None, 'gini', 800, 'auto', None, 1, 1, 0, None, 'best'), (400000, 1.0, 0.6727, 5.0, None, 'gini', 900, 'auto', None, 1, 1, 0, None, 'best'), (400000, 1.0, 0.6243, 3.0, None, 'gini', 100, 'auto', None, 1, 1, 0, None, 'random'), (400000, 1.0, 0.6331, 3.0, None, 'gini', 200, 'auto', None, 1, 1, 0, None, 'random'), (400000, 1.0, 0.6263125, 2.0, None, 'gini', 300, 'auto', None, 1, 1, 0, None, 'random'), (400000, 1.0, 0.6437625, 2.0, None, 'gini', 400, 'auto', None, 1, 1, 0, None, 'random'), (400000, 1.0, 0.6166875, 3.0, None, 'gini', 500, 'auto', None, 1, 1, 0, None, 'random'), (400000, 1.0, 0.6277625, 3.0, None, 'gini', 600, 'auto', None, 1, 1, 0, None, 'random'), (400000, 1.0, 0.6398125, 2.0, None, 'gini', 700, 'auto', None, 1, 1, 0, None, 'random'), (400000, 1.0, 0.6409375, 3.0, None, 'gini', 800, 'auto', None, 1, 1, 0, None, 'random'), (400000, 1.0, 0.634925, 3.0, None, 'gini', 900, 'auto', None, 1, 1, 0, None, 'random'), (400000, 1.0, 0.683425, 11.0, None, 'entropy', 100, 'auto', None, 1, 1, 0, None, 'best'), (400000, 1.0, 0.7044875, 11.0, None, 'entropy', 200, 'auto', None, 1, 1, 0, None, 'best'), (400000, 1.0, 0.696025, 10.0, None, 'entropy', 300, 'auto', None, 1, 1, 0, None, 'best'), (400000, 1.0, 0.7037875, 11.0, None, 'entropy', 400, 'auto', None, 1, 1, 0, None, 'best'), (400000, 1.0, 0.675775, 11.0, None, 'entropy', 500, 'auto', None, 1, 1, 0, None, 'best'), (400000, 1.0, 0.7123875, 10.0, None, 'entropy', 600, 'auto', None, 1, 1, 0, None, 'best'), (400000, 1.0, 0.684825, 9.0, None, 'entropy', 700, 'auto', None, 1, 1, 0, None, 'best'), (400000, 1.0, 0.69475, 9.0, None, 'entropy', 800, 'auto', None, 1, 1, 0, None, 'best'), (400000, 1.0, 0.6868375, 10.0, None, 'entropy', 900, 'auto', None, 1, 1, 0, None, 'best'), (400000, 1.0, 0.647025, 3.0, None, 'entropy', 100, 'auto', None, 1, 1, 0, None, 'random'), (400000, 1.0, 0.6253375, 3.0, None, 'entropy', 200, 'auto', None, 1, 1, 0, None, 'random'), (400000, 1.0, 0.650275, 3.0, None, 'entropy', 300, 'auto', None, 1, 1, 0, None, 'random'), (400000, 1.0, 0.662225, 3.0, None, 'entropy', 400, 'auto', None, 1, 1, 0, None, 'random'), (400000, 1.0, 0.640175, 3.0, None, 'entropy', 500, 'auto', None, 1, 1, 0, None, 'random'), (400000, 1.0, 0.6525375, 3.0, None, 'entropy', 600, 'auto', None, 1, 1, 0, None, 'random'), (400000, 1.0, 0.628625, 3.0, None, 'entropy', 700, 'auto', None, 1, 1, 0, None, 'random'), (400000, 1.0, 0.62175, 3.0, None, 'entropy', 800, 'auto', None, 1, 1, 0, None, 'random'), (400000, 1.0, 0.6422875, 3.0, None, 'entropy', 900, 'auto', None, 1, 1, 0, None, 'random'), (400000, 1.0, 0.691275, 5.0, None, 'gini', 100, 'sqrt', None, 1, 1, 0, None, 'best'), (400000, 1.0, 0.6839625, 5.0, None, 'gini', 200, 'sqrt', None, 1, 1, 0, None, 'best'), (400000, 1.0, 0.6840125, 5.0, None, 'gini', 300, 'sqrt', None, 1, 1, 0, None, 'best'), (400000, 1.0, 0.6821875, 6.0, None, 'gini', 400, 'sqrt', None, 1, 1, 0, None, 'best'), (400000, 1.0, 0.67365, 6.0, None, 'gini', 500, 'sqrt', None, 1, 1, 0, None, 'best'), (400000, 1.0, 0.6723875, 6.0, None, 'gini', 600, 'sqrt', None, 1, 1, 0, None, 'best'), (400000, 1.0, 0.684675, 6.0, None, 'gini', 700, 'sqrt', None, 1, 1, 0, None, 'best'), (400000, 1.0, 0.6706375, 6.0, None, 'gini', 800, 'sqrt', None, 1, 1, 0, None, 'best'), (400000, 1.0, 0.7030625, 6.0, None, 'gini', 900, 'sqrt', None, 1, 1, 0, None, 'best'), (400000, 1.0, 0.6079, 3.0, None, 'gini', 100, 'sqrt', None, 1, 1, 0, None, 'random'), (400000, 1.0, 0.621375, 3.0, None, 'gini', 200, 'sqrt', None, 1, 1, 0, None, 'random'), (400000, 1.0, 0.6279625, 3.0, None, 'gini', 300, 'sqrt', None, 1, 1, 0, None, 'random'), (400000, 1.0, 0.644025, 3.0, None, 'gini', 400, 'sqrt', None, 1, 1, 0, None, 'random'), (400000, 1.0, 0.6420875, 3.0, None, 'gini', 500, 'sqrt', None, 1, 1, 0, None, 'random'), (400000, 1.0, 0.642175, 3.0, None, 'gini', 600, 'sqrt', None, 1, 1, 0, None, 'random'), (400000, 1.0, 0.6247875, 3.0, None, 'gini', 700, 'sqrt', None, 1, 1, 0, None, 'random'), (400000, 1.0, 0.6245375, 3.0, None, 'gini', 800, 'sqrt', None, 1, 1, 0, None, 'random'), (400000, 1.0, 0.6306, 2.0, None, 'gini', 900, 'sqrt', None, 1, 1, 0, None, 'random'), (400000, 1.0, 0.68985, 10.0, None, 'entropy', 100, 'sqrt', None, 1, 1, 0, None, 'best'), (400000, 1.0, 0.676075, 12.0, None, 'entropy', 200, 'sqrt', None, 1, 1, 0, None, 'best'), (400000, 1.0, 0.673825, 11.0, None, 'entropy', 300, 'sqrt', None, 1, 1, 0, None, 'best'), (400000, 1.0, 0.7014625, 10.0, None, 'entropy', 400, 'sqrt', None, 1, 1, 0, None, 'best'), (400000, 1.0, 0.6949375, 11.0, None, 'entropy', 500, 'sqrt', None, 1, 1, 0, None, 'best'), (400000, 1.0, 0.6941, 9.0, None, 'entropy', 600, 'sqrt', None, 1, 1, 0, None, 'best'), (400000, 1.0, 0.720875, 10.0, None, 'entropy', 700, 'sqrt', None, 1, 1, 0, None, 'best'), (400000, 1.0, 0.706675, 11.0, None, 'entropy', 800, 'sqrt', None, 1, 1, 0, None, 'best'), (400000, 1.0, 0.707175, 10.0, None, 'entropy', 900, 'sqrt', None, 1, 1, 0, None, 'best'), (400000, 1.0, 0.619575, 3.0, None, 'entropy', 100, 'sqrt', None, 1, 1, 0, None, 'random'), (400000, 1.0, 0.65455, 3.0, None, 'entropy', 200, 'sqrt', None, 1, 1, 0, None, 'random'), (400000, 1.0, 0.669925, 2.0, None, 'entropy', 300, 'sqrt', None, 1, 1, 0, None, 'random'), (400000, 1.0, 0.6589, 3.0, None, 'entropy', 400, 'sqrt', None, 1, 1, 0, None, 'random'), (400000, 1.0, 0.6203125, 2.0, None, 'entropy', 500, 'sqrt', None, 1, 1, 0, None, 'random'), (400000, 1.0, 0.6227625, 4.0, None, 'entropy', 600, 'sqrt', None, 1, 1, 0, None, 'random'), (400000, 1.0, 0.645275, 3.0, None, 'entropy', 700, 'sqrt', None, 1, 1, 0, None, 'random'), (400000, 1.0, 0.6363375, 3.0, None, 'entropy', 800, 'sqrt', None, 1, 1, 0, None, 'random'), (400000, 1.0, 0.6143625, 2.0, None, 'entropy', 900, 'sqrt', None, 1, 1, 0, None, 'random'), (400000, 1.0, 0.6604, 4.0, None, 'gini', 100, 'log2', None, 1, 1, 0, None, 'best'), (400000, 1.0, 0.642225, 5.0, None, 'gini', 200, 'log2', None, 1, 1, 0, None, 'best'), (400000, 1.0, 0.6573625, 5.0, None, 'gini', 300, 'log2', None, 1, 1, 0, None, 'best'), (400000, 1.0, 0.649225, 4.0, None, 'gini', 400, 'log2', None, 1, 1, 0, None, 'best'), (400000, 1.0, 0.641475, 5.0, None, 'gini', 500, 'log2', None, 1, 1, 0, None, 'best'), (400000, 1.0, 0.6411375, 5.0, None, 'gini', 600, 'log2', None, 1, 1, 0, None, 'best'), (400000, 1.0, 0.6437625, 4.0, None, 'gini', 700, 'log2', None, 1, 1, 0, None, 'best'), (400000, 1.0, 0.6814625, 4.0, None, 'gini', 800, 'log2', None, 1, 1, 0, None, 'best'), (400000, 1.0, 0.6516, 4.0, None, 'gini', 900, 'log2', None, 1, 1, 0, None, 'best'), (400000, 1.0, 0.6029625, 2.0, None, 'gini', 100, 'log2', None, 1, 1, 0, None, 'random'), (400000, 1.0, 0.6262125, 2.0, None, 'gini', 200, 'log2', None, 1, 1, 0, None, 'random'), (400000, 1.0, 0.6234125, 2.0, None, 'gini', 300, 'log2', None, 1, 1, 0, None, 'random'), (400000, 1.0, 0.606525, 3.0, None, 'gini', 400, 'log2', None, 1, 1, 0, None, 'random'), (400000, 1.0, 0.6411625, 2.0, None, 'gini', 500, 'log2', None, 1, 1, 0, None, 'random'), (400000, 1.0, 0.637225, 2.0, None, 'gini', 600, 'log2', None, 1, 1, 0, None, 'random'), (400000, 1.0, 0.6110625, 3.0, None, 'gini', 700, 'log2', None, 1, 1, 0, None, 'random'), (400000, 1.0, 0.614025, 3.0, None, 'gini', 800, 'log2', None, 1, 1, 0, None, 'random'), (400000, 1.0, 0.603275, 2.0, None, 'gini', 900, 'log2', None, 1, 1, 0, None, 'random'), (400000, 1.0, 0.6513875, 8.0, None, 'entropy', 100, 'log2', None, 1, 1, 0, None, 'best'), (400000, 1.0, 0.6708, 8.0, None, 'entropy', 200, 'log2', None, 1, 1, 0, None, 'best'), (400000, 1.0, 0.6642, 9.0, None, 'entropy', 300, 'log2', None, 1, 1, 0, None, 'best'), (400000, 1.0, 0.6707875, 8.0, None, 'entropy', 400, 'log2', None, 1, 1, 0, None, 'best'), (400000, 1.0, 0.6682, 8.0, None, 'entropy', 500, 'log2', None, 1, 1, 0, None, 'best'), (400000, 1.0, 0.6560875, 8.0, None, 'entropy', 600, 'log2', None, 1, 1, 0, None, 'best'), (400000, 1.0, 0.6877625, 8.0, None, 'entropy', 700, 'log2', None, 1, 1, 0, None, 'best'), (400000, 1.0, 0.6716375, 9.0, None, 'entropy', 800, 'log2', None, 1, 1, 0, None, 'best'), (400000, 1.0, 0.6588375, 8.0, None, 'entropy', 900, 'log2', None, 1, 1, 0, None, 'best'), (400000, 1.0, 0.620975, 3.0, None, 'entropy', 100, 'log2', None, 1, 1, 0, None, 'random'), (400000, 1.0, 0.6293375, 3.0, None, 'entropy', 200, 'log2', None, 1, 1, 0, None, 'random'), (400000, 1.0, 0.6603125, 3.0, None, 'entropy', 300, 'log2', None, 1, 1, 0, None, 'random'), (400000, 1.0, 0.6030625, 2.0, None, 'entropy', 400, 'log2', None, 1, 1, 0, None, 'random'), (400000, 1.0, 0.6094125, 2.0, None, 'entropy', 500, 'log2', None, 1, 1, 0, None, 'random'), (400000, 1.0, 0.6155375, 3.0, None, 'entropy', 600, 'log2', None, 1, 1, 0, None, 'random'), (400000, 1.0, 0.618075, 3.0, None, 'entropy', 700, 'log2', None, 1, 1, 0, None, 'random'), (400000, 1.0, 0.6105625, 2.0, None, 'entropy', 800, 'log2', None, 1, 1, 0, None, 'random'), (400000, 1.0, 0.604425, 3.0, None, 'entropy', 900, 'log2', None, 1, 1, 0, None, 'random'), (400000, 1.0, 0.7619125, 41.0, None, 'gini', 100, None, None, 1, 1, 0, None, 'best'), (400000, 1.0, 0.762275, 40.0, None, 'gini', 200, None, None, 1, 1, 0, None, 'best'), (400000, 1.0, 0.7617625, 42.0, None, 'gini', 300, None, None, 1, 1, 0, None, 'best'), (400000, 1.0, 0.761525, 42.0, None, 'gini', 400, None, None, 1, 1, 0, None, 'best'), (400000, 1.0, 0.7618, 42.0, None, 'gini', 500, None, None, 1, 1, 0, None, 'best'), (400000, 1.0, 0.7622125, 40.0, None, 'gini', 600, None, None, 1, 1, 0, None, 'best'), (400000, 1.0, 0.7605375, 41.0, None, 'gini', 700, None, None, 1, 1, 0, None, 'best'), (400000, 1.0, 0.76105, 41.0, None, 'gini', 800, None, None, 1, 1, 0, None, 'best'), (400000, 1.0, 0.76095, 42.0, None, 'gini', 900, None, None, 1, 1, 0, None, 'best'), (400000, 1.0, 0.74935, 16.0, None, 'gini', 100, None, None, 1, 1, 0, None, 'random'), (400000, 1.0, 0.749375, 15.0, None, 'gini', 200, None, None, 1, 1, 0, None, 'random'), (400000, 1.0, 0.749975, 15.0, None, 'gini', 300, None, None, 1, 1, 0, None, 'random'), (400000, 1.0, 0.7484, 33.0, None, 'gini', 400, None, None, 1, 1, 0, None, 'random'), (400000, 1.0, 0.747475, 30.0, None, 'gini', 500, None, None, 1, 1, 0, None, 'random'), (400000, 1.0, 0.7507125, 23.0, None, 'gini', 600, None, None, 1, 1, 0, None, 'random'), (400000, 1.0, 0.7442875, 14.0, None, 'gini', 700, None, None, 1, 1, 0, None, 'random'), (400000, 1.0, 0.743625, 16.0, None, 'gini', 800, None, None, 1, 1, 0, None, 'random'), (400000, 1.0, 0.7487875, 17.0, None, 'gini', 900, None, None, 1, 1, 0, None, 'random'), (400000, 1.0, 0.7676375, 64.0, None, 'entropy', 100, None, None, 1, 1, 0, None, 'best'), (400000, 1.0, 0.7669, 65.0, None, 'entropy', 200, None, None, 1, 1, 0, None, 'best'), (400000, 1.0, 0.7671375, 93.0, None, 'entropy', 300, None, None, 1, 1, 0, None, 'best'), (400000, 1.0, 0.7676875, 79.0, None, 'entropy', 400, None, None, 1, 1, 0, None, 'best'), (400000, 1.0, 0.7661375, 75.0, None, 'entropy', 500, None, None, 1, 1, 0, None, 'best'), (400000, 1.0, 0.7657125, 64.0, None, 'entropy', 600, None, None, 1, 1, 0, None, 'best'), (400000, 1.0, 0.7658125, 82.0, None, 'entropy', 700, None, None, 1, 1, 0, None, 'best'), (400000, 1.0, 0.7662125, 65.0, None, 'entropy', 800, None, None, 1, 1, 0, None, 'best'), (400000, 1.0, 0.767525, 66.0, None, 'entropy', 900, None, None, 1, 1, 0, None, 'best'), (400000, 1.0, 0.7518375, 16.0, None, 'entropy', 100, None, None, 1, 1, 0, None, 'random'), (400000, 1.0, 0.75475, 15.0, None, 'entropy', 200, None, None, 1, 1, 0, None, 'random'), (400000, 1.0, 0.7464625, 15.0, None, 'entropy', 300, None, None, 1, 1, 0, None, 'random'), (400000, 1.0, 0.751175, 16.0, None, 'entropy', 400, None, None, 1, 1, 0, None, 'random'), (400000, 1.0, 0.7484375, 16.0, None, 'entropy', 500, None, None, 1, 1, 0, None, 'random'), (400000, 1.0, 0.749475, 15.0, None, 'entropy', 600, None, None, 1, 1, 0, None, 'random'), (400000, 1.0, 0.75075, 15.0, None, 'entropy', 700, None, None, 1, 1, 0, None, 'random'), (400000, 1.0, 0.752, 16.0, None, 'entropy', 800, None, None, 1, 1, 0, None, 'random'), (400000, 1.0, 0.75275, 21.0, None, 'entropy', 900, None, None, 1, 1, 0, None, 'random'), (500000, 1.0, 0.70656, 14.0, None, 'gini', 100, 'auto', None, 1, 1, 0, None, 'best'), (500000, 1.0, 0.70022, 15.0, None, 'gini', 200, 'auto', None, 1, 1, 0, None, 'best'), (500000, 1.0, 0.67191, 16.0, None, 'gini', 300, 'auto', None, 1, 1, 0, None, 'best'), (500000, 1.0, 0.71132, 13.0, None, 'gini', 400, 'auto', None, 1, 1, 0, None, 'best'), (500000, 1.0, 0.69931, 7.0, None, 'gini', 500, 'auto', None, 1, 1, 0, None, 'best'), (500000, 1.0, 0.68974, 8.0, None, 'gini', 600, 'auto', None, 1, 1, 0, None, 'best'), (500000, 1.0, 0.66615, 7.0, None, 'gini', 700, 'auto', None, 1, 1, 0, None, 'best'), (500000, 1.0, 0.71123, 6.0, None, 'gini', 800, 'auto', None, 1, 1, 0, None, 'best'), (500000, 1.0, 0.6646, 7.0, None, 'gini', 900, 'auto', None, 1, 1, 0, None, 'best'), (500000, 1.0, 0.6407, 3.0, None, 'gini', 100, 'auto', None, 1, 1, 0, None, 'random'), (500000, 1.0, 0.61757, 4.0, None, 'gini', 200, 'auto', None, 1, 1, 0, None, 'random'), (500000, 1.0, 0.63757, 4.0, None, 'gini', 300, 'auto', None, 1, 1, 0, None, 'random'), (500000, 1.0, 0.62823, 4.0, None, 'gini', 400, 'auto', None, 1, 1, 0, None, 'random'), (500000, 1.0, 0.64324, 4.0, None, 'gini', 500, 'auto', None, 1, 1, 0, None, 'random'), (500000, 1.0, 0.63806, 4.0, None, 'gini', 600, 'auto', None, 1, 1, 0, None, 'random'), (500000, 1.0, 0.61575, 5.0, None, 'gini', 700, 'auto', None, 1, 1, 0, None, 'random'), (500000, 1.0, 0.63569, 4.0, None, 'gini', 800, 'auto', None, 1, 1, 0, None, 'random'), (500000, 1.0, 0.62888, 4.0, None, 'gini', 900, 'auto', None, 1, 1, 0, None, 'random'), (500000, 1.0, 0.69219, 29.0, None, 'entropy', 100, 'auto', None, 1, 1, 0, None, 'best'), (500000, 1.0, 0.68374, 26.0, None, 'entropy', 200, 'auto', None, 1, 1, 0, None, 'best'), (500000, 1.0, 0.70386, 21.0, None, 'entropy', 300, 'auto', None, 1, 1, 0, None, 'best'), (500000, 1.0, 0.68872, 18.0, None, 'entropy', 400, 'auto', None, 1, 1, 0, None, 'best'), (500000, 1.0, 0.6937, 13.0, None, 'entropy', 500, 'auto', None, 1, 1, 0, None, 'best'), (500000, 1.0, 0.67757, 13.0, None, 'entropy', 600, 'auto', None, 1, 1, 0, None, 'best'), (500000, 1.0, 0.70315, 14.0, None, 'entropy', 700, 'auto', None, 1, 1, 0, None, 'best'), (500000, 1.0, 0.69425, 14.0, None, 'entropy', 800, 'auto', None, 1, 1, 0, None, 'best'), (500000, 1.0, 0.69411, 13.0, None, 'entropy', 900, 'auto', None, 1, 1, 0, None, 'best'), (500000, 1.0, 0.63761, 5.0, None, 'entropy', 100, 'auto', None, 1, 1, 0, None, 'random'), (500000, 1.0, 0.64818, 4.0, None, 'entropy', 200, 'auto', None, 1, 1, 0, None, 'random'), (500000, 1.0, 0.66376, 4.0, None, 'entropy', 300, 'auto', None, 1, 1, 0, None, 'random'), (500000, 1.0, 0.6571, 4.0, None, 'entropy', 400, 'auto', None, 1, 1, 0, None, 'random'), (500000, 1.0, 0.64418, 4.0, None, 'entropy', 500, 'auto', None, 1, 1, 0, None, 'random'), (500000, 1.0, 0.63477, 4.0, None, 'entropy', 600, 'auto', None, 1, 1, 0, None, 'random'), (500000, 1.0, 0.63174, 4.0, None, 'entropy', 700, 'auto', None, 1, 1, 0, None, 'random'), (500000, 1.0, 0.6271, 5.0, None, 'entropy', 800, 'auto', None, 1, 1, 0, None, 'random'), (500000, 1.0, 0.62355, 4.0, None, 'entropy', 900, 'auto', None, 1, 1, 0, None, 'random'), (500000, 1.0, 0.69153, 7.0, None, 'gini', 100, 'sqrt', None, 1, 1, 0, None, 'best'), (500000, 1.0, 0.68643, 8.0, None, 'gini', 200, 'sqrt', None, 1, 1, 0, None, 'best'), (500000, 1.0, 0.69859, 7.0, None, 'gini', 300, 'sqrt', None, 1, 1, 0, None, 'best'), (500000, 1.0, 0.68996, 8.0, None, 'gini', 400, 'sqrt', None, 1, 1, 0, None, 'best'), (500000, 1.0, 0.69373, 7.0, None, 'gini', 500, 'sqrt', None, 1, 1, 0, None, 'best'), (500000, 1.0, 0.69577, 8.0, None, 'gini', 600, 'sqrt', None, 1, 1, 0, None, 'best'), (500000, 1.0, 0.6911, 6.0, None, 'gini', 700, 'sqrt', None, 1, 1, 0, None, 'best'), (500000, 1.0, 0.70345, 8.0, None, 'gini', 800, 'sqrt', None, 1, 1, 0, None, 'best'), (500000, 1.0, 0.69405, 8.0, None, 'gini', 900, 'sqrt', None, 1, 1, 0, None, 'best'), (500000, 1.0, 0.62179, 5.0, None, 'gini', 100, 'sqrt', None, 1, 1, 0, None, 'random'), (500000, 1.0, 0.6281, 4.0, None, 'gini', 200, 'sqrt', None, 1, 1, 0, None, 'random'), (500000, 1.0, 0.63907, 4.0, None, 'gini', 300, 'sqrt', None, 1, 1, 0, None, 'random'), (500000, 1.0, 0.6413, 4.0, None, 'gini', 400, 'sqrt', None, 1, 1, 0, None, 'random'), (500000, 1.0, 0.64492, 4.0, None, 'gini', 500, 'sqrt', None, 1, 1, 0, None, 'random'), (500000, 1.0, 0.65984, 4.0, None, 'gini', 600, 'sqrt', None, 1, 1, 0, None, 'random'), (500000, 1.0, 0.6271, 3.0, None, 'gini', 700, 'sqrt', None, 1, 1, 0, None, 'random'), (500000, 1.0, 0.63476, 4.0, None, 'gini', 800, 'sqrt', None, 1, 1, 0, None, 'random'), (500000, 1.0, 0.62832, 5.0, None, 'gini', 900, 'sqrt', None, 1, 1, 0, None, 'random'), (500000, 1.0, 0.68686, 13.0, None, 'entropy', 100, 'sqrt', None, 1, 1, 0, None, 'best'), (500000, 1.0, 0.70638, 16.0, None, 'entropy', 200, 'sqrt', None, 1, 1, 0, None, 'best'), (500000, 1.0, 0.70462, 17.0, None, 'entropy', 300, 'sqrt', None, 1, 1, 0, None, 'best'), (500000, 1.0, 0.70321, 13.0, None, 'entropy', 400, 'sqrt', None, 1, 1, 0, None, 'best'), (500000, 1.0, 0.69409, 13.0, None, 'entropy', 500, 'sqrt', None, 1, 1, 0, None, 'best'), (500000, 1.0, 0.69051, 14.0, None, 'entropy', 600, 'sqrt', None, 1, 1, 0, None, 'best'), (500000, 1.0, 0.68117, 14.0, None, 'entropy', 700, 'sqrt', None, 1, 1, 0, None, 'best'), (500000, 1.0, 0.68345, 14.0, None, 'entropy', 800, 'sqrt', None, 1, 1, 0, None, 'best'), (500000, 1.0, 0.67347, 15.0, None, 'entropy', 900, 'sqrt', None, 1, 1, 0, None, 'best'), (500000, 1.0, 0.63764, 4.0, None, 'entropy', 100, 'sqrt', None, 1, 1, 0, None, 'random'), (500000, 1.0, 0.62837, 4.0, None, 'entropy', 200, 'sqrt', None, 1, 1, 0, None, 'random'), (500000, 1.0, 0.62928, 4.0, None, 'entropy', 300, 'sqrt', None, 1, 1, 0, None, 'random'), (500000, 1.0, 0.61954, 3.0, None, 'entropy', 400, 'sqrt', None, 1, 1, 0, None, 'random'), (500000, 1.0, 0.66294, 5.0, None, 'entropy', 500, 'sqrt', None, 1, 1, 0, None, 'random'), (500000, 1.0, 0.63073, 4.0, None, 'entropy', 600, 'sqrt', None, 1, 1, 0, None, 'random'), (500000, 1.0, 0.64781, 4.0, None, 'entropy', 700, 'sqrt', None, 1, 1, 0, None, 'random'), (500000, 1.0, 0.62505, 5.0, None, 'entropy', 800, 'sqrt', None, 1, 1, 0, None, 'random'), (500000, 1.0, 0.6184, 5.0, None, 'entropy', 900, 'sqrt', None, 1, 1, 0, None, 'random'), (500000, 1.0, 0.65982, 5.0, None, 'gini', 100, 'log2', None, 1, 1, 0, None, 'best'), (500000, 1.0, 0.65729, 6.0, None, 'gini', 200, 'log2', None, 1, 1, 0, None, 'best'), (500000, 1.0, 0.66543, 5.0, None, 'gini', 300, 'log2', None, 1, 1, 0, None, 'best'), (500000, 1.0, 0.65823, 6.0, None, 'gini', 400, 'log2', None, 1, 1, 0, None, 'best'), (500000, 1.0, 0.63794, 6.0, None, 'gini', 500, 'log2', None, 1, 1, 0, None, 'best'), (500000, 1.0, 0.6676, 5.0, None, 'gini', 600, 'log2', None, 1, 1, 0, None, 'best'), (500000, 1.0, 0.64884, 6.0, None, 'gini', 700, 'log2', None, 1, 1, 0, None, 'best'), (500000, 1.0, 0.65777, 5.0, None, 'gini', 800, 'log2', None, 1, 1, 0, None, 'best'), (500000, 1.0, 0.64576, 6.0, None, 'gini', 900, 'log2', None, 1, 1, 0, None, 'best'), (500000, 1.0, 0.62861, 3.0, None, 'gini', 100, 'log2', None, 1, 1, 0, None, 'random'), (500000, 1.0, 0.62631, 3.0, None, 'gini', 200, 'log2', None, 1, 1, 0, None, 'random'), (500000, 1.0, 0.60576, 3.0, None, 'gini', 300, 'log2', None, 1, 1, 0, None, 'random'), (500000, 1.0, 0.61527, 3.0, None, 'gini', 400, 'log2', None, 1, 1, 0, None, 'random'), (500000, 1.0, 0.60952, 3.0, None, 'gini', 500, 'log2', None, 1, 1, 0, None, 'random'), (500000, 1.0, 0.59702, 3.0, None, 'gini', 600, 'log2', None, 1, 1, 0, None, 'random'), (500000, 1.0, 0.61232, 3.0, None, 'gini', 700, 'log2', None, 1, 1, 0, None, 'random'), (500000, 1.0, 0.6129, 4.0, None, 'gini', 800, 'log2', None, 1, 1, 0, None, 'random'), (500000, 1.0, 0.61891, 3.0, None, 'gini', 900, 'log2', None, 1, 1, 0, None, 'random'), (500000, 1.0, 0.653, 9.0, None, 'entropy', 100, 'log2', None, 1, 1, 0, None, 'best'), (500000, 1.0, 0.69376, 10.0, None, 'entropy', 200, 'log2', None, 1, 1, 0, None, 'best'), (500000, 1.0, 0.65635, 10.0, None, 'entropy', 300, 'log2', None, 1, 1, 0, None, 'best'), (500000, 1.0, 0.70906, 9.0, None, 'entropy', 400, 'log2', None, 1, 1, 0, None, 'best'), (500000, 1.0, 0.65982, 12.0, None, 'entropy', 500, 'log2', None, 1, 1, 0, None, 'best'), (500000, 1.0, 0.67094, 11.0, None, 'entropy', 600, 'log2', None, 1, 1, 0, None, 'best'), (500000, 1.0, 0.6457, 11.0, None, 'entropy', 700, 'log2', None, 1, 1, 0, None, 'best'), (500000, 1.0, 0.64782, 11.0, None, 'entropy', 800, 'log2', None, 1, 1, 0, None, 'best'), (500000, 1.0, 0.6574, 12.0, None, 'entropy', 900, 'log2', None, 1, 1, 0, None, 'best'), (500000, 1.0, 0.62412, 3.0, None, 'entropy', 100, 'log2', None, 1, 1, 0, None, 'random'), (500000, 1.0, 0.61586, 4.0, None, 'entropy', 200, 'log2', None, 1, 1, 0, None, 'random'), (500000, 1.0, 0.64543, 6.0, None, 'entropy', 300, 'log2', None, 1, 1, 0, None, 'random'), (500000, 1.0, 0.62297, 7.0, None, 'entropy', 400, 'log2', None, 1, 1, 0, None, 'random'), (500000, 1.0, 0.61931, 5.0, None, 'entropy', 500, 'log2', None, 1, 1, 0, None, 'random'), (500000, 1.0, 0.62343, 4.0, None, 'entropy', 600, 'log2', None, 1, 1, 0, None, 'random'), (500000, 1.0, 0.61904, 4.0, None, 'entropy', 700, 'log2', None, 1, 1, 0, None, 'random'), (500000, 1.0, 0.60246, 4.0, None, 'entropy', 800, 'log2', None, 1, 1, 0, None, 'random'), (500000, 1.0, 0.61362, 3.0, None, 'entropy', 900, 'log2', None, 1, 1, 0, None, 'random'), (500000, 1.0, 0.76287, 61.0, None, 'gini', 100, None, None, 1, 1, 0, None, 'best'), (500000, 1.0, 0.76263, 57.0, None, 'gini', 200, None, None, 1, 1, 0, None, 'best'), (500000, 1.0, 0.76372, 56.0, None, 'gini', 300, None, None, 1, 1, 0, None, 'best'), (500000, 1.0, 0.76354, 56.0, None, 'gini', 400, None, None, 1, 1, 0, None, 'best'), (500000, 1.0, 0.76334, 55.0, None, 'gini', 500, None, None, 1, 1, 0, None, 'best'), (500000, 1.0, 0.76325, 59.0, None, 'gini', 600, None, None, 1, 1, 0, None, 'best'), (500000, 1.0, 0.76317, 55.0, None, 'gini', 700, None, None, 1, 1, 0, None, 'best'), (500000, 1.0, 0.7625, 58.0, None, 'gini', 800, None, None, 1, 1, 0, None, 'best'), (500000, 1.0, 0.76248, 62.0, None, 'gini', 900, None, None, 1, 1, 0, None, 'best'), (500000, 1.0, 0.74671, 26.0, None, 'gini', 100, None, None, 1, 1, 0, None, 'random'), (500000, 1.0, 0.75199, 21.0, None, 'gini', 200, None, None, 1, 1, 0, None, 'random'), (500000, 1.0, 0.74675, 20.0, None, 'gini', 300, None, None, 1, 1, 0, None, 'random'), (500000, 1.0, 0.74861, 21.0, None, 'gini', 400, None, None, 1, 1, 0, None, 'random'), (500000, 1.0, 0.75085, 21.0, None, 'gini', 500, None, None, 1, 1, 0, None, 'random'), (500000, 1.0, 0.74846, 36.0, None, 'gini', 600, None, None, 1, 1, 0, None, 'random'), (500000, 1.0, 0.74636, 31.0, None, 'gini', 700, None, None, 1, 1, 0, None, 'random'), (500000, 1.0, 0.74702, 22.0, None, 'gini', 800, None, None, 1, 1, 0, None, 'random'), (500000, 1.0, 0.74809, 22.0, None, 'gini', 900, None, None, 1, 1, 0, None, 'random'), (500000, 1.0, 0.76732, 87.0, None, 'entropy', 100, None, None, 1, 1, 0, None, 'best'), (500000, 1.0, 0.76604, 105.0, None, 'entropy', 200, None, None, 1, 1, 0, None, 'best'), (500000, 1.0, 0.76676, 144.0, None, 'entropy', 300, None, None, 1, 1, 0, None, 'best'), (500000, 1.0, 0.76554, 84.0, None, 'entropy', 400, None, None, 1, 1, 0, None, 'best'), (500000, 1.0, 0.76671, 86.0, None, 'entropy', 500, None, None, 1, 1, 0, None, 'best'), (500000, 1.0, 0.76663, 85.0, None, 'entropy', 600, None, None, 1, 1, 0, None, 'best'), (500000, 1.0, 0.76701, 85.0, None, 'entropy', 700, None, None, 1, 1, 0, None, 'best'), (500000, 1.0, 0.76608, 148.0, None, 'entropy', 800, None, None, 1, 1, 0, None, 'best'), (500000, 1.0, 0.76528, 114.0, None, 'entropy', 900, None, None, 1, 1, 0, None, 'best'), (500000, 1.0, 0.75049, 20.0, None, 'entropy', 100, None, None, 1, 1, 0, None, 'random'), (500000, 1.0, 0.75004, 19.0, None, 'entropy', 200, None, None, 1, 1, 0, None, 'random'), (500000, 1.0, 0.75179, 15.0, None, 'entropy', 300, None, None, 1, 1, 0, None, 'random'), (500000, 1.0, 0.75354, 24.0, None, 'entropy', 400, None, None, 1, 1, 0, None, 'random'), (500000, 1.0, 0.75213, 22.0, None, 'entropy', 500, None, None, 1, 1, 0, None, 'random'), (500000, 1.0, 0.75456, 24.0, None, 'entropy', 600, None, None, 1, 1, 0, None, 'random'), (500000, 1.0, 0.75457, 24.0, None, 'entropy', 700, None, None, 1, 1, 0, None, 'random'), (500000, 1.0, 0.75448, 24.0, None, 'entropy', 800, None, None, 1, 1, 0, None, 'random'), (500000, 1.0, 0.75168, 24.0, None, 'entropy', 900, None, None, 1, 1, 0, None, 'random'), (600000, 1.0, 0.6796583333333334, 9.0, None, 'gini', 100, 'auto', None, 1, 1, 0, None, 'best'), (600000, 1.0, 0.6785333333333333, 10.0, None, 'gini', 200, 'auto', None, 1, 1, 0, None, 'best'), (600000, 1.0, 0.6927833333333333, 10.0, None, 'gini', 300, 'auto', None, 1, 1, 0, None, 'best'), (600000, 1.0, 0.6912083333333333, 9.0, None, 'gini', 400, 'auto', None, 1, 1, 0, None, 'best'), (600000, 1.0, 0.697375, 9.0, None, 'gini', 500, 'auto', None, 1, 1, 0, None, 'best'), (600000, 1.0, 0.7089333333333333, 9.0, None, 'gini', 600, 'auto', None, 1, 1, 0, None, 'best'), (600000, 1.0, 0.7150416666666667, 9.0, None, 'gini', 700, 'auto', None, 1, 1, 0, None, 'best'), (600000, 1.0, 0.6675583333333334, 9.0, None, 'gini', 800, 'auto', None, 1, 1, 0, None, 'best'), (600000, 1.0, 0.6829333333333333, 9.0, None, 'gini', 900, 'auto', None, 1, 1, 0, None, 'best'), (600000, 1.0, 0.6269916666666666, 6.0, None, 'gini', 100, 'auto', None, 1, 1, 0, None, 'random'), (600000, 1.0, 0.6157416666666666, 6.0, None, 'gini', 200, 'auto', None, 1, 1, 0, None, 'random'), (600000, 1.0, 0.6263333333333333, 6.0, None, 'gini', 300, 'auto', None, 1, 1, 0, None, 'random'), (600000, 1.0, 0.63635, 6.0, None, 'gini', 400, 'auto', None, 1, 1, 0, None, 'random'), (600000, 1.0, 0.6365166666666666, 5.0, None, 'gini', 500, 'auto', None, 1, 1, 0, None, 'random'), (600000, 1.0, 0.6368583333333333, 4.0, None, 'gini', 600, 'auto', None, 1, 1, 0, None, 'random'), (600000, 1.0, 0.6358666666666667, 5.0, None, 'gini', 700, 'auto', None, 1, 1, 0, None, 'random'), (600000, 1.0, 0.6285083333333333, 5.0, None, 'gini', 800, 'auto', None, 1, 1, 0, None, 'random'), (600000, 1.0, 0.6338833333333334, 5.0, None, 'gini', 900, 'auto', None, 1, 1, 0, None, 'random'), (600000, 1.0, 0.6862416666666666, 15.0, None, 'entropy', 100, 'auto', None, 1, 1, 0, None, 'best'), (600000, 1.0, 0.6883083333333333, 17.0, None, 'entropy', 200, 'auto', None, 1, 1, 0, None, 'best'), (600000, 1.0, 0.697475, 17.0, None, 'entropy', 300, 'auto', None, 1, 1, 0, None, 'best'), (600000, 1.0, 0.69655, 18.0, None, 'entropy', 400, 'auto', None, 1, 1, 0, None, 'best'), (600000, 1.0, 0.6803333333333333, 16.0, None, 'entropy', 500, 'auto', None, 1, 1, 0, None, 'best'), (600000, 1.0, 0.7015833333333333, 17.0, None, 'entropy', 600, 'auto', None, 1, 1, 0, None, 'best'), (600000, 1.0, 0.6788833333333333, 18.0, None, 'entropy', 700, 'auto', None, 1, 1, 0, None, 'best'), (600000, 1.0, 0.6970333333333333, 17.0, None, 'entropy', 800, 'auto', None, 1, 1, 0, None, 'best'), (600000, 1.0, 0.6901916666666666, 17.0, None, 'entropy', 900, 'auto', None, 1, 1, 0, None, 'best'), (600000, 1.0, 0.6670166666666667, 5.0, None, 'entropy', 100, 'auto', None, 1, 1, 0, None, 'random'), (600000, 1.0, 0.646225, 5.0, None, 'entropy', 200, 'auto', None, 1, 1, 0, None, 'random'), (600000, 1.0, 0.6337416666666666, 5.0, None, 'entropy', 300, 'auto', None, 1, 1, 0, None, 'random'), (600000, 1.0, 0.65, 5.0, None, 'entropy', 400, 'auto', None, 1, 1, 0, None, 'random'), (600000, 1.0, 0.6636083333333334, 6.0, None, 'entropy', 500, 'auto', None, 1, 1, 0, None, 'random'), (600000, 1.0, 0.6385666666666666, 6.0, None, 'entropy', 600, 'auto', None, 1, 1, 0, None, 'random'), (600000, 1.0, 0.657525, 5.0, None, 'entropy', 700, 'auto', None, 1, 1, 0, None, 'random'), (600000, 1.0, 0.655025, 6.0, None, 'entropy', 800, 'auto', None, 1, 1, 0, None, 'random'), (600000, 1.0, 0.6447416666666667, 5.0, None, 'entropy', 900, 'auto', None, 1, 1, 0, None, 'random'), (600000, 1.0, 0.674525, 9.0, None, 'gini', 100, 'sqrt', None, 1, 1, 0, None, 'best'), (600000, 1.0, 0.6668083333333333, 9.0, None, 'gini', 200, 'sqrt', None, 1, 1, 0, None, 'best'), (600000, 1.0, 0.685125, 10.0, None, 'gini', 300, 'sqrt', None, 1, 1, 0, None, 'best'), (600000, 1.0, 0.67405, 11.0, None, 'gini', 400, 'sqrt', None, 1, 1, 0, None, 'best'), (600000, 1.0, 0.685825, 10.0, None, 'gini', 500, 'sqrt', None, 1, 1, 0, None, 'best'), (600000, 1.0, 0.71805, 9.0, None, 'gini', 600, 'sqrt', None, 1, 1, 0, None, 'best'), (600000, 1.0, 0.6643333333333333, 9.0, None, 'gini', 700, 'sqrt', None, 1, 1, 0, None, 'best'), (600000, 1.0, 0.6834916666666667, 9.0, None, 'gini', 800, 'sqrt', None, 1, 1, 0, None, 'best'), (600000, 1.0, 0.666925, 10.0, None, 'gini', 900, 'sqrt', None, 1, 1, 0, None, 'best'), (600000, 1.0, 0.628925, 5.0, None, 'gini', 100, 'sqrt', None, 1, 1, 0, None, 'random'), (600000, 1.0, 0.623075, 5.0, None, 'gini', 200, 'sqrt', None, 1, 1, 0, None, 'random'), (600000, 1.0, 0.6303333333333333, 5.0, None, 'gini', 300, 'sqrt', None, 1, 1, 0, None, 'random'), (600000, 1.0, 0.6198416666666666, 5.0, None, 'gini', 400, 'sqrt', None, 1, 1, 0, None, 'random'), (600000, 1.0, 0.6382333333333333, 6.0, None, 'gini', 500, 'sqrt', None, 1, 1, 0, None, 'random'), (600000, 1.0, 0.659225, 5.0, None, 'gini', 600, 'sqrt', None, 1, 1, 0, None, 'random'), (600000, 1.0, 0.6387666666666667, 6.0, None, 'gini', 700, 'sqrt', None, 1, 1, 0, None, 'random'), (600000, 1.0, 0.6275083333333333, 5.0, None, 'gini', 800, 'sqrt', None, 1, 1, 0, None, 'random'), (600000, 1.0, 0.642225, 6.0, None, 'gini', 900, 'sqrt', None, 1, 1, 0, None, 'random'), (600000, 1.0, 0.6807666666666666, 17.0, None, 'entropy', 100, 'sqrt', None, 1, 1, 0, None, 'best'), (600000, 1.0, 0.70745, 17.0, None, 'entropy', 200, 'sqrt', None, 1, 1, 0, None, 'best'), (600000, 1.0, 0.7042583333333333, 38.0, None, 'entropy', 300, 'sqrt', None, 1, 1, 0, None, 'best'), (600000, 1.0, 0.6734166666666667, 17.0, None, 'entropy', 400, 'sqrt', None, 1, 1, 0, None, 'best'), (600000, 1.0, 0.70215, 16.0, None, 'entropy', 500, 'sqrt', None, 1, 1, 0, None, 'best'), (600000, 1.0, 0.708275, 17.0, None, 'entropy', 600, 'sqrt', None, 1, 1, 0, None, 'best'), (600000, 1.0, 0.689275, 17.0, None, 'entropy', 700, 'sqrt', None, 1, 1, 0, None, 'best'), (600000, 1.0, 0.6940666666666667, 33.0, None, 'entropy', 800, 'sqrt', None, 1, 1, 0, None, 'best'), (600000, 1.0, 0.6923, 36.0, None, 'entropy', 900, 'sqrt', None, 1, 1, 0, None, 'best'), (600000, 1.0, 0.6429333333333334, 9.0, None, 'entropy', 100, 'sqrt', None, 1, 1, 0, None, 'random'), (600000, 1.0, 0.633075, 6.0, None, 'entropy', 200, 'sqrt', None, 1, 1, 0, None, 'random'), (600000, 1.0, 0.6505833333333333, 8.0, None, 'entropy', 300, 'sqrt', None, 1, 1, 0, None, 'random'), (600000, 1.0, 0.6553666666666667, 12.0, None, 'entropy', 400, 'sqrt', None, 1, 1, 0, None, 'random'), (600000, 1.0, 0.6432916666666667, 6.0, None, 'entropy', 500, 'sqrt', None, 1, 1, 0, None, 'random'), (600000, 1.0, 0.6333416666666667, 5.0, None, 'entropy', 600, 'sqrt', None, 1, 1, 0, None, 'random'), (600000, 1.0, 0.652575, 5.0, None, 'entropy', 700, 'sqrt', None, 1, 1, 0, None, 'random'), (600000, 1.0, 0.627925, 5.0, None, 'entropy', 800, 'sqrt', None, 1, 1, 0, None, 'random'), (600000, 1.0, 0.6332583333333334, 5.0, None, 'entropy', 900, 'sqrt', None, 1, 1, 0, None, 'random'), (600000, 1.0, 0.6369166666666667, 6.0, None, 'gini', 100, 'log2', None, 1, 1, 0, None, 'best'), (600000, 1.0, 0.654375, 6.0, None, 'gini', 200, 'log2', None, 1, 1, 0, None, 'best'), (600000, 1.0, 0.6653416666666667, 6.0, None, 'gini', 300, 'log2', None, 1, 1, 0, None, 'best'), (600000, 1.0, 0.6656666666666666, 7.0, None, 'gini', 400, 'log2', None, 1, 1, 0, None, 'best'), (600000, 1.0, 0.6761583333333333, 6.0, None, 'gini', 500, 'log2', None, 1, 1, 0, None, 'best'), (600000, 1.0, 0.6448916666666666, 7.0, None, 'gini', 600, 'log2', None, 1, 1, 0, None, 'best'), (600000, 1.0, 0.6573833333333333, 7.0, None, 'gini', 700, 'log2', None, 1, 1, 0, None, 'best'), (600000, 1.0, 0.6656833333333333, 7.0, None, 'gini', 800, 'log2', None, 1, 1, 0, None, 'best'), (600000, 1.0, 0.6486833333333333, 6.0, None, 'gini', 900, 'log2', None, 1, 1, 0, None, 'best'), (600000, 1.0, 0.6283333333333333, 4.0, None, 'gini', 100, 'log2', None, 1, 1, 0, None, 'random'), (600000, 1.0, 0.606775, 4.0, None, 'gini', 200, 'log2', None, 1, 1, 0, None, 'random'), (600000, 1.0, 0.5995916666666666, 4.0, None, 'gini', 300, 'log2', None, 1, 1, 0, None, 'random'), (600000, 1.0, 0.628625, 4.0, None, 'gini', 400, 'log2', None, 1, 1, 0, None, 'random'), (600000, 1.0, 0.600625, 4.0, None, 'gini', 500, 'log2', None, 1, 1, 0, None, 'random'), (600000, 1.0, 0.6354916666666667, 4.0, None, 'gini', 600, 'log2', None, 1, 1, 0, None, 'random'), (600000, 1.0, 0.61775, 4.0, None, 'gini', 700, 'log2', None, 1, 1, 0, None, 'random'), (600000, 1.0, 0.6013, 4.0, None, 'gini', 800, 'log2', None, 1, 1, 0, None, 'random'), (600000, 1.0, 0.634825, 4.0, None, 'gini', 900, 'log2', None, 1, 1, 0, None, 'random'), (600000, 1.0, 0.6717083333333334, 14.0, None, 'entropy', 100, 'log2', None, 1, 1, 0, None, 'best'), (600000, 1.0, 0.696875, 13.0, None, 'entropy', 200, 'log2', None, 1, 1, 0, None, 'best'), (600000, 1.0, 0.6511833333333333, 12.0, None, 'entropy', 300, 'log2', None, 1, 1, 0, None, 'best'), (600000, 1.0, 0.677025, 13.0, None, 'entropy', 400, 'log2', None, 1, 1, 0, None, 'best'), (600000, 1.0, 0.649375, 13.0, None, 'entropy', 500, 'log2', None, 1, 1, 0, None, 'best'), (600000, 1.0, 0.658925, 12.0, None, 'entropy', 600, 'log2', None, 1, 1, 0, None, 'best'), (600000, 1.0, 0.6551916666666666, 13.0, None, 'entropy', 700, 'log2', None, 1, 1, 0, None, 'best'), (600000, 1.0, 0.6751583333333333, 13.0, None, 'entropy', 800, 'log2', None, 1, 1, 0, None, 'best'), (600000, 1.0, 0.6921833333333334, 13.0, None, 'entropy', 900, 'log2', None, 1, 1, 0, None, 'best'), (600000, 1.0, 0.6234666666666666, 4.0, None, 'entropy', 100, 'log2', None, 1, 1, 0, None, 'random'), (600000, 1.0, 0.614825, 4.0, None, 'entropy', 200, 'log2', None, 1, 1, 0, None, 'random'), (600000, 1.0, 0.6202333333333333, 4.0, None, 'entropy', 300, 'log2', None, 1, 1, 0, None, 'random'), (600000, 1.0, 0.599175, 4.0, None, 'entropy', 400, 'log2', None, 1, 1, 0, None, 'random'), (600000, 1.0, 0.6256083333333333, 4.0, None, 'entropy', 500, 'log2', None, 1, 1, 0, None, 'random'), (600000, 1.0, 0.615475, 4.0, None, 'entropy', 600, 'log2', None, 1, 1, 0, None, 'random'), (600000, 1.0, 0.6570083333333333, 3.0, None, 'entropy', 700, 'log2', None, 1, 1, 0, None, 'random'), (600000, 1.0, 0.610875, 4.0, None, 'entropy', 800, 'log2', None, 1, 1, 0, None, 'random'), (600000, 1.0, 0.6415333333333333, 5.0, None, 'entropy', 900, 'log2', None, 1, 1, 0, None, 'random'), (600000, 1.0, 0.765075, 71.0, None, 'gini', 100, None, None, 1, 1, 0, None, 'best'), (600000, 1.0, 0.7640916666666666, 70.0, None, 'gini', 200, None, None, 1, 1, 0, None, 'best'), (600000, 1.0, 0.7650166666666667, 73.0, None, 'gini', 300, None, None, 1, 1, 0, None, 'best'), (600000, 1.0, 0.7641083333333333, 73.0, None, 'gini', 400, None, None, 1, 1, 0, None, 'best'), (600000, 1.0, 0.7658083333333333, 78.0, None, 'gini', 500, None, None, 1, 1, 0, None, 'best'), (600000, 1.0, 0.765575, 73.0, None, 'gini', 600, None, None, 1, 1, 0, None, 'best'), (600000, 1.0, 0.7643333333333333, 72.0, None, 'gini', 700, None, None, 1, 1, 0, None, 'best'), (600000, 1.0, 0.7635916666666667, 73.0, None, 'gini', 800, None, None, 1, 1, 0, None, 'best'), (600000, 1.0, 0.765425, 70.0, None, 'gini', 900, None, None, 1, 1, 0, None, 'best'), (600000, 1.0, 0.748, 28.0, None, 'gini', 100, None, None, 1, 1, 0, None, 'random'), (600000, 1.0, 0.7490416666666667, 34.0, None, 'gini', 200, None, None, 1, 1, 0, None, 'random'), (600000, 1.0, 0.7483166666666666, 27.0, None, 'gini', 300, None, None, 1, 1, 0, None, 'random'), (600000, 1.0, 0.7434416666666667, 29.0, None, 'gini', 400, None, None, 1, 1, 0, None, 'random'), (600000, 1.0, 0.7526916666666666, 29.0, None, 'gini', 500, None, None, 1, 1, 0, None, 'random'), (600000, 1.0, 0.75045, 32.0, None, 'gini', 600, None, None, 1, 1, 0, None, 'random'), (600000, 1.0, 0.749975, 28.0, None, 'gini', 700, None, None, 1, 1, 0, None, 'random'), (600000, 1.0, 0.7514166666666666, 27.0, None, 'gini', 800, None, None, 1, 1, 0, None, 'random'), (600000, 1.0, 0.751675, 27.0, None, 'gini', 900, None, None, 1, 1, 0, None, 'random'), (600000, 1.0, 0.7685333333333333, 108.0, None, 'entropy', 100, None, None, 1, 1, 0, None, 'best'), (600000, 1.0, 0.7673833333333333, 107.0, None, 'entropy', 200, None, None, 1, 1, 0, None, 'best'), (600000, 1.0, 0.7683333333333333, 107.0, None, 'entropy', 300, None, None, 1, 1, 0, None, 'best'), (600000, 1.0, 0.7676166666666666, 106.0, None, 'entropy', 400, None, None, 1, 1, 0, None, 'best'), (600000, 1.0, 0.7676083333333333, 108.0, None, 'entropy', 500, None, None, 1, 1, 0, None, 'best'), (600000, 1.0, 0.7674833333333333, 110.0, None, 'entropy', 600, None, None, 1, 1, 0, None, 'best'), (600000, 1.0, 0.7676666666666667, 108.0, None, 'entropy', 700, None, None, 1, 1, 0, None, 'best'), (600000, 1.0, 0.7675666666666666, 110.0, None, 'entropy', 800, None, None, 1, 1, 0, None, 'best'), (600000, 1.0, 0.767225, 111.0, None, 'entropy', 900, None, None, 1, 1, 0, None, 'best'), (600000, 1.0, 0.750975, 26.0, None, 'entropy', 100, None, None, 1, 1, 0, None, 'random'), (600000, 1.0, 0.7511583333333334, 34.0, None, 'entropy', 200, None, None, 1, 1, 0, None, 'random'), (600000, 1.0, 0.7532833333333333, 29.0, None, 'entropy', 300, None, None, 1, 1, 0, None, 'random'), (600000, 1.0, 0.7548916666666666, 31.0, None, 'entropy', 400, None, None, 1, 1, 0, None, 'random'), (600000, 1.0, 0.7550416666666667, 30.0, None, 'entropy', 500, None, None, 1, 1, 0, None, 'random'), (600000, 1.0, 0.7540166666666667, 27.0, None, 'entropy', 600, None, None, 1, 1, 0, None, 'random'), (600000, 1.0, 0.7585833333333334, 28.0, None, 'entropy', 700, None, None, 1, 1, 0, None, 'random'), (600000, 1.0, 0.7537083333333333, 31.0, None, 'entropy', 800, None, None, 1, 1, 0, None, 'random'), (600000, 1.0, 0.7555083333333333, 30.0, None, 'entropy', 900, None, None, 1, 1, 0, None, 'random'), (700000, 1.0, 0.6947785714285715, 11.0, None, 'gini', 100, 'auto', None, 1, 1, 0, None, 'best'), (700000, 1.0, 0.6741428571428572, 11.0, None, 'gini', 200, 'auto', None, 1, 1, 0, None, 'best'), (700000, 1.0, 0.6961571428571428, 11.0, None, 'gini', 300, 'auto', None, 1, 1, 0, None, 'best'), (700000, 1.0, 0.6962928571428572, 12.0, None, 'gini', 400, 'auto', None, 1, 1, 0, None, 'best'), (700000, 1.0, 0.6880571428571428, 13.0, None, 'gini', 500, 'auto', None, 1, 1, 0, None, 'best'), (700000, 1.0, 0.7181642857142857, 13.0, None, 'gini', 600, 'auto', None, 1, 1, 0, None, 'best'), (700000, 1.0, 0.6731785714285714, 13.0, None, 'gini', 700, 'auto', None, 1, 1, 0, None, 'best'), (700000, 1.0, 0.6790285714285714, 12.0, None, 'gini', 800, 'auto', None, 1, 1, 0, None, 'best'), (700000, 1.0, 0.6693071428571429, 13.0, None, 'gini', 900, 'auto', None, 1, 1, 0, None, 'best'), (700000, 1.0, 0.6233, 7.0, None, 'gini', 100, 'auto', None, 1, 1, 0, None, 'random'), (700000, 1.0, 0.6237285714285714, 8.0, None, 'gini', 200, 'auto', None, 1, 1, 0, None, 'random'), (700000, 1.0, 0.6386571428571428, 7.0, None, 'gini', 300, 'auto', None, 1, 1, 0, None, 'random'), (700000, 1.0, 0.6400642857142858, 7.0, None, 'gini', 400, 'auto', None, 1, 1, 0, None, 'random'), (700000, 1.0, 0.6213928571428572, 6.0, None, 'gini', 500, 'auto', None, 1, 1, 0, None, 'random'), (700000, 1.0, 0.6408285714285714, 7.0, None, 'gini', 600, 'auto', None, 1, 1, 0, None, 'random'), (700000, 1.0, 0.6593, 6.0, None, 'gini', 700, 'auto', None, 1, 1, 0, None, 'random'), (700000, 1.0, 0.6329642857142858, 8.0, None, 'gini', 800, 'auto', None, 1, 1, 0, None, 'random'), (700000, 1.0, 0.6591571428571429, 6.0, None, 'gini', 900, 'auto', None, 1, 1, 0, None, 'random'), (700000, 1.0, 0.6912214285714285, 21.0, None, 'entropy', 100, 'auto', None, 1, 1, 0, None, 'best'), (700000, 1.0, 0.7030857142857143, 21.0, None, 'entropy', 200, 'auto', None, 1, 1, 0, None, 'best'), (700000, 1.0, 0.7048714285714286, 21.0, None, 'entropy', 300, 'auto', None, 1, 1, 0, None, 'best'), (700000, 1.0, 0.68655, 22.0, None, 'entropy', 400, 'auto', None, 1, 1, 0, None, 'best'), (700000, 1.0, 0.7003071428571429, 20.0, None, 'entropy', 500, 'auto', None, 1, 1, 0, None, 'best'), (700000, 1.0, 0.6791928571428572, 23.0, None, 'entropy', 600, 'auto', None, 1, 1, 0, None, 'best'), (700000, 1.0, 0.69245, 21.0, None, 'entropy', 700, 'auto', None, 1, 1, 0, None, 'best'), (700000, 1.0, 0.6837785714285715, 20.0, None, 'entropy', 800, 'auto', None, 1, 1, 0, None, 'best'), (700000, 1.0, 0.6970357142857143, 22.0, None, 'entropy', 900, 'auto', None, 1, 1, 0, None, 'best'), (700000, 1.0, 0.6658428571428572, 7.0, None, 'entropy', 100, 'auto', None, 1, 1, 0, None, 'random'), (700000, 1.0, 0.6311642857142857, 8.0, None, 'entropy', 200, 'auto', None, 1, 1, 0, None, 'random'), (700000, 1.0, 0.6468928571428572, 8.0, None, 'entropy', 300, 'auto', None, 1, 1, 0, None, 'random'), (700000, 1.0, 0.6233, 8.0, None, 'entropy', 400, 'auto', None, 1, 1, 0, None, 'random'), (700000, 1.0, 0.6540571428571429, 7.0, None, 'entropy', 500, 'auto', None, 1, 1, 0, None, 'random'), (700000, 1.0, 0.6433857142857143, 8.0, None, 'entropy', 600, 'auto', None, 1, 1, 0, None, 'random'), (700000, 1.0, 0.6554642857142857, 7.0, None, 'entropy', 700, 'auto', None, 1, 1, 0, None, 'random'), (700000, 1.0, 0.6334642857142857, 8.0, None, 'entropy', 800, 'auto', None, 1, 1, 0, None, 'random'), (700000, 1.0, 0.6448357142857143, 7.0, None, 'entropy', 900, 'auto', None, 1, 1, 0, None, 'random'), (700000, 1.0, 0.6749785714285714, 12.0, None, 'gini', 100, 'sqrt', None, 1, 1, 0, None, 'best'), (700000, 1.0, 0.7113642857142857, 12.0, None, 'gini', 200, 'sqrt', None, 1, 1, 0, None, 'best'), (700000, 1.0, 0.7273, 11.0, None, 'gini', 300, 'sqrt', None, 1, 1, 0, None, 'best'), (700000, 1.0, 0.6886571428571429, 11.0, None, 'gini', 400, 'sqrt', None, 1, 1, 0, None, 'best'), (700000, 1.0, 0.6921714285714285, 13.0, None, 'gini', 500, 'sqrt', None, 1, 1, 0, None, 'best'), (700000, 1.0, 0.6852, 12.0, None, 'gini', 600, 'sqrt', None, 1, 1, 0, None, 'best'), (700000, 1.0, 0.6665785714285715, 13.0, None, 'gini', 700, 'sqrt', None, 1, 1, 0, None, 'best'), (700000, 1.0, 0.6856928571428571, 12.0, None, 'gini', 800, 'sqrt', None, 1, 1, 0, None, 'best'), (700000, 1.0, 0.6743214285714285, 11.0, None, 'gini', 900, 'sqrt', None, 1, 1, 0, None, 'best'), (700000, 1.0, 0.6416571428571428, 7.0, None, 'gini', 100, 'sqrt', None, 1, 1, 0, None, 'random'), (700000, 1.0, 0.6324285714285715, 7.0, None, 'gini', 200, 'sqrt', None, 1, 1, 0, None, 'random'), (700000, 1.0, 0.62495, 7.0, None, 'gini', 300, 'sqrt', None, 1, 1, 0, None, 'random'), (700000, 1.0, 0.6276071428571428, 6.0, None, 'gini', 400, 'sqrt', None, 1, 1, 0, None, 'random'), (700000, 1.0, 0.6203285714285715, 8.0, None, 'gini', 500, 'sqrt', None, 1, 1, 0, None, 'random'), (700000, 1.0, 0.6375571428571428, 8.0, None, 'gini', 600, 'sqrt', None, 1, 1, 0, None, 'random'), (700000, 1.0, 0.6614571428571429, 7.0, None, 'gini', 700, 'sqrt', None, 1, 1, 0, None, 'random'), (700000, 1.0, 0.6384428571428571, 6.0, None, 'gini', 800, 'sqrt', None, 1, 1, 0, None, 'random'), (700000, 1.0, 0.6351357142857142, 5.0, None, 'gini', 900, 'sqrt', None, 1, 1, 0, None, 'random'), (700000, 1.0, 0.7096285714285714, 21.0, None, 'entropy', 100, 'sqrt', None, 1, 1, 0, None, 'best'), (700000, 1.0, 0.7108785714285715, 20.0, None, 'entropy', 200, 'sqrt', None, 1, 1, 0, None, 'best'), (700000, 1.0, 0.6987785714285715, 19.0, None, 'entropy', 300, 'sqrt', None, 1, 1, 0, None, 'best'), (700000, 1.0, 0.7160428571428571, 21.0, None, 'entropy', 400, 'sqrt', None, 1, 1, 0, None, 'best'), (700000, 1.0, 0.7030857142857143, 20.0, None, 'entropy', 500, 'sqrt', None, 1, 1, 0, None, 'best'), (700000, 1.0, 0.6784071428571429, 22.0, None, 'entropy', 600, 'sqrt', None, 1, 1, 0, None, 'best'), (700000, 1.0, 0.6970428571428572, 19.0, None, 'entropy', 700, 'sqrt', None, 1, 1, 0, None, 'best'), (700000, 1.0, 0.6760928571428572, 20.0, None, 'entropy', 800, 'sqrt', None, 1, 1, 0, None, 'best'), (700000, 1.0, 0.6854357142857143, 20.0, None, 'entropy', 900, 'sqrt', None, 1, 1, 0, None, 'best'), (700000, 1.0, 0.6185642857142857, 8.0, None, 'entropy', 100, 'sqrt', None, 1, 1, 0, None, 'random'), (700000, 1.0, 0.6286357142857143, 6.0, None, 'entropy', 200, 'sqrt', None, 1, 1, 0, None, 'random'), (700000, 1.0, 0.6368142857142857, 9.0, None, 'entropy', 300, 'sqrt', None, 1, 1, 0, None, 'random'), (700000, 1.0, 0.6446, 7.0, None, 'entropy', 400, 'sqrt', None, 1, 1, 0, None, 'random'), (700000, 1.0, 0.6304571428571428, 8.0, None, 'entropy', 500, 'sqrt', None, 1, 1, 0, None, 'random'), (700000, 1.0, 0.6473214285714286, 7.0, None, 'entropy', 600, 'sqrt', None, 1, 1, 0, None, 'random'), (700000, 1.0, 0.63315, 9.0, None, 'entropy', 700, 'sqrt', None, 1, 1, 0, None, 'random'), (700000, 1.0, 0.6242785714285715, 7.0, None, 'entropy', 800, 'sqrt', None, 1, 1, 0, None, 'random'), (700000, 1.0, 0.6401285714285714, 7.0, None, 'entropy', 900, 'sqrt', None, 1, 1, 0, None, 'random'), (700000, 1.0, 0.6726857142857143, 9.0, None, 'gini', 100, 'log2', None, 1, 1, 0, None, 'best'), (700000, 1.0, 0.6743142857142858, 9.0, None, 'gini', 200, 'log2', None, 1, 1, 0, None, 'best'), (700000, 1.0, 0.6653785714285714, 10.0, None, 'gini', 300, 'log2', None, 1, 1, 0, None, 'best'), (700000, 1.0, 0.6732071428571429, 8.0, None, 'gini', 400, 'log2', None, 1, 1, 0, None, 'best'), (700000, 1.0, 0.6385142857142857, 8.0, None, 'gini', 500, 'log2', None, 1, 1, 0, None, 'best'), (700000, 1.0, 0.6531071428571429, 10.0, None, 'gini', 600, 'log2', None, 1, 1, 0, None, 'best'), (700000, 1.0, 0.6622857142857143, 10.0, None, 'gini', 700, 'log2', None, 1, 1, 0, None, 'best'), (700000, 1.0, 0.6605357142857143, 9.0, None, 'gini', 800, 'log2', None, 1, 1, 0, None, 'best'), (700000, 1.0, 0.66325, 9.0, None, 'gini', 900, 'log2', None, 1, 1, 0, None, 'best'), (700000, 0.999975, 0.6153857142857143, 6.0, None, 'gini', 100, 'log2', None, 1, 1, 0, None, 'random'), (700000, 1.0, 0.6067, 5.0, None, 'gini', 200, 'log2', None, 1, 1, 0, None, 'random'), (700000, 1.0, 0.61155, 5.0, None, 'gini', 300, 'log2', None, 1, 1, 0, None, 'random'), (700000, 1.0, 0.6252214285714286, 6.0, None, 'gini', 400, 'log2', None, 1, 1, 0, None, 'random'), (700000, 1.0, 0.6327214285714285, 6.0, None, 'gini', 500, 'log2', None, 1, 1, 0, None, 'random'), (700000, 1.0, 0.6282428571428571, 5.0, None, 'gini', 600, 'log2', None, 1, 1, 0, None, 'random'), (700000, 1.0, 0.6161714285714286, 6.0, None, 'gini', 700, 'log2', None, 1, 1, 0, None, 'random'), (700000, 1.0, 0.6148142857142858, 5.0, None, 'gini', 800, 'log2', None, 1, 1, 0, None, 'random'), (700000, 1.0, 0.6374714285714286, 5.0, None, 'gini', 900, 'log2', None, 1, 1, 0, None, 'random'), (700000, 1.0, 0.6566857142857143, 16.0, None, 'entropy', 100, 'log2', None, 1, 1, 0, None, 'best'), (700000, 1.0, 0.6812428571428571, 14.0, None, 'entropy', 200, 'log2', None, 1, 1, 0, None, 'best'), (700000, 1.0, 0.6756214285714286, 15.0, None, 'entropy', 300, 'log2', None, 1, 1, 0, None, 'best'), (700000, 1.0, 0.6549642857142857, 16.0, None, 'entropy', 400, 'log2', None, 1, 1, 0, None, 'best'), (700000, 1.0, 0.6790785714285714, 15.0, None, 'entropy', 500, 'log2', None, 1, 1, 0, None, 'best'), (700000, 1.0, 0.6820285714285714, 15.0, None, 'entropy', 600, 'log2', None, 1, 1, 0, None, 'best'), (700000, 1.0, 0.6703214285714286, 16.0, None, 'entropy', 700, 'log2', None, 1, 1, 0, None, 'best'), (700000, 1.0, 0.6891285714285714, 16.0, None, 'entropy', 800, 'log2', None, 1, 1, 0, None, 'best'), (700000, 1.0, 0.6467571428571428, 16.0, None, 'entropy', 900, 'log2', None, 1, 1, 0, None, 'best'), (700000, 1.0, 0.62145, 5.0, None, 'entropy', 100, 'log2', None, 1, 1, 0, None, 'random'), (700000, 1.0, 0.6044642857142857, 5.0, None, 'entropy', 200, 'log2', None, 1, 1, 0, None, 'random'), (700000, 1.0, 0.6088785714285714, 5.0, None, 'entropy', 300, 'log2', None, 1, 1, 0, None, 'random'), (700000, 1.0, 0.6196714285714285, 6.0, None, 'entropy', 400, 'log2', None, 1, 1, 0, None, 'random'), (700000, 1.0, 0.6185571428571428, 6.0, None, 'entropy', 500, 'log2', None, 1, 1, 0, None, 'random'), (700000, 1.0, 0.6400714285714286, 6.0, None, 'entropy', 600, 'log2', None, 1, 1, 0, None, 'random'), (700000, 1.0, 0.6169357142857143, 5.0, None, 'entropy', 700, 'log2', None, 1, 1, 0, None, 'random'), (700000, 1.0, 0.6460642857142858, 7.0, None, 'entropy', 800, 'log2', None, 1, 1, 0, None, 'random'), (700000, 1.0, 0.62665, 5.0, None, 'entropy', 900, 'log2', None, 1, 1, 0, None, 'random'), (700000, 1.0, 0.7636571428571428, 86.0, None, 'gini', 100, None, None, 1, 1, 0, None, 'best'), (700000, 1.0, 0.7638071428571429, 92.0, None, 'gini', 200, None, None, 1, 1, 0, None, 'best'), (700000, 1.0, 0.7641285714285714, 92.0, None, 'gini', 300, None, None, 1, 1, 0, None, 'best'), (700000, 1.0, 0.7635785714285714, 88.0, None, 'gini', 400, None, None, 1, 1, 0, None, 'best'), (700000, 1.0, 0.7643142857142857, 88.0, None, 'gini', 500, None, None, 1, 1, 0, None, 'best'), (700000, 1.0, 0.7647, 87.0, None, 'gini', 600, None, None, 1, 1, 0, None, 'best'), (700000, 1.0, 0.7639142857142858, 83.0, None, 'gini', 700, None, None, 1, 1, 0, None, 'best'), (700000, 1.0, 0.7637214285714286, 83.0, None, 'gini', 800, None, None, 1, 1, 0, None, 'best'), (700000, 1.0, 0.76505, 84.0, None, 'gini', 900, None, None, 1, 1, 0, None, 'best'), (700000, 1.0, 0.7499928571428571, 39.0, None, 'gini', 100, None, None, 1, 1, 0, None, 'random'), (700000, 1.0, 0.7527428571428572, 34.0, None, 'gini', 200, None, None, 1, 1, 0, None, 'random'), (700000, 1.0, 0.7513571428571428, 42.0, None, 'gini', 300, None, None, 1, 1, 0, None, 'random'), (700000, 1.0, 0.7536428571428572, 35.0, None, 'gini', 400, None, None, 1, 1, 0, None, 'random'), (700000, 1.0, 0.74885, 43.0, None, 'gini', 500, None, None, 1, 1, 0, None, 'random'), (700000, 1.0, 0.7435285714285714, 37.0, None, 'gini', 600, None, None, 1, 1, 0, None, 'random'), (700000, 1.0, 0.7510714285714286, 37.0, None, 'gini', 700, None, None, 1, 1, 0, None, 'random'), (700000, 1.0, 0.7526285714285714, 42.0, None, 'gini', 800, None, None, 1, 1, 0, None, 'random'), (700000, 1.0, 0.7451785714285715, 38.0, None, 'gini', 900, None, None, 1, 1, 0, None, 'random'), (700000, 1.0, 0.7686714285714286, 136.0, None, 'entropy', 100, None, None, 1, 1, 0, None, 'best'), (700000, 1.0, 0.7690071428571429, 136.0, None, 'entropy', 200, None, None, 1, 1, 0, None, 'best'), (700000, 1.0, 0.7691642857142857, 133.0, None, 'entropy', 300, None, None, 1, 1, 0, None, 'best'), (700000, 1.0, 0.7699714285714285, 134.0, None, 'entropy', 400, None, None, 1, 1, 0, None, 'best'), (700000, 1.0, 0.7696142857142857, 135.0, None, 'entropy', 500, None, None, 1, 1, 0, None, 'best'), (700000, 1.0, 0.7688571428571429, 136.0, None, 'entropy', 600, None, None, 1, 1, 0, None, 'best'), (700000, 1.0, 0.7690071428571429, 133.0, None, 'entropy', 700, None, None, 1, 1, 0, None, 'best'), (700000, 1.0, 0.7691714285714286, 135.0, None, 'entropy', 800, None, None, 1, 1, 0, None, 'best'), (700000, 1.0, 0.7686785714285714, 134.0, None, 'entropy', 900, None, None, 1, 1, 0, None, 'best'), (700000, 1.0, 0.7590214285714286, 47.0, None, 'entropy', 100, None, None, 1, 1, 0, None, 'random'), (700000, 1.0, 0.7550928571428571, 42.0, None, 'entropy', 200, None, None, 1, 1, 0, None, 'random'), (700000, 1.0, 0.7538357142857143, 43.0, None, 'entropy', 300, None, None, 1, 1, 0, None, 'random'), (700000, 1.0, 0.7593357142857143, 43.0, None, 'entropy', 400, None, None, 1, 1, 0, None, 'random'), (700000, 1.0, 0.7497214285714285, 49.0, None, 'entropy', 500, None, None, 1, 1, 0, None, 'random'), (700000, 1.0, 0.7542, 50.0, None, 'entropy', 600, None, None, 1, 1, 0, None, 'random'), (700000, 1.0, 0.7555857142857143, 41.0, None, 'entropy', 700, None, None, 1, 1, 0, None, 'random'), (700000, 1.0, 0.7548071428571429, 40.0, None, 'entropy', 800, None, None, 1, 1, 0, None, 'random'), (700000, 1.0, 0.7563357142857143, 39.0, None, 'entropy', 900, None, None, 1, 1, 0, None, 'random'), (800000, 1.0, 0.69000625, 14.0, None, 'gini', 100, 'auto', None, 1, 1, 0, None, 'best'), (800000, 1.0, 0.6789625, 12.0, None, 'gini', 200, 'auto', None, 1, 1, 0, None, 'best'), (800000, 1.0, 0.68725, 15.0, None, 'gini', 300, 'auto', None, 1, 1, 0, None, 'best'), (800000, 1.0, 0.67323125, 14.0, None, 'gini', 400, 'auto', None, 1, 1, 0, None, 'best'), (800000, 1.0, 0.72188125, 14.0, None, 'gini', 500, 'auto', None, 1, 1, 0, None, 'best'), (800000, 1.0, 0.6842, 15.0, None, 'gini', 600, 'auto', None, 1, 1, 0, None, 'best'), (800000, 1.0, 0.679875, 14.0, None, 'gini', 700, 'auto', None, 1, 1, 0, None, 'best'), (800000, 1.0, 0.69654375, 13.0, None, 'gini', 800, 'auto', None, 1, 1, 0, None, 'best'), (800000, 1.0, 0.7085125, 15.0, None, 'gini', 900, 'auto', None, 1, 1, 0, None, 'best'), (800000, 1.0, 0.64176875, 9.0, None, 'gini', 100, 'auto', None, 1, 1, 0, None, 'random'), (800000, 1.0, 0.62673125, 8.0, None, 'gini', 200, 'auto', None, 1, 1, 0, None, 'random'), (800000, 1.0, 0.64653125, 8.0, None, 'gini', 300, 'auto', None, 1, 1, 0, None, 'random'), (800000, 1.0, 0.63855, 8.0, None, 'gini', 400, 'auto', None, 1, 1, 0, None, 'random'), (800000, 1.0, 0.62550625, 7.0, None, 'gini', 500, 'auto', None, 1, 1, 0, None, 'random'), (800000, 1.0, 0.633825, 9.0, None, 'gini', 600, 'auto', None, 1, 1, 0, None, 'random'), (800000, 1.0, 0.645975, 7.0, None, 'gini', 700, 'auto', None, 1, 1, 0, None, 'random'), (800000, 1.0, 0.64405625, 9.0, None, 'gini', 800, 'auto', None, 1, 1, 0, None, 'random'), (800000, 1.0, 0.6286125, 6.0, None, 'gini', 900, 'auto', None, 1, 1, 0, None, 'random'), (800000, 1.0, 0.6868, 24.0, None, 'entropy', 100, 'auto', None, 1, 1, 0, None, 'best'), (800000, 1.0, 0.68976875, 25.0, None, 'entropy', 200, 'auto', None, 1, 1, 0, None, 'best'), (800000, 1.0, 0.70265625, 24.0, None, 'entropy', 300, 'auto', None, 1, 1, 0, None, 'best'), (800000, 1.0, 0.70795625, 24.0, None, 'entropy', 400, 'auto', None, 1, 1, 0, None, 'best'), (800000, 1.0, 0.70336875, 23.0, None, 'entropy', 500, 'auto', None, 1, 1, 0, None, 'best'), (800000, 1.0, 0.7024375, 25.0, None, 'entropy', 600, 'auto', None, 1, 1, 0, None, 'best'), (800000, 1.0, 0.69513125, 26.0, None, 'entropy', 700, 'auto', None, 1, 1, 0, None, 'best'), (800000, 1.0, 0.69476875, 24.0, None, 'entropy', 800, 'auto', None, 1, 1, 0, None, 'best'), (800000, 1.0, 0.6978625, 25.0, None, 'entropy', 900, 'auto', None, 1, 1, 0, None, 'best'), (800000, 1.0, 0.6287875, 9.0, None, 'entropy', 100, 'auto', None, 1, 1, 0, None, 'random'), (800000, 1.0, 0.6325875, 9.0, None, 'entropy', 200, 'auto', None, 1, 1, 0, None, 'random'), (800000, 1.0, 0.652, 10.0, None, 'entropy', 300, 'auto', None, 1, 1, 0, None, 'random'), (800000, 1.0, 0.66231875, 9.0, None, 'entropy', 400, 'auto', None, 1, 1, 0, None, 'random'), (800000, 1.0, 0.6240875, 8.0, None, 'entropy', 500, 'auto', None, 1, 1, 0, None, 'random'), (800000, 1.0, 0.67165625, 8.0, None, 'entropy', 600, 'auto', None, 1, 1, 0, None, 'random'), (800000, 1.0, 0.67364375, 9.0, None, 'entropy', 700, 'auto', None, 1, 1, 0, None, 'random'), (800000, 1.0, 0.64491875, 10.0, None, 'entropy', 800, 'auto', None, 1, 1, 0, None, 'random'), (800000, 1.0, 0.64465625, 8.0, None, 'entropy', 900, 'auto', None, 1, 1, 0, None, 'random'), (800000, 1.0, 0.70478125, 13.0, None, 'gini', 100, 'sqrt', None, 1, 1, 0, None, 'best'), (800000, 1.0, 0.6892375, 13.0, None, 'gini', 200, 'sqrt', None, 1, 1, 0, None, 'best'), (800000, 1.0, 0.6809625, 15.0, None, 'gini', 300, 'sqrt', None, 1, 1, 0, None, 'best'), (800000, 1.0, 0.70555, 14.0, None, 'gini', 400, 'sqrt', None, 1, 1, 0, None, 'best'), (800000, 1.0, 0.6788625, 14.0, None, 'gini', 500, 'sqrt', None, 1, 1, 0, None, 'best'), (800000, 1.0, 0.68725, 14.0, None, 'gini', 600, 'sqrt', None, 1, 1, 0, None, 'best'), (800000, 1.0, 0.718, 13.0, None, 'gini', 700, 'sqrt', None, 1, 1, 0, None, 'best'), (800000, 1.0, 0.67934375, 17.0, None, 'gini', 800, 'sqrt', None, 1, 1, 0, None, 'best'), (800000, 1.0, 0.705275, 15.0, None, 'gini', 900, 'sqrt', None, 1, 1, 0, None, 'best'), (800000, 1.0, 0.63215625, 9.0, None, 'gini', 100, 'sqrt', None, 1, 1, 0, None, 'random'), (800000, 1.0, 0.6284375, 8.0, None, 'gini', 200, 'sqrt', None, 1, 1, 0, None, 'random'), (800000, 1.0, 0.62264375, 6.0, None, 'gini', 300, 'sqrt', None, 1, 1, 0, None, 'random'), (800000, 1.0, 0.63998125, 9.0, None, 'gini', 400, 'sqrt', None, 1, 1, 0, None, 'random'), (800000, 1.0, 0.63498125, 10.0, None, 'gini', 500, 'sqrt', None, 1, 1, 0, None, 'random'), (800000, 1.0, 0.6412125, 7.0, None, 'gini', 600, 'sqrt', None, 1, 1, 0, None, 'random'), (800000, 1.0, 0.6374125, 7.0, None, 'gini', 700, 'sqrt', None, 1, 1, 0, None, 'random'), (800000, 1.0, 0.6541625, 9.0, None, 'gini', 800, 'sqrt', None, 1, 1, 0, None, 'random'), (800000, 1.0, 0.63729375, 7.0, None, 'gini', 900, 'sqrt', None, 1, 1, 0, None, 'random'), (800000, 1.0, 0.687225, 27.0, None, 'entropy', 100, 'sqrt', None, 1, 1, 0, None, 'best'), (800000, 1.0, 0.68001875, 25.0, None, 'entropy', 200, 'sqrt', None, 1, 1, 0, None, 'best'), (800000, 1.0, 0.69120625, 24.0, None, 'entropy', 300, 'sqrt', None, 1, 1, 0, None, 'best'), (800000, 1.0, 0.70840625, 24.0, None, 'entropy', 400, 'sqrt', None, 1, 1, 0, None, 'best'), (800000, 1.0, 0.69895, 24.0, None, 'entropy', 500, 'sqrt', None, 1, 1, 0, None, 'best'), (800000, 1.0, 0.7234, 23.0, None, 'entropy', 600, 'sqrt', None, 1, 1, 0, None, 'best'), (800000, 1.0, 0.71218125, 24.0, None, 'entropy', 700, 'sqrt', None, 1, 1, 0, None, 'best'), (800000, 1.0, 0.69659375, 24.0, None, 'entropy', 800, 'sqrt', None, 1, 1, 0, None, 'best'), (800000, 1.0, 0.7012875, 25.0, None, 'entropy', 900, 'sqrt', None, 1, 1, 0, None, 'best'), (800000, 1.0, 0.65941875, 9.0, None, 'entropy', 100, 'sqrt', None, 1, 1, 0, None, 'random'), (800000, 1.0, 0.6483, 10.0, None, 'entropy', 200, 'sqrt', None, 1, 1, 0, None, 'random'), (800000, 1.0, 0.62916875, 9.0, None, 'entropy', 300, 'sqrt', None, 1, 1, 0, None, 'random'), (800000, 1.0, 0.661425, 9.0, None, 'entropy', 400, 'sqrt', None, 1, 1, 0, None, 'random'), (800000, 1.0, 0.645175, 10.0, None, 'entropy', 500, 'sqrt', None, 1, 1, 0, None, 'random'), (800000, 1.0, 0.64879375, 10.0, None, 'entropy', 600, 'sqrt', None, 1, 1, 0, None, 'random'), (800000, 1.0, 0.65681875, 9.0, None, 'entropy', 700, 'sqrt', None, 1, 1, 0, None, 'random'), (800000, 1.0, 0.62388125, 11.0, None, 'entropy', 800, 'sqrt', None, 1, 1, 0, None, 'random'), (800000, 1.0, 0.62160625, 9.0, None, 'entropy', 900, 'sqrt', None, 1, 1, 0, None, 'random'), (800000, 1.0, 0.65634375, 12.0, None, 'gini', 100, 'log2', None, 1, 1, 0, None, 'best'), (800000, 1.0, 0.6634, 11.0, None, 'gini', 200, 'log2', None, 1, 1, 0, None, 'best'), (800000, 1.0, 0.65295625, 13.0, None, 'gini', 300, 'log2', None, 1, 1, 0, None, 'best'), (800000, 1.0, 0.65595625, 10.0, None, 'gini', 400, 'log2', None, 1, 1, 0, None, 'best'), (800000, 1.0, 0.66480625, 11.0, None, 'gini', 500, 'log2', None, 1, 1, 0, None, 'best'), (800000, 1.0, 0.70410625, 11.0, None, 'gini', 600, 'log2', None, 1, 1, 0, None, 'best'), (800000, 1.0, 0.63926875, 10.0, None, 'gini', 700, 'log2', None, 1, 1, 0, None, 'best'), (800000, 1.0, 0.66995625, 9.0, None, 'gini', 800, 'log2', None, 1, 1, 0, None, 'best'), (800000, 1.0, 0.6628625, 12.0, None, 'gini', 900, 'log2', None, 1, 1, 0, None, 'best'), (800000, 1.0, 0.6012, 7.0, None, 'gini', 100, 'log2', None, 1, 1, 0, None, 'random'), (800000, 1.0, 0.62263125, 7.0, None, 'gini', 200, 'log2', None, 1, 1, 0, None, 'random'), (800000, 1.0, 0.61876875, 6.0, None, 'gini', 300, 'log2', None, 1, 1, 0, None, 'random'), (800000, 1.0, 0.6152875, 7.0, None, 'gini', 400, 'log2', None, 1, 1, 0, None, 'random'), (800000, 1.0, 0.6047875, 8.0, None, 'gini', 500, 'log2', None, 1, 1, 0, None, 'random'), (800000, 1.0, 0.62329375, 7.0, None, 'gini', 600, 'log2', None, 1, 1, 0, None, 'random'), (800000, 1.0, 0.6101375, 8.0, None, 'gini', 700, 'log2', None, 1, 1, 0, None, 'random'), (800000, 1.0, 0.61188125, 7.0, None, 'gini', 800, 'log2', None, 1, 1, 0, None, 'random'), (800000, 1.0, 0.60341875, 6.0, None, 'gini', 900, 'log2', None, 1, 1, 0, None, 'random'), (800000, 1.0, 0.65785625, 21.0, None, 'entropy', 100, 'log2', None, 1, 1, 0, None, 'best'), (800000, 1.0, 0.657475, 17.0, None, 'entropy', 200, 'log2', None, 1, 1, 0, None, 'best'), (800000, 1.0, 0.69051875, 18.0, None, 'entropy', 300, 'log2', None, 1, 1, 0, None, 'best'), (800000, 1.0, 0.68004375, 21.0, None, 'entropy', 400, 'log2', None, 1, 1, 0, None, 'best'), (800000, 1.0, 0.66486875, 19.0, None, 'entropy', 500, 'log2', None, 1, 1, 0, None, 'best'), (800000, 1.0, 0.66071875, 20.0, None, 'entropy', 600, 'log2', None, 1, 1, 0, None, 'best'), (800000, 1.0, 0.6665875, 19.0, None, 'entropy', 700, 'log2', None, 1, 1, 0, None, 'best'), (800000, 1.0, 0.662325, 20.0, None, 'entropy', 800, 'log2', None, 1, 1, 0, None, 'best'), (800000, 1.0, 0.6612, 18.0, None, 'entropy', 900, 'log2', None, 1, 1, 0, None, 'best'), (800000, 0.9999421875, 0.61598125, 9.0, None, 'entropy', 100, 'log2', None, 1, 1, 0, None, 'random'), (800000, 1.0, 0.61945625, 7.0, None, 'entropy', 200, 'log2', None, 1, 1, 0, None, 'random'), (800000, 1.0, 0.6143875, 6.0, None, 'entropy', 300, 'log2', None, 1, 1, 0, None, 'random'), (800000, 1.0, 0.625325, 7.0, None, 'entropy', 400, 'log2', None, 1, 1, 0, None, 'random'), (800000, 1.0, 0.62659375, 5.0, None, 'entropy', 500, 'log2', None, 1, 1, 0, None, 'random'), (800000, 1.0, 0.6282375, 6.0, None, 'entropy', 600, 'log2', None, 1, 1, 0, None, 'random'), (800000, 1.0, 0.6158375, 7.0, None, 'entropy', 700, 'log2', None, 1, 1, 0, None, 'random'), (800000, 1.0, 0.62151875, 8.0, None, 'entropy', 800, 'log2', None, 1, 1, 0, None, 'random'), (800000, 1.0, 0.6284875, 6.0, None, 'entropy', 900, 'log2', None, 1, 1, 0, None, 'random'), (800000, 1.0, 0.76364375, 114.0, None, 'gini', 100, None, None, 1, 1, 0, None, 'best'), (800000, 1.0, 0.76390625, 114.0, None, 'gini', 200, None, None, 1, 1, 0, None, 'best'), (800000, 1.0, 0.76364375, 113.0, None, 'gini', 300, None, None, 1, 1, 0, None, 'best'), (800000, 1.0, 0.76391875, 114.0, None, 'gini', 400, None, None, 1, 1, 0, None, 'best'), (800000, 1.0, 0.76343125, 112.0, None, 'gini', 500, None, None, 1, 1, 0, None, 'best'), (800000, 1.0, 0.76355, 113.0, None, 'gini', 600, None, None, 1, 1, 0, None, 'best'), (800000, 1.0, 0.76359375, 113.0, None, 'gini', 700, None, None, 1, 1, 0, None, 'best'), (800000, 1.0, 0.76364375, 114.0, None, 'gini', 800, None, None, 1, 1, 0, None, 'best'), (800000, 1.0, 0.76331875, 114.0, None, 'gini', 900, None, None, 1, 1, 0, None, 'best'), (800000, 1.0, 0.74879375, 54.0, None, 'gini', 100, None, None, 1, 1, 0, None, 'random'), (800000, 1.0, 0.7508375, 52.0, None, 'gini', 200, None, None, 1, 1, 0, None, 'random'), (800000, 1.0, 0.75445625, 51.0, None, 'gini', 300, None, None, 1, 1, 0, None, 'random'), (800000, 1.0, 0.75365625, 56.0, None, 'gini', 400, None, None, 1, 1, 0, None, 'random'), (800000, 1.0, 0.7514875, 52.0, None, 'gini', 500, None, None, 1, 1, 0, None, 'random'), (800000, 1.0, 0.7506125, 48.0, None, 'gini', 600, None, None, 1, 1, 0, None, 'random'), (800000, 1.0, 0.75205, 49.0, None, 'gini', 700, None, None, 1, 1, 0, None, 'random'), (800000, 1.0, 0.7505125, 54.0, None, 'gini', 800, None, None, 1, 1, 0, None, 'random'), (800000, 1.0, 0.75566875, 48.0, None, 'gini', 900, None, None, 1, 1, 0, None, 'random'), (800000, 1.0, 0.77169375, 160.0, None, 'entropy', 100, None, None, 1, 1, 0, None, 'best'), (800000, 1.0, 0.771675, 159.0, None, 'entropy', 200, None, None, 1, 1, 0, None, 'best'), (800000, 1.0, 0.7722125, 159.0, None, 'entropy', 300, None, None, 1, 1, 0, None, 'best'), (800000, 1.0, 0.772175, 155.0, None, 'entropy', 400, None, None, 1, 1, 0, None, 'best'), (800000, 1.0, 0.77224375, 157.0, None, 'entropy', 500, None, None, 1, 1, 0, None, 'best'), (800000, 1.0, 0.771775, 157.0, None, 'entropy', 600, None, None, 1, 1, 0, None, 'best'), (800000, 1.0, 0.77259375, 157.0, None, 'entropy', 700, None, None, 1, 1, 0, None, 'best'), (800000, 1.0, 0.77283125, 162.0, None, 'entropy', 800, None, None, 1, 1, 0, None, 'best'), (800000, 1.0, 0.7718875, 160.0, None, 'entropy', 900, None, None, 1, 1, 0, None, 'best'), (800000, 1.0, 0.7587375, 64.0, None, 'entropy', 100, None, None, 1, 1, 0, None, 'random'), (800000, 1.0, 0.75458125, 35.0, None, 'entropy', 200, None, None, 1, 1, 0, None, 'random'), (800000, 1.0, 0.7592375, 49.0, None, 'entropy', 300, None, None, 1, 1, 0, None, 'random'), (800000, 1.0, 0.755875, 52.0, None, 'entropy', 400, None, None, 1, 1, 0, None, 'random'), (800000, 1.0, 0.75564375, 51.0, None, 'entropy', 500, None, None, 1, 1, 0, None, 'random'), (800000, 1.0, 0.75893125, 55.0, None, 'entropy', 600, None, None, 1, 1, 0, None, 'random'), (800000, 1.0, 0.75769375, 54.0, None, 'entropy', 700, None, None, 1, 1, 0, None, 'random'), (800000, 1.0, 0.7534, 51.0, None, 'entropy', 800, None, None, 1, 1, 0, None, 'random'), (800000, 1.0, 0.757775, 55.0, None, 'entropy', 900, None, None, 1, 1, 0, None, 'random'), (900000, 1.0, 0.6990444444444445, 14.0, None, 'gini', 100, 'auto', None, 1, 1, 0, None, 'best'), (900000, 1.0, 0.6869722222222222, 17.0, None, 'gini', 200, 'auto', None, 1, 1, 0, None, 'best'), (900000, 1.0, 0.7107, 15.0, None, 'gini', 300, 'auto', None, 1, 1, 0, None, 'best'), (900000, 1.0, 0.7162388888888889, 17.0, None, 'gini', 400, 'auto', None, 1, 1, 0, None, 'best'), (900000, 1.0, 0.6886222222222222, 16.0, None, 'gini', 500, 'auto', None, 1, 1, 0, None, 'best'), (900000, 1.0, 0.6992333333333334, 15.0, None, 'gini', 600, 'auto', None, 1, 1, 0, None, 'best'), (900000, 1.0, 0.6815055555555556, 18.0, None, 'gini', 700, 'auto', None, 1, 1, 0, None, 'best'), (900000, 1.0, 0.7104444444444444, 18.0, None, 'gini', 800, 'auto', None, 1, 1, 0, None, 'best'), (900000, 1.0, 0.6858333333333333, 18.0, None, 'gini', 900, 'auto', None, 1, 1, 0, None, 'best'), (900000, 1.0, 0.6437666666666667, 11.0, None, 'gini', 100, 'auto', None, 1, 1, 0, None, 'random'), (900000, 1.0, 0.6415666666666666, 12.0, None, 'gini', 200, 'auto', None, 1, 1, 0, None, 'random'), (900000, 1.0, 0.6413777777777778, 10.0, None, 'gini', 300, 'auto', None, 1, 1, 0, None, 'random'), (900000, 1.0, 0.6258777777777778, 9.0, None, 'gini', 400, 'auto', None, 1, 1, 0, None, 'random'), (900000, 1.0, 0.6329277777777778, 10.0, None, 'gini', 500, 'auto', None, 1, 1, 0, None, 'random'), (900000, 1.0, 0.6466388888888889, 11.0, None, 'gini', 600, 'auto', None, 1, 1, 0, None, 'random'), (900000, 1.0, 0.64125, 10.0, None, 'gini', 700, 'auto', None, 1, 1, 0, None, 'random'), (900000, 1.0, 0.63125, 9.0, None, 'gini', 800, 'auto', None, 1, 1, 0, None, 'random'), (900000, 1.0, 0.6163277777777778, 9.0, None, 'gini', 900, 'auto', None, 1, 1, 0, None, 'random'), (900000, 1.0, 0.7090222222222222, 27.0, None, 'entropy', 100, 'auto', None, 1, 1, 0, None, 'best'), (900000, 1.0, 0.6992555555555555, 28.0, None, 'entropy', 200, 'auto', None, 1, 1, 0, None, 'best'), (900000, 1.0, 0.6991555555555555, 32.0, None, 'entropy', 300, 'auto', None, 1, 1, 0, None, 'best'), (900000, 1.0, 0.6894388888888889, 30.0, None, 'entropy', 400, 'auto', None, 1, 1, 0, None, 'best'), (900000, 1.0, 0.6975611111111111, 28.0, None, 'entropy', 500, 'auto', None, 1, 1, 0, None, 'best'), (900000, 1.0, 0.6893388888888888, 27.0, None, 'entropy', 600, 'auto', None, 1, 1, 0, None, 'best'), (900000, 1.0, 0.6962833333333334, 28.0, None, 'entropy', 700, 'auto', None, 1, 1, 0, None, 'best'), (900000, 1.0, 0.7113111111111111, 27.0, None, 'entropy', 800, 'auto', None, 1, 1, 0, None, 'best'), (900000, 1.0, 0.7159611111111112, 26.0, None, 'entropy', 900, 'auto', None, 1, 1, 0, None, 'best'), (900000, 1.0, 0.6372277777777777, 9.0, None, 'entropy', 100, 'auto', None, 1, 1, 0, None, 'random'), (900000, 1.0, 0.6260111111111111, 12.0, None, 'entropy', 200, 'auto', None, 1, 1, 0, None, 'random'), (900000, 1.0, 0.6268388888888888, 9.0, None, 'entropy', 300, 'auto', None, 1, 1, 0, None, 'random'), (900000, 1.0, 0.6372222222222222, 12.0, None, 'entropy', 400, 'auto', None, 1, 1, 0, None, 'random'), (900000, 1.0, 0.6308333333333334, 11.0, None, 'entropy', 500, 'auto', None, 1, 1, 0, None, 'random'), (900000, 1.0, 0.6445888888888889, 9.0, None, 'entropy', 600, 'auto', None, 1, 1, 0, None, 'random'), (900000, 1.0, 0.6281333333333333, 12.0, None, 'entropy', 700, 'auto', None, 1, 1, 0, None, 'random'), (900000, 1.0, 0.6668, 10.0, None, 'entropy', 800, 'auto', None, 1, 1, 0, None, 'random'), (900000, 1.0, 0.6312722222222222, 10.0, None, 'entropy', 900, 'auto', None, 1, 1, 0, None, 'random'), (900000, 1.0, 0.7100388888888889, 16.0, None, 'gini', 100, 'sqrt', None, 1, 1, 0, None, 'best'), (900000, 1.0, 0.7234277777777778, 15.0, None, 'gini', 200, 'sqrt', None, 1, 1, 0, None, 'best'), (900000, 1.0, 0.6986777777777777, 18.0, None, 'gini', 300, 'sqrt', None, 1, 1, 0, None, 'best'), (900000, 1.0, 0.6769277777777778, 17.0, None, 'gini', 400, 'sqrt', None, 1, 1, 0, None, 'best'), (900000, 1.0, 0.6741833333333334, 17.0, None, 'gini', 500, 'sqrt', None, 1, 1, 0, None, 'best'), (900000, 1.0, 0.6968944444444445, 15.0, None, 'gini', 600, 'sqrt', None, 1, 1, 0, None, 'best'), (900000, 1.0, 0.6852277777777778, 16.0, None, 'gini', 700, 'sqrt', None, 1, 1, 0, None, 'best'), (900000, 1.0, 0.67235, 16.0, None, 'gini', 800, 'sqrt', None, 1, 1, 0, None, 'best'), (900000, 1.0, 0.6800444444444445, 15.0, None, 'gini', 900, 'sqrt', None, 1, 1, 0, None, 'best'), (900000, 1.0, 0.6355888888888889, 9.0, None, 'gini', 100, 'sqrt', None, 1, 1, 0, None, 'random'), (900000, 1.0, 0.6262444444444445, 9.0, None, 'gini', 200, 'sqrt', None, 1, 1, 0, None, 'random'), (900000, 1.0, 0.6346888888888889, 10.0, None, 'gini', 300, 'sqrt', None, 1, 1, 0, None, 'random'), (900000, 1.0, 0.6360166666666667, 10.0, None, 'gini', 400, 'sqrt', None, 1, 1, 0, None, 'random'), (900000, 1.0, 0.6366222222222222, 10.0, None, 'gini', 500, 'sqrt', None, 1, 1, 0, None, 'random'), (900000, 1.0, 0.6273722222222222, 11.0, None, 'gini', 600, 'sqrt', None, 1, 1, 0, None, 'random'), (900000, 1.0, 0.6378166666666667, 9.0, None, 'gini', 700, 'sqrt', None, 1, 1, 0, None, 'random'), (900000, 1.0, 0.6399166666666667, 8.0, None, 'gini', 800, 'sqrt', None, 1, 1, 0, None, 'random'), (900000, 1.0, 0.6685833333333333, 9.0, None, 'gini', 900, 'sqrt', None, 1, 1, 0, None, 'random'), (900000, 1.0, 0.7022222222222222, 27.0, None, 'entropy', 100, 'sqrt', None, 1, 1, 0, None, 'best'), (900000, 1.0, 0.6976944444444444, 26.0, None, 'entropy', 200, 'sqrt', None, 1, 1, 0, None, 'best'), (900000, 1.0, 0.6917777777777778, 26.0, None, 'entropy', 300, 'sqrt', None, 1, 1, 0, None, 'best'), (900000, 1.0, 0.7094055555555555, 29.0, None, 'entropy', 400, 'sqrt', None, 1, 1, 0, None, 'best'), (900000, 1.0, 0.6939944444444445, 30.0, None, 'entropy', 500, 'sqrt', None, 1, 1, 0, None, 'best'), (900000, 1.0, 0.71295, 28.0, None, 'entropy', 600, 'sqrt', None, 1, 1, 0, None, 'best'), (900000, 1.0, 0.6955944444444444, 27.0, None, 'entropy', 700, 'sqrt', None, 1, 1, 0, None, 'best'), (900000, 1.0, 0.7000777777777778, 28.0, None, 'entropy', 800, 'sqrt', None, 1, 1, 0, None, 'best'), (900000, 1.0, 0.6987888888888889, 30.0, None, 'entropy', 900, 'sqrt', None, 1, 1, 0, None, 'best'), (900000, 1.0, 0.6393888888888889, 12.0, None, 'entropy', 100, 'sqrt', None, 1, 1, 0, None, 'random'), (900000, 1.0, 0.6444888888888889, 10.0, None, 'entropy', 200, 'sqrt', None, 1, 1, 0, None, 'random'), (900000, 1.0, 0.6300555555555556, 10.0, None, 'entropy', 300, 'sqrt', None, 1, 1, 0, None, 'random'), (900000, 1.0, 0.6372111111111111, 11.0, None, 'entropy', 400, 'sqrt', None, 1, 1, 0, None, 'random'), (900000, 1.0, 0.6330055555555556, 9.0, None, 'entropy', 500, 'sqrt', None, 1, 1, 0, None, 'random'), (900000, 1.0, 0.6536222222222222, 10.0, None, 'entropy', 600, 'sqrt', None, 1, 1, 0, None, 'random'), (900000, 1.0, 0.6588944444444444, 11.0, None, 'entropy', 700, 'sqrt', None, 1, 1, 0, None, 'random'), (900000, 1.0, 0.6761944444444444, 10.0, None, 'entropy', 800, 'sqrt', None, 1, 1, 0, None, 'random'), (900000, 1.0, 0.6631222222222222, 10.0, None, 'entropy', 900, 'sqrt', None, 1, 1, 0, None, 'random'), (900000, 1.0, 0.6702611111111111, 12.0, None, 'gini', 100, 'log2', None, 1, 1, 0, None, 'best'), (900000, 1.0, 0.6516611111111111, 12.0, None, 'gini', 200, 'log2', None, 1, 1, 0, None, 'best'), (900000, 1.0, 0.67875, 12.0, None, 'gini', 300, 'log2', None, 1, 1, 0, None, 'best'), (900000, 1.0, 0.6833277777777778, 13.0, None, 'gini', 400, 'log2', None, 1, 1, 0, None, 'best'), (900000, 1.0, 0.66955, 13.0, None, 'gini', 500, 'log2', None, 1, 1, 0, None, 'best'), (900000, 1.0, 0.6626388888888889, 12.0, None, 'gini', 600, 'log2', None, 1, 1, 0, None, 'best'), (900000, 1.0, 0.6516444444444445, 12.0, None, 'gini', 700, 'log2', None, 1, 1, 0, None, 'best'), (900000, 1.0, 0.6714, 13.0, None, 'gini', 800, 'log2', None, 1, 1, 0, None, 'best'), (900000, 1.0, 0.6637166666666666, 13.0, None, 'gini', 900, 'log2', None, 1, 1, 0, None, 'best'), (900000, 1.0, 0.6026722222222223, 7.0, None, 'gini', 100, 'log2', None, 1, 1, 0, None, 'random'), (900000, 1.0, 0.6133611111111111, 8.0, None, 'gini', 200, 'log2', None, 1, 1, 0, None, 'random'), (900000, 1.0, 0.6059777777777777, 7.0, None, 'gini', 300, 'log2', None, 1, 1, 0, None, 'random'), (900000, 1.0, 0.6069611111111111, 9.0, None, 'gini', 400, 'log2', None, 1, 1, 0, None, 'random'), (900000, 1.0, 0.6142833333333333, 8.0, None, 'gini', 500, 'log2', None, 1, 1, 0, None, 'random'), (900000, 1.0, 0.6172222222222222, 8.0, None, 'gini', 600, 'log2', None, 1, 1, 0, None, 'random'), (900000, 1.0, 0.6281888888888889, 9.0, None, 'gini', 700, 'log2', None, 1, 1, 0, None, 'random'), (900000, 1.0, 0.6090611111111112, 6.0, None, 'gini', 800, 'log2', None, 1, 1, 0, None, 'random'), (900000, 1.0, 0.6252, 7.0, None, 'gini', 900, 'log2', None, 1, 1, 0, None, 'random'), (900000, 1.0, 0.6787888888888889, 20.0, None, 'entropy', 100, 'log2', None, 1, 1, 0, None, 'best'), (900000, 1.0, 0.6549444444444444, 21.0, None, 'entropy', 200, 'log2', None, 1, 1, 0, None, 'best'), (900000, 1.0, 0.67305, 20.0, None, 'entropy', 300, 'log2', None, 1, 1, 0, None, 'best'), (900000, 1.0, 0.6520111111111111, 23.0, None, 'entropy', 400, 'log2', None, 1, 1, 0, None, 'best'), (900000, 1.0, 0.6863388888888889, 20.0, None, 'entropy', 500, 'log2', None, 1, 1, 0, None, 'best'), (900000, 1.0, 0.6655277777777778, 21.0, None, 'entropy', 600, 'log2', None, 1, 1, 0, None, 'best'), (900000, 1.0, 0.6874388888888889, 19.0, None, 'entropy', 700, 'log2', None, 1, 1, 0, None, 'best'), (900000, 1.0, 0.6536777777777778, 23.0, None, 'entropy', 800, 'log2', None, 1, 1, 0, None, 'best'), (900000, 1.0, 0.6734833333333333, 22.0, None, 'entropy', 900, 'log2', None, 1, 1, 0, None, 'best'), (900000, 1.0, 0.6090388888888889, 8.0, None, 'entropy', 100, 'log2', None, 1, 1, 0, None, 'random'), (900000, 1.0, 0.6073388888888889, 9.0, None, 'entropy', 200, 'log2', None, 1, 1, 0, None, 'random'), (900000, 1.0, 0.6087944444444444, 7.0, None, 'entropy', 300, 'log2', None, 1, 1, 0, None, 'random'), (900000, 1.0, 0.6481111111111111, 8.0, None, 'entropy', 400, 'log2', None, 1, 1, 0, None, 'random'), (900000, 1.0, 0.6074944444444444, 9.0, None, 'entropy', 500, 'log2', None, 1, 1, 0, None, 'random'), (900000, 1.0, 0.6137277777777778, 9.0, None, 'entropy', 600, 'log2', None, 1, 1, 0, None, 'random'), (900000, 1.0, 0.6530555555555555, 8.0, None, 'entropy', 700, 'log2', None, 1, 1, 0, None, 'random'), (900000, 1.0, 0.6177722222222222, 8.0, None, 'entropy', 800, 'log2', None, 1, 1, 0, None, 'random'), (900000, 1.0, 0.6322388888888889, 8.0, None, 'entropy', 900, 'log2', None, 1, 1, 0, None, 'random'), (900000, 1.0, 0.7647444444444444, 125.0, None, 'gini', 100, None, None, 1, 1, 0, None, 'best'), (900000, 1.0, 0.7656666666666667, 126.0, None, 'gini', 200, None, None, 1, 1, 0, None, 'best'), (900000, 1.0, 0.7648055555555555, 126.0, None, 'gini', 300, None, None, 1, 1, 0, None, 'best'), (900000, 1.0, 0.7661611111111111, 125.0, None, 'gini', 400, None, None, 1, 1, 0, None, 'best'), (900000, 1.0, 0.7652944444444445, 127.0, None, 'gini', 500, None, None, 1, 1, 0, None, 'best'), (900000, 1.0, 0.7652555555555556, 124.0, None, 'gini', 600, None, None, 1, 1, 0, None, 'best'), (900000, 1.0, 0.7659666666666667, 126.0, None, 'gini', 700, None, None, 1, 1, 0, None, 'best'), (900000, 1.0, 0.7659388888888888, 124.0, None, 'gini', 800, None, None, 1, 1, 0, None, 'best'), (900000, 1.0, 0.7654666666666666, 127.0, None, 'gini', 900, None, None, 1, 1, 0, None, 'best'), (900000, 1.0, 0.7552833333333333, 58.0, None, 'gini', 100, None, None, 1, 1, 0, None, 'random'), (900000, 1.0, 0.7532611111111112, 54.0, None, 'gini', 200, None, None, 1, 1, 0, None, 'random'), (900000, 1.0, 0.7546777777777778, 54.0, None, 'gini', 300, None, None, 1, 1, 0, None, 'random'), (900000, 1.0, 0.7514277777777778, 36.0, None, 'gini', 400, None, None, 1, 1, 0, None, 'random'), (900000, 1.0, 0.7511444444444444, 59.0, None, 'gini', 500, None, None, 1, 1, 0, None, 'random'), (900000, 1.0, 0.7509055555555556, 62.0, None, 'gini', 600, None, None, 1, 1, 0, None, 'random'), (900000, 1.0, 0.7547555555555555, 59.0, None, 'gini', 700, None, None, 1, 1, 0, None, 'random'), (900000, 1.0, 0.7501111111111111, 53.0, None, 'gini', 800, None, None, 1, 1, 0, None, 'random'), (900000, 1.0, 0.7556944444444444, 55.0, None, 'gini', 900, None, None, 1, 1, 0, None, 'random'), (900000, 1.0, 0.76975, 177.0, None, 'entropy', 100, None, None, 1, 1, 0, None, 'best'), (900000, 1.0, 0.7701833333333333, 174.0, None, 'entropy', 200, None, None, 1, 1, 0, None, 'best'), (900000, 1.0, 0.7709166666666667, 175.0, None, 'entropy', 300, None, None, 1, 1, 0, None, 'best'), (900000, 1.0, 0.7703555555555556, 178.0, None, 'entropy', 400, None, None, 1, 1, 0, None, 'best'), (900000, 1.0, 0.7697166666666667, 179.0, None, 'entropy', 500, None, None, 1, 1, 0, None, 'best'), (900000, 1.0, 0.7700222222222223, 176.0, None, 'entropy', 600, None, None, 1, 1, 0, None, 'best'), (900000, 1.0, 0.7699777777777778, 177.0, None, 'entropy', 700, None, None, 1, 1, 0, None, 'best'), (900000, 1.0, 0.7698555555555555, 178.0, None, 'entropy', 800, None, None, 1, 1, 0, None, 'best'), (900000, 1.0, 0.7702166666666667, 181.0, None, 'entropy', 900, None, None, 1, 1, 0, None, 'best'), (900000, 1.0, 0.7564833333333333, 67.0, None, 'entropy', 100, None, None, 1, 1, 0, None, 'random'), (900000, 1.0, 0.7562222222222222, 66.0, None, 'entropy', 200, None, None, 1, 1, 0, None, 'random'), (900000, 1.0, 0.7556333333333334, 55.0, None, 'entropy', 300, None, None, 1, 1, 0, None, 'random'), (900000, 1.0, 0.7572166666666666, 51.0, None, 'entropy', 400, None, None, 1, 1, 0, None, 'random'), (900000, 1.0, 0.7570833333333333, 56.0, None, 'entropy', 500, None, None, 1, 1, 0, None, 'random'), (900000, 1.0, 0.7553888888888889, 62.0, None, 'entropy', 600, None, None, 1, 1, 0, None, 'random'), (900000, 1.0, 0.7556833333333334, 63.0, None, 'entropy', 700, None, None, 1, 1, 0, None, 'random'), (900000, 1.0, 0.7573055555555556, 44.0, None, 'entropy', 800, None, None, 1, 1, 0, None, 'random'), (900000, 1.0, 0.7574055555555556, 55.0, None, 'entropy', 900, None, None, 1, 1, 0, None, 'random')]\n"
       ]
      }
     ]
    },
    {
     "cell_type": "code",
     "collapsed": false,
     "input": [
      "FOM=[]\n",
      "print FOM\n",
      "for i, iCase in enumerate(mapAlgo):\n",
      "    FOM.append(iCase[2])\n"
     ],
     "language": "python",
     "metadata": {},
     "outputs": [],
     "prompt_number": 9
    },
    {
     "cell_type": "code",
     "collapsed": false,
     "input": [
      "plt.hist(FOM,bins=100)"
     ],
     "language": "python",
     "metadata": {},
     "outputs": [
      {
       "metadata": {},
       "output_type": "pyout",
       "prompt_number": 11,
       "text": [
        "(array([  1.,   1.,   2.,   4.,   5.,   2.,   8.,   9.,  11.,   6.,  12.,\n",
        "         15.,  16.,  12.,  18.,  18.,  16.,  18.,  17.,  19.,  25.,  33.,\n",
        "         19.,  15.,  18.,  17.,  25.,  19.,  23.,  26.,  24.,  16.,  14.,\n",
        "          8.,  10.,  15.,  14.,  19.,  18.,  14.,  18.,  21.,  18.,   9.,\n",
        "         14.,  15.,  22.,  18.,   6.,  24.,  13.,  12.,  15.,  17.,  17.,\n",
        "         14.,   9.,  18.,  13.,  14.,  13.,   6.,  13.,   6.,   8.,  10.,\n",
        "         10.,   3.,   2.,   3.,   3.,   1.,   1.,   2.,   1.,   2.,   0.,\n",
        "          3.,   6.,   7.,   5.,   7.,   2.,   7.,   7.,  10.,  11.,  27.,\n",
        "         35.,  22.,  24.,   9.,  12.,  15.,  18.,  33.,  24.,  17.,  13.,\n",
        "          9.]),\n",
        " array([ 0.58785   ,  0.58969981,  0.59154962,  0.59339944,  0.59524925,\n",
        "         0.59709906,  0.59894887,  0.60079869,  0.6026485 ,  0.60449831,\n",
        "         0.60634813,  0.60819794,  0.61004775,  0.61189756,  0.61374737,\n",
        "         0.61559719,  0.617447  ,  0.61929681,  0.62114662,  0.62299644,\n",
        "         0.62484625,  0.62669606,  0.62854588,  0.63039569,  0.6322455 ,\n",
        "         0.63409531,  0.63594512,  0.63779494,  0.63964475,  0.64149456,\n",
        "         0.64334437,  0.64519419,  0.647044  ,  0.64889381,  0.65074362,\n",
        "         0.65259344,  0.65444325,  0.65629306,  0.65814288,  0.65999269,\n",
        "         0.6618425 ,  0.66369231,  0.66554212,  0.66739194,  0.66924175,\n",
        "         0.67109156,  0.67294137,  0.67479119,  0.676641  ,  0.67849081,\n",
        "         0.68034062,  0.68219044,  0.68404025,  0.68589006,  0.68773988,\n",
        "         0.68958969,  0.6914395 ,  0.69328931,  0.69513912,  0.69698894,\n",
        "         0.69883875,  0.70068856,  0.70253837,  0.70438819,  0.706238  ,\n",
        "         0.70808781,  0.70993763,  0.71178744,  0.71363725,  0.71548706,\n",
        "         0.71733687,  0.71918669,  0.7210365 ,  0.72288631,  0.72473612,\n",
        "         0.72658594,  0.72843575,  0.73028556,  0.73213537,  0.73398519,\n",
        "         0.735835  ,  0.73768481,  0.73953463,  0.74138444,  0.74323425,\n",
        "         0.74508406,  0.74693387,  0.74878369,  0.7506335 ,  0.75248331,\n",
        "         0.75433312,  0.75618294,  0.75803275,  0.75988256,  0.76173238,\n",
        "         0.76358219,  0.765432  ,  0.76728181,  0.76913162,  0.77098144,\n",
        "         0.77283125]),\n",
        " <a list of 100 Patch objects>)"
       ]
      },
      {
       "metadata": {},
       "output_type": "display_data",
       "png": "[encoded data removed]",
       "text": [
        "<matplotlib.figure.Figure at 0x7f441cbb5710>"
       ]
      }
     ],
     "prompt_number": 11
    },
    {
     "cell_type": "code",
     "collapsed": false,
     "input": [],
     "language": "python",
     "metadata": {},
     "outputs": []
    }
   ],
   "metadata": {}
  }
 ]
}